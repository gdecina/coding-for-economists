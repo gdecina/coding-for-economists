{
 "cells": [
  {
   "cell_type": "markdown",
   "metadata": {},
   "source": [
    "# Natural Language Processing\n",
    "\n",
    "This chapter covers text analysis, also known as natural language processing. We'll cover tokenisation of text, removing stop words, counting words, performing other statistics on words, and analysing the parts of speech. The focus here is on English, but many of the methods-and even the libraries-are relevant to other languages too.\n",
    "\n",
    "## Introduction\n",
    "\n",
    "When doing NLP, it's worth thinking carefully about the unit of analysis: is it a corpus, a text, a line, a paragraph, a sentence, a word, or even a character? It could also be two of these simultaneously, and working with document x token matrices is one very common way of doing NLP. Although we'll be mixing between a few of these in this chapter, thinking about what the block of text data you're working with will really help you keep track of what operations are being deployed and how they might interact.\n",
    "\n",
    "In case it's also useful to know, three of the most loved NLP packages are [**nltk**](https://www.nltk.org/), [**spaCy**](https://spacy.io/), and [**gensim**](https://radimrehurek.com/gensim/). As you progress through the chapter, you should also bear in mind that some of the methods we'll see are computationally expensive and you might want to fall back on simpler approaches, such as those seen in the previous chapter, if you have large volumes of text.\n",
    "\n",
    "In this chapter, we'll use a single example and using NLP on it in a few different ways. First, though, we need to read in the text data we'll be using, part of Adam Smith's *The Wealth of Nations* and do some light cleaning of it.\n",
    "\n",
    "Initially, we'll read in our text so that each new line appears on a different row of a **pandas** dataframe. We will end up working with it both as a vector of lines and, later, as a vector of lists of words. We'll also import the packages we'll need; remember, you may need to install these first and the Chapter on {ref}`code-preliminaries` provides a brief guide on how to do this."
   ]
  },
  {
   "cell_type": "code",
   "execution_count": 3,
   "metadata": {},
   "outputs": [],
   "source": [
    "import pandas as pd\n",
    "import string\n",
    "import matplotlib.pyplot as plt"
   ]
  },
  {
   "cell_type": "code",
   "execution_count": 4,
   "id": "51a55374",
   "metadata": {
    "tags": [
     "remove-cell"
    ]
   },
   "outputs": [],
   "source": [
    "import matplotlib_inline.backend_inline\n",
    "\n",
    "# Plot settings\n",
    "plt.style.use(\n",
    "    \"https://github.com/aeturrell/coding-for-economists/raw/main/plot_style.txt\"\n",
    ")\n",
    "matplotlib_inline.backend_inline.set_matplotlib_formats(\"svg\")\n",
    "\n",
    "# Set max rows displayed for readability\n",
    "pd.set_option(\"display.max_rows\", 6)"
   ]
  },
  {
   "cell_type": "code",
   "execution_count": 5,
   "metadata": {},
   "outputs": [
    {
     "data": {
      "text/html": [
       "<div>\n",
       "<style scoped>\n",
       "    .dataframe tbody tr th:only-of-type {\n",
       "        vertical-align: middle;\n",
       "    }\n",
       "\n",
       "    .dataframe tbody tr th {\n",
       "        vertical-align: top;\n",
       "    }\n",
       "\n",
       "    .dataframe thead th {\n",
       "        text-align: right;\n",
       "    }\n",
       "</style>\n",
       "<table border=\"1\" class=\"dataframe\">\n",
       "  <thead>\n",
       "    <tr style=\"text-align: right;\">\n",
       "      <th></th>\n",
       "      <th>text</th>\n",
       "    </tr>\n",
       "  </thead>\n",
       "  <tbody>\n",
       "    <tr>\n",
       "      <th>0</th>\n",
       "      <td>An Inquiry into the Nature and Causes of the...</td>\n",
       "    </tr>\n",
       "    <tr>\n",
       "      <th>1</th>\n",
       "      <td>POWERS OF LABOUR, AND OF THE ORDER ACCORDING T...</td>\n",
       "    </tr>\n",
       "    <tr>\n",
       "      <th>2</th>\n",
       "      <td>DISTRIBUTED AMONG THE DIFFERENT RANKS OF THE P...</td>\n",
       "    </tr>\n",
       "    <tr>\n",
       "      <th>3</th>\n",
       "      <td>DIVISION OF LABOUR.     CHAPTER III. THAT THE ...</td>\n",
       "    </tr>\n",
       "    <tr>\n",
       "      <th>4</th>\n",
       "      <td>THE EXTENT OF THE MARKET.     CHAPTER IV. OF T...</td>\n",
       "    </tr>\n",
       "  </tbody>\n",
       "</table>\n",
       "</div>"
      ],
      "text/plain": [
       "                                                text\n",
       "0    An Inquiry into the Nature and Causes of the...\n",
       "1  POWERS OF LABOUR, AND OF THE ORDER ACCORDING T...\n",
       "2  DISTRIBUTED AMONG THE DIFFERENT RANKS OF THE P...\n",
       "3  DIVISION OF LABOUR.     CHAPTER III. THAT THE ...\n",
       "4  THE EXTENT OF THE MARKET.     CHAPTER IV. OF T..."
      ]
     },
     "execution_count": 5,
     "metadata": {},
     "output_type": "execute_result"
    }
   ],
   "source": [
    "df = pd.read_csv(\n",
    "    \"https://github.com/aeturrell/coding-for-economists/raw/main/data/smith_won.txt\",\n",
    "    delimiter=\"\\t\",\n",
    "    names=[\"text\"],\n",
    ")\n",
    "df.head()"
   ]
  },
  {
   "cell_type": "markdown",
   "metadata": {},
   "source": [
    "We need to do a bit of light text cleaning before we get on to the more in-depth natural language processing. We'll make use of vectorised string operations as seen in the {ref}`text-intro` chapter. First, we want to put everything in lower case:\n"
   ]
  },
  {
   "cell_type": "code",
   "execution_count": 6,
   "metadata": {},
   "outputs": [
    {
     "data": {
      "text/html": [
       "<div>\n",
       "<style scoped>\n",
       "    .dataframe tbody tr th:only-of-type {\n",
       "        vertical-align: middle;\n",
       "    }\n",
       "\n",
       "    .dataframe tbody tr th {\n",
       "        vertical-align: top;\n",
       "    }\n",
       "\n",
       "    .dataframe thead th {\n",
       "        text-align: right;\n",
       "    }\n",
       "</style>\n",
       "<table border=\"1\" class=\"dataframe\">\n",
       "  <thead>\n",
       "    <tr style=\"text-align: right;\">\n",
       "      <th></th>\n",
       "      <th>text</th>\n",
       "    </tr>\n",
       "  </thead>\n",
       "  <tbody>\n",
       "    <tr>\n",
       "      <th>0</th>\n",
       "      <td>an inquiry into the nature and causes of the...</td>\n",
       "    </tr>\n",
       "    <tr>\n",
       "      <th>1</th>\n",
       "      <td>powers of labour, and of the order according t...</td>\n",
       "    </tr>\n",
       "    <tr>\n",
       "      <th>2</th>\n",
       "      <td>distributed among the different ranks of the p...</td>\n",
       "    </tr>\n",
       "    <tr>\n",
       "      <th>3</th>\n",
       "      <td>division of labour.     chapter iii. that the ...</td>\n",
       "    </tr>\n",
       "    <tr>\n",
       "      <th>4</th>\n",
       "      <td>the extent of the market.     chapter iv. of t...</td>\n",
       "    </tr>\n",
       "  </tbody>\n",
       "</table>\n",
       "</div>"
      ],
      "text/plain": [
       "                                                text\n",
       "0    an inquiry into the nature and causes of the...\n",
       "1  powers of labour, and of the order according t...\n",
       "2  distributed among the different ranks of the p...\n",
       "3  division of labour.     chapter iii. that the ...\n",
       "4  the extent of the market.     chapter iv. of t..."
      ]
     },
     "execution_count": 6,
     "metadata": {},
     "output_type": "execute_result"
    }
   ],
   "source": [
    "df[\"text\"] = df[\"text\"].str.lower()\n",
    "df.head()"
   ]
  },
  {
   "cell_type": "markdown",
   "metadata": {},
   "source": [
    "Next, we'll remove the punctuation from the text. You may not always wish to do this but it's a good default."
   ]
  },
  {
   "cell_type": "code",
   "execution_count": 7,
   "metadata": {},
   "outputs": [
    {
     "data": {
      "text/html": [
       "<div>\n",
       "<style scoped>\n",
       "    .dataframe tbody tr th:only-of-type {\n",
       "        vertical-align: middle;\n",
       "    }\n",
       "\n",
       "    .dataframe tbody tr th {\n",
       "        vertical-align: top;\n",
       "    }\n",
       "\n",
       "    .dataframe thead th {\n",
       "        text-align: right;\n",
       "    }\n",
       "</style>\n",
       "<table border=\"1\" class=\"dataframe\">\n",
       "  <thead>\n",
       "    <tr style=\"text-align: right;\">\n",
       "      <th></th>\n",
       "      <th>text</th>\n",
       "    </tr>\n",
       "  </thead>\n",
       "  <tbody>\n",
       "    <tr>\n",
       "      <th>0</th>\n",
       "      <td>an inquiry into the nature and causes of the...</td>\n",
       "    </tr>\n",
       "    <tr>\n",
       "      <th>1</th>\n",
       "      <td>powers of labour and of the order according to...</td>\n",
       "    </tr>\n",
       "    <tr>\n",
       "      <th>2</th>\n",
       "      <td>distributed among the different ranks of the p...</td>\n",
       "    </tr>\n",
       "    <tr>\n",
       "      <th>3</th>\n",
       "      <td>division of labour     chapter iii that the di...</td>\n",
       "    </tr>\n",
       "    <tr>\n",
       "      <th>4</th>\n",
       "      <td>the extent of the market     chapter iv of the...</td>\n",
       "    </tr>\n",
       "  </tbody>\n",
       "</table>\n",
       "</div>"
      ],
      "text/plain": [
       "                                                text\n",
       "0    an inquiry into the nature and causes of the...\n",
       "1  powers of labour and of the order according to...\n",
       "2  distributed among the different ranks of the p...\n",
       "3  division of labour     chapter iii that the di...\n",
       "4  the extent of the market     chapter iv of the..."
      ]
     },
     "execution_count": 7,
     "metadata": {},
     "output_type": "execute_result"
    }
   ],
   "source": [
    "translator = string.punctuation.maketrans({x: \"\" for x in string.punctuation})\n",
    "df[\"text\"] = df[\"text\"].str.translate(translator)\n",
    "df.head()"
   ]
  },
  {
   "cell_type": "markdown",
   "metadata": {},
   "source": [
    "Okay, we now have rows and rows of lower case words without punctuation.\n",
    "\n",
    "```{admonition} Exercise\n",
    "Remove all vowels from the vector of text using `str.translate`.\n",
    "```"
   ]
  },
  {
   "cell_type": "markdown",
   "metadata": {},
   "source": [
    "While we're doing some text cleaning, let's also remove the excess whitespace found in, for example, the first entry. Leaning on the cleaning methods from the previous chapter, we'll use regular expressions to do this:\n"
   ]
  },
  {
   "cell_type": "code",
   "execution_count": 8,
   "metadata": {},
   "outputs": [],
   "source": [
    "df[\"text\"] = df[\"text\"].str.replace(\"\\s+?\\W+\", \" \", regex=True)"
   ]
  },
  {
   "cell_type": "markdown",
   "metadata": {},
   "source": [
    "This searches for multiple whitespaces that preceede non-word characters and replaces them with a single whitespace."
   ]
  },
  {
   "cell_type": "markdown",
   "metadata": {},
   "source": [
    "## Tokenisation\n",
    "\n",
    "We're going to now see an example of tokenisation: the process of taking blocks of text and breaking them down into tokens, most commonly a word but potentially all one and two word pairs. Note that you might sometimes see all two word pairs referred to as 2-grams, with an n-gram being all phrases of n words. There are many ways to tokenise text; we'll look at two of the most common: using regular expressions and using pre-configured NLP packages.\n",
    "\n",
    "### Tokenisation with regular expressions\n",
    "\n",
    "Because regular expressions excel at finding patterns in text, they can also be used to decide where to split text up into tokens. For a very simple example, let's take the first line of our text example:"
   ]
  },
  {
   "cell_type": "code",
   "execution_count": 9,
   "metadata": {},
   "outputs": [
    {
     "data": {
      "text/plain": [
       "['an',\n",
       " 'inquiry',\n",
       " 'into',\n",
       " 'the',\n",
       " 'nature',\n",
       " 'and',\n",
       " 'causes',\n",
       " 'of',\n",
       " 'the',\n",
       " 'wealth',\n",
       " 'of',\n",
       " 'nations',\n",
       " 'by',\n",
       " 'adam',\n",
       " 'smith',\n",
       " 'contents',\n",
       " 'introduction',\n",
       " 'and',\n",
       " 'plan',\n",
       " 'of',\n",
       " 'the',\n",
       " 'work',\n",
       " 'book',\n",
       " 'i',\n",
       " 'of',\n",
       " 'the',\n",
       " 'causes',\n",
       " 'of',\n",
       " 'improvement',\n",
       " 'in',\n",
       " 'the',\n",
       " 'productive']"
      ]
     },
     "execution_count": 9,
     "metadata": {},
     "output_type": "execute_result"
    }
   ],
   "source": [
    "import re\n",
    "\n",
    "word_pattern = r\"\\w+\"\n",
    "tokens = re.findall(word_pattern, df.iloc[0, 0])\n",
    "tokens"
   ]
  },
  {
   "cell_type": "markdown",
   "metadata": {},
   "source": [
    "This produced a split of a single line into one word tokens that are represented by a list of strings. We could have also asked for other variations, eg sentences, by asking to split at every \".\". \n"
   ]
  },
  {
   "cell_type": "markdown",
   "metadata": {},
   "source": [
    "### Tokenisation using NLP tools\n",
    "\n",
    "Many of the NLP packages available in Python come with built-in tokenisation tools. We'll use nltk for tokenisation.\n"
   ]
  },
  {
   "cell_type": "code",
   "execution_count": 10,
   "metadata": {},
   "outputs": [
    {
     "data": {
      "text/plain": [
       "['an',\n",
       " 'inquiry',\n",
       " 'into',\n",
       " 'the',\n",
       " 'nature',\n",
       " 'and',\n",
       " 'causes',\n",
       " 'of',\n",
       " 'the',\n",
       " 'wealth',\n",
       " 'of',\n",
       " 'nations',\n",
       " 'by',\n",
       " 'adam',\n",
       " 'smith',\n",
       " 'contents',\n",
       " 'introduction',\n",
       " 'and',\n",
       " 'plan',\n",
       " 'of',\n",
       " 'the',\n",
       " 'work',\n",
       " 'book',\n",
       " 'i',\n",
       " 'of',\n",
       " 'the',\n",
       " 'causes',\n",
       " 'of',\n",
       " 'improvement',\n",
       " 'in',\n",
       " 'the',\n",
       " 'productive']"
      ]
     },
     "execution_count": 10,
     "metadata": {},
     "output_type": "execute_result"
    }
   ],
   "source": [
    "from nltk.tokenize import word_tokenize\n",
    "\n",
    "word_tokenize(df.iloc[0, 0])"
   ]
  },
  {
   "cell_type": "markdown",
   "metadata": {},
   "source": [
    "We have the same results as before when we used regex. Now let's scale this tokenisation up to our whole corpus while retaining the lines of text, giving us a structure of the form (lines x tokens):"
   ]
  },
  {
   "cell_type": "code",
   "execution_count": 11,
   "metadata": {},
   "outputs": [
    {
     "data": {
      "text/html": [
       "<div>\n",
       "<style scoped>\n",
       "    .dataframe tbody tr th:only-of-type {\n",
       "        vertical-align: middle;\n",
       "    }\n",
       "\n",
       "    .dataframe tbody tr th {\n",
       "        vertical-align: top;\n",
       "    }\n",
       "\n",
       "    .dataframe thead th {\n",
       "        text-align: right;\n",
       "    }\n",
       "</style>\n",
       "<table border=\"1\" class=\"dataframe\">\n",
       "  <thead>\n",
       "    <tr style=\"text-align: right;\">\n",
       "      <th></th>\n",
       "      <th>text</th>\n",
       "      <th>tokens</th>\n",
       "    </tr>\n",
       "  </thead>\n",
       "  <tbody>\n",
       "    <tr>\n",
       "      <th>0</th>\n",
       "      <td>an inquiry into the nature and causes of the ...</td>\n",
       "      <td>[an, inquiry, into, the, nature, and, causes, ...</td>\n",
       "    </tr>\n",
       "    <tr>\n",
       "      <th>1</th>\n",
       "      <td>powers of labour and of the order according to...</td>\n",
       "      <td>[powers, of, labour, and, of, the, order, acco...</td>\n",
       "    </tr>\n",
       "    <tr>\n",
       "      <th>2</th>\n",
       "      <td>distributed among the different ranks of the p...</td>\n",
       "      <td>[distributed, among, the, different, ranks, of...</td>\n",
       "    </tr>\n",
       "    <tr>\n",
       "      <th>3</th>\n",
       "      <td>division of labour chapter iii that the divisi...</td>\n",
       "      <td>[division, of, labour, chapter, iii, that, the...</td>\n",
       "    </tr>\n",
       "    <tr>\n",
       "      <th>4</th>\n",
       "      <td>the extent of the market chapter iv of the ori...</td>\n",
       "      <td>[the, extent, of, the, market, chapter, iv, of...</td>\n",
       "    </tr>\n",
       "  </tbody>\n",
       "</table>\n",
       "</div>"
      ],
      "text/plain": [
       "                                                text  \\\n",
       "0   an inquiry into the nature and causes of the ...   \n",
       "1  powers of labour and of the order according to...   \n",
       "2  distributed among the different ranks of the p...   \n",
       "3  division of labour chapter iii that the divisi...   \n",
       "4  the extent of the market chapter iv of the ori...   \n",
       "\n",
       "                                              tokens  \n",
       "0  [an, inquiry, into, the, nature, and, causes, ...  \n",
       "1  [powers, of, labour, and, of, the, order, acco...  \n",
       "2  [distributed, among, the, different, ranks, of...  \n",
       "3  [division, of, labour, chapter, iii, that, the...  \n",
       "4  [the, extent, of, the, market, chapter, iv, of...  "
      ]
     },
     "execution_count": 11,
     "metadata": {},
     "output_type": "execute_result"
    }
   ],
   "source": [
    "df[\"tokens\"] = df[\"text\"].apply(lambda x: word_tokenize(x))\n",
    "df.head()"
   ]
  },
  {
   "cell_type": "markdown",
   "metadata": {},
   "source": [
    "**nltk** also has a `sent_tokenize` function that tokenises sentences, although as it makes use of punctuation you must take care with what pre-cleaning of text you undertake.\n"
   ]
  },
  {
   "cell_type": "markdown",
   "metadata": {},
   "source": [
    "## Removing Stop Words\n",
    "\n",
    "Stop words are frequent but uninformative words such as 'that', 'which', 'the', 'is', 'and', and 'but'. These words tend to be very common in the English language, but knowing that they appear frequently in a corpus doesn't really tell us much. Therefore, it is quite common to strip these 'stop' words out of text before doing any count-based analysis (or to use methods that implicitly ignore them). Many NLP libraries come with built-in methods that remove stop words. \n",
    "\n",
    "In this example of removing stop words, we'll use the [**nltk**](https://www.nltk.org/) library. We'll filter out any stopwords from the first entry in the tokens columns of our dataframe. Note that stop are often an add-on to a base library, and so are not always available from installing a package alone-one often needs to download the stop words relevant to whatever language you're working with.\n"
   ]
  },
  {
   "cell_type": "code",
   "execution_count": 12,
   "metadata": {},
   "outputs": [
    {
     "data": {
      "text/plain": [
       "['inquiry',\n",
       " 'nature',\n",
       " 'causes',\n",
       " 'wealth',\n",
       " 'nations',\n",
       " 'adam',\n",
       " 'smith',\n",
       " 'contents',\n",
       " 'introduction',\n",
       " 'plan',\n",
       " 'work',\n",
       " 'book',\n",
       " 'causes',\n",
       " 'improvement',\n",
       " 'productive']"
      ]
     },
     "execution_count": 12,
     "metadata": {},
     "output_type": "execute_result"
    }
   ],
   "source": [
    "import nltk\n",
    "\n",
    "stopwords = nltk.corpus.stopwords.words(\n",
    "    \"english\"\n",
    ")  # Note that you may need to download these on your machine using nltk.download() within Python\n",
    "words_filtered = [\n",
    "    word.lower() for word in df.loc[0, \"tokens\"] if word.lower() not in stopwords\n",
    "]\n",
    "words_filtered"
   ]
  },
  {
   "cell_type": "markdown",
   "metadata": {},
   "source": [
    "Having filtered the first entry, we can see that words such as 'an' and 'into' have disappeared but we have retained more informative words such as 'inquiry' and 'nature'. Processing one entry is not enough: we need all of the lines to have stopwords removed. So we can now scale this up to the full corpus with **pandas**. Just as we did above, we'll use a list comprehension to do this: but we'll vectorise the list comprehension across the whole \"tokens\" series of our dataframe."
   ]
  },
  {
   "cell_type": "code",
   "execution_count": 13,
   "metadata": {},
   "outputs": [
    {
     "data": {
      "text/html": [
       "<div>\n",
       "<style scoped>\n",
       "    .dataframe tbody tr th:only-of-type {\n",
       "        vertical-align: middle;\n",
       "    }\n",
       "\n",
       "    .dataframe tbody tr th {\n",
       "        vertical-align: top;\n",
       "    }\n",
       "\n",
       "    .dataframe thead th {\n",
       "        text-align: right;\n",
       "    }\n",
       "</style>\n",
       "<table border=\"1\" class=\"dataframe\">\n",
       "  <thead>\n",
       "    <tr style=\"text-align: right;\">\n",
       "      <th></th>\n",
       "      <th>text</th>\n",
       "      <th>tokens</th>\n",
       "    </tr>\n",
       "  </thead>\n",
       "  <tbody>\n",
       "    <tr>\n",
       "      <th>0</th>\n",
       "      <td>an inquiry into the nature and causes of the ...</td>\n",
       "      <td>[inquiry, nature, causes, wealth, nations, ada...</td>\n",
       "    </tr>\n",
       "    <tr>\n",
       "      <th>1</th>\n",
       "      <td>powers of labour and of the order according to...</td>\n",
       "      <td>[powers, labour, order, according, produce, na...</td>\n",
       "    </tr>\n",
       "    <tr>\n",
       "      <th>2</th>\n",
       "      <td>distributed among the different ranks of the p...</td>\n",
       "      <td>[distributed, among, different, ranks, people,...</td>\n",
       "    </tr>\n",
       "    <tr>\n",
       "      <th>3</th>\n",
       "      <td>division of labour chapter iii that the divisi...</td>\n",
       "      <td>[division, labour, chapter, iii, division, lab...</td>\n",
       "    </tr>\n",
       "    <tr>\n",
       "      <th>4</th>\n",
       "      <td>the extent of the market chapter iv of the ori...</td>\n",
       "      <td>[extent, market, chapter, iv, origin, use, mon...</td>\n",
       "    </tr>\n",
       "  </tbody>\n",
       "</table>\n",
       "</div>"
      ],
      "text/plain": [
       "                                                text  \\\n",
       "0   an inquiry into the nature and causes of the ...   \n",
       "1  powers of labour and of the order according to...   \n",
       "2  distributed among the different ranks of the p...   \n",
       "3  division of labour chapter iii that the divisi...   \n",
       "4  the extent of the market chapter iv of the ori...   \n",
       "\n",
       "                                              tokens  \n",
       "0  [inquiry, nature, causes, wealth, nations, ada...  \n",
       "1  [powers, labour, order, according, produce, na...  \n",
       "2  [distributed, among, different, ranks, people,...  \n",
       "3  [division, labour, chapter, iii, division, lab...  \n",
       "4  [extent, market, chapter, iv, origin, use, mon...  "
      ]
     },
     "execution_count": 13,
     "metadata": {},
     "output_type": "execute_result"
    }
   ],
   "source": [
    "df[\"tokens\"] = df[\"tokens\"].apply(\n",
    "    lambda x: [word.lower() for word in x if word.lower() not in stopwords]\n",
    ")\n",
    "df.head()"
   ]
  },
  {
   "cell_type": "markdown",
   "metadata": {},
   "source": [
    "Now we have a much reduced set of words in our tokens, which will make the next step of analysis more meaningful."
   ]
  },
  {
   "cell_type": "markdown",
   "metadata": {},
   "source": [
    "## Counting Text\n",
    "\n",
    "There are several ways of performing basic counting statistics on text. We saw one in the previous chapter, `str.count()`, but that only applies to one word at a time. Often, we're interested in the relative counts of words in a corpus. In this section, we'll look at two powerful ways of computing this: using the `Counter` function and via term frequenc-inverse document frequency.\n",
    "\n",
    "First, `Counter`, which is a built-in Python library that does pretty much what you'd expect. Here's a simple example:\n"
   ]
  },
  {
   "cell_type": "code",
   "execution_count": 14,
   "metadata": {},
   "outputs": [
    {
     "data": {
      "text/plain": [
       "Counter({'apple': 2, 'orange': 3, 'satsuma': 2, 'banana': 1, 'mango': 1})"
      ]
     },
     "execution_count": 14,
     "metadata": {},
     "output_type": "execute_result"
    }
   ],
   "source": [
    "from collections import Counter\n",
    "\n",
    "fruit_list = [\n",
    "    \"apple\",\n",
    "    \"apple\",\n",
    "    \"orange\",\n",
    "    \"satsuma\",\n",
    "    \"banana\",\n",
    "    \"orange\",\n",
    "    \"mango\",\n",
    "    \"satsuma\",\n",
    "    \"orange\",\n",
    "]\n",
    "freq = Counter(fruit_list)\n",
    "freq"
   ]
  },
  {
   "cell_type": "markdown",
   "metadata": {},
   "source": [
    "Counter returns a `collections.Counter` object where the numbers of each type in a given input list are summed. The resulting dictionnary of unique counts can be extracted using `dict(freq)`, and `Counter` has some other useful functions too including `most_common()` which, given a number `n`, returns `n` tuples of the form `(thing, count)`:"
   ]
  },
  {
   "cell_type": "code",
   "execution_count": 15,
   "metadata": {},
   "outputs": [
    {
     "data": {
      "text/plain": [
       "[('orange', 3), ('apple', 2), ('satsuma', 2), ('banana', 1), ('mango', 1)]"
      ]
     },
     "execution_count": 15,
     "metadata": {},
     "output_type": "execute_result"
    }
   ],
   "source": [
    "freq.most_common(10)"
   ]
  },
  {
   "cell_type": "markdown",
   "metadata": {},
   "source": [
    "Say we wanted to apply this not just to every line in our corpus separately, but to our whole corpus in one go; how would we do it? `Counter` will happily accept a list but our dataframe token column is currently a vector of lists. So we must first transform the token column to a single list of all tokens and then apply `Counter`. To achieve the former and flatten a list of lists, we'll use `itertools` chain function which makes an iterator that returns elements from the first iterable until it is exhausted, then proceeds to the next iterable, until all of the iterables in all inputs are exhausted. For example, given `[a, b, c]` and `[d, e, f]` as arguments, this function would return `[a, b, c, d, e, f]`. Because this function accepts an arbitrary number of iterable arguments, we use the splat operator, aka `*`, to tell it to expect lots of different arguments. The second step using `Counter` is far more straightforward!"
   ]
  },
  {
   "cell_type": "code",
   "execution_count": 16,
   "metadata": {},
   "outputs": [
    {
     "data": {
      "text/plain": [
       "[('price', 775),\n",
       " ('labour', 578),\n",
       " ('quantity', 389),\n",
       " ('greater', 386),\n",
       " ('part', 376),\n",
       " ('silver', 355),\n",
       " ('one', 330),\n",
       " ('much', 323),\n",
       " ('upon', 322),\n",
       " ('may', 313)]"
      ]
     },
     "execution_count": 16,
     "metadata": {},
     "output_type": "execute_result"
    }
   ],
   "source": [
    "import itertools\n",
    "\n",
    "merged_list = list(itertools.chain(*df[\"tokens\"].to_list()))\n",
    "freq = Counter(merged_list)\n",
    "freq.most_common(10)"
   ]
  },
  {
   "cell_type": "markdown",
   "metadata": {},
   "source": [
    "Looking at the tuples representing the 10 most words in the corpus, there are some interesting patterns. \"price\" and \"labour\" are hardly surprises, while \"silver\" perhaps reflects the time in which the book was written a little more. \"one\", \"upon\", and \"may\" are candidates for context-specific stopwords; while our NLTK stopwords might work well for modern text, they omit words that were once more common but that are equally uninformative to the stopwords we did use. There's no reason why these words couldn't be added to our list of stopwords and the process re-run.\n",
    "\n",
    "```{admonition} Exercise\n",
    "Extend the list of stopwords to include 'may', 'upon', 'one', and 'much', re-create the filtered tokens, and compute the 10 most common terms.\n",
    "```"
   ]
  },
  {
   "cell_type": "markdown",
   "metadata": {},
   "source": [
    "## Sentence Tokenisation (and reading in text as sentences)\n",
    "\n",
    "So far we have been working with text that is split into lines and then tokenised into words. But working with lines of text is not always the most natural unit of analysis; sometimes sentences make more sense. So let's now work with sentences and see an example of tokenising those.\n",
    "\n",
    "First, we need to read in the text as sentences. We can't do this with pandas, because that package is limited to tabular data or very simple delimiters (like commas).\n",
    "\n",
    "If we were working with a local file on our computer, we could read it in using the following code\n",
    "\n",
    "```python\n",
    "with open('smith_won.txt') as f:\n",
    "    raw_text = f.read()\n",
    "```\n",
    "\n",
    "As it is, the text file we'd like to grab is on the web so we'll use a package that can grab files from the internet to get hold of it."
   ]
  },
  {
   "cell_type": "code",
   "execution_count": 17,
   "metadata": {},
   "outputs": [
    {
     "data": {
      "text/plain": [
       "'  An Inquiry into the Nature and Causes of the Wealth of Nations  by Adam Smith   Contents     INTRO'"
      ]
     },
     "execution_count": 17,
     "metadata": {},
     "output_type": "execute_result"
    }
   ],
   "source": [
    "import requests\n",
    "\n",
    "response = requests.get(\n",
    "    \"https://github.com/aeturrell/coding-for-economists/raw/main/data/smith_won.txt\"\n",
    ")\n",
    "raw_text = response.text\n",
    "raw_text[:100]"
   ]
  },
  {
   "cell_type": "markdown",
   "metadata": {},
   "source": [
    "Great, so we have our raw text. Let's now tokenise it using **nltk**.\n"
   ]
  },
  {
   "cell_type": "code",
   "execution_count": 18,
   "metadata": {},
   "outputs": [
    {
     "data": {
      "text/html": [
       "<div>\n",
       "<style scoped>\n",
       "    .dataframe tbody tr th:only-of-type {\n",
       "        vertical-align: middle;\n",
       "    }\n",
       "\n",
       "    .dataframe tbody tr th {\n",
       "        vertical-align: top;\n",
       "    }\n",
       "\n",
       "    .dataframe thead th {\n",
       "        text-align: right;\n",
       "    }\n",
       "</style>\n",
       "<table border=\"1\" class=\"dataframe\">\n",
       "  <thead>\n",
       "    <tr style=\"text-align: right;\">\n",
       "      <th></th>\n",
       "      <th>text</th>\n",
       "    </tr>\n",
       "  </thead>\n",
       "  <tbody>\n",
       "    <tr>\n",
       "      <th>0</th>\n",
       "      <td>An Inquiry into the Nature and Causes of the...</td>\n",
       "    </tr>\n",
       "    <tr>\n",
       "      <th>1</th>\n",
       "      <td>BOOK I.</td>\n",
       "    </tr>\n",
       "    <tr>\n",
       "      <th>2</th>\n",
       "      <td>OF THE CAUSES OF IMPROVEMENT IN THE PRODUCTIVE...</td>\n",
       "    </tr>\n",
       "    <tr>\n",
       "      <th>3</th>\n",
       "      <td>CHAPTER I.</td>\n",
       "    </tr>\n",
       "    <tr>\n",
       "      <th>4</th>\n",
       "      <td>OF THE DIVISION OF LABOUR.</td>\n",
       "    </tr>\n",
       "  </tbody>\n",
       "</table>\n",
       "</div>"
      ],
      "text/plain": [
       "                                                text\n",
       "0    An Inquiry into the Nature and Causes of the...\n",
       "1                                            BOOK I.\n",
       "2  OF THE CAUSES OF IMPROVEMENT IN THE PRODUCTIVE...\n",
       "3                                         CHAPTER I.\n",
       "4                         OF THE DIVISION OF LABOUR."
      ]
     },
     "execution_count": 18,
     "metadata": {},
     "output_type": "execute_result"
    }
   ],
   "source": [
    "from nltk.tokenize import sent_tokenize\n",
    "\n",
    "sent_list = sent_tokenize(raw_text)\n",
    "df_sent = pd.DataFrame({\"text\": sent_list})\n",
    "df_sent.head()"
   ]
  },
  {
   "cell_type": "markdown",
   "metadata": {},
   "source": [
    "Now we just need to apply all of the cleaning procudures we did before——that is lowering the case, removing punctuation, and removing any excess whitespace."
   ]
  },
  {
   "cell_type": "code",
   "execution_count": 19,
   "metadata": {},
   "outputs": [
    {
     "data": {
      "text/html": [
       "<div>\n",
       "<style scoped>\n",
       "    .dataframe tbody tr th:only-of-type {\n",
       "        vertical-align: middle;\n",
       "    }\n",
       "\n",
       "    .dataframe tbody tr th {\n",
       "        vertical-align: top;\n",
       "    }\n",
       "\n",
       "    .dataframe thead th {\n",
       "        text-align: right;\n",
       "    }\n",
       "</style>\n",
       "<table border=\"1\" class=\"dataframe\">\n",
       "  <thead>\n",
       "    <tr style=\"text-align: right;\">\n",
       "      <th></th>\n",
       "      <th>text</th>\n",
       "    </tr>\n",
       "  </thead>\n",
       "  <tbody>\n",
       "    <tr>\n",
       "      <th>0</th>\n",
       "      <td>an inquiry into the nature and causes of the ...</td>\n",
       "    </tr>\n",
       "    <tr>\n",
       "      <th>1</th>\n",
       "      <td>book i</td>\n",
       "    </tr>\n",
       "    <tr>\n",
       "      <th>2</th>\n",
       "      <td>of the causes of improvement in the productive...</td>\n",
       "    </tr>\n",
       "    <tr>\n",
       "      <th>3</th>\n",
       "      <td>chapter i</td>\n",
       "    </tr>\n",
       "    <tr>\n",
       "      <th>4</th>\n",
       "      <td>of the division of labour</td>\n",
       "    </tr>\n",
       "  </tbody>\n",
       "</table>\n",
       "</div>"
      ],
      "text/plain": [
       "                                                text\n",
       "0   an inquiry into the nature and causes of the ...\n",
       "1                                             book i\n",
       "2  of the causes of improvement in the productive...\n",
       "3                                          chapter i\n",
       "4                          of the division of labour"
      ]
     },
     "execution_count": 19,
     "metadata": {},
     "output_type": "execute_result"
    }
   ],
   "source": [
    "df_sent[\"text\"] = (\n",
    "    df_sent[\"text\"]\n",
    "    .str.lower()\n",
    "    .str.translate(translator)\n",
    "    .str.replace(\"\\s+?\\W+\", \" \", regex=True)\n",
    ")\n",
    "df_sent.head()"
   ]
  },
  {
   "cell_type": "markdown",
   "metadata": {},
   "source": [
    "We'll use this tokenised version by sentence in the next section."
   ]
  },
  {
   "cell_type": "markdown",
   "metadata": {},
   "source": [
    "### TF-IDF\n",
    "\n",
    "Term frequency - inverse document frequency, often referred to as *tf-idf*, is a measure of term counts (where terms could be 1-grams, 2-grams, etc.) that is weighted to try and identify the most *distinctively* frequent terms in a given corpus. It's made up of two parts: a term-frequency (which upweights according to counts of terms) and an inverse document frequency (which downweights terms that appear frequently across the corpus). Define $t$ as a term and $d$ as a document. In our example thus far, $t$ has represented words while our \"documents\" have been lines from *Wealth of Nations*. Then a simple formula for term frequency is:\n",
    "\n",
    "$$\n",
    "{\\displaystyle \\mathrm {tf} (t,d)={\\frac {f_{t,d}}{\\sum _{t'\\in d}{f_{t',d}}}}}\n",
    "$$\n",
    "\n",
    "where $f_{t,d}$ represents the frequency of term $t$ in document $d$. To compute term frequencies, we will use the [**sklearn**](https://scikit-learn.org) package, which has a function called `CountVectorizer`."
   ]
  },
  {
   "cell_type": "code",
   "execution_count": 20,
   "metadata": {},
   "outputs": [
    {
     "name": "stdout",
     "output_type": "stream",
     "text": [
      "The shape of the resulting tf matrix is (7750, 5160)\n"
     ]
    },
    {
     "name": "stderr",
     "output_type": "stream",
     "text": [
      "/opt/anaconda3/envs/codeforecon/lib/python3.8/site-packages/sklearn/utils/deprecation.py:87: FutureWarning: Function get_feature_names is deprecated; get_feature_names is deprecated in 1.0 and will be removed in 1.2. Please use get_feature_names_out instead.\n",
      "  warnings.warn(msg, category=FutureWarning)\n"
     ]
    },
    {
     "data": {
      "text/plain": [
       "['augustine',\n",
       " 'aulnagers',\n",
       " 'austria',\n",
       " 'authentic',\n",
       " 'authenticated',\n",
       " 'author',\n",
       " 'authorises',\n",
       " 'authority',\n",
       " 'authors',\n",
       " 'avail']"
      ]
     },
     "execution_count": 20,
     "metadata": {},
     "output_type": "execute_result"
    }
   ],
   "source": [
    "from sklearn.feature_extraction.text import CountVectorizer\n",
    "import numpy as np\n",
    "\n",
    "vectorizer = CountVectorizer(stop_words=stopwords)\n",
    "X = vectorizer.fit_transform(df[\"text\"])\n",
    "print(f\"The shape of the resulting tf matrix is {np.shape(X)}\")\n",
    "vectorizer.get_feature_names()[500:510]"
   ]
  },
  {
   "cell_type": "markdown",
   "metadata": {},
   "source": [
    "This created a matrix of 5,160 terms by 7,750 \"documents\" (actually sentences in our example) running with more or less the default settings. The only change we made to those default settings was to pass in a list of stopwords that we used earlier. The other default settings tokenise words using a regex of \"(?u)\\b\\w\\w+\\b\", assume text is lowercase, only accept n-grams in the range (1, 1), and have no limit on the maximum number of features.\n",
    "\n",
    "The matrix X that comes out is of an interesting type:"
   ]
  },
  {
   "cell_type": "code",
   "execution_count": 21,
   "metadata": {},
   "outputs": [
    {
     "data": {
      "text/plain": [
       "scipy.sparse._csr.csr_matrix"
      ]
     },
     "execution_count": 21,
     "metadata": {},
     "output_type": "execute_result"
    }
   ],
   "source": [
    "type(X)"
   ]
  },
  {
   "cell_type": "markdown",
   "metadata": {},
   "source": [
    "ie, it's a *sparse matrix*. Sparse matrices are more efficient for your computer when there are many missing zeros in a matrix. They do all of the usual things that matrices (arrays) do, but are just more convenient in this case. Most notably, we can perform counts with them and we can turn them into a regular matrix using `.toarray()`.\n",
    "\n",
    "Let's do some basic stats using the matrix of counts and the **matplotlib** visualisation library."
   ]
  },
  {
   "cell_type": "code",
   "execution_count": 22,
   "metadata": {},
   "outputs": [
    {
     "data": {
      "text/plain": [
       "price       775\n",
       "labour      578\n",
       "quantity    389\n",
       "greater     386\n",
       "part        376\n",
       "dtype: int64"
      ]
     },
     "execution_count": 22,
     "metadata": {},
     "output_type": "execute_result"
    }
   ],
   "source": [
    "counts_df = pd.DataFrame(X.toarray(), columns=vectorizer.get_feature_names()).T\n",
    "counts_df = counts_df.sum(axis=1)\n",
    "counts_df = counts_df.sort_values(ascending=False)\n",
    "counts_df.head()"
   ]
  },
  {
   "cell_type": "code",
   "execution_count": 23,
   "metadata": {},
   "outputs": [
    {
     "data": {
      "image/svg+xml": "<?xml version=\"1.0\" encoding=\"utf-8\" standalone=\"no\"?>\n<!DOCTYPE svg PUBLIC \"-//W3C//DTD SVG 1.1//EN\"\n  \"http://www.w3.org/Graphics/SVG/1.1/DTD/svg11.dtd\">\n<svg xmlns:xlink=\"http://www.w3.org/1999/xlink\" width=\"508.6725pt\" height=\"293.936406pt\" viewBox=\"0 0 508.6725 293.936406\" xmlns=\"http://www.w3.org/2000/svg\" version=\"1.1\">\n <metadata>\n  <rdf:RDF xmlns:dc=\"http://purl.org/dc/elements/1.1/\" xmlns:cc=\"http://creativecommons.org/ns#\" xmlns:rdf=\"http://www.w3.org/1999/02/22-rdf-syntax-ns#\">\n   <cc:Work>\n    <dc:type rdf:resource=\"http://purl.org/dc/dcmitype/StillImage\"/>\n    <dc:date>2022-10-28T18:44:25.917100</dc:date>\n    <dc:format>image/svg+xml</dc:format>\n    <dc:creator>\n     <cc:Agent>\n      <dc:title>Matplotlib v3.5.3, https://matplotlib.org/</dc:title>\n     </cc:Agent>\n    </dc:creator>\n   </cc:Work>\n  </rdf:RDF>\n </metadata>\n <defs>\n  <style type=\"text/css\">*{stroke-linejoin: round; stroke-linecap: butt}</style>\n </defs>\n <g id=\"figure_1\">\n  <g id=\"patch_1\">\n   <path d=\"M 0 293.936406 \nL 508.6725 293.936406 \nL 508.6725 0 \nL 0 0 \nz\n\" style=\"fill: #ffffff\"/>\n  </g>\n  <g id=\"axes_1\">\n   <g id=\"patch_2\">\n    <path d=\"M 43.0725 247.936406 \nL 489.4725 247.936406 \nL 489.4725 26.176406 \nL 43.0725 26.176406 \nz\n\" style=\"fill: #ffffff\"/>\n   </g>\n   <g id=\"patch_3\">\n    <path d=\"M 43.0725 241.600406 \nL 427.4725 241.600406 \nL 427.4725 233.152406 \nL 43.0725 233.152406 \nz\n\" clip-path=\"url(#pbfb725e8ca)\" style=\"fill: #bc80bd; opacity: 0.5; stroke: #000000; stroke-width: 0.8; stroke-linejoin: miter\"/>\n   </g>\n   <g id=\"patch_4\">\n    <path d=\"M 43.0725 231.040406 \nL 329.7605 231.040406 \nL 329.7605 222.592406 \nL 43.0725 222.592406 \nz\n\" clip-path=\"url(#pbfb725e8ca)\" style=\"fill: #bc80bd; opacity: 0.5; stroke: #000000; stroke-width: 0.8; stroke-linejoin: miter\"/>\n   </g>\n   <g id=\"patch_5\">\n    <path d=\"M 43.0725 220.480406 \nL 236.0165 220.480406 \nL 236.0165 212.032406 \nL 43.0725 212.032406 \nz\n\" clip-path=\"url(#pbfb725e8ca)\" style=\"fill: #bc80bd; opacity: 0.5; stroke: #000000; stroke-width: 0.8; stroke-linejoin: miter\"/>\n   </g>\n   <g id=\"patch_6\">\n    <path d=\"M 43.0725 209.920406 \nL 234.5285 209.920406 \nL 234.5285 201.472406 \nL 43.0725 201.472406 \nz\n\" clip-path=\"url(#pbfb725e8ca)\" style=\"fill: #bc80bd; opacity: 0.5; stroke: #000000; stroke-width: 0.8; stroke-linejoin: miter\"/>\n   </g>\n   <g id=\"patch_7\">\n    <path d=\"M 43.0725 199.360406 \nL 229.5685 199.360406 \nL 229.5685 190.912406 \nL 43.0725 190.912406 \nz\n\" clip-path=\"url(#pbfb725e8ca)\" style=\"fill: #bc80bd; opacity: 0.5; stroke: #000000; stroke-width: 0.8; stroke-linejoin: miter\"/>\n   </g>\n   <g id=\"patch_8\">\n    <path d=\"M 43.0725 188.800406 \nL 219.1525 188.800406 \nL 219.1525 180.352406 \nL 43.0725 180.352406 \nz\n\" clip-path=\"url(#pbfb725e8ca)\" style=\"fill: #bc80bd; opacity: 0.5; stroke: #000000; stroke-width: 0.8; stroke-linejoin: miter\"/>\n   </g>\n   <g id=\"patch_9\">\n    <path d=\"M 43.0725 178.240406 \nL 206.7525 178.240406 \nL 206.7525 169.792406 \nL 43.0725 169.792406 \nz\n\" clip-path=\"url(#pbfb725e8ca)\" style=\"fill: #bc80bd; opacity: 0.5; stroke: #000000; stroke-width: 0.8; stroke-linejoin: miter\"/>\n   </g>\n   <g id=\"patch_10\">\n    <path d=\"M 43.0725 167.680406 \nL 203.2805 167.680406 \nL 203.2805 159.232406 \nL 43.0725 159.232406 \nz\n\" clip-path=\"url(#pbfb725e8ca)\" style=\"fill: #bc80bd; opacity: 0.5; stroke: #000000; stroke-width: 0.8; stroke-linejoin: miter\"/>\n   </g>\n   <g id=\"patch_11\">\n    <path d=\"M 43.0725 157.120406 \nL 202.7845 157.120406 \nL 202.7845 148.672406 \nL 43.0725 148.672406 \nz\n\" clip-path=\"url(#pbfb725e8ca)\" style=\"fill: #bc80bd; opacity: 0.5; stroke: #000000; stroke-width: 0.8; stroke-linejoin: miter\"/>\n   </g>\n   <g id=\"patch_12\">\n    <path d=\"M 43.0725 146.560406 \nL 198.3205 146.560406 \nL 198.3205 138.112406 \nL 43.0725 138.112406 \nz\n\" clip-path=\"url(#pbfb725e8ca)\" style=\"fill: #bc80bd; opacity: 0.5; stroke: #000000; stroke-width: 0.8; stroke-linejoin: miter\"/>\n   </g>\n   <g id=\"patch_13\">\n    <path d=\"M 43.0725 136.000406 \nL 196.3365 136.000406 \nL 196.3365 127.552406 \nL 43.0725 127.552406 \nz\n\" clip-path=\"url(#pbfb725e8ca)\" style=\"fill: #bc80bd; opacity: 0.5; stroke: #000000; stroke-width: 0.8; stroke-linejoin: miter\"/>\n   </g>\n   <g id=\"patch_14\">\n    <path d=\"M 43.0725 125.440406 \nL 192.3685 125.440406 \nL 192.3685 116.992406 \nL 43.0725 116.992406 \nz\n\" clip-path=\"url(#pbfb725e8ca)\" style=\"fill: #bc80bd; opacity: 0.5; stroke: #000000; stroke-width: 0.8; stroke-linejoin: miter\"/>\n   </g>\n   <g id=\"patch_15\">\n    <path d=\"M 43.0725 114.880406 \nL 192.3685 114.880406 \nL 192.3685 106.432406 \nL 43.0725 106.432406 \nz\n\" clip-path=\"url(#pbfb725e8ca)\" style=\"fill: #bc80bd; opacity: 0.5; stroke: #000000; stroke-width: 0.8; stroke-linejoin: miter\"/>\n   </g>\n   <g id=\"patch_16\">\n    <path d=\"M 43.0725 104.320406 \nL 188.8965 104.320406 \nL 188.8965 95.872406 \nL 43.0725 95.872406 \nz\n\" clip-path=\"url(#pbfb725e8ca)\" style=\"fill: #bc80bd; opacity: 0.5; stroke: #000000; stroke-width: 0.8; stroke-linejoin: miter\"/>\n   </g>\n   <g id=\"patch_17\">\n    <path d=\"M 43.0725 93.760406 \nL 188.4005 93.760406 \nL 188.4005 85.312406 \nL 43.0725 85.312406 \nz\n\" clip-path=\"url(#pbfb725e8ca)\" style=\"fill: #bc80bd; opacity: 0.5; stroke: #000000; stroke-width: 0.8; stroke-linejoin: miter\"/>\n   </g>\n   <g id=\"patch_18\">\n    <path d=\"M 43.0725 83.200406 \nL 181.9525 83.200406 \nL 181.9525 74.752406 \nL 43.0725 74.752406 \nz\n\" clip-path=\"url(#pbfb725e8ca)\" style=\"fill: #bc80bd; opacity: 0.5; stroke: #000000; stroke-width: 0.8; stroke-linejoin: miter\"/>\n   </g>\n   <g id=\"patch_19\">\n    <path d=\"M 43.0725 72.640406 \nL 175.0085 72.640406 \nL 175.0085 64.192406 \nL 43.0725 64.192406 \nz\n\" clip-path=\"url(#pbfb725e8ca)\" style=\"fill: #bc80bd; opacity: 0.5; stroke: #000000; stroke-width: 0.8; stroke-linejoin: miter\"/>\n   </g>\n   <g id=\"patch_20\">\n    <path d=\"M 43.0725 62.080406 \nL 170.0485 62.080406 \nL 170.0485 53.632406 \nL 43.0725 53.632406 \nz\n\" clip-path=\"url(#pbfb725e8ca)\" style=\"fill: #bc80bd; opacity: 0.5; stroke: #000000; stroke-width: 0.8; stroke-linejoin: miter\"/>\n   </g>\n   <g id=\"patch_21\">\n    <path d=\"M 43.0725 51.520406 \nL 169.5525 51.520406 \nL 169.5525 43.072406 \nL 43.0725 43.072406 \nz\n\" clip-path=\"url(#pbfb725e8ca)\" style=\"fill: #bc80bd; opacity: 0.5; stroke: #000000; stroke-width: 0.8; stroke-linejoin: miter\"/>\n   </g>\n   <g id=\"patch_22\">\n    <path d=\"M 43.0725 40.960406 \nL 162.6085 40.960406 \nL 162.6085 32.512406 \nL 43.0725 32.512406 \nz\n\" clip-path=\"url(#pbfb725e8ca)\" style=\"fill: #bc80bd; opacity: 0.5; stroke: #000000; stroke-width: 0.8; stroke-linejoin: miter\"/>\n   </g>\n   <g id=\"matplotlib.axis_1\">\n    <g id=\"xtick_1\">\n     <g id=\"line2d_1\">\n      <defs>\n       <path id=\"m6d3d22a315\" d=\"M 0 0 \nL 0 3.5 \n\" style=\"stroke: #323034; stroke-width: 0.8\"/>\n      </defs>\n      <g>\n       <use xlink:href=\"#m6d3d22a315\" x=\"43.0725\" y=\"247.936406\" style=\"fill: #323034; stroke: #323034; stroke-width: 0.8\"/>\n      </g>\n     </g>\n     <g id=\"text_1\">\n      <!-- $\\mathdefault{0}$ -->\n      <g style=\"fill: #323034\" transform=\"translate(39.0725 265.863906)scale(0.16 -0.16)\">\n       <defs>\n        <path id=\"STIXGeneral-Regular-30\" d=\"M 3046 2112 \nQ 3046 1683 2963 1302 \nQ 2880 922 2717 602 \nQ 2554 282 2266 96 \nQ 1978 -90 1600 -90 \nQ 1210 -90 915 108 \nQ 621 307 461 640 \nQ 301 973 227 1350 \nQ 154 1728 154 2150 \nQ 154 2746 301 3222 \nQ 448 3699 790 4012 \nQ 1133 4326 1626 4326 \nQ 2253 4326 2649 3712 \nQ 3046 3098 3046 2112 \nz\nM 2432 2080 \nQ 2432 3091 2217 3625 \nQ 2003 4160 1587 4160 \nQ 1190 4160 979 3622 \nQ 768 3085 768 2106 \nQ 768 1120 979 598 \nQ 1190 77 1600 77 \nQ 2003 77 2217 598 \nQ 2432 1120 2432 2080 \nz\n\" transform=\"scale(0.015625)\"/>\n       </defs>\n       <use xlink:href=\"#STIXGeneral-Regular-30\" transform=\"translate(0 0.40625)\"/>\n      </g>\n     </g>\n    </g>\n    <g id=\"xtick_2\">\n     <g id=\"line2d_2\">\n      <g>\n       <use xlink:href=\"#m6d3d22a315\" x=\"92.6725\" y=\"247.936406\" style=\"fill: #323034; stroke: #323034; stroke-width: 0.8\"/>\n      </g>\n     </g>\n     <g id=\"text_2\">\n      <!-- $\\mathdefault{100}$ -->\n      <g style=\"fill: #323034\" transform=\"translate(80.6725 265.863906)scale(0.16 -0.16)\">\n       <defs>\n        <path id=\"STIXGeneral-Regular-31\" d=\"M 2522 0 \nL 755 0 \nL 755 96 \nQ 1107 115 1235 227 \nQ 1363 339 1363 608 \nL 1363 3482 \nQ 1363 3795 1171 3795 \nQ 1082 3795 883 3718 \nL 710 3654 \nL 710 3744 \nL 1856 4326 \nL 1914 4307 \nL 1914 486 \nQ 1914 275 2042 185 \nQ 2170 96 2522 96 \nL 2522 0 \nz\n\" transform=\"scale(0.015625)\"/>\n       </defs>\n       <use xlink:href=\"#STIXGeneral-Regular-31\" transform=\"translate(0 0.40625)\"/>\n       <use xlink:href=\"#STIXGeneral-Regular-30\" transform=\"translate(49.999985 0.40625)\"/>\n       <use xlink:href=\"#STIXGeneral-Regular-30\" transform=\"translate(99.999969 0.40625)\"/>\n      </g>\n     </g>\n    </g>\n    <g id=\"xtick_3\">\n     <g id=\"line2d_3\">\n      <g>\n       <use xlink:href=\"#m6d3d22a315\" x=\"142.2725\" y=\"247.936406\" style=\"fill: #323034; stroke: #323034; stroke-width: 0.8\"/>\n      </g>\n     </g>\n     <g id=\"text_3\">\n      <!-- $\\mathdefault{200}$ -->\n      <g style=\"fill: #323034\" transform=\"translate(130.2725 265.863906)scale(0.16 -0.16)\">\n       <defs>\n        <path id=\"STIXGeneral-Regular-32\" d=\"M 3034 877 \nL 2688 0 \nL 186 0 \nL 186 77 \nL 1325 1286 \nQ 1773 1754 1965 2144 \nQ 2157 2534 2157 2950 \nQ 2157 3379 1920 3616 \nQ 1683 3853 1267 3853 \nQ 922 3853 720 3673 \nQ 518 3494 326 3021 \nL 192 3053 \nQ 301 3648 630 3987 \nQ 960 4326 1523 4326 \nQ 2054 4326 2380 4006 \nQ 2707 3686 2707 3200 \nQ 2707 2477 1888 1613 \nL 832 486 \nL 2330 486 \nQ 2541 486 2665 569 \nQ 2790 653 2944 915 \nL 3034 877 \nz\n\" transform=\"scale(0.015625)\"/>\n       </defs>\n       <use xlink:href=\"#STIXGeneral-Regular-32\" transform=\"translate(0 0.40625)\"/>\n       <use xlink:href=\"#STIXGeneral-Regular-30\" transform=\"translate(49.999985 0.40625)\"/>\n       <use xlink:href=\"#STIXGeneral-Regular-30\" transform=\"translate(99.999969 0.40625)\"/>\n      </g>\n     </g>\n    </g>\n    <g id=\"xtick_4\">\n     <g id=\"line2d_4\">\n      <g>\n       <use xlink:href=\"#m6d3d22a315\" x=\"191.8725\" y=\"247.936406\" style=\"fill: #323034; stroke: #323034; stroke-width: 0.8\"/>\n      </g>\n     </g>\n     <g id=\"text_4\">\n      <!-- $\\mathdefault{300}$ -->\n      <g style=\"fill: #323034\" transform=\"translate(179.8725 265.863906)scale(0.16 -0.16)\">\n       <defs>\n        <path id=\"STIXGeneral-Regular-33\" d=\"M 390 3264 \nL 288 3290 \nQ 435 3770 748 4048 \nQ 1062 4326 1542 4326 \nQ 1990 4326 2265 4083 \nQ 2541 3840 2541 3450 \nQ 2541 2925 1946 2566 \nQ 2298 2413 2477 2227 \nQ 2758 1914 2758 1402 \nQ 2758 890 2464 506 \nQ 2246 211 1840 60 \nQ 1434 -90 979 -90 \nQ 262 -90 262 275 \nQ 262 378 339 442 \nQ 416 506 525 506 \nQ 685 506 915 339 \nQ 1197 141 1466 141 \nQ 1818 141 2058 425 \nQ 2298 710 2298 1120 \nQ 2298 1856 1632 2048 \nQ 1434 2112 979 2112 \nL 979 2202 \nQ 1338 2323 1517 2432 \nQ 2035 2726 2035 3290 \nQ 2035 3610 1852 3776 \nQ 1670 3942 1344 3942 \nQ 768 3942 390 3264 \nz\n\" transform=\"scale(0.015625)\"/>\n       </defs>\n       <use xlink:href=\"#STIXGeneral-Regular-33\" transform=\"translate(0 0.40625)\"/>\n       <use xlink:href=\"#STIXGeneral-Regular-30\" transform=\"translate(49.999985 0.40625)\"/>\n       <use xlink:href=\"#STIXGeneral-Regular-30\" transform=\"translate(99.999969 0.40625)\"/>\n      </g>\n     </g>\n    </g>\n    <g id=\"xtick_5\">\n     <g id=\"line2d_5\">\n      <g>\n       <use xlink:href=\"#m6d3d22a315\" x=\"241.4725\" y=\"247.936406\" style=\"fill: #323034; stroke: #323034; stroke-width: 0.8\"/>\n      </g>\n     </g>\n     <g id=\"text_5\">\n      <!-- $\\mathdefault{400}$ -->\n      <g style=\"fill: #323034\" transform=\"translate(229.4725 265.863906)scale(0.16 -0.16)\">\n       <defs>\n        <path id=\"STIXGeneral-Regular-34\" d=\"M 3027 1069 \nL 2368 1069 \nL 2368 0 \nL 1869 0 \nL 1869 1069 \nL 77 1069 \nL 77 1478 \nL 2086 4326 \nL 2368 4326 \nL 2368 1478 \nL 3027 1478 \nL 3027 1069 \nz\nM 1869 1478 \nL 1869 3674 \nL 333 1478 \nL 1869 1478 \nz\n\" transform=\"scale(0.015625)\"/>\n       </defs>\n       <use xlink:href=\"#STIXGeneral-Regular-34\" transform=\"translate(0 0.40625)\"/>\n       <use xlink:href=\"#STIXGeneral-Regular-30\" transform=\"translate(49.999985 0.40625)\"/>\n       <use xlink:href=\"#STIXGeneral-Regular-30\" transform=\"translate(99.999969 0.40625)\"/>\n      </g>\n     </g>\n    </g>\n    <g id=\"xtick_6\">\n     <g id=\"line2d_6\">\n      <g>\n       <use xlink:href=\"#m6d3d22a315\" x=\"291.0725\" y=\"247.936406\" style=\"fill: #323034; stroke: #323034; stroke-width: 0.8\"/>\n      </g>\n     </g>\n     <g id=\"text_6\">\n      <!-- $\\mathdefault{500}$ -->\n      <g style=\"fill: #323034\" transform=\"translate(279.0725 265.863906)scale(0.16 -0.16)\">\n       <defs>\n        <path id=\"STIXGeneral-Regular-35\" d=\"M 2803 4358 \nL 2573 3814 \nQ 2534 3731 2400 3731 \nL 1158 3731 \nL 902 3187 \nQ 1606 3053 1920 2896 \nQ 2234 2739 2502 2368 \nQ 2726 2061 2726 1555 \nQ 2726 1094 2576 780 \nQ 2426 467 2099 224 \nQ 1664 -90 1011 -90 \nQ 646 -90 422 19 \nQ 198 128 198 307 \nQ 198 550 486 550 \nQ 717 550 960 352 \nQ 1210 147 1414 147 \nQ 1747 147 2012 480 \nQ 2278 813 2278 1229 \nQ 2278 1843 1850 2189 \nQ 1293 2637 486 2637 \nQ 410 2637 410 2688 \nL 416 2720 \nL 1114 4237 \nL 2438 4237 \nQ 2547 4237 2608 4269 \nQ 2669 4301 2746 4403 \nL 2803 4358 \nz\n\" transform=\"scale(0.015625)\"/>\n       </defs>\n       <use xlink:href=\"#STIXGeneral-Regular-35\" transform=\"translate(0 0.203125)\"/>\n       <use xlink:href=\"#STIXGeneral-Regular-30\" transform=\"translate(49.999985 0.203125)\"/>\n       <use xlink:href=\"#STIXGeneral-Regular-30\" transform=\"translate(99.999969 0.203125)\"/>\n      </g>\n     </g>\n    </g>\n    <g id=\"xtick_7\">\n     <g id=\"line2d_7\">\n      <g>\n       <use xlink:href=\"#m6d3d22a315\" x=\"340.6725\" y=\"247.936406\" style=\"fill: #323034; stroke: #323034; stroke-width: 0.8\"/>\n      </g>\n     </g>\n     <g id=\"text_7\">\n      <!-- $\\mathdefault{600}$ -->\n      <g style=\"fill: #323034\" transform=\"translate(328.6725 265.863906)scale(0.16 -0.16)\">\n       <defs>\n        <path id=\"STIXGeneral-Regular-36\" d=\"M 2854 4378 \nL 2867 4275 \nQ 2112 4154 1606 3664 \nQ 1101 3174 973 2451 \nQ 1344 2739 1786 2739 \nQ 2349 2739 2672 2380 \nQ 2995 2022 2995 1402 \nQ 2995 774 2669 378 \nQ 2291 -90 1651 -90 \nQ 870 -90 518 557 \nQ 218 1107 218 1786 \nQ 218 2835 915 3552 \nQ 1312 3962 1731 4131 \nQ 2150 4301 2854 4378 \nz\nM 2419 1203 \nQ 2419 2445 1555 2445 \nQ 1235 2445 1024 2275 \nQ 813 2106 813 1702 \nQ 813 954 1046 522 \nQ 1280 90 1722 90 \nQ 2061 90 2240 394 \nQ 2419 698 2419 1203 \nz\n\" transform=\"scale(0.015625)\"/>\n       </defs>\n       <use xlink:href=\"#STIXGeneral-Regular-36\" transform=\"translate(0 0.59375)\"/>\n       <use xlink:href=\"#STIXGeneral-Regular-30\" transform=\"translate(49.999985 0.59375)\"/>\n       <use xlink:href=\"#STIXGeneral-Regular-30\" transform=\"translate(99.999969 0.59375)\"/>\n      </g>\n     </g>\n    </g>\n    <g id=\"xtick_8\">\n     <g id=\"line2d_8\">\n      <g>\n       <use xlink:href=\"#m6d3d22a315\" x=\"390.2725\" y=\"247.936406\" style=\"fill: #323034; stroke: #323034; stroke-width: 0.8\"/>\n      </g>\n     </g>\n     <g id=\"text_8\">\n      <!-- $\\mathdefault{700}$ -->\n      <g style=\"fill: #323034\" transform=\"translate(378.2725 265.863906)scale(0.16 -0.16)\">\n       <defs>\n        <path id=\"STIXGeneral-Regular-37\" d=\"M 2874 4134 \nL 1517 -51 \nL 1101 -51 \nL 2368 3763 \nL 992 3763 \nQ 717 3763 582 3667 \nQ 448 3571 243 3238 \nL 128 3296 \nL 512 4237 \nL 2874 4237 \nL 2874 4134 \nz\n\" transform=\"scale(0.015625)\"/>\n       </defs>\n       <use xlink:href=\"#STIXGeneral-Regular-37\" transform=\"translate(0 0.40625)\"/>\n       <use xlink:href=\"#STIXGeneral-Regular-30\" transform=\"translate(49.999985 0.40625)\"/>\n       <use xlink:href=\"#STIXGeneral-Regular-30\" transform=\"translate(99.999969 0.40625)\"/>\n      </g>\n     </g>\n    </g>\n    <g id=\"xtick_9\">\n     <g id=\"line2d_9\">\n      <g>\n       <use xlink:href=\"#m6d3d22a315\" x=\"439.8725\" y=\"247.936406\" style=\"fill: #323034; stroke: #323034; stroke-width: 0.8\"/>\n      </g>\n     </g>\n     <g id=\"text_9\">\n      <!-- $\\mathdefault{800}$ -->\n      <g style=\"fill: #323034\" transform=\"translate(427.8725 265.863906)scale(0.16 -0.16)\">\n       <defs>\n        <path id=\"STIXGeneral-Regular-38\" d=\"M 2848 992 \nQ 2848 499 2505 204 \nQ 2163 -90 1587 -90 \nQ 1050 -90 704 204 \nQ 358 499 358 954 \nQ 358 1293 524 1533 \nQ 691 1773 1190 2125 \nQ 710 2522 553 2765 \nQ 397 3008 397 3328 \nQ 397 3782 745 4054 \nQ 1094 4326 1638 4326 \nQ 2106 4326 2410 4060 \nQ 2714 3795 2714 3411 \nQ 2714 3059 2531 2848 \nQ 2349 2637 1856 2374 \nQ 2432 1990 2640 1689 \nQ 2848 1389 2848 992 \nz\nM 2272 3411 \nQ 2272 3744 2086 3945 \nQ 1901 4147 1574 4147 \nQ 1248 4147 1059 3977 \nQ 870 3808 870 3513 \nQ 870 3219 1059 2979 \nQ 1248 2739 1670 2490 \nQ 1997 2682 2134 2896 \nQ 2272 3110 2272 3411 \nz\nM 1734 1741 \nL 1357 1997 \nQ 1075 1766 960 1545 \nQ 845 1325 845 1011 \nQ 845 576 1065 333 \nQ 1286 90 1658 90 \nQ 1971 90 2166 285 \nQ 2362 480 2362 794 \nQ 2362 1082 2214 1299 \nQ 2067 1517 1734 1741 \nz\n\" transform=\"scale(0.015625)\"/>\n       </defs>\n       <use xlink:href=\"#STIXGeneral-Regular-38\" transform=\"translate(0 0.40625)\"/>\n       <use xlink:href=\"#STIXGeneral-Regular-30\" transform=\"translate(49.999985 0.40625)\"/>\n       <use xlink:href=\"#STIXGeneral-Regular-30\" transform=\"translate(99.999969 0.40625)\"/>\n      </g>\n     </g>\n    </g>\n    <g id=\"xtick_10\">\n     <g id=\"line2d_10\">\n      <g>\n       <use xlink:href=\"#m6d3d22a315\" x=\"489.4725\" y=\"247.936406\" style=\"fill: #323034; stroke: #323034; stroke-width: 0.8\"/>\n      </g>\n     </g>\n     <g id=\"text_10\">\n      <!-- $\\mathdefault{900}$ -->\n      <g style=\"fill: #323034\" transform=\"translate(477.4725 265.863906)scale(0.16 -0.16)\">\n       <defs>\n        <path id=\"STIXGeneral-Regular-39\" d=\"M 378 -141 \nL 358 -13 \nQ 1094 115 1603 608 \nQ 2112 1101 2304 1882 \nQ 1933 1517 1344 1517 \nQ 826 1517 509 1875 \nQ 192 2234 192 2816 \nQ 192 3462 573 3894 \nQ 954 4326 1523 4326 \nQ 2131 4326 2528 3840 \nQ 2938 3328 2938 2522 \nQ 2938 1958 2742 1462 \nQ 2547 966 2170 621 \nQ 1773 262 1395 105 \nQ 1018 -51 378 -141 \nz\nM 2317 2272 \nL 2317 2522 \nQ 2317 4147 1472 4147 \nQ 1171 4147 1005 3930 \nQ 909 3802 845 3546 \nQ 781 3290 781 3034 \nQ 781 2464 995 2128 \nQ 1210 1792 1568 1792 \nQ 1824 1792 2070 1917 \nQ 2317 2042 2317 2272 \nz\n\" transform=\"scale(0.015625)\"/>\n       </defs>\n       <use xlink:href=\"#STIXGeneral-Regular-39\" transform=\"translate(0 0.40625)\"/>\n       <use xlink:href=\"#STIXGeneral-Regular-30\" transform=\"translate(49.999985 0.40625)\"/>\n       <use xlink:href=\"#STIXGeneral-Regular-30\" transform=\"translate(99.999969 0.40625)\"/>\n      </g>\n     </g>\n    </g>\n    <g id=\"text_11\">\n     <!-- Count of terms across all \"documents\" -->\n     <g transform=\"translate(143.08625 283.263906)scale(0.16 -0.16)\">\n      <defs>\n       <path id=\"STIXGeneral-Regular-43\" d=\"M 3930 838 \nL 4051 723 \nQ 3482 -90 2304 -90 \nQ 1376 -90 794 480 \nQ 179 1082 179 2080 \nQ 179 3014 755 3661 \nQ 1357 4326 2310 4326 \nQ 2720 4326 3072 4230 \nQ 3475 4115 3514 4115 \nQ 3725 4115 3782 4326 \nL 3910 4326 \nL 3968 2874 \nL 3821 2874 \nQ 3718 3334 3488 3584 \nQ 3034 4070 2458 4070 \nQ 1747 4070 1334 3548 \nQ 922 3027 922 2182 \nQ 922 1152 1382 653 \nQ 1811 192 2522 192 \nQ 2944 192 3251 339 \nQ 3558 486 3930 838 \nz\n\" transform=\"scale(0.015625)\"/>\n       <path id=\"STIXGeneral-Regular-6f\" d=\"M 3008 1478 \nQ 3008 806 2608 371 \nQ 2208 -64 1568 -64 \nQ 979 -64 582 368 \nQ 186 800 186 1459 \nQ 186 2125 582 2534 \nQ 979 2944 1626 2944 \nQ 2221 2944 2614 2537 \nQ 3008 2131 3008 1478 \nz\nM 2432 1306 \nQ 2432 2035 2112 2445 \nQ 1856 2765 1504 2765 \nQ 1171 2765 966 2493 \nQ 762 2221 762 1747 \nQ 762 928 1101 435 \nQ 1318 115 1677 115 \nQ 2029 115 2230 432 \nQ 2432 749 2432 1306 \nz\n\" transform=\"scale(0.015625)\"/>\n       <path id=\"STIXGeneral-Regular-75\" d=\"M 3072 320 \nL 3072 230 \nQ 2573 96 2195 -58 \nL 2163 -38 \nL 2163 486 \nL 2150 486 \nQ 1747 -64 1235 -64 \nQ 870 -64 662 160 \nQ 454 384 454 755 \nL 454 2362 \nQ 454 2598 371 2688 \nQ 288 2778 58 2790 \nL 58 2880 \nL 992 2880 \nL 992 813 \nQ 992 595 1123 451 \nQ 1254 307 1446 307 \nQ 1760 307 1984 506 \nQ 2067 582 2099 649 \nQ 2131 717 2131 877 \nL 2131 2355 \nQ 2131 2605 2041 2678 \nQ 1952 2752 1658 2771 \nL 1658 2880 \nL 2669 2880 \nL 2669 685 \nQ 2669 461 2742 390 \nQ 2816 320 3034 320 \nL 3072 320 \nz\n\" transform=\"scale(0.015625)\"/>\n       <path id=\"STIXGeneral-Regular-6e\" d=\"M 3104 0 \nL 1773 0 \nL 1779 96 \nQ 2016 115 2096 233 \nQ 2176 352 2176 672 \nL 2176 1946 \nQ 2176 2592 1709 2592 \nQ 1549 2592 1408 2515 \nQ 1267 2438 1050 2227 \nL 1050 461 \nQ 1050 269 1136 192 \nQ 1222 115 1466 96 \nL 1466 0 \nL 115 0 \nL 115 96 \nQ 358 115 435 214 \nQ 512 314 512 602 \nL 512 2157 \nQ 512 2394 467 2483 \nQ 422 2573 288 2573 \nQ 160 2573 102 2547 \nL 102 2656 \nQ 550 2784 979 2944 \nL 1030 2925 \nL 1030 2426 \nL 1037 2426 \nQ 1491 2944 1958 2944 \nQ 2323 2944 2518 2688 \nQ 2714 2432 2714 1958 \nL 2714 544 \nQ 2714 288 2790 205 \nQ 2867 122 3104 96 \nL 3104 0 \nz\n\" transform=\"scale(0.015625)\"/>\n       <path id=\"STIXGeneral-Regular-74\" d=\"M 1702 493 \nL 1786 422 \nQ 1478 -64 1011 -64 \nQ 448 -64 448 749 \nL 448 2675 \nL 109 2675 \nQ 83 2694 83 2720 \nQ 83 2771 192 2842 \nQ 435 2982 813 3526 \nQ 826 3546 874 3606 \nQ 922 3667 941 3706 \nQ 986 3706 986 3622 \nL 986 2880 \nL 1632 2880 \nL 1632 2675 \nL 986 2675 \nL 986 845 \nQ 986 538 1062 403 \nQ 1139 269 1318 269 \nQ 1510 269 1702 493 \nz\n\" transform=\"scale(0.015625)\"/>\n       <path id=\"STIXGeneral-Regular-20\" transform=\"scale(0.015625)\"/>\n       <path id=\"STIXGeneral-Regular-66\" d=\"M 134 2880 \nL 659 2880 \nQ 666 3264 710 3478 \nQ 755 3693 883 3910 \nQ 1152 4371 1786 4371 \nQ 2074 4371 2262 4259 \nQ 2451 4147 2451 3974 \nQ 2451 3866 2374 3789 \nQ 2298 3712 2182 3712 \nQ 2029 3712 1894 3942 \nQ 1741 4192 1555 4192 \nQ 1197 4192 1197 3622 \nL 1197 2880 \nL 1978 2880 \nL 1978 2675 \nL 1197 2675 \nL 1197 666 \nQ 1197 307 1299 208 \nQ 1402 109 1792 96 \nL 1792 0 \nL 128 0 \nL 128 96 \nQ 474 115 566 214 \nQ 659 314 659 666 \nL 659 2675 \nL 134 2675 \nL 134 2880 \nz\n\" transform=\"scale(0.015625)\"/>\n       <path id=\"STIXGeneral-Regular-65\" d=\"M 2611 1050 \nL 2714 1005 \nQ 2330 -64 1376 -64 \nQ 813 -64 486 329 \nQ 160 723 160 1389 \nQ 160 2074 525 2509 \nQ 890 2944 1485 2944 \nQ 2061 2944 2374 2502 \nQ 2560 2246 2592 1773 \nL 621 1773 \nQ 646 1370 700 1158 \nQ 755 947 915 730 \nQ 1184 378 1626 378 \nQ 1939 378 2153 531 \nQ 2368 685 2611 1050 \nz\nM 634 1978 \nL 1939 1978 \nQ 1882 2381 1750 2547 \nQ 1619 2714 1312 2714 \nQ 1043 2714 864 2525 \nQ 685 2336 634 1978 \nz\n\" transform=\"scale(0.015625)\"/>\n       <path id=\"STIXGeneral-Regular-72\" d=\"M 1024 2931 \nL 1024 2342 \nQ 1267 2688 1430 2816 \nQ 1594 2944 1792 2944 \nQ 1958 2944 2051 2854 \nQ 2144 2765 2144 2605 \nQ 2144 2470 2077 2393 \nQ 2010 2317 1894 2317 \nQ 1773 2317 1638 2445 \nQ 1536 2541 1472 2541 \nQ 1338 2541 1181 2355 \nQ 1024 2170 1024 2016 \nL 1024 576 \nQ 1024 301 1133 205 \nQ 1242 109 1568 96 \nL 1568 0 \nL 32 0 \nL 32 96 \nQ 339 154 412 224 \nQ 486 294 486 538 \nL 486 2138 \nQ 486 2349 438 2435 \nQ 390 2522 269 2522 \nQ 166 2522 45 2496 \nL 45 2598 \nQ 448 2726 992 2944 \nL 1024 2931 \nz\n\" transform=\"scale(0.015625)\"/>\n       <path id=\"STIXGeneral-Regular-6d\" d=\"M 4960 0 \nL 3565 0 \nL 3565 96 \nQ 3834 122 3907 208 \nQ 3981 294 3981 576 \nL 3981 1894 \nQ 3981 2278 3869 2444 \nQ 3757 2611 3488 2611 \nQ 3264 2611 3107 2521 \nQ 2950 2432 2803 2221 \nL 2803 608 \nQ 2803 301 2896 201 \nQ 2989 102 3264 96 \nL 3264 0 \nL 1830 0 \nL 1830 96 \nQ 2112 115 2189 188 \nQ 2266 262 2266 550 \nL 2266 1901 \nQ 2266 2611 1850 2611 \nQ 1670 2611 1468 2531 \nQ 1267 2451 1171 2336 \nQ 1088 2240 1088 2227 \nL 1088 448 \nQ 1088 243 1177 176 \nQ 1267 109 1523 96 \nL 1523 0 \nL 102 0 \nL 102 96 \nQ 371 102 460 195 \nQ 550 288 550 563 \nL 550 2150 \nQ 550 2387 499 2480 \nQ 448 2573 326 2573 \nQ 230 2573 122 2547 \nL 122 2656 \nQ 557 2778 1011 2944 \nL 1062 2925 \nL 1062 2451 \nL 1075 2451 \nQ 1363 2752 1584 2848 \nQ 1805 2944 2054 2944 \nQ 2560 2944 2733 2406 \nQ 3232 2944 3776 2944 \nQ 4518 2944 4518 1792 \nL 4518 493 \nQ 4518 282 4582 202 \nQ 4646 122 4794 109 \nL 4960 96 \nL 4960 0 \nz\n\" transform=\"scale(0.015625)\"/>\n       <path id=\"STIXGeneral-Regular-73\" d=\"M 998 1926 \nL 1664 1523 \nQ 1984 1331 2105 1164 \nQ 2227 998 2227 736 \nQ 2227 416 1961 176 \nQ 1696 -64 1331 -64 \nQ 1030 -64 864 -6 \nQ 691 51 570 51 \nQ 461 51 416 -26 \nL 333 -26 \nL 333 979 \nL 435 979 \nQ 538 512 730 294 \nQ 922 77 1248 77 \nQ 1485 77 1632 211 \nQ 1779 346 1779 550 \nQ 1779 845 1440 1030 \nL 1094 1222 \nQ 326 1651 326 2150 \nQ 326 2522 566 2730 \nQ 806 2938 1210 2938 \nQ 1491 2938 1638 2867 \nQ 1754 2816 1818 2816 \nQ 1862 2816 1920 2880 \nL 1990 2880 \nL 2022 2010 \nL 1926 2010 \nQ 1818 2445 1654 2621 \nQ 1491 2797 1203 2797 \nQ 986 2797 854 2688 \nQ 723 2579 723 2362 \nQ 723 2253 796 2128 \nQ 870 2003 998 1926 \nz\n\" transform=\"scale(0.015625)\"/>\n       <path id=\"STIXGeneral-Regular-61\" d=\"M 2829 422 \nL 2829 243 \nQ 2586 -64 2253 -64 \nQ 1888 -64 1843 403 \nL 1837 403 \nQ 1427 -64 909 -64 \nQ 608 -64 422 112 \nQ 237 288 237 602 \nQ 237 1050 685 1350 \nQ 992 1555 1837 1869 \nL 1837 2214 \nQ 1837 2502 1699 2646 \nQ 1562 2790 1338 2790 \nQ 1146 2790 1018 2697 \nQ 890 2605 890 2477 \nQ 890 2419 909 2348 \nQ 928 2278 928 2208 \nQ 928 2112 841 2029 \nQ 755 1946 634 1946 \nQ 525 1946 441 2029 \nQ 358 2112 358 2240 \nQ 358 2547 685 2752 \nQ 986 2944 1421 2944 \nQ 1939 2944 2176 2656 \nQ 2291 2522 2323 2384 \nQ 2355 2246 2355 1946 \nL 2355 723 \nQ 2355 301 2554 301 \nQ 2682 301 2829 422 \nz\nM 1837 813 \nL 1837 1715 \nQ 1248 1510 1018 1293 \nQ 800 1094 800 800 \nQ 800 557 921 432 \nQ 1043 307 1242 307 \nQ 1453 307 1613 410 \nQ 1747 506 1792 589 \nQ 1837 672 1837 813 \nz\n\" transform=\"scale(0.015625)\"/>\n       <path id=\"STIXGeneral-Regular-63\" d=\"M 2547 998 \nL 2637 941 \nQ 2362 403 2112 205 \nQ 1786 -64 1376 -64 \nQ 845 -64 502 336 \nQ 160 736 160 1357 \nQ 160 2170 698 2618 \nQ 1094 2944 1562 2944 \nQ 1965 2944 2256 2749 \nQ 2547 2554 2547 2285 \nQ 2547 2176 2457 2096 \nQ 2368 2016 2246 2016 \nQ 2022 2016 1939 2310 \nL 1901 2451 \nQ 1850 2630 1773 2694 \nQ 1696 2758 1523 2758 \nQ 1133 2758 893 2451 \nQ 653 2144 653 1645 \nQ 653 1094 928 745 \nQ 1203 397 1645 397 \nQ 1920 397 2118 528 \nQ 2317 659 2547 998 \nz\n\" transform=\"scale(0.015625)\"/>\n       <path id=\"STIXGeneral-Regular-6c\" d=\"M 1645 0 \nL 134 0 \nL 134 96 \nQ 435 122 531 221 \nQ 627 320 627 589 \nL 627 3590 \nQ 627 3821 569 3910 \nQ 512 4000 358 4000 \nQ 224 4000 122 3987 \nL 122 4090 \nQ 730 4237 1133 4371 \nL 1165 4346 \nL 1165 557 \nQ 1165 288 1254 201 \nQ 1344 115 1645 96 \nL 1645 0 \nz\n\" transform=\"scale(0.015625)\"/>\n       <path id=\"STIXGeneral-Regular-22\" d=\"M 1914 2758 \nL 1779 2758 \nQ 1574 3872 1574 4051 \nQ 1574 4173 1651 4249 \nQ 1728 4326 1850 4326 \nQ 1965 4326 2041 4249 \nQ 2118 4173 2118 4064 \nQ 2118 3981 2089 3801 \nQ 2061 3622 2006 3308 \nQ 1952 2995 1914 2758 \nz\nM 832 2758 \nL 698 2758 \nQ 493 3872 493 4051 \nQ 493 4173 569 4249 \nQ 646 4326 768 4326 \nQ 883 4326 960 4252 \nQ 1037 4179 1037 4064 \nQ 1037 3744 832 2758 \nz\n\" transform=\"scale(0.015625)\"/>\n       <path id=\"STIXGeneral-Regular-64\" d=\"M 3142 269 \nL 2202 -64 \nL 2176 -45 \nL 2176 365 \nQ 1869 -64 1357 -64 \nQ 826 -64 499 317 \nQ 173 698 173 1312 \nQ 173 1990 563 2467 \nQ 954 2944 1504 2944 \nQ 1850 2944 2176 2669 \nL 2176 3667 \nQ 2176 3866 2118 3930 \nQ 2061 3994 1882 3994 \nQ 1792 3994 1741 3987 \nL 1741 4090 \nQ 2323 4243 2682 4371 \nL 2714 4358 \nL 2714 730 \nQ 2714 506 2768 435 \nQ 2822 365 2995 365 \nQ 3034 365 3142 371 \nL 3142 269 \nz\nM 2176 653 \nL 2176 2125 \nQ 2176 2381 1981 2573 \nQ 1786 2765 1523 2765 \nQ 1158 2765 940 2438 \nQ 723 2112 723 1568 \nQ 723 979 963 624 \nQ 1203 269 1606 269 \nQ 1907 269 2080 474 \nQ 2176 582 2176 653 \nz\n\" transform=\"scale(0.015625)\"/>\n      </defs>\n      <use xlink:href=\"#STIXGeneral-Regular-43\"/>\n      <use xlink:href=\"#STIXGeneral-Regular-6f\" x=\"66.699997\"/>\n      <use xlink:href=\"#STIXGeneral-Regular-75\" x=\"116.699982\"/>\n      <use xlink:href=\"#STIXGeneral-Regular-6e\" x=\"166.699966\"/>\n      <use xlink:href=\"#STIXGeneral-Regular-74\" x=\"216.699951\"/>\n      <use xlink:href=\"#STIXGeneral-Regular-20\" x=\"244.499939\"/>\n      <use xlink:href=\"#STIXGeneral-Regular-6f\" x=\"269.499924\"/>\n      <use xlink:href=\"#STIXGeneral-Regular-66\" x=\"319.499908\"/>\n      <use xlink:href=\"#STIXGeneral-Regular-20\" x=\"352.799896\"/>\n      <use xlink:href=\"#STIXGeneral-Regular-74\" x=\"377.799881\"/>\n      <use xlink:href=\"#STIXGeneral-Regular-65\" x=\"405.599869\"/>\n      <use xlink:href=\"#STIXGeneral-Regular-72\" x=\"449.999863\"/>\n      <use xlink:href=\"#STIXGeneral-Regular-6d\" x=\"483.29985\"/>\n      <use xlink:href=\"#STIXGeneral-Regular-73\" x=\"561.099838\"/>\n      <use xlink:href=\"#STIXGeneral-Regular-20\" x=\"599.999832\"/>\n      <use xlink:href=\"#STIXGeneral-Regular-61\" x=\"624.999817\"/>\n      <use xlink:href=\"#STIXGeneral-Regular-63\" x=\"669.399811\"/>\n      <use xlink:href=\"#STIXGeneral-Regular-72\" x=\"713.799805\"/>\n      <use xlink:href=\"#STIXGeneral-Regular-6f\" x=\"747.099792\"/>\n      <use xlink:href=\"#STIXGeneral-Regular-73\" x=\"797.099777\"/>\n      <use xlink:href=\"#STIXGeneral-Regular-73\" x=\"835.999771\"/>\n      <use xlink:href=\"#STIXGeneral-Regular-20\" x=\"874.899765\"/>\n      <use xlink:href=\"#STIXGeneral-Regular-61\" x=\"899.89975\"/>\n      <use xlink:href=\"#STIXGeneral-Regular-6c\" x=\"944.299744\"/>\n      <use xlink:href=\"#STIXGeneral-Regular-6c\" x=\"972.099731\"/>\n      <use xlink:href=\"#STIXGeneral-Regular-20\" x=\"999.899719\"/>\n      <use xlink:href=\"#STIXGeneral-Regular-22\" x=\"1024.899704\"/>\n      <use xlink:href=\"#STIXGeneral-Regular-64\" x=\"1065.699692\"/>\n      <use xlink:href=\"#STIXGeneral-Regular-6f\" x=\"1115.699677\"/>\n      <use xlink:href=\"#STIXGeneral-Regular-63\" x=\"1165.699661\"/>\n      <use xlink:href=\"#STIXGeneral-Regular-75\" x=\"1210.099655\"/>\n      <use xlink:href=\"#STIXGeneral-Regular-6d\" x=\"1260.09964\"/>\n      <use xlink:href=\"#STIXGeneral-Regular-65\" x=\"1337.899628\"/>\n      <use xlink:href=\"#STIXGeneral-Regular-6e\" x=\"1382.299622\"/>\n      <use xlink:href=\"#STIXGeneral-Regular-74\" x=\"1432.299606\"/>\n      <use xlink:href=\"#STIXGeneral-Regular-73\" x=\"1460.099594\"/>\n      <use xlink:href=\"#STIXGeneral-Regular-22\" x=\"1498.999588\"/>\n     </g>\n    </g>\n   </g>\n   <g id=\"matplotlib.axis_2\">\n    <g id=\"ytick_1\">\n     <g id=\"line2d_11\">\n      <defs>\n       <path id=\"mae1e74430a\" d=\"M 0 0 \nL -3.5 0 \n\" style=\"stroke: #323034; stroke-width: 0.8\"/>\n      </defs>\n      <g>\n       <use xlink:href=\"#mae1e74430a\" x=\"43.0725\" y=\"237.376406\" style=\"fill: #323034; stroke: #323034; stroke-width: 0.8\"/>\n      </g>\n     </g>\n     <g id=\"text_12\">\n      <!-- price -->\n      <g style=\"fill: #323034\" transform=\"translate(20.08 240.108281)scale(0.08 -0.08)\">\n       <defs>\n        <path id=\"STIXGeneral-Regular-70\" d=\"M 1018 2931 \nL 1018 2438 \nQ 1421 2944 1939 2944 \nQ 2406 2944 2707 2560 \nQ 3008 2176 3008 1581 \nQ 3008 883 2621 409 \nQ 2234 -64 1664 -64 \nQ 1466 -64 1328 -6 \nQ 1190 51 1018 211 \nL 1018 -794 \nQ 1018 -1094 1120 -1180 \nQ 1222 -1267 1581 -1274 \nL 1581 -1389 \nL 32 -1389 \nL 32 -1280 \nQ 314 -1254 397 -1171 \nQ 480 -1088 480 -838 \nL 480 2157 \nQ 480 2381 429 2451 \nQ 378 2522 218 2522 \nQ 115 2522 58 2515 \nL 58 2618 \nQ 506 2752 979 2944 \nL 1018 2931 \nz\nM 1018 2138 \nL 1018 563 \nQ 1018 422 1238 281 \nQ 1459 141 1683 141 \nQ 2029 141 2243 467 \nQ 2458 794 2458 1325 \nQ 2458 1888 2243 2224 \nQ 2029 2560 1670 2560 \nQ 1446 2560 1232 2419 \nQ 1018 2278 1018 2138 \nz\n\" transform=\"scale(0.015625)\"/>\n        <path id=\"STIXGeneral-Regular-69\" d=\"M 1152 4045 \nQ 1152 3904 1056 3811 \nQ 960 3718 819 3718 \nQ 685 3718 592 3811 \nQ 499 3904 499 4045 \nQ 499 4179 595 4275 \nQ 691 4371 826 4371 \nQ 966 4371 1059 4275 \nQ 1152 4179 1152 4045 \nz\nM 1619 0 \nL 102 0 \nL 102 96 \nQ 435 115 521 211 \nQ 608 307 608 666 \nL 608 2118 \nQ 608 2342 563 2432 \nQ 518 2522 397 2522 \nQ 243 2522 128 2490 \nL 128 2592 \nL 1120 2944 \nL 1146 2918 \nL 1146 672 \nQ 1146 314 1226 218 \nQ 1306 122 1619 96 \nL 1619 0 \nz\n\" transform=\"scale(0.015625)\"/>\n       </defs>\n       <use xlink:href=\"#STIXGeneral-Regular-70\"/>\n       <use xlink:href=\"#STIXGeneral-Regular-72\" x=\"49.999985\"/>\n       <use xlink:href=\"#STIXGeneral-Regular-69\" x=\"83.299973\"/>\n       <use xlink:href=\"#STIXGeneral-Regular-63\" x=\"111.09996\"/>\n       <use xlink:href=\"#STIXGeneral-Regular-65\" x=\"155.499954\"/>\n      </g>\n     </g>\n    </g>\n    <g id=\"ytick_2\">\n     <g id=\"line2d_12\">\n      <g>\n       <use xlink:href=\"#mae1e74430a\" x=\"43.0725\" y=\"226.816406\" style=\"fill: #323034; stroke: #323034; stroke-width: 0.8\"/>\n      </g>\n     </g>\n     <g id=\"text_13\">\n      <!-- labour -->\n      <g style=\"fill: #323034\" transform=\"translate(15.6325 229.548281)scale(0.08 -0.08)\">\n       <defs>\n        <path id=\"STIXGeneral-Regular-62\" d=\"M 979 4358 \nL 979 2406 \nQ 1082 2650 1315 2797 \nQ 1549 2944 1843 2944 \nQ 2349 2944 2672 2541 \nQ 2995 2138 2995 1536 \nQ 2995 832 2566 384 \nQ 2138 -64 1498 -64 \nQ 1107 -64 774 67 \nQ 442 198 442 358 \nL 442 3622 \nQ 442 3859 384 3926 \nQ 326 3994 128 3994 \nQ 83 3994 19 3981 \nL 19 4090 \nL 211 4147 \nQ 864 4346 947 4371 \nL 979 4358 \nz\nM 979 2035 \nL 979 474 \nQ 979 326 1161 233 \nQ 1344 141 1600 141 \nQ 1978 141 2195 416 \nQ 2432 710 2432 1261 \nQ 2432 1888 2182 2240 \nQ 1971 2541 1613 2541 \nQ 1357 2541 1168 2390 \nQ 979 2240 979 2035 \nz\n\" transform=\"scale(0.015625)\"/>\n       </defs>\n       <use xlink:href=\"#STIXGeneral-Regular-6c\"/>\n       <use xlink:href=\"#STIXGeneral-Regular-61\" x=\"27.799988\"/>\n       <use xlink:href=\"#STIXGeneral-Regular-62\" x=\"72.199982\"/>\n       <use xlink:href=\"#STIXGeneral-Regular-6f\" x=\"122.199966\"/>\n       <use xlink:href=\"#STIXGeneral-Regular-75\" x=\"172.199951\"/>\n       <use xlink:href=\"#STIXGeneral-Regular-72\" x=\"222.199936\"/>\n      </g>\n     </g>\n    </g>\n    <g id=\"ytick_3\">\n     <g id=\"line2d_13\">\n      <g>\n       <use xlink:href=\"#mae1e74430a\" x=\"43.0725\" y=\"216.256406\" style=\"fill: #323034; stroke: #323034; stroke-width: 0.8\"/>\n      </g>\n     </g>\n     <g id=\"text_14\">\n      <!-- quantity -->\n      <g style=\"fill: #323034\" transform=\"translate(9.84875 218.988281)scale(0.08 -0.08)\">\n       <defs>\n        <path id=\"STIXGeneral-Regular-71\" d=\"M 3123 -1389 \nL 1613 -1389 \nL 1613 -1280 \nQ 1952 -1254 2067 -1158 \nQ 2182 -1062 2182 -794 \nL 2182 410 \nQ 1747 -64 1178 -64 \nQ 730 -64 442 320 \nQ 154 704 154 1312 \nQ 154 2003 560 2473 \nQ 966 2944 1562 2944 \nQ 1920 2944 2304 2720 \nL 2650 2925 \nL 2720 2925 \nL 2720 -902 \nQ 2720 -1107 2797 -1180 \nQ 2874 -1254 3123 -1280 \nL 3123 -1389 \nz\nM 2182 813 \nL 2182 2131 \nQ 2182 2758 1587 2758 \nQ 1178 2758 941 2432 \nQ 704 2106 704 1542 \nQ 704 1210 803 925 \nQ 902 640 1062 499 \nQ 1254 326 1542 326 \nQ 1882 326 2106 531 \nQ 2182 602 2182 813 \nz\n\" transform=\"scale(0.015625)\"/>\n        <path id=\"STIXGeneral-Regular-79\" d=\"M 3040 2880 \nL 3040 2784 \nQ 2925 2771 2854 2700 \nQ 2784 2630 2720 2458 \nL 1760 -160 \nQ 1510 -838 1257 -1116 \nQ 1005 -1395 640 -1395 \nQ 435 -1395 313 -1289 \nQ 192 -1184 192 -1024 \nQ 192 -902 272 -816 \nQ 352 -730 467 -730 \nQ 653 -730 800 -813 \nQ 883 -858 966 -858 \nQ 1101 -858 1286 -576 \nQ 1376 -448 1459 -211 \nQ 1542 26 1542 115 \nQ 1542 198 1274 762 \nL 429 2566 \nQ 346 2752 90 2790 \nL 90 2880 \nL 1402 2880 \nL 1402 2784 \nQ 1197 2778 1117 2739 \nQ 1037 2701 1037 2611 \nQ 1037 2541 1120 2349 \nL 1837 749 \nL 2458 2515 \nQ 2483 2573 2483 2630 \nQ 2483 2784 2189 2784 \nL 2189 2880 \nL 3040 2880 \nz\n\" transform=\"scale(0.015625)\"/>\n       </defs>\n       <use xlink:href=\"#STIXGeneral-Regular-71\"/>\n       <use xlink:href=\"#STIXGeneral-Regular-75\" x=\"49.999985\"/>\n       <use xlink:href=\"#STIXGeneral-Regular-61\" x=\"99.999969\"/>\n       <use xlink:href=\"#STIXGeneral-Regular-6e\" x=\"144.399963\"/>\n       <use xlink:href=\"#STIXGeneral-Regular-74\" x=\"194.399948\"/>\n       <use xlink:href=\"#STIXGeneral-Regular-69\" x=\"222.199936\"/>\n       <use xlink:href=\"#STIXGeneral-Regular-74\" x=\"249.999924\"/>\n       <use xlink:href=\"#STIXGeneral-Regular-79\" x=\"277.799911\"/>\n      </g>\n     </g>\n    </g>\n    <g id=\"ytick_4\">\n     <g id=\"line2d_14\">\n      <g>\n       <use xlink:href=\"#mae1e74430a\" x=\"43.0725\" y=\"205.696406\" style=\"fill: #323034; stroke: #323034; stroke-width: 0.8\"/>\n      </g>\n     </g>\n     <g id=\"text_15\">\n      <!-- greater -->\n      <g style=\"fill: #323034\" transform=\"translate(13.86375 208.424531)scale(0.08 -0.08)\">\n       <defs>\n        <path id=\"STIXGeneral-Regular-67\" d=\"M 3008 2483 \nL 2477 2483 \nQ 2598 2208 2598 1946 \nQ 2598 1453 2265 1203 \nQ 1933 954 1600 954 \nQ 1530 954 1357 973 \nL 1235 986 \nQ 1107 947 979 812 \nQ 851 678 851 582 \nQ 851 435 1350 410 \nL 2176 371 \nQ 2528 358 2739 172 \nQ 2950 -13 2950 -314 \nQ 2950 -685 2566 -986 \nQ 2035 -1395 1286 -1395 \nQ 826 -1395 502 -1212 \nQ 179 -1030 179 -774 \nQ 179 -595 320 -419 \nQ 461 -243 806 6 \nQ 602 102 534 172 \nQ 467 243 467 346 \nQ 467 531 762 787 \nQ 909 915 1037 1043 \nQ 717 1203 579 1401 \nQ 442 1600 442 1901 \nQ 442 2336 752 2640 \nQ 1062 2944 1510 2944 \nQ 1766 2944 2022 2848 \nL 2163 2797 \nQ 2349 2733 2515 2733 \nL 3008 2733 \nL 3008 2483 \nz\nM 973 2163 \nL 973 2144 \nQ 973 1683 1155 1398 \nQ 1338 1114 1632 1114 \nQ 1850 1114 1978 1270 \nQ 2106 1427 2106 1690 \nQ 2106 2112 1914 2464 \nQ 1754 2765 1446 2765 \nQ 1222 2765 1097 2605 \nQ 973 2445 973 2163 \nz\nM 2771 -410 \nQ 2771 -230 2595 -163 \nQ 2419 -96 1978 -96 \nQ 1344 -96 941 -13 \nQ 749 -243 688 -348 \nQ 627 -454 627 -563 \nQ 627 -774 880 -902 \nQ 1133 -1030 1555 -1030 \nQ 2099 -1030 2435 -860 \nQ 2771 -691 2771 -410 \nz\n\" transform=\"scale(0.015625)\"/>\n       </defs>\n       <use xlink:href=\"#STIXGeneral-Regular-67\"/>\n       <use xlink:href=\"#STIXGeneral-Regular-72\" x=\"49.999985\"/>\n       <use xlink:href=\"#STIXGeneral-Regular-65\" x=\"83.299973\"/>\n       <use xlink:href=\"#STIXGeneral-Regular-61\" x=\"127.699966\"/>\n       <use xlink:href=\"#STIXGeneral-Regular-74\" x=\"172.09996\"/>\n       <use xlink:href=\"#STIXGeneral-Regular-65\" x=\"199.899948\"/>\n       <use xlink:href=\"#STIXGeneral-Regular-72\" x=\"244.299942\"/>\n      </g>\n     </g>\n    </g>\n    <g id=\"ytick_5\">\n     <g id=\"line2d_15\">\n      <g>\n       <use xlink:href=\"#mae1e74430a\" x=\"43.0725\" y=\"195.136406\" style=\"fill: #323034; stroke: #323034; stroke-width: 0.8\"/>\n      </g>\n     </g>\n     <g id=\"text_16\">\n      <!-- part -->\n      <g style=\"fill: #323034\" transform=\"translate(23.6325 197.868281)scale(0.08 -0.08)\">\n       <use xlink:href=\"#STIXGeneral-Regular-70\"/>\n       <use xlink:href=\"#STIXGeneral-Regular-61\" x=\"49.999985\"/>\n       <use xlink:href=\"#STIXGeneral-Regular-72\" x=\"94.399979\"/>\n       <use xlink:href=\"#STIXGeneral-Regular-74\" x=\"127.699966\"/>\n      </g>\n     </g>\n    </g>\n    <g id=\"ytick_6\">\n     <g id=\"line2d_16\">\n      <g>\n       <use xlink:href=\"#mae1e74430a\" x=\"43.0725\" y=\"184.576406\" style=\"fill: #323034; stroke: #323034; stroke-width: 0.8\"/>\n      </g>\n     </g>\n     <g id=\"text_17\">\n      <!-- silver -->\n      <g style=\"fill: #323034\" transform=\"translate(18.29625 187.308281)scale(0.08 -0.08)\">\n       <defs>\n        <path id=\"STIXGeneral-Regular-76\" d=\"M 3053 2880 \nL 3053 2784 \nQ 2906 2771 2835 2688 \nQ 2765 2605 2637 2285 \nL 1818 230 \nQ 1690 -90 1638 -90 \nQ 1587 -90 1523 77 \nQ 1510 96 1497 141 \nQ 1485 186 1472 211 \nL 704 2048 \nQ 499 2534 403 2652 \nQ 307 2771 122 2784 \nL 122 2880 \nL 1376 2880 \nL 1376 2784 \nQ 1210 2771 1146 2732 \nQ 1082 2694 1082 2611 \nQ 1082 2509 1139 2368 \nL 1792 730 \nL 2426 2387 \nQ 2464 2483 2464 2579 \nQ 2464 2758 2163 2784 \nL 2163 2880 \nL 3053 2880 \nz\n\" transform=\"scale(0.015625)\"/>\n       </defs>\n       <use xlink:href=\"#STIXGeneral-Regular-73\"/>\n       <use xlink:href=\"#STIXGeneral-Regular-69\" x=\"38.899994\"/>\n       <use xlink:href=\"#STIXGeneral-Regular-6c\" x=\"66.699982\"/>\n       <use xlink:href=\"#STIXGeneral-Regular-76\" x=\"94.499969\"/>\n       <use xlink:href=\"#STIXGeneral-Regular-65\" x=\"144.499954\"/>\n       <use xlink:href=\"#STIXGeneral-Regular-72\" x=\"188.899948\"/>\n      </g>\n     </g>\n    </g>\n    <g id=\"ytick_7\">\n     <g id=\"line2d_17\">\n      <g>\n       <use xlink:href=\"#mae1e74430a\" x=\"43.0725\" y=\"174.016406\" style=\"fill: #323034; stroke: #323034; stroke-width: 0.8\"/>\n      </g>\n     </g>\n     <g id=\"text_18\">\n      <!-- one -->\n      <g style=\"fill: #323034\" transform=\"translate(24.52 176.748281)scale(0.08 -0.08)\">\n       <use xlink:href=\"#STIXGeneral-Regular-6f\"/>\n       <use xlink:href=\"#STIXGeneral-Regular-6e\" x=\"49.999985\"/>\n       <use xlink:href=\"#STIXGeneral-Regular-65\" x=\"99.999969\"/>\n      </g>\n     </g>\n    </g>\n    <g id=\"ytick_8\">\n     <g id=\"line2d_18\">\n      <g>\n       <use xlink:href=\"#mae1e74430a\" x=\"43.0725\" y=\"163.456406\" style=\"fill: #323034; stroke: #323034; stroke-width: 0.8\"/>\n      </g>\n     </g>\n     <g id=\"text_19\">\n      <!-- much -->\n      <g style=\"fill: #323034\" transform=\"translate(18.29625 166.188281)scale(0.08 -0.08)\">\n       <defs>\n        <path id=\"STIXGeneral-Regular-68\" d=\"M 3117 0 \nL 1760 0 \nL 1760 96 \nQ 2042 128 2118 224 \nQ 2195 320 2195 653 \nL 2195 1920 \nQ 2195 2598 1722 2598 \nQ 1530 2598 1370 2508 \nQ 1210 2419 1005 2195 \nL 1005 653 \nQ 1005 320 1081 224 \nQ 1158 128 1440 96 \nL 1440 0 \nL 58 0 \nL 58 96 \nQ 333 134 400 224 \nQ 467 314 467 653 \nL 467 3667 \nQ 467 3872 406 3933 \nQ 346 3994 141 3994 \nQ 83 3994 64 3987 \nL 64 4090 \nL 237 4141 \nQ 730 4288 973 4371 \nL 1005 4352 \nL 1005 2406 \nQ 1229 2694 1446 2819 \nQ 1664 2944 1946 2944 \nQ 2733 2944 2733 1926 \nL 2733 653 \nQ 2733 320 2793 233 \nQ 2854 147 3117 96 \nL 3117 0 \nz\n\" transform=\"scale(0.015625)\"/>\n       </defs>\n       <use xlink:href=\"#STIXGeneral-Regular-6d\"/>\n       <use xlink:href=\"#STIXGeneral-Regular-75\" x=\"77.799988\"/>\n       <use xlink:href=\"#STIXGeneral-Regular-63\" x=\"127.799973\"/>\n       <use xlink:href=\"#STIXGeneral-Regular-68\" x=\"172.199966\"/>\n      </g>\n     </g>\n    </g>\n    <g id=\"ytick_9\">\n     <g id=\"line2d_19\">\n      <g>\n       <use xlink:href=\"#mae1e74430a\" x=\"43.0725\" y=\"152.896406\" style=\"fill: #323034; stroke: #323034; stroke-width: 0.8\"/>\n      </g>\n     </g>\n     <g id=\"text_20\">\n      <!-- upon -->\n      <g style=\"fill: #323034\" transform=\"translate(20.0725 155.628281)scale(0.08 -0.08)\">\n       <use xlink:href=\"#STIXGeneral-Regular-75\"/>\n       <use xlink:href=\"#STIXGeneral-Regular-70\" x=\"49.999985\"/>\n       <use xlink:href=\"#STIXGeneral-Regular-6f\" x=\"99.999969\"/>\n       <use xlink:href=\"#STIXGeneral-Regular-6e\" x=\"149.999954\"/>\n      </g>\n     </g>\n    </g>\n    <g id=\"ytick_10\">\n     <g id=\"line2d_20\">\n      <g>\n       <use xlink:href=\"#mae1e74430a\" x=\"43.0725\" y=\"142.336406\" style=\"fill: #323034; stroke: #323034; stroke-width: 0.8\"/>\n      </g>\n     </g>\n     <g id=\"text_21\">\n      <!-- may -->\n      <g style=\"fill: #323034\" transform=\"translate(22.29625 145.064531)scale(0.08 -0.08)\">\n       <use xlink:href=\"#STIXGeneral-Regular-6d\"/>\n       <use xlink:href=\"#STIXGeneral-Regular-61\" x=\"77.799988\"/>\n       <use xlink:href=\"#STIXGeneral-Regular-79\" x=\"122.199982\"/>\n      </g>\n     </g>\n    </g>\n    <g id=\"ytick_11\">\n     <g id=\"line2d_21\">\n      <g>\n       <use xlink:href=\"#mae1e74430a\" x=\"43.0725\" y=\"131.776406\" style=\"fill: #323034; stroke: #323034; stroke-width: 0.8\"/>\n      </g>\n     </g>\n     <g id=\"text_22\">\n      <!-- must -->\n      <g style=\"fill: #323034\" transform=\"translate(20.5125 134.508281)scale(0.08 -0.08)\">\n       <use xlink:href=\"#STIXGeneral-Regular-6d\"/>\n       <use xlink:href=\"#STIXGeneral-Regular-75\" x=\"77.799988\"/>\n       <use xlink:href=\"#STIXGeneral-Regular-73\" x=\"127.799973\"/>\n       <use xlink:href=\"#STIXGeneral-Regular-74\" x=\"166.699966\"/>\n      </g>\n     </g>\n    </g>\n    <g id=\"ytick_12\">\n     <g id=\"line2d_22\">\n      <g>\n       <use xlink:href=\"#mae1e74430a\" x=\"43.0725\" y=\"121.216406\" style=\"fill: #323034; stroke: #323034; stroke-width: 0.8\"/>\n      </g>\n     </g>\n     <g id=\"text_23\">\n      <!-- would -->\n      <g style=\"fill: #323034\" transform=\"translate(16.0725 123.948281)scale(0.08 -0.08)\">\n       <defs>\n        <path id=\"STIXGeneral-Regular-77\" d=\"M 4442 2880 \nL 4442 2784 \nQ 4346 2752 4301 2691 \nQ 4256 2630 4179 2438 \nL 3296 224 \nQ 3168 -90 3117 -90 \nQ 3085 -90 3062 -48 \nQ 3040 -6 2963 186 \nL 2381 1696 \nL 1664 160 \nQ 1549 -90 1504 -90 \nQ 1446 -90 1338 192 \nL 474 2381 \nQ 378 2630 314 2700 \nQ 250 2771 134 2784 \nL 134 2880 \nL 1286 2880 \nL 1286 2784 \nQ 1120 2765 1056 2720 \nQ 992 2675 992 2573 \nQ 992 2477 1030 2381 \nL 1664 710 \nL 2246 1984 \nL 2118 2342 \nQ 2029 2598 1942 2681 \nQ 1856 2765 1677 2784 \nL 1677 2880 \nL 2976 2880 \nL 2976 2784 \nQ 2752 2752 2678 2707 \nQ 2605 2662 2605 2560 \nQ 2605 2458 2714 2176 \nL 3251 742 \nL 3827 2163 \nQ 3936 2432 3936 2592 \nQ 3936 2669 3875 2710 \nQ 3814 2752 3654 2784 \nL 3654 2880 \nL 4442 2880 \nz\n\" transform=\"scale(0.015625)\"/>\n       </defs>\n       <use xlink:href=\"#STIXGeneral-Regular-77\"/>\n       <use xlink:href=\"#STIXGeneral-Regular-6f\" x=\"72.199982\"/>\n       <use xlink:href=\"#STIXGeneral-Regular-75\" x=\"122.199966\"/>\n       <use xlink:href=\"#STIXGeneral-Regular-6c\" x=\"172.199951\"/>\n       <use xlink:href=\"#STIXGeneral-Regular-64\" x=\"199.999939\"/>\n      </g>\n     </g>\n    </g>\n    <g id=\"ytick_13\">\n     <g id=\"line2d_23\">\n      <g>\n       <use xlink:href=\"#mae1e74430a\" x=\"43.0725\" y=\"110.656406\" style=\"fill: #323034; stroke: #323034; stroke-width: 0.8\"/>\n      </g>\n     </g>\n     <g id=\"text_24\">\n      <!-- different -->\n      <g style=\"fill: #323034\" transform=\"translate(8.52875 113.388281)scale(0.08 -0.08)\">\n       <use xlink:href=\"#STIXGeneral-Regular-64\"/>\n       <use xlink:href=\"#STIXGeneral-Regular-69\" x=\"49.999985\"/>\n       <use xlink:href=\"#STIXGeneral-Regular-66\" x=\"77.799973\"/>\n       <use xlink:href=\"#STIXGeneral-Regular-66\" x=\"111.09996\"/>\n       <use xlink:href=\"#STIXGeneral-Regular-65\" x=\"144.399948\"/>\n       <use xlink:href=\"#STIXGeneral-Regular-72\" x=\"188.799942\"/>\n       <use xlink:href=\"#STIXGeneral-Regular-65\" x=\"222.09993\"/>\n       <use xlink:href=\"#STIXGeneral-Regular-6e\" x=\"266.499924\"/>\n       <use xlink:href=\"#STIXGeneral-Regular-74\" x=\"316.499908\"/>\n      </g>\n     </g>\n    </g>\n    <g id=\"ytick_14\">\n     <g id=\"line2d_24\">\n      <g>\n       <use xlink:href=\"#mae1e74430a\" x=\"43.0725\" y=\"100.096406\" style=\"fill: #323034; stroke: #323034; stroke-width: 0.8\"/>\n      </g>\n     </g>\n     <g id=\"text_25\">\n      <!-- value -->\n      <g style=\"fill: #323034\" transform=\"translate(18.74375 102.828281)scale(0.08 -0.08)\">\n       <use xlink:href=\"#STIXGeneral-Regular-76\"/>\n       <use xlink:href=\"#STIXGeneral-Regular-61\" x=\"49.999985\"/>\n       <use xlink:href=\"#STIXGeneral-Regular-6c\" x=\"94.399979\"/>\n       <use xlink:href=\"#STIXGeneral-Regular-75\" x=\"122.199966\"/>\n       <use xlink:href=\"#STIXGeneral-Regular-65\" x=\"172.199951\"/>\n      </g>\n     </g>\n    </g>\n    <g id=\"ytick_15\">\n     <g id=\"line2d_25\">\n      <g>\n       <use xlink:href=\"#mae1e74430a\" x=\"43.0725\" y=\"89.536406\" style=\"fill: #323034; stroke: #323034; stroke-width: 0.8\"/>\n      </g>\n     </g>\n     <g id=\"text_26\">\n      <!-- great -->\n      <g style=\"fill: #323034\" transform=\"translate(20.08 92.264531)scale(0.08 -0.08)\">\n       <use xlink:href=\"#STIXGeneral-Regular-67\"/>\n       <use xlink:href=\"#STIXGeneral-Regular-72\" x=\"49.999985\"/>\n       <use xlink:href=\"#STIXGeneral-Regular-65\" x=\"83.299973\"/>\n       <use xlink:href=\"#STIXGeneral-Regular-61\" x=\"127.699966\"/>\n       <use xlink:href=\"#STIXGeneral-Regular-74\" x=\"172.09996\"/>\n      </g>\n     </g>\n    </g>\n    <g id=\"ytick_16\">\n     <g id=\"line2d_26\">\n      <g>\n       <use xlink:href=\"#mae1e74430a\" x=\"43.0725\" y=\"78.976406\" style=\"fill: #323034; stroke: #323034; stroke-width: 0.8\"/>\n      </g>\n     </g>\n     <g id=\"text_27\">\n      <!-- therefore -->\n      <g style=\"fill: #323034\" transform=\"translate(7.2 81.708281)scale(0.08 -0.08)\">\n       <use xlink:href=\"#STIXGeneral-Regular-74\"/>\n       <use xlink:href=\"#STIXGeneral-Regular-68\" x=\"27.799988\"/>\n       <use xlink:href=\"#STIXGeneral-Regular-65\" x=\"77.799973\"/>\n       <use xlink:href=\"#STIXGeneral-Regular-72\" x=\"122.199966\"/>\n       <use xlink:href=\"#STIXGeneral-Regular-65\" x=\"155.499954\"/>\n       <use xlink:href=\"#STIXGeneral-Regular-66\" x=\"199.899948\"/>\n       <use xlink:href=\"#STIXGeneral-Regular-6f\" x=\"233.199936\"/>\n       <use xlink:href=\"#STIXGeneral-Regular-72\" x=\"283.199921\"/>\n       <use xlink:href=\"#STIXGeneral-Regular-65\" x=\"316.499908\"/>\n      </g>\n     </g>\n    </g>\n    <g id=\"ytick_17\">\n     <g id=\"line2d_27\">\n      <g>\n       <use xlink:href=\"#mae1e74430a\" x=\"43.0725\" y=\"68.416406\" style=\"fill: #323034; stroke: #323034; stroke-width: 0.8\"/>\n      </g>\n     </g>\n     <g id=\"text_28\">\n      <!-- country -->\n      <g style=\"fill: #323034\" transform=\"translate(11.6325 71.144531)scale(0.08 -0.08)\">\n       <use xlink:href=\"#STIXGeneral-Regular-63\"/>\n       <use xlink:href=\"#STIXGeneral-Regular-6f\" x=\"44.399994\"/>\n       <use xlink:href=\"#STIXGeneral-Regular-75\" x=\"94.399979\"/>\n       <use xlink:href=\"#STIXGeneral-Regular-6e\" x=\"144.399963\"/>\n       <use xlink:href=\"#STIXGeneral-Regular-74\" x=\"194.399948\"/>\n       <use xlink:href=\"#STIXGeneral-Regular-72\" x=\"222.199936\"/>\n       <use xlink:href=\"#STIXGeneral-Regular-79\" x=\"255.499924\"/>\n      </g>\n     </g>\n    </g>\n    <g id=\"ytick_18\">\n     <g id=\"line2d_28\">\n      <g>\n       <use xlink:href=\"#mae1e74430a\" x=\"43.0725\" y=\"57.856406\" style=\"fill: #323034; stroke: #323034; stroke-width: 0.8\"/>\n      </g>\n     </g>\n     <g id=\"text_29\">\n      <!-- produce -->\n      <g style=\"fill: #323034\" transform=\"translate(10.30375 60.588281)scale(0.08 -0.08)\">\n       <use xlink:href=\"#STIXGeneral-Regular-70\"/>\n       <use xlink:href=\"#STIXGeneral-Regular-72\" x=\"49.999985\"/>\n       <use xlink:href=\"#STIXGeneral-Regular-6f\" x=\"83.299973\"/>\n       <use xlink:href=\"#STIXGeneral-Regular-64\" x=\"133.299957\"/>\n       <use xlink:href=\"#STIXGeneral-Regular-75\" x=\"183.299942\"/>\n       <use xlink:href=\"#STIXGeneral-Regular-63\" x=\"233.299927\"/>\n       <use xlink:href=\"#STIXGeneral-Regular-65\" x=\"277.699921\"/>\n      </g>\n     </g>\n    </g>\n    <g id=\"ytick_19\">\n     <g id=\"line2d_29\">\n      <g>\n       <use xlink:href=\"#mae1e74430a\" x=\"43.0725\" y=\"47.296406\" style=\"fill: #323034; stroke: #323034; stroke-width: 0.8\"/>\n      </g>\n     </g>\n     <g id=\"text_30\">\n      <!-- market -->\n      <g style=\"fill: #323034\" transform=\"translate(13.85625 50.028281)scale(0.08 -0.08)\">\n       <defs>\n        <path id=\"STIXGeneral-Regular-6b\" d=\"M 3232 0 \nL 1837 0 \nL 1837 96 \nL 1958 96 \nQ 2093 96 2093 192 \nQ 2093 250 2022 339 \nL 1062 1606 \nL 1062 429 \nQ 1062 262 1142 185 \nQ 1222 109 1414 102 \nL 1542 96 \nL 1542 0 \nL 45 0 \nL 45 96 \nQ 390 154 457 214 \nQ 525 275 525 525 \nL 525 3610 \nQ 525 3840 467 3920 \nQ 410 4000 250 4000 \nQ 211 4000 45 3987 \nL 45 4090 \nL 237 4141 \nQ 621 4243 1037 4371 \nL 1062 4358 \nL 1062 1670 \nL 1939 2451 \nQ 2086 2586 2086 2675 \nQ 2086 2739 2019 2761 \nQ 1952 2784 1766 2790 \nL 1766 2880 \nL 3072 2880 \nL 3072 2784 \nQ 2752 2784 2505 2646 \nQ 2259 2509 1690 1978 \nL 1504 1805 \nL 2483 563 \nQ 2829 122 3232 96 \nL 3232 0 \nz\n\" transform=\"scale(0.015625)\"/>\n       </defs>\n       <use xlink:href=\"#STIXGeneral-Regular-6d\"/>\n       <use xlink:href=\"#STIXGeneral-Regular-61\" x=\"77.799988\"/>\n       <use xlink:href=\"#STIXGeneral-Regular-72\" x=\"122.199982\"/>\n       <use xlink:href=\"#STIXGeneral-Regular-6b\" x=\"155.499969\"/>\n       <use xlink:href=\"#STIXGeneral-Regular-65\" x=\"205.499954\"/>\n       <use xlink:href=\"#STIXGeneral-Regular-74\" x=\"249.899948\"/>\n      </g>\n     </g>\n    </g>\n    <g id=\"ytick_20\">\n     <g id=\"line2d_30\">\n      <g>\n       <use xlink:href=\"#mae1e74430a\" x=\"43.0725\" y=\"36.736406\" style=\"fill: #323034; stroke: #323034; stroke-width: 0.8\"/>\n      </g>\n     </g>\n     <g id=\"text_31\">\n      <!-- wages -->\n      <g style=\"fill: #323034\" transform=\"translate(16.07875 39.464531)scale(0.08 -0.08)\">\n       <use xlink:href=\"#STIXGeneral-Regular-77\"/>\n       <use xlink:href=\"#STIXGeneral-Regular-61\" x=\"72.199982\"/>\n       <use xlink:href=\"#STIXGeneral-Regular-67\" x=\"116.599976\"/>\n       <use xlink:href=\"#STIXGeneral-Regular-65\" x=\"166.59996\"/>\n       <use xlink:href=\"#STIXGeneral-Regular-73\" x=\"210.999954\"/>\n      </g>\n     </g>\n    </g>\n   </g>\n   <g id=\"patch_23\">\n    <path d=\"M 43.0725 247.936406 \nL 43.0725 26.176406 \n\" style=\"fill: none; stroke: #000000; stroke-width: 0.6; stroke-linejoin: miter; stroke-linecap: square\"/>\n   </g>\n   <g id=\"patch_24\">\n    <path d=\"M 43.0725 247.936406 \nL 489.4725 247.936406 \n\" style=\"fill: none; stroke: #000000; stroke-width: 0.6; stroke-linejoin: miter; stroke-linecap: square\"/>\n   </g>\n   <g id=\"text_32\">\n    <!-- The 20 top 1-grams -->\n    <g style=\"fill: #323034\" transform=\"translate(43.0725 20.176406)scale(0.19 -0.19)\">\n     <defs>\n      <path id=\"STIXGeneral-Regular-54\" d=\"M 3795 3149 \nL 3642 3149 \nQ 3539 3674 3353 3821 \nQ 3168 3968 2656 3968 \nL 2278 3968 \nL 2278 710 \nQ 2278 346 2387 243 \nQ 2496 141 2893 122 \nL 2893 0 \nL 1024 0 \nL 1024 122 \nQ 1427 147 1526 256 \nQ 1626 365 1626 787 \nL 1626 3968 \nL 1242 3968 \nQ 723 3968 540 3817 \nQ 358 3667 262 3149 \nL 109 3149 \nL 154 4237 \nL 3750 4237 \nL 3795 3149 \nz\n\" transform=\"scale(0.015625)\"/>\n      <path id=\"STIXGeneral-Regular-2d\" d=\"M 1824 1242 \nL 250 1242 \nL 250 1645 \nL 1824 1645 \nL 1824 1242 \nz\n\" transform=\"scale(0.015625)\"/>\n     </defs>\n     <use xlink:href=\"#STIXGeneral-Regular-54\"/>\n     <use xlink:href=\"#STIXGeneral-Regular-68\" x=\"61.099991\"/>\n     <use xlink:href=\"#STIXGeneral-Regular-65\" x=\"111.099976\"/>\n     <use xlink:href=\"#STIXGeneral-Regular-20\" x=\"155.499969\"/>\n     <use xlink:href=\"#STIXGeneral-Regular-32\" x=\"180.499954\"/>\n     <use xlink:href=\"#STIXGeneral-Regular-30\" x=\"230.499939\"/>\n     <use xlink:href=\"#STIXGeneral-Regular-20\" x=\"280.499924\"/>\n     <use xlink:href=\"#STIXGeneral-Regular-74\" x=\"305.499908\"/>\n     <use xlink:href=\"#STIXGeneral-Regular-6f\" x=\"333.299896\"/>\n     <use xlink:href=\"#STIXGeneral-Regular-70\" x=\"383.299881\"/>\n     <use xlink:href=\"#STIXGeneral-Regular-20\" x=\"433.299866\"/>\n     <use xlink:href=\"#STIXGeneral-Regular-31\" x=\"458.29985\"/>\n     <use xlink:href=\"#STIXGeneral-Regular-2d\" x=\"508.299835\"/>\n     <use xlink:href=\"#STIXGeneral-Regular-67\" x=\"541.599823\"/>\n     <use xlink:href=\"#STIXGeneral-Regular-72\" x=\"591.599808\"/>\n     <use xlink:href=\"#STIXGeneral-Regular-61\" x=\"624.899796\"/>\n     <use xlink:href=\"#STIXGeneral-Regular-6d\" x=\"669.299789\"/>\n     <use xlink:href=\"#STIXGeneral-Regular-73\" x=\"747.099777\"/>\n    </g>\n   </g>\n  </g>\n </g>\n <defs>\n  <clipPath id=\"pbfb725e8ca\">\n   <rect x=\"43.0725\" y=\"26.176406\" width=\"446.4\" height=\"221.76\"/>\n  </clipPath>\n </defs>\n</svg>\n",
      "text/plain": [
       "<Figure size 1200x600 with 1 Axes>"
      ]
     },
     "metadata": {},
     "output_type": "display_data"
    }
   ],
   "source": [
    "import matplotlib.pyplot as plt\n",
    "\n",
    "# Plot settings\n",
    "plt.style.use(\n",
    "    \"https://github.com/aeturrell/coding-for-economists/raw/main/plot_style.txt\"\n",
    ")\n",
    "\n",
    "\n",
    "num_to_plot = 20\n",
    "x_pos = np.arange(num_to_plot)\n",
    "fig, ax = plt.subplots()\n",
    "ax.barh(x_pos, counts_df[:num_to_plot], align=\"center\", alpha=0.5)\n",
    "ax.set_yticks(x_pos)\n",
    "ax.set_yticklabels(counts_df[:num_to_plot].index, fontsize=8)\n",
    "ax.set_ylim(-1, num_to_plot)\n",
    "ax.set_xlabel('Count of terms across all \"documents\"')\n",
    "ax.set_title(f\"The {num_to_plot} top 1-grams\")\n",
    "plt.show()"
   ]
  },
  {
   "cell_type": "markdown",
   "metadata": {},
   "source": [
    "Let's see what happens when we ask only for bi-grams."
   ]
  },
  {
   "cell_type": "code",
   "execution_count": 24,
   "metadata": {},
   "outputs": [
    {
     "name": "stderr",
     "output_type": "stream",
     "text": [
      "/opt/anaconda3/envs/codeforecon/lib/python3.8/site-packages/sklearn/utils/deprecation.py:87: FutureWarning: Function get_feature_names is deprecated; get_feature_names is deprecated in 1.0 and will be removed in 1.2. Please use get_feature_names_out instead.\n",
      "  warnings.warn(msg, category=FutureWarning)\n"
     ]
    },
    {
     "data": {
      "image/svg+xml": "<?xml version=\"1.0\" encoding=\"utf-8\" standalone=\"no\"?>\n<!DOCTYPE svg PUBLIC \"-//W3C//DTD SVG 1.1//EN\"\n  \"http://www.w3.org/Graphics/SVG/1.1/DTD/svg11.dtd\">\n<svg xmlns:xlink=\"http://www.w3.org/1999/xlink\" width=\"530.2325pt\" height=\"293.936406pt\" viewBox=\"0 0 530.2325 293.936406\" xmlns=\"http://www.w3.org/2000/svg\" version=\"1.1\">\n <metadata>\n  <rdf:RDF xmlns:dc=\"http://purl.org/dc/elements/1.1/\" xmlns:cc=\"http://creativecommons.org/ns#\" xmlns:rdf=\"http://www.w3.org/1999/02/22-rdf-syntax-ns#\">\n   <cc:Work>\n    <dc:type rdf:resource=\"http://purl.org/dc/dcmitype/StillImage\"/>\n    <dc:date>2022-10-28T18:44:26.418696</dc:date>\n    <dc:format>image/svg+xml</dc:format>\n    <dc:creator>\n     <cc:Agent>\n      <dc:title>Matplotlib v3.5.3, https://matplotlib.org/</dc:title>\n     </cc:Agent>\n    </dc:creator>\n   </cc:Work>\n  </rdf:RDF>\n </metadata>\n <defs>\n  <style type=\"text/css\">*{stroke-linejoin: round; stroke-linecap: butt}</style>\n </defs>\n <g id=\"figure_1\">\n  <g id=\"patch_1\">\n   <path d=\"M 0 293.936406 \nL 530.2325 293.936406 \nL 530.2325 0 \nL 0 0 \nz\n\" style=\"fill: #ffffff\"/>\n  </g>\n  <g id=\"axes_1\">\n   <g id=\"patch_2\">\n    <path d=\"M 64.6325 247.936406 \nL 511.0325 247.936406 \nL 511.0325 26.176406 \nL 64.6325 26.176406 \nz\n\" style=\"fill: #ffffff\"/>\n   </g>\n   <g id=\"patch_3\">\n    <path d=\"M 64.6325 241.600406 \nL 483.1325 241.600406 \nL 483.1325 233.152406 \nL 64.6325 233.152406 \nz\n\" clip-path=\"url(#p98cb6036ad)\" style=\"fill: #bc80bd; opacity: 0.5; stroke: #000000; stroke-width: 0.8; stroke-linejoin: miter\"/>\n   </g>\n   <g id=\"patch_4\">\n    <path d=\"M 64.6325 231.040406 \nL 259.9325 231.040406 \nL 259.9325 222.592406 \nL 64.6325 222.592406 \nz\n\" clip-path=\"url(#p98cb6036ad)\" style=\"fill: #bc80bd; opacity: 0.5; stroke: #000000; stroke-width: 0.8; stroke-linejoin: miter\"/>\n   </g>\n   <g id=\"patch_5\">\n    <path d=\"M 64.6325 220.480406 \nL 234.8225 220.480406 \nL 234.8225 212.032406 \nL 64.6325 212.032406 \nz\n\" clip-path=\"url(#p98cb6036ad)\" style=\"fill: #bc80bd; opacity: 0.5; stroke: #000000; stroke-width: 0.8; stroke-linejoin: miter\"/>\n   </g>\n   <g id=\"patch_6\">\n    <path d=\"M 64.6325 209.920406 \nL 232.0325 209.920406 \nL 232.0325 201.472406 \nL 64.6325 201.472406 \nz\n\" clip-path=\"url(#p98cb6036ad)\" style=\"fill: #bc80bd; opacity: 0.5; stroke: #000000; stroke-width: 0.8; stroke-linejoin: miter\"/>\n   </g>\n   <g id=\"patch_7\">\n    <path d=\"M 64.6325 199.360406 \nL 215.2925 199.360406 \nL 215.2925 190.912406 \nL 64.6325 190.912406 \nz\n\" clip-path=\"url(#p98cb6036ad)\" style=\"fill: #bc80bd; opacity: 0.5; stroke: #000000; stroke-width: 0.8; stroke-linejoin: miter\"/>\n   </g>\n   <g id=\"patch_8\">\n    <path d=\"M 64.6325 188.800406 \nL 187.3925 188.800406 \nL 187.3925 180.352406 \nL 64.6325 180.352406 \nz\n\" clip-path=\"url(#p98cb6036ad)\" style=\"fill: #bc80bd; opacity: 0.5; stroke: #000000; stroke-width: 0.8; stroke-linejoin: miter\"/>\n   </g>\n   <g id=\"patch_9\">\n    <path d=\"M 64.6325 178.240406 \nL 184.6025 178.240406 \nL 184.6025 169.792406 \nL 64.6325 169.792406 \nz\n\" clip-path=\"url(#p98cb6036ad)\" style=\"fill: #bc80bd; opacity: 0.5; stroke: #000000; stroke-width: 0.8; stroke-linejoin: miter\"/>\n   </g>\n   <g id=\"patch_10\">\n    <path d=\"M 64.6325 167.680406 \nL 184.6025 167.680406 \nL 184.6025 159.232406 \nL 64.6325 159.232406 \nz\n\" clip-path=\"url(#p98cb6036ad)\" style=\"fill: #bc80bd; opacity: 0.5; stroke: #000000; stroke-width: 0.8; stroke-linejoin: miter\"/>\n   </g>\n   <g id=\"patch_11\">\n    <path d=\"M 64.6325 157.120406 \nL 179.0225 157.120406 \nL 179.0225 148.672406 \nL 64.6325 148.672406 \nz\n\" clip-path=\"url(#p98cb6036ad)\" style=\"fill: #bc80bd; opacity: 0.5; stroke: #000000; stroke-width: 0.8; stroke-linejoin: miter\"/>\n   </g>\n   <g id=\"patch_12\">\n    <path d=\"M 64.6325 146.560406 \nL 179.0225 146.560406 \nL 179.0225 138.112406 \nL 64.6325 138.112406 \nz\n\" clip-path=\"url(#p98cb6036ad)\" style=\"fill: #bc80bd; opacity: 0.5; stroke: #000000; stroke-width: 0.8; stroke-linejoin: miter\"/>\n   </g>\n   <g id=\"patch_13\">\n    <path d=\"M 64.6325 136.000406 \nL 173.4425 136.000406 \nL 173.4425 127.552406 \nL 64.6325 127.552406 \nz\n\" clip-path=\"url(#p98cb6036ad)\" style=\"fill: #bc80bd; opacity: 0.5; stroke: #000000; stroke-width: 0.8; stroke-linejoin: miter\"/>\n   </g>\n   <g id=\"patch_14\">\n    <path d=\"M 64.6325 125.440406 \nL 170.6525 125.440406 \nL 170.6525 116.992406 \nL 64.6325 116.992406 \nz\n\" clip-path=\"url(#p98cb6036ad)\" style=\"fill: #bc80bd; opacity: 0.5; stroke: #000000; stroke-width: 0.8; stroke-linejoin: miter\"/>\n   </g>\n   <g id=\"patch_15\">\n    <path d=\"M 64.6325 114.880406 \nL 170.6525 114.880406 \nL 170.6525 106.432406 \nL 64.6325 106.432406 \nz\n\" clip-path=\"url(#p98cb6036ad)\" style=\"fill: #bc80bd; opacity: 0.5; stroke: #000000; stroke-width: 0.8; stroke-linejoin: miter\"/>\n   </g>\n   <g id=\"patch_16\">\n    <path d=\"M 64.6325 104.320406 \nL 167.8625 104.320406 \nL 167.8625 95.872406 \nL 64.6325 95.872406 \nz\n\" clip-path=\"url(#p98cb6036ad)\" style=\"fill: #bc80bd; opacity: 0.5; stroke: #000000; stroke-width: 0.8; stroke-linejoin: miter\"/>\n   </g>\n   <g id=\"patch_17\">\n    <path d=\"M 64.6325 93.760406 \nL 167.8625 93.760406 \nL 167.8625 85.312406 \nL 64.6325 85.312406 \nz\n\" clip-path=\"url(#p98cb6036ad)\" style=\"fill: #bc80bd; opacity: 0.5; stroke: #000000; stroke-width: 0.8; stroke-linejoin: miter\"/>\n   </g>\n   <g id=\"patch_18\">\n    <path d=\"M 64.6325 83.200406 \nL 167.8625 83.200406 \nL 167.8625 74.752406 \nL 64.6325 74.752406 \nz\n\" clip-path=\"url(#p98cb6036ad)\" style=\"fill: #bc80bd; opacity: 0.5; stroke: #000000; stroke-width: 0.8; stroke-linejoin: miter\"/>\n   </g>\n   <g id=\"patch_19\">\n    <path d=\"M 64.6325 72.640406 \nL 159.4925 72.640406 \nL 159.4925 64.192406 \nL 64.6325 64.192406 \nz\n\" clip-path=\"url(#p98cb6036ad)\" style=\"fill: #bc80bd; opacity: 0.5; stroke: #000000; stroke-width: 0.8; stroke-linejoin: miter\"/>\n   </g>\n   <g id=\"patch_20\">\n    <path d=\"M 64.6325 62.080406 \nL 159.4925 62.080406 \nL 159.4925 53.632406 \nL 64.6325 53.632406 \nz\n\" clip-path=\"url(#p98cb6036ad)\" style=\"fill: #bc80bd; opacity: 0.5; stroke: #000000; stroke-width: 0.8; stroke-linejoin: miter\"/>\n   </g>\n   <g id=\"patch_21\">\n    <path d=\"M 64.6325 51.520406 \nL 156.7025 51.520406 \nL 156.7025 43.072406 \nL 64.6325 43.072406 \nz\n\" clip-path=\"url(#p98cb6036ad)\" style=\"fill: #bc80bd; opacity: 0.5; stroke: #000000; stroke-width: 0.8; stroke-linejoin: miter\"/>\n   </g>\n   <g id=\"patch_22\">\n    <path d=\"M 64.6325 40.960406 \nL 153.9125 40.960406 \nL 153.9125 32.512406 \nL 64.6325 32.512406 \nz\n\" clip-path=\"url(#p98cb6036ad)\" style=\"fill: #bc80bd; opacity: 0.5; stroke: #000000; stroke-width: 0.8; stroke-linejoin: miter\"/>\n   </g>\n   <g id=\"matplotlib.axis_1\">\n    <g id=\"xtick_1\">\n     <g id=\"line2d_1\">\n      <defs>\n       <path id=\"md9aa0c9a08\" d=\"M 0 0 \nL 0 3.5 \n\" style=\"stroke: #323034; stroke-width: 0.8\"/>\n      </defs>\n      <g>\n       <use xlink:href=\"#md9aa0c9a08\" x=\"64.6325\" y=\"247.936406\" style=\"fill: #323034; stroke: #323034; stroke-width: 0.8\"/>\n      </g>\n     </g>\n     <g id=\"text_1\">\n      <!-- $\\mathdefault{0}$ -->\n      <g style=\"fill: #323034\" transform=\"translate(60.6325 265.863906)scale(0.16 -0.16)\">\n       <defs>\n        <path id=\"STIXGeneral-Regular-30\" d=\"M 3046 2112 \nQ 3046 1683 2963 1302 \nQ 2880 922 2717 602 \nQ 2554 282 2266 96 \nQ 1978 -90 1600 -90 \nQ 1210 -90 915 108 \nQ 621 307 461 640 \nQ 301 973 227 1350 \nQ 154 1728 154 2150 \nQ 154 2746 301 3222 \nQ 448 3699 790 4012 \nQ 1133 4326 1626 4326 \nQ 2253 4326 2649 3712 \nQ 3046 3098 3046 2112 \nz\nM 2432 2080 \nQ 2432 3091 2217 3625 \nQ 2003 4160 1587 4160 \nQ 1190 4160 979 3622 \nQ 768 3085 768 2106 \nQ 768 1120 979 598 \nQ 1190 77 1600 77 \nQ 2003 77 2217 598 \nQ 2432 1120 2432 2080 \nz\n\" transform=\"scale(0.015625)\"/>\n       </defs>\n       <use xlink:href=\"#STIXGeneral-Regular-30\" transform=\"translate(0 0.40625)\"/>\n      </g>\n     </g>\n    </g>\n    <g id=\"xtick_2\">\n     <g id=\"line2d_2\">\n      <g>\n       <use xlink:href=\"#md9aa0c9a08\" x=\"120.4325\" y=\"247.936406\" style=\"fill: #323034; stroke: #323034; stroke-width: 0.8\"/>\n      </g>\n     </g>\n     <g id=\"text_2\">\n      <!-- $\\mathdefault{20}$ -->\n      <g style=\"fill: #323034\" transform=\"translate(112.4325 265.863906)scale(0.16 -0.16)\">\n       <defs>\n        <path id=\"STIXGeneral-Regular-32\" d=\"M 3034 877 \nL 2688 0 \nL 186 0 \nL 186 77 \nL 1325 1286 \nQ 1773 1754 1965 2144 \nQ 2157 2534 2157 2950 \nQ 2157 3379 1920 3616 \nQ 1683 3853 1267 3853 \nQ 922 3853 720 3673 \nQ 518 3494 326 3021 \nL 192 3053 \nQ 301 3648 630 3987 \nQ 960 4326 1523 4326 \nQ 2054 4326 2380 4006 \nQ 2707 3686 2707 3200 \nQ 2707 2477 1888 1613 \nL 832 486 \nL 2330 486 \nQ 2541 486 2665 569 \nQ 2790 653 2944 915 \nL 3034 877 \nz\n\" transform=\"scale(0.015625)\"/>\n       </defs>\n       <use xlink:href=\"#STIXGeneral-Regular-32\" transform=\"translate(0 0.40625)\"/>\n       <use xlink:href=\"#STIXGeneral-Regular-30\" transform=\"translate(49.999985 0.40625)\"/>\n      </g>\n     </g>\n    </g>\n    <g id=\"xtick_3\">\n     <g id=\"line2d_3\">\n      <g>\n       <use xlink:href=\"#md9aa0c9a08\" x=\"176.2325\" y=\"247.936406\" style=\"fill: #323034; stroke: #323034; stroke-width: 0.8\"/>\n      </g>\n     </g>\n     <g id=\"text_3\">\n      <!-- $\\mathdefault{40}$ -->\n      <g style=\"fill: #323034\" transform=\"translate(168.2325 265.863906)scale(0.16 -0.16)\">\n       <defs>\n        <path id=\"STIXGeneral-Regular-34\" d=\"M 3027 1069 \nL 2368 1069 \nL 2368 0 \nL 1869 0 \nL 1869 1069 \nL 77 1069 \nL 77 1478 \nL 2086 4326 \nL 2368 4326 \nL 2368 1478 \nL 3027 1478 \nL 3027 1069 \nz\nM 1869 1478 \nL 1869 3674 \nL 333 1478 \nL 1869 1478 \nz\n\" transform=\"scale(0.015625)\"/>\n       </defs>\n       <use xlink:href=\"#STIXGeneral-Regular-34\" transform=\"translate(0 0.40625)\"/>\n       <use xlink:href=\"#STIXGeneral-Regular-30\" transform=\"translate(49.999985 0.40625)\"/>\n      </g>\n     </g>\n    </g>\n    <g id=\"xtick_4\">\n     <g id=\"line2d_4\">\n      <g>\n       <use xlink:href=\"#md9aa0c9a08\" x=\"232.0325\" y=\"247.936406\" style=\"fill: #323034; stroke: #323034; stroke-width: 0.8\"/>\n      </g>\n     </g>\n     <g id=\"text_4\">\n      <!-- $\\mathdefault{60}$ -->\n      <g style=\"fill: #323034\" transform=\"translate(224.0325 265.863906)scale(0.16 -0.16)\">\n       <defs>\n        <path id=\"STIXGeneral-Regular-36\" d=\"M 2854 4378 \nL 2867 4275 \nQ 2112 4154 1606 3664 \nQ 1101 3174 973 2451 \nQ 1344 2739 1786 2739 \nQ 2349 2739 2672 2380 \nQ 2995 2022 2995 1402 \nQ 2995 774 2669 378 \nQ 2291 -90 1651 -90 \nQ 870 -90 518 557 \nQ 218 1107 218 1786 \nQ 218 2835 915 3552 \nQ 1312 3962 1731 4131 \nQ 2150 4301 2854 4378 \nz\nM 2419 1203 \nQ 2419 2445 1555 2445 \nQ 1235 2445 1024 2275 \nQ 813 2106 813 1702 \nQ 813 954 1046 522 \nQ 1280 90 1722 90 \nQ 2061 90 2240 394 \nQ 2419 698 2419 1203 \nz\n\" transform=\"scale(0.015625)\"/>\n       </defs>\n       <use xlink:href=\"#STIXGeneral-Regular-36\" transform=\"translate(0 0.59375)\"/>\n       <use xlink:href=\"#STIXGeneral-Regular-30\" transform=\"translate(49.999985 0.59375)\"/>\n      </g>\n     </g>\n    </g>\n    <g id=\"xtick_5\">\n     <g id=\"line2d_5\">\n      <g>\n       <use xlink:href=\"#md9aa0c9a08\" x=\"287.8325\" y=\"247.936406\" style=\"fill: #323034; stroke: #323034; stroke-width: 0.8\"/>\n      </g>\n     </g>\n     <g id=\"text_5\">\n      <!-- $\\mathdefault{80}$ -->\n      <g style=\"fill: #323034\" transform=\"translate(279.8325 265.863906)scale(0.16 -0.16)\">\n       <defs>\n        <path id=\"STIXGeneral-Regular-38\" d=\"M 2848 992 \nQ 2848 499 2505 204 \nQ 2163 -90 1587 -90 \nQ 1050 -90 704 204 \nQ 358 499 358 954 \nQ 358 1293 524 1533 \nQ 691 1773 1190 2125 \nQ 710 2522 553 2765 \nQ 397 3008 397 3328 \nQ 397 3782 745 4054 \nQ 1094 4326 1638 4326 \nQ 2106 4326 2410 4060 \nQ 2714 3795 2714 3411 \nQ 2714 3059 2531 2848 \nQ 2349 2637 1856 2374 \nQ 2432 1990 2640 1689 \nQ 2848 1389 2848 992 \nz\nM 2272 3411 \nQ 2272 3744 2086 3945 \nQ 1901 4147 1574 4147 \nQ 1248 4147 1059 3977 \nQ 870 3808 870 3513 \nQ 870 3219 1059 2979 \nQ 1248 2739 1670 2490 \nQ 1997 2682 2134 2896 \nQ 2272 3110 2272 3411 \nz\nM 1734 1741 \nL 1357 1997 \nQ 1075 1766 960 1545 \nQ 845 1325 845 1011 \nQ 845 576 1065 333 \nQ 1286 90 1658 90 \nQ 1971 90 2166 285 \nQ 2362 480 2362 794 \nQ 2362 1082 2214 1299 \nQ 2067 1517 1734 1741 \nz\n\" transform=\"scale(0.015625)\"/>\n       </defs>\n       <use xlink:href=\"#STIXGeneral-Regular-38\" transform=\"translate(0 0.40625)\"/>\n       <use xlink:href=\"#STIXGeneral-Regular-30\" transform=\"translate(49.999985 0.40625)\"/>\n      </g>\n     </g>\n    </g>\n    <g id=\"xtick_6\">\n     <g id=\"line2d_6\">\n      <g>\n       <use xlink:href=\"#md9aa0c9a08\" x=\"343.6325\" y=\"247.936406\" style=\"fill: #323034; stroke: #323034; stroke-width: 0.8\"/>\n      </g>\n     </g>\n     <g id=\"text_6\">\n      <!-- $\\mathdefault{100}$ -->\n      <g style=\"fill: #323034\" transform=\"translate(331.6325 265.863906)scale(0.16 -0.16)\">\n       <defs>\n        <path id=\"STIXGeneral-Regular-31\" d=\"M 2522 0 \nL 755 0 \nL 755 96 \nQ 1107 115 1235 227 \nQ 1363 339 1363 608 \nL 1363 3482 \nQ 1363 3795 1171 3795 \nQ 1082 3795 883 3718 \nL 710 3654 \nL 710 3744 \nL 1856 4326 \nL 1914 4307 \nL 1914 486 \nQ 1914 275 2042 185 \nQ 2170 96 2522 96 \nL 2522 0 \nz\n\" transform=\"scale(0.015625)\"/>\n       </defs>\n       <use xlink:href=\"#STIXGeneral-Regular-31\" transform=\"translate(0 0.40625)\"/>\n       <use xlink:href=\"#STIXGeneral-Regular-30\" transform=\"translate(49.999985 0.40625)\"/>\n       <use xlink:href=\"#STIXGeneral-Regular-30\" transform=\"translate(99.999969 0.40625)\"/>\n      </g>\n     </g>\n    </g>\n    <g id=\"xtick_7\">\n     <g id=\"line2d_7\">\n      <g>\n       <use xlink:href=\"#md9aa0c9a08\" x=\"399.4325\" y=\"247.936406\" style=\"fill: #323034; stroke: #323034; stroke-width: 0.8\"/>\n      </g>\n     </g>\n     <g id=\"text_7\">\n      <!-- $\\mathdefault{120}$ -->\n      <g style=\"fill: #323034\" transform=\"translate(387.4325 265.863906)scale(0.16 -0.16)\">\n       <use xlink:href=\"#STIXGeneral-Regular-31\" transform=\"translate(0 0.40625)\"/>\n       <use xlink:href=\"#STIXGeneral-Regular-32\" transform=\"translate(49.999985 0.40625)\"/>\n       <use xlink:href=\"#STIXGeneral-Regular-30\" transform=\"translate(99.999969 0.40625)\"/>\n      </g>\n     </g>\n    </g>\n    <g id=\"xtick_8\">\n     <g id=\"line2d_8\">\n      <g>\n       <use xlink:href=\"#md9aa0c9a08\" x=\"455.2325\" y=\"247.936406\" style=\"fill: #323034; stroke: #323034; stroke-width: 0.8\"/>\n      </g>\n     </g>\n     <g id=\"text_8\">\n      <!-- $\\mathdefault{140}$ -->\n      <g style=\"fill: #323034\" transform=\"translate(443.2325 265.863906)scale(0.16 -0.16)\">\n       <use xlink:href=\"#STIXGeneral-Regular-31\" transform=\"translate(0 0.40625)\"/>\n       <use xlink:href=\"#STIXGeneral-Regular-34\" transform=\"translate(49.999985 0.40625)\"/>\n       <use xlink:href=\"#STIXGeneral-Regular-30\" transform=\"translate(99.999969 0.40625)\"/>\n      </g>\n     </g>\n    </g>\n    <g id=\"xtick_9\">\n     <g id=\"line2d_9\">\n      <g>\n       <use xlink:href=\"#md9aa0c9a08\" x=\"511.0325\" y=\"247.936406\" style=\"fill: #323034; stroke: #323034; stroke-width: 0.8\"/>\n      </g>\n     </g>\n     <g id=\"text_9\">\n      <!-- $\\mathdefault{160}$ -->\n      <g style=\"fill: #323034\" transform=\"translate(499.0325 265.863906)scale(0.16 -0.16)\">\n       <use xlink:href=\"#STIXGeneral-Regular-31\" transform=\"translate(0 0.59375)\"/>\n       <use xlink:href=\"#STIXGeneral-Regular-36\" transform=\"translate(49.999985 0.59375)\"/>\n       <use xlink:href=\"#STIXGeneral-Regular-30\" transform=\"translate(99.999969 0.59375)\"/>\n      </g>\n     </g>\n    </g>\n    <g id=\"text_10\">\n     <!-- Count of terms across all \"documents\" -->\n     <g transform=\"translate(164.64625 283.263906)scale(0.16 -0.16)\">\n      <defs>\n       <path id=\"STIXGeneral-Regular-43\" d=\"M 3930 838 \nL 4051 723 \nQ 3482 -90 2304 -90 \nQ 1376 -90 794 480 \nQ 179 1082 179 2080 \nQ 179 3014 755 3661 \nQ 1357 4326 2310 4326 \nQ 2720 4326 3072 4230 \nQ 3475 4115 3514 4115 \nQ 3725 4115 3782 4326 \nL 3910 4326 \nL 3968 2874 \nL 3821 2874 \nQ 3718 3334 3488 3584 \nQ 3034 4070 2458 4070 \nQ 1747 4070 1334 3548 \nQ 922 3027 922 2182 \nQ 922 1152 1382 653 \nQ 1811 192 2522 192 \nQ 2944 192 3251 339 \nQ 3558 486 3930 838 \nz\n\" transform=\"scale(0.015625)\"/>\n       <path id=\"STIXGeneral-Regular-6f\" d=\"M 3008 1478 \nQ 3008 806 2608 371 \nQ 2208 -64 1568 -64 \nQ 979 -64 582 368 \nQ 186 800 186 1459 \nQ 186 2125 582 2534 \nQ 979 2944 1626 2944 \nQ 2221 2944 2614 2537 \nQ 3008 2131 3008 1478 \nz\nM 2432 1306 \nQ 2432 2035 2112 2445 \nQ 1856 2765 1504 2765 \nQ 1171 2765 966 2493 \nQ 762 2221 762 1747 \nQ 762 928 1101 435 \nQ 1318 115 1677 115 \nQ 2029 115 2230 432 \nQ 2432 749 2432 1306 \nz\n\" transform=\"scale(0.015625)\"/>\n       <path id=\"STIXGeneral-Regular-75\" d=\"M 3072 320 \nL 3072 230 \nQ 2573 96 2195 -58 \nL 2163 -38 \nL 2163 486 \nL 2150 486 \nQ 1747 -64 1235 -64 \nQ 870 -64 662 160 \nQ 454 384 454 755 \nL 454 2362 \nQ 454 2598 371 2688 \nQ 288 2778 58 2790 \nL 58 2880 \nL 992 2880 \nL 992 813 \nQ 992 595 1123 451 \nQ 1254 307 1446 307 \nQ 1760 307 1984 506 \nQ 2067 582 2099 649 \nQ 2131 717 2131 877 \nL 2131 2355 \nQ 2131 2605 2041 2678 \nQ 1952 2752 1658 2771 \nL 1658 2880 \nL 2669 2880 \nL 2669 685 \nQ 2669 461 2742 390 \nQ 2816 320 3034 320 \nL 3072 320 \nz\n\" transform=\"scale(0.015625)\"/>\n       <path id=\"STIXGeneral-Regular-6e\" d=\"M 3104 0 \nL 1773 0 \nL 1779 96 \nQ 2016 115 2096 233 \nQ 2176 352 2176 672 \nL 2176 1946 \nQ 2176 2592 1709 2592 \nQ 1549 2592 1408 2515 \nQ 1267 2438 1050 2227 \nL 1050 461 \nQ 1050 269 1136 192 \nQ 1222 115 1466 96 \nL 1466 0 \nL 115 0 \nL 115 96 \nQ 358 115 435 214 \nQ 512 314 512 602 \nL 512 2157 \nQ 512 2394 467 2483 \nQ 422 2573 288 2573 \nQ 160 2573 102 2547 \nL 102 2656 \nQ 550 2784 979 2944 \nL 1030 2925 \nL 1030 2426 \nL 1037 2426 \nQ 1491 2944 1958 2944 \nQ 2323 2944 2518 2688 \nQ 2714 2432 2714 1958 \nL 2714 544 \nQ 2714 288 2790 205 \nQ 2867 122 3104 96 \nL 3104 0 \nz\n\" transform=\"scale(0.015625)\"/>\n       <path id=\"STIXGeneral-Regular-74\" d=\"M 1702 493 \nL 1786 422 \nQ 1478 -64 1011 -64 \nQ 448 -64 448 749 \nL 448 2675 \nL 109 2675 \nQ 83 2694 83 2720 \nQ 83 2771 192 2842 \nQ 435 2982 813 3526 \nQ 826 3546 874 3606 \nQ 922 3667 941 3706 \nQ 986 3706 986 3622 \nL 986 2880 \nL 1632 2880 \nL 1632 2675 \nL 986 2675 \nL 986 845 \nQ 986 538 1062 403 \nQ 1139 269 1318 269 \nQ 1510 269 1702 493 \nz\n\" transform=\"scale(0.015625)\"/>\n       <path id=\"STIXGeneral-Regular-20\" transform=\"scale(0.015625)\"/>\n       <path id=\"STIXGeneral-Regular-66\" d=\"M 134 2880 \nL 659 2880 \nQ 666 3264 710 3478 \nQ 755 3693 883 3910 \nQ 1152 4371 1786 4371 \nQ 2074 4371 2262 4259 \nQ 2451 4147 2451 3974 \nQ 2451 3866 2374 3789 \nQ 2298 3712 2182 3712 \nQ 2029 3712 1894 3942 \nQ 1741 4192 1555 4192 \nQ 1197 4192 1197 3622 \nL 1197 2880 \nL 1978 2880 \nL 1978 2675 \nL 1197 2675 \nL 1197 666 \nQ 1197 307 1299 208 \nQ 1402 109 1792 96 \nL 1792 0 \nL 128 0 \nL 128 96 \nQ 474 115 566 214 \nQ 659 314 659 666 \nL 659 2675 \nL 134 2675 \nL 134 2880 \nz\n\" transform=\"scale(0.015625)\"/>\n       <path id=\"STIXGeneral-Regular-65\" d=\"M 2611 1050 \nL 2714 1005 \nQ 2330 -64 1376 -64 \nQ 813 -64 486 329 \nQ 160 723 160 1389 \nQ 160 2074 525 2509 \nQ 890 2944 1485 2944 \nQ 2061 2944 2374 2502 \nQ 2560 2246 2592 1773 \nL 621 1773 \nQ 646 1370 700 1158 \nQ 755 947 915 730 \nQ 1184 378 1626 378 \nQ 1939 378 2153 531 \nQ 2368 685 2611 1050 \nz\nM 634 1978 \nL 1939 1978 \nQ 1882 2381 1750 2547 \nQ 1619 2714 1312 2714 \nQ 1043 2714 864 2525 \nQ 685 2336 634 1978 \nz\n\" transform=\"scale(0.015625)\"/>\n       <path id=\"STIXGeneral-Regular-72\" d=\"M 1024 2931 \nL 1024 2342 \nQ 1267 2688 1430 2816 \nQ 1594 2944 1792 2944 \nQ 1958 2944 2051 2854 \nQ 2144 2765 2144 2605 \nQ 2144 2470 2077 2393 \nQ 2010 2317 1894 2317 \nQ 1773 2317 1638 2445 \nQ 1536 2541 1472 2541 \nQ 1338 2541 1181 2355 \nQ 1024 2170 1024 2016 \nL 1024 576 \nQ 1024 301 1133 205 \nQ 1242 109 1568 96 \nL 1568 0 \nL 32 0 \nL 32 96 \nQ 339 154 412 224 \nQ 486 294 486 538 \nL 486 2138 \nQ 486 2349 438 2435 \nQ 390 2522 269 2522 \nQ 166 2522 45 2496 \nL 45 2598 \nQ 448 2726 992 2944 \nL 1024 2931 \nz\n\" transform=\"scale(0.015625)\"/>\n       <path id=\"STIXGeneral-Regular-6d\" d=\"M 4960 0 \nL 3565 0 \nL 3565 96 \nQ 3834 122 3907 208 \nQ 3981 294 3981 576 \nL 3981 1894 \nQ 3981 2278 3869 2444 \nQ 3757 2611 3488 2611 \nQ 3264 2611 3107 2521 \nQ 2950 2432 2803 2221 \nL 2803 608 \nQ 2803 301 2896 201 \nQ 2989 102 3264 96 \nL 3264 0 \nL 1830 0 \nL 1830 96 \nQ 2112 115 2189 188 \nQ 2266 262 2266 550 \nL 2266 1901 \nQ 2266 2611 1850 2611 \nQ 1670 2611 1468 2531 \nQ 1267 2451 1171 2336 \nQ 1088 2240 1088 2227 \nL 1088 448 \nQ 1088 243 1177 176 \nQ 1267 109 1523 96 \nL 1523 0 \nL 102 0 \nL 102 96 \nQ 371 102 460 195 \nQ 550 288 550 563 \nL 550 2150 \nQ 550 2387 499 2480 \nQ 448 2573 326 2573 \nQ 230 2573 122 2547 \nL 122 2656 \nQ 557 2778 1011 2944 \nL 1062 2925 \nL 1062 2451 \nL 1075 2451 \nQ 1363 2752 1584 2848 \nQ 1805 2944 2054 2944 \nQ 2560 2944 2733 2406 \nQ 3232 2944 3776 2944 \nQ 4518 2944 4518 1792 \nL 4518 493 \nQ 4518 282 4582 202 \nQ 4646 122 4794 109 \nL 4960 96 \nL 4960 0 \nz\n\" transform=\"scale(0.015625)\"/>\n       <path id=\"STIXGeneral-Regular-73\" d=\"M 998 1926 \nL 1664 1523 \nQ 1984 1331 2105 1164 \nQ 2227 998 2227 736 \nQ 2227 416 1961 176 \nQ 1696 -64 1331 -64 \nQ 1030 -64 864 -6 \nQ 691 51 570 51 \nQ 461 51 416 -26 \nL 333 -26 \nL 333 979 \nL 435 979 \nQ 538 512 730 294 \nQ 922 77 1248 77 \nQ 1485 77 1632 211 \nQ 1779 346 1779 550 \nQ 1779 845 1440 1030 \nL 1094 1222 \nQ 326 1651 326 2150 \nQ 326 2522 566 2730 \nQ 806 2938 1210 2938 \nQ 1491 2938 1638 2867 \nQ 1754 2816 1818 2816 \nQ 1862 2816 1920 2880 \nL 1990 2880 \nL 2022 2010 \nL 1926 2010 \nQ 1818 2445 1654 2621 \nQ 1491 2797 1203 2797 \nQ 986 2797 854 2688 \nQ 723 2579 723 2362 \nQ 723 2253 796 2128 \nQ 870 2003 998 1926 \nz\n\" transform=\"scale(0.015625)\"/>\n       <path id=\"STIXGeneral-Regular-61\" d=\"M 2829 422 \nL 2829 243 \nQ 2586 -64 2253 -64 \nQ 1888 -64 1843 403 \nL 1837 403 \nQ 1427 -64 909 -64 \nQ 608 -64 422 112 \nQ 237 288 237 602 \nQ 237 1050 685 1350 \nQ 992 1555 1837 1869 \nL 1837 2214 \nQ 1837 2502 1699 2646 \nQ 1562 2790 1338 2790 \nQ 1146 2790 1018 2697 \nQ 890 2605 890 2477 \nQ 890 2419 909 2348 \nQ 928 2278 928 2208 \nQ 928 2112 841 2029 \nQ 755 1946 634 1946 \nQ 525 1946 441 2029 \nQ 358 2112 358 2240 \nQ 358 2547 685 2752 \nQ 986 2944 1421 2944 \nQ 1939 2944 2176 2656 \nQ 2291 2522 2323 2384 \nQ 2355 2246 2355 1946 \nL 2355 723 \nQ 2355 301 2554 301 \nQ 2682 301 2829 422 \nz\nM 1837 813 \nL 1837 1715 \nQ 1248 1510 1018 1293 \nQ 800 1094 800 800 \nQ 800 557 921 432 \nQ 1043 307 1242 307 \nQ 1453 307 1613 410 \nQ 1747 506 1792 589 \nQ 1837 672 1837 813 \nz\n\" transform=\"scale(0.015625)\"/>\n       <path id=\"STIXGeneral-Regular-63\" d=\"M 2547 998 \nL 2637 941 \nQ 2362 403 2112 205 \nQ 1786 -64 1376 -64 \nQ 845 -64 502 336 \nQ 160 736 160 1357 \nQ 160 2170 698 2618 \nQ 1094 2944 1562 2944 \nQ 1965 2944 2256 2749 \nQ 2547 2554 2547 2285 \nQ 2547 2176 2457 2096 \nQ 2368 2016 2246 2016 \nQ 2022 2016 1939 2310 \nL 1901 2451 \nQ 1850 2630 1773 2694 \nQ 1696 2758 1523 2758 \nQ 1133 2758 893 2451 \nQ 653 2144 653 1645 \nQ 653 1094 928 745 \nQ 1203 397 1645 397 \nQ 1920 397 2118 528 \nQ 2317 659 2547 998 \nz\n\" transform=\"scale(0.015625)\"/>\n       <path id=\"STIXGeneral-Regular-6c\" d=\"M 1645 0 \nL 134 0 \nL 134 96 \nQ 435 122 531 221 \nQ 627 320 627 589 \nL 627 3590 \nQ 627 3821 569 3910 \nQ 512 4000 358 4000 \nQ 224 4000 122 3987 \nL 122 4090 \nQ 730 4237 1133 4371 \nL 1165 4346 \nL 1165 557 \nQ 1165 288 1254 201 \nQ 1344 115 1645 96 \nL 1645 0 \nz\n\" transform=\"scale(0.015625)\"/>\n       <path id=\"STIXGeneral-Regular-22\" d=\"M 1914 2758 \nL 1779 2758 \nQ 1574 3872 1574 4051 \nQ 1574 4173 1651 4249 \nQ 1728 4326 1850 4326 \nQ 1965 4326 2041 4249 \nQ 2118 4173 2118 4064 \nQ 2118 3981 2089 3801 \nQ 2061 3622 2006 3308 \nQ 1952 2995 1914 2758 \nz\nM 832 2758 \nL 698 2758 \nQ 493 3872 493 4051 \nQ 493 4173 569 4249 \nQ 646 4326 768 4326 \nQ 883 4326 960 4252 \nQ 1037 4179 1037 4064 \nQ 1037 3744 832 2758 \nz\n\" transform=\"scale(0.015625)\"/>\n       <path id=\"STIXGeneral-Regular-64\" d=\"M 3142 269 \nL 2202 -64 \nL 2176 -45 \nL 2176 365 \nQ 1869 -64 1357 -64 \nQ 826 -64 499 317 \nQ 173 698 173 1312 \nQ 173 1990 563 2467 \nQ 954 2944 1504 2944 \nQ 1850 2944 2176 2669 \nL 2176 3667 \nQ 2176 3866 2118 3930 \nQ 2061 3994 1882 3994 \nQ 1792 3994 1741 3987 \nL 1741 4090 \nQ 2323 4243 2682 4371 \nL 2714 4358 \nL 2714 730 \nQ 2714 506 2768 435 \nQ 2822 365 2995 365 \nQ 3034 365 3142 371 \nL 3142 269 \nz\nM 2176 653 \nL 2176 2125 \nQ 2176 2381 1981 2573 \nQ 1786 2765 1523 2765 \nQ 1158 2765 940 2438 \nQ 723 2112 723 1568 \nQ 723 979 963 624 \nQ 1203 269 1606 269 \nQ 1907 269 2080 474 \nQ 2176 582 2176 653 \nz\n\" transform=\"scale(0.015625)\"/>\n      </defs>\n      <use xlink:href=\"#STIXGeneral-Regular-43\"/>\n      <use xlink:href=\"#STIXGeneral-Regular-6f\" x=\"66.699997\"/>\n      <use xlink:href=\"#STIXGeneral-Regular-75\" x=\"116.699982\"/>\n      <use xlink:href=\"#STIXGeneral-Regular-6e\" x=\"166.699966\"/>\n      <use xlink:href=\"#STIXGeneral-Regular-74\" x=\"216.699951\"/>\n      <use xlink:href=\"#STIXGeneral-Regular-20\" x=\"244.499939\"/>\n      <use xlink:href=\"#STIXGeneral-Regular-6f\" x=\"269.499924\"/>\n      <use xlink:href=\"#STIXGeneral-Regular-66\" x=\"319.499908\"/>\n      <use xlink:href=\"#STIXGeneral-Regular-20\" x=\"352.799896\"/>\n      <use xlink:href=\"#STIXGeneral-Regular-74\" x=\"377.799881\"/>\n      <use xlink:href=\"#STIXGeneral-Regular-65\" x=\"405.599869\"/>\n      <use xlink:href=\"#STIXGeneral-Regular-72\" x=\"449.999863\"/>\n      <use xlink:href=\"#STIXGeneral-Regular-6d\" x=\"483.29985\"/>\n      <use xlink:href=\"#STIXGeneral-Regular-73\" x=\"561.099838\"/>\n      <use xlink:href=\"#STIXGeneral-Regular-20\" x=\"599.999832\"/>\n      <use xlink:href=\"#STIXGeneral-Regular-61\" x=\"624.999817\"/>\n      <use xlink:href=\"#STIXGeneral-Regular-63\" x=\"669.399811\"/>\n      <use xlink:href=\"#STIXGeneral-Regular-72\" x=\"713.799805\"/>\n      <use xlink:href=\"#STIXGeneral-Regular-6f\" x=\"747.099792\"/>\n      <use xlink:href=\"#STIXGeneral-Regular-73\" x=\"797.099777\"/>\n      <use xlink:href=\"#STIXGeneral-Regular-73\" x=\"835.999771\"/>\n      <use xlink:href=\"#STIXGeneral-Regular-20\" x=\"874.899765\"/>\n      <use xlink:href=\"#STIXGeneral-Regular-61\" x=\"899.89975\"/>\n      <use xlink:href=\"#STIXGeneral-Regular-6c\" x=\"944.299744\"/>\n      <use xlink:href=\"#STIXGeneral-Regular-6c\" x=\"972.099731\"/>\n      <use xlink:href=\"#STIXGeneral-Regular-20\" x=\"999.899719\"/>\n      <use xlink:href=\"#STIXGeneral-Regular-22\" x=\"1024.899704\"/>\n      <use xlink:href=\"#STIXGeneral-Regular-64\" x=\"1065.699692\"/>\n      <use xlink:href=\"#STIXGeneral-Regular-6f\" x=\"1115.699677\"/>\n      <use xlink:href=\"#STIXGeneral-Regular-63\" x=\"1165.699661\"/>\n      <use xlink:href=\"#STIXGeneral-Regular-75\" x=\"1210.099655\"/>\n      <use xlink:href=\"#STIXGeneral-Regular-6d\" x=\"1260.09964\"/>\n      <use xlink:href=\"#STIXGeneral-Regular-65\" x=\"1337.899628\"/>\n      <use xlink:href=\"#STIXGeneral-Regular-6e\" x=\"1382.299622\"/>\n      <use xlink:href=\"#STIXGeneral-Regular-74\" x=\"1432.299606\"/>\n      <use xlink:href=\"#STIXGeneral-Regular-73\" x=\"1460.099594\"/>\n      <use xlink:href=\"#STIXGeneral-Regular-22\" x=\"1498.999588\"/>\n     </g>\n    </g>\n   </g>\n   <g id=\"matplotlib.axis_2\">\n    <g id=\"ytick_1\">\n     <g id=\"line2d_10\">\n      <defs>\n       <path id=\"m04da046a46\" d=\"M 0 0 \nL -3.5 0 \n\" style=\"stroke: #323034; stroke-width: 0.8\"/>\n      </defs>\n      <g>\n       <use xlink:href=\"#m04da046a46\" x=\"64.6325\" y=\"237.376406\" style=\"fill: #323034; stroke: #323034; stroke-width: 0.8\"/>\n      </g>\n     </g>\n     <g id=\"text_11\">\n      <!-- greater part -->\n      <g style=\"fill: #323034\" transform=\"translate(20.98375 240.104531)scale(0.08 -0.08)\">\n       <defs>\n        <path id=\"STIXGeneral-Regular-67\" d=\"M 3008 2483 \nL 2477 2483 \nQ 2598 2208 2598 1946 \nQ 2598 1453 2265 1203 \nQ 1933 954 1600 954 \nQ 1530 954 1357 973 \nL 1235 986 \nQ 1107 947 979 812 \nQ 851 678 851 582 \nQ 851 435 1350 410 \nL 2176 371 \nQ 2528 358 2739 172 \nQ 2950 -13 2950 -314 \nQ 2950 -685 2566 -986 \nQ 2035 -1395 1286 -1395 \nQ 826 -1395 502 -1212 \nQ 179 -1030 179 -774 \nQ 179 -595 320 -419 \nQ 461 -243 806 6 \nQ 602 102 534 172 \nQ 467 243 467 346 \nQ 467 531 762 787 \nQ 909 915 1037 1043 \nQ 717 1203 579 1401 \nQ 442 1600 442 1901 \nQ 442 2336 752 2640 \nQ 1062 2944 1510 2944 \nQ 1766 2944 2022 2848 \nL 2163 2797 \nQ 2349 2733 2515 2733 \nL 3008 2733 \nL 3008 2483 \nz\nM 973 2163 \nL 973 2144 \nQ 973 1683 1155 1398 \nQ 1338 1114 1632 1114 \nQ 1850 1114 1978 1270 \nQ 2106 1427 2106 1690 \nQ 2106 2112 1914 2464 \nQ 1754 2765 1446 2765 \nQ 1222 2765 1097 2605 \nQ 973 2445 973 2163 \nz\nM 2771 -410 \nQ 2771 -230 2595 -163 \nQ 2419 -96 1978 -96 \nQ 1344 -96 941 -13 \nQ 749 -243 688 -348 \nQ 627 -454 627 -563 \nQ 627 -774 880 -902 \nQ 1133 -1030 1555 -1030 \nQ 2099 -1030 2435 -860 \nQ 2771 -691 2771 -410 \nz\n\" transform=\"scale(0.015625)\"/>\n        <path id=\"STIXGeneral-Regular-70\" d=\"M 1018 2931 \nL 1018 2438 \nQ 1421 2944 1939 2944 \nQ 2406 2944 2707 2560 \nQ 3008 2176 3008 1581 \nQ 3008 883 2621 409 \nQ 2234 -64 1664 -64 \nQ 1466 -64 1328 -6 \nQ 1190 51 1018 211 \nL 1018 -794 \nQ 1018 -1094 1120 -1180 \nQ 1222 -1267 1581 -1274 \nL 1581 -1389 \nL 32 -1389 \nL 32 -1280 \nQ 314 -1254 397 -1171 \nQ 480 -1088 480 -838 \nL 480 2157 \nQ 480 2381 429 2451 \nQ 378 2522 218 2522 \nQ 115 2522 58 2515 \nL 58 2618 \nQ 506 2752 979 2944 \nL 1018 2931 \nz\nM 1018 2138 \nL 1018 563 \nQ 1018 422 1238 281 \nQ 1459 141 1683 141 \nQ 2029 141 2243 467 \nQ 2458 794 2458 1325 \nQ 2458 1888 2243 2224 \nQ 2029 2560 1670 2560 \nQ 1446 2560 1232 2419 \nQ 1018 2278 1018 2138 \nz\n\" transform=\"scale(0.015625)\"/>\n       </defs>\n       <use xlink:href=\"#STIXGeneral-Regular-67\"/>\n       <use xlink:href=\"#STIXGeneral-Regular-72\" x=\"49.999985\"/>\n       <use xlink:href=\"#STIXGeneral-Regular-65\" x=\"83.299973\"/>\n       <use xlink:href=\"#STIXGeneral-Regular-61\" x=\"127.699966\"/>\n       <use xlink:href=\"#STIXGeneral-Regular-74\" x=\"172.09996\"/>\n       <use xlink:href=\"#STIXGeneral-Regular-65\" x=\"199.899948\"/>\n       <use xlink:href=\"#STIXGeneral-Regular-72\" x=\"244.299942\"/>\n       <use xlink:href=\"#STIXGeneral-Regular-20\" x=\"277.59993\"/>\n       <use xlink:href=\"#STIXGeneral-Regular-70\" x=\"302.599915\"/>\n       <use xlink:href=\"#STIXGeneral-Regular-61\" x=\"352.599899\"/>\n       <use xlink:href=\"#STIXGeneral-Regular-72\" x=\"396.999893\"/>\n       <use xlink:href=\"#STIXGeneral-Regular-74\" x=\"430.299881\"/>\n      </g>\n     </g>\n    </g>\n    <g id=\"ytick_2\">\n     <g id=\"line2d_11\">\n      <g>\n       <use xlink:href=\"#m04da046a46\" x=\"64.6325\" y=\"226.816406\" style=\"fill: #323034; stroke: #323034; stroke-width: 0.8\"/>\n      </g>\n     </g>\n     <g id=\"text_12\">\n      <!-- wages labour -->\n      <g style=\"fill: #323034\" transform=\"translate(15.19875 229.548281)scale(0.08 -0.08)\">\n       <defs>\n        <path id=\"STIXGeneral-Regular-77\" d=\"M 4442 2880 \nL 4442 2784 \nQ 4346 2752 4301 2691 \nQ 4256 2630 4179 2438 \nL 3296 224 \nQ 3168 -90 3117 -90 \nQ 3085 -90 3062 -48 \nQ 3040 -6 2963 186 \nL 2381 1696 \nL 1664 160 \nQ 1549 -90 1504 -90 \nQ 1446 -90 1338 192 \nL 474 2381 \nQ 378 2630 314 2700 \nQ 250 2771 134 2784 \nL 134 2880 \nL 1286 2880 \nL 1286 2784 \nQ 1120 2765 1056 2720 \nQ 992 2675 992 2573 \nQ 992 2477 1030 2381 \nL 1664 710 \nL 2246 1984 \nL 2118 2342 \nQ 2029 2598 1942 2681 \nQ 1856 2765 1677 2784 \nL 1677 2880 \nL 2976 2880 \nL 2976 2784 \nQ 2752 2752 2678 2707 \nQ 2605 2662 2605 2560 \nQ 2605 2458 2714 2176 \nL 3251 742 \nL 3827 2163 \nQ 3936 2432 3936 2592 \nQ 3936 2669 3875 2710 \nQ 3814 2752 3654 2784 \nL 3654 2880 \nL 4442 2880 \nz\n\" transform=\"scale(0.015625)\"/>\n        <path id=\"STIXGeneral-Regular-62\" d=\"M 979 4358 \nL 979 2406 \nQ 1082 2650 1315 2797 \nQ 1549 2944 1843 2944 \nQ 2349 2944 2672 2541 \nQ 2995 2138 2995 1536 \nQ 2995 832 2566 384 \nQ 2138 -64 1498 -64 \nQ 1107 -64 774 67 \nQ 442 198 442 358 \nL 442 3622 \nQ 442 3859 384 3926 \nQ 326 3994 128 3994 \nQ 83 3994 19 3981 \nL 19 4090 \nL 211 4147 \nQ 864 4346 947 4371 \nL 979 4358 \nz\nM 979 2035 \nL 979 474 \nQ 979 326 1161 233 \nQ 1344 141 1600 141 \nQ 1978 141 2195 416 \nQ 2432 710 2432 1261 \nQ 2432 1888 2182 2240 \nQ 1971 2541 1613 2541 \nQ 1357 2541 1168 2390 \nQ 979 2240 979 2035 \nz\n\" transform=\"scale(0.015625)\"/>\n       </defs>\n       <use xlink:href=\"#STIXGeneral-Regular-77\"/>\n       <use xlink:href=\"#STIXGeneral-Regular-61\" x=\"72.199982\"/>\n       <use xlink:href=\"#STIXGeneral-Regular-67\" x=\"116.599976\"/>\n       <use xlink:href=\"#STIXGeneral-Regular-65\" x=\"166.59996\"/>\n       <use xlink:href=\"#STIXGeneral-Regular-73\" x=\"210.999954\"/>\n       <use xlink:href=\"#STIXGeneral-Regular-20\" x=\"249.899948\"/>\n       <use xlink:href=\"#STIXGeneral-Regular-6c\" x=\"274.899933\"/>\n       <use xlink:href=\"#STIXGeneral-Regular-61\" x=\"302.699921\"/>\n       <use xlink:href=\"#STIXGeneral-Regular-62\" x=\"347.099915\"/>\n       <use xlink:href=\"#STIXGeneral-Regular-6f\" x=\"397.099899\"/>\n       <use xlink:href=\"#STIXGeneral-Regular-75\" x=\"447.099884\"/>\n       <use xlink:href=\"#STIXGeneral-Regular-72\" x=\"497.099869\"/>\n      </g>\n     </g>\n    </g>\n    <g id=\"ytick_3\">\n     <g id=\"line2d_12\">\n      <g>\n       <use xlink:href=\"#m04da046a46\" x=\"64.6325\" y=\"216.256406\" style=\"fill: #323034; stroke: #323034; stroke-width: 0.8\"/>\n      </g>\n     </g>\n     <g id=\"text_13\">\n      <!-- money price -->\n      <g style=\"fill: #323034\" transform=\"translate(17.86375 218.988281)scale(0.08 -0.08)\">\n       <defs>\n        <path id=\"STIXGeneral-Regular-79\" d=\"M 3040 2880 \nL 3040 2784 \nQ 2925 2771 2854 2700 \nQ 2784 2630 2720 2458 \nL 1760 -160 \nQ 1510 -838 1257 -1116 \nQ 1005 -1395 640 -1395 \nQ 435 -1395 313 -1289 \nQ 192 -1184 192 -1024 \nQ 192 -902 272 -816 \nQ 352 -730 467 -730 \nQ 653 -730 800 -813 \nQ 883 -858 966 -858 \nQ 1101 -858 1286 -576 \nQ 1376 -448 1459 -211 \nQ 1542 26 1542 115 \nQ 1542 198 1274 762 \nL 429 2566 \nQ 346 2752 90 2790 \nL 90 2880 \nL 1402 2880 \nL 1402 2784 \nQ 1197 2778 1117 2739 \nQ 1037 2701 1037 2611 \nQ 1037 2541 1120 2349 \nL 1837 749 \nL 2458 2515 \nQ 2483 2573 2483 2630 \nQ 2483 2784 2189 2784 \nL 2189 2880 \nL 3040 2880 \nz\n\" transform=\"scale(0.015625)\"/>\n        <path id=\"STIXGeneral-Regular-69\" d=\"M 1152 4045 \nQ 1152 3904 1056 3811 \nQ 960 3718 819 3718 \nQ 685 3718 592 3811 \nQ 499 3904 499 4045 \nQ 499 4179 595 4275 \nQ 691 4371 826 4371 \nQ 966 4371 1059 4275 \nQ 1152 4179 1152 4045 \nz\nM 1619 0 \nL 102 0 \nL 102 96 \nQ 435 115 521 211 \nQ 608 307 608 666 \nL 608 2118 \nQ 608 2342 563 2432 \nQ 518 2522 397 2522 \nQ 243 2522 128 2490 \nL 128 2592 \nL 1120 2944 \nL 1146 2918 \nL 1146 672 \nQ 1146 314 1226 218 \nQ 1306 122 1619 96 \nL 1619 0 \nz\n\" transform=\"scale(0.015625)\"/>\n       </defs>\n       <use xlink:href=\"#STIXGeneral-Regular-6d\"/>\n       <use xlink:href=\"#STIXGeneral-Regular-6f\" x=\"77.799988\"/>\n       <use xlink:href=\"#STIXGeneral-Regular-6e\" x=\"127.799973\"/>\n       <use xlink:href=\"#STIXGeneral-Regular-65\" x=\"177.799957\"/>\n       <use xlink:href=\"#STIXGeneral-Regular-79\" x=\"222.199951\"/>\n       <use xlink:href=\"#STIXGeneral-Regular-20\" x=\"272.199936\"/>\n       <use xlink:href=\"#STIXGeneral-Regular-70\" x=\"297.199921\"/>\n       <use xlink:href=\"#STIXGeneral-Regular-72\" x=\"347.199905\"/>\n       <use xlink:href=\"#STIXGeneral-Regular-69\" x=\"380.499893\"/>\n       <use xlink:href=\"#STIXGeneral-Regular-63\" x=\"408.299881\"/>\n       <use xlink:href=\"#STIXGeneral-Regular-65\" x=\"452.699875\"/>\n      </g>\n     </g>\n    </g>\n    <g id=\"ytick_4\">\n     <g id=\"line2d_13\">\n      <g>\n       <use xlink:href=\"#m04da046a46\" x=\"64.6325\" y=\"205.696406\" style=\"fill: #323034; stroke: #323034; stroke-width: 0.8\"/>\n      </g>\n     </g>\n     <g id=\"text_14\">\n      <!-- quantity labour -->\n      <g style=\"fill: #323034\" transform=\"translate(8.96875 208.428281)scale(0.08 -0.08)\">\n       <defs>\n        <path id=\"STIXGeneral-Regular-71\" d=\"M 3123 -1389 \nL 1613 -1389 \nL 1613 -1280 \nQ 1952 -1254 2067 -1158 \nQ 2182 -1062 2182 -794 \nL 2182 410 \nQ 1747 -64 1178 -64 \nQ 730 -64 442 320 \nQ 154 704 154 1312 \nQ 154 2003 560 2473 \nQ 966 2944 1562 2944 \nQ 1920 2944 2304 2720 \nL 2650 2925 \nL 2720 2925 \nL 2720 -902 \nQ 2720 -1107 2797 -1180 \nQ 2874 -1254 3123 -1280 \nL 3123 -1389 \nz\nM 2182 813 \nL 2182 2131 \nQ 2182 2758 1587 2758 \nQ 1178 2758 941 2432 \nQ 704 2106 704 1542 \nQ 704 1210 803 925 \nQ 902 640 1062 499 \nQ 1254 326 1542 326 \nQ 1882 326 2106 531 \nQ 2182 602 2182 813 \nz\n\" transform=\"scale(0.015625)\"/>\n       </defs>\n       <use xlink:href=\"#STIXGeneral-Regular-71\"/>\n       <use xlink:href=\"#STIXGeneral-Regular-75\" x=\"49.999985\"/>\n       <use xlink:href=\"#STIXGeneral-Regular-61\" x=\"99.999969\"/>\n       <use xlink:href=\"#STIXGeneral-Regular-6e\" x=\"144.399963\"/>\n       <use xlink:href=\"#STIXGeneral-Regular-74\" x=\"194.399948\"/>\n       <use xlink:href=\"#STIXGeneral-Regular-69\" x=\"222.199936\"/>\n       <use xlink:href=\"#STIXGeneral-Regular-74\" x=\"249.999924\"/>\n       <use xlink:href=\"#STIXGeneral-Regular-79\" x=\"277.799911\"/>\n       <use xlink:href=\"#STIXGeneral-Regular-20\" x=\"327.799896\"/>\n       <use xlink:href=\"#STIXGeneral-Regular-6c\" x=\"352.799881\"/>\n       <use xlink:href=\"#STIXGeneral-Regular-61\" x=\"380.599869\"/>\n       <use xlink:href=\"#STIXGeneral-Regular-62\" x=\"424.999863\"/>\n       <use xlink:href=\"#STIXGeneral-Regular-6f\" x=\"474.999847\"/>\n       <use xlink:href=\"#STIXGeneral-Regular-75\" x=\"524.999832\"/>\n       <use xlink:href=\"#STIXGeneral-Regular-72\" x=\"574.999817\"/>\n      </g>\n     </g>\n    </g>\n    <g id=\"ytick_5\">\n     <g id=\"line2d_14\">\n      <g>\n       <use xlink:href=\"#m04da046a46\" x=\"64.6325\" y=\"195.136406\" style=\"fill: #323034; stroke: #323034; stroke-width: 0.8\"/>\n      </g>\n     </g>\n     <g id=\"text_15\">\n      <!-- value silver -->\n      <g style=\"fill: #323034\" transform=\"translate(20.5275 197.868281)scale(0.08 -0.08)\">\n       <defs>\n        <path id=\"STIXGeneral-Regular-76\" d=\"M 3053 2880 \nL 3053 2784 \nQ 2906 2771 2835 2688 \nQ 2765 2605 2637 2285 \nL 1818 230 \nQ 1690 -90 1638 -90 \nQ 1587 -90 1523 77 \nQ 1510 96 1497 141 \nQ 1485 186 1472 211 \nL 704 2048 \nQ 499 2534 403 2652 \nQ 307 2771 122 2784 \nL 122 2880 \nL 1376 2880 \nL 1376 2784 \nQ 1210 2771 1146 2732 \nQ 1082 2694 1082 2611 \nQ 1082 2509 1139 2368 \nL 1792 730 \nL 2426 2387 \nQ 2464 2483 2464 2579 \nQ 2464 2758 2163 2784 \nL 2163 2880 \nL 3053 2880 \nz\n\" transform=\"scale(0.015625)\"/>\n       </defs>\n       <use xlink:href=\"#STIXGeneral-Regular-76\"/>\n       <use xlink:href=\"#STIXGeneral-Regular-61\" x=\"49.999985\"/>\n       <use xlink:href=\"#STIXGeneral-Regular-6c\" x=\"94.399979\"/>\n       <use xlink:href=\"#STIXGeneral-Regular-75\" x=\"122.199966\"/>\n       <use xlink:href=\"#STIXGeneral-Regular-65\" x=\"172.199951\"/>\n       <use xlink:href=\"#STIXGeneral-Regular-20\" x=\"216.599945\"/>\n       <use xlink:href=\"#STIXGeneral-Regular-73\" x=\"241.59993\"/>\n       <use xlink:href=\"#STIXGeneral-Regular-69\" x=\"280.499924\"/>\n       <use xlink:href=\"#STIXGeneral-Regular-6c\" x=\"308.299911\"/>\n       <use xlink:href=\"#STIXGeneral-Regular-76\" x=\"336.099899\"/>\n       <use xlink:href=\"#STIXGeneral-Regular-65\" x=\"386.099884\"/>\n       <use xlink:href=\"#STIXGeneral-Regular-72\" x=\"430.499878\"/>\n      </g>\n     </g>\n    </g>\n    <g id=\"ytick_6\">\n     <g id=\"line2d_15\">\n      <g>\n       <use xlink:href=\"#m04da046a46\" x=\"64.6325\" y=\"184.576406\" style=\"fill: #323034; stroke: #323034; stroke-width: 0.8\"/>\n      </g>\n     </g>\n     <g id=\"text_16\">\n      <!-- profits stock -->\n      <g style=\"fill: #323034\" transform=\"translate(17.85625 187.308281)scale(0.08 -0.08)\">\n       <defs>\n        <path id=\"STIXGeneral-Regular-6b\" d=\"M 3232 0 \nL 1837 0 \nL 1837 96 \nL 1958 96 \nQ 2093 96 2093 192 \nQ 2093 250 2022 339 \nL 1062 1606 \nL 1062 429 \nQ 1062 262 1142 185 \nQ 1222 109 1414 102 \nL 1542 96 \nL 1542 0 \nL 45 0 \nL 45 96 \nQ 390 154 457 214 \nQ 525 275 525 525 \nL 525 3610 \nQ 525 3840 467 3920 \nQ 410 4000 250 4000 \nQ 211 4000 45 3987 \nL 45 4090 \nL 237 4141 \nQ 621 4243 1037 4371 \nL 1062 4358 \nL 1062 1670 \nL 1939 2451 \nQ 2086 2586 2086 2675 \nQ 2086 2739 2019 2761 \nQ 1952 2784 1766 2790 \nL 1766 2880 \nL 3072 2880 \nL 3072 2784 \nQ 2752 2784 2505 2646 \nQ 2259 2509 1690 1978 \nL 1504 1805 \nL 2483 563 \nQ 2829 122 3232 96 \nL 3232 0 \nz\n\" transform=\"scale(0.015625)\"/>\n       </defs>\n       <use xlink:href=\"#STIXGeneral-Regular-70\"/>\n       <use xlink:href=\"#STIXGeneral-Regular-72\" x=\"49.999985\"/>\n       <use xlink:href=\"#STIXGeneral-Regular-6f\" x=\"83.299973\"/>\n       <use xlink:href=\"#STIXGeneral-Regular-66\" x=\"133.299957\"/>\n       <use xlink:href=\"#STIXGeneral-Regular-69\" x=\"166.599945\"/>\n       <use xlink:href=\"#STIXGeneral-Regular-74\" x=\"194.399933\"/>\n       <use xlink:href=\"#STIXGeneral-Regular-73\" x=\"222.199921\"/>\n       <use xlink:href=\"#STIXGeneral-Regular-20\" x=\"261.099915\"/>\n       <use xlink:href=\"#STIXGeneral-Regular-73\" x=\"286.099899\"/>\n       <use xlink:href=\"#STIXGeneral-Regular-74\" x=\"324.999893\"/>\n       <use xlink:href=\"#STIXGeneral-Regular-6f\" x=\"352.799881\"/>\n       <use xlink:href=\"#STIXGeneral-Regular-63\" x=\"402.799866\"/>\n       <use xlink:href=\"#STIXGeneral-Regular-6b\" x=\"447.19986\"/>\n      </g>\n     </g>\n    </g>\n    <g id=\"ytick_7\">\n     <g id=\"line2d_16\">\n      <g>\n       <use xlink:href=\"#m04da046a46\" x=\"64.6325\" y=\"174.016406\" style=\"fill: #323034; stroke: #323034; stroke-width: 0.8\"/>\n      </g>\n     </g>\n     <g id=\"text_17\">\n      <!-- greater quantity -->\n      <g style=\"fill: #323034\" transform=\"translate(7.2 176.748281)scale(0.08 -0.08)\">\n       <use xlink:href=\"#STIXGeneral-Regular-67\"/>\n       <use xlink:href=\"#STIXGeneral-Regular-72\" x=\"49.999985\"/>\n       <use xlink:href=\"#STIXGeneral-Regular-65\" x=\"83.299973\"/>\n       <use xlink:href=\"#STIXGeneral-Regular-61\" x=\"127.699966\"/>\n       <use xlink:href=\"#STIXGeneral-Regular-74\" x=\"172.09996\"/>\n       <use xlink:href=\"#STIXGeneral-Regular-65\" x=\"199.899948\"/>\n       <use xlink:href=\"#STIXGeneral-Regular-72\" x=\"244.299942\"/>\n       <use xlink:href=\"#STIXGeneral-Regular-20\" x=\"277.59993\"/>\n       <use xlink:href=\"#STIXGeneral-Regular-71\" x=\"302.599915\"/>\n       <use xlink:href=\"#STIXGeneral-Regular-75\" x=\"352.599899\"/>\n       <use xlink:href=\"#STIXGeneral-Regular-61\" x=\"402.599884\"/>\n       <use xlink:href=\"#STIXGeneral-Regular-6e\" x=\"446.999878\"/>\n       <use xlink:href=\"#STIXGeneral-Regular-74\" x=\"496.999863\"/>\n       <use xlink:href=\"#STIXGeneral-Regular-69\" x=\"524.79985\"/>\n       <use xlink:href=\"#STIXGeneral-Regular-74\" x=\"552.599838\"/>\n       <use xlink:href=\"#STIXGeneral-Regular-79\" x=\"580.399826\"/>\n      </g>\n     </g>\n    </g>\n    <g id=\"ytick_8\">\n     <g id=\"line2d_17\">\n      <g>\n       <use xlink:href=\"#m04da046a46\" x=\"64.6325\" y=\"163.456406\" style=\"fill: #323034; stroke: #323034; stroke-width: 0.8\"/>\n      </g>\n     </g>\n     <g id=\"text_18\">\n      <!-- gold silver -->\n      <g style=\"fill: #323034\" transform=\"translate(23.6325 166.188281)scale(0.08 -0.08)\">\n       <use xlink:href=\"#STIXGeneral-Regular-67\"/>\n       <use xlink:href=\"#STIXGeneral-Regular-6f\" x=\"49.999985\"/>\n       <use xlink:href=\"#STIXGeneral-Regular-6c\" x=\"99.999969\"/>\n       <use xlink:href=\"#STIXGeneral-Regular-64\" x=\"127.799957\"/>\n       <use xlink:href=\"#STIXGeneral-Regular-20\" x=\"177.799942\"/>\n       <use xlink:href=\"#STIXGeneral-Regular-73\" x=\"202.799927\"/>\n       <use xlink:href=\"#STIXGeneral-Regular-69\" x=\"241.699921\"/>\n       <use xlink:href=\"#STIXGeneral-Regular-6c\" x=\"269.499908\"/>\n       <use xlink:href=\"#STIXGeneral-Regular-76\" x=\"297.299896\"/>\n       <use xlink:href=\"#STIXGeneral-Regular-65\" x=\"347.299881\"/>\n       <use xlink:href=\"#STIXGeneral-Regular-72\" x=\"391.699875\"/>\n      </g>\n     </g>\n    </g>\n    <g id=\"ytick_9\">\n     <g id=\"line2d_18\">\n      <g>\n       <use xlink:href=\"#m04da046a46\" x=\"64.6325\" y=\"152.896406\" style=\"fill: #323034; stroke: #323034; stroke-width: 0.8\"/>\n      </g>\n     </g>\n     <g id=\"text_19\">\n      <!-- price labour -->\n      <g style=\"fill: #323034\" transform=\"translate(19.2 155.628281)scale(0.08 -0.08)\">\n       <use xlink:href=\"#STIXGeneral-Regular-70\"/>\n       <use xlink:href=\"#STIXGeneral-Regular-72\" x=\"49.999985\"/>\n       <use xlink:href=\"#STIXGeneral-Regular-69\" x=\"83.299973\"/>\n       <use xlink:href=\"#STIXGeneral-Regular-63\" x=\"111.09996\"/>\n       <use xlink:href=\"#STIXGeneral-Regular-65\" x=\"155.499954\"/>\n       <use xlink:href=\"#STIXGeneral-Regular-20\" x=\"199.899948\"/>\n       <use xlink:href=\"#STIXGeneral-Regular-6c\" x=\"224.899933\"/>\n       <use xlink:href=\"#STIXGeneral-Regular-61\" x=\"252.699921\"/>\n       <use xlink:href=\"#STIXGeneral-Regular-62\" x=\"297.099915\"/>\n       <use xlink:href=\"#STIXGeneral-Regular-6f\" x=\"347.099899\"/>\n       <use xlink:href=\"#STIXGeneral-Regular-75\" x=\"397.099884\"/>\n       <use xlink:href=\"#STIXGeneral-Regular-72\" x=\"447.099869\"/>\n      </g>\n     </g>\n    </g>\n    <g id=\"ytick_10\">\n     <g id=\"line2d_19\">\n      <g>\n       <use xlink:href=\"#m04da046a46\" x=\"64.6325\" y=\"142.336406\" style=\"fill: #323034; stroke: #323034; stroke-width: 0.8\"/>\n      </g>\n     </g>\n     <g id=\"text_20\">\n      <!-- market price -->\n      <g style=\"fill: #323034\" transform=\"translate(17.42375 145.068281)scale(0.08 -0.08)\">\n       <use xlink:href=\"#STIXGeneral-Regular-6d\"/>\n       <use xlink:href=\"#STIXGeneral-Regular-61\" x=\"77.799988\"/>\n       <use xlink:href=\"#STIXGeneral-Regular-72\" x=\"122.199982\"/>\n       <use xlink:href=\"#STIXGeneral-Regular-6b\" x=\"155.499969\"/>\n       <use xlink:href=\"#STIXGeneral-Regular-65\" x=\"205.499954\"/>\n       <use xlink:href=\"#STIXGeneral-Regular-74\" x=\"249.899948\"/>\n       <use xlink:href=\"#STIXGeneral-Regular-20\" x=\"277.699936\"/>\n       <use xlink:href=\"#STIXGeneral-Regular-70\" x=\"302.699921\"/>\n       <use xlink:href=\"#STIXGeneral-Regular-72\" x=\"352.699905\"/>\n       <use xlink:href=\"#STIXGeneral-Regular-69\" x=\"385.999893\"/>\n       <use xlink:href=\"#STIXGeneral-Regular-63\" x=\"413.799881\"/>\n       <use xlink:href=\"#STIXGeneral-Regular-65\" x=\"458.199875\"/>\n      </g>\n     </g>\n    </g>\n    <g id=\"ytick_11\">\n     <g id=\"line2d_20\">\n      <g>\n       <use xlink:href=\"#m04da046a46\" x=\"64.6325\" y=\"131.776406\" style=\"fill: #323034; stroke: #323034; stroke-width: 0.8\"/>\n      </g>\n     </g>\n     <g id=\"text_21\">\n      <!-- one another -->\n      <g style=\"fill: #323034\" transform=\"translate(20.0875 134.508281)scale(0.08 -0.08)\">\n       <defs>\n        <path id=\"STIXGeneral-Regular-68\" d=\"M 3117 0 \nL 1760 0 \nL 1760 96 \nQ 2042 128 2118 224 \nQ 2195 320 2195 653 \nL 2195 1920 \nQ 2195 2598 1722 2598 \nQ 1530 2598 1370 2508 \nQ 1210 2419 1005 2195 \nL 1005 653 \nQ 1005 320 1081 224 \nQ 1158 128 1440 96 \nL 1440 0 \nL 58 0 \nL 58 96 \nQ 333 134 400 224 \nQ 467 314 467 653 \nL 467 3667 \nQ 467 3872 406 3933 \nQ 346 3994 141 3994 \nQ 83 3994 64 3987 \nL 64 4090 \nL 237 4141 \nQ 730 4288 973 4371 \nL 1005 4352 \nL 1005 2406 \nQ 1229 2694 1446 2819 \nQ 1664 2944 1946 2944 \nQ 2733 2944 2733 1926 \nL 2733 653 \nQ 2733 320 2793 233 \nQ 2854 147 3117 96 \nL 3117 0 \nz\n\" transform=\"scale(0.015625)\"/>\n       </defs>\n       <use xlink:href=\"#STIXGeneral-Regular-6f\"/>\n       <use xlink:href=\"#STIXGeneral-Regular-6e\" x=\"49.999985\"/>\n       <use xlink:href=\"#STIXGeneral-Regular-65\" x=\"99.999969\"/>\n       <use xlink:href=\"#STIXGeneral-Regular-20\" x=\"144.399963\"/>\n       <use xlink:href=\"#STIXGeneral-Regular-61\" x=\"169.399948\"/>\n       <use xlink:href=\"#STIXGeneral-Regular-6e\" x=\"213.799942\"/>\n       <use xlink:href=\"#STIXGeneral-Regular-6f\" x=\"263.799927\"/>\n       <use xlink:href=\"#STIXGeneral-Regular-74\" x=\"313.799911\"/>\n       <use xlink:href=\"#STIXGeneral-Regular-68\" x=\"341.599899\"/>\n       <use xlink:href=\"#STIXGeneral-Regular-65\" x=\"391.599884\"/>\n       <use xlink:href=\"#STIXGeneral-Regular-72\" x=\"435.999878\"/>\n      </g>\n     </g>\n    </g>\n    <g id=\"ytick_12\">\n     <g id=\"line2d_21\">\n      <g>\n       <use xlink:href=\"#m04da046a46\" x=\"64.6325\" y=\"121.216406\" style=\"fill: #323034; stroke: #323034; stroke-width: 0.8\"/>\n      </g>\n     </g>\n     <g id=\"text_22\">\n      <!-- price corn -->\n      <g style=\"fill: #323034\" transform=\"translate(25.42375 123.948281)scale(0.08 -0.08)\">\n       <use xlink:href=\"#STIXGeneral-Regular-70\"/>\n       <use xlink:href=\"#STIXGeneral-Regular-72\" x=\"49.999985\"/>\n       <use xlink:href=\"#STIXGeneral-Regular-69\" x=\"83.299973\"/>\n       <use xlink:href=\"#STIXGeneral-Regular-63\" x=\"111.09996\"/>\n       <use xlink:href=\"#STIXGeneral-Regular-65\" x=\"155.499954\"/>\n       <use xlink:href=\"#STIXGeneral-Regular-20\" x=\"199.899948\"/>\n       <use xlink:href=\"#STIXGeneral-Regular-63\" x=\"224.899933\"/>\n       <use xlink:href=\"#STIXGeneral-Regular-6f\" x=\"269.299927\"/>\n       <use xlink:href=\"#STIXGeneral-Regular-72\" x=\"319.299911\"/>\n       <use xlink:href=\"#STIXGeneral-Regular-6e\" x=\"352.599899\"/>\n      </g>\n     </g>\n    </g>\n    <g id=\"ytick_13\">\n     <g id=\"line2d_22\">\n      <g>\n       <use xlink:href=\"#m04da046a46\" x=\"64.6325\" y=\"110.656406\" style=\"fill: #323034; stroke: #323034; stroke-width: 0.8\"/>\n      </g>\n     </g>\n     <g id=\"text_23\">\n      <!-- real price -->\n      <g style=\"fill: #323034\" transform=\"translate(27.6475 113.388281)scale(0.08 -0.08)\">\n       <use xlink:href=\"#STIXGeneral-Regular-72\"/>\n       <use xlink:href=\"#STIXGeneral-Regular-65\" x=\"33.299988\"/>\n       <use xlink:href=\"#STIXGeneral-Regular-61\" x=\"77.699982\"/>\n       <use xlink:href=\"#STIXGeneral-Regular-6c\" x=\"122.099976\"/>\n       <use xlink:href=\"#STIXGeneral-Regular-20\" x=\"149.899963\"/>\n       <use xlink:href=\"#STIXGeneral-Regular-70\" x=\"174.899948\"/>\n       <use xlink:href=\"#STIXGeneral-Regular-72\" x=\"224.899933\"/>\n       <use xlink:href=\"#STIXGeneral-Regular-69\" x=\"258.199921\"/>\n       <use xlink:href=\"#STIXGeneral-Regular-63\" x=\"285.999908\"/>\n       <use xlink:href=\"#STIXGeneral-Regular-65\" x=\"330.399902\"/>\n      </g>\n     </g>\n    </g>\n    <g id=\"ytick_14\">\n     <g id=\"line2d_23\">\n      <g>\n       <use xlink:href=\"#m04da046a46\" x=\"64.6325\" y=\"100.096406\" style=\"fill: #323034; stroke: #323034; stroke-width: 0.8\"/>\n      </g>\n     </g>\n     <g id=\"text_24\">\n      <!-- much greater -->\n      <g style=\"fill: #323034\" transform=\"translate(15.6475 102.828281)scale(0.08 -0.08)\">\n       <use xlink:href=\"#STIXGeneral-Regular-6d\"/>\n       <use xlink:href=\"#STIXGeneral-Regular-75\" x=\"77.799988\"/>\n       <use xlink:href=\"#STIXGeneral-Regular-63\" x=\"127.799973\"/>\n       <use xlink:href=\"#STIXGeneral-Regular-68\" x=\"172.199966\"/>\n       <use xlink:href=\"#STIXGeneral-Regular-20\" x=\"222.199951\"/>\n       <use xlink:href=\"#STIXGeneral-Regular-67\" x=\"247.199936\"/>\n       <use xlink:href=\"#STIXGeneral-Regular-72\" x=\"297.199921\"/>\n       <use xlink:href=\"#STIXGeneral-Regular-65\" x=\"330.499908\"/>\n       <use xlink:href=\"#STIXGeneral-Regular-61\" x=\"374.899902\"/>\n       <use xlink:href=\"#STIXGeneral-Regular-74\" x=\"419.299896\"/>\n       <use xlink:href=\"#STIXGeneral-Regular-65\" x=\"447.099884\"/>\n       <use xlink:href=\"#STIXGeneral-Regular-72\" x=\"491.499878\"/>\n      </g>\n     </g>\n    </g>\n    <g id=\"ytick_15\">\n     <g id=\"line2d_24\">\n      <g>\n       <use xlink:href=\"#m04da046a46\" x=\"64.6325\" y=\"89.536406\" style=\"fill: #323034; stroke: #323034; stroke-width: 0.8\"/>\n      </g>\n     </g>\n     <g id=\"text_25\">\n      <!-- per cent -->\n      <g style=\"fill: #323034\" transform=\"translate(32.0875 92.268281)scale(0.08 -0.08)\">\n       <use xlink:href=\"#STIXGeneral-Regular-70\"/>\n       <use xlink:href=\"#STIXGeneral-Regular-65\" x=\"49.999985\"/>\n       <use xlink:href=\"#STIXGeneral-Regular-72\" x=\"94.399979\"/>\n       <use xlink:href=\"#STIXGeneral-Regular-20\" x=\"127.699966\"/>\n       <use xlink:href=\"#STIXGeneral-Regular-63\" x=\"152.699951\"/>\n       <use xlink:href=\"#STIXGeneral-Regular-65\" x=\"197.099945\"/>\n       <use xlink:href=\"#STIXGeneral-Regular-6e\" x=\"241.499939\"/>\n       <use xlink:href=\"#STIXGeneral-Regular-74\" x=\"291.499924\"/>\n      </g>\n     </g>\n    </g>\n    <g id=\"ytick_16\">\n     <g id=\"line2d_25\">\n      <g>\n       <use xlink:href=\"#m04da046a46\" x=\"64.6325\" y=\"78.976406\" style=\"fill: #323034; stroke: #323034; stroke-width: 0.8\"/>\n      </g>\n     </g>\n     <g id=\"text_26\">\n      <!-- butcher meat -->\n      <g style=\"fill: #323034\" transform=\"translate(16.0875 81.708281)scale(0.08 -0.08)\">\n       <use xlink:href=\"#STIXGeneral-Regular-62\"/>\n       <use xlink:href=\"#STIXGeneral-Regular-75\" x=\"49.999985\"/>\n       <use xlink:href=\"#STIXGeneral-Regular-74\" x=\"99.999969\"/>\n       <use xlink:href=\"#STIXGeneral-Regular-63\" x=\"127.799957\"/>\n       <use xlink:href=\"#STIXGeneral-Regular-68\" x=\"172.199951\"/>\n       <use xlink:href=\"#STIXGeneral-Regular-65\" x=\"222.199936\"/>\n       <use xlink:href=\"#STIXGeneral-Regular-72\" x=\"266.59993\"/>\n       <use xlink:href=\"#STIXGeneral-Regular-20\" x=\"299.899918\"/>\n       <use xlink:href=\"#STIXGeneral-Regular-6d\" x=\"324.899902\"/>\n       <use xlink:href=\"#STIXGeneral-Regular-65\" x=\"402.69989\"/>\n       <use xlink:href=\"#STIXGeneral-Regular-61\" x=\"447.099884\"/>\n       <use xlink:href=\"#STIXGeneral-Regular-74\" x=\"491.499878\"/>\n      </g>\n     </g>\n    </g>\n    <g id=\"ytick_17\">\n     <g id=\"line2d_26\">\n      <g>\n       <use xlink:href=\"#m04da046a46\" x=\"64.6325\" y=\"68.416406\" style=\"fill: #323034; stroke: #323034; stroke-width: 0.8\"/>\n      </g>\n     </g>\n     <g id=\"text_27\">\n      <!-- quantity silver -->\n      <g style=\"fill: #323034\" transform=\"translate(11.6325 71.148281)scale(0.08 -0.08)\">\n       <use xlink:href=\"#STIXGeneral-Regular-71\"/>\n       <use xlink:href=\"#STIXGeneral-Regular-75\" x=\"49.999985\"/>\n       <use xlink:href=\"#STIXGeneral-Regular-61\" x=\"99.999969\"/>\n       <use xlink:href=\"#STIXGeneral-Regular-6e\" x=\"144.399963\"/>\n       <use xlink:href=\"#STIXGeneral-Regular-74\" x=\"194.399948\"/>\n       <use xlink:href=\"#STIXGeneral-Regular-69\" x=\"222.199936\"/>\n       <use xlink:href=\"#STIXGeneral-Regular-74\" x=\"249.999924\"/>\n       <use xlink:href=\"#STIXGeneral-Regular-79\" x=\"277.799911\"/>\n       <use xlink:href=\"#STIXGeneral-Regular-20\" x=\"327.799896\"/>\n       <use xlink:href=\"#STIXGeneral-Regular-73\" x=\"352.799881\"/>\n       <use xlink:href=\"#STIXGeneral-Regular-69\" x=\"391.699875\"/>\n       <use xlink:href=\"#STIXGeneral-Regular-6c\" x=\"419.499863\"/>\n       <use xlink:href=\"#STIXGeneral-Regular-76\" x=\"447.29985\"/>\n       <use xlink:href=\"#STIXGeneral-Regular-65\" x=\"497.299835\"/>\n       <use xlink:href=\"#STIXGeneral-Regular-72\" x=\"541.699829\"/>\n      </g>\n     </g>\n    </g>\n    <g id=\"ytick_18\">\n     <g id=\"line2d_27\">\n      <g>\n       <use xlink:href=\"#m04da046a46\" x=\"64.6325\" y=\"57.856406\" style=\"fill: #323034; stroke: #323034; stroke-width: 0.8\"/>\n      </g>\n     </g>\n     <g id=\"text_28\">\n      <!-- good deal -->\n      <g style=\"fill: #323034\" transform=\"translate(26.30375 60.588281)scale(0.08 -0.08)\">\n       <use xlink:href=\"#STIXGeneral-Regular-67\"/>\n       <use xlink:href=\"#STIXGeneral-Regular-6f\" x=\"49.999985\"/>\n       <use xlink:href=\"#STIXGeneral-Regular-6f\" x=\"99.999969\"/>\n       <use xlink:href=\"#STIXGeneral-Regular-64\" x=\"149.999954\"/>\n       <use xlink:href=\"#STIXGeneral-Regular-20\" x=\"199.999939\"/>\n       <use xlink:href=\"#STIXGeneral-Regular-64\" x=\"224.999924\"/>\n       <use xlink:href=\"#STIXGeneral-Regular-65\" x=\"274.999908\"/>\n       <use xlink:href=\"#STIXGeneral-Regular-61\" x=\"319.399902\"/>\n       <use xlink:href=\"#STIXGeneral-Regular-6c\" x=\"363.799896\"/>\n      </g>\n     </g>\n    </g>\n    <g id=\"ytick_19\">\n     <g id=\"line2d_28\">\n      <g>\n       <use xlink:href=\"#m04da046a46\" x=\"64.6325\" y=\"47.296406\" style=\"fill: #323034; stroke: #323034; stroke-width: 0.8\"/>\n      </g>\n     </g>\n     <g id=\"text_29\">\n      <!-- precious metals -->\n      <g style=\"fill: #323034\" transform=\"translate(7.63875 50.028281)scale(0.08 -0.08)\">\n       <use xlink:href=\"#STIXGeneral-Regular-70\"/>\n       <use xlink:href=\"#STIXGeneral-Regular-72\" x=\"49.999985\"/>\n       <use xlink:href=\"#STIXGeneral-Regular-65\" x=\"83.299973\"/>\n       <use xlink:href=\"#STIXGeneral-Regular-63\" x=\"127.699966\"/>\n       <use xlink:href=\"#STIXGeneral-Regular-69\" x=\"172.09996\"/>\n       <use xlink:href=\"#STIXGeneral-Regular-6f\" x=\"199.899948\"/>\n       <use xlink:href=\"#STIXGeneral-Regular-75\" x=\"249.899933\"/>\n       <use xlink:href=\"#STIXGeneral-Regular-73\" x=\"299.899918\"/>\n       <use xlink:href=\"#STIXGeneral-Regular-20\" x=\"338.799911\"/>\n       <use xlink:href=\"#STIXGeneral-Regular-6d\" x=\"363.799896\"/>\n       <use xlink:href=\"#STIXGeneral-Regular-65\" x=\"441.599884\"/>\n       <use xlink:href=\"#STIXGeneral-Regular-74\" x=\"485.999878\"/>\n       <use xlink:href=\"#STIXGeneral-Regular-61\" x=\"513.799866\"/>\n       <use xlink:href=\"#STIXGeneral-Regular-6c\" x=\"558.19986\"/>\n       <use xlink:href=\"#STIXGeneral-Regular-73\" x=\"585.999847\"/>\n      </g>\n     </g>\n    </g>\n    <g id=\"ytick_20\">\n     <g id=\"line2d_29\">\n      <g>\n       <use xlink:href=\"#m04da046a46\" x=\"64.6325\" y=\"36.736406\" style=\"fill: #323034; stroke: #323034; stroke-width: 0.8\"/>\n      </g>\n     </g>\n     <g id=\"text_30\">\n      <!-- part europe -->\n      <g style=\"fill: #323034\" transform=\"translate(21.42375 39.468281)scale(0.08 -0.08)\">\n       <use xlink:href=\"#STIXGeneral-Regular-70\"/>\n       <use xlink:href=\"#STIXGeneral-Regular-61\" x=\"49.999985\"/>\n       <use xlink:href=\"#STIXGeneral-Regular-72\" x=\"94.399979\"/>\n       <use xlink:href=\"#STIXGeneral-Regular-74\" x=\"127.699966\"/>\n       <use xlink:href=\"#STIXGeneral-Regular-20\" x=\"155.499954\"/>\n       <use xlink:href=\"#STIXGeneral-Regular-65\" x=\"180.499939\"/>\n       <use xlink:href=\"#STIXGeneral-Regular-75\" x=\"224.899933\"/>\n       <use xlink:href=\"#STIXGeneral-Regular-72\" x=\"274.899918\"/>\n       <use xlink:href=\"#STIXGeneral-Regular-6f\" x=\"308.199905\"/>\n       <use xlink:href=\"#STIXGeneral-Regular-70\" x=\"358.19989\"/>\n       <use xlink:href=\"#STIXGeneral-Regular-65\" x=\"408.199875\"/>\n      </g>\n     </g>\n    </g>\n   </g>\n   <g id=\"patch_23\">\n    <path d=\"M 64.6325 247.936406 \nL 64.6325 26.176406 \n\" style=\"fill: none; stroke: #000000; stroke-width: 0.6; stroke-linejoin: miter; stroke-linecap: square\"/>\n   </g>\n   <g id=\"patch_24\">\n    <path d=\"M 64.6325 247.936406 \nL 511.0325 247.936406 \n\" style=\"fill: none; stroke: #000000; stroke-width: 0.6; stroke-linejoin: miter; stroke-linecap: square\"/>\n   </g>\n   <g id=\"text_31\">\n    <!-- The 20 top 2-grams -->\n    <g style=\"fill: #323034\" transform=\"translate(64.6325 20.176406)scale(0.19 -0.19)\">\n     <defs>\n      <path id=\"STIXGeneral-Regular-54\" d=\"M 3795 3149 \nL 3642 3149 \nQ 3539 3674 3353 3821 \nQ 3168 3968 2656 3968 \nL 2278 3968 \nL 2278 710 \nQ 2278 346 2387 243 \nQ 2496 141 2893 122 \nL 2893 0 \nL 1024 0 \nL 1024 122 \nQ 1427 147 1526 256 \nQ 1626 365 1626 787 \nL 1626 3968 \nL 1242 3968 \nQ 723 3968 540 3817 \nQ 358 3667 262 3149 \nL 109 3149 \nL 154 4237 \nL 3750 4237 \nL 3795 3149 \nz\n\" transform=\"scale(0.015625)\"/>\n      <path id=\"STIXGeneral-Regular-2d\" d=\"M 1824 1242 \nL 250 1242 \nL 250 1645 \nL 1824 1645 \nL 1824 1242 \nz\n\" transform=\"scale(0.015625)\"/>\n     </defs>\n     <use xlink:href=\"#STIXGeneral-Regular-54\"/>\n     <use xlink:href=\"#STIXGeneral-Regular-68\" x=\"61.099991\"/>\n     <use xlink:href=\"#STIXGeneral-Regular-65\" x=\"111.099976\"/>\n     <use xlink:href=\"#STIXGeneral-Regular-20\" x=\"155.499969\"/>\n     <use xlink:href=\"#STIXGeneral-Regular-32\" x=\"180.499954\"/>\n     <use xlink:href=\"#STIXGeneral-Regular-30\" x=\"230.499939\"/>\n     <use xlink:href=\"#STIXGeneral-Regular-20\" x=\"280.499924\"/>\n     <use xlink:href=\"#STIXGeneral-Regular-74\" x=\"305.499908\"/>\n     <use xlink:href=\"#STIXGeneral-Regular-6f\" x=\"333.299896\"/>\n     <use xlink:href=\"#STIXGeneral-Regular-70\" x=\"383.299881\"/>\n     <use xlink:href=\"#STIXGeneral-Regular-20\" x=\"433.299866\"/>\n     <use xlink:href=\"#STIXGeneral-Regular-32\" x=\"458.29985\"/>\n     <use xlink:href=\"#STIXGeneral-Regular-2d\" x=\"508.299835\"/>\n     <use xlink:href=\"#STIXGeneral-Regular-67\" x=\"541.599823\"/>\n     <use xlink:href=\"#STIXGeneral-Regular-72\" x=\"591.599808\"/>\n     <use xlink:href=\"#STIXGeneral-Regular-61\" x=\"624.899796\"/>\n     <use xlink:href=\"#STIXGeneral-Regular-6d\" x=\"669.299789\"/>\n     <use xlink:href=\"#STIXGeneral-Regular-73\" x=\"747.099777\"/>\n    </g>\n   </g>\n  </g>\n </g>\n <defs>\n  <clipPath id=\"p98cb6036ad\">\n   <rect x=\"64.6325\" y=\"26.176406\" width=\"446.4\" height=\"221.76\"/>\n  </clipPath>\n </defs>\n</svg>\n",
      "text/plain": [
       "<Figure size 1200x600 with 1 Axes>"
      ]
     },
     "metadata": {},
     "output_type": "display_data"
    }
   ],
   "source": [
    "# Count bigrams:\n",
    "vectorizer = CountVectorizer(stop_words=stopwords, ngram_range=(2, 2), max_features=300)\n",
    "bigrams_df = (\n",
    "    pd.DataFrame(\n",
    "        vectorizer.fit_transform(df[\"text\"]).toarray(),\n",
    "        columns=vectorizer.get_feature_names(),\n",
    "    )\n",
    "    .T.sum(axis=1)\n",
    "    .sort_values(ascending=False)\n",
    ")\n",
    "\n",
    "# Plot top n 2-grams\n",
    "num_to_plot = 20\n",
    "x_pos = np.arange(num_to_plot)\n",
    "fig, ax = plt.subplots()\n",
    "ax.barh(x_pos, bigrams_df[:num_to_plot], align=\"center\", alpha=0.5)\n",
    "ax.set_yticks(x_pos)\n",
    "ax.set_yticklabels(bigrams_df[:num_to_plot].index, fontsize=8)\n",
    "ax.set_ylim(-1, num_to_plot)\n",
    "ax.set_xlabel('Count of terms across all \"documents\"')\n",
    "ax.set_title(f\"The {num_to_plot} top 2-grams\")\n",
    "plt.show()"
   ]
  },
  {
   "cell_type": "markdown",
   "metadata": {},
   "source": [
    "As you might expect, the highest frequency with which 2-grams occur is less than the highest frequency with which 1-grams occur.\n",
    "\n",
    "Now let's move on to the inverse document frequency. The most common definition is \n",
    "\n",
    "$$\n",
    "\\mathrm{idf}(t, D) =  \\log \\frac{N}{|\\{d \\in D: t \\in d\\}|}\n",
    "$$\n",
    "\n",
    "where $D$ is the set of documents, $N=|D|$, and  $|\\{d \\in D: t \\in d\\}|$ is the number of documents in which $t$ appears. Putting both together we have\n",
    "\n",
    "$$\n",
    "\\mathrm{tfidf}(t, d, D) = \\mathrm{tf}(t, d) \\cdot \\mathrm{idf}(t, D)\n",
    "$$\n",
    "\n",
    "Because of power-law scaling, problems with zero-count entries, and other issues, this basic formula is often modified and the [wikipedia page](https://en.wikipedia.org/wiki/Tf%E2%80%93idf) for tf-idf gives a good run-down of some common options.\n",
    "\n",
    "To perform tfidf with code, we'll use another **sklearn** function, `TfidfVectorizer`."
   ]
  },
  {
   "cell_type": "code",
   "execution_count": 25,
   "metadata": {},
   "outputs": [
    {
     "name": "stderr",
     "output_type": "stream",
     "text": [
      "/opt/anaconda3/envs/codeforecon/lib/python3.8/site-packages/sklearn/utils/deprecation.py:87: FutureWarning: Function get_feature_names is deprecated; get_feature_names is deprecated in 1.0 and will be removed in 1.2. Please use get_feature_names_out instead.\n",
      "  warnings.warn(msg, category=FutureWarning)\n"
     ]
    },
    {
     "data": {
      "image/svg+xml": "<?xml version=\"1.0\" encoding=\"utf-8\" standalone=\"no\"?>\n<!DOCTYPE svg PUBLIC \"-//W3C//DTD SVG 1.1//EN\"\n  \"http://www.w3.org/Graphics/SVG/1.1/DTD/svg11.dtd\">\n<svg xmlns:xlink=\"http://www.w3.org/1999/xlink\" width=\"508.6725pt\" height=\"294.046406pt\" viewBox=\"0 0 508.6725 294.046406\" xmlns=\"http://www.w3.org/2000/svg\" version=\"1.1\">\n <metadata>\n  <rdf:RDF xmlns:dc=\"http://purl.org/dc/elements/1.1/\" xmlns:cc=\"http://creativecommons.org/ns#\" xmlns:rdf=\"http://www.w3.org/1999/02/22-rdf-syntax-ns#\">\n   <cc:Work>\n    <dc:type rdf:resource=\"http://purl.org/dc/dcmitype/StillImage\"/>\n    <dc:date>2022-10-28T18:44:28.683580</dc:date>\n    <dc:format>image/svg+xml</dc:format>\n    <dc:creator>\n     <cc:Agent>\n      <dc:title>Matplotlib v3.5.3, https://matplotlib.org/</dc:title>\n     </cc:Agent>\n    </dc:creator>\n   </cc:Work>\n  </rdf:RDF>\n </metadata>\n <defs>\n  <style type=\"text/css\">*{stroke-linejoin: round; stroke-linecap: butt}</style>\n </defs>\n <g id=\"figure_1\">\n  <g id=\"patch_1\">\n   <path d=\"M 0 294.046406 \nL 508.6725 294.046406 \nL 508.6725 0 \nL 0 0 \nz\n\" style=\"fill: #ffffff\"/>\n  </g>\n  <g id=\"axes_1\">\n   <g id=\"patch_2\">\n    <path d=\"M 43.0725 248.031406 \nL 489.4725 248.031406 \nL 489.4725 26.271406 \nL 43.0725 26.271406 \nz\n\" style=\"fill: #ffffff\"/>\n   </g>\n   <g id=\"patch_3\">\n    <path d=\"M 43.0725 241.695406 \nL 427.362254 241.695406 \nL 427.362254 233.247406 \nL 43.0725 233.247406 \nz\n\" clip-path=\"url(#p6db5b14df7)\" style=\"fill: #bc80bd; opacity: 0.5; stroke: #000000; stroke-width: 0.8; stroke-linejoin: miter\"/>\n   </g>\n   <g id=\"patch_4\">\n    <path d=\"M 43.0725 231.135406 \nL 368.919307 231.135406 \nL 368.919307 222.687406 \nL 43.0725 222.687406 \nz\n\" clip-path=\"url(#p6db5b14df7)\" style=\"fill: #bc80bd; opacity: 0.5; stroke: #000000; stroke-width: 0.8; stroke-linejoin: miter\"/>\n   </g>\n   <g id=\"patch_5\">\n    <path d=\"M 43.0725 220.575406 \nL 294.383599 220.575406 \nL 294.383599 212.127406 \nL 43.0725 212.127406 \nz\n\" clip-path=\"url(#p6db5b14df7)\" style=\"fill: #bc80bd; opacity: 0.5; stroke: #000000; stroke-width: 0.8; stroke-linejoin: miter\"/>\n   </g>\n   <g id=\"patch_6\">\n    <path d=\"M 43.0725 210.015406 \nL 286.578875 210.015406 \nL 286.578875 201.567406 \nL 43.0725 201.567406 \nz\n\" clip-path=\"url(#p6db5b14df7)\" style=\"fill: #bc80bd; opacity: 0.5; stroke: #000000; stroke-width: 0.8; stroke-linejoin: miter\"/>\n   </g>\n   <g id=\"patch_7\">\n    <path d=\"M 43.0725 199.455406 \nL 272.463162 199.455406 \nL 272.463162 191.007406 \nL 43.0725 191.007406 \nz\n\" clip-path=\"url(#p6db5b14df7)\" style=\"fill: #bc80bd; opacity: 0.5; stroke: #000000; stroke-width: 0.8; stroke-linejoin: miter\"/>\n   </g>\n   <g id=\"patch_8\">\n    <path d=\"M 43.0725 188.895406 \nL 258.028943 188.895406 \nL 258.028943 180.447406 \nL 43.0725 180.447406 \nz\n\" clip-path=\"url(#p6db5b14df7)\" style=\"fill: #bc80bd; opacity: 0.5; stroke: #000000; stroke-width: 0.8; stroke-linejoin: miter\"/>\n   </g>\n   <g id=\"patch_9\">\n    <path d=\"M 43.0725 178.335406 \nL 241.799299 178.335406 \nL 241.799299 169.887406 \nL 43.0725 169.887406 \nz\n\" clip-path=\"url(#p6db5b14df7)\" style=\"fill: #bc80bd; opacity: 0.5; stroke: #000000; stroke-width: 0.8; stroke-linejoin: miter\"/>\n   </g>\n   <g id=\"patch_10\">\n    <path d=\"M 43.0725 167.775406 \nL 236.465788 167.775406 \nL 236.465788 159.327406 \nL 43.0725 159.327406 \nz\n\" clip-path=\"url(#p6db5b14df7)\" style=\"fill: #bc80bd; opacity: 0.5; stroke: #000000; stroke-width: 0.8; stroke-linejoin: miter\"/>\n   </g>\n   <g id=\"patch_11\">\n    <path d=\"M 43.0725 157.215406 \nL 234.692254 157.215406 \nL 234.692254 148.767406 \nL 43.0725 148.767406 \nz\n\" clip-path=\"url(#p6db5b14df7)\" style=\"fill: #bc80bd; opacity: 0.5; stroke: #000000; stroke-width: 0.8; stroke-linejoin: miter\"/>\n   </g>\n   <g id=\"patch_12\">\n    <path d=\"M 43.0725 146.655406 \nL 234.129262 146.655406 \nL 234.129262 138.207406 \nL 43.0725 138.207406 \nz\n\" clip-path=\"url(#p6db5b14df7)\" style=\"fill: #bc80bd; opacity: 0.5; stroke: #000000; stroke-width: 0.8; stroke-linejoin: miter\"/>\n   </g>\n   <g id=\"patch_13\">\n    <path d=\"M 43.0725 136.095406 \nL 230.310383 136.095406 \nL 230.310383 127.647406 \nL 43.0725 127.647406 \nz\n\" clip-path=\"url(#p6db5b14df7)\" style=\"fill: #bc80bd; opacity: 0.5; stroke: #000000; stroke-width: 0.8; stroke-linejoin: miter\"/>\n   </g>\n   <g id=\"patch_14\">\n    <path d=\"M 43.0725 125.535406 \nL 230.280471 125.535406 \nL 230.280471 117.087406 \nL 43.0725 117.087406 \nz\n\" clip-path=\"url(#p6db5b14df7)\" style=\"fill: #bc80bd; opacity: 0.5; stroke: #000000; stroke-width: 0.8; stroke-linejoin: miter\"/>\n   </g>\n   <g id=\"patch_15\">\n    <path d=\"M 43.0725 114.975406 \nL 228.888169 114.975406 \nL 228.888169 106.527406 \nL 43.0725 106.527406 \nz\n\" clip-path=\"url(#p6db5b14df7)\" style=\"fill: #bc80bd; opacity: 0.5; stroke: #000000; stroke-width: 0.8; stroke-linejoin: miter\"/>\n   </g>\n   <g id=\"patch_16\">\n    <path d=\"M 43.0725 104.415406 \nL 226.664388 104.415406 \nL 226.664388 95.967406 \nL 43.0725 95.967406 \nz\n\" clip-path=\"url(#p6db5b14df7)\" style=\"fill: #bc80bd; opacity: 0.5; stroke: #000000; stroke-width: 0.8; stroke-linejoin: miter\"/>\n   </g>\n   <g id=\"patch_17\">\n    <path d=\"M 43.0725 93.855406 \nL 225.704815 93.855406 \nL 225.704815 85.407406 \nL 43.0725 85.407406 \nz\n\" clip-path=\"url(#p6db5b14df7)\" style=\"fill: #bc80bd; opacity: 0.5; stroke: #000000; stroke-width: 0.8; stroke-linejoin: miter\"/>\n   </g>\n   <g id=\"patch_18\">\n    <path d=\"M 43.0725 83.295406 \nL 221.492104 83.295406 \nL 221.492104 74.847406 \nL 43.0725 74.847406 \nz\n\" clip-path=\"url(#p6db5b14df7)\" style=\"fill: #bc80bd; opacity: 0.5; stroke: #000000; stroke-width: 0.8; stroke-linejoin: miter\"/>\n   </g>\n   <g id=\"patch_19\">\n    <path d=\"M 43.0725 72.735406 \nL 219.430863 72.735406 \nL 219.430863 64.287406 \nL 43.0725 64.287406 \nz\n\" clip-path=\"url(#p6db5b14df7)\" style=\"fill: #bc80bd; opacity: 0.5; stroke: #000000; stroke-width: 0.8; stroke-linejoin: miter\"/>\n   </g>\n   <g id=\"patch_20\">\n    <path d=\"M 43.0725 62.175406 \nL 217.168228 62.175406 \nL 217.168228 53.727406 \nL 43.0725 53.727406 \nz\n\" clip-path=\"url(#p6db5b14df7)\" style=\"fill: #bc80bd; opacity: 0.5; stroke: #000000; stroke-width: 0.8; stroke-linejoin: miter\"/>\n   </g>\n   <g id=\"patch_21\">\n    <path d=\"M 43.0725 51.615406 \nL 211.766891 51.615406 \nL 211.766891 43.167406 \nL 43.0725 43.167406 \nz\n\" clip-path=\"url(#p6db5b14df7)\" style=\"fill: #bc80bd; opacity: 0.5; stroke: #000000; stroke-width: 0.8; stroke-linejoin: miter\"/>\n   </g>\n   <g id=\"patch_22\">\n    <path d=\"M 43.0725 41.055406 \nL 203.351677 41.055406 \nL 203.351677 32.607406 \nL 43.0725 32.607406 \nz\n\" clip-path=\"url(#p6db5b14df7)\" style=\"fill: #bc80bd; opacity: 0.5; stroke: #000000; stroke-width: 0.8; stroke-linejoin: miter\"/>\n   </g>\n   <g id=\"matplotlib.axis_1\">\n    <g id=\"xtick_1\">\n     <g id=\"line2d_1\">\n      <defs>\n       <path id=\"mff815f9d49\" d=\"M 0 0 \nL 0 3.5 \n\" style=\"stroke: #323034; stroke-width: 0.8\"/>\n      </defs>\n      <g>\n       <use xlink:href=\"#mff815f9d49\" x=\"43.0725\" y=\"248.031406\" style=\"fill: #323034; stroke: #323034; stroke-width: 0.8\"/>\n      </g>\n     </g>\n     <g id=\"text_1\">\n      <!-- $\\mathdefault{0}$ -->\n      <g style=\"fill: #323034\" transform=\"translate(39.0725 265.958906)scale(0.16 -0.16)\">\n       <defs>\n        <path id=\"STIXGeneral-Regular-30\" d=\"M 3046 2112 \nQ 3046 1683 2963 1302 \nQ 2880 922 2717 602 \nQ 2554 282 2266 96 \nQ 1978 -90 1600 -90 \nQ 1210 -90 915 108 \nQ 621 307 461 640 \nQ 301 973 227 1350 \nQ 154 1728 154 2150 \nQ 154 2746 301 3222 \nQ 448 3699 790 4012 \nQ 1133 4326 1626 4326 \nQ 2253 4326 2649 3712 \nQ 3046 3098 3046 2112 \nz\nM 2432 2080 \nQ 2432 3091 2217 3625 \nQ 2003 4160 1587 4160 \nQ 1190 4160 979 3622 \nQ 768 3085 768 2106 \nQ 768 1120 979 598 \nQ 1190 77 1600 77 \nQ 2003 77 2217 598 \nQ 2432 1120 2432 2080 \nz\n\" transform=\"scale(0.015625)\"/>\n       </defs>\n       <use xlink:href=\"#STIXGeneral-Regular-30\" transform=\"translate(0 0.40625)\"/>\n      </g>\n     </g>\n    </g>\n    <g id=\"xtick_2\">\n     <g id=\"line2d_2\">\n      <g>\n       <use xlink:href=\"#mff815f9d49\" x=\"98.8725\" y=\"248.031406\" style=\"fill: #323034; stroke: #323034; stroke-width: 0.8\"/>\n      </g>\n     </g>\n     <g id=\"text_2\">\n      <!-- $\\mathdefault{25}$ -->\n      <g style=\"fill: #323034\" transform=\"translate(90.8725 265.958906)scale(0.16 -0.16)\">\n       <defs>\n        <path id=\"STIXGeneral-Regular-32\" d=\"M 3034 877 \nL 2688 0 \nL 186 0 \nL 186 77 \nL 1325 1286 \nQ 1773 1754 1965 2144 \nQ 2157 2534 2157 2950 \nQ 2157 3379 1920 3616 \nQ 1683 3853 1267 3853 \nQ 922 3853 720 3673 \nQ 518 3494 326 3021 \nL 192 3053 \nQ 301 3648 630 3987 \nQ 960 4326 1523 4326 \nQ 2054 4326 2380 4006 \nQ 2707 3686 2707 3200 \nQ 2707 2477 1888 1613 \nL 832 486 \nL 2330 486 \nQ 2541 486 2665 569 \nQ 2790 653 2944 915 \nL 3034 877 \nz\n\" transform=\"scale(0.015625)\"/>\n        <path id=\"STIXGeneral-Regular-35\" d=\"M 2803 4358 \nL 2573 3814 \nQ 2534 3731 2400 3731 \nL 1158 3731 \nL 902 3187 \nQ 1606 3053 1920 2896 \nQ 2234 2739 2502 2368 \nQ 2726 2061 2726 1555 \nQ 2726 1094 2576 780 \nQ 2426 467 2099 224 \nQ 1664 -90 1011 -90 \nQ 646 -90 422 19 \nQ 198 128 198 307 \nQ 198 550 486 550 \nQ 717 550 960 352 \nQ 1210 147 1414 147 \nQ 1747 147 2012 480 \nQ 2278 813 2278 1229 \nQ 2278 1843 1850 2189 \nQ 1293 2637 486 2637 \nQ 410 2637 410 2688 \nL 416 2720 \nL 1114 4237 \nL 2438 4237 \nQ 2547 4237 2608 4269 \nQ 2669 4301 2746 4403 \nL 2803 4358 \nz\n\" transform=\"scale(0.015625)\"/>\n       </defs>\n       <use xlink:href=\"#STIXGeneral-Regular-32\" transform=\"translate(0 0.203125)\"/>\n       <use xlink:href=\"#STIXGeneral-Regular-35\" transform=\"translate(49.999985 0.203125)\"/>\n      </g>\n     </g>\n    </g>\n    <g id=\"xtick_3\">\n     <g id=\"line2d_3\">\n      <g>\n       <use xlink:href=\"#mff815f9d49\" x=\"154.6725\" y=\"248.031406\" style=\"fill: #323034; stroke: #323034; stroke-width: 0.8\"/>\n      </g>\n     </g>\n     <g id=\"text_3\">\n      <!-- $\\mathdefault{50}$ -->\n      <g style=\"fill: #323034\" transform=\"translate(146.6725 265.958906)scale(0.16 -0.16)\">\n       <use xlink:href=\"#STIXGeneral-Regular-35\" transform=\"translate(0 0.203125)\"/>\n       <use xlink:href=\"#STIXGeneral-Regular-30\" transform=\"translate(49.999985 0.203125)\"/>\n      </g>\n     </g>\n    </g>\n    <g id=\"xtick_4\">\n     <g id=\"line2d_4\">\n      <g>\n       <use xlink:href=\"#mff815f9d49\" x=\"210.4725\" y=\"248.031406\" style=\"fill: #323034; stroke: #323034; stroke-width: 0.8\"/>\n      </g>\n     </g>\n     <g id=\"text_4\">\n      <!-- $\\mathdefault{75}$ -->\n      <g style=\"fill: #323034\" transform=\"translate(202.4725 265.958906)scale(0.16 -0.16)\">\n       <defs>\n        <path id=\"STIXGeneral-Regular-37\" d=\"M 2874 4134 \nL 1517 -51 \nL 1101 -51 \nL 2368 3763 \nL 992 3763 \nQ 717 3763 582 3667 \nQ 448 3571 243 3238 \nL 128 3296 \nL 512 4237 \nL 2874 4237 \nL 2874 4134 \nz\n\" transform=\"scale(0.015625)\"/>\n       </defs>\n       <use xlink:href=\"#STIXGeneral-Regular-37\" transform=\"translate(0 0.203125)\"/>\n       <use xlink:href=\"#STIXGeneral-Regular-35\" transform=\"translate(49.999985 0.203125)\"/>\n      </g>\n     </g>\n    </g>\n    <g id=\"xtick_5\">\n     <g id=\"line2d_5\">\n      <g>\n       <use xlink:href=\"#mff815f9d49\" x=\"266.2725\" y=\"248.031406\" style=\"fill: #323034; stroke: #323034; stroke-width: 0.8\"/>\n      </g>\n     </g>\n     <g id=\"text_5\">\n      <!-- $\\mathdefault{100}$ -->\n      <g style=\"fill: #323034\" transform=\"translate(254.2725 265.958906)scale(0.16 -0.16)\">\n       <defs>\n        <path id=\"STIXGeneral-Regular-31\" d=\"M 2522 0 \nL 755 0 \nL 755 96 \nQ 1107 115 1235 227 \nQ 1363 339 1363 608 \nL 1363 3482 \nQ 1363 3795 1171 3795 \nQ 1082 3795 883 3718 \nL 710 3654 \nL 710 3744 \nL 1856 4326 \nL 1914 4307 \nL 1914 486 \nQ 1914 275 2042 185 \nQ 2170 96 2522 96 \nL 2522 0 \nz\n\" transform=\"scale(0.015625)\"/>\n       </defs>\n       <use xlink:href=\"#STIXGeneral-Regular-31\" transform=\"translate(0 0.40625)\"/>\n       <use xlink:href=\"#STIXGeneral-Regular-30\" transform=\"translate(49.999985 0.40625)\"/>\n       <use xlink:href=\"#STIXGeneral-Regular-30\" transform=\"translate(99.999969 0.40625)\"/>\n      </g>\n     </g>\n    </g>\n    <g id=\"xtick_6\">\n     <g id=\"line2d_6\">\n      <g>\n       <use xlink:href=\"#mff815f9d49\" x=\"322.0725\" y=\"248.031406\" style=\"fill: #323034; stroke: #323034; stroke-width: 0.8\"/>\n      </g>\n     </g>\n     <g id=\"text_6\">\n      <!-- $\\mathdefault{125}$ -->\n      <g style=\"fill: #323034\" transform=\"translate(310.0725 265.958906)scale(0.16 -0.16)\">\n       <use xlink:href=\"#STIXGeneral-Regular-31\" transform=\"translate(0 0.203125)\"/>\n       <use xlink:href=\"#STIXGeneral-Regular-32\" transform=\"translate(49.999985 0.203125)\"/>\n       <use xlink:href=\"#STIXGeneral-Regular-35\" transform=\"translate(99.999969 0.203125)\"/>\n      </g>\n     </g>\n    </g>\n    <g id=\"xtick_7\">\n     <g id=\"line2d_7\">\n      <g>\n       <use xlink:href=\"#mff815f9d49\" x=\"377.8725\" y=\"248.031406\" style=\"fill: #323034; stroke: #323034; stroke-width: 0.8\"/>\n      </g>\n     </g>\n     <g id=\"text_7\">\n      <!-- $\\mathdefault{150}$ -->\n      <g style=\"fill: #323034\" transform=\"translate(365.8725 265.958906)scale(0.16 -0.16)\">\n       <use xlink:href=\"#STIXGeneral-Regular-31\" transform=\"translate(0 0.203125)\"/>\n       <use xlink:href=\"#STIXGeneral-Regular-35\" transform=\"translate(49.999985 0.203125)\"/>\n       <use xlink:href=\"#STIXGeneral-Regular-30\" transform=\"translate(99.999969 0.203125)\"/>\n      </g>\n     </g>\n    </g>\n    <g id=\"xtick_8\">\n     <g id=\"line2d_8\">\n      <g>\n       <use xlink:href=\"#mff815f9d49\" x=\"433.6725\" y=\"248.031406\" style=\"fill: #323034; stroke: #323034; stroke-width: 0.8\"/>\n      </g>\n     </g>\n     <g id=\"text_8\">\n      <!-- $\\mathdefault{175}$ -->\n      <g style=\"fill: #323034\" transform=\"translate(421.6725 265.958906)scale(0.16 -0.16)\">\n       <use xlink:href=\"#STIXGeneral-Regular-31\" transform=\"translate(0 0.203125)\"/>\n       <use xlink:href=\"#STIXGeneral-Regular-37\" transform=\"translate(49.999985 0.203125)\"/>\n       <use xlink:href=\"#STIXGeneral-Regular-35\" transform=\"translate(99.999969 0.203125)\"/>\n      </g>\n     </g>\n    </g>\n    <g id=\"xtick_9\">\n     <g id=\"line2d_9\">\n      <g>\n       <use xlink:href=\"#mff815f9d49\" x=\"489.4725\" y=\"248.031406\" style=\"fill: #323034; stroke: #323034; stroke-width: 0.8\"/>\n      </g>\n     </g>\n     <g id=\"text_9\">\n      <!-- $\\mathdefault{200}$ -->\n      <g style=\"fill: #323034\" transform=\"translate(477.4725 265.958906)scale(0.16 -0.16)\">\n       <use xlink:href=\"#STIXGeneral-Regular-32\" transform=\"translate(0 0.40625)\"/>\n       <use xlink:href=\"#STIXGeneral-Regular-30\" transform=\"translate(49.999985 0.40625)\"/>\n       <use xlink:href=\"#STIXGeneral-Regular-30\" transform=\"translate(99.999969 0.40625)\"/>\n      </g>\n     </g>\n    </g>\n    <g id=\"text_10\">\n     <!-- tf-idf weighted terms across all \"documents\" -->\n     <g transform=\"translate(123.5425 283.358906)scale(0.16 -0.16)\">\n      <defs>\n       <path id=\"STIXGeneral-Regular-74\" d=\"M 1702 493 \nL 1786 422 \nQ 1478 -64 1011 -64 \nQ 448 -64 448 749 \nL 448 2675 \nL 109 2675 \nQ 83 2694 83 2720 \nQ 83 2771 192 2842 \nQ 435 2982 813 3526 \nQ 826 3546 874 3606 \nQ 922 3667 941 3706 \nQ 986 3706 986 3622 \nL 986 2880 \nL 1632 2880 \nL 1632 2675 \nL 986 2675 \nL 986 845 \nQ 986 538 1062 403 \nQ 1139 269 1318 269 \nQ 1510 269 1702 493 \nz\n\" transform=\"scale(0.015625)\"/>\n       <path id=\"STIXGeneral-Regular-66\" d=\"M 134 2880 \nL 659 2880 \nQ 666 3264 710 3478 \nQ 755 3693 883 3910 \nQ 1152 4371 1786 4371 \nQ 2074 4371 2262 4259 \nQ 2451 4147 2451 3974 \nQ 2451 3866 2374 3789 \nQ 2298 3712 2182 3712 \nQ 2029 3712 1894 3942 \nQ 1741 4192 1555 4192 \nQ 1197 4192 1197 3622 \nL 1197 2880 \nL 1978 2880 \nL 1978 2675 \nL 1197 2675 \nL 1197 666 \nQ 1197 307 1299 208 \nQ 1402 109 1792 96 \nL 1792 0 \nL 128 0 \nL 128 96 \nQ 474 115 566 214 \nQ 659 314 659 666 \nL 659 2675 \nL 134 2675 \nL 134 2880 \nz\n\" transform=\"scale(0.015625)\"/>\n       <path id=\"STIXGeneral-Regular-2d\" d=\"M 1824 1242 \nL 250 1242 \nL 250 1645 \nL 1824 1645 \nL 1824 1242 \nz\n\" transform=\"scale(0.015625)\"/>\n       <path id=\"STIXGeneral-Regular-69\" d=\"M 1152 4045 \nQ 1152 3904 1056 3811 \nQ 960 3718 819 3718 \nQ 685 3718 592 3811 \nQ 499 3904 499 4045 \nQ 499 4179 595 4275 \nQ 691 4371 826 4371 \nQ 966 4371 1059 4275 \nQ 1152 4179 1152 4045 \nz\nM 1619 0 \nL 102 0 \nL 102 96 \nQ 435 115 521 211 \nQ 608 307 608 666 \nL 608 2118 \nQ 608 2342 563 2432 \nQ 518 2522 397 2522 \nQ 243 2522 128 2490 \nL 128 2592 \nL 1120 2944 \nL 1146 2918 \nL 1146 672 \nQ 1146 314 1226 218 \nQ 1306 122 1619 96 \nL 1619 0 \nz\n\" transform=\"scale(0.015625)\"/>\n       <path id=\"STIXGeneral-Regular-64\" d=\"M 3142 269 \nL 2202 -64 \nL 2176 -45 \nL 2176 365 \nQ 1869 -64 1357 -64 \nQ 826 -64 499 317 \nQ 173 698 173 1312 \nQ 173 1990 563 2467 \nQ 954 2944 1504 2944 \nQ 1850 2944 2176 2669 \nL 2176 3667 \nQ 2176 3866 2118 3930 \nQ 2061 3994 1882 3994 \nQ 1792 3994 1741 3987 \nL 1741 4090 \nQ 2323 4243 2682 4371 \nL 2714 4358 \nL 2714 730 \nQ 2714 506 2768 435 \nQ 2822 365 2995 365 \nQ 3034 365 3142 371 \nL 3142 269 \nz\nM 2176 653 \nL 2176 2125 \nQ 2176 2381 1981 2573 \nQ 1786 2765 1523 2765 \nQ 1158 2765 940 2438 \nQ 723 2112 723 1568 \nQ 723 979 963 624 \nQ 1203 269 1606 269 \nQ 1907 269 2080 474 \nQ 2176 582 2176 653 \nz\n\" transform=\"scale(0.015625)\"/>\n       <path id=\"STIXGeneral-Regular-20\" transform=\"scale(0.015625)\"/>\n       <path id=\"STIXGeneral-Regular-77\" d=\"M 4442 2880 \nL 4442 2784 \nQ 4346 2752 4301 2691 \nQ 4256 2630 4179 2438 \nL 3296 224 \nQ 3168 -90 3117 -90 \nQ 3085 -90 3062 -48 \nQ 3040 -6 2963 186 \nL 2381 1696 \nL 1664 160 \nQ 1549 -90 1504 -90 \nQ 1446 -90 1338 192 \nL 474 2381 \nQ 378 2630 314 2700 \nQ 250 2771 134 2784 \nL 134 2880 \nL 1286 2880 \nL 1286 2784 \nQ 1120 2765 1056 2720 \nQ 992 2675 992 2573 \nQ 992 2477 1030 2381 \nL 1664 710 \nL 2246 1984 \nL 2118 2342 \nQ 2029 2598 1942 2681 \nQ 1856 2765 1677 2784 \nL 1677 2880 \nL 2976 2880 \nL 2976 2784 \nQ 2752 2752 2678 2707 \nQ 2605 2662 2605 2560 \nQ 2605 2458 2714 2176 \nL 3251 742 \nL 3827 2163 \nQ 3936 2432 3936 2592 \nQ 3936 2669 3875 2710 \nQ 3814 2752 3654 2784 \nL 3654 2880 \nL 4442 2880 \nz\n\" transform=\"scale(0.015625)\"/>\n       <path id=\"STIXGeneral-Regular-65\" d=\"M 2611 1050 \nL 2714 1005 \nQ 2330 -64 1376 -64 \nQ 813 -64 486 329 \nQ 160 723 160 1389 \nQ 160 2074 525 2509 \nQ 890 2944 1485 2944 \nQ 2061 2944 2374 2502 \nQ 2560 2246 2592 1773 \nL 621 1773 \nQ 646 1370 700 1158 \nQ 755 947 915 730 \nQ 1184 378 1626 378 \nQ 1939 378 2153 531 \nQ 2368 685 2611 1050 \nz\nM 634 1978 \nL 1939 1978 \nQ 1882 2381 1750 2547 \nQ 1619 2714 1312 2714 \nQ 1043 2714 864 2525 \nQ 685 2336 634 1978 \nz\n\" transform=\"scale(0.015625)\"/>\n       <path id=\"STIXGeneral-Regular-67\" d=\"M 3008 2483 \nL 2477 2483 \nQ 2598 2208 2598 1946 \nQ 2598 1453 2265 1203 \nQ 1933 954 1600 954 \nQ 1530 954 1357 973 \nL 1235 986 \nQ 1107 947 979 812 \nQ 851 678 851 582 \nQ 851 435 1350 410 \nL 2176 371 \nQ 2528 358 2739 172 \nQ 2950 -13 2950 -314 \nQ 2950 -685 2566 -986 \nQ 2035 -1395 1286 -1395 \nQ 826 -1395 502 -1212 \nQ 179 -1030 179 -774 \nQ 179 -595 320 -419 \nQ 461 -243 806 6 \nQ 602 102 534 172 \nQ 467 243 467 346 \nQ 467 531 762 787 \nQ 909 915 1037 1043 \nQ 717 1203 579 1401 \nQ 442 1600 442 1901 \nQ 442 2336 752 2640 \nQ 1062 2944 1510 2944 \nQ 1766 2944 2022 2848 \nL 2163 2797 \nQ 2349 2733 2515 2733 \nL 3008 2733 \nL 3008 2483 \nz\nM 973 2163 \nL 973 2144 \nQ 973 1683 1155 1398 \nQ 1338 1114 1632 1114 \nQ 1850 1114 1978 1270 \nQ 2106 1427 2106 1690 \nQ 2106 2112 1914 2464 \nQ 1754 2765 1446 2765 \nQ 1222 2765 1097 2605 \nQ 973 2445 973 2163 \nz\nM 2771 -410 \nQ 2771 -230 2595 -163 \nQ 2419 -96 1978 -96 \nQ 1344 -96 941 -13 \nQ 749 -243 688 -348 \nQ 627 -454 627 -563 \nQ 627 -774 880 -902 \nQ 1133 -1030 1555 -1030 \nQ 2099 -1030 2435 -860 \nQ 2771 -691 2771 -410 \nz\n\" transform=\"scale(0.015625)\"/>\n       <path id=\"STIXGeneral-Regular-68\" d=\"M 3117 0 \nL 1760 0 \nL 1760 96 \nQ 2042 128 2118 224 \nQ 2195 320 2195 653 \nL 2195 1920 \nQ 2195 2598 1722 2598 \nQ 1530 2598 1370 2508 \nQ 1210 2419 1005 2195 \nL 1005 653 \nQ 1005 320 1081 224 \nQ 1158 128 1440 96 \nL 1440 0 \nL 58 0 \nL 58 96 \nQ 333 134 400 224 \nQ 467 314 467 653 \nL 467 3667 \nQ 467 3872 406 3933 \nQ 346 3994 141 3994 \nQ 83 3994 64 3987 \nL 64 4090 \nL 237 4141 \nQ 730 4288 973 4371 \nL 1005 4352 \nL 1005 2406 \nQ 1229 2694 1446 2819 \nQ 1664 2944 1946 2944 \nQ 2733 2944 2733 1926 \nL 2733 653 \nQ 2733 320 2793 233 \nQ 2854 147 3117 96 \nL 3117 0 \nz\n\" transform=\"scale(0.015625)\"/>\n       <path id=\"STIXGeneral-Regular-72\" d=\"M 1024 2931 \nL 1024 2342 \nQ 1267 2688 1430 2816 \nQ 1594 2944 1792 2944 \nQ 1958 2944 2051 2854 \nQ 2144 2765 2144 2605 \nQ 2144 2470 2077 2393 \nQ 2010 2317 1894 2317 \nQ 1773 2317 1638 2445 \nQ 1536 2541 1472 2541 \nQ 1338 2541 1181 2355 \nQ 1024 2170 1024 2016 \nL 1024 576 \nQ 1024 301 1133 205 \nQ 1242 109 1568 96 \nL 1568 0 \nL 32 0 \nL 32 96 \nQ 339 154 412 224 \nQ 486 294 486 538 \nL 486 2138 \nQ 486 2349 438 2435 \nQ 390 2522 269 2522 \nQ 166 2522 45 2496 \nL 45 2598 \nQ 448 2726 992 2944 \nL 1024 2931 \nz\n\" transform=\"scale(0.015625)\"/>\n       <path id=\"STIXGeneral-Regular-6d\" d=\"M 4960 0 \nL 3565 0 \nL 3565 96 \nQ 3834 122 3907 208 \nQ 3981 294 3981 576 \nL 3981 1894 \nQ 3981 2278 3869 2444 \nQ 3757 2611 3488 2611 \nQ 3264 2611 3107 2521 \nQ 2950 2432 2803 2221 \nL 2803 608 \nQ 2803 301 2896 201 \nQ 2989 102 3264 96 \nL 3264 0 \nL 1830 0 \nL 1830 96 \nQ 2112 115 2189 188 \nQ 2266 262 2266 550 \nL 2266 1901 \nQ 2266 2611 1850 2611 \nQ 1670 2611 1468 2531 \nQ 1267 2451 1171 2336 \nQ 1088 2240 1088 2227 \nL 1088 448 \nQ 1088 243 1177 176 \nQ 1267 109 1523 96 \nL 1523 0 \nL 102 0 \nL 102 96 \nQ 371 102 460 195 \nQ 550 288 550 563 \nL 550 2150 \nQ 550 2387 499 2480 \nQ 448 2573 326 2573 \nQ 230 2573 122 2547 \nL 122 2656 \nQ 557 2778 1011 2944 \nL 1062 2925 \nL 1062 2451 \nL 1075 2451 \nQ 1363 2752 1584 2848 \nQ 1805 2944 2054 2944 \nQ 2560 2944 2733 2406 \nQ 3232 2944 3776 2944 \nQ 4518 2944 4518 1792 \nL 4518 493 \nQ 4518 282 4582 202 \nQ 4646 122 4794 109 \nL 4960 96 \nL 4960 0 \nz\n\" transform=\"scale(0.015625)\"/>\n       <path id=\"STIXGeneral-Regular-73\" d=\"M 998 1926 \nL 1664 1523 \nQ 1984 1331 2105 1164 \nQ 2227 998 2227 736 \nQ 2227 416 1961 176 \nQ 1696 -64 1331 -64 \nQ 1030 -64 864 -6 \nQ 691 51 570 51 \nQ 461 51 416 -26 \nL 333 -26 \nL 333 979 \nL 435 979 \nQ 538 512 730 294 \nQ 922 77 1248 77 \nQ 1485 77 1632 211 \nQ 1779 346 1779 550 \nQ 1779 845 1440 1030 \nL 1094 1222 \nQ 326 1651 326 2150 \nQ 326 2522 566 2730 \nQ 806 2938 1210 2938 \nQ 1491 2938 1638 2867 \nQ 1754 2816 1818 2816 \nQ 1862 2816 1920 2880 \nL 1990 2880 \nL 2022 2010 \nL 1926 2010 \nQ 1818 2445 1654 2621 \nQ 1491 2797 1203 2797 \nQ 986 2797 854 2688 \nQ 723 2579 723 2362 \nQ 723 2253 796 2128 \nQ 870 2003 998 1926 \nz\n\" transform=\"scale(0.015625)\"/>\n       <path id=\"STIXGeneral-Regular-61\" d=\"M 2829 422 \nL 2829 243 \nQ 2586 -64 2253 -64 \nQ 1888 -64 1843 403 \nL 1837 403 \nQ 1427 -64 909 -64 \nQ 608 -64 422 112 \nQ 237 288 237 602 \nQ 237 1050 685 1350 \nQ 992 1555 1837 1869 \nL 1837 2214 \nQ 1837 2502 1699 2646 \nQ 1562 2790 1338 2790 \nQ 1146 2790 1018 2697 \nQ 890 2605 890 2477 \nQ 890 2419 909 2348 \nQ 928 2278 928 2208 \nQ 928 2112 841 2029 \nQ 755 1946 634 1946 \nQ 525 1946 441 2029 \nQ 358 2112 358 2240 \nQ 358 2547 685 2752 \nQ 986 2944 1421 2944 \nQ 1939 2944 2176 2656 \nQ 2291 2522 2323 2384 \nQ 2355 2246 2355 1946 \nL 2355 723 \nQ 2355 301 2554 301 \nQ 2682 301 2829 422 \nz\nM 1837 813 \nL 1837 1715 \nQ 1248 1510 1018 1293 \nQ 800 1094 800 800 \nQ 800 557 921 432 \nQ 1043 307 1242 307 \nQ 1453 307 1613 410 \nQ 1747 506 1792 589 \nQ 1837 672 1837 813 \nz\n\" transform=\"scale(0.015625)\"/>\n       <path id=\"STIXGeneral-Regular-63\" d=\"M 2547 998 \nL 2637 941 \nQ 2362 403 2112 205 \nQ 1786 -64 1376 -64 \nQ 845 -64 502 336 \nQ 160 736 160 1357 \nQ 160 2170 698 2618 \nQ 1094 2944 1562 2944 \nQ 1965 2944 2256 2749 \nQ 2547 2554 2547 2285 \nQ 2547 2176 2457 2096 \nQ 2368 2016 2246 2016 \nQ 2022 2016 1939 2310 \nL 1901 2451 \nQ 1850 2630 1773 2694 \nQ 1696 2758 1523 2758 \nQ 1133 2758 893 2451 \nQ 653 2144 653 1645 \nQ 653 1094 928 745 \nQ 1203 397 1645 397 \nQ 1920 397 2118 528 \nQ 2317 659 2547 998 \nz\n\" transform=\"scale(0.015625)\"/>\n       <path id=\"STIXGeneral-Regular-6f\" d=\"M 3008 1478 \nQ 3008 806 2608 371 \nQ 2208 -64 1568 -64 \nQ 979 -64 582 368 \nQ 186 800 186 1459 \nQ 186 2125 582 2534 \nQ 979 2944 1626 2944 \nQ 2221 2944 2614 2537 \nQ 3008 2131 3008 1478 \nz\nM 2432 1306 \nQ 2432 2035 2112 2445 \nQ 1856 2765 1504 2765 \nQ 1171 2765 966 2493 \nQ 762 2221 762 1747 \nQ 762 928 1101 435 \nQ 1318 115 1677 115 \nQ 2029 115 2230 432 \nQ 2432 749 2432 1306 \nz\n\" transform=\"scale(0.015625)\"/>\n       <path id=\"STIXGeneral-Regular-6c\" d=\"M 1645 0 \nL 134 0 \nL 134 96 \nQ 435 122 531 221 \nQ 627 320 627 589 \nL 627 3590 \nQ 627 3821 569 3910 \nQ 512 4000 358 4000 \nQ 224 4000 122 3987 \nL 122 4090 \nQ 730 4237 1133 4371 \nL 1165 4346 \nL 1165 557 \nQ 1165 288 1254 201 \nQ 1344 115 1645 96 \nL 1645 0 \nz\n\" transform=\"scale(0.015625)\"/>\n       <path id=\"STIXGeneral-Regular-22\" d=\"M 1914 2758 \nL 1779 2758 \nQ 1574 3872 1574 4051 \nQ 1574 4173 1651 4249 \nQ 1728 4326 1850 4326 \nQ 1965 4326 2041 4249 \nQ 2118 4173 2118 4064 \nQ 2118 3981 2089 3801 \nQ 2061 3622 2006 3308 \nQ 1952 2995 1914 2758 \nz\nM 832 2758 \nL 698 2758 \nQ 493 3872 493 4051 \nQ 493 4173 569 4249 \nQ 646 4326 768 4326 \nQ 883 4326 960 4252 \nQ 1037 4179 1037 4064 \nQ 1037 3744 832 2758 \nz\n\" transform=\"scale(0.015625)\"/>\n       <path id=\"STIXGeneral-Regular-75\" d=\"M 3072 320 \nL 3072 230 \nQ 2573 96 2195 -58 \nL 2163 -38 \nL 2163 486 \nL 2150 486 \nQ 1747 -64 1235 -64 \nQ 870 -64 662 160 \nQ 454 384 454 755 \nL 454 2362 \nQ 454 2598 371 2688 \nQ 288 2778 58 2790 \nL 58 2880 \nL 992 2880 \nL 992 813 \nQ 992 595 1123 451 \nQ 1254 307 1446 307 \nQ 1760 307 1984 506 \nQ 2067 582 2099 649 \nQ 2131 717 2131 877 \nL 2131 2355 \nQ 2131 2605 2041 2678 \nQ 1952 2752 1658 2771 \nL 1658 2880 \nL 2669 2880 \nL 2669 685 \nQ 2669 461 2742 390 \nQ 2816 320 3034 320 \nL 3072 320 \nz\n\" transform=\"scale(0.015625)\"/>\n       <path id=\"STIXGeneral-Regular-6e\" d=\"M 3104 0 \nL 1773 0 \nL 1779 96 \nQ 2016 115 2096 233 \nQ 2176 352 2176 672 \nL 2176 1946 \nQ 2176 2592 1709 2592 \nQ 1549 2592 1408 2515 \nQ 1267 2438 1050 2227 \nL 1050 461 \nQ 1050 269 1136 192 \nQ 1222 115 1466 96 \nL 1466 0 \nL 115 0 \nL 115 96 \nQ 358 115 435 214 \nQ 512 314 512 602 \nL 512 2157 \nQ 512 2394 467 2483 \nQ 422 2573 288 2573 \nQ 160 2573 102 2547 \nL 102 2656 \nQ 550 2784 979 2944 \nL 1030 2925 \nL 1030 2426 \nL 1037 2426 \nQ 1491 2944 1958 2944 \nQ 2323 2944 2518 2688 \nQ 2714 2432 2714 1958 \nL 2714 544 \nQ 2714 288 2790 205 \nQ 2867 122 3104 96 \nL 3104 0 \nz\n\" transform=\"scale(0.015625)\"/>\n      </defs>\n      <use xlink:href=\"#STIXGeneral-Regular-74\"/>\n      <use xlink:href=\"#STIXGeneral-Regular-66\" x=\"27.799988\"/>\n      <use xlink:href=\"#STIXGeneral-Regular-2d\" x=\"61.099976\"/>\n      <use xlink:href=\"#STIXGeneral-Regular-69\" x=\"94.399963\"/>\n      <use xlink:href=\"#STIXGeneral-Regular-64\" x=\"122.199951\"/>\n      <use xlink:href=\"#STIXGeneral-Regular-66\" x=\"172.199936\"/>\n      <use xlink:href=\"#STIXGeneral-Regular-20\" x=\"205.499924\"/>\n      <use xlink:href=\"#STIXGeneral-Regular-77\" x=\"230.499908\"/>\n      <use xlink:href=\"#STIXGeneral-Regular-65\" x=\"302.69989\"/>\n      <use xlink:href=\"#STIXGeneral-Regular-69\" x=\"347.099884\"/>\n      <use xlink:href=\"#STIXGeneral-Regular-67\" x=\"374.899872\"/>\n      <use xlink:href=\"#STIXGeneral-Regular-68\" x=\"424.899857\"/>\n      <use xlink:href=\"#STIXGeneral-Regular-74\" x=\"474.899841\"/>\n      <use xlink:href=\"#STIXGeneral-Regular-65\" x=\"502.699829\"/>\n      <use xlink:href=\"#STIXGeneral-Regular-64\" x=\"547.099823\"/>\n      <use xlink:href=\"#STIXGeneral-Regular-20\" x=\"597.099808\"/>\n      <use xlink:href=\"#STIXGeneral-Regular-74\" x=\"622.099792\"/>\n      <use xlink:href=\"#STIXGeneral-Regular-65\" x=\"649.89978\"/>\n      <use xlink:href=\"#STIXGeneral-Regular-72\" x=\"694.299774\"/>\n      <use xlink:href=\"#STIXGeneral-Regular-6d\" x=\"727.599762\"/>\n      <use xlink:href=\"#STIXGeneral-Regular-73\" x=\"805.39975\"/>\n      <use xlink:href=\"#STIXGeneral-Regular-20\" x=\"844.299744\"/>\n      <use xlink:href=\"#STIXGeneral-Regular-61\" x=\"869.299728\"/>\n      <use xlink:href=\"#STIXGeneral-Regular-63\" x=\"913.699722\"/>\n      <use xlink:href=\"#STIXGeneral-Regular-72\" x=\"958.099716\"/>\n      <use xlink:href=\"#STIXGeneral-Regular-6f\" x=\"991.399704\"/>\n      <use xlink:href=\"#STIXGeneral-Regular-73\" x=\"1041.399689\"/>\n      <use xlink:href=\"#STIXGeneral-Regular-73\" x=\"1080.299683\"/>\n      <use xlink:href=\"#STIXGeneral-Regular-20\" x=\"1119.199677\"/>\n      <use xlink:href=\"#STIXGeneral-Regular-61\" x=\"1144.199661\"/>\n      <use xlink:href=\"#STIXGeneral-Regular-6c\" x=\"1188.599655\"/>\n      <use xlink:href=\"#STIXGeneral-Regular-6c\" x=\"1216.399643\"/>\n      <use xlink:href=\"#STIXGeneral-Regular-20\" x=\"1244.199631\"/>\n      <use xlink:href=\"#STIXGeneral-Regular-22\" x=\"1269.199615\"/>\n      <use xlink:href=\"#STIXGeneral-Regular-64\" x=\"1309.999603\"/>\n      <use xlink:href=\"#STIXGeneral-Regular-6f\" x=\"1359.999588\"/>\n      <use xlink:href=\"#STIXGeneral-Regular-63\" x=\"1409.999573\"/>\n      <use xlink:href=\"#STIXGeneral-Regular-75\" x=\"1454.399567\"/>\n      <use xlink:href=\"#STIXGeneral-Regular-6d\" x=\"1504.399551\"/>\n      <use xlink:href=\"#STIXGeneral-Regular-65\" x=\"1582.199539\"/>\n      <use xlink:href=\"#STIXGeneral-Regular-6e\" x=\"1626.599533\"/>\n      <use xlink:href=\"#STIXGeneral-Regular-74\" x=\"1676.599518\"/>\n      <use xlink:href=\"#STIXGeneral-Regular-73\" x=\"1704.399506\"/>\n      <use xlink:href=\"#STIXGeneral-Regular-22\" x=\"1743.2995\"/>\n     </g>\n    </g>\n   </g>\n   <g id=\"matplotlib.axis_2\">\n    <g id=\"ytick_1\">\n     <g id=\"line2d_10\">\n      <defs>\n       <path id=\"m64bade679b\" d=\"M 0 0 \nL -3.5 0 \n\" style=\"stroke: #323034; stroke-width: 0.8\"/>\n      </defs>\n      <g>\n       <use xlink:href=\"#m64bade679b\" x=\"43.0725\" y=\"237.471406\" style=\"fill: #323034; stroke: #323034; stroke-width: 0.8\"/>\n      </g>\n     </g>\n     <g id=\"text_11\">\n      <!-- price -->\n      <g style=\"fill: #323034\" transform=\"translate(20.08 240.203281)scale(0.08 -0.08)\">\n       <defs>\n        <path id=\"STIXGeneral-Regular-70\" d=\"M 1018 2931 \nL 1018 2438 \nQ 1421 2944 1939 2944 \nQ 2406 2944 2707 2560 \nQ 3008 2176 3008 1581 \nQ 3008 883 2621 409 \nQ 2234 -64 1664 -64 \nQ 1466 -64 1328 -6 \nQ 1190 51 1018 211 \nL 1018 -794 \nQ 1018 -1094 1120 -1180 \nQ 1222 -1267 1581 -1274 \nL 1581 -1389 \nL 32 -1389 \nL 32 -1280 \nQ 314 -1254 397 -1171 \nQ 480 -1088 480 -838 \nL 480 2157 \nQ 480 2381 429 2451 \nQ 378 2522 218 2522 \nQ 115 2522 58 2515 \nL 58 2618 \nQ 506 2752 979 2944 \nL 1018 2931 \nz\nM 1018 2138 \nL 1018 563 \nQ 1018 422 1238 281 \nQ 1459 141 1683 141 \nQ 2029 141 2243 467 \nQ 2458 794 2458 1325 \nQ 2458 1888 2243 2224 \nQ 2029 2560 1670 2560 \nQ 1446 2560 1232 2419 \nQ 1018 2278 1018 2138 \nz\n\" transform=\"scale(0.015625)\"/>\n       </defs>\n       <use xlink:href=\"#STIXGeneral-Regular-70\"/>\n       <use xlink:href=\"#STIXGeneral-Regular-72\" x=\"49.999985\"/>\n       <use xlink:href=\"#STIXGeneral-Regular-69\" x=\"83.299973\"/>\n       <use xlink:href=\"#STIXGeneral-Regular-63\" x=\"111.09996\"/>\n       <use xlink:href=\"#STIXGeneral-Regular-65\" x=\"155.499954\"/>\n      </g>\n     </g>\n    </g>\n    <g id=\"ytick_2\">\n     <g id=\"line2d_11\">\n      <g>\n       <use xlink:href=\"#m64bade679b\" x=\"43.0725\" y=\"226.911406\" style=\"fill: #323034; stroke: #323034; stroke-width: 0.8\"/>\n      </g>\n     </g>\n     <g id=\"text_12\">\n      <!-- labour -->\n      <g style=\"fill: #323034\" transform=\"translate(15.6325 229.643281)scale(0.08 -0.08)\">\n       <defs>\n        <path id=\"STIXGeneral-Regular-62\" d=\"M 979 4358 \nL 979 2406 \nQ 1082 2650 1315 2797 \nQ 1549 2944 1843 2944 \nQ 2349 2944 2672 2541 \nQ 2995 2138 2995 1536 \nQ 2995 832 2566 384 \nQ 2138 -64 1498 -64 \nQ 1107 -64 774 67 \nQ 442 198 442 358 \nL 442 3622 \nQ 442 3859 384 3926 \nQ 326 3994 128 3994 \nQ 83 3994 19 3981 \nL 19 4090 \nL 211 4147 \nQ 864 4346 947 4371 \nL 979 4358 \nz\nM 979 2035 \nL 979 474 \nQ 979 326 1161 233 \nQ 1344 141 1600 141 \nQ 1978 141 2195 416 \nQ 2432 710 2432 1261 \nQ 2432 1888 2182 2240 \nQ 1971 2541 1613 2541 \nQ 1357 2541 1168 2390 \nQ 979 2240 979 2035 \nz\n\" transform=\"scale(0.015625)\"/>\n       </defs>\n       <use xlink:href=\"#STIXGeneral-Regular-6c\"/>\n       <use xlink:href=\"#STIXGeneral-Regular-61\" x=\"27.799988\"/>\n       <use xlink:href=\"#STIXGeneral-Regular-62\" x=\"72.199982\"/>\n       <use xlink:href=\"#STIXGeneral-Regular-6f\" x=\"122.199966\"/>\n       <use xlink:href=\"#STIXGeneral-Regular-75\" x=\"172.199951\"/>\n       <use xlink:href=\"#STIXGeneral-Regular-72\" x=\"222.199936\"/>\n      </g>\n     </g>\n    </g>\n    <g id=\"ytick_3\">\n     <g id=\"line2d_12\">\n      <g>\n       <use xlink:href=\"#m64bade679b\" x=\"43.0725\" y=\"216.351406\" style=\"fill: #323034; stroke: #323034; stroke-width: 0.8\"/>\n      </g>\n     </g>\n     <g id=\"text_13\">\n      <!-- quantity -->\n      <g style=\"fill: #323034\" transform=\"translate(9.84875 219.083281)scale(0.08 -0.08)\">\n       <defs>\n        <path id=\"STIXGeneral-Regular-71\" d=\"M 3123 -1389 \nL 1613 -1389 \nL 1613 -1280 \nQ 1952 -1254 2067 -1158 \nQ 2182 -1062 2182 -794 \nL 2182 410 \nQ 1747 -64 1178 -64 \nQ 730 -64 442 320 \nQ 154 704 154 1312 \nQ 154 2003 560 2473 \nQ 966 2944 1562 2944 \nQ 1920 2944 2304 2720 \nL 2650 2925 \nL 2720 2925 \nL 2720 -902 \nQ 2720 -1107 2797 -1180 \nQ 2874 -1254 3123 -1280 \nL 3123 -1389 \nz\nM 2182 813 \nL 2182 2131 \nQ 2182 2758 1587 2758 \nQ 1178 2758 941 2432 \nQ 704 2106 704 1542 \nQ 704 1210 803 925 \nQ 902 640 1062 499 \nQ 1254 326 1542 326 \nQ 1882 326 2106 531 \nQ 2182 602 2182 813 \nz\n\" transform=\"scale(0.015625)\"/>\n        <path id=\"STIXGeneral-Regular-79\" d=\"M 3040 2880 \nL 3040 2784 \nQ 2925 2771 2854 2700 \nQ 2784 2630 2720 2458 \nL 1760 -160 \nQ 1510 -838 1257 -1116 \nQ 1005 -1395 640 -1395 \nQ 435 -1395 313 -1289 \nQ 192 -1184 192 -1024 \nQ 192 -902 272 -816 \nQ 352 -730 467 -730 \nQ 653 -730 800 -813 \nQ 883 -858 966 -858 \nQ 1101 -858 1286 -576 \nQ 1376 -448 1459 -211 \nQ 1542 26 1542 115 \nQ 1542 198 1274 762 \nL 429 2566 \nQ 346 2752 90 2790 \nL 90 2880 \nL 1402 2880 \nL 1402 2784 \nQ 1197 2778 1117 2739 \nQ 1037 2701 1037 2611 \nQ 1037 2541 1120 2349 \nL 1837 749 \nL 2458 2515 \nQ 2483 2573 2483 2630 \nQ 2483 2784 2189 2784 \nL 2189 2880 \nL 3040 2880 \nz\n\" transform=\"scale(0.015625)\"/>\n       </defs>\n       <use xlink:href=\"#STIXGeneral-Regular-71\"/>\n       <use xlink:href=\"#STIXGeneral-Regular-75\" x=\"49.999985\"/>\n       <use xlink:href=\"#STIXGeneral-Regular-61\" x=\"99.999969\"/>\n       <use xlink:href=\"#STIXGeneral-Regular-6e\" x=\"144.399963\"/>\n       <use xlink:href=\"#STIXGeneral-Regular-74\" x=\"194.399948\"/>\n       <use xlink:href=\"#STIXGeneral-Regular-69\" x=\"222.199936\"/>\n       <use xlink:href=\"#STIXGeneral-Regular-74\" x=\"249.999924\"/>\n       <use xlink:href=\"#STIXGeneral-Regular-79\" x=\"277.799911\"/>\n      </g>\n     </g>\n    </g>\n    <g id=\"ytick_4\">\n     <g id=\"line2d_13\">\n      <g>\n       <use xlink:href=\"#m64bade679b\" x=\"43.0725\" y=\"205.791406\" style=\"fill: #323034; stroke: #323034; stroke-width: 0.8\"/>\n      </g>\n     </g>\n     <g id=\"text_14\">\n      <!-- greater -->\n      <g style=\"fill: #323034\" transform=\"translate(13.86375 208.519531)scale(0.08 -0.08)\">\n       <use xlink:href=\"#STIXGeneral-Regular-67\"/>\n       <use xlink:href=\"#STIXGeneral-Regular-72\" x=\"49.999985\"/>\n       <use xlink:href=\"#STIXGeneral-Regular-65\" x=\"83.299973\"/>\n       <use xlink:href=\"#STIXGeneral-Regular-61\" x=\"127.699966\"/>\n       <use xlink:href=\"#STIXGeneral-Regular-74\" x=\"172.09996\"/>\n       <use xlink:href=\"#STIXGeneral-Regular-65\" x=\"199.899948\"/>\n       <use xlink:href=\"#STIXGeneral-Regular-72\" x=\"244.299942\"/>\n      </g>\n     </g>\n    </g>\n    <g id=\"ytick_5\">\n     <g id=\"line2d_14\">\n      <g>\n       <use xlink:href=\"#m64bade679b\" x=\"43.0725\" y=\"195.231406\" style=\"fill: #323034; stroke: #323034; stroke-width: 0.8\"/>\n      </g>\n     </g>\n     <g id=\"text_15\">\n      <!-- part -->\n      <g style=\"fill: #323034\" transform=\"translate(23.6325 197.963281)scale(0.08 -0.08)\">\n       <use xlink:href=\"#STIXGeneral-Regular-70\"/>\n       <use xlink:href=\"#STIXGeneral-Regular-61\" x=\"49.999985\"/>\n       <use xlink:href=\"#STIXGeneral-Regular-72\" x=\"94.399979\"/>\n       <use xlink:href=\"#STIXGeneral-Regular-74\" x=\"127.699966\"/>\n      </g>\n     </g>\n    </g>\n    <g id=\"ytick_6\">\n     <g id=\"line2d_15\">\n      <g>\n       <use xlink:href=\"#m64bade679b\" x=\"43.0725\" y=\"184.671406\" style=\"fill: #323034; stroke: #323034; stroke-width: 0.8\"/>\n      </g>\n     </g>\n     <g id=\"text_16\">\n      <!-- silver -->\n      <g style=\"fill: #323034\" transform=\"translate(18.29625 187.403281)scale(0.08 -0.08)\">\n       <defs>\n        <path id=\"STIXGeneral-Regular-76\" d=\"M 3053 2880 \nL 3053 2784 \nQ 2906 2771 2835 2688 \nQ 2765 2605 2637 2285 \nL 1818 230 \nQ 1690 -90 1638 -90 \nQ 1587 -90 1523 77 \nQ 1510 96 1497 141 \nQ 1485 186 1472 211 \nL 704 2048 \nQ 499 2534 403 2652 \nQ 307 2771 122 2784 \nL 122 2880 \nL 1376 2880 \nL 1376 2784 \nQ 1210 2771 1146 2732 \nQ 1082 2694 1082 2611 \nQ 1082 2509 1139 2368 \nL 1792 730 \nL 2426 2387 \nQ 2464 2483 2464 2579 \nQ 2464 2758 2163 2784 \nL 2163 2880 \nL 3053 2880 \nz\n\" transform=\"scale(0.015625)\"/>\n       </defs>\n       <use xlink:href=\"#STIXGeneral-Regular-73\"/>\n       <use xlink:href=\"#STIXGeneral-Regular-69\" x=\"38.899994\"/>\n       <use xlink:href=\"#STIXGeneral-Regular-6c\" x=\"66.699982\"/>\n       <use xlink:href=\"#STIXGeneral-Regular-76\" x=\"94.499969\"/>\n       <use xlink:href=\"#STIXGeneral-Regular-65\" x=\"144.499954\"/>\n       <use xlink:href=\"#STIXGeneral-Regular-72\" x=\"188.899948\"/>\n      </g>\n     </g>\n    </g>\n    <g id=\"ytick_7\">\n     <g id=\"line2d_16\">\n      <g>\n       <use xlink:href=\"#m64bade679b\" x=\"43.0725\" y=\"174.111406\" style=\"fill: #323034; stroke: #323034; stroke-width: 0.8\"/>\n      </g>\n     </g>\n     <g id=\"text_17\">\n      <!-- much -->\n      <g style=\"fill: #323034\" transform=\"translate(18.29625 176.843281)scale(0.08 -0.08)\">\n       <use xlink:href=\"#STIXGeneral-Regular-6d\"/>\n       <use xlink:href=\"#STIXGeneral-Regular-75\" x=\"77.799988\"/>\n       <use xlink:href=\"#STIXGeneral-Regular-63\" x=\"127.799973\"/>\n       <use xlink:href=\"#STIXGeneral-Regular-68\" x=\"172.199966\"/>\n      </g>\n     </g>\n    </g>\n    <g id=\"ytick_8\">\n     <g id=\"line2d_17\">\n      <g>\n       <use xlink:href=\"#m64bade679b\" x=\"43.0725\" y=\"163.551406\" style=\"fill: #323034; stroke: #323034; stroke-width: 0.8\"/>\n      </g>\n     </g>\n     <g id=\"text_18\">\n      <!-- must -->\n      <g style=\"fill: #323034\" transform=\"translate(20.5125 166.283281)scale(0.08 -0.08)\">\n       <use xlink:href=\"#STIXGeneral-Regular-6d\"/>\n       <use xlink:href=\"#STIXGeneral-Regular-75\" x=\"77.799988\"/>\n       <use xlink:href=\"#STIXGeneral-Regular-73\" x=\"127.799973\"/>\n       <use xlink:href=\"#STIXGeneral-Regular-74\" x=\"166.699966\"/>\n      </g>\n     </g>\n    </g>\n    <g id=\"ytick_9\">\n     <g id=\"line2d_18\">\n      <g>\n       <use xlink:href=\"#m64bade679b\" x=\"43.0725\" y=\"152.991406\" style=\"fill: #323034; stroke: #323034; stroke-width: 0.8\"/>\n      </g>\n     </g>\n     <g id=\"text_19\">\n      <!-- one -->\n      <g style=\"fill: #323034\" transform=\"translate(24.52 155.723281)scale(0.08 -0.08)\">\n       <use xlink:href=\"#STIXGeneral-Regular-6f\"/>\n       <use xlink:href=\"#STIXGeneral-Regular-6e\" x=\"49.999985\"/>\n       <use xlink:href=\"#STIXGeneral-Regular-65\" x=\"99.999969\"/>\n      </g>\n     </g>\n    </g>\n    <g id=\"ytick_10\">\n     <g id=\"line2d_19\">\n      <g>\n       <use xlink:href=\"#m64bade679b\" x=\"43.0725\" y=\"142.431406\" style=\"fill: #323034; stroke: #323034; stroke-width: 0.8\"/>\n      </g>\n     </g>\n     <g id=\"text_20\">\n      <!-- value -->\n      <g style=\"fill: #323034\" transform=\"translate(18.74375 145.163281)scale(0.08 -0.08)\">\n       <use xlink:href=\"#STIXGeneral-Regular-76\"/>\n       <use xlink:href=\"#STIXGeneral-Regular-61\" x=\"49.999985\"/>\n       <use xlink:href=\"#STIXGeneral-Regular-6c\" x=\"94.399979\"/>\n       <use xlink:href=\"#STIXGeneral-Regular-75\" x=\"122.199966\"/>\n       <use xlink:href=\"#STIXGeneral-Regular-65\" x=\"172.199951\"/>\n      </g>\n     </g>\n    </g>\n    <g id=\"ytick_11\">\n     <g id=\"line2d_20\">\n      <g>\n       <use xlink:href=\"#m64bade679b\" x=\"43.0725\" y=\"131.871406\" style=\"fill: #323034; stroke: #323034; stroke-width: 0.8\"/>\n      </g>\n     </g>\n     <g id=\"text_21\">\n      <!-- upon -->\n      <g style=\"fill: #323034\" transform=\"translate(20.0725 134.603281)scale(0.08 -0.08)\">\n       <use xlink:href=\"#STIXGeneral-Regular-75\"/>\n       <use xlink:href=\"#STIXGeneral-Regular-70\" x=\"49.999985\"/>\n       <use xlink:href=\"#STIXGeneral-Regular-6f\" x=\"99.999969\"/>\n       <use xlink:href=\"#STIXGeneral-Regular-6e\" x=\"149.999954\"/>\n      </g>\n     </g>\n    </g>\n    <g id=\"ytick_12\">\n     <g id=\"line2d_21\">\n      <g>\n       <use xlink:href=\"#m64bade679b\" x=\"43.0725\" y=\"121.311406\" style=\"fill: #323034; stroke: #323034; stroke-width: 0.8\"/>\n      </g>\n     </g>\n     <g id=\"text_22\">\n      <!-- different -->\n      <g style=\"fill: #323034\" transform=\"translate(8.52875 124.043281)scale(0.08 -0.08)\">\n       <use xlink:href=\"#STIXGeneral-Regular-64\"/>\n       <use xlink:href=\"#STIXGeneral-Regular-69\" x=\"49.999985\"/>\n       <use xlink:href=\"#STIXGeneral-Regular-66\" x=\"77.799973\"/>\n       <use xlink:href=\"#STIXGeneral-Regular-66\" x=\"111.09996\"/>\n       <use xlink:href=\"#STIXGeneral-Regular-65\" x=\"144.399948\"/>\n       <use xlink:href=\"#STIXGeneral-Regular-72\" x=\"188.799942\"/>\n       <use xlink:href=\"#STIXGeneral-Regular-65\" x=\"222.09993\"/>\n       <use xlink:href=\"#STIXGeneral-Regular-6e\" x=\"266.499924\"/>\n       <use xlink:href=\"#STIXGeneral-Regular-74\" x=\"316.499908\"/>\n      </g>\n     </g>\n    </g>\n    <g id=\"ytick_13\">\n     <g id=\"line2d_22\">\n      <g>\n       <use xlink:href=\"#m64bade679b\" x=\"43.0725\" y=\"110.751406\" style=\"fill: #323034; stroke: #323034; stroke-width: 0.8\"/>\n      </g>\n     </g>\n     <g id=\"text_23\">\n      <!-- may -->\n      <g style=\"fill: #323034\" transform=\"translate(22.29625 113.479531)scale(0.08 -0.08)\">\n       <use xlink:href=\"#STIXGeneral-Regular-6d\"/>\n       <use xlink:href=\"#STIXGeneral-Regular-61\" x=\"77.799988\"/>\n       <use xlink:href=\"#STIXGeneral-Regular-79\" x=\"122.199982\"/>\n      </g>\n     </g>\n    </g>\n    <g id=\"ytick_14\">\n     <g id=\"line2d_23\">\n      <g>\n       <use xlink:href=\"#m64bade679b\" x=\"43.0725\" y=\"100.191406\" style=\"fill: #323034; stroke: #323034; stroke-width: 0.8\"/>\n      </g>\n     </g>\n     <g id=\"text_24\">\n      <!-- would -->\n      <g style=\"fill: #323034\" transform=\"translate(16.0725 102.923281)scale(0.08 -0.08)\">\n       <use xlink:href=\"#STIXGeneral-Regular-77\"/>\n       <use xlink:href=\"#STIXGeneral-Regular-6f\" x=\"72.199982\"/>\n       <use xlink:href=\"#STIXGeneral-Regular-75\" x=\"122.199966\"/>\n       <use xlink:href=\"#STIXGeneral-Regular-6c\" x=\"172.199951\"/>\n       <use xlink:href=\"#STIXGeneral-Regular-64\" x=\"199.999939\"/>\n      </g>\n     </g>\n    </g>\n    <g id=\"ytick_15\">\n     <g id=\"line2d_24\">\n      <g>\n       <use xlink:href=\"#m64bade679b\" x=\"43.0725\" y=\"89.631406\" style=\"fill: #323034; stroke: #323034; stroke-width: 0.8\"/>\n      </g>\n     </g>\n     <g id=\"text_25\">\n      <!-- therefore -->\n      <g style=\"fill: #323034\" transform=\"translate(7.2 92.363281)scale(0.08 -0.08)\">\n       <use xlink:href=\"#STIXGeneral-Regular-74\"/>\n       <use xlink:href=\"#STIXGeneral-Regular-68\" x=\"27.799988\"/>\n       <use xlink:href=\"#STIXGeneral-Regular-65\" x=\"77.799973\"/>\n       <use xlink:href=\"#STIXGeneral-Regular-72\" x=\"122.199966\"/>\n       <use xlink:href=\"#STIXGeneral-Regular-65\" x=\"155.499954\"/>\n       <use xlink:href=\"#STIXGeneral-Regular-66\" x=\"199.899948\"/>\n       <use xlink:href=\"#STIXGeneral-Regular-6f\" x=\"233.199936\"/>\n       <use xlink:href=\"#STIXGeneral-Regular-72\" x=\"283.199921\"/>\n       <use xlink:href=\"#STIXGeneral-Regular-65\" x=\"316.499908\"/>\n      </g>\n     </g>\n    </g>\n    <g id=\"ytick_16\">\n     <g id=\"line2d_25\">\n      <g>\n       <use xlink:href=\"#m64bade679b\" x=\"43.0725\" y=\"79.071406\" style=\"fill: #323034; stroke: #323034; stroke-width: 0.8\"/>\n      </g>\n     </g>\n     <g id=\"text_26\">\n      <!-- great -->\n      <g style=\"fill: #323034\" transform=\"translate(20.08 81.799531)scale(0.08 -0.08)\">\n       <use xlink:href=\"#STIXGeneral-Regular-67\"/>\n       <use xlink:href=\"#STIXGeneral-Regular-72\" x=\"49.999985\"/>\n       <use xlink:href=\"#STIXGeneral-Regular-65\" x=\"83.299973\"/>\n       <use xlink:href=\"#STIXGeneral-Regular-61\" x=\"127.699966\"/>\n       <use xlink:href=\"#STIXGeneral-Regular-74\" x=\"172.09996\"/>\n      </g>\n     </g>\n    </g>\n    <g id=\"ytick_17\">\n     <g id=\"line2d_26\">\n      <g>\n       <use xlink:href=\"#m64bade679b\" x=\"43.0725\" y=\"68.511406\" style=\"fill: #323034; stroke: #323034; stroke-width: 0.8\"/>\n      </g>\n     </g>\n     <g id=\"text_27\">\n      <!-- country -->\n      <g style=\"fill: #323034\" transform=\"translate(11.6325 71.239531)scale(0.08 -0.08)\">\n       <use xlink:href=\"#STIXGeneral-Regular-63\"/>\n       <use xlink:href=\"#STIXGeneral-Regular-6f\" x=\"44.399994\"/>\n       <use xlink:href=\"#STIXGeneral-Regular-75\" x=\"94.399979\"/>\n       <use xlink:href=\"#STIXGeneral-Regular-6e\" x=\"144.399963\"/>\n       <use xlink:href=\"#STIXGeneral-Regular-74\" x=\"194.399948\"/>\n       <use xlink:href=\"#STIXGeneral-Regular-72\" x=\"222.199936\"/>\n       <use xlink:href=\"#STIXGeneral-Regular-79\" x=\"255.499924\"/>\n      </g>\n     </g>\n    </g>\n    <g id=\"ytick_18\">\n     <g id=\"line2d_27\">\n      <g>\n       <use xlink:href=\"#m64bade679b\" x=\"43.0725\" y=\"57.951406\" style=\"fill: #323034; stroke: #323034; stroke-width: 0.8\"/>\n      </g>\n     </g>\n     <g id=\"text_28\">\n      <!-- produce -->\n      <g style=\"fill: #323034\" transform=\"translate(10.30375 60.683281)scale(0.08 -0.08)\">\n       <use xlink:href=\"#STIXGeneral-Regular-70\"/>\n       <use xlink:href=\"#STIXGeneral-Regular-72\" x=\"49.999985\"/>\n       <use xlink:href=\"#STIXGeneral-Regular-6f\" x=\"83.299973\"/>\n       <use xlink:href=\"#STIXGeneral-Regular-64\" x=\"133.299957\"/>\n       <use xlink:href=\"#STIXGeneral-Regular-75\" x=\"183.299942\"/>\n       <use xlink:href=\"#STIXGeneral-Regular-63\" x=\"233.299927\"/>\n       <use xlink:href=\"#STIXGeneral-Regular-65\" x=\"277.699921\"/>\n      </g>\n     </g>\n    </g>\n    <g id=\"ytick_19\">\n     <g id=\"line2d_28\">\n      <g>\n       <use xlink:href=\"#m64bade679b\" x=\"43.0725\" y=\"47.391406\" style=\"fill: #323034; stroke: #323034; stroke-width: 0.8\"/>\n      </g>\n     </g>\n     <g id=\"text_29\">\n      <!-- market -->\n      <g style=\"fill: #323034\" transform=\"translate(13.85625 50.123281)scale(0.08 -0.08)\">\n       <defs>\n        <path id=\"STIXGeneral-Regular-6b\" d=\"M 3232 0 \nL 1837 0 \nL 1837 96 \nL 1958 96 \nQ 2093 96 2093 192 \nQ 2093 250 2022 339 \nL 1062 1606 \nL 1062 429 \nQ 1062 262 1142 185 \nQ 1222 109 1414 102 \nL 1542 96 \nL 1542 0 \nL 45 0 \nL 45 96 \nQ 390 154 457 214 \nQ 525 275 525 525 \nL 525 3610 \nQ 525 3840 467 3920 \nQ 410 4000 250 4000 \nQ 211 4000 45 3987 \nL 45 4090 \nL 237 4141 \nQ 621 4243 1037 4371 \nL 1062 4358 \nL 1062 1670 \nL 1939 2451 \nQ 2086 2586 2086 2675 \nQ 2086 2739 2019 2761 \nQ 1952 2784 1766 2790 \nL 1766 2880 \nL 3072 2880 \nL 3072 2784 \nQ 2752 2784 2505 2646 \nQ 2259 2509 1690 1978 \nL 1504 1805 \nL 2483 563 \nQ 2829 122 3232 96 \nL 3232 0 \nz\n\" transform=\"scale(0.015625)\"/>\n       </defs>\n       <use xlink:href=\"#STIXGeneral-Regular-6d\"/>\n       <use xlink:href=\"#STIXGeneral-Regular-61\" x=\"77.799988\"/>\n       <use xlink:href=\"#STIXGeneral-Regular-72\" x=\"122.199982\"/>\n       <use xlink:href=\"#STIXGeneral-Regular-6b\" x=\"155.499969\"/>\n       <use xlink:href=\"#STIXGeneral-Regular-65\" x=\"205.499954\"/>\n       <use xlink:href=\"#STIXGeneral-Regular-74\" x=\"249.899948\"/>\n      </g>\n     </g>\n    </g>\n    <g id=\"ytick_20\">\n     <g id=\"line2d_29\">\n      <g>\n       <use xlink:href=\"#m64bade679b\" x=\"43.0725\" y=\"36.831406\" style=\"fill: #323034; stroke: #323034; stroke-width: 0.8\"/>\n      </g>\n     </g>\n     <g id=\"text_30\">\n      <!-- wages -->\n      <g style=\"fill: #323034\" transform=\"translate(16.07875 39.559531)scale(0.08 -0.08)\">\n       <use xlink:href=\"#STIXGeneral-Regular-77\"/>\n       <use xlink:href=\"#STIXGeneral-Regular-61\" x=\"72.199982\"/>\n       <use xlink:href=\"#STIXGeneral-Regular-67\" x=\"116.599976\"/>\n       <use xlink:href=\"#STIXGeneral-Regular-65\" x=\"166.59996\"/>\n       <use xlink:href=\"#STIXGeneral-Regular-73\" x=\"210.999954\"/>\n      </g>\n     </g>\n    </g>\n   </g>\n   <g id=\"patch_23\">\n    <path d=\"M 43.0725 248.031406 \nL 43.0725 26.271406 \n\" style=\"fill: none; stroke: #000000; stroke-width: 0.6; stroke-linejoin: miter; stroke-linecap: square\"/>\n   </g>\n   <g id=\"patch_24\">\n    <path d=\"M 43.0725 248.031406 \nL 489.4725 248.031406 \n\" style=\"fill: none; stroke: #000000; stroke-width: 0.6; stroke-linejoin: miter; stroke-linecap: square\"/>\n   </g>\n   <g id=\"text_31\">\n    <!-- The 20 top 1-grams: tf-idf; X has shape (7750, 5160) -->\n    <g style=\"fill: #323034\" transform=\"translate(43.0725 20.271406)scale(0.19 -0.19)\">\n     <defs>\n      <path id=\"STIXGeneral-Regular-54\" d=\"M 3795 3149 \nL 3642 3149 \nQ 3539 3674 3353 3821 \nQ 3168 3968 2656 3968 \nL 2278 3968 \nL 2278 710 \nQ 2278 346 2387 243 \nQ 2496 141 2893 122 \nL 2893 0 \nL 1024 0 \nL 1024 122 \nQ 1427 147 1526 256 \nQ 1626 365 1626 787 \nL 1626 3968 \nL 1242 3968 \nQ 723 3968 540 3817 \nQ 358 3667 262 3149 \nL 109 3149 \nL 154 4237 \nL 3750 4237 \nL 3795 3149 \nz\n\" transform=\"scale(0.015625)\"/>\n      <path id=\"STIXGeneral-Regular-3a\" d=\"M 1123 2832 \nQ 1229 2726 1229 2579 \nQ 1229 2432 1126 2329 \nQ 1024 2227 877 2227 \nQ 730 2227 624 2332 \nQ 518 2438 518 2579 \nQ 518 2733 620 2835 \nQ 723 2938 877 2938 \nQ 1018 2938 1123 2832 \nz\nM 1229 282 \nQ 1229 141 1126 35 \nQ 1024 -70 877 -70 \nQ 730 -70 624 35 \nQ 518 141 518 282 \nQ 518 435 620 537 \nQ 723 640 877 640 \nQ 1018 640 1123 534 \nQ 1229 429 1229 282 \nz\n\" transform=\"scale(0.015625)\"/>\n      <path id=\"STIXGeneral-Regular-3b\" d=\"M 1116 2832 \nQ 1222 2726 1222 2579 \nQ 1222 2432 1116 2329 \nQ 1011 2227 870 2227 \nQ 723 2227 617 2332 \nQ 512 2438 512 2579 \nQ 512 2733 614 2835 \nQ 717 2938 870 2938 \nQ 1011 2938 1116 2832 \nz\nM 685 -902 \nL 621 -781 \nQ 1152 -435 1152 -102 \nQ 1152 -70 1126 -41 \nQ 1101 -13 1062 -13 \nQ 1043 -13 979 -25 \nQ 915 -38 883 -38 \nQ 512 -38 512 294 \nQ 512 448 621 550 \nQ 730 653 890 653 \nQ 1107 653 1254 496 \nQ 1402 339 1402 83 \nQ 1402 -218 1210 -480 \nQ 1018 -742 685 -902 \nz\n\" transform=\"scale(0.015625)\"/>\n      <path id=\"STIXGeneral-Regular-58\" d=\"M 4506 0 \nL 2611 0 \nL 2611 122 \nL 2778 134 \nQ 3098 154 3098 320 \nQ 3098 461 2771 947 \nL 2163 1850 \nL 1402 896 \nQ 1062 474 1062 326 \nQ 1062 230 1168 185 \nQ 1274 141 1549 122 \nL 1549 0 \nL 64 0 \nL 64 122 \nQ 314 147 470 268 \nQ 627 390 992 851 \nL 1990 2099 \nL 1312 3091 \nQ 864 3744 665 3913 \nQ 467 4083 141 4115 \nL 141 4237 \nL 2067 4237 \nL 2067 4115 \nL 1882 4109 \nQ 1734 4102 1660 4064 \nQ 1587 4026 1587 3923 \nQ 1587 3885 1596 3843 \nQ 1606 3802 1635 3744 \nQ 1664 3686 1689 3638 \nQ 1715 3590 1769 3507 \nQ 1824 3424 1862 3366 \nQ 1901 3309 1984 3190 \nQ 2067 3072 2118 2995 \nL 2400 2586 \nL 3117 3482 \nQ 3373 3795 3373 3910 \nQ 3373 4019 3283 4064 \nQ 3194 4109 2938 4115 \nL 2938 4237 \nL 4454 4237 \nL 4454 4115 \nQ 4147 4096 3968 3977 \nQ 3789 3859 3482 3482 \nL 2566 2349 \nL 3795 595 \nQ 3981 326 4115 240 \nQ 4250 154 4506 122 \nL 4506 0 \nz\n\" transform=\"scale(0.015625)\"/>\n      <path id=\"STIXGeneral-Regular-28\" d=\"M 1946 -1030 \nL 1869 -1133 \nQ 1126 -710 716 32 \nQ 307 774 307 1613 \nQ 307 3386 1888 4326 \nL 1946 4224 \nQ 1293 3667 1075 3126 \nQ 858 2586 858 1632 \nQ 858 685 1082 96 \nQ 1306 -493 1946 -1030 \nz\n\" transform=\"scale(0.015625)\"/>\n      <path id=\"STIXGeneral-Regular-2c\" d=\"M 531 -902 \nL 467 -781 \nQ 998 -422 998 -96 \nQ 998 -13 909 -13 \nQ 883 -13 822 -25 \nQ 762 -38 723 -38 \nQ 352 -38 352 288 \nQ 352 454 457 553 \nQ 563 653 736 653 \nQ 954 653 1101 496 \nQ 1248 339 1248 96 \nQ 1248 -198 1053 -473 \nQ 858 -749 531 -902 \nz\n\" transform=\"scale(0.015625)\"/>\n      <path id=\"STIXGeneral-Regular-36\" d=\"M 2854 4378 \nL 2867 4275 \nQ 2112 4154 1606 3664 \nQ 1101 3174 973 2451 \nQ 1344 2739 1786 2739 \nQ 2349 2739 2672 2380 \nQ 2995 2022 2995 1402 \nQ 2995 774 2669 378 \nQ 2291 -90 1651 -90 \nQ 870 -90 518 557 \nQ 218 1107 218 1786 \nQ 218 2835 915 3552 \nQ 1312 3962 1731 4131 \nQ 2150 4301 2854 4378 \nz\nM 2419 1203 \nQ 2419 2445 1555 2445 \nQ 1235 2445 1024 2275 \nQ 813 2106 813 1702 \nQ 813 954 1046 522 \nQ 1280 90 1722 90 \nQ 2061 90 2240 394 \nQ 2419 698 2419 1203 \nz\n\" transform=\"scale(0.015625)\"/>\n      <path id=\"STIXGeneral-Regular-29\" d=\"M 186 4224 \nL 262 4326 \nQ 992 3891 1408 3148 \nQ 1824 2406 1824 1581 \nQ 1824 -166 243 -1133 \nL 186 -1030 \nQ 845 -486 1059 54 \nQ 1274 595 1274 1562 \nQ 1274 2534 1059 3120 \nQ 845 3706 186 4224 \nz\n\" transform=\"scale(0.015625)\"/>\n     </defs>\n     <use xlink:href=\"#STIXGeneral-Regular-54\"/>\n     <use xlink:href=\"#STIXGeneral-Regular-68\" x=\"61.099991\"/>\n     <use xlink:href=\"#STIXGeneral-Regular-65\" x=\"111.099976\"/>\n     <use xlink:href=\"#STIXGeneral-Regular-20\" x=\"155.499969\"/>\n     <use xlink:href=\"#STIXGeneral-Regular-32\" x=\"180.499954\"/>\n     <use xlink:href=\"#STIXGeneral-Regular-30\" x=\"230.499939\"/>\n     <use xlink:href=\"#STIXGeneral-Regular-20\" x=\"280.499924\"/>\n     <use xlink:href=\"#STIXGeneral-Regular-74\" x=\"305.499908\"/>\n     <use xlink:href=\"#STIXGeneral-Regular-6f\" x=\"333.299896\"/>\n     <use xlink:href=\"#STIXGeneral-Regular-70\" x=\"383.299881\"/>\n     <use xlink:href=\"#STIXGeneral-Regular-20\" x=\"433.299866\"/>\n     <use xlink:href=\"#STIXGeneral-Regular-31\" x=\"458.29985\"/>\n     <use xlink:href=\"#STIXGeneral-Regular-2d\" x=\"508.299835\"/>\n     <use xlink:href=\"#STIXGeneral-Regular-67\" x=\"541.599823\"/>\n     <use xlink:href=\"#STIXGeneral-Regular-72\" x=\"591.599808\"/>\n     <use xlink:href=\"#STIXGeneral-Regular-61\" x=\"624.899796\"/>\n     <use xlink:href=\"#STIXGeneral-Regular-6d\" x=\"669.299789\"/>\n     <use xlink:href=\"#STIXGeneral-Regular-73\" x=\"747.099777\"/>\n     <use xlink:href=\"#STIXGeneral-Regular-3a\" x=\"785.999771\"/>\n     <use xlink:href=\"#STIXGeneral-Regular-20\" x=\"813.799759\"/>\n     <use xlink:href=\"#STIXGeneral-Regular-74\" x=\"838.799744\"/>\n     <use xlink:href=\"#STIXGeneral-Regular-66\" x=\"866.599731\"/>\n     <use xlink:href=\"#STIXGeneral-Regular-2d\" x=\"899.899719\"/>\n     <use xlink:href=\"#STIXGeneral-Regular-69\" x=\"933.199707\"/>\n     <use xlink:href=\"#STIXGeneral-Regular-64\" x=\"960.999695\"/>\n     <use xlink:href=\"#STIXGeneral-Regular-66\" x=\"1010.99968\"/>\n     <use xlink:href=\"#STIXGeneral-Regular-3b\" x=\"1044.299667\"/>\n     <use xlink:href=\"#STIXGeneral-Regular-20\" x=\"1072.099655\"/>\n     <use xlink:href=\"#STIXGeneral-Regular-58\" x=\"1097.09964\"/>\n     <use xlink:href=\"#STIXGeneral-Regular-20\" x=\"1169.299622\"/>\n     <use xlink:href=\"#STIXGeneral-Regular-68\" x=\"1194.299606\"/>\n     <use xlink:href=\"#STIXGeneral-Regular-61\" x=\"1244.299591\"/>\n     <use xlink:href=\"#STIXGeneral-Regular-73\" x=\"1288.699585\"/>\n     <use xlink:href=\"#STIXGeneral-Regular-20\" x=\"1327.599579\"/>\n     <use xlink:href=\"#STIXGeneral-Regular-73\" x=\"1352.599564\"/>\n     <use xlink:href=\"#STIXGeneral-Regular-68\" x=\"1391.499557\"/>\n     <use xlink:href=\"#STIXGeneral-Regular-61\" x=\"1441.499542\"/>\n     <use xlink:href=\"#STIXGeneral-Regular-70\" x=\"1485.899536\"/>\n     <use xlink:href=\"#STIXGeneral-Regular-65\" x=\"1535.899521\"/>\n     <use xlink:href=\"#STIXGeneral-Regular-20\" x=\"1580.299515\"/>\n     <use xlink:href=\"#STIXGeneral-Regular-28\" x=\"1605.2995\"/>\n     <use xlink:href=\"#STIXGeneral-Regular-37\" x=\"1638.599487\"/>\n     <use xlink:href=\"#STIXGeneral-Regular-37\" x=\"1688.599472\"/>\n     <use xlink:href=\"#STIXGeneral-Regular-35\" x=\"1738.599457\"/>\n     <use xlink:href=\"#STIXGeneral-Regular-30\" x=\"1788.599442\"/>\n     <use xlink:href=\"#STIXGeneral-Regular-2c\" x=\"1838.599426\"/>\n     <use xlink:href=\"#STIXGeneral-Regular-20\" x=\"1863.599411\"/>\n     <use xlink:href=\"#STIXGeneral-Regular-35\" x=\"1888.599396\"/>\n     <use xlink:href=\"#STIXGeneral-Regular-31\" x=\"1938.59938\"/>\n     <use xlink:href=\"#STIXGeneral-Regular-36\" x=\"1988.599365\"/>\n     <use xlink:href=\"#STIXGeneral-Regular-30\" x=\"2038.59935\"/>\n     <use xlink:href=\"#STIXGeneral-Regular-29\" x=\"2088.599335\"/>\n    </g>\n   </g>\n  </g>\n </g>\n <defs>\n  <clipPath id=\"p6db5b14df7\">\n   <rect x=\"43.0725\" y=\"26.271406\" width=\"446.4\" height=\"221.76\"/>\n  </clipPath>\n </defs>\n</svg>\n",
      "text/plain": [
       "<Figure size 1200x600 with 1 Axes>"
      ]
     },
     "metadata": {},
     "output_type": "display_data"
    }
   ],
   "source": [
    "from sklearn.feature_extraction.text import TfidfVectorizer\n",
    "\n",
    "tfidf_vectorizer = TfidfVectorizer(stop_words=stopwords, sublinear_tf=True)\n",
    "X = tfidf_vectorizer.fit_transform(df[\"text\"])\n",
    "counts_tfidf = (\n",
    "    pd.DataFrame(X.toarray(), columns=tfidf_vectorizer.get_feature_names())\n",
    "    .T.sum(axis=1)\n",
    "    .sort_values(ascending=False)\n",
    ")\n",
    "# Plot top n 1-grams\n",
    "num_to_plot = 20\n",
    "x_pos = np.arange(num_to_plot)\n",
    "fig, ax = plt.subplots()\n",
    "ax.barh(x_pos, counts_tfidf[:num_to_plot], align=\"center\", alpha=0.5)\n",
    "ax.set_yticks(x_pos)\n",
    "ax.set_yticklabels(counts_tfidf[:num_to_plot].index, fontsize=8)\n",
    "ax.set_ylim(-1, num_to_plot)\n",
    "ax.set_xlabel('tf-idf weighted terms across all \"documents\"')\n",
    "ax.set_title(f\"The {num_to_plot} top 1-grams: tf-idf; X has shape {np.shape(X)}\")\n",
    "plt.show()"
   ]
  },
  {
   "cell_type": "markdown",
   "metadata": {},
   "source": [
    "There are small differences between this ranking of terms versus the original tf 1-gram version above. In the previous one, words such as 'one' were slightly higher in the ranking but their common appearance in multiple documents (lines) downweights them here. In this case, we also used the sublinear option, which uses $1+\\log(\\mathrm{tf})$ in place of $\\mathrm{tf}$.\n",
    "\n",
    "#### Vector Inner Product and Cosine Similarity\n",
    "\n",
    "Because the output of tf or tf-idf is a matrix, many possibilities related to linear algebra are opened up. In particular, we can think of this the creation of a tf-idf matrix as definining a $|t| = T$ dimensional vector space that is spanned by the term vectors (which act like basis vectors). Each document in the corpus then has a vector representation in terms of the basis vectors. A consequence is that there is a sensible inner vector product defined on the space. As a demonstration, let's look for the line in the book that is closest to the title according to this vector space. The vector for the first line is just the first row in $X$. We take the argmax of the inner product with all of the *other* line vectors to find the entry in `X` that maximises the inner product."
   ]
  },
  {
   "cell_type": "code",
   "execution_count": 26,
   "metadata": {},
   "outputs": [
    {
     "name": "stdout",
     "output_type": "stream",
     "text": [
      "102\n"
     ]
    }
   ],
   "source": [
    "max_val = np.argmax(np.dot(X[0, :], X[1:, :].T))\n",
    "print(max_val)"
   ]
  },
  {
   "cell_type": "code",
   "execution_count": 27,
   "metadata": {},
   "outputs": [
    {
     "name": "stdout",
     "output_type": "stream",
     "text": [
      "Cosine similarity is 0.42\n",
      "Sentence 0:\n",
      "\tan inquiry into the nature and causes of the wealth of nations by adam smith contents introduction and plan of the work book i of the causes of improvement in the productive\n",
      "\n",
      "Sentence 1:\n",
      "\tthe society book i of the causes of improvement in the\n",
      "\n"
     ]
    }
   ],
   "source": [
    "print(\n",
    "    f\"Cosine similarity is {round(np.dot(X[0], X[max_val+1].T).toarray().flatten()[0], 2)}\"\n",
    ")\n",
    "for i, sent in enumerate(df.iloc[[0, max_val + 1], 0]):\n",
    "    print(f\"Sentence {i}:\")\n",
    "    print(\"\\t\" + sent.strip() + \"\\n\")"
   ]
  },
  {
   "cell_type": "markdown",
   "metadata": {},
   "source": [
    "We can see from this example *why* the sentence we found is the most similar in the book to the title: it contains a phrase that is very similar to part of the title. It's worth noting here that tf-idf (and tf) do not care about *word order*, they only care about frequency, and so sometimes the most similar sentences are not what you would expect if you were judging similarity based on concepts. Another way of saying this is that the concept of 'similarity' as used by tf-idf is limited."
   ]
  },
  {
   "cell_type": "markdown",
   "metadata": {},
   "source": [
    "#### Transform versus Fit Transform\n",
    "\n",
    "The `fit_transform` function we've seen is actually performing two operations here: i) create a vector space from the basis defined by terms from the text and ii) express each document (here, a sentence) as a vector in this vector space. But there's no reason why these two operations have to be linked. In fact, by separating out these two operations, we can do nifty things like express one text in the basis vectors of another. This is more useful in practice than you might think. It allows you to ask questions like, \"which of the texts in my reference corpus is most closest to these other texts?\", and more. We would ask this question by taking the inner vector product of the matrices expressing the two corpora, and find the rows of Wealth of Nations that have the greatest cosine similarity with the other texts.\n",
    "\n",
    "Let's see an example, with some test texts."
   ]
  },
  {
   "cell_type": "code",
   "execution_count": 28,
   "metadata": {},
   "outputs": [],
   "source": [
    "df_test = pd.DataFrame(\n",
    "    {\n",
    "        \"text\": [\n",
    "            \"poverty is a trap and rearing children in it is hard and perilous\",\n",
    "            \"people in different trades can meet and develop a conspiracy which ultimately hurts consumers by raising prices\",\n",
    "        ]\n",
    "    }\n",
    ")"
   ]
  },
  {
   "cell_type": "markdown",
   "metadata": {},
   "source": [
    "Now we need to i) create the vector space, ii) express WoN in the vector space, iii) express the test texts in the vector space, iv) find which rows of the WoN match best the test texts, and v) print out those rows.\n",
    "\n"
   ]
  },
  {
   "cell_type": "code",
   "execution_count": 29,
   "metadata": {},
   "outputs": [
    {
     "data": {
      "text/plain": [
       "[1012, 1768]"
      ]
     },
     "execution_count": 29,
     "metadata": {},
     "output_type": "execute_result"
    }
   ],
   "source": [
    "from sklearn.feature_extraction.text import TfidfVectorizer\n",
    "\n",
    "tfidf_vectorizer = TfidfVectorizer(stop_words=stopwords, sublinear_tf=True)\n",
    "# i)\n",
    "model = tfidf_vectorizer.fit(df_sent[\"text\"])\n",
    "# ii)\n",
    "X = tfidf_vectorizer.transform(df_sent[\"text\"])\n",
    "# iii)\n",
    "Y = tfidf_vectorizer.transform(df_test[\"text\"])\n",
    "# iv)\n",
    "max_index_pos = np.argmax(X * Y.T, 0).tolist()[0]\n",
    "max_index_pos"
   ]
  },
  {
   "cell_type": "markdown",
   "metadata": {},
   "source": [
    "Now, armed with the rows of $X$, we are ready for the final part, v)"
   ]
  },
  {
   "cell_type": "code",
   "execution_count": 30,
   "metadata": {},
   "outputs": [
    {
     "name": "stdout",
     "output_type": "stream",
     "text": [
      "Sentence number 0:\n",
      "        test: poverty is a trap and rearing children in it is hard and perilous\n",
      "         WoN: but poverty though it does not prevent the generation is extremely unfavourable to the rearing of children \n",
      "\n",
      "Sentence number 1:\n",
      "        test: people in different trades can meet and develop a conspiracy which ultimately hurts consumers by raising prices\n",
      "         WoN: people of the same trade seldom meet together even for merriment and diversion but the conversation ends in a conspiracy against the public or in some contrivance to raise prices \n",
      "\n"
     ]
    }
   ],
   "source": [
    "for y_pos, x_pos in enumerate(max_index_pos):\n",
    "    print(f\"Sentence number {y_pos}:\")\n",
    "    print(f'        test: {df_test.loc[y_pos, \"text\"]}')\n",
    "    print(f'         WoN: {df_sent.loc[x_pos, \"text\"]} \\n')"
   ]
  },
  {
   "cell_type": "markdown",
   "metadata": {},
   "source": [
    "#### Using a Special Vocabulary\n",
    "\n",
    "But why should the basis vectors come from the terms in another text? Couldn't they come from anywhere? The answer is, of course, yes. We could choose any set of basis vectors we liked to define our vector space, and express a text in it. For this, we need a *special vocabulary*.\n",
    "\n",
    "Let's see an example of expressing the Wealth of Nations in a particularly vocab. First, we must define our vocab:"
   ]
  },
  {
   "cell_type": "code",
   "execution_count": 31,
   "metadata": {},
   "outputs": [],
   "source": [
    "vocab = [\"work\", \"wage\", \"labour\", \"real price\", \"money price\", \"productivity\"]"
   ]
  },
  {
   "cell_type": "markdown",
   "metadata": {},
   "source": [
    "That done, we now plug our special vocab into `CountVectorizer` to tell it to ignore anything that isn't relevant (isn't in our vocab)."
   ]
  },
  {
   "cell_type": "code",
   "execution_count": 32,
   "metadata": {},
   "outputs": [
    {
     "name": "stderr",
     "output_type": "stream",
     "text": [
      "/opt/anaconda3/envs/codeforecon/lib/python3.8/site-packages/sklearn/utils/deprecation.py:87: FutureWarning: Function get_feature_names is deprecated; get_feature_names is deprecated in 1.0 and will be removed in 1.2. Please use get_feature_names_out instead.\n",
      "  warnings.warn(msg, category=FutureWarning)\n"
     ]
    },
    {
     "data": {
      "image/svg+xml": "<?xml version=\"1.0\" encoding=\"utf-8\" standalone=\"no\"?>\n<!DOCTYPE svg PUBLIC \"-//W3C//DTD SVG 1.1//EN\"\n  \"http://www.w3.org/Graphics/SVG/1.1/DTD/svg11.dtd\">\n<svg xmlns:xlink=\"http://www.w3.org/1999/xlink\" width=\"519.56875pt\" height=\"293.936406pt\" viewBox=\"0 0 519.56875 293.936406\" xmlns=\"http://www.w3.org/2000/svg\" version=\"1.1\">\n <metadata>\n  <rdf:RDF xmlns:dc=\"http://purl.org/dc/elements/1.1/\" xmlns:cc=\"http://creativecommons.org/ns#\" xmlns:rdf=\"http://www.w3.org/1999/02/22-rdf-syntax-ns#\">\n   <cc:Work>\n    <dc:type rdf:resource=\"http://purl.org/dc/dcmitype/StillImage\"/>\n    <dc:date>2022-10-28T18:44:30.023905</dc:date>\n    <dc:format>image/svg+xml</dc:format>\n    <dc:creator>\n     <cc:Agent>\n      <dc:title>Matplotlib v3.5.3, https://matplotlib.org/</dc:title>\n     </cc:Agent>\n    </dc:creator>\n   </cc:Work>\n  </rdf:RDF>\n </metadata>\n <defs>\n  <style type=\"text/css\">*{stroke-linejoin: round; stroke-linecap: butt}</style>\n </defs>\n <g id=\"figure_1\">\n  <g id=\"patch_1\">\n   <path d=\"M 0 293.936406 \nL 519.56875 293.936406 \nL 519.56875 0 \nL 0 0 \nz\n\" style=\"fill: #ffffff\"/>\n  </g>\n  <g id=\"axes_1\">\n   <g id=\"patch_2\">\n    <path d=\"M 53.96875 247.936406 \nL 500.36875 247.936406 \nL 500.36875 26.176406 \nL 53.96875 26.176406 \nz\n\" style=\"fill: #ffffff\"/>\n   </g>\n   <g id=\"patch_3\">\n    <path d=\"M 53.96875 228.928406 \nL 422.567607 228.928406 \nL 422.567607 203.584406 \nL 53.96875 203.584406 \nz\n\" clip-path=\"url(#p30b13c5dd8)\" style=\"fill: #bc80bd; opacity: 0.5; stroke: #000000; stroke-width: 0.8; stroke-linejoin: miter\"/>\n   </g>\n   <g id=\"patch_4\">\n    <path d=\"M 53.96875 197.248406 \nL 133.045321 197.248406 \nL 133.045321 171.904406 \nL 53.96875 171.904406 \nz\n\" clip-path=\"url(#p30b13c5dd8)\" style=\"fill: #bc80bd; opacity: 0.5; stroke: #000000; stroke-width: 0.8; stroke-linejoin: miter\"/>\n   </g>\n   <g id=\"patch_5\">\n    <path d=\"M 53.96875 165.568406 \nL 92.231607 165.568406 \nL 92.231607 140.224406 \nL 53.96875 140.224406 \nz\n\" clip-path=\"url(#p30b13c5dd8)\" style=\"fill: #bc80bd; opacity: 0.5; stroke: #000000; stroke-width: 0.8; stroke-linejoin: miter\"/>\n   </g>\n   <g id=\"patch_6\">\n    <path d=\"M 53.96875 133.888406 \nL 80.115036 133.888406 \nL 80.115036 108.544406 \nL 53.96875 108.544406 \nz\n\" clip-path=\"url(#p30b13c5dd8)\" style=\"fill: #bc80bd; opacity: 0.5; stroke: #000000; stroke-width: 0.8; stroke-linejoin: miter\"/>\n   </g>\n   <g id=\"patch_7\">\n    <path d=\"M 53.96875 102.208406 \nL 55.244179 102.208406 \nL 55.244179 76.864406 \nL 53.96875 76.864406 \nz\n\" clip-path=\"url(#p30b13c5dd8)\" style=\"fill: #bc80bd; opacity: 0.5; stroke: #000000; stroke-width: 0.8; stroke-linejoin: miter\"/>\n   </g>\n   <g id=\"patch_8\">\n    <path d=\"M 53.96875 70.528406 \nL 53.96875 70.528406 \nL 53.96875 45.184406 \nL 53.96875 45.184406 \nz\n\" clip-path=\"url(#p30b13c5dd8)\" style=\"fill: #bc80bd; opacity: 0.5; stroke: #000000; stroke-width: 0.8; stroke-linejoin: miter\"/>\n   </g>\n   <g id=\"matplotlib.axis_1\">\n    <g id=\"xtick_1\">\n     <g id=\"line2d_1\">\n      <defs>\n       <path id=\"me6d89a4666\" d=\"M 0 0 \nL 0 3.5 \n\" style=\"stroke: #323034; stroke-width: 0.8\"/>\n      </defs>\n      <g>\n       <use xlink:href=\"#me6d89a4666\" x=\"53.96875\" y=\"247.936406\" style=\"fill: #323034; stroke: #323034; stroke-width: 0.8\"/>\n      </g>\n     </g>\n     <g id=\"text_1\">\n      <!-- $\\mathdefault{0}$ -->\n      <g style=\"fill: #323034\" transform=\"translate(49.96875 265.863906)scale(0.16 -0.16)\">\n       <defs>\n        <path id=\"STIXGeneral-Regular-30\" d=\"M 3046 2112 \nQ 3046 1683 2963 1302 \nQ 2880 922 2717 602 \nQ 2554 282 2266 96 \nQ 1978 -90 1600 -90 \nQ 1210 -90 915 108 \nQ 621 307 461 640 \nQ 301 973 227 1350 \nQ 154 1728 154 2150 \nQ 154 2746 301 3222 \nQ 448 3699 790 4012 \nQ 1133 4326 1626 4326 \nQ 2253 4326 2649 3712 \nQ 3046 3098 3046 2112 \nz\nM 2432 2080 \nQ 2432 3091 2217 3625 \nQ 2003 4160 1587 4160 \nQ 1190 4160 979 3622 \nQ 768 3085 768 2106 \nQ 768 1120 979 598 \nQ 1190 77 1600 77 \nQ 2003 77 2217 598 \nQ 2432 1120 2432 2080 \nz\n\" transform=\"scale(0.015625)\"/>\n       </defs>\n       <use xlink:href=\"#STIXGeneral-Regular-30\" transform=\"translate(0 0.40625)\"/>\n      </g>\n     </g>\n    </g>\n    <g id=\"xtick_2\">\n     <g id=\"line2d_2\">\n      <g>\n       <use xlink:href=\"#me6d89a4666\" x=\"117.740179\" y=\"247.936406\" style=\"fill: #323034; stroke: #323034; stroke-width: 0.8\"/>\n      </g>\n     </g>\n     <g id=\"text_2\">\n      <!-- $\\mathdefault{100}$ -->\n      <g style=\"fill: #323034\" transform=\"translate(105.740179 265.863906)scale(0.16 -0.16)\">\n       <defs>\n        <path id=\"STIXGeneral-Regular-31\" d=\"M 2522 0 \nL 755 0 \nL 755 96 \nQ 1107 115 1235 227 \nQ 1363 339 1363 608 \nL 1363 3482 \nQ 1363 3795 1171 3795 \nQ 1082 3795 883 3718 \nL 710 3654 \nL 710 3744 \nL 1856 4326 \nL 1914 4307 \nL 1914 486 \nQ 1914 275 2042 185 \nQ 2170 96 2522 96 \nL 2522 0 \nz\n\" transform=\"scale(0.015625)\"/>\n       </defs>\n       <use xlink:href=\"#STIXGeneral-Regular-31\" transform=\"translate(0 0.40625)\"/>\n       <use xlink:href=\"#STIXGeneral-Regular-30\" transform=\"translate(49.999985 0.40625)\"/>\n       <use xlink:href=\"#STIXGeneral-Regular-30\" transform=\"translate(99.999969 0.40625)\"/>\n      </g>\n     </g>\n    </g>\n    <g id=\"xtick_3\">\n     <g id=\"line2d_3\">\n      <g>\n       <use xlink:href=\"#me6d89a4666\" x=\"181.511607\" y=\"247.936406\" style=\"fill: #323034; stroke: #323034; stroke-width: 0.8\"/>\n      </g>\n     </g>\n     <g id=\"text_3\">\n      <!-- $\\mathdefault{200}$ -->\n      <g style=\"fill: #323034\" transform=\"translate(169.511607 265.863906)scale(0.16 -0.16)\">\n       <defs>\n        <path id=\"STIXGeneral-Regular-32\" d=\"M 3034 877 \nL 2688 0 \nL 186 0 \nL 186 77 \nL 1325 1286 \nQ 1773 1754 1965 2144 \nQ 2157 2534 2157 2950 \nQ 2157 3379 1920 3616 \nQ 1683 3853 1267 3853 \nQ 922 3853 720 3673 \nQ 518 3494 326 3021 \nL 192 3053 \nQ 301 3648 630 3987 \nQ 960 4326 1523 4326 \nQ 2054 4326 2380 4006 \nQ 2707 3686 2707 3200 \nQ 2707 2477 1888 1613 \nL 832 486 \nL 2330 486 \nQ 2541 486 2665 569 \nQ 2790 653 2944 915 \nL 3034 877 \nz\n\" transform=\"scale(0.015625)\"/>\n       </defs>\n       <use xlink:href=\"#STIXGeneral-Regular-32\" transform=\"translate(0 0.40625)\"/>\n       <use xlink:href=\"#STIXGeneral-Regular-30\" transform=\"translate(49.999985 0.40625)\"/>\n       <use xlink:href=\"#STIXGeneral-Regular-30\" transform=\"translate(99.999969 0.40625)\"/>\n      </g>\n     </g>\n    </g>\n    <g id=\"xtick_4\">\n     <g id=\"line2d_4\">\n      <g>\n       <use xlink:href=\"#me6d89a4666\" x=\"245.283036\" y=\"247.936406\" style=\"fill: #323034; stroke: #323034; stroke-width: 0.8\"/>\n      </g>\n     </g>\n     <g id=\"text_4\">\n      <!-- $\\mathdefault{300}$ -->\n      <g style=\"fill: #323034\" transform=\"translate(233.283036 265.863906)scale(0.16 -0.16)\">\n       <defs>\n        <path id=\"STIXGeneral-Regular-33\" d=\"M 390 3264 \nL 288 3290 \nQ 435 3770 748 4048 \nQ 1062 4326 1542 4326 \nQ 1990 4326 2265 4083 \nQ 2541 3840 2541 3450 \nQ 2541 2925 1946 2566 \nQ 2298 2413 2477 2227 \nQ 2758 1914 2758 1402 \nQ 2758 890 2464 506 \nQ 2246 211 1840 60 \nQ 1434 -90 979 -90 \nQ 262 -90 262 275 \nQ 262 378 339 442 \nQ 416 506 525 506 \nQ 685 506 915 339 \nQ 1197 141 1466 141 \nQ 1818 141 2058 425 \nQ 2298 710 2298 1120 \nQ 2298 1856 1632 2048 \nQ 1434 2112 979 2112 \nL 979 2202 \nQ 1338 2323 1517 2432 \nQ 2035 2726 2035 3290 \nQ 2035 3610 1852 3776 \nQ 1670 3942 1344 3942 \nQ 768 3942 390 3264 \nz\n\" transform=\"scale(0.015625)\"/>\n       </defs>\n       <use xlink:href=\"#STIXGeneral-Regular-33\" transform=\"translate(0 0.40625)\"/>\n       <use xlink:href=\"#STIXGeneral-Regular-30\" transform=\"translate(49.999985 0.40625)\"/>\n       <use xlink:href=\"#STIXGeneral-Regular-30\" transform=\"translate(99.999969 0.40625)\"/>\n      </g>\n     </g>\n    </g>\n    <g id=\"xtick_5\">\n     <g id=\"line2d_5\">\n      <g>\n       <use xlink:href=\"#me6d89a4666\" x=\"309.054464\" y=\"247.936406\" style=\"fill: #323034; stroke: #323034; stroke-width: 0.8\"/>\n      </g>\n     </g>\n     <g id=\"text_5\">\n      <!-- $\\mathdefault{400}$ -->\n      <g style=\"fill: #323034\" transform=\"translate(297.054464 265.863906)scale(0.16 -0.16)\">\n       <defs>\n        <path id=\"STIXGeneral-Regular-34\" d=\"M 3027 1069 \nL 2368 1069 \nL 2368 0 \nL 1869 0 \nL 1869 1069 \nL 77 1069 \nL 77 1478 \nL 2086 4326 \nL 2368 4326 \nL 2368 1478 \nL 3027 1478 \nL 3027 1069 \nz\nM 1869 1478 \nL 1869 3674 \nL 333 1478 \nL 1869 1478 \nz\n\" transform=\"scale(0.015625)\"/>\n       </defs>\n       <use xlink:href=\"#STIXGeneral-Regular-34\" transform=\"translate(0 0.40625)\"/>\n       <use xlink:href=\"#STIXGeneral-Regular-30\" transform=\"translate(49.999985 0.40625)\"/>\n       <use xlink:href=\"#STIXGeneral-Regular-30\" transform=\"translate(99.999969 0.40625)\"/>\n      </g>\n     </g>\n    </g>\n    <g id=\"xtick_6\">\n     <g id=\"line2d_6\">\n      <g>\n       <use xlink:href=\"#me6d89a4666\" x=\"372.825893\" y=\"247.936406\" style=\"fill: #323034; stroke: #323034; stroke-width: 0.8\"/>\n      </g>\n     </g>\n     <g id=\"text_6\">\n      <!-- $\\mathdefault{500}$ -->\n      <g style=\"fill: #323034\" transform=\"translate(360.825893 265.863906)scale(0.16 -0.16)\">\n       <defs>\n        <path id=\"STIXGeneral-Regular-35\" d=\"M 2803 4358 \nL 2573 3814 \nQ 2534 3731 2400 3731 \nL 1158 3731 \nL 902 3187 \nQ 1606 3053 1920 2896 \nQ 2234 2739 2502 2368 \nQ 2726 2061 2726 1555 \nQ 2726 1094 2576 780 \nQ 2426 467 2099 224 \nQ 1664 -90 1011 -90 \nQ 646 -90 422 19 \nQ 198 128 198 307 \nQ 198 550 486 550 \nQ 717 550 960 352 \nQ 1210 147 1414 147 \nQ 1747 147 2012 480 \nQ 2278 813 2278 1229 \nQ 2278 1843 1850 2189 \nQ 1293 2637 486 2637 \nQ 410 2637 410 2688 \nL 416 2720 \nL 1114 4237 \nL 2438 4237 \nQ 2547 4237 2608 4269 \nQ 2669 4301 2746 4403 \nL 2803 4358 \nz\n\" transform=\"scale(0.015625)\"/>\n       </defs>\n       <use xlink:href=\"#STIXGeneral-Regular-35\" transform=\"translate(0 0.203125)\"/>\n       <use xlink:href=\"#STIXGeneral-Regular-30\" transform=\"translate(49.999985 0.203125)\"/>\n       <use xlink:href=\"#STIXGeneral-Regular-30\" transform=\"translate(99.999969 0.203125)\"/>\n      </g>\n     </g>\n    </g>\n    <g id=\"xtick_7\">\n     <g id=\"line2d_7\">\n      <g>\n       <use xlink:href=\"#me6d89a4666\" x=\"436.597321\" y=\"247.936406\" style=\"fill: #323034; stroke: #323034; stroke-width: 0.8\"/>\n      </g>\n     </g>\n     <g id=\"text_7\">\n      <!-- $\\mathdefault{600}$ -->\n      <g style=\"fill: #323034\" transform=\"translate(424.597321 265.863906)scale(0.16 -0.16)\">\n       <defs>\n        <path id=\"STIXGeneral-Regular-36\" d=\"M 2854 4378 \nL 2867 4275 \nQ 2112 4154 1606 3664 \nQ 1101 3174 973 2451 \nQ 1344 2739 1786 2739 \nQ 2349 2739 2672 2380 \nQ 2995 2022 2995 1402 \nQ 2995 774 2669 378 \nQ 2291 -90 1651 -90 \nQ 870 -90 518 557 \nQ 218 1107 218 1786 \nQ 218 2835 915 3552 \nQ 1312 3962 1731 4131 \nQ 2150 4301 2854 4378 \nz\nM 2419 1203 \nQ 2419 2445 1555 2445 \nQ 1235 2445 1024 2275 \nQ 813 2106 813 1702 \nQ 813 954 1046 522 \nQ 1280 90 1722 90 \nQ 2061 90 2240 394 \nQ 2419 698 2419 1203 \nz\n\" transform=\"scale(0.015625)\"/>\n       </defs>\n       <use xlink:href=\"#STIXGeneral-Regular-36\" transform=\"translate(0 0.59375)\"/>\n       <use xlink:href=\"#STIXGeneral-Regular-30\" transform=\"translate(49.999985 0.59375)\"/>\n       <use xlink:href=\"#STIXGeneral-Regular-30\" transform=\"translate(99.999969 0.59375)\"/>\n      </g>\n     </g>\n    </g>\n    <g id=\"xtick_8\">\n     <g id=\"line2d_8\">\n      <g>\n       <use xlink:href=\"#me6d89a4666\" x=\"500.36875\" y=\"247.936406\" style=\"fill: #323034; stroke: #323034; stroke-width: 0.8\"/>\n      </g>\n     </g>\n     <g id=\"text_8\">\n      <!-- $\\mathdefault{700}$ -->\n      <g style=\"fill: #323034\" transform=\"translate(488.36875 265.863906)scale(0.16 -0.16)\">\n       <defs>\n        <path id=\"STIXGeneral-Regular-37\" d=\"M 2874 4134 \nL 1517 -51 \nL 1101 -51 \nL 2368 3763 \nL 992 3763 \nQ 717 3763 582 3667 \nQ 448 3571 243 3238 \nL 128 3296 \nL 512 4237 \nL 2874 4237 \nL 2874 4134 \nz\n\" transform=\"scale(0.015625)\"/>\n       </defs>\n       <use xlink:href=\"#STIXGeneral-Regular-37\" transform=\"translate(0 0.40625)\"/>\n       <use xlink:href=\"#STIXGeneral-Regular-30\" transform=\"translate(49.999985 0.40625)\"/>\n       <use xlink:href=\"#STIXGeneral-Regular-30\" transform=\"translate(99.999969 0.40625)\"/>\n      </g>\n     </g>\n    </g>\n    <g id=\"text_9\">\n     <!-- Count of terms in corpus -->\n     <g transform=\"translate(197.61625 283.263906)scale(0.16 -0.16)\">\n      <defs>\n       <path id=\"STIXGeneral-Regular-43\" d=\"M 3930 838 \nL 4051 723 \nQ 3482 -90 2304 -90 \nQ 1376 -90 794 480 \nQ 179 1082 179 2080 \nQ 179 3014 755 3661 \nQ 1357 4326 2310 4326 \nQ 2720 4326 3072 4230 \nQ 3475 4115 3514 4115 \nQ 3725 4115 3782 4326 \nL 3910 4326 \nL 3968 2874 \nL 3821 2874 \nQ 3718 3334 3488 3584 \nQ 3034 4070 2458 4070 \nQ 1747 4070 1334 3548 \nQ 922 3027 922 2182 \nQ 922 1152 1382 653 \nQ 1811 192 2522 192 \nQ 2944 192 3251 339 \nQ 3558 486 3930 838 \nz\n\" transform=\"scale(0.015625)\"/>\n       <path id=\"STIXGeneral-Regular-6f\" d=\"M 3008 1478 \nQ 3008 806 2608 371 \nQ 2208 -64 1568 -64 \nQ 979 -64 582 368 \nQ 186 800 186 1459 \nQ 186 2125 582 2534 \nQ 979 2944 1626 2944 \nQ 2221 2944 2614 2537 \nQ 3008 2131 3008 1478 \nz\nM 2432 1306 \nQ 2432 2035 2112 2445 \nQ 1856 2765 1504 2765 \nQ 1171 2765 966 2493 \nQ 762 2221 762 1747 \nQ 762 928 1101 435 \nQ 1318 115 1677 115 \nQ 2029 115 2230 432 \nQ 2432 749 2432 1306 \nz\n\" transform=\"scale(0.015625)\"/>\n       <path id=\"STIXGeneral-Regular-75\" d=\"M 3072 320 \nL 3072 230 \nQ 2573 96 2195 -58 \nL 2163 -38 \nL 2163 486 \nL 2150 486 \nQ 1747 -64 1235 -64 \nQ 870 -64 662 160 \nQ 454 384 454 755 \nL 454 2362 \nQ 454 2598 371 2688 \nQ 288 2778 58 2790 \nL 58 2880 \nL 992 2880 \nL 992 813 \nQ 992 595 1123 451 \nQ 1254 307 1446 307 \nQ 1760 307 1984 506 \nQ 2067 582 2099 649 \nQ 2131 717 2131 877 \nL 2131 2355 \nQ 2131 2605 2041 2678 \nQ 1952 2752 1658 2771 \nL 1658 2880 \nL 2669 2880 \nL 2669 685 \nQ 2669 461 2742 390 \nQ 2816 320 3034 320 \nL 3072 320 \nz\n\" transform=\"scale(0.015625)\"/>\n       <path id=\"STIXGeneral-Regular-6e\" d=\"M 3104 0 \nL 1773 0 \nL 1779 96 \nQ 2016 115 2096 233 \nQ 2176 352 2176 672 \nL 2176 1946 \nQ 2176 2592 1709 2592 \nQ 1549 2592 1408 2515 \nQ 1267 2438 1050 2227 \nL 1050 461 \nQ 1050 269 1136 192 \nQ 1222 115 1466 96 \nL 1466 0 \nL 115 0 \nL 115 96 \nQ 358 115 435 214 \nQ 512 314 512 602 \nL 512 2157 \nQ 512 2394 467 2483 \nQ 422 2573 288 2573 \nQ 160 2573 102 2547 \nL 102 2656 \nQ 550 2784 979 2944 \nL 1030 2925 \nL 1030 2426 \nL 1037 2426 \nQ 1491 2944 1958 2944 \nQ 2323 2944 2518 2688 \nQ 2714 2432 2714 1958 \nL 2714 544 \nQ 2714 288 2790 205 \nQ 2867 122 3104 96 \nL 3104 0 \nz\n\" transform=\"scale(0.015625)\"/>\n       <path id=\"STIXGeneral-Regular-74\" d=\"M 1702 493 \nL 1786 422 \nQ 1478 -64 1011 -64 \nQ 448 -64 448 749 \nL 448 2675 \nL 109 2675 \nQ 83 2694 83 2720 \nQ 83 2771 192 2842 \nQ 435 2982 813 3526 \nQ 826 3546 874 3606 \nQ 922 3667 941 3706 \nQ 986 3706 986 3622 \nL 986 2880 \nL 1632 2880 \nL 1632 2675 \nL 986 2675 \nL 986 845 \nQ 986 538 1062 403 \nQ 1139 269 1318 269 \nQ 1510 269 1702 493 \nz\n\" transform=\"scale(0.015625)\"/>\n       <path id=\"STIXGeneral-Regular-20\" transform=\"scale(0.015625)\"/>\n       <path id=\"STIXGeneral-Regular-66\" d=\"M 134 2880 \nL 659 2880 \nQ 666 3264 710 3478 \nQ 755 3693 883 3910 \nQ 1152 4371 1786 4371 \nQ 2074 4371 2262 4259 \nQ 2451 4147 2451 3974 \nQ 2451 3866 2374 3789 \nQ 2298 3712 2182 3712 \nQ 2029 3712 1894 3942 \nQ 1741 4192 1555 4192 \nQ 1197 4192 1197 3622 \nL 1197 2880 \nL 1978 2880 \nL 1978 2675 \nL 1197 2675 \nL 1197 666 \nQ 1197 307 1299 208 \nQ 1402 109 1792 96 \nL 1792 0 \nL 128 0 \nL 128 96 \nQ 474 115 566 214 \nQ 659 314 659 666 \nL 659 2675 \nL 134 2675 \nL 134 2880 \nz\n\" transform=\"scale(0.015625)\"/>\n       <path id=\"STIXGeneral-Regular-65\" d=\"M 2611 1050 \nL 2714 1005 \nQ 2330 -64 1376 -64 \nQ 813 -64 486 329 \nQ 160 723 160 1389 \nQ 160 2074 525 2509 \nQ 890 2944 1485 2944 \nQ 2061 2944 2374 2502 \nQ 2560 2246 2592 1773 \nL 621 1773 \nQ 646 1370 700 1158 \nQ 755 947 915 730 \nQ 1184 378 1626 378 \nQ 1939 378 2153 531 \nQ 2368 685 2611 1050 \nz\nM 634 1978 \nL 1939 1978 \nQ 1882 2381 1750 2547 \nQ 1619 2714 1312 2714 \nQ 1043 2714 864 2525 \nQ 685 2336 634 1978 \nz\n\" transform=\"scale(0.015625)\"/>\n       <path id=\"STIXGeneral-Regular-72\" d=\"M 1024 2931 \nL 1024 2342 \nQ 1267 2688 1430 2816 \nQ 1594 2944 1792 2944 \nQ 1958 2944 2051 2854 \nQ 2144 2765 2144 2605 \nQ 2144 2470 2077 2393 \nQ 2010 2317 1894 2317 \nQ 1773 2317 1638 2445 \nQ 1536 2541 1472 2541 \nQ 1338 2541 1181 2355 \nQ 1024 2170 1024 2016 \nL 1024 576 \nQ 1024 301 1133 205 \nQ 1242 109 1568 96 \nL 1568 0 \nL 32 0 \nL 32 96 \nQ 339 154 412 224 \nQ 486 294 486 538 \nL 486 2138 \nQ 486 2349 438 2435 \nQ 390 2522 269 2522 \nQ 166 2522 45 2496 \nL 45 2598 \nQ 448 2726 992 2944 \nL 1024 2931 \nz\n\" transform=\"scale(0.015625)\"/>\n       <path id=\"STIXGeneral-Regular-6d\" d=\"M 4960 0 \nL 3565 0 \nL 3565 96 \nQ 3834 122 3907 208 \nQ 3981 294 3981 576 \nL 3981 1894 \nQ 3981 2278 3869 2444 \nQ 3757 2611 3488 2611 \nQ 3264 2611 3107 2521 \nQ 2950 2432 2803 2221 \nL 2803 608 \nQ 2803 301 2896 201 \nQ 2989 102 3264 96 \nL 3264 0 \nL 1830 0 \nL 1830 96 \nQ 2112 115 2189 188 \nQ 2266 262 2266 550 \nL 2266 1901 \nQ 2266 2611 1850 2611 \nQ 1670 2611 1468 2531 \nQ 1267 2451 1171 2336 \nQ 1088 2240 1088 2227 \nL 1088 448 \nQ 1088 243 1177 176 \nQ 1267 109 1523 96 \nL 1523 0 \nL 102 0 \nL 102 96 \nQ 371 102 460 195 \nQ 550 288 550 563 \nL 550 2150 \nQ 550 2387 499 2480 \nQ 448 2573 326 2573 \nQ 230 2573 122 2547 \nL 122 2656 \nQ 557 2778 1011 2944 \nL 1062 2925 \nL 1062 2451 \nL 1075 2451 \nQ 1363 2752 1584 2848 \nQ 1805 2944 2054 2944 \nQ 2560 2944 2733 2406 \nQ 3232 2944 3776 2944 \nQ 4518 2944 4518 1792 \nL 4518 493 \nQ 4518 282 4582 202 \nQ 4646 122 4794 109 \nL 4960 96 \nL 4960 0 \nz\n\" transform=\"scale(0.015625)\"/>\n       <path id=\"STIXGeneral-Regular-73\" d=\"M 998 1926 \nL 1664 1523 \nQ 1984 1331 2105 1164 \nQ 2227 998 2227 736 \nQ 2227 416 1961 176 \nQ 1696 -64 1331 -64 \nQ 1030 -64 864 -6 \nQ 691 51 570 51 \nQ 461 51 416 -26 \nL 333 -26 \nL 333 979 \nL 435 979 \nQ 538 512 730 294 \nQ 922 77 1248 77 \nQ 1485 77 1632 211 \nQ 1779 346 1779 550 \nQ 1779 845 1440 1030 \nL 1094 1222 \nQ 326 1651 326 2150 \nQ 326 2522 566 2730 \nQ 806 2938 1210 2938 \nQ 1491 2938 1638 2867 \nQ 1754 2816 1818 2816 \nQ 1862 2816 1920 2880 \nL 1990 2880 \nL 2022 2010 \nL 1926 2010 \nQ 1818 2445 1654 2621 \nQ 1491 2797 1203 2797 \nQ 986 2797 854 2688 \nQ 723 2579 723 2362 \nQ 723 2253 796 2128 \nQ 870 2003 998 1926 \nz\n\" transform=\"scale(0.015625)\"/>\n       <path id=\"STIXGeneral-Regular-69\" d=\"M 1152 4045 \nQ 1152 3904 1056 3811 \nQ 960 3718 819 3718 \nQ 685 3718 592 3811 \nQ 499 3904 499 4045 \nQ 499 4179 595 4275 \nQ 691 4371 826 4371 \nQ 966 4371 1059 4275 \nQ 1152 4179 1152 4045 \nz\nM 1619 0 \nL 102 0 \nL 102 96 \nQ 435 115 521 211 \nQ 608 307 608 666 \nL 608 2118 \nQ 608 2342 563 2432 \nQ 518 2522 397 2522 \nQ 243 2522 128 2490 \nL 128 2592 \nL 1120 2944 \nL 1146 2918 \nL 1146 672 \nQ 1146 314 1226 218 \nQ 1306 122 1619 96 \nL 1619 0 \nz\n\" transform=\"scale(0.015625)\"/>\n       <path id=\"STIXGeneral-Regular-63\" d=\"M 2547 998 \nL 2637 941 \nQ 2362 403 2112 205 \nQ 1786 -64 1376 -64 \nQ 845 -64 502 336 \nQ 160 736 160 1357 \nQ 160 2170 698 2618 \nQ 1094 2944 1562 2944 \nQ 1965 2944 2256 2749 \nQ 2547 2554 2547 2285 \nQ 2547 2176 2457 2096 \nQ 2368 2016 2246 2016 \nQ 2022 2016 1939 2310 \nL 1901 2451 \nQ 1850 2630 1773 2694 \nQ 1696 2758 1523 2758 \nQ 1133 2758 893 2451 \nQ 653 2144 653 1645 \nQ 653 1094 928 745 \nQ 1203 397 1645 397 \nQ 1920 397 2118 528 \nQ 2317 659 2547 998 \nz\n\" transform=\"scale(0.015625)\"/>\n       <path id=\"STIXGeneral-Regular-70\" d=\"M 1018 2931 \nL 1018 2438 \nQ 1421 2944 1939 2944 \nQ 2406 2944 2707 2560 \nQ 3008 2176 3008 1581 \nQ 3008 883 2621 409 \nQ 2234 -64 1664 -64 \nQ 1466 -64 1328 -6 \nQ 1190 51 1018 211 \nL 1018 -794 \nQ 1018 -1094 1120 -1180 \nQ 1222 -1267 1581 -1274 \nL 1581 -1389 \nL 32 -1389 \nL 32 -1280 \nQ 314 -1254 397 -1171 \nQ 480 -1088 480 -838 \nL 480 2157 \nQ 480 2381 429 2451 \nQ 378 2522 218 2522 \nQ 115 2522 58 2515 \nL 58 2618 \nQ 506 2752 979 2944 \nL 1018 2931 \nz\nM 1018 2138 \nL 1018 563 \nQ 1018 422 1238 281 \nQ 1459 141 1683 141 \nQ 2029 141 2243 467 \nQ 2458 794 2458 1325 \nQ 2458 1888 2243 2224 \nQ 2029 2560 1670 2560 \nQ 1446 2560 1232 2419 \nQ 1018 2278 1018 2138 \nz\n\" transform=\"scale(0.015625)\"/>\n      </defs>\n      <use xlink:href=\"#STIXGeneral-Regular-43\"/>\n      <use xlink:href=\"#STIXGeneral-Regular-6f\" x=\"66.699997\"/>\n      <use xlink:href=\"#STIXGeneral-Regular-75\" x=\"116.699982\"/>\n      <use xlink:href=\"#STIXGeneral-Regular-6e\" x=\"166.699966\"/>\n      <use xlink:href=\"#STIXGeneral-Regular-74\" x=\"216.699951\"/>\n      <use xlink:href=\"#STIXGeneral-Regular-20\" x=\"244.499939\"/>\n      <use xlink:href=\"#STIXGeneral-Regular-6f\" x=\"269.499924\"/>\n      <use xlink:href=\"#STIXGeneral-Regular-66\" x=\"319.499908\"/>\n      <use xlink:href=\"#STIXGeneral-Regular-20\" x=\"352.799896\"/>\n      <use xlink:href=\"#STIXGeneral-Regular-74\" x=\"377.799881\"/>\n      <use xlink:href=\"#STIXGeneral-Regular-65\" x=\"405.599869\"/>\n      <use xlink:href=\"#STIXGeneral-Regular-72\" x=\"449.999863\"/>\n      <use xlink:href=\"#STIXGeneral-Regular-6d\" x=\"483.29985\"/>\n      <use xlink:href=\"#STIXGeneral-Regular-73\" x=\"561.099838\"/>\n      <use xlink:href=\"#STIXGeneral-Regular-20\" x=\"599.999832\"/>\n      <use xlink:href=\"#STIXGeneral-Regular-69\" x=\"624.999817\"/>\n      <use xlink:href=\"#STIXGeneral-Regular-6e\" x=\"652.799805\"/>\n      <use xlink:href=\"#STIXGeneral-Regular-20\" x=\"702.799789\"/>\n      <use xlink:href=\"#STIXGeneral-Regular-63\" x=\"727.799774\"/>\n      <use xlink:href=\"#STIXGeneral-Regular-6f\" x=\"772.199768\"/>\n      <use xlink:href=\"#STIXGeneral-Regular-72\" x=\"822.199753\"/>\n      <use xlink:href=\"#STIXGeneral-Regular-70\" x=\"855.499741\"/>\n      <use xlink:href=\"#STIXGeneral-Regular-75\" x=\"905.499725\"/>\n      <use xlink:href=\"#STIXGeneral-Regular-73\" x=\"955.49971\"/>\n     </g>\n    </g>\n   </g>\n   <g id=\"matplotlib.axis_2\">\n    <g id=\"ytick_1\">\n     <g id=\"line2d_9\">\n      <defs>\n       <path id=\"m7b0750be93\" d=\"M 0 0 \nL -3.5 0 \n\" style=\"stroke: #323034; stroke-width: 0.8\"/>\n      </defs>\n      <g>\n       <use xlink:href=\"#m7b0750be93\" x=\"53.96875\" y=\"216.256406\" style=\"fill: #323034; stroke: #323034; stroke-width: 0.8\"/>\n      </g>\n     </g>\n     <g id=\"text_10\">\n      <!-- labour -->\n      <g style=\"fill: #323034\" transform=\"translate(26.52875 218.988281)scale(0.08 -0.08)\">\n       <defs>\n        <path id=\"STIXGeneral-Regular-6c\" d=\"M 1645 0 \nL 134 0 \nL 134 96 \nQ 435 122 531 221 \nQ 627 320 627 589 \nL 627 3590 \nQ 627 3821 569 3910 \nQ 512 4000 358 4000 \nQ 224 4000 122 3987 \nL 122 4090 \nQ 730 4237 1133 4371 \nL 1165 4346 \nL 1165 557 \nQ 1165 288 1254 201 \nQ 1344 115 1645 96 \nL 1645 0 \nz\n\" transform=\"scale(0.015625)\"/>\n        <path id=\"STIXGeneral-Regular-61\" d=\"M 2829 422 \nL 2829 243 \nQ 2586 -64 2253 -64 \nQ 1888 -64 1843 403 \nL 1837 403 \nQ 1427 -64 909 -64 \nQ 608 -64 422 112 \nQ 237 288 237 602 \nQ 237 1050 685 1350 \nQ 992 1555 1837 1869 \nL 1837 2214 \nQ 1837 2502 1699 2646 \nQ 1562 2790 1338 2790 \nQ 1146 2790 1018 2697 \nQ 890 2605 890 2477 \nQ 890 2419 909 2348 \nQ 928 2278 928 2208 \nQ 928 2112 841 2029 \nQ 755 1946 634 1946 \nQ 525 1946 441 2029 \nQ 358 2112 358 2240 \nQ 358 2547 685 2752 \nQ 986 2944 1421 2944 \nQ 1939 2944 2176 2656 \nQ 2291 2522 2323 2384 \nQ 2355 2246 2355 1946 \nL 2355 723 \nQ 2355 301 2554 301 \nQ 2682 301 2829 422 \nz\nM 1837 813 \nL 1837 1715 \nQ 1248 1510 1018 1293 \nQ 800 1094 800 800 \nQ 800 557 921 432 \nQ 1043 307 1242 307 \nQ 1453 307 1613 410 \nQ 1747 506 1792 589 \nQ 1837 672 1837 813 \nz\n\" transform=\"scale(0.015625)\"/>\n        <path id=\"STIXGeneral-Regular-62\" d=\"M 979 4358 \nL 979 2406 \nQ 1082 2650 1315 2797 \nQ 1549 2944 1843 2944 \nQ 2349 2944 2672 2541 \nQ 2995 2138 2995 1536 \nQ 2995 832 2566 384 \nQ 2138 -64 1498 -64 \nQ 1107 -64 774 67 \nQ 442 198 442 358 \nL 442 3622 \nQ 442 3859 384 3926 \nQ 326 3994 128 3994 \nQ 83 3994 19 3981 \nL 19 4090 \nL 211 4147 \nQ 864 4346 947 4371 \nL 979 4358 \nz\nM 979 2035 \nL 979 474 \nQ 979 326 1161 233 \nQ 1344 141 1600 141 \nQ 1978 141 2195 416 \nQ 2432 710 2432 1261 \nQ 2432 1888 2182 2240 \nQ 1971 2541 1613 2541 \nQ 1357 2541 1168 2390 \nQ 979 2240 979 2035 \nz\n\" transform=\"scale(0.015625)\"/>\n       </defs>\n       <use xlink:href=\"#STIXGeneral-Regular-6c\"/>\n       <use xlink:href=\"#STIXGeneral-Regular-61\" x=\"27.799988\"/>\n       <use xlink:href=\"#STIXGeneral-Regular-62\" x=\"72.199982\"/>\n       <use xlink:href=\"#STIXGeneral-Regular-6f\" x=\"122.199966\"/>\n       <use xlink:href=\"#STIXGeneral-Regular-75\" x=\"172.199951\"/>\n       <use xlink:href=\"#STIXGeneral-Regular-72\" x=\"222.199936\"/>\n      </g>\n     </g>\n    </g>\n    <g id=\"ytick_2\">\n     <g id=\"line2d_10\">\n      <g>\n       <use xlink:href=\"#m7b0750be93\" x=\"53.96875\" y=\"184.576406\" style=\"fill: #323034; stroke: #323034; stroke-width: 0.8\"/>\n      </g>\n     </g>\n     <g id=\"text_11\">\n      <!-- work -->\n      <g style=\"fill: #323034\" transform=\"translate(30.52875 187.308281)scale(0.08 -0.08)\">\n       <defs>\n        <path id=\"STIXGeneral-Regular-77\" d=\"M 4442 2880 \nL 4442 2784 \nQ 4346 2752 4301 2691 \nQ 4256 2630 4179 2438 \nL 3296 224 \nQ 3168 -90 3117 -90 \nQ 3085 -90 3062 -48 \nQ 3040 -6 2963 186 \nL 2381 1696 \nL 1664 160 \nQ 1549 -90 1504 -90 \nQ 1446 -90 1338 192 \nL 474 2381 \nQ 378 2630 314 2700 \nQ 250 2771 134 2784 \nL 134 2880 \nL 1286 2880 \nL 1286 2784 \nQ 1120 2765 1056 2720 \nQ 992 2675 992 2573 \nQ 992 2477 1030 2381 \nL 1664 710 \nL 2246 1984 \nL 2118 2342 \nQ 2029 2598 1942 2681 \nQ 1856 2765 1677 2784 \nL 1677 2880 \nL 2976 2880 \nL 2976 2784 \nQ 2752 2752 2678 2707 \nQ 2605 2662 2605 2560 \nQ 2605 2458 2714 2176 \nL 3251 742 \nL 3827 2163 \nQ 3936 2432 3936 2592 \nQ 3936 2669 3875 2710 \nQ 3814 2752 3654 2784 \nL 3654 2880 \nL 4442 2880 \nz\n\" transform=\"scale(0.015625)\"/>\n        <path id=\"STIXGeneral-Regular-6b\" d=\"M 3232 0 \nL 1837 0 \nL 1837 96 \nL 1958 96 \nQ 2093 96 2093 192 \nQ 2093 250 2022 339 \nL 1062 1606 \nL 1062 429 \nQ 1062 262 1142 185 \nQ 1222 109 1414 102 \nL 1542 96 \nL 1542 0 \nL 45 0 \nL 45 96 \nQ 390 154 457 214 \nQ 525 275 525 525 \nL 525 3610 \nQ 525 3840 467 3920 \nQ 410 4000 250 4000 \nQ 211 4000 45 3987 \nL 45 4090 \nL 237 4141 \nQ 621 4243 1037 4371 \nL 1062 4358 \nL 1062 1670 \nL 1939 2451 \nQ 2086 2586 2086 2675 \nQ 2086 2739 2019 2761 \nQ 1952 2784 1766 2790 \nL 1766 2880 \nL 3072 2880 \nL 3072 2784 \nQ 2752 2784 2505 2646 \nQ 2259 2509 1690 1978 \nL 1504 1805 \nL 2483 563 \nQ 2829 122 3232 96 \nL 3232 0 \nz\n\" transform=\"scale(0.015625)\"/>\n       </defs>\n       <use xlink:href=\"#STIXGeneral-Regular-77\"/>\n       <use xlink:href=\"#STIXGeneral-Regular-6f\" x=\"72.199982\"/>\n       <use xlink:href=\"#STIXGeneral-Regular-72\" x=\"122.199966\"/>\n       <use xlink:href=\"#STIXGeneral-Regular-6b\" x=\"155.499954\"/>\n      </g>\n     </g>\n    </g>\n    <g id=\"ytick_3\">\n     <g id=\"line2d_11\">\n      <g>\n       <use xlink:href=\"#m7b0750be93\" x=\"53.96875\" y=\"152.896406\" style=\"fill: #323034; stroke: #323034; stroke-width: 0.8\"/>\n      </g>\n     </g>\n     <g id=\"text_12\">\n      <!-- money price -->\n      <g style=\"fill: #323034\" transform=\"translate(7.2 155.628281)scale(0.08 -0.08)\">\n       <defs>\n        <path id=\"STIXGeneral-Regular-79\" d=\"M 3040 2880 \nL 3040 2784 \nQ 2925 2771 2854 2700 \nQ 2784 2630 2720 2458 \nL 1760 -160 \nQ 1510 -838 1257 -1116 \nQ 1005 -1395 640 -1395 \nQ 435 -1395 313 -1289 \nQ 192 -1184 192 -1024 \nQ 192 -902 272 -816 \nQ 352 -730 467 -730 \nQ 653 -730 800 -813 \nQ 883 -858 966 -858 \nQ 1101 -858 1286 -576 \nQ 1376 -448 1459 -211 \nQ 1542 26 1542 115 \nQ 1542 198 1274 762 \nL 429 2566 \nQ 346 2752 90 2790 \nL 90 2880 \nL 1402 2880 \nL 1402 2784 \nQ 1197 2778 1117 2739 \nQ 1037 2701 1037 2611 \nQ 1037 2541 1120 2349 \nL 1837 749 \nL 2458 2515 \nQ 2483 2573 2483 2630 \nQ 2483 2784 2189 2784 \nL 2189 2880 \nL 3040 2880 \nz\n\" transform=\"scale(0.015625)\"/>\n       </defs>\n       <use xlink:href=\"#STIXGeneral-Regular-6d\"/>\n       <use xlink:href=\"#STIXGeneral-Regular-6f\" x=\"77.799988\"/>\n       <use xlink:href=\"#STIXGeneral-Regular-6e\" x=\"127.799973\"/>\n       <use xlink:href=\"#STIXGeneral-Regular-65\" x=\"177.799957\"/>\n       <use xlink:href=\"#STIXGeneral-Regular-79\" x=\"222.199951\"/>\n       <use xlink:href=\"#STIXGeneral-Regular-20\" x=\"272.199936\"/>\n       <use xlink:href=\"#STIXGeneral-Regular-70\" x=\"297.199921\"/>\n       <use xlink:href=\"#STIXGeneral-Regular-72\" x=\"347.199905\"/>\n       <use xlink:href=\"#STIXGeneral-Regular-69\" x=\"380.499893\"/>\n       <use xlink:href=\"#STIXGeneral-Regular-63\" x=\"408.299881\"/>\n       <use xlink:href=\"#STIXGeneral-Regular-65\" x=\"452.699875\"/>\n      </g>\n     </g>\n    </g>\n    <g id=\"ytick_4\">\n     <g id=\"line2d_12\">\n      <g>\n       <use xlink:href=\"#m7b0750be93\" x=\"53.96875\" y=\"121.216406\" style=\"fill: #323034; stroke: #323034; stroke-width: 0.8\"/>\n      </g>\n     </g>\n     <g id=\"text_13\">\n      <!-- real price -->\n      <g style=\"fill: #323034\" transform=\"translate(16.98375 123.948281)scale(0.08 -0.08)\">\n       <use xlink:href=\"#STIXGeneral-Regular-72\"/>\n       <use xlink:href=\"#STIXGeneral-Regular-65\" x=\"33.299988\"/>\n       <use xlink:href=\"#STIXGeneral-Regular-61\" x=\"77.699982\"/>\n       <use xlink:href=\"#STIXGeneral-Regular-6c\" x=\"122.099976\"/>\n       <use xlink:href=\"#STIXGeneral-Regular-20\" x=\"149.899963\"/>\n       <use xlink:href=\"#STIXGeneral-Regular-70\" x=\"174.899948\"/>\n       <use xlink:href=\"#STIXGeneral-Regular-72\" x=\"224.899933\"/>\n       <use xlink:href=\"#STIXGeneral-Regular-69\" x=\"258.199921\"/>\n       <use xlink:href=\"#STIXGeneral-Regular-63\" x=\"285.999908\"/>\n       <use xlink:href=\"#STIXGeneral-Regular-65\" x=\"330.399902\"/>\n      </g>\n     </g>\n    </g>\n    <g id=\"ytick_5\">\n     <g id=\"line2d_13\">\n      <g>\n       <use xlink:href=\"#m7b0750be93\" x=\"53.96875\" y=\"89.536406\" style=\"fill: #323034; stroke: #323034; stroke-width: 0.8\"/>\n      </g>\n     </g>\n     <g id=\"text_14\">\n      <!-- wage -->\n      <g style=\"fill: #323034\" transform=\"translate(30.0875 92.264531)scale(0.08 -0.08)\">\n       <defs>\n        <path id=\"STIXGeneral-Regular-67\" d=\"M 3008 2483 \nL 2477 2483 \nQ 2598 2208 2598 1946 \nQ 2598 1453 2265 1203 \nQ 1933 954 1600 954 \nQ 1530 954 1357 973 \nL 1235 986 \nQ 1107 947 979 812 \nQ 851 678 851 582 \nQ 851 435 1350 410 \nL 2176 371 \nQ 2528 358 2739 172 \nQ 2950 -13 2950 -314 \nQ 2950 -685 2566 -986 \nQ 2035 -1395 1286 -1395 \nQ 826 -1395 502 -1212 \nQ 179 -1030 179 -774 \nQ 179 -595 320 -419 \nQ 461 -243 806 6 \nQ 602 102 534 172 \nQ 467 243 467 346 \nQ 467 531 762 787 \nQ 909 915 1037 1043 \nQ 717 1203 579 1401 \nQ 442 1600 442 1901 \nQ 442 2336 752 2640 \nQ 1062 2944 1510 2944 \nQ 1766 2944 2022 2848 \nL 2163 2797 \nQ 2349 2733 2515 2733 \nL 3008 2733 \nL 3008 2483 \nz\nM 973 2163 \nL 973 2144 \nQ 973 1683 1155 1398 \nQ 1338 1114 1632 1114 \nQ 1850 1114 1978 1270 \nQ 2106 1427 2106 1690 \nQ 2106 2112 1914 2464 \nQ 1754 2765 1446 2765 \nQ 1222 2765 1097 2605 \nQ 973 2445 973 2163 \nz\nM 2771 -410 \nQ 2771 -230 2595 -163 \nQ 2419 -96 1978 -96 \nQ 1344 -96 941 -13 \nQ 749 -243 688 -348 \nQ 627 -454 627 -563 \nQ 627 -774 880 -902 \nQ 1133 -1030 1555 -1030 \nQ 2099 -1030 2435 -860 \nQ 2771 -691 2771 -410 \nz\n\" transform=\"scale(0.015625)\"/>\n       </defs>\n       <use xlink:href=\"#STIXGeneral-Regular-77\"/>\n       <use xlink:href=\"#STIXGeneral-Regular-61\" x=\"72.199982\"/>\n       <use xlink:href=\"#STIXGeneral-Regular-67\" x=\"116.599976\"/>\n       <use xlink:href=\"#STIXGeneral-Regular-65\" x=\"166.59996\"/>\n      </g>\n     </g>\n    </g>\n    <g id=\"ytick_6\">\n     <g id=\"line2d_14\">\n      <g>\n       <use xlink:href=\"#m7b0750be93\" x=\"53.96875\" y=\"57.856406\" style=\"fill: #323034; stroke: #323034; stroke-width: 0.8\"/>\n      </g>\n     </g>\n     <g id=\"text_15\">\n      <!-- productivity -->\n      <g style=\"fill: #323034\" transform=\"translate(7.8575 60.588281)scale(0.08 -0.08)\">\n       <defs>\n        <path id=\"STIXGeneral-Regular-64\" d=\"M 3142 269 \nL 2202 -64 \nL 2176 -45 \nL 2176 365 \nQ 1869 -64 1357 -64 \nQ 826 -64 499 317 \nQ 173 698 173 1312 \nQ 173 1990 563 2467 \nQ 954 2944 1504 2944 \nQ 1850 2944 2176 2669 \nL 2176 3667 \nQ 2176 3866 2118 3930 \nQ 2061 3994 1882 3994 \nQ 1792 3994 1741 3987 \nL 1741 4090 \nQ 2323 4243 2682 4371 \nL 2714 4358 \nL 2714 730 \nQ 2714 506 2768 435 \nQ 2822 365 2995 365 \nQ 3034 365 3142 371 \nL 3142 269 \nz\nM 2176 653 \nL 2176 2125 \nQ 2176 2381 1981 2573 \nQ 1786 2765 1523 2765 \nQ 1158 2765 940 2438 \nQ 723 2112 723 1568 \nQ 723 979 963 624 \nQ 1203 269 1606 269 \nQ 1907 269 2080 474 \nQ 2176 582 2176 653 \nz\n\" transform=\"scale(0.015625)\"/>\n        <path id=\"STIXGeneral-Regular-76\" d=\"M 3053 2880 \nL 3053 2784 \nQ 2906 2771 2835 2688 \nQ 2765 2605 2637 2285 \nL 1818 230 \nQ 1690 -90 1638 -90 \nQ 1587 -90 1523 77 \nQ 1510 96 1497 141 \nQ 1485 186 1472 211 \nL 704 2048 \nQ 499 2534 403 2652 \nQ 307 2771 122 2784 \nL 122 2880 \nL 1376 2880 \nL 1376 2784 \nQ 1210 2771 1146 2732 \nQ 1082 2694 1082 2611 \nQ 1082 2509 1139 2368 \nL 1792 730 \nL 2426 2387 \nQ 2464 2483 2464 2579 \nQ 2464 2758 2163 2784 \nL 2163 2880 \nL 3053 2880 \nz\n\" transform=\"scale(0.015625)\"/>\n       </defs>\n       <use xlink:href=\"#STIXGeneral-Regular-70\"/>\n       <use xlink:href=\"#STIXGeneral-Regular-72\" x=\"49.999985\"/>\n       <use xlink:href=\"#STIXGeneral-Regular-6f\" x=\"83.299973\"/>\n       <use xlink:href=\"#STIXGeneral-Regular-64\" x=\"133.299957\"/>\n       <use xlink:href=\"#STIXGeneral-Regular-75\" x=\"183.299942\"/>\n       <use xlink:href=\"#STIXGeneral-Regular-63\" x=\"233.299927\"/>\n       <use xlink:href=\"#STIXGeneral-Regular-74\" x=\"277.699921\"/>\n       <use xlink:href=\"#STIXGeneral-Regular-69\" x=\"305.499908\"/>\n       <use xlink:href=\"#STIXGeneral-Regular-76\" x=\"333.299896\"/>\n       <use xlink:href=\"#STIXGeneral-Regular-69\" x=\"383.299881\"/>\n       <use xlink:href=\"#STIXGeneral-Regular-74\" x=\"411.099869\"/>\n       <use xlink:href=\"#STIXGeneral-Regular-79\" x=\"438.899857\"/>\n      </g>\n     </g>\n    </g>\n   </g>\n   <g id=\"patch_9\">\n    <path d=\"M 53.96875 247.936406 \nL 53.96875 26.176406 \n\" style=\"fill: none; stroke: #000000; stroke-width: 0.6; stroke-linejoin: miter; stroke-linecap: square\"/>\n   </g>\n   <g id=\"patch_10\">\n    <path d=\"M 53.96875 247.936406 \nL 500.36875 247.936406 \n\" style=\"fill: none; stroke: #000000; stroke-width: 0.6; stroke-linejoin: miter; stroke-linecap: square\"/>\n   </g>\n   <g id=\"text_16\">\n    <!-- Counts of vocab words in the Wealth of Nations -->\n    <g style=\"fill: #323034\" transform=\"translate(53.96875 20.176406)scale(0.19 -0.19)\">\n     <defs>\n      <path id=\"STIXGeneral-Regular-68\" d=\"M 3117 0 \nL 1760 0 \nL 1760 96 \nQ 2042 128 2118 224 \nQ 2195 320 2195 653 \nL 2195 1920 \nQ 2195 2598 1722 2598 \nQ 1530 2598 1370 2508 \nQ 1210 2419 1005 2195 \nL 1005 653 \nQ 1005 320 1081 224 \nQ 1158 128 1440 96 \nL 1440 0 \nL 58 0 \nL 58 96 \nQ 333 134 400 224 \nQ 467 314 467 653 \nL 467 3667 \nQ 467 3872 406 3933 \nQ 346 3994 141 3994 \nQ 83 3994 64 3987 \nL 64 4090 \nL 237 4141 \nQ 730 4288 973 4371 \nL 1005 4352 \nL 1005 2406 \nQ 1229 2694 1446 2819 \nQ 1664 2944 1946 2944 \nQ 2733 2944 2733 1926 \nL 2733 653 \nQ 2733 320 2793 233 \nQ 2854 147 3117 96 \nL 3117 0 \nz\n\" transform=\"scale(0.015625)\"/>\n      <path id=\"STIXGeneral-Regular-57\" d=\"M 5965 4237 \nL 5965 4115 \nQ 5709 4064 5616 3990 \nQ 5523 3917 5434 3667 \nQ 4704 1709 4128 -70 \nL 4032 -70 \nQ 3642 1011 3008 2637 \nL 2022 -70 \nL 1926 -70 \nQ 1709 576 1277 1753 \nQ 845 2931 698 3347 \nQ 538 3808 406 3958 \nQ 275 4109 32 4115 \nL 32 4237 \nL 1594 4237 \nL 1594 4115 \nQ 1357 4109 1270 4064 \nQ 1184 4019 1184 3917 \nQ 1184 3808 1254 3616 \nL 2176 1210 \nL 2842 3021 \nL 2662 3501 \nQ 2509 3917 2400 4013 \nQ 2291 4109 2010 4115 \nL 2010 4237 \nL 3706 4237 \nL 3706 4115 \nQ 3213 4102 3213 3891 \nQ 3213 3808 3322 3520 \nL 4237 1190 \nL 5043 3360 \nQ 5152 3667 5152 3853 \nQ 5152 4109 4704 4115 \nL 4704 4237 \nL 5965 4237 \nz\n\" transform=\"scale(0.015625)\"/>\n      <path id=\"STIXGeneral-Regular-4e\" d=\"M 4525 4237 \nL 4525 4115 \nQ 4198 4083 4102 4000 \nQ 4000 3910 3958 3756 \nQ 3917 3603 3917 3245 \nL 3917 -70 \nL 3802 -70 \nL 979 3443 \nL 979 960 \nQ 979 474 1088 323 \nQ 1197 173 1574 122 \nL 1574 0 \nL 77 0 \nL 77 122 \nQ 474 166 586 310 \nQ 698 454 698 960 \nL 698 3776 \nQ 531 3981 416 4048 \nQ 301 4115 77 4115 \nL 77 4237 \nL 1165 4237 \nL 3635 1146 \nL 3635 3322 \nQ 3635 3808 3514 3949 \nQ 3437 4032 3344 4061 \nQ 3251 4090 3008 4115 \nL 3008 4237 \nL 4525 4237 \nz\n\" transform=\"scale(0.015625)\"/>\n     </defs>\n     <use xlink:href=\"#STIXGeneral-Regular-43\"/>\n     <use xlink:href=\"#STIXGeneral-Regular-6f\" x=\"66.699997\"/>\n     <use xlink:href=\"#STIXGeneral-Regular-75\" x=\"116.699982\"/>\n     <use xlink:href=\"#STIXGeneral-Regular-6e\" x=\"166.699966\"/>\n     <use xlink:href=\"#STIXGeneral-Regular-74\" x=\"216.699951\"/>\n     <use xlink:href=\"#STIXGeneral-Regular-73\" x=\"244.499939\"/>\n     <use xlink:href=\"#STIXGeneral-Regular-20\" x=\"283.399933\"/>\n     <use xlink:href=\"#STIXGeneral-Regular-6f\" x=\"308.399918\"/>\n     <use xlink:href=\"#STIXGeneral-Regular-66\" x=\"358.399902\"/>\n     <use xlink:href=\"#STIXGeneral-Regular-20\" x=\"391.69989\"/>\n     <use xlink:href=\"#STIXGeneral-Regular-76\" x=\"416.699875\"/>\n     <use xlink:href=\"#STIXGeneral-Regular-6f\" x=\"466.69986\"/>\n     <use xlink:href=\"#STIXGeneral-Regular-63\" x=\"516.699844\"/>\n     <use xlink:href=\"#STIXGeneral-Regular-61\" x=\"561.099838\"/>\n     <use xlink:href=\"#STIXGeneral-Regular-62\" x=\"605.499832\"/>\n     <use xlink:href=\"#STIXGeneral-Regular-20\" x=\"655.499817\"/>\n     <use xlink:href=\"#STIXGeneral-Regular-77\" x=\"680.499802\"/>\n     <use xlink:href=\"#STIXGeneral-Regular-6f\" x=\"752.699783\"/>\n     <use xlink:href=\"#STIXGeneral-Regular-72\" x=\"802.699768\"/>\n     <use xlink:href=\"#STIXGeneral-Regular-64\" x=\"835.999756\"/>\n     <use xlink:href=\"#STIXGeneral-Regular-73\" x=\"885.999741\"/>\n     <use xlink:href=\"#STIXGeneral-Regular-20\" x=\"924.899734\"/>\n     <use xlink:href=\"#STIXGeneral-Regular-69\" x=\"949.899719\"/>\n     <use xlink:href=\"#STIXGeneral-Regular-6e\" x=\"977.699707\"/>\n     <use xlink:href=\"#STIXGeneral-Regular-20\" x=\"1027.699692\"/>\n     <use xlink:href=\"#STIXGeneral-Regular-74\" x=\"1052.699677\"/>\n     <use xlink:href=\"#STIXGeneral-Regular-68\" x=\"1080.499664\"/>\n     <use xlink:href=\"#STIXGeneral-Regular-65\" x=\"1130.499649\"/>\n     <use xlink:href=\"#STIXGeneral-Regular-20\" x=\"1174.899643\"/>\n     <use xlink:href=\"#STIXGeneral-Regular-57\" x=\"1199.899628\"/>\n     <use xlink:href=\"#STIXGeneral-Regular-65\" x=\"1294.299622\"/>\n     <use xlink:href=\"#STIXGeneral-Regular-61\" x=\"1338.699615\"/>\n     <use xlink:href=\"#STIXGeneral-Regular-6c\" x=\"1383.099609\"/>\n     <use xlink:href=\"#STIXGeneral-Regular-74\" x=\"1410.899597\"/>\n     <use xlink:href=\"#STIXGeneral-Regular-68\" x=\"1438.699585\"/>\n     <use xlink:href=\"#STIXGeneral-Regular-20\" x=\"1488.69957\"/>\n     <use xlink:href=\"#STIXGeneral-Regular-6f\" x=\"1513.699554\"/>\n     <use xlink:href=\"#STIXGeneral-Regular-66\" x=\"1563.699539\"/>\n     <use xlink:href=\"#STIXGeneral-Regular-20\" x=\"1596.999527\"/>\n     <use xlink:href=\"#STIXGeneral-Regular-4e\" x=\"1621.999512\"/>\n     <use xlink:href=\"#STIXGeneral-Regular-61\" x=\"1694.199493\"/>\n     <use xlink:href=\"#STIXGeneral-Regular-74\" x=\"1738.599487\"/>\n     <use xlink:href=\"#STIXGeneral-Regular-69\" x=\"1766.399475\"/>\n     <use xlink:href=\"#STIXGeneral-Regular-6f\" x=\"1794.199463\"/>\n     <use xlink:href=\"#STIXGeneral-Regular-6e\" x=\"1844.199448\"/>\n     <use xlink:href=\"#STIXGeneral-Regular-73\" x=\"1894.199432\"/>\n    </g>\n   </g>\n  </g>\n </g>\n <defs>\n  <clipPath id=\"p30b13c5dd8\">\n   <rect x=\"53.96875\" y=\"26.176406\" width=\"446.4\" height=\"221.76\"/>\n  </clipPath>\n </defs>\n</svg>\n",
      "text/plain": [
       "<Figure size 1200x600 with 1 Axes>"
      ]
     },
     "metadata": {},
     "output_type": "display_data"
    }
   ],
   "source": [
    "vectorizer = CountVectorizer(vocabulary=vocab, ngram_range=(1, 2))\n",
    "counts_df = (\n",
    "    pd.DataFrame(\n",
    "        vectorizer.fit_transform(df_sent[\"text\"]).toarray(),\n",
    "        columns=vectorizer.get_feature_names(),\n",
    "    )\n",
    "    .T.sum(axis=1)\n",
    "    .sort_values(ascending=False)\n",
    ")\n",
    "\n",
    "# Plot counts from our vocab\n",
    "num_to_plot = len(vocab)\n",
    "x_pos = np.arange(num_to_plot)\n",
    "fig, ax = plt.subplots()\n",
    "ax.barh(x_pos, counts_df[:num_to_plot], align=\"center\", alpha=0.5)\n",
    "ax.set_yticks(x_pos)\n",
    "ax.set_yticklabels(counts_df[:num_to_plot].index, fontsize=8)\n",
    "ax.set_ylim(-1, num_to_plot)\n",
    "ax.set_xlabel(\"Count of terms in corpus\")\n",
    "ax.set_title(f\"Counts of vocab words in the Wealth of Nations\")\n",
    "plt.show()"
   ]
  },
  {
   "cell_type": "markdown",
   "metadata": {},
   "source": [
    "Note that we did not pass `stopwords` in this case; there's no need, because passing a `vocab` effectively says to categorise any word that is *not* in the special vocabulary as a stopword. We also still passed an n-gram range to ensure our longest n-gram, with $n=2$, was counted."
   ]
  },
  {
   "cell_type": "markdown",
   "metadata": {},
   "source": [
    "### Filtering Out Frequent and Infrequent Words\n",
    "\n",
    "As well as passing stopwords in, defining vocabularies, and limiting the n-gram range, there's another couple of ways to cut down on the number of terms that tf-idf takes account of. The first is to use the `max_features` setting to limit how many terms are tracked (this only keeps the top terms). A second is to have frequency cut-offs, both for very frequent words and for very infrequent words (be careful of this one if you're doing any kind of out-of-sample exercise such as forecasting.) The keywords for frequency cut-offs are `max_df` and `min_df`."
   ]
  },
  {
   "cell_type": "markdown",
   "metadata": {},
   "source": [
    "## Context of Terms\n",
    "\n",
    "It's all very well counting terms, but without the context of the surrounding words, it may not be all that informative. **nltk** has some functions that can help us. First, we have to pass our raw text into an **nltk** text object.\n",
    "\n"
   ]
  },
  {
   "cell_type": "code",
   "execution_count": 33,
   "metadata": {},
   "outputs": [],
   "source": [
    "from nltk.text import Text\n",
    "\n",
    "w_o_n = Text(word_tokenize(raw_text))"
   ]
  },
  {
   "cell_type": "markdown",
   "metadata": {},
   "source": [
    "Now let's imagine we're interested in the context of a particular term, say 'price'. We can run:"
   ]
  },
  {
   "cell_type": "code",
   "execution_count": 34,
   "metadata": {},
   "outputs": [
    {
     "name": "stdout",
     "output_type": "stream",
     "text": [
      "Displaying 25 of 775 matches:\n",
      ". CHAPTER V. OF THE REAL AND NOMINAL PRICE OF COMMODITIES , OR OF THEIR PRICE I\n",
      "L PRICE OF COMMODITIES , OR OF THEIR PRICE IN LABOUR , AND THEIR PRICE IN MONEY\n",
      "OF THEIR PRICE IN LABOUR , AND THEIR PRICE IN MONEY . CHAPTER VI . OF THE COMPO\n",
      "ER VI . OF THE COMPONENT PART OF THE PRICE OF COMMODITIES . CHAPTER VII . OF TH\n",
      "PTER VII . OF THE NATURAL AND MARKET PRICE OF COMMODITIES . CHAPTER VIII . OF T\n",
      " in most years nearly about the same price with the corn of England , though , \n",
      "at comes to the same thing , for the price of a great quantity of theirs . He s\n",
      "one to the other , except such whose price was very considerable in proportion \n",
      "value ; or wherein consists the real price of all commodities . Secondly , what\n",
      "e different parts of which this real price is composed or made up . And , lastl\n",
      "e or all of these different parts of price above , and sometimes sink them belo\n",
      "es which sometimes hinder the market price , that is , the actual price of comm\n",
      " market price , that is , the actual price of commodities , from coinciding exa\n",
      "ith what may be called their natural price . I shall endeavour to explain , as \n",
      ". CHAPTER V. OF THE REAL AND NOMINAL PRICE OF COMMODITIES , OR OF THEIR PRICE I\n",
      "L PRICE OF COMMODITIES , OR OF THEIR PRICE IN LABOUR , AND THEIR PRICE IN MONEY\n",
      "OF THEIR PRICE IN LABOUR , AND THEIR PRICE IN MONEY . Every man is rich or poor\n",
      " value of all commodities . The real price of every thing , what every thing re\n",
      "qual quantity . Labour was the first price , the original purchase money that w\n",
      "is liberty , and his happiness . The price which he pays must always be the sam\n",
      "ated and compared . It is their real price ; money is their nominal price only \n",
      " real price ; money is their nominal price only . But though equal quantities o\n",
      "r quantity of goods , and to him the price of labour seems to vary like that of\n",
      "be said to have a real and a nominal price . Its real price may be said to cons\n",
      " real and a nominal price . Its real price may be said to consist in the quanti\n"
     ]
    }
   ],
   "source": [
    "w_o_n.concordance(\"price\")"
   ]
  },
  {
   "cell_type": "markdown",
   "metadata": {},
   "source": [
    "This gives us context for all fo the occurrences of the terms. Context is useful, but there's more than one kind. What about *where* in a text references to different ideas or terms appear? We can do that with  *text dispersion plot*, as shown below for a selection of terms."
   ]
  },
  {
   "cell_type": "code",
   "execution_count": 35,
   "metadata": {},
   "outputs": [
    {
     "data": {
      "image/svg+xml": "<?xml version=\"1.0\" encoding=\"utf-8\" standalone=\"no\"?>\n<!DOCTYPE svg PUBLIC \"-//W3C//DTD SVG 1.1//EN\"\n  \"http://www.w3.org/Graphics/SVG/1.1/DTD/svg11.dtd\">\n<svg xmlns:xlink=\"http://www.w3.org/1999/xlink\" width=\"547.1275pt\" height=\"293.936406pt\" viewBox=\"0 0 547.1275 293.936406\" xmlns=\"http://www.w3.org/2000/svg\" version=\"1.1\">\n <metadata>\n  <rdf:RDF xmlns:dc=\"http://purl.org/dc/elements/1.1/\" xmlns:cc=\"http://creativecommons.org/ns#\" xmlns:rdf=\"http://www.w3.org/1999/02/22-rdf-syntax-ns#\">\n   <cc:Work>\n    <dc:type rdf:resource=\"http://purl.org/dc/dcmitype/StillImage\"/>\n    <dc:date>2022-10-28T18:44:31.597903</dc:date>\n    <dc:format>image/svg+xml</dc:format>\n    <dc:creator>\n     <cc:Agent>\n      <dc:title>Matplotlib v3.5.3, https://matplotlib.org/</dc:title>\n     </cc:Agent>\n    </dc:creator>\n   </cc:Work>\n  </rdf:RDF>\n </metadata>\n <defs>\n  <style type=\"text/css\">*{stroke-linejoin: round; stroke-linecap: butt}</style>\n </defs>\n <g id=\"figure_1\">\n  <g id=\"patch_1\">\n   <path d=\"M 0 293.936406 \nL 547.1275 293.936406 \nL 547.1275 0 \nL 0 0 \nz\n\" style=\"fill: #ffffff\"/>\n  </g>\n  <g id=\"axes_1\">\n   <g id=\"patch_2\">\n    <path d=\"M 83.5275 247.936406 \nL 529.9275 247.936406 \nL 529.9275 26.176406 \nL 83.5275 26.176406 \nz\n\" style=\"fill: #ffffff\"/>\n   </g>\n   <g id=\"matplotlib.axis_1\">\n    <g id=\"xtick_1\">\n     <g id=\"line2d_1\">\n      <defs>\n       <path id=\"m66604ad0d8\" d=\"M 0 0 \nL 0 3.5 \n\" style=\"stroke: #323034; stroke-width: 0.8\"/>\n      </defs>\n      <g>\n       <use xlink:href=\"#m66604ad0d8\" x=\"83.5275\" y=\"247.936406\" style=\"fill: #323034; stroke: #323034; stroke-width: 0.8\"/>\n      </g>\n     </g>\n     <g id=\"text_1\">\n      <!-- $\\mathdefault{−0.2}$ -->\n      <g style=\"fill: #323034\" transform=\"translate(68.0075 265.863906)scale(0.16 -0.16)\">\n       <defs>\n        <path id=\"STIXGeneral-Regular-2212\" d=\"M 3974 1408 \nL 410 1408 \nL 410 1830 \nL 3974 1830 \nL 3974 1408 \nz\n\" transform=\"scale(0.015625)\"/>\n        <path id=\"STIXGeneral-Regular-30\" d=\"M 3046 2112 \nQ 3046 1683 2963 1302 \nQ 2880 922 2717 602 \nQ 2554 282 2266 96 \nQ 1978 -90 1600 -90 \nQ 1210 -90 915 108 \nQ 621 307 461 640 \nQ 301 973 227 1350 \nQ 154 1728 154 2150 \nQ 154 2746 301 3222 \nQ 448 3699 790 4012 \nQ 1133 4326 1626 4326 \nQ 2253 4326 2649 3712 \nQ 3046 3098 3046 2112 \nz\nM 2432 2080 \nQ 2432 3091 2217 3625 \nQ 2003 4160 1587 4160 \nQ 1190 4160 979 3622 \nQ 768 3085 768 2106 \nQ 768 1120 979 598 \nQ 1190 77 1600 77 \nQ 2003 77 2217 598 \nQ 2432 1120 2432 2080 \nz\n\" transform=\"scale(0.015625)\"/>\n        <path id=\"STIXGeneral-Regular-2e\" d=\"M 1158 275 \nQ 1158 134 1052 32 \nQ 947 -70 800 -70 \nQ 653 -70 550 32 \nQ 448 134 448 281 \nQ 448 429 553 534 \nQ 659 640 806 640 \nQ 947 640 1052 531 \nQ 1158 422 1158 275 \nz\n\" transform=\"scale(0.015625)\"/>\n        <path id=\"STIXGeneral-Regular-32\" d=\"M 3034 877 \nL 2688 0 \nL 186 0 \nL 186 77 \nL 1325 1286 \nQ 1773 1754 1965 2144 \nQ 2157 2534 2157 2950 \nQ 2157 3379 1920 3616 \nQ 1683 3853 1267 3853 \nQ 922 3853 720 3673 \nQ 518 3494 326 3021 \nL 192 3053 \nQ 301 3648 630 3987 \nQ 960 4326 1523 4326 \nQ 2054 4326 2380 4006 \nQ 2707 3686 2707 3200 \nQ 2707 2477 1888 1613 \nL 832 486 \nL 2330 486 \nQ 2541 486 2665 569 \nQ 2790 653 2944 915 \nL 3034 877 \nz\n\" transform=\"scale(0.015625)\"/>\n       </defs>\n       <use xlink:href=\"#STIXGeneral-Regular-2212\" transform=\"translate(0 0.40625)\"/>\n       <use xlink:href=\"#STIXGeneral-Regular-30\" transform=\"translate(68.499985 0.40625)\"/>\n       <use xlink:href=\"#STIXGeneral-Regular-2e\" transform=\"translate(118.499969 0.40625)\"/>\n       <use xlink:href=\"#STIXGeneral-Regular-32\" transform=\"translate(143.499954 0.40625)\"/>\n      </g>\n     </g>\n    </g>\n    <g id=\"xtick_2\">\n     <g id=\"line2d_2\">\n      <g>\n       <use xlink:href=\"#m66604ad0d8\" x=\"139.3275\" y=\"247.936406\" style=\"fill: #323034; stroke: #323034; stroke-width: 0.8\"/>\n      </g>\n     </g>\n     <g id=\"text_2\">\n      <!-- $\\mathdefault{0.0}$ -->\n      <g style=\"fill: #323034\" transform=\"translate(129.3275 265.863906)scale(0.16 -0.16)\">\n       <use xlink:href=\"#STIXGeneral-Regular-30\" transform=\"translate(0 0.40625)\"/>\n       <use xlink:href=\"#STIXGeneral-Regular-2e\" transform=\"translate(49.999985 0.40625)\"/>\n       <use xlink:href=\"#STIXGeneral-Regular-30\" transform=\"translate(74.999969 0.40625)\"/>\n      </g>\n     </g>\n    </g>\n    <g id=\"xtick_3\">\n     <g id=\"line2d_3\">\n      <g>\n       <use xlink:href=\"#m66604ad0d8\" x=\"195.1275\" y=\"247.936406\" style=\"fill: #323034; stroke: #323034; stroke-width: 0.8\"/>\n      </g>\n     </g>\n     <g id=\"text_3\">\n      <!-- $\\mathdefault{0.2}$ -->\n      <g style=\"fill: #323034\" transform=\"translate(185.1275 265.863906)scale(0.16 -0.16)\">\n       <use xlink:href=\"#STIXGeneral-Regular-30\" transform=\"translate(0 0.40625)\"/>\n       <use xlink:href=\"#STIXGeneral-Regular-2e\" transform=\"translate(49.999985 0.40625)\"/>\n       <use xlink:href=\"#STIXGeneral-Regular-32\" transform=\"translate(74.999969 0.40625)\"/>\n      </g>\n     </g>\n    </g>\n    <g id=\"xtick_4\">\n     <g id=\"line2d_4\">\n      <g>\n       <use xlink:href=\"#m66604ad0d8\" x=\"250.9275\" y=\"247.936406\" style=\"fill: #323034; stroke: #323034; stroke-width: 0.8\"/>\n      </g>\n     </g>\n     <g id=\"text_4\">\n      <!-- $\\mathdefault{0.4}$ -->\n      <g style=\"fill: #323034\" transform=\"translate(240.9275 265.863906)scale(0.16 -0.16)\">\n       <defs>\n        <path id=\"STIXGeneral-Regular-34\" d=\"M 3027 1069 \nL 2368 1069 \nL 2368 0 \nL 1869 0 \nL 1869 1069 \nL 77 1069 \nL 77 1478 \nL 2086 4326 \nL 2368 4326 \nL 2368 1478 \nL 3027 1478 \nL 3027 1069 \nz\nM 1869 1478 \nL 1869 3674 \nL 333 1478 \nL 1869 1478 \nz\n\" transform=\"scale(0.015625)\"/>\n       </defs>\n       <use xlink:href=\"#STIXGeneral-Regular-30\" transform=\"translate(0 0.40625)\"/>\n       <use xlink:href=\"#STIXGeneral-Regular-2e\" transform=\"translate(49.999985 0.40625)\"/>\n       <use xlink:href=\"#STIXGeneral-Regular-34\" transform=\"translate(74.999969 0.40625)\"/>\n      </g>\n     </g>\n    </g>\n    <g id=\"xtick_5\">\n     <g id=\"line2d_5\">\n      <g>\n       <use xlink:href=\"#m66604ad0d8\" x=\"306.7275\" y=\"247.936406\" style=\"fill: #323034; stroke: #323034; stroke-width: 0.8\"/>\n      </g>\n     </g>\n     <g id=\"text_5\">\n      <!-- $\\mathdefault{0.6}$ -->\n      <g style=\"fill: #323034\" transform=\"translate(296.7275 265.863906)scale(0.16 -0.16)\">\n       <defs>\n        <path id=\"STIXGeneral-Regular-36\" d=\"M 2854 4378 \nL 2867 4275 \nQ 2112 4154 1606 3664 \nQ 1101 3174 973 2451 \nQ 1344 2739 1786 2739 \nQ 2349 2739 2672 2380 \nQ 2995 2022 2995 1402 \nQ 2995 774 2669 378 \nQ 2291 -90 1651 -90 \nQ 870 -90 518 557 \nQ 218 1107 218 1786 \nQ 218 2835 915 3552 \nQ 1312 3962 1731 4131 \nQ 2150 4301 2854 4378 \nz\nM 2419 1203 \nQ 2419 2445 1555 2445 \nQ 1235 2445 1024 2275 \nQ 813 2106 813 1702 \nQ 813 954 1046 522 \nQ 1280 90 1722 90 \nQ 2061 90 2240 394 \nQ 2419 698 2419 1203 \nz\n\" transform=\"scale(0.015625)\"/>\n       </defs>\n       <use xlink:href=\"#STIXGeneral-Regular-30\" transform=\"translate(0 0.59375)\"/>\n       <use xlink:href=\"#STIXGeneral-Regular-2e\" transform=\"translate(49.999985 0.59375)\"/>\n       <use xlink:href=\"#STIXGeneral-Regular-36\" transform=\"translate(74.999969 0.59375)\"/>\n      </g>\n     </g>\n    </g>\n    <g id=\"xtick_6\">\n     <g id=\"line2d_6\">\n      <g>\n       <use xlink:href=\"#m66604ad0d8\" x=\"362.5275\" y=\"247.936406\" style=\"fill: #323034; stroke: #323034; stroke-width: 0.8\"/>\n      </g>\n     </g>\n     <g id=\"text_6\">\n      <!-- $\\mathdefault{0.8}$ -->\n      <g style=\"fill: #323034\" transform=\"translate(352.5275 265.863906)scale(0.16 -0.16)\">\n       <defs>\n        <path id=\"STIXGeneral-Regular-38\" d=\"M 2848 992 \nQ 2848 499 2505 204 \nQ 2163 -90 1587 -90 \nQ 1050 -90 704 204 \nQ 358 499 358 954 \nQ 358 1293 524 1533 \nQ 691 1773 1190 2125 \nQ 710 2522 553 2765 \nQ 397 3008 397 3328 \nQ 397 3782 745 4054 \nQ 1094 4326 1638 4326 \nQ 2106 4326 2410 4060 \nQ 2714 3795 2714 3411 \nQ 2714 3059 2531 2848 \nQ 2349 2637 1856 2374 \nQ 2432 1990 2640 1689 \nQ 2848 1389 2848 992 \nz\nM 2272 3411 \nQ 2272 3744 2086 3945 \nQ 1901 4147 1574 4147 \nQ 1248 4147 1059 3977 \nQ 870 3808 870 3513 \nQ 870 3219 1059 2979 \nQ 1248 2739 1670 2490 \nQ 1997 2682 2134 2896 \nQ 2272 3110 2272 3411 \nz\nM 1734 1741 \nL 1357 1997 \nQ 1075 1766 960 1545 \nQ 845 1325 845 1011 \nQ 845 576 1065 333 \nQ 1286 90 1658 90 \nQ 1971 90 2166 285 \nQ 2362 480 2362 794 \nQ 2362 1082 2214 1299 \nQ 2067 1517 1734 1741 \nz\n\" transform=\"scale(0.015625)\"/>\n       </defs>\n       <use xlink:href=\"#STIXGeneral-Regular-30\" transform=\"translate(0 0.40625)\"/>\n       <use xlink:href=\"#STIXGeneral-Regular-2e\" transform=\"translate(49.999985 0.40625)\"/>\n       <use xlink:href=\"#STIXGeneral-Regular-38\" transform=\"translate(74.999969 0.40625)\"/>\n      </g>\n     </g>\n    </g>\n    <g id=\"xtick_7\">\n     <g id=\"line2d_7\">\n      <g>\n       <use xlink:href=\"#m66604ad0d8\" x=\"418.3275\" y=\"247.936406\" style=\"fill: #323034; stroke: #323034; stroke-width: 0.8\"/>\n      </g>\n     </g>\n     <g id=\"text_7\">\n      <!-- $\\mathdefault{1.0}$ -->\n      <g style=\"fill: #323034\" transform=\"translate(408.3275 265.863906)scale(0.16 -0.16)\">\n       <defs>\n        <path id=\"STIXGeneral-Regular-31\" d=\"M 2522 0 \nL 755 0 \nL 755 96 \nQ 1107 115 1235 227 \nQ 1363 339 1363 608 \nL 1363 3482 \nQ 1363 3795 1171 3795 \nQ 1082 3795 883 3718 \nL 710 3654 \nL 710 3744 \nL 1856 4326 \nL 1914 4307 \nL 1914 486 \nQ 1914 275 2042 185 \nQ 2170 96 2522 96 \nL 2522 0 \nz\n\" transform=\"scale(0.015625)\"/>\n       </defs>\n       <use xlink:href=\"#STIXGeneral-Regular-31\" transform=\"translate(0 0.40625)\"/>\n       <use xlink:href=\"#STIXGeneral-Regular-2e\" transform=\"translate(49.999985 0.40625)\"/>\n       <use xlink:href=\"#STIXGeneral-Regular-30\" transform=\"translate(74.999969 0.40625)\"/>\n      </g>\n     </g>\n    </g>\n    <g id=\"xtick_8\">\n     <g id=\"line2d_8\">\n      <g>\n       <use xlink:href=\"#m66604ad0d8\" x=\"474.1275\" y=\"247.936406\" style=\"fill: #323034; stroke: #323034; stroke-width: 0.8\"/>\n      </g>\n     </g>\n     <g id=\"text_8\">\n      <!-- $\\mathdefault{1.2}$ -->\n      <g style=\"fill: #323034\" transform=\"translate(464.1275 265.863906)scale(0.16 -0.16)\">\n       <use xlink:href=\"#STIXGeneral-Regular-31\" transform=\"translate(0 0.40625)\"/>\n       <use xlink:href=\"#STIXGeneral-Regular-2e\" transform=\"translate(49.999985 0.40625)\"/>\n       <use xlink:href=\"#STIXGeneral-Regular-32\" transform=\"translate(74.999969 0.40625)\"/>\n      </g>\n     </g>\n    </g>\n    <g id=\"xtick_9\">\n     <g id=\"line2d_9\">\n      <g>\n       <use xlink:href=\"#m66604ad0d8\" x=\"529.9275\" y=\"247.936406\" style=\"fill: #323034; stroke: #323034; stroke-width: 0.8\"/>\n      </g>\n     </g>\n     <g id=\"text_9\">\n      <!-- $\\mathdefault{1.4}$ -->\n      <g style=\"fill: #323034\" transform=\"translate(519.9275 265.863906)scale(0.16 -0.16)\">\n       <use xlink:href=\"#STIXGeneral-Regular-31\" transform=\"translate(0 0.40625)\"/>\n       <use xlink:href=\"#STIXGeneral-Regular-2e\" transform=\"translate(49.999985 0.40625)\"/>\n       <use xlink:href=\"#STIXGeneral-Regular-34\" transform=\"translate(74.999969 0.40625)\"/>\n      </g>\n     </g>\n    </g>\n    <g id=\"text_10\">\n     <!-- Word Offset -->\n     <g transform=\"translate(266.51875 283.263906)scale(0.16 -0.16)\">\n      <defs>\n       <path id=\"STIXGeneral-Regular-57\" d=\"M 5965 4237 \nL 5965 4115 \nQ 5709 4064 5616 3990 \nQ 5523 3917 5434 3667 \nQ 4704 1709 4128 -70 \nL 4032 -70 \nQ 3642 1011 3008 2637 \nL 2022 -70 \nL 1926 -70 \nQ 1709 576 1277 1753 \nQ 845 2931 698 3347 \nQ 538 3808 406 3958 \nQ 275 4109 32 4115 \nL 32 4237 \nL 1594 4237 \nL 1594 4115 \nQ 1357 4109 1270 4064 \nQ 1184 4019 1184 3917 \nQ 1184 3808 1254 3616 \nL 2176 1210 \nL 2842 3021 \nL 2662 3501 \nQ 2509 3917 2400 4013 \nQ 2291 4109 2010 4115 \nL 2010 4237 \nL 3706 4237 \nL 3706 4115 \nQ 3213 4102 3213 3891 \nQ 3213 3808 3322 3520 \nL 4237 1190 \nL 5043 3360 \nQ 5152 3667 5152 3853 \nQ 5152 4109 4704 4115 \nL 4704 4237 \nL 5965 4237 \nz\n\" transform=\"scale(0.015625)\"/>\n       <path id=\"STIXGeneral-Regular-6f\" d=\"M 3008 1478 \nQ 3008 806 2608 371 \nQ 2208 -64 1568 -64 \nQ 979 -64 582 368 \nQ 186 800 186 1459 \nQ 186 2125 582 2534 \nQ 979 2944 1626 2944 \nQ 2221 2944 2614 2537 \nQ 3008 2131 3008 1478 \nz\nM 2432 1306 \nQ 2432 2035 2112 2445 \nQ 1856 2765 1504 2765 \nQ 1171 2765 966 2493 \nQ 762 2221 762 1747 \nQ 762 928 1101 435 \nQ 1318 115 1677 115 \nQ 2029 115 2230 432 \nQ 2432 749 2432 1306 \nz\n\" transform=\"scale(0.015625)\"/>\n       <path id=\"STIXGeneral-Regular-72\" d=\"M 1024 2931 \nL 1024 2342 \nQ 1267 2688 1430 2816 \nQ 1594 2944 1792 2944 \nQ 1958 2944 2051 2854 \nQ 2144 2765 2144 2605 \nQ 2144 2470 2077 2393 \nQ 2010 2317 1894 2317 \nQ 1773 2317 1638 2445 \nQ 1536 2541 1472 2541 \nQ 1338 2541 1181 2355 \nQ 1024 2170 1024 2016 \nL 1024 576 \nQ 1024 301 1133 205 \nQ 1242 109 1568 96 \nL 1568 0 \nL 32 0 \nL 32 96 \nQ 339 154 412 224 \nQ 486 294 486 538 \nL 486 2138 \nQ 486 2349 438 2435 \nQ 390 2522 269 2522 \nQ 166 2522 45 2496 \nL 45 2598 \nQ 448 2726 992 2944 \nL 1024 2931 \nz\n\" transform=\"scale(0.015625)\"/>\n       <path id=\"STIXGeneral-Regular-64\" d=\"M 3142 269 \nL 2202 -64 \nL 2176 -45 \nL 2176 365 \nQ 1869 -64 1357 -64 \nQ 826 -64 499 317 \nQ 173 698 173 1312 \nQ 173 1990 563 2467 \nQ 954 2944 1504 2944 \nQ 1850 2944 2176 2669 \nL 2176 3667 \nQ 2176 3866 2118 3930 \nQ 2061 3994 1882 3994 \nQ 1792 3994 1741 3987 \nL 1741 4090 \nQ 2323 4243 2682 4371 \nL 2714 4358 \nL 2714 730 \nQ 2714 506 2768 435 \nQ 2822 365 2995 365 \nQ 3034 365 3142 371 \nL 3142 269 \nz\nM 2176 653 \nL 2176 2125 \nQ 2176 2381 1981 2573 \nQ 1786 2765 1523 2765 \nQ 1158 2765 940 2438 \nQ 723 2112 723 1568 \nQ 723 979 963 624 \nQ 1203 269 1606 269 \nQ 1907 269 2080 474 \nQ 2176 582 2176 653 \nz\n\" transform=\"scale(0.015625)\"/>\n       <path id=\"STIXGeneral-Regular-20\" transform=\"scale(0.015625)\"/>\n       <path id=\"STIXGeneral-Regular-4f\" d=\"M 4403 2118 \nQ 4403 1133 3820 521 \nQ 3238 -90 2310 -90 \nQ 1376 -90 797 524 \nQ 218 1139 218 2138 \nQ 218 3110 797 3718 \nQ 1376 4326 2310 4326 \nQ 3245 4326 3824 3702 \nQ 4403 3078 4403 2118 \nz\nM 3674 2157 \nQ 3674 2701 3520 3133 \nQ 3366 3565 3091 3795 \nQ 2733 4096 2304 4096 \nQ 1760 4096 1389 3667 \nQ 1184 3437 1065 3011 \nQ 947 2586 947 2125 \nQ 947 960 1523 429 \nQ 1837 141 2317 141 \nQ 2816 141 3142 448 \nQ 3674 960 3674 2157 \nz\n\" transform=\"scale(0.015625)\"/>\n       <path id=\"STIXGeneral-Regular-66\" d=\"M 134 2880 \nL 659 2880 \nQ 666 3264 710 3478 \nQ 755 3693 883 3910 \nQ 1152 4371 1786 4371 \nQ 2074 4371 2262 4259 \nQ 2451 4147 2451 3974 \nQ 2451 3866 2374 3789 \nQ 2298 3712 2182 3712 \nQ 2029 3712 1894 3942 \nQ 1741 4192 1555 4192 \nQ 1197 4192 1197 3622 \nL 1197 2880 \nL 1978 2880 \nL 1978 2675 \nL 1197 2675 \nL 1197 666 \nQ 1197 307 1299 208 \nQ 1402 109 1792 96 \nL 1792 0 \nL 128 0 \nL 128 96 \nQ 474 115 566 214 \nQ 659 314 659 666 \nL 659 2675 \nL 134 2675 \nL 134 2880 \nz\n\" transform=\"scale(0.015625)\"/>\n       <path id=\"STIXGeneral-Regular-73\" d=\"M 998 1926 \nL 1664 1523 \nQ 1984 1331 2105 1164 \nQ 2227 998 2227 736 \nQ 2227 416 1961 176 \nQ 1696 -64 1331 -64 \nQ 1030 -64 864 -6 \nQ 691 51 570 51 \nQ 461 51 416 -26 \nL 333 -26 \nL 333 979 \nL 435 979 \nQ 538 512 730 294 \nQ 922 77 1248 77 \nQ 1485 77 1632 211 \nQ 1779 346 1779 550 \nQ 1779 845 1440 1030 \nL 1094 1222 \nQ 326 1651 326 2150 \nQ 326 2522 566 2730 \nQ 806 2938 1210 2938 \nQ 1491 2938 1638 2867 \nQ 1754 2816 1818 2816 \nQ 1862 2816 1920 2880 \nL 1990 2880 \nL 2022 2010 \nL 1926 2010 \nQ 1818 2445 1654 2621 \nQ 1491 2797 1203 2797 \nQ 986 2797 854 2688 \nQ 723 2579 723 2362 \nQ 723 2253 796 2128 \nQ 870 2003 998 1926 \nz\n\" transform=\"scale(0.015625)\"/>\n       <path id=\"STIXGeneral-Regular-65\" d=\"M 2611 1050 \nL 2714 1005 \nQ 2330 -64 1376 -64 \nQ 813 -64 486 329 \nQ 160 723 160 1389 \nQ 160 2074 525 2509 \nQ 890 2944 1485 2944 \nQ 2061 2944 2374 2502 \nQ 2560 2246 2592 1773 \nL 621 1773 \nQ 646 1370 700 1158 \nQ 755 947 915 730 \nQ 1184 378 1626 378 \nQ 1939 378 2153 531 \nQ 2368 685 2611 1050 \nz\nM 634 1978 \nL 1939 1978 \nQ 1882 2381 1750 2547 \nQ 1619 2714 1312 2714 \nQ 1043 2714 864 2525 \nQ 685 2336 634 1978 \nz\n\" transform=\"scale(0.015625)\"/>\n       <path id=\"STIXGeneral-Regular-74\" d=\"M 1702 493 \nL 1786 422 \nQ 1478 -64 1011 -64 \nQ 448 -64 448 749 \nL 448 2675 \nL 109 2675 \nQ 83 2694 83 2720 \nQ 83 2771 192 2842 \nQ 435 2982 813 3526 \nQ 826 3546 874 3606 \nQ 922 3667 941 3706 \nQ 986 3706 986 3622 \nL 986 2880 \nL 1632 2880 \nL 1632 2675 \nL 986 2675 \nL 986 845 \nQ 986 538 1062 403 \nQ 1139 269 1318 269 \nQ 1510 269 1702 493 \nz\n\" transform=\"scale(0.015625)\"/>\n      </defs>\n      <use xlink:href=\"#STIXGeneral-Regular-57\"/>\n      <use xlink:href=\"#STIXGeneral-Regular-6f\" x=\"94.399994\"/>\n      <use xlink:href=\"#STIXGeneral-Regular-72\" x=\"144.399979\"/>\n      <use xlink:href=\"#STIXGeneral-Regular-64\" x=\"177.699966\"/>\n      <use xlink:href=\"#STIXGeneral-Regular-20\" x=\"227.699951\"/>\n      <use xlink:href=\"#STIXGeneral-Regular-4f\" x=\"252.699936\"/>\n      <use xlink:href=\"#STIXGeneral-Regular-66\" x=\"324.899918\"/>\n      <use xlink:href=\"#STIXGeneral-Regular-66\" x=\"358.199905\"/>\n      <use xlink:href=\"#STIXGeneral-Regular-73\" x=\"391.499893\"/>\n      <use xlink:href=\"#STIXGeneral-Regular-65\" x=\"430.399887\"/>\n      <use xlink:href=\"#STIXGeneral-Regular-74\" x=\"474.799881\"/>\n     </g>\n    </g>\n    <g id=\"text_11\">\n     <!-- $\\times\\mathdefault{10^{5}}\\mathdefault{}$ -->\n     <g style=\"fill: #323034\" transform=\"translate(496.9675 283.263906)scale(0.16 -0.16)\">\n      <defs>\n       <path id=\"STIXGeneral-Regular-d7\" d=\"M 3821 141 \nL 3526 -160 \nL 2048 1312 \nL 570 -160 \nL 275 134 \nL 1747 1613 \nL 275 3091 \nL 576 3386 \nL 2048 1914 \nL 3526 3386 \nL 3821 3098 \nL 2349 1613 \nL 3821 141 \nz\n\" transform=\"scale(0.015625)\"/>\n       <path id=\"STIXGeneral-Regular-35\" d=\"M 2803 4358 \nL 2573 3814 \nQ 2534 3731 2400 3731 \nL 1158 3731 \nL 902 3187 \nQ 1606 3053 1920 2896 \nQ 2234 2739 2502 2368 \nQ 2726 2061 2726 1555 \nQ 2726 1094 2576 780 \nQ 2426 467 2099 224 \nQ 1664 -90 1011 -90 \nQ 646 -90 422 19 \nQ 198 128 198 307 \nQ 198 550 486 550 \nQ 717 550 960 352 \nQ 1210 147 1414 147 \nQ 1747 147 2012 480 \nQ 2278 813 2278 1229 \nQ 2278 1843 1850 2189 \nQ 1293 2637 486 2637 \nQ 410 2637 410 2688 \nL 416 2720 \nL 1114 4237 \nL 2438 4237 \nQ 2547 4237 2608 4269 \nQ 2669 4301 2746 4403 \nL 2803 4358 \nz\n\" transform=\"scale(0.015625)\"/>\n      </defs>\n      <use xlink:href=\"#STIXGeneral-Regular-d7\" transform=\"translate(0 0.842187)\"/>\n      <use xlink:href=\"#STIXGeneral-Regular-31\" transform=\"translate(63.999985 0.842187)\"/>\n      <use xlink:href=\"#STIXGeneral-Regular-30\" transform=\"translate(113.999969 0.842187)\"/>\n      <use xlink:href=\"#STIXGeneral-Regular-35\" transform=\"translate(165.574954 36.842187)scale(0.7)\"/>\n     </g>\n    </g>\n   </g>\n   <g id=\"matplotlib.axis_2\">\n    <g id=\"ytick_1\">\n     <g id=\"line2d_10\">\n      <defs>\n       <path id=\"m12e6606bc1\" d=\"M 0 0 \nL -3.5 0 \n\" style=\"stroke: #323034; stroke-width: 0.8\"/>\n      </defs>\n      <g>\n       <use xlink:href=\"#m12e6606bc1\" x=\"83.5275\" y=\"203.584406\" style=\"fill: #323034; stroke: #323034; stroke-width: 0.8\"/>\n      </g>\n     </g>\n     <g id=\"text_12\">\n      <!-- America -->\n      <g style=\"fill: #0000ff\" transform=\"translate(21.4375 209.048156)scale(0.16 -0.16)\">\n       <defs>\n        <path id=\"STIXGeneral-Regular-41\" d=\"M 4525 0 \nL 2893 0 \nL 2893 122 \nQ 3149 122 3245 179 \nQ 3334 224 3334 333 \nQ 3334 499 3213 781 \nL 2950 1382 \nL 1274 1382 \nL 979 653 \nQ 922 506 922 384 \nQ 922 237 1027 179 \nQ 1133 122 1370 122 \nL 1370 0 \nL 96 0 \nL 96 122 \nQ 365 147 486 316 \nQ 608 486 902 1190 \nL 2221 4314 \nL 2349 4314 \nL 3923 710 \nQ 4064 378 4176 262 \nQ 4288 147 4525 122 \nL 4525 0 \nz\nM 2861 1645 \nL 2118 3405 \nL 1382 1645 \nL 2861 1645 \nz\n\" transform=\"scale(0.015625)\"/>\n        <path id=\"STIXGeneral-Regular-6d\" d=\"M 4960 0 \nL 3565 0 \nL 3565 96 \nQ 3834 122 3907 208 \nQ 3981 294 3981 576 \nL 3981 1894 \nQ 3981 2278 3869 2444 \nQ 3757 2611 3488 2611 \nQ 3264 2611 3107 2521 \nQ 2950 2432 2803 2221 \nL 2803 608 \nQ 2803 301 2896 201 \nQ 2989 102 3264 96 \nL 3264 0 \nL 1830 0 \nL 1830 96 \nQ 2112 115 2189 188 \nQ 2266 262 2266 550 \nL 2266 1901 \nQ 2266 2611 1850 2611 \nQ 1670 2611 1468 2531 \nQ 1267 2451 1171 2336 \nQ 1088 2240 1088 2227 \nL 1088 448 \nQ 1088 243 1177 176 \nQ 1267 109 1523 96 \nL 1523 0 \nL 102 0 \nL 102 96 \nQ 371 102 460 195 \nQ 550 288 550 563 \nL 550 2150 \nQ 550 2387 499 2480 \nQ 448 2573 326 2573 \nQ 230 2573 122 2547 \nL 122 2656 \nQ 557 2778 1011 2944 \nL 1062 2925 \nL 1062 2451 \nL 1075 2451 \nQ 1363 2752 1584 2848 \nQ 1805 2944 2054 2944 \nQ 2560 2944 2733 2406 \nQ 3232 2944 3776 2944 \nQ 4518 2944 4518 1792 \nL 4518 493 \nQ 4518 282 4582 202 \nQ 4646 122 4794 109 \nL 4960 96 \nL 4960 0 \nz\n\" transform=\"scale(0.015625)\"/>\n        <path id=\"STIXGeneral-Regular-69\" d=\"M 1152 4045 \nQ 1152 3904 1056 3811 \nQ 960 3718 819 3718 \nQ 685 3718 592 3811 \nQ 499 3904 499 4045 \nQ 499 4179 595 4275 \nQ 691 4371 826 4371 \nQ 966 4371 1059 4275 \nQ 1152 4179 1152 4045 \nz\nM 1619 0 \nL 102 0 \nL 102 96 \nQ 435 115 521 211 \nQ 608 307 608 666 \nL 608 2118 \nQ 608 2342 563 2432 \nQ 518 2522 397 2522 \nQ 243 2522 128 2490 \nL 128 2592 \nL 1120 2944 \nL 1146 2918 \nL 1146 672 \nQ 1146 314 1226 218 \nQ 1306 122 1619 96 \nL 1619 0 \nz\n\" transform=\"scale(0.015625)\"/>\n        <path id=\"STIXGeneral-Regular-63\" d=\"M 2547 998 \nL 2637 941 \nQ 2362 403 2112 205 \nQ 1786 -64 1376 -64 \nQ 845 -64 502 336 \nQ 160 736 160 1357 \nQ 160 2170 698 2618 \nQ 1094 2944 1562 2944 \nQ 1965 2944 2256 2749 \nQ 2547 2554 2547 2285 \nQ 2547 2176 2457 2096 \nQ 2368 2016 2246 2016 \nQ 2022 2016 1939 2310 \nL 1901 2451 \nQ 1850 2630 1773 2694 \nQ 1696 2758 1523 2758 \nQ 1133 2758 893 2451 \nQ 653 2144 653 1645 \nQ 653 1094 928 745 \nQ 1203 397 1645 397 \nQ 1920 397 2118 528 \nQ 2317 659 2547 998 \nz\n\" transform=\"scale(0.015625)\"/>\n        <path id=\"STIXGeneral-Regular-61\" d=\"M 2829 422 \nL 2829 243 \nQ 2586 -64 2253 -64 \nQ 1888 -64 1843 403 \nL 1837 403 \nQ 1427 -64 909 -64 \nQ 608 -64 422 112 \nQ 237 288 237 602 \nQ 237 1050 685 1350 \nQ 992 1555 1837 1869 \nL 1837 2214 \nQ 1837 2502 1699 2646 \nQ 1562 2790 1338 2790 \nQ 1146 2790 1018 2697 \nQ 890 2605 890 2477 \nQ 890 2419 909 2348 \nQ 928 2278 928 2208 \nQ 928 2112 841 2029 \nQ 755 1946 634 1946 \nQ 525 1946 441 2029 \nQ 358 2112 358 2240 \nQ 358 2547 685 2752 \nQ 986 2944 1421 2944 \nQ 1939 2944 2176 2656 \nQ 2291 2522 2323 2384 \nQ 2355 2246 2355 1946 \nL 2355 723 \nQ 2355 301 2554 301 \nQ 2682 301 2829 422 \nz\nM 1837 813 \nL 1837 1715 \nQ 1248 1510 1018 1293 \nQ 800 1094 800 800 \nQ 800 557 921 432 \nQ 1043 307 1242 307 \nQ 1453 307 1613 410 \nQ 1747 506 1792 589 \nQ 1837 672 1837 813 \nz\n\" transform=\"scale(0.015625)\"/>\n       </defs>\n       <use xlink:href=\"#STIXGeneral-Regular-41\"/>\n       <use xlink:href=\"#STIXGeneral-Regular-6d\" x=\"72.199982\"/>\n       <use xlink:href=\"#STIXGeneral-Regular-65\" x=\"149.999969\"/>\n       <use xlink:href=\"#STIXGeneral-Regular-72\" x=\"194.399963\"/>\n       <use xlink:href=\"#STIXGeneral-Regular-69\" x=\"227.699951\"/>\n       <use xlink:href=\"#STIXGeneral-Regular-63\" x=\"255.499939\"/>\n       <use xlink:href=\"#STIXGeneral-Regular-61\" x=\"299.899933\"/>\n      </g>\n     </g>\n    </g>\n    <g id=\"ytick_2\">\n     <g id=\"line2d_11\">\n      <g>\n       <use xlink:href=\"#m12e6606bc1\" x=\"83.5275\" y=\"159.232406\" style=\"fill: #323034; stroke: #323034; stroke-width: 0.8\"/>\n      </g>\n     </g>\n     <g id=\"text_13\">\n      <!-- production -->\n      <g style=\"fill: #0000ff\" transform=\"translate(7.2 164.696156)scale(0.16 -0.16)\">\n       <defs>\n        <path id=\"STIXGeneral-Regular-70\" d=\"M 1018 2931 \nL 1018 2438 \nQ 1421 2944 1939 2944 \nQ 2406 2944 2707 2560 \nQ 3008 2176 3008 1581 \nQ 3008 883 2621 409 \nQ 2234 -64 1664 -64 \nQ 1466 -64 1328 -6 \nQ 1190 51 1018 211 \nL 1018 -794 \nQ 1018 -1094 1120 -1180 \nQ 1222 -1267 1581 -1274 \nL 1581 -1389 \nL 32 -1389 \nL 32 -1280 \nQ 314 -1254 397 -1171 \nQ 480 -1088 480 -838 \nL 480 2157 \nQ 480 2381 429 2451 \nQ 378 2522 218 2522 \nQ 115 2522 58 2515 \nL 58 2618 \nQ 506 2752 979 2944 \nL 1018 2931 \nz\nM 1018 2138 \nL 1018 563 \nQ 1018 422 1238 281 \nQ 1459 141 1683 141 \nQ 2029 141 2243 467 \nQ 2458 794 2458 1325 \nQ 2458 1888 2243 2224 \nQ 2029 2560 1670 2560 \nQ 1446 2560 1232 2419 \nQ 1018 2278 1018 2138 \nz\n\" transform=\"scale(0.015625)\"/>\n        <path id=\"STIXGeneral-Regular-75\" d=\"M 3072 320 \nL 3072 230 \nQ 2573 96 2195 -58 \nL 2163 -38 \nL 2163 486 \nL 2150 486 \nQ 1747 -64 1235 -64 \nQ 870 -64 662 160 \nQ 454 384 454 755 \nL 454 2362 \nQ 454 2598 371 2688 \nQ 288 2778 58 2790 \nL 58 2880 \nL 992 2880 \nL 992 813 \nQ 992 595 1123 451 \nQ 1254 307 1446 307 \nQ 1760 307 1984 506 \nQ 2067 582 2099 649 \nQ 2131 717 2131 877 \nL 2131 2355 \nQ 2131 2605 2041 2678 \nQ 1952 2752 1658 2771 \nL 1658 2880 \nL 2669 2880 \nL 2669 685 \nQ 2669 461 2742 390 \nQ 2816 320 3034 320 \nL 3072 320 \nz\n\" transform=\"scale(0.015625)\"/>\n        <path id=\"STIXGeneral-Regular-6e\" d=\"M 3104 0 \nL 1773 0 \nL 1779 96 \nQ 2016 115 2096 233 \nQ 2176 352 2176 672 \nL 2176 1946 \nQ 2176 2592 1709 2592 \nQ 1549 2592 1408 2515 \nQ 1267 2438 1050 2227 \nL 1050 461 \nQ 1050 269 1136 192 \nQ 1222 115 1466 96 \nL 1466 0 \nL 115 0 \nL 115 96 \nQ 358 115 435 214 \nQ 512 314 512 602 \nL 512 2157 \nQ 512 2394 467 2483 \nQ 422 2573 288 2573 \nQ 160 2573 102 2547 \nL 102 2656 \nQ 550 2784 979 2944 \nL 1030 2925 \nL 1030 2426 \nL 1037 2426 \nQ 1491 2944 1958 2944 \nQ 2323 2944 2518 2688 \nQ 2714 2432 2714 1958 \nL 2714 544 \nQ 2714 288 2790 205 \nQ 2867 122 3104 96 \nL 3104 0 \nz\n\" transform=\"scale(0.015625)\"/>\n       </defs>\n       <use xlink:href=\"#STIXGeneral-Regular-70\"/>\n       <use xlink:href=\"#STIXGeneral-Regular-72\" x=\"49.999985\"/>\n       <use xlink:href=\"#STIXGeneral-Regular-6f\" x=\"83.299973\"/>\n       <use xlink:href=\"#STIXGeneral-Regular-64\" x=\"133.299957\"/>\n       <use xlink:href=\"#STIXGeneral-Regular-75\" x=\"183.299942\"/>\n       <use xlink:href=\"#STIXGeneral-Regular-63\" x=\"233.299927\"/>\n       <use xlink:href=\"#STIXGeneral-Regular-74\" x=\"277.699921\"/>\n       <use xlink:href=\"#STIXGeneral-Regular-69\" x=\"305.499908\"/>\n       <use xlink:href=\"#STIXGeneral-Regular-6f\" x=\"333.299896\"/>\n       <use xlink:href=\"#STIXGeneral-Regular-6e\" x=\"383.299881\"/>\n      </g>\n     </g>\n    </g>\n    <g id=\"ytick_3\">\n     <g id=\"line2d_12\">\n      <g>\n       <use xlink:href=\"#m12e6606bc1\" x=\"83.5275\" y=\"114.880406\" style=\"fill: #323034; stroke: #323034; stroke-width: 0.8\"/>\n      </g>\n     </g>\n     <g id=\"text_14\">\n      <!-- labour -->\n      <g style=\"fill: #0000ff\" transform=\"translate(35.6475 120.344156)scale(0.16 -0.16)\">\n       <defs>\n        <path id=\"STIXGeneral-Regular-6c\" d=\"M 1645 0 \nL 134 0 \nL 134 96 \nQ 435 122 531 221 \nQ 627 320 627 589 \nL 627 3590 \nQ 627 3821 569 3910 \nQ 512 4000 358 4000 \nQ 224 4000 122 3987 \nL 122 4090 \nQ 730 4237 1133 4371 \nL 1165 4346 \nL 1165 557 \nQ 1165 288 1254 201 \nQ 1344 115 1645 96 \nL 1645 0 \nz\n\" transform=\"scale(0.015625)\"/>\n        <path id=\"STIXGeneral-Regular-62\" d=\"M 979 4358 \nL 979 2406 \nQ 1082 2650 1315 2797 \nQ 1549 2944 1843 2944 \nQ 2349 2944 2672 2541 \nQ 2995 2138 2995 1536 \nQ 2995 832 2566 384 \nQ 2138 -64 1498 -64 \nQ 1107 -64 774 67 \nQ 442 198 442 358 \nL 442 3622 \nQ 442 3859 384 3926 \nQ 326 3994 128 3994 \nQ 83 3994 19 3981 \nL 19 4090 \nL 211 4147 \nQ 864 4346 947 4371 \nL 979 4358 \nz\nM 979 2035 \nL 979 474 \nQ 979 326 1161 233 \nQ 1344 141 1600 141 \nQ 1978 141 2195 416 \nQ 2432 710 2432 1261 \nQ 2432 1888 2182 2240 \nQ 1971 2541 1613 2541 \nQ 1357 2541 1168 2390 \nQ 979 2240 979 2035 \nz\n\" transform=\"scale(0.015625)\"/>\n       </defs>\n       <use xlink:href=\"#STIXGeneral-Regular-6c\"/>\n       <use xlink:href=\"#STIXGeneral-Regular-61\" x=\"27.799988\"/>\n       <use xlink:href=\"#STIXGeneral-Regular-62\" x=\"72.199982\"/>\n       <use xlink:href=\"#STIXGeneral-Regular-6f\" x=\"122.199966\"/>\n       <use xlink:href=\"#STIXGeneral-Regular-75\" x=\"172.199951\"/>\n       <use xlink:href=\"#STIXGeneral-Regular-72\" x=\"222.199936\"/>\n      </g>\n     </g>\n    </g>\n    <g id=\"ytick_4\">\n     <g id=\"line2d_13\">\n      <g>\n       <use xlink:href=\"#m12e6606bc1\" x=\"83.5275\" y=\"70.528406\" style=\"fill: #323034; stroke: #323034; stroke-width: 0.8\"/>\n      </g>\n     </g>\n     <g id=\"text_15\">\n      <!-- price -->\n      <g style=\"fill: #0000ff\" transform=\"translate(44.5425 75.992156)scale(0.16 -0.16)\">\n       <use xlink:href=\"#STIXGeneral-Regular-70\"/>\n       <use xlink:href=\"#STIXGeneral-Regular-72\" x=\"49.999985\"/>\n       <use xlink:href=\"#STIXGeneral-Regular-69\" x=\"83.299973\"/>\n       <use xlink:href=\"#STIXGeneral-Regular-63\" x=\"111.09996\"/>\n       <use xlink:href=\"#STIXGeneral-Regular-65\" x=\"155.499954\"/>\n      </g>\n     </g>\n    </g>\n   </g>\n   <g id=\"line2d_14\">\n    <defs>\n     <path id=\"m5ebff3f84d\" d=\"M 0 4.5 \nL 0 -4.5 \n\" style=\"stroke: #000000\"/>\n    </defs>\n    <g clip-path=\"url(#p3916ddc14b)\">\n     <use xlink:href=\"#m5ebff3f84d\" x=\"140.91501\" y=\"114.880406\" style=\"fill: #0000ff; stroke: #000000\"/>\n     <use xlink:href=\"#m5ebff3f84d\" x=\"141.01266\" y=\"114.880406\" style=\"fill: #0000ff; stroke: #000000\"/>\n     <use xlink:href=\"#m5ebff3f84d\" x=\"141.27213\" y=\"114.880406\" style=\"fill: #0000ff; stroke: #000000\"/>\n     <use xlink:href=\"#m5ebff3f84d\" x=\"141.33351\" y=\"114.880406\" style=\"fill: #0000ff; stroke: #000000\"/>\n     <use xlink:href=\"#m5ebff3f84d\" x=\"141.60693\" y=\"114.880406\" style=\"fill: #0000ff; stroke: #000000\"/>\n     <use xlink:href=\"#m5ebff3f84d\" x=\"141.98358\" y=\"114.880406\" style=\"fill: #0000ff; stroke: #000000\"/>\n     <use xlink:href=\"#m5ebff3f84d\" x=\"142.04217\" y=\"114.880406\" style=\"fill: #0000ff; stroke: #000000\"/>\n     <use xlink:href=\"#m5ebff3f84d\" x=\"142.08681\" y=\"114.880406\" style=\"fill: #0000ff; stroke: #000000\"/>\n     <use xlink:href=\"#m5ebff3f84d\" x=\"142.27095\" y=\"114.880406\" style=\"fill: #0000ff; stroke: #000000\"/>\n     <use xlink:href=\"#m5ebff3f84d\" x=\"142.41603\" y=\"114.880406\" style=\"fill: #0000ff; stroke: #000000\"/>\n     <use xlink:href=\"#m5ebff3f84d\" x=\"142.52484\" y=\"114.880406\" style=\"fill: #0000ff; stroke: #000000\"/>\n     <use xlink:href=\"#m5ebff3f84d\" x=\"142.76478\" y=\"114.880406\" style=\"fill: #0000ff; stroke: #000000\"/>\n     <use xlink:href=\"#m5ebff3f84d\" x=\"142.86243\" y=\"114.880406\" style=\"fill: #0000ff; stroke: #000000\"/>\n     <use xlink:href=\"#m5ebff3f84d\" x=\"144.24069\" y=\"114.880406\" style=\"fill: #0000ff; stroke: #000000\"/>\n     <use xlink:href=\"#m5ebff3f84d\" x=\"144.39972\" y=\"114.880406\" style=\"fill: #0000ff; stroke: #000000\"/>\n     <use xlink:href=\"#m5ebff3f84d\" x=\"144.49737\" y=\"114.880406\" style=\"fill: #0000ff; stroke: #000000\"/>\n     <use xlink:href=\"#m5ebff3f84d\" x=\"144.51969\" y=\"114.880406\" style=\"fill: #0000ff; stroke: #000000\"/>\n     <use xlink:href=\"#m5ebff3f84d\" x=\"145.23114\" y=\"114.880406\" style=\"fill: #0000ff; stroke: #000000\"/>\n     <use xlink:href=\"#m5ebff3f84d\" x=\"145.30647\" y=\"114.880406\" style=\"fill: #0000ff; stroke: #000000\"/>\n     <use xlink:href=\"#m5ebff3f84d\" x=\"145.38738\" y=\"114.880406\" style=\"fill: #0000ff; stroke: #000000\"/>\n     <use xlink:href=\"#m5ebff3f84d\" x=\"146.57313\" y=\"114.880406\" style=\"fill: #0000ff; stroke: #000000\"/>\n     <use xlink:href=\"#m5ebff3f84d\" x=\"146.63172\" y=\"114.880406\" style=\"fill: #0000ff; stroke: #000000\"/>\n     <use xlink:href=\"#m5ebff3f84d\" x=\"146.69031\" y=\"114.880406\" style=\"fill: #0000ff; stroke: #000000\"/>\n     <use xlink:href=\"#m5ebff3f84d\" x=\"146.76285\" y=\"114.880406\" style=\"fill: #0000ff; stroke: #000000\"/>\n     <use xlink:href=\"#m5ebff3f84d\" x=\"147.02511\" y=\"114.880406\" style=\"fill: #0000ff; stroke: #000000\"/>\n     <use xlink:href=\"#m5ebff3f84d\" x=\"147.26226\" y=\"114.880406\" style=\"fill: #0000ff; stroke: #000000\"/>\n     <use xlink:href=\"#m5ebff3f84d\" x=\"147.52452\" y=\"114.880406\" style=\"fill: #0000ff; stroke: #000000\"/>\n     <use xlink:href=\"#m5ebff3f84d\" x=\"147.6417\" y=\"114.880406\" style=\"fill: #0000ff; stroke: #000000\"/>\n     <use xlink:href=\"#m5ebff3f84d\" x=\"147.68913\" y=\"114.880406\" style=\"fill: #0000ff; stroke: #000000\"/>\n     <use xlink:href=\"#m5ebff3f84d\" x=\"147.87048\" y=\"114.880406\" style=\"fill: #0000ff; stroke: #000000\"/>\n     <use xlink:href=\"#m5ebff3f84d\" x=\"147.97371\" y=\"114.880406\" style=\"fill: #0000ff; stroke: #000000\"/>\n     <use xlink:href=\"#m5ebff3f84d\" x=\"147.99603\" y=\"114.880406\" style=\"fill: #0000ff; stroke: #000000\"/>\n     <use xlink:href=\"#m5ebff3f84d\" x=\"148.33083\" y=\"70.528406\" style=\"fill: #0000ff; stroke: #000000\"/>\n     <use xlink:href=\"#m5ebff3f84d\" x=\"149.00043\" y=\"114.880406\" style=\"fill: #0000ff; stroke: #000000\"/>\n     <use xlink:href=\"#m5ebff3f84d\" x=\"149.19573\" y=\"114.880406\" style=\"fill: #0000ff; stroke: #000000\"/>\n     <use xlink:href=\"#m5ebff3f84d\" x=\"149.30454\" y=\"114.880406\" style=\"fill: #0000ff; stroke: #000000\"/>\n     <use xlink:href=\"#m5ebff3f84d\" x=\"151.15989\" y=\"114.880406\" style=\"fill: #0000ff; stroke: #000000\"/>\n     <use xlink:href=\"#m5ebff3f84d\" x=\"151.26033\" y=\"114.880406\" style=\"fill: #0000ff; stroke: #000000\"/>\n     <use xlink:href=\"#m5ebff3f84d\" x=\"151.31055\" y=\"114.880406\" style=\"fill: #0000ff; stroke: #000000\"/>\n     <use xlink:href=\"#m5ebff3f84d\" x=\"151.45563\" y=\"114.880406\" style=\"fill: #0000ff; stroke: #000000\"/>\n     <use xlink:href=\"#m5ebff3f84d\" x=\"151.58397\" y=\"114.880406\" style=\"fill: #0000ff; stroke: #000000\"/>\n     <use xlink:href=\"#m5ebff3f84d\" x=\"151.69557\" y=\"114.880406\" style=\"fill: #0000ff; stroke: #000000\"/>\n     <use xlink:href=\"#m5ebff3f84d\" x=\"152.30658\" y=\"114.880406\" style=\"fill: #0000ff; stroke: #000000\"/>\n     <use xlink:href=\"#m5ebff3f84d\" x=\"152.98455\" y=\"114.880406\" style=\"fill: #0000ff; stroke: #000000\"/>\n     <use xlink:href=\"#m5ebff3f84d\" x=\"153.21612\" y=\"70.528406\" style=\"fill: #0000ff; stroke: #000000\"/>\n     <use xlink:href=\"#m5ebff3f84d\" x=\"153.56766\" y=\"114.880406\" style=\"fill: #0000ff; stroke: #000000\"/>\n     <use xlink:href=\"#m5ebff3f84d\" x=\"153.72669\" y=\"159.232406\" style=\"fill: #0000ff; stroke: #000000\"/>\n     <use xlink:href=\"#m5ebff3f84d\" x=\"153.975\" y=\"114.880406\" style=\"fill: #0000ff; stroke: #000000\"/>\n     <use xlink:href=\"#m5ebff3f84d\" x=\"154.12845\" y=\"114.880406\" style=\"fill: #0000ff; stroke: #000000\"/>\n     <use xlink:href=\"#m5ebff3f84d\" x=\"155.02962\" y=\"114.880406\" style=\"fill: #0000ff; stroke: #000000\"/>\n     <use xlink:href=\"#m5ebff3f84d\" x=\"155.47044\" y=\"114.880406\" style=\"fill: #0000ff; stroke: #000000\"/>\n     <use xlink:href=\"#m5ebff3f84d\" x=\"157.96191\" y=\"114.880406\" style=\"fill: #0000ff; stroke: #000000\"/>\n     <use xlink:href=\"#m5ebff3f84d\" x=\"158.59245\" y=\"114.880406\" style=\"fill: #0000ff; stroke: #000000\"/>\n     <use xlink:href=\"#m5ebff3f84d\" x=\"158.65383\" y=\"114.880406\" style=\"fill: #0000ff; stroke: #000000\"/>\n     <use xlink:href=\"#m5ebff3f84d\" x=\"158.93004\" y=\"114.880406\" style=\"fill: #0000ff; stroke: #000000\"/>\n     <use xlink:href=\"#m5ebff3f84d\" x=\"160.49244\" y=\"114.880406\" style=\"fill: #0000ff; stroke: #000000\"/>\n     <use xlink:href=\"#m5ebff3f84d\" x=\"160.68774\" y=\"114.880406\" style=\"fill: #0000ff; stroke: #000000\"/>\n     <use xlink:href=\"#m5ebff3f84d\" x=\"160.74912\" y=\"114.880406\" style=\"fill: #0000ff; stroke: #000000\"/>\n     <use xlink:href=\"#m5ebff3f84d\" x=\"162.8193\" y=\"70.528406\" style=\"fill: #0000ff; stroke: #000000\"/>\n     <use xlink:href=\"#m5ebff3f84d\" x=\"163.36335\" y=\"114.880406\" style=\"fill: #0000ff; stroke: #000000\"/>\n     <use xlink:href=\"#m5ebff3f84d\" x=\"166.26216\" y=\"114.880406\" style=\"fill: #0000ff; stroke: #000000\"/>\n     <use xlink:href=\"#m5ebff3f84d\" x=\"166.3347\" y=\"114.880406\" style=\"fill: #0000ff; stroke: #000000\"/>\n     <use xlink:href=\"#m5ebff3f84d\" x=\"166.39887\" y=\"114.880406\" style=\"fill: #0000ff; stroke: #000000\"/>\n     <use xlink:href=\"#m5ebff3f84d\" x=\"166.46025\" y=\"114.880406\" style=\"fill: #0000ff; stroke: #000000\"/>\n     <use xlink:href=\"#m5ebff3f84d\" x=\"166.58022\" y=\"114.880406\" style=\"fill: #0000ff; stroke: #000000\"/>\n     <use xlink:href=\"#m5ebff3f84d\" x=\"167.23308\" y=\"114.880406\" style=\"fill: #0000ff; stroke: #000000\"/>\n     <use xlink:href=\"#m5ebff3f84d\" x=\"174.04905\" y=\"70.528406\" style=\"fill: #0000ff; stroke: #000000\"/>\n     <use xlink:href=\"#m5ebff3f84d\" x=\"174.09369\" y=\"70.528406\" style=\"fill: #0000ff; stroke: #000000\"/>\n     <use xlink:href=\"#m5ebff3f84d\" x=\"174.16902\" y=\"70.528406\" style=\"fill: #0000ff; stroke: #000000\"/>\n     <use xlink:href=\"#m5ebff3f84d\" x=\"174.24156\" y=\"70.528406\" style=\"fill: #0000ff; stroke: #000000\"/>\n     <use xlink:href=\"#m5ebff3f84d\" x=\"174.26109\" y=\"70.528406\" style=\"fill: #0000ff; stroke: #000000\"/>\n     <use xlink:href=\"#m5ebff3f84d\" x=\"174.30015\" y=\"70.528406\" style=\"fill: #0000ff; stroke: #000000\"/>\n     <use xlink:href=\"#m5ebff3f84d\" x=\"174.8721\" y=\"114.880406\" style=\"fill: #0000ff; stroke: #000000\"/>\n     <use xlink:href=\"#m5ebff3f84d\" x=\"174.93627\" y=\"114.880406\" style=\"fill: #0000ff; stroke: #000000\"/>\n     <use xlink:href=\"#m5ebff3f84d\" x=\"174.98091\" y=\"114.880406\" style=\"fill: #0000ff; stroke: #000000\"/>\n     <use xlink:href=\"#m5ebff3f84d\" x=\"175.03113\" y=\"114.880406\" style=\"fill: #0000ff; stroke: #000000\"/>\n     <use xlink:href=\"#m5ebff3f84d\" x=\"175.18179\" y=\"114.880406\" style=\"fill: #0000ff; stroke: #000000\"/>\n     <use xlink:href=\"#m5ebff3f84d\" x=\"175.25712\" y=\"70.528406\" style=\"fill: #0000ff; stroke: #000000\"/>\n     <use xlink:href=\"#m5ebff3f84d\" x=\"175.50822\" y=\"114.880406\" style=\"fill: #0000ff; stroke: #000000\"/>\n     <use xlink:href=\"#m5ebff3f84d\" x=\"175.61703\" y=\"114.880406\" style=\"fill: #0000ff; stroke: #000000\"/>\n     <use xlink:href=\"#m5ebff3f84d\" x=\"175.68678\" y=\"70.528406\" style=\"fill: #0000ff; stroke: #000000\"/>\n     <use xlink:href=\"#m5ebff3f84d\" x=\"175.75374\" y=\"114.880406\" style=\"fill: #0000ff; stroke: #000000\"/>\n     <use xlink:href=\"#m5ebff3f84d\" x=\"175.86813\" y=\"114.880406\" style=\"fill: #0000ff; stroke: #000000\"/>\n     <use xlink:href=\"#m5ebff3f84d\" x=\"176.1555\" y=\"114.880406\" style=\"fill: #0000ff; stroke: #000000\"/>\n     <use xlink:href=\"#m5ebff3f84d\" x=\"176.17782\" y=\"114.880406\" style=\"fill: #0000ff; stroke: #000000\"/>\n     <use xlink:href=\"#m5ebff3f84d\" x=\"176.27547\" y=\"114.880406\" style=\"fill: #0000ff; stroke: #000000\"/>\n     <use xlink:href=\"#m5ebff3f84d\" x=\"176.32569\" y=\"114.880406\" style=\"fill: #0000ff; stroke: #000000\"/>\n     <use xlink:href=\"#m5ebff3f84d\" x=\"176.42892\" y=\"114.880406\" style=\"fill: #0000ff; stroke: #000000\"/>\n     <use xlink:href=\"#m5ebff3f84d\" x=\"176.53494\" y=\"114.880406\" style=\"fill: #0000ff; stroke: #000000\"/>\n     <use xlink:href=\"#m5ebff3f84d\" x=\"176.65212\" y=\"114.880406\" style=\"fill: #0000ff; stroke: #000000\"/>\n     <use xlink:href=\"#m5ebff3f84d\" x=\"176.73861\" y=\"114.880406\" style=\"fill: #0000ff; stroke: #000000\"/>\n     <use xlink:href=\"#m5ebff3f84d\" x=\"176.86974\" y=\"114.880406\" style=\"fill: #0000ff; stroke: #000000\"/>\n     <use xlink:href=\"#m5ebff3f84d\" x=\"177.09294\" y=\"114.880406\" style=\"fill: #0000ff; stroke: #000000\"/>\n     <use xlink:href=\"#m5ebff3f84d\" x=\"177.16827\" y=\"114.880406\" style=\"fill: #0000ff; stroke: #000000\"/>\n     <use xlink:href=\"#m5ebff3f84d\" x=\"177.25755\" y=\"114.880406\" style=\"fill: #0000ff; stroke: #000000\"/>\n     <use xlink:href=\"#m5ebff3f84d\" x=\"177.98853\" y=\"114.880406\" style=\"fill: #0000ff; stroke: #000000\"/>\n     <use xlink:href=\"#m5ebff3f84d\" x=\"178.13082\" y=\"114.880406\" style=\"fill: #0000ff; stroke: #000000\"/>\n     <use xlink:href=\"#m5ebff3f84d\" x=\"178.28427\" y=\"203.584406\" style=\"fill: #0000ff; stroke: #000000\"/>\n     <use xlink:href=\"#m5ebff3f84d\" x=\"178.37355\" y=\"114.880406\" style=\"fill: #0000ff; stroke: #000000\"/>\n     <use xlink:href=\"#m5ebff3f84d\" x=\"178.44609\" y=\"114.880406\" style=\"fill: #0000ff; stroke: #000000\"/>\n     <use xlink:href=\"#m5ebff3f84d\" x=\"178.71672\" y=\"114.880406\" style=\"fill: #0000ff; stroke: #000000\"/>\n     <use xlink:href=\"#m5ebff3f84d\" x=\"178.8897\" y=\"70.528406\" style=\"fill: #0000ff; stroke: #000000\"/>\n     <use xlink:href=\"#m5ebff3f84d\" x=\"179.04036\" y=\"114.880406\" style=\"fill: #0000ff; stroke: #000000\"/>\n     <use xlink:href=\"#m5ebff3f84d\" x=\"179.11569\" y=\"114.880406\" style=\"fill: #0000ff; stroke: #000000\"/>\n     <use xlink:href=\"#m5ebff3f84d\" x=\"179.16591\" y=\"114.880406\" style=\"fill: #0000ff; stroke: #000000\"/>\n     <use xlink:href=\"#m5ebff3f84d\" x=\"179.28588\" y=\"70.528406\" style=\"fill: #0000ff; stroke: #000000\"/>\n     <use xlink:href=\"#m5ebff3f84d\" x=\"179.30262\" y=\"70.528406\" style=\"fill: #0000ff; stroke: #000000\"/>\n     <use xlink:href=\"#m5ebff3f84d\" x=\"179.32494\" y=\"114.880406\" style=\"fill: #0000ff; stroke: #000000\"/>\n     <use xlink:href=\"#m5ebff3f84d\" x=\"179.47002\" y=\"70.528406\" style=\"fill: #0000ff; stroke: #000000\"/>\n     <use xlink:href=\"#m5ebff3f84d\" x=\"179.4756\" y=\"114.880406\" style=\"fill: #0000ff; stroke: #000000\"/>\n     <use xlink:href=\"#m5ebff3f84d\" x=\"179.63463\" y=\"114.880406\" style=\"fill: #0000ff; stroke: #000000\"/>\n     <use xlink:href=\"#m5ebff3f84d\" x=\"179.67648\" y=\"70.528406\" style=\"fill: #0000ff; stroke: #000000\"/>\n     <use xlink:href=\"#m5ebff3f84d\" x=\"179.68764\" y=\"70.528406\" style=\"fill: #0000ff; stroke: #000000\"/>\n     <use xlink:href=\"#m5ebff3f84d\" x=\"179.7546\" y=\"70.528406\" style=\"fill: #0000ff; stroke: #000000\"/>\n     <use xlink:href=\"#m5ebff3f84d\" x=\"179.84109\" y=\"70.528406\" style=\"fill: #0000ff; stroke: #000000\"/>\n     <use xlink:href=\"#m5ebff3f84d\" x=\"179.84946\" y=\"114.880406\" style=\"fill: #0000ff; stroke: #000000\"/>\n     <use xlink:href=\"#m5ebff3f84d\" x=\"179.87736\" y=\"70.528406\" style=\"fill: #0000ff; stroke: #000000\"/>\n     <use xlink:href=\"#m5ebff3f84d\" x=\"179.88852\" y=\"114.880406\" style=\"fill: #0000ff; stroke: #000000\"/>\n     <use xlink:href=\"#m5ebff3f84d\" x=\"179.9499\" y=\"70.528406\" style=\"fill: #0000ff; stroke: #000000\"/>\n     <use xlink:href=\"#m5ebff3f84d\" x=\"180.01965\" y=\"70.528406\" style=\"fill: #0000ff; stroke: #000000\"/>\n     <use xlink:href=\"#m5ebff3f84d\" x=\"180.63066\" y=\"203.584406\" style=\"fill: #0000ff; stroke: #000000\"/>\n     <use xlink:href=\"#m5ebff3f84d\" x=\"181.61553\" y=\"70.528406\" style=\"fill: #0000ff; stroke: #000000\"/>\n     <use xlink:href=\"#m5ebff3f84d\" x=\"181.89453\" y=\"114.880406\" style=\"fill: #0000ff; stroke: #000000\"/>\n     <use xlink:href=\"#m5ebff3f84d\" x=\"182.11215\" y=\"114.880406\" style=\"fill: #0000ff; stroke: #000000\"/>\n     <use xlink:href=\"#m5ebff3f84d\" x=\"182.2377\" y=\"70.528406\" style=\"fill: #0000ff; stroke: #000000\"/>\n     <use xlink:href=\"#m5ebff3f84d\" x=\"182.24328\" y=\"114.880406\" style=\"fill: #0000ff; stroke: #000000\"/>\n     <use xlink:href=\"#m5ebff3f84d\" x=\"182.43858\" y=\"114.880406\" style=\"fill: #0000ff; stroke: #000000\"/>\n     <use xlink:href=\"#m5ebff3f84d\" x=\"182.53902\" y=\"114.880406\" style=\"fill: #0000ff; stroke: #000000\"/>\n     <use xlink:href=\"#m5ebff3f84d\" x=\"182.62272\" y=\"114.880406\" style=\"fill: #0000ff; stroke: #000000\"/>\n     <use xlink:href=\"#m5ebff3f84d\" x=\"182.82639\" y=\"70.528406\" style=\"fill: #0000ff; stroke: #000000\"/>\n     <use xlink:href=\"#m5ebff3f84d\" x=\"182.83197\" y=\"114.880406\" style=\"fill: #0000ff; stroke: #000000\"/>\n     <use xlink:href=\"#m5ebff3f84d\" x=\"182.88777\" y=\"70.528406\" style=\"fill: #0000ff; stroke: #000000\"/>\n     <use xlink:href=\"#m5ebff3f84d\" x=\"182.95473\" y=\"70.528406\" style=\"fill: #0000ff; stroke: #000000\"/>\n     <use xlink:href=\"#m5ebff3f84d\" x=\"182.98542\" y=\"70.528406\" style=\"fill: #0000ff; stroke: #000000\"/>\n     <use xlink:href=\"#m5ebff3f84d\" x=\"183.10818\" y=\"114.880406\" style=\"fill: #0000ff; stroke: #000000\"/>\n     <use xlink:href=\"#m5ebff3f84d\" x=\"183.33417\" y=\"70.528406\" style=\"fill: #0000ff; stroke: #000000\"/>\n     <use xlink:href=\"#m5ebff3f84d\" x=\"183.42345\" y=\"70.528406\" style=\"fill: #0000ff; stroke: #000000\"/>\n     <use xlink:href=\"#m5ebff3f84d\" x=\"183.42903\" y=\"114.880406\" style=\"fill: #0000ff; stroke: #000000\"/>\n     <use xlink:href=\"#m5ebff3f84d\" x=\"183.52947\" y=\"70.528406\" style=\"fill: #0000ff; stroke: #000000\"/>\n     <use xlink:href=\"#m5ebff3f84d\" x=\"183.63828\" y=\"70.528406\" style=\"fill: #0000ff; stroke: #000000\"/>\n     <use xlink:href=\"#m5ebff3f84d\" x=\"183.73872\" y=\"114.880406\" style=\"fill: #0000ff; stroke: #000000\"/>\n     <use xlink:href=\"#m5ebff3f84d\" x=\"183.77499\" y=\"70.528406\" style=\"fill: #0000ff; stroke: #000000\"/>\n     <use xlink:href=\"#m5ebff3f84d\" x=\"183.78057\" y=\"114.880406\" style=\"fill: #0000ff; stroke: #000000\"/>\n     <use xlink:href=\"#m5ebff3f84d\" x=\"184.107\" y=\"114.880406\" style=\"fill: #0000ff; stroke: #000000\"/>\n     <use xlink:href=\"#m5ebff3f84d\" x=\"184.26045\" y=\"114.880406\" style=\"fill: #0000ff; stroke: #000000\"/>\n     <use xlink:href=\"#m5ebff3f84d\" x=\"184.36926\" y=\"114.880406\" style=\"fill: #0000ff; stroke: #000000\"/>\n     <use xlink:href=\"#m5ebff3f84d\" x=\"184.45017\" y=\"70.528406\" style=\"fill: #0000ff; stroke: #000000\"/>\n     <use xlink:href=\"#m5ebff3f84d\" x=\"184.54224\" y=\"70.528406\" style=\"fill: #0000ff; stroke: #000000\"/>\n     <use xlink:href=\"#m5ebff3f84d\" x=\"184.63989\" y=\"114.880406\" style=\"fill: #0000ff; stroke: #000000\"/>\n     <use xlink:href=\"#m5ebff3f84d\" x=\"184.82682\" y=\"70.528406\" style=\"fill: #0000ff; stroke: #000000\"/>\n     <use xlink:href=\"#m5ebff3f84d\" x=\"184.89378\" y=\"70.528406\" style=\"fill: #0000ff; stroke: #000000\"/>\n     <use xlink:href=\"#m5ebff3f84d\" x=\"185.01375\" y=\"114.880406\" style=\"fill: #0000ff; stroke: #000000\"/>\n     <use xlink:href=\"#m5ebff3f84d\" x=\"185.45178\" y=\"114.880406\" style=\"fill: #0000ff; stroke: #000000\"/>\n     <use xlink:href=\"#m5ebff3f84d\" x=\"185.63034\" y=\"70.528406\" style=\"fill: #0000ff; stroke: #000000\"/>\n     <use xlink:href=\"#m5ebff3f84d\" x=\"185.71683\" y=\"70.528406\" style=\"fill: #0000ff; stroke: #000000\"/>\n     <use xlink:href=\"#m5ebff3f84d\" x=\"185.77542\" y=\"70.528406\" style=\"fill: #0000ff; stroke: #000000\"/>\n     <use xlink:href=\"#m5ebff3f84d\" x=\"185.88981\" y=\"114.880406\" style=\"fill: #0000ff; stroke: #000000\"/>\n     <use xlink:href=\"#m5ebff3f84d\" x=\"186.02094\" y=\"114.880406\" style=\"fill: #0000ff; stroke: #000000\"/>\n     <use xlink:href=\"#m5ebff3f84d\" x=\"186.06558\" y=\"114.880406\" style=\"fill: #0000ff; stroke: #000000\"/>\n     <use xlink:href=\"#m5ebff3f84d\" x=\"186.2832\" y=\"114.880406\" style=\"fill: #0000ff; stroke: #000000\"/>\n     <use xlink:href=\"#m5ebff3f84d\" x=\"190.78068\" y=\"70.528406\" style=\"fill: #0000ff; stroke: #000000\"/>\n     <use xlink:href=\"#m5ebff3f84d\" x=\"190.86996\" y=\"70.528406\" style=\"fill: #0000ff; stroke: #000000\"/>\n     <use xlink:href=\"#m5ebff3f84d\" x=\"191.05131\" y=\"70.528406\" style=\"fill: #0000ff; stroke: #000000\"/>\n     <use xlink:href=\"#m5ebff3f84d\" x=\"191.11269\" y=\"70.528406\" style=\"fill: #0000ff; stroke: #000000\"/>\n     <use xlink:href=\"#m5ebff3f84d\" x=\"191.1378\" y=\"70.528406\" style=\"fill: #0000ff; stroke: #000000\"/>\n     <use xlink:href=\"#m5ebff3f84d\" x=\"191.16012\" y=\"70.528406\" style=\"fill: #0000ff; stroke: #000000\"/>\n     <use xlink:href=\"#m5ebff3f84d\" x=\"191.17965\" y=\"70.528406\" style=\"fill: #0000ff; stroke: #000000\"/>\n     <use xlink:href=\"#m5ebff3f84d\" x=\"191.1936\" y=\"70.528406\" style=\"fill: #0000ff; stroke: #000000\"/>\n     <use xlink:href=\"#m5ebff3f84d\" x=\"191.36937\" y=\"70.528406\" style=\"fill: #0000ff; stroke: #000000\"/>\n     <use xlink:href=\"#m5ebff3f84d\" x=\"191.60931\" y=\"70.528406\" style=\"fill: #0000ff; stroke: #000000\"/>\n     <use xlink:href=\"#m5ebff3f84d\" x=\"191.70138\" y=\"70.528406\" style=\"fill: #0000ff; stroke: #000000\"/>\n     <use xlink:href=\"#m5ebff3f84d\" x=\"191.85483\" y=\"70.528406\" style=\"fill: #0000ff; stroke: #000000\"/>\n     <use xlink:href=\"#m5ebff3f84d\" x=\"191.88831\" y=\"70.528406\" style=\"fill: #0000ff; stroke: #000000\"/>\n     <use xlink:href=\"#m5ebff3f84d\" x=\"191.96922\" y=\"70.528406\" style=\"fill: #0000ff; stroke: #000000\"/>\n     <use xlink:href=\"#m5ebff3f84d\" x=\"191.99712\" y=\"70.528406\" style=\"fill: #0000ff; stroke: #000000\"/>\n     <use xlink:href=\"#m5ebff3f84d\" x=\"192.06408\" y=\"70.528406\" style=\"fill: #0000ff; stroke: #000000\"/>\n     <use xlink:href=\"#m5ebff3f84d\" x=\"192.33471\" y=\"70.528406\" style=\"fill: #0000ff; stroke: #000000\"/>\n     <use xlink:href=\"#m5ebff3f84d\" x=\"192.37935\" y=\"70.528406\" style=\"fill: #0000ff; stroke: #000000\"/>\n     <use xlink:href=\"#m5ebff3f84d\" x=\"192.40446\" y=\"70.528406\" style=\"fill: #0000ff; stroke: #000000\"/>\n     <use xlink:href=\"#m5ebff3f84d\" x=\"192.57186\" y=\"70.528406\" style=\"fill: #0000ff; stroke: #000000\"/>\n     <use xlink:href=\"#m5ebff3f84d\" x=\"192.60534\" y=\"70.528406\" style=\"fill: #0000ff; stroke: #000000\"/>\n     <use xlink:href=\"#m5ebff3f84d\" x=\"192.62487\" y=\"70.528406\" style=\"fill: #0000ff; stroke: #000000\"/>\n     <use xlink:href=\"#m5ebff3f84d\" x=\"192.92619\" y=\"70.528406\" style=\"fill: #0000ff; stroke: #000000\"/>\n     <use xlink:href=\"#m5ebff3f84d\" x=\"192.9513\" y=\"70.528406\" style=\"fill: #0000ff; stroke: #000000\"/>\n     <use xlink:href=\"#m5ebff3f84d\" x=\"193.15497\" y=\"70.528406\" style=\"fill: #0000ff; stroke: #000000\"/>\n     <use xlink:href=\"#m5ebff3f84d\" x=\"193.1745\" y=\"70.528406\" style=\"fill: #0000ff; stroke: #000000\"/>\n     <use xlink:href=\"#m5ebff3f84d\" x=\"194.1789\" y=\"70.528406\" style=\"fill: #0000ff; stroke: #000000\"/>\n     <use xlink:href=\"#m5ebff3f84d\" x=\"194.61972\" y=\"70.528406\" style=\"fill: #0000ff; stroke: #000000\"/>\n     <use xlink:href=\"#m5ebff3f84d\" x=\"194.64762\" y=\"70.528406\" style=\"fill: #0000ff; stroke: #000000\"/>\n     <use xlink:href=\"#m5ebff3f84d\" x=\"194.97405\" y=\"70.528406\" style=\"fill: #0000ff; stroke: #000000\"/>\n     <use xlink:href=\"#m5ebff3f84d\" x=\"195.35628\" y=\"70.528406\" style=\"fill: #0000ff; stroke: #000000\"/>\n     <use xlink:href=\"#m5ebff3f84d\" x=\"195.8808\" y=\"70.528406\" style=\"fill: #0000ff; stroke: #000000\"/>\n     <use xlink:href=\"#m5ebff3f84d\" x=\"195.94218\" y=\"70.528406\" style=\"fill: #0000ff; stroke: #000000\"/>\n     <use xlink:href=\"#m5ebff3f84d\" x=\"195.97845\" y=\"70.528406\" style=\"fill: #0000ff; stroke: #000000\"/>\n     <use xlink:href=\"#m5ebff3f84d\" x=\"196.05936\" y=\"70.528406\" style=\"fill: #0000ff; stroke: #000000\"/>\n     <use xlink:href=\"#m5ebff3f84d\" x=\"196.10679\" y=\"70.528406\" style=\"fill: #0000ff; stroke: #000000\"/>\n     <use xlink:href=\"#m5ebff3f84d\" x=\"196.8573\" y=\"70.528406\" style=\"fill: #0000ff; stroke: #000000\"/>\n     <use xlink:href=\"#m5ebff3f84d\" x=\"196.9968\" y=\"70.528406\" style=\"fill: #0000ff; stroke: #000000\"/>\n     <use xlink:href=\"#m5ebff3f84d\" x=\"197.14746\" y=\"70.528406\" style=\"fill: #0000ff; stroke: #000000\"/>\n     <use xlink:href=\"#m5ebff3f84d\" x=\"197.30928\" y=\"70.528406\" style=\"fill: #0000ff; stroke: #000000\"/>\n     <use xlink:href=\"#m5ebff3f84d\" x=\"197.499\" y=\"114.880406\" style=\"fill: #0000ff; stroke: #000000\"/>\n     <use xlink:href=\"#m5ebff3f84d\" x=\"197.6106\" y=\"114.880406\" style=\"fill: #0000ff; stroke: #000000\"/>\n     <use xlink:href=\"#m5ebff3f84d\" x=\"197.7222\" y=\"114.880406\" style=\"fill: #0000ff; stroke: #000000\"/>\n     <use xlink:href=\"#m5ebff3f84d\" x=\"197.78358\" y=\"114.880406\" style=\"fill: #0000ff; stroke: #000000\"/>\n     <use xlink:href=\"#m5ebff3f84d\" x=\"197.80311\" y=\"114.880406\" style=\"fill: #0000ff; stroke: #000000\"/>\n     <use xlink:href=\"#m5ebff3f84d\" x=\"197.88123\" y=\"114.880406\" style=\"fill: #0000ff; stroke: #000000\"/>\n     <use xlink:href=\"#m5ebff3f84d\" x=\"197.92308\" y=\"114.880406\" style=\"fill: #0000ff; stroke: #000000\"/>\n     <use xlink:href=\"#m5ebff3f84d\" x=\"197.95377\" y=\"114.880406\" style=\"fill: #0000ff; stroke: #000000\"/>\n     <use xlink:href=\"#m5ebff3f84d\" x=\"198.16023\" y=\"114.880406\" style=\"fill: #0000ff; stroke: #000000\"/>\n     <use xlink:href=\"#m5ebff3f84d\" x=\"198.25788\" y=\"114.880406\" style=\"fill: #0000ff; stroke: #000000\"/>\n     <use xlink:href=\"#m5ebff3f84d\" x=\"198.34158\" y=\"114.880406\" style=\"fill: #0000ff; stroke: #000000\"/>\n     <use xlink:href=\"#m5ebff3f84d\" x=\"198.36948\" y=\"114.880406\" style=\"fill: #0000ff; stroke: #000000\"/>\n     <use xlink:href=\"#m5ebff3f84d\" x=\"198.42528\" y=\"114.880406\" style=\"fill: #0000ff; stroke: #000000\"/>\n     <use xlink:href=\"#m5ebff3f84d\" x=\"198.61221\" y=\"114.880406\" style=\"fill: #0000ff; stroke: #000000\"/>\n     <use xlink:href=\"#m5ebff3f84d\" x=\"198.66522\" y=\"114.880406\" style=\"fill: #0000ff; stroke: #000000\"/>\n     <use xlink:href=\"#m5ebff3f84d\" x=\"198.71265\" y=\"70.528406\" style=\"fill: #0000ff; stroke: #000000\"/>\n     <use xlink:href=\"#m5ebff3f84d\" x=\"199.18416\" y=\"114.880406\" style=\"fill: #0000ff; stroke: #000000\"/>\n     <use xlink:href=\"#m5ebff3f84d\" x=\"199.19253\" y=\"114.880406\" style=\"fill: #0000ff; stroke: #000000\"/>\n     <use xlink:href=\"#m5ebff3f84d\" x=\"199.29855\" y=\"114.880406\" style=\"fill: #0000ff; stroke: #000000\"/>\n     <use xlink:href=\"#m5ebff3f84d\" x=\"199.89561\" y=\"114.880406\" style=\"fill: #0000ff; stroke: #000000\"/>\n     <use xlink:href=\"#m5ebff3f84d\" x=\"199.95978\" y=\"114.880406\" style=\"fill: #0000ff; stroke: #000000\"/>\n     <use xlink:href=\"#m5ebff3f84d\" x=\"200.01279\" y=\"114.880406\" style=\"fill: #0000ff; stroke: #000000\"/>\n     <use xlink:href=\"#m5ebff3f84d\" x=\"200.06859\" y=\"114.880406\" style=\"fill: #0000ff; stroke: #000000\"/>\n     <use xlink:href=\"#m5ebff3f84d\" x=\"200.19693\" y=\"114.880406\" style=\"fill: #0000ff; stroke: #000000\"/>\n     <use xlink:href=\"#m5ebff3f84d\" x=\"200.24715\" y=\"70.528406\" style=\"fill: #0000ff; stroke: #000000\"/>\n     <use xlink:href=\"#m5ebff3f84d\" x=\"200.30295\" y=\"114.880406\" style=\"fill: #0000ff; stroke: #000000\"/>\n     <use xlink:href=\"#m5ebff3f84d\" x=\"200.35596\" y=\"114.880406\" style=\"fill: #0000ff; stroke: #000000\"/>\n     <use xlink:href=\"#m5ebff3f84d\" x=\"200.44245\" y=\"114.880406\" style=\"fill: #0000ff; stroke: #000000\"/>\n     <use xlink:href=\"#m5ebff3f84d\" x=\"200.60148\" y=\"114.880406\" style=\"fill: #0000ff; stroke: #000000\"/>\n     <use xlink:href=\"#m5ebff3f84d\" x=\"200.85537\" y=\"70.528406\" style=\"fill: #0000ff; stroke: #000000\"/>\n     <use xlink:href=\"#m5ebff3f84d\" x=\"200.93349\" y=\"114.880406\" style=\"fill: #0000ff; stroke: #000000\"/>\n     <use xlink:href=\"#m5ebff3f84d\" x=\"200.9865\" y=\"70.528406\" style=\"fill: #0000ff; stroke: #000000\"/>\n     <use xlink:href=\"#m5ebff3f84d\" x=\"201.02556\" y=\"70.528406\" style=\"fill: #0000ff; stroke: #000000\"/>\n     <use xlink:href=\"#m5ebff3f84d\" x=\"201.09252\" y=\"70.528406\" style=\"fill: #0000ff; stroke: #000000\"/>\n     <use xlink:href=\"#m5ebff3f84d\" x=\"201.12879\" y=\"114.880406\" style=\"fill: #0000ff; stroke: #000000\"/>\n     <use xlink:href=\"#m5ebff3f84d\" x=\"201.19575\" y=\"70.528406\" style=\"fill: #0000ff; stroke: #000000\"/>\n     <use xlink:href=\"#m5ebff3f84d\" x=\"201.2097\" y=\"114.880406\" style=\"fill: #0000ff; stroke: #000000\"/>\n     <use xlink:href=\"#m5ebff3f84d\" x=\"201.27945\" y=\"70.528406\" style=\"fill: #0000ff; stroke: #000000\"/>\n     <use xlink:href=\"#m5ebff3f84d\" x=\"201.39384\" y=\"70.528406\" style=\"fill: #0000ff; stroke: #000000\"/>\n     <use xlink:href=\"#m5ebff3f84d\" x=\"201.42453\" y=\"70.528406\" style=\"fill: #0000ff; stroke: #000000\"/>\n     <use xlink:href=\"#m5ebff3f84d\" x=\"201.58077\" y=\"70.528406\" style=\"fill: #0000ff; stroke: #000000\"/>\n     <use xlink:href=\"#m5ebff3f84d\" x=\"201.71748\" y=\"70.528406\" style=\"fill: #0000ff; stroke: #000000\"/>\n     <use xlink:href=\"#m5ebff3f84d\" x=\"201.81513\" y=\"114.880406\" style=\"fill: #0000ff; stroke: #000000\"/>\n     <use xlink:href=\"#m5ebff3f84d\" x=\"201.89325\" y=\"114.880406\" style=\"fill: #0000ff; stroke: #000000\"/>\n     <use xlink:href=\"#m5ebff3f84d\" x=\"201.90441\" y=\"70.528406\" style=\"fill: #0000ff; stroke: #000000\"/>\n     <use xlink:href=\"#m5ebff3f84d\" x=\"201.93231\" y=\"70.528406\" style=\"fill: #0000ff; stroke: #000000\"/>\n     <use xlink:href=\"#m5ebff3f84d\" x=\"201.96579\" y=\"70.528406\" style=\"fill: #0000ff; stroke: #000000\"/>\n     <use xlink:href=\"#m5ebff3f84d\" x=\"202.01601\" y=\"114.880406\" style=\"fill: #0000ff; stroke: #000000\"/>\n     <use xlink:href=\"#m5ebff3f84d\" x=\"202.03554\" y=\"70.528406\" style=\"fill: #0000ff; stroke: #000000\"/>\n     <use xlink:href=\"#m5ebff3f84d\" x=\"202.06623\" y=\"70.528406\" style=\"fill: #0000ff; stroke: #000000\"/>\n     <use xlink:href=\"#m5ebff3f84d\" x=\"202.12203\" y=\"70.528406\" style=\"fill: #0000ff; stroke: #000000\"/>\n     <use xlink:href=\"#m5ebff3f84d\" x=\"202.17783\" y=\"70.528406\" style=\"fill: #0000ff; stroke: #000000\"/>\n     <use xlink:href=\"#m5ebff3f84d\" x=\"202.19178\" y=\"114.880406\" style=\"fill: #0000ff; stroke: #000000\"/>\n     <use xlink:href=\"#m5ebff3f84d\" x=\"202.30617\" y=\"114.880406\" style=\"fill: #0000ff; stroke: #000000\"/>\n     <use xlink:href=\"#m5ebff3f84d\" x=\"202.31454\" y=\"70.528406\" style=\"fill: #0000ff; stroke: #000000\"/>\n     <use xlink:href=\"#m5ebff3f84d\" x=\"202.36197\" y=\"70.528406\" style=\"fill: #0000ff; stroke: #000000\"/>\n     <use xlink:href=\"#m5ebff3f84d\" x=\"202.38429\" y=\"70.528406\" style=\"fill: #0000ff; stroke: #000000\"/>\n     <use xlink:href=\"#m5ebff3f84d\" x=\"202.50705\" y=\"70.528406\" style=\"fill: #0000ff; stroke: #000000\"/>\n     <use xlink:href=\"#m5ebff3f84d\" x=\"202.87533\" y=\"70.528406\" style=\"fill: #0000ff; stroke: #000000\"/>\n     <use xlink:href=\"#m5ebff3f84d\" x=\"202.90602\" y=\"114.880406\" style=\"fill: #0000ff; stroke: #000000\"/>\n     <use xlink:href=\"#m5ebff3f84d\" x=\"202.97019\" y=\"114.880406\" style=\"fill: #0000ff; stroke: #000000\"/>\n     <use xlink:href=\"#m5ebff3f84d\" x=\"202.98135\" y=\"70.528406\" style=\"fill: #0000ff; stroke: #000000\"/>\n     <use xlink:href=\"#m5ebff3f84d\" x=\"203.01204\" y=\"114.880406\" style=\"fill: #0000ff; stroke: #000000\"/>\n     <use xlink:href=\"#m5ebff3f84d\" x=\"203.24082\" y=\"70.528406\" style=\"fill: #0000ff; stroke: #000000\"/>\n     <use xlink:href=\"#m5ebff3f84d\" x=\"203.36916\" y=\"70.528406\" style=\"fill: #0000ff; stroke: #000000\"/>\n     <use xlink:href=\"#m5ebff3f84d\" x=\"203.4138\" y=\"114.880406\" style=\"fill: #0000ff; stroke: #000000\"/>\n     <use xlink:href=\"#m5ebff3f84d\" x=\"203.45565\" y=\"70.528406\" style=\"fill: #0000ff; stroke: #000000\"/>\n     <use xlink:href=\"#m5ebff3f84d\" x=\"203.55888\" y=\"70.528406\" style=\"fill: #0000ff; stroke: #000000\"/>\n     <use xlink:href=\"#m5ebff3f84d\" x=\"203.57004\" y=\"114.880406\" style=\"fill: #0000ff; stroke: #000000\"/>\n     <use xlink:href=\"#m5ebff3f84d\" x=\"203.63142\" y=\"70.528406\" style=\"fill: #0000ff; stroke: #000000\"/>\n     <use xlink:href=\"#m5ebff3f84d\" x=\"203.74581\" y=\"114.880406\" style=\"fill: #0000ff; stroke: #000000\"/>\n     <use xlink:href=\"#m5ebff3f84d\" x=\"203.84067\" y=\"114.880406\" style=\"fill: #0000ff; stroke: #000000\"/>\n     <use xlink:href=\"#m5ebff3f84d\" x=\"203.916\" y=\"114.880406\" style=\"fill: #0000ff; stroke: #000000\"/>\n     <use xlink:href=\"#m5ebff3f84d\" x=\"203.96064\" y=\"70.528406\" style=\"fill: #0000ff; stroke: #000000\"/>\n     <use xlink:href=\"#m5ebff3f84d\" x=\"204.16431\" y=\"114.880406\" style=\"fill: #0000ff; stroke: #000000\"/>\n     <use xlink:href=\"#m5ebff3f84d\" x=\"204.20616\" y=\"114.880406\" style=\"fill: #0000ff; stroke: #000000\"/>\n     <use xlink:href=\"#m5ebff3f84d\" x=\"204.79485\" y=\"114.880406\" style=\"fill: #0000ff; stroke: #000000\"/>\n     <use xlink:href=\"#m5ebff3f84d\" x=\"204.8646\" y=\"114.880406\" style=\"fill: #0000ff; stroke: #000000\"/>\n     <use xlink:href=\"#m5ebff3f84d\" x=\"205.03758\" y=\"114.880406\" style=\"fill: #0000ff; stroke: #000000\"/>\n     <use xlink:href=\"#m5ebff3f84d\" x=\"206.2875\" y=\"114.880406\" style=\"fill: #0000ff; stroke: #000000\"/>\n     <use xlink:href=\"#m5ebff3f84d\" x=\"206.37957\" y=\"114.880406\" style=\"fill: #0000ff; stroke: #000000\"/>\n     <use xlink:href=\"#m5ebff3f84d\" x=\"206.44653\" y=\"114.880406\" style=\"fill: #0000ff; stroke: #000000\"/>\n     <use xlink:href=\"#m5ebff3f84d\" x=\"206.48559\" y=\"114.880406\" style=\"fill: #0000ff; stroke: #000000\"/>\n     <use xlink:href=\"#m5ebff3f84d\" x=\"206.55813\" y=\"114.880406\" style=\"fill: #0000ff; stroke: #000000\"/>\n     <use xlink:href=\"#m5ebff3f84d\" x=\"206.58882\" y=\"114.880406\" style=\"fill: #0000ff; stroke: #000000\"/>\n     <use xlink:href=\"#m5ebff3f84d\" x=\"206.95989\" y=\"114.880406\" style=\"fill: #0000ff; stroke: #000000\"/>\n     <use xlink:href=\"#m5ebff3f84d\" x=\"207.34212\" y=\"70.528406\" style=\"fill: #0000ff; stroke: #000000\"/>\n     <use xlink:href=\"#m5ebff3f84d\" x=\"207.41187\" y=\"114.880406\" style=\"fill: #0000ff; stroke: #000000\"/>\n     <use xlink:href=\"#m5ebff3f84d\" x=\"207.51789\" y=\"70.528406\" style=\"fill: #0000ff; stroke: #000000\"/>\n     <use xlink:href=\"#m5ebff3f84d\" x=\"207.70482\" y=\"70.528406\" style=\"fill: #0000ff; stroke: #000000\"/>\n     <use xlink:href=\"#m5ebff3f84d\" x=\"208.11216\" y=\"70.528406\" style=\"fill: #0000ff; stroke: #000000\"/>\n     <use xlink:href=\"#m5ebff3f84d\" x=\"208.29351\" y=\"70.528406\" style=\"fill: #0000ff; stroke: #000000\"/>\n     <use xlink:href=\"#m5ebff3f84d\" x=\"208.32978\" y=\"70.528406\" style=\"fill: #0000ff; stroke: #000000\"/>\n     <use xlink:href=\"#m5ebff3f84d\" x=\"208.38\" y=\"70.528406\" style=\"fill: #0000ff; stroke: #000000\"/>\n     <use xlink:href=\"#m5ebff3f84d\" x=\"208.39116\" y=\"70.528406\" style=\"fill: #0000ff; stroke: #000000\"/>\n     <use xlink:href=\"#m5ebff3f84d\" x=\"208.48044\" y=\"70.528406\" style=\"fill: #0000ff; stroke: #000000\"/>\n     <use xlink:href=\"#m5ebff3f84d\" x=\"208.51671\" y=\"114.880406\" style=\"fill: #0000ff; stroke: #000000\"/>\n     <use xlink:href=\"#m5ebff3f84d\" x=\"209.05518\" y=\"70.528406\" style=\"fill: #0000ff; stroke: #000000\"/>\n     <use xlink:href=\"#m5ebff3f84d\" x=\"209.08029\" y=\"70.528406\" style=\"fill: #0000ff; stroke: #000000\"/>\n     <use xlink:href=\"#m5ebff3f84d\" x=\"209.28954\" y=\"70.528406\" style=\"fill: #0000ff; stroke: #000000\"/>\n     <use xlink:href=\"#m5ebff3f84d\" x=\"209.51832\" y=\"70.528406\" style=\"fill: #0000ff; stroke: #000000\"/>\n     <use xlink:href=\"#m5ebff3f84d\" x=\"209.54343\" y=\"70.528406\" style=\"fill: #0000ff; stroke: #000000\"/>\n     <use xlink:href=\"#m5ebff3f84d\" x=\"209.56296\" y=\"70.528406\" style=\"fill: #0000ff; stroke: #000000\"/>\n     <use xlink:href=\"#m5ebff3f84d\" x=\"209.58807\" y=\"70.528406\" style=\"fill: #0000ff; stroke: #000000\"/>\n     <use xlink:href=\"#m5ebff3f84d\" x=\"209.86428\" y=\"70.528406\" style=\"fill: #0000ff; stroke: #000000\"/>\n     <use xlink:href=\"#m5ebff3f84d\" x=\"209.92566\" y=\"70.528406\" style=\"fill: #0000ff; stroke: #000000\"/>\n     <use xlink:href=\"#m5ebff3f84d\" x=\"209.96193\" y=\"70.528406\" style=\"fill: #0000ff; stroke: #000000\"/>\n     <use xlink:href=\"#m5ebff3f84d\" x=\"210.02889\" y=\"70.528406\" style=\"fill: #0000ff; stroke: #000000\"/>\n     <use xlink:href=\"#m5ebff3f84d\" x=\"210.14049\" y=\"114.880406\" style=\"fill: #0000ff; stroke: #000000\"/>\n     <use xlink:href=\"#m5ebff3f84d\" x=\"210.30231\" y=\"70.528406\" style=\"fill: #0000ff; stroke: #000000\"/>\n     <use xlink:href=\"#m5ebff3f84d\" x=\"210.48645\" y=\"114.880406\" style=\"fill: #0000ff; stroke: #000000\"/>\n     <use xlink:href=\"#m5ebff3f84d\" x=\"210.57573\" y=\"70.528406\" style=\"fill: #0000ff; stroke: #000000\"/>\n     <use xlink:href=\"#m5ebff3f84d\" x=\"210.60642\" y=\"70.528406\" style=\"fill: #0000ff; stroke: #000000\"/>\n     <use xlink:href=\"#m5ebff3f84d\" x=\"210.61758\" y=\"70.528406\" style=\"fill: #0000ff; stroke: #000000\"/>\n     <use xlink:href=\"#m5ebff3f84d\" x=\"210.70407\" y=\"70.528406\" style=\"fill: #0000ff; stroke: #000000\"/>\n     <use xlink:href=\"#m5ebff3f84d\" x=\"210.86031\" y=\"114.880406\" style=\"fill: #0000ff; stroke: #000000\"/>\n     <use xlink:href=\"#m5ebff3f84d\" x=\"210.9468\" y=\"70.528406\" style=\"fill: #0000ff; stroke: #000000\"/>\n     <use xlink:href=\"#m5ebff3f84d\" x=\"210.98028\" y=\"70.528406\" style=\"fill: #0000ff; stroke: #000000\"/>\n     <use xlink:href=\"#m5ebff3f84d\" x=\"210.99144\" y=\"70.528406\" style=\"fill: #0000ff; stroke: #000000\"/>\n     <use xlink:href=\"#m5ebff3f84d\" x=\"211.0026\" y=\"70.528406\" style=\"fill: #0000ff; stroke: #000000\"/>\n     <use xlink:href=\"#m5ebff3f84d\" x=\"211.03608\" y=\"70.528406\" style=\"fill: #0000ff; stroke: #000000\"/>\n     <use xlink:href=\"#m5ebff3f84d\" x=\"211.87866\" y=\"70.528406\" style=\"fill: #0000ff; stroke: #000000\"/>\n     <use xlink:href=\"#m5ebff3f84d\" x=\"211.9512\" y=\"70.528406\" style=\"fill: #0000ff; stroke: #000000\"/>\n     <use xlink:href=\"#m5ebff3f84d\" x=\"211.99305\" y=\"114.880406\" style=\"fill: #0000ff; stroke: #000000\"/>\n     <use xlink:href=\"#m5ebff3f84d\" x=\"212.08791\" y=\"70.528406\" style=\"fill: #0000ff; stroke: #000000\"/>\n     <use xlink:href=\"#m5ebff3f84d\" x=\"212.1744\" y=\"70.528406\" style=\"fill: #0000ff; stroke: #000000\"/>\n     <use xlink:href=\"#m5ebff3f84d\" x=\"212.18556\" y=\"70.528406\" style=\"fill: #0000ff; stroke: #000000\"/>\n     <use xlink:href=\"#m5ebff3f84d\" x=\"212.24415\" y=\"70.528406\" style=\"fill: #0000ff; stroke: #000000\"/>\n     <use xlink:href=\"#m5ebff3f84d\" x=\"212.28321\" y=\"70.528406\" style=\"fill: #0000ff; stroke: #000000\"/>\n     <use xlink:href=\"#m5ebff3f84d\" x=\"212.46735\" y=\"70.528406\" style=\"fill: #0000ff; stroke: #000000\"/>\n     <use xlink:href=\"#m5ebff3f84d\" x=\"212.49804\" y=\"70.528406\" style=\"fill: #0000ff; stroke: #000000\"/>\n     <use xlink:href=\"#m5ebff3f84d\" x=\"212.7324\" y=\"70.528406\" style=\"fill: #0000ff; stroke: #000000\"/>\n     <use xlink:href=\"#m5ebff3f84d\" x=\"212.88864\" y=\"70.528406\" style=\"fill: #0000ff; stroke: #000000\"/>\n     <use xlink:href=\"#m5ebff3f84d\" x=\"212.99187\" y=\"114.880406\" style=\"fill: #0000ff; stroke: #000000\"/>\n     <use xlink:href=\"#m5ebff3f84d\" x=\"213.04209\" y=\"70.528406\" style=\"fill: #0000ff; stroke: #000000\"/>\n     <use xlink:href=\"#m5ebff3f84d\" x=\"213.18996\" y=\"114.880406\" style=\"fill: #0000ff; stroke: #000000\"/>\n     <use xlink:href=\"#m5ebff3f84d\" x=\"213.26529\" y=\"114.880406\" style=\"fill: #0000ff; stroke: #000000\"/>\n     <use xlink:href=\"#m5ebff3f84d\" x=\"213.2904\" y=\"114.880406\" style=\"fill: #0000ff; stroke: #000000\"/>\n     <use xlink:href=\"#m5ebff3f84d\" x=\"213.33783\" y=\"70.528406\" style=\"fill: #0000ff; stroke: #000000\"/>\n     <use xlink:href=\"#m5ebff3f84d\" x=\"213.52197\" y=\"114.880406\" style=\"fill: #0000ff; stroke: #000000\"/>\n     <use xlink:href=\"#m5ebff3f84d\" x=\"213.53871\" y=\"70.528406\" style=\"fill: #0000ff; stroke: #000000\"/>\n     <use xlink:href=\"#m5ebff3f84d\" x=\"213.5973\" y=\"70.528406\" style=\"fill: #0000ff; stroke: #000000\"/>\n     <use xlink:href=\"#m5ebff3f84d\" x=\"213.67542\" y=\"70.528406\" style=\"fill: #0000ff; stroke: #000000\"/>\n     <use xlink:href=\"#m5ebff3f84d\" x=\"213.71448\" y=\"70.528406\" style=\"fill: #0000ff; stroke: #000000\"/>\n     <use xlink:href=\"#m5ebff3f84d\" x=\"213.75354\" y=\"70.528406\" style=\"fill: #0000ff; stroke: #000000\"/>\n     <use xlink:href=\"#m5ebff3f84d\" x=\"213.7926\" y=\"70.528406\" style=\"fill: #0000ff; stroke: #000000\"/>\n     <use xlink:href=\"#m5ebff3f84d\" x=\"213.94605\" y=\"70.528406\" style=\"fill: #0000ff; stroke: #000000\"/>\n     <use xlink:href=\"#m5ebff3f84d\" x=\"213.96837\" y=\"70.528406\" style=\"fill: #0000ff; stroke: #000000\"/>\n     <use xlink:href=\"#m5ebff3f84d\" x=\"214.30875\" y=\"70.528406\" style=\"fill: #0000ff; stroke: #000000\"/>\n     <use xlink:href=\"#m5ebff3f84d\" x=\"214.43151\" y=\"70.528406\" style=\"fill: #0000ff; stroke: #000000\"/>\n     <use xlink:href=\"#m5ebff3f84d\" x=\"214.45104\" y=\"114.880406\" style=\"fill: #0000ff; stroke: #000000\"/>\n     <use xlink:href=\"#m5ebff3f84d\" x=\"214.48173\" y=\"114.880406\" style=\"fill: #0000ff; stroke: #000000\"/>\n     <use xlink:href=\"#m5ebff3f84d\" x=\"214.61007\" y=\"70.528406\" style=\"fill: #0000ff; stroke: #000000\"/>\n     <use xlink:href=\"#m5ebff3f84d\" x=\"214.90023\" y=\"114.880406\" style=\"fill: #0000ff; stroke: #000000\"/>\n     <use xlink:href=\"#m5ebff3f84d\" x=\"215.00625\" y=\"70.528406\" style=\"fill: #0000ff; stroke: #000000\"/>\n     <use xlink:href=\"#m5ebff3f84d\" x=\"215.24061\" y=\"114.880406\" style=\"fill: #0000ff; stroke: #000000\"/>\n     <use xlink:href=\"#m5ebff3f84d\" x=\"215.33547\" y=\"114.880406\" style=\"fill: #0000ff; stroke: #000000\"/>\n     <use xlink:href=\"#m5ebff3f84d\" x=\"215.36895\" y=\"70.528406\" style=\"fill: #0000ff; stroke: #000000\"/>\n     <use xlink:href=\"#m5ebff3f84d\" x=\"215.59773\" y=\"70.528406\" style=\"fill: #0000ff; stroke: #000000\"/>\n     <use xlink:href=\"#m5ebff3f84d\" x=\"215.65911\" y=\"70.528406\" style=\"fill: #0000ff; stroke: #000000\"/>\n     <use xlink:href=\"#m5ebff3f84d\" x=\"215.70375\" y=\"70.528406\" style=\"fill: #0000ff; stroke: #000000\"/>\n     <use xlink:href=\"#m5ebff3f84d\" x=\"215.71491\" y=\"70.528406\" style=\"fill: #0000ff; stroke: #000000\"/>\n     <use xlink:href=\"#m5ebff3f84d\" x=\"216.13899\" y=\"70.528406\" style=\"fill: #0000ff; stroke: #000000\"/>\n     <use xlink:href=\"#m5ebff3f84d\" x=\"216.15852\" y=\"70.528406\" style=\"fill: #0000ff; stroke: #000000\"/>\n     <use xlink:href=\"#m5ebff3f84d\" x=\"216.18363\" y=\"114.880406\" style=\"fill: #0000ff; stroke: #000000\"/>\n     <use xlink:href=\"#m5ebff3f84d\" x=\"216.24222\" y=\"70.528406\" style=\"fill: #0000ff; stroke: #000000\"/>\n     <use xlink:href=\"#m5ebff3f84d\" x=\"216.29244\" y=\"70.528406\" style=\"fill: #0000ff; stroke: #000000\"/>\n     <use xlink:href=\"#m5ebff3f84d\" x=\"216.35103\" y=\"70.528406\" style=\"fill: #0000ff; stroke: #000000\"/>\n     <use xlink:href=\"#m5ebff3f84d\" x=\"216.45147\" y=\"114.880406\" style=\"fill: #0000ff; stroke: #000000\"/>\n     <use xlink:href=\"#m5ebff3f84d\" x=\"216.54633\" y=\"70.528406\" style=\"fill: #0000ff; stroke: #000000\"/>\n     <use xlink:href=\"#m5ebff3f84d\" x=\"216.57423\" y=\"70.528406\" style=\"fill: #0000ff; stroke: #000000\"/>\n     <use xlink:href=\"#m5ebff3f84d\" x=\"217.29405\" y=\"114.880406\" style=\"fill: #0000ff; stroke: #000000\"/>\n     <use xlink:href=\"#m5ebff3f84d\" x=\"217.3917\" y=\"70.528406\" style=\"fill: #0000ff; stroke: #000000\"/>\n     <use xlink:href=\"#m5ebff3f84d\" x=\"217.40844\" y=\"70.528406\" style=\"fill: #0000ff; stroke: #000000\"/>\n     <use xlink:href=\"#m5ebff3f84d\" x=\"217.4196\" y=\"70.528406\" style=\"fill: #0000ff; stroke: #000000\"/>\n     <use xlink:href=\"#m5ebff3f84d\" x=\"217.91622\" y=\"114.880406\" style=\"fill: #0000ff; stroke: #000000\"/>\n     <use xlink:href=\"#m5ebff3f84d\" x=\"217.98318\" y=\"114.880406\" style=\"fill: #0000ff; stroke: #000000\"/>\n     <use xlink:href=\"#m5ebff3f84d\" x=\"218.42121\" y=\"70.528406\" style=\"fill: #0000ff; stroke: #000000\"/>\n     <use xlink:href=\"#m5ebff3f84d\" x=\"218.48259\" y=\"114.880406\" style=\"fill: #0000ff; stroke: #000000\"/>\n     <use xlink:href=\"#m5ebff3f84d\" x=\"218.50491\" y=\"114.880406\" style=\"fill: #0000ff; stroke: #000000\"/>\n     <use xlink:href=\"#m5ebff3f84d\" x=\"218.57466\" y=\"114.880406\" style=\"fill: #0000ff; stroke: #000000\"/>\n     <use xlink:href=\"#m5ebff3f84d\" x=\"218.64441\" y=\"114.880406\" style=\"fill: #0000ff; stroke: #000000\"/>\n     <use xlink:href=\"#m5ebff3f84d\" x=\"218.69463\" y=\"114.880406\" style=\"fill: #0000ff; stroke: #000000\"/>\n     <use xlink:href=\"#m5ebff3f84d\" x=\"218.75601\" y=\"114.880406\" style=\"fill: #0000ff; stroke: #000000\"/>\n     <use xlink:href=\"#m5ebff3f84d\" x=\"218.7867\" y=\"114.880406\" style=\"fill: #0000ff; stroke: #000000\"/>\n     <use xlink:href=\"#m5ebff3f84d\" x=\"219.01269\" y=\"114.880406\" style=\"fill: #0000ff; stroke: #000000\"/>\n     <use xlink:href=\"#m5ebff3f84d\" x=\"219.04896\" y=\"114.880406\" style=\"fill: #0000ff; stroke: #000000\"/>\n     <use xlink:href=\"#m5ebff3f84d\" x=\"219.14661\" y=\"114.880406\" style=\"fill: #0000ff; stroke: #000000\"/>\n     <use xlink:href=\"#m5ebff3f84d\" x=\"219.21357\" y=\"114.880406\" style=\"fill: #0000ff; stroke: #000000\"/>\n     <use xlink:href=\"#m5ebff3f84d\" x=\"219.25263\" y=\"114.880406\" style=\"fill: #0000ff; stroke: #000000\"/>\n     <use xlink:href=\"#m5ebff3f84d\" x=\"219.48699\" y=\"114.880406\" style=\"fill: #0000ff; stroke: #000000\"/>\n     <use xlink:href=\"#m5ebff3f84d\" x=\"219.59859\" y=\"114.880406\" style=\"fill: #0000ff; stroke: #000000\"/>\n     <use xlink:href=\"#m5ebff3f84d\" x=\"219.71298\" y=\"114.880406\" style=\"fill: #0000ff; stroke: #000000\"/>\n     <use xlink:href=\"#m5ebff3f84d\" x=\"219.77994\" y=\"114.880406\" style=\"fill: #0000ff; stroke: #000000\"/>\n     <use xlink:href=\"#m5ebff3f84d\" x=\"219.89712\" y=\"114.880406\" style=\"fill: #0000ff; stroke: #000000\"/>\n     <use xlink:href=\"#m5ebff3f84d\" x=\"220.08684\" y=\"114.880406\" style=\"fill: #0000ff; stroke: #000000\"/>\n     <use xlink:href=\"#m5ebff3f84d\" x=\"220.16217\" y=\"114.880406\" style=\"fill: #0000ff; stroke: #000000\"/>\n     <use xlink:href=\"#m5ebff3f84d\" x=\"220.19844\" y=\"114.880406\" style=\"fill: #0000ff; stroke: #000000\"/>\n     <use xlink:href=\"#m5ebff3f84d\" x=\"220.35468\" y=\"114.880406\" style=\"fill: #0000ff; stroke: #000000\"/>\n     <use xlink:href=\"#m5ebff3f84d\" x=\"220.55835\" y=\"114.880406\" style=\"fill: #0000ff; stroke: #000000\"/>\n     <use xlink:href=\"#m5ebff3f84d\" x=\"220.67553\" y=\"114.880406\" style=\"fill: #0000ff; stroke: #000000\"/>\n     <use xlink:href=\"#m5ebff3f84d\" x=\"220.77039\" y=\"114.880406\" style=\"fill: #0000ff; stroke: #000000\"/>\n     <use xlink:href=\"#m5ebff3f84d\" x=\"220.87083\" y=\"114.880406\" style=\"fill: #0000ff; stroke: #000000\"/>\n     <use xlink:href=\"#m5ebff3f84d\" x=\"221.04381\" y=\"114.880406\" style=\"fill: #0000ff; stroke: #000000\"/>\n     <use xlink:href=\"#m5ebff3f84d\" x=\"221.30049\" y=\"70.528406\" style=\"fill: #0000ff; stroke: #000000\"/>\n     <use xlink:href=\"#m5ebff3f84d\" x=\"221.81943\" y=\"114.880406\" style=\"fill: #0000ff; stroke: #000000\"/>\n     <use xlink:href=\"#m5ebff3f84d\" x=\"222.03984\" y=\"114.880406\" style=\"fill: #0000ff; stroke: #000000\"/>\n     <use xlink:href=\"#m5ebff3f84d\" x=\"222.28815\" y=\"70.528406\" style=\"fill: #0000ff; stroke: #000000\"/>\n     <use xlink:href=\"#m5ebff3f84d\" x=\"222.29652\" y=\"114.880406\" style=\"fill: #0000ff; stroke: #000000\"/>\n     <use xlink:href=\"#m5ebff3f84d\" x=\"222.32442\" y=\"70.528406\" style=\"fill: #0000ff; stroke: #000000\"/>\n     <use xlink:href=\"#m5ebff3f84d\" x=\"223.07772\" y=\"114.880406\" style=\"fill: #0000ff; stroke: #000000\"/>\n     <use xlink:href=\"#m5ebff3f84d\" x=\"223.37346\" y=\"114.880406\" style=\"fill: #0000ff; stroke: #000000\"/>\n     <use xlink:href=\"#m5ebff3f84d\" x=\"223.67199\" y=\"114.880406\" style=\"fill: #0000ff; stroke: #000000\"/>\n     <use xlink:href=\"#m5ebff3f84d\" x=\"223.83939\" y=\"114.880406\" style=\"fill: #0000ff; stroke: #000000\"/>\n     <use xlink:href=\"#m5ebff3f84d\" x=\"223.88403\" y=\"114.880406\" style=\"fill: #0000ff; stroke: #000000\"/>\n     <use xlink:href=\"#m5ebff3f84d\" x=\"225.22602\" y=\"114.880406\" style=\"fill: #0000ff; stroke: #000000\"/>\n     <use xlink:href=\"#m5ebff3f84d\" x=\"225.31809\" y=\"114.880406\" style=\"fill: #0000ff; stroke: #000000\"/>\n     <use xlink:href=\"#m5ebff3f84d\" x=\"225.37947\" y=\"203.584406\" style=\"fill: #0000ff; stroke: #000000\"/>\n     <use xlink:href=\"#m5ebff3f84d\" x=\"225.39342\" y=\"114.880406\" style=\"fill: #0000ff; stroke: #000000\"/>\n     <use xlink:href=\"#m5ebff3f84d\" x=\"225.41853\" y=\"203.584406\" style=\"fill: #0000ff; stroke: #000000\"/>\n     <use xlink:href=\"#m5ebff3f84d\" x=\"225.72543\" y=\"70.528406\" style=\"fill: #0000ff; stroke: #000000\"/>\n     <use xlink:href=\"#m5ebff3f84d\" x=\"225.78123\" y=\"70.528406\" style=\"fill: #0000ff; stroke: #000000\"/>\n     <use xlink:href=\"#m5ebff3f84d\" x=\"225.80076\" y=\"203.584406\" style=\"fill: #0000ff; stroke: #000000\"/>\n     <use xlink:href=\"#m5ebff3f84d\" x=\"225.9012\" y=\"70.528406\" style=\"fill: #0000ff; stroke: #000000\"/>\n     <use xlink:href=\"#m5ebff3f84d\" x=\"225.90678\" y=\"114.880406\" style=\"fill: #0000ff; stroke: #000000\"/>\n     <use xlink:href=\"#m5ebff3f84d\" x=\"225.95142\" y=\"70.528406\" style=\"fill: #0000ff; stroke: #000000\"/>\n     <use xlink:href=\"#m5ebff3f84d\" x=\"226.03791\" y=\"203.584406\" style=\"fill: #0000ff; stroke: #000000\"/>\n     <use xlink:href=\"#m5ebff3f84d\" x=\"226.25274\" y=\"203.584406\" style=\"fill: #0000ff; stroke: #000000\"/>\n     <use xlink:href=\"#m5ebff3f84d\" x=\"226.54569\" y=\"114.880406\" style=\"fill: #0000ff; stroke: #000000\"/>\n     <use xlink:href=\"#m5ebff3f84d\" x=\"226.80516\" y=\"203.584406\" style=\"fill: #0000ff; stroke: #000000\"/>\n     <use xlink:href=\"#m5ebff3f84d\" x=\"226.88607\" y=\"203.584406\" style=\"fill: #0000ff; stroke: #000000\"/>\n     <use xlink:href=\"#m5ebff3f84d\" x=\"227.04231\" y=\"114.880406\" style=\"fill: #0000ff; stroke: #000000\"/>\n     <use xlink:href=\"#m5ebff3f84d\" x=\"227.46918\" y=\"114.880406\" style=\"fill: #0000ff; stroke: #000000\"/>\n     <use xlink:href=\"#m5ebff3f84d\" x=\"227.96859\" y=\"114.880406\" style=\"fill: #0000ff; stroke: #000000\"/>\n     <use xlink:href=\"#m5ebff3f84d\" x=\"228.91998\" y=\"114.880406\" style=\"fill: #0000ff; stroke: #000000\"/>\n     <use xlink:href=\"#m5ebff3f84d\" x=\"229.13481\" y=\"114.880406\" style=\"fill: #0000ff; stroke: #000000\"/>\n     <use xlink:href=\"#m5ebff3f84d\" x=\"229.42218\" y=\"114.880406\" style=\"fill: #0000ff; stroke: #000000\"/>\n     <use xlink:href=\"#m5ebff3f84d\" x=\"230.03598\" y=\"203.584406\" style=\"fill: #0000ff; stroke: #000000\"/>\n     <use xlink:href=\"#m5ebff3f84d\" x=\"230.142\" y=\"114.880406\" style=\"fill: #0000ff; stroke: #000000\"/>\n     <use xlink:href=\"#m5ebff3f84d\" x=\"230.32335\" y=\"114.880406\" style=\"fill: #0000ff; stroke: #000000\"/>\n     <use xlink:href=\"#m5ebff3f84d\" x=\"230.5326\" y=\"114.880406\" style=\"fill: #0000ff; stroke: #000000\"/>\n     <use xlink:href=\"#m5ebff3f84d\" x=\"230.64141\" y=\"114.880406\" style=\"fill: #0000ff; stroke: #000000\"/>\n     <use xlink:href=\"#m5ebff3f84d\" x=\"231.10176\" y=\"114.880406\" style=\"fill: #0000ff; stroke: #000000\"/>\n     <use xlink:href=\"#m5ebff3f84d\" x=\"231.13245\" y=\"70.528406\" style=\"fill: #0000ff; stroke: #000000\"/>\n     <use xlink:href=\"#m5ebff3f84d\" x=\"231.2022\" y=\"70.528406\" style=\"fill: #0000ff; stroke: #000000\"/>\n     <use xlink:href=\"#m5ebff3f84d\" x=\"231.20778\" y=\"114.880406\" style=\"fill: #0000ff; stroke: #000000\"/>\n     <use xlink:href=\"#m5ebff3f84d\" x=\"231.36123\" y=\"70.528406\" style=\"fill: #0000ff; stroke: #000000\"/>\n     <use xlink:href=\"#m5ebff3f84d\" x=\"231.43935\" y=\"70.528406\" style=\"fill: #0000ff; stroke: #000000\"/>\n     <use xlink:href=\"#m5ebff3f84d\" x=\"231.44493\" y=\"114.880406\" style=\"fill: #0000ff; stroke: #000000\"/>\n     <use xlink:href=\"#m5ebff3f84d\" x=\"231.50631\" y=\"114.880406\" style=\"fill: #0000ff; stroke: #000000\"/>\n     <use xlink:href=\"#m5ebff3f84d\" x=\"231.52584\" y=\"70.528406\" style=\"fill: #0000ff; stroke: #000000\"/>\n     <use xlink:href=\"#m5ebff3f84d\" x=\"231.54816\" y=\"70.528406\" style=\"fill: #0000ff; stroke: #000000\"/>\n     <use xlink:href=\"#m5ebff3f84d\" x=\"231.58443\" y=\"114.880406\" style=\"fill: #0000ff; stroke: #000000\"/>\n     <use xlink:href=\"#m5ebff3f84d\" x=\"231.61791\" y=\"114.880406\" style=\"fill: #0000ff; stroke: #000000\"/>\n     <use xlink:href=\"#m5ebff3f84d\" x=\"231.64302\" y=\"70.528406\" style=\"fill: #0000ff; stroke: #000000\"/>\n     <use xlink:href=\"#m5ebff3f84d\" x=\"231.89691\" y=\"114.880406\" style=\"fill: #0000ff; stroke: #000000\"/>\n     <use xlink:href=\"#m5ebff3f84d\" x=\"232.00851\" y=\"70.528406\" style=\"fill: #0000ff; stroke: #000000\"/>\n     <use xlink:href=\"#m5ebff3f84d\" x=\"232.01409\" y=\"114.880406\" style=\"fill: #0000ff; stroke: #000000\"/>\n     <use xlink:href=\"#m5ebff3f84d\" x=\"232.08663\" y=\"70.528406\" style=\"fill: #0000ff; stroke: #000000\"/>\n     <use xlink:href=\"#m5ebff3f84d\" x=\"232.14243\" y=\"70.528406\" style=\"fill: #0000ff; stroke: #000000\"/>\n     <use xlink:href=\"#m5ebff3f84d\" x=\"232.1508\" y=\"114.880406\" style=\"fill: #0000ff; stroke: #000000\"/>\n     <use xlink:href=\"#m5ebff3f84d\" x=\"232.58604\" y=\"70.528406\" style=\"fill: #0000ff; stroke: #000000\"/>\n     <use xlink:href=\"#m5ebff3f84d\" x=\"232.59162\" y=\"114.880406\" style=\"fill: #0000ff; stroke: #000000\"/>\n     <use xlink:href=\"#m5ebff3f84d\" x=\"232.64742\" y=\"70.528406\" style=\"fill: #0000ff; stroke: #000000\"/>\n     <use xlink:href=\"#m5ebff3f84d\" x=\"232.653\" y=\"114.880406\" style=\"fill: #0000ff; stroke: #000000\"/>\n     <use xlink:href=\"#m5ebff3f84d\" x=\"232.70043\" y=\"70.528406\" style=\"fill: #0000ff; stroke: #000000\"/>\n     <use xlink:href=\"#m5ebff3f84d\" x=\"233.1831\" y=\"70.528406\" style=\"fill: #0000ff; stroke: #000000\"/>\n     <use xlink:href=\"#m5ebff3f84d\" x=\"233.18868\" y=\"114.880406\" style=\"fill: #0000ff; stroke: #000000\"/>\n     <use xlink:href=\"#m5ebff3f84d\" x=\"234.22098\" y=\"114.880406\" style=\"fill: #0000ff; stroke: #000000\"/>\n     <use xlink:href=\"#m5ebff3f84d\" x=\"234.33258\" y=\"114.880406\" style=\"fill: #0000ff; stroke: #000000\"/>\n     <use xlink:href=\"#m5ebff3f84d\" x=\"234.39675\" y=\"70.528406\" style=\"fill: #0000ff; stroke: #000000\"/>\n     <use xlink:href=\"#m5ebff3f84d\" x=\"234.49161\" y=\"114.880406\" style=\"fill: #0000ff; stroke: #000000\"/>\n     <use xlink:href=\"#m5ebff3f84d\" x=\"234.62832\" y=\"114.880406\" style=\"fill: #0000ff; stroke: #000000\"/>\n     <use xlink:href=\"#m5ebff3f84d\" x=\"234.72318\" y=\"114.880406\" style=\"fill: #0000ff; stroke: #000000\"/>\n     <use xlink:href=\"#m5ebff3f84d\" x=\"234.73713\" y=\"70.528406\" style=\"fill: #0000ff; stroke: #000000\"/>\n     <use xlink:href=\"#m5ebff3f84d\" x=\"234.81246\" y=\"114.880406\" style=\"fill: #0000ff; stroke: #000000\"/>\n     <use xlink:href=\"#m5ebff3f84d\" x=\"235.25886\" y=\"114.880406\" style=\"fill: #0000ff; stroke: #000000\"/>\n     <use xlink:href=\"#m5ebff3f84d\" x=\"235.7778\" y=\"114.880406\" style=\"fill: #0000ff; stroke: #000000\"/>\n     <use xlink:href=\"#m5ebff3f84d\" x=\"235.8057\" y=\"70.528406\" style=\"fill: #0000ff; stroke: #000000\"/>\n     <use xlink:href=\"#m5ebff3f84d\" x=\"235.81128\" y=\"114.880406\" style=\"fill: #0000ff; stroke: #000000\"/>\n     <use xlink:href=\"#m5ebff3f84d\" x=\"235.89498\" y=\"114.880406\" style=\"fill: #0000ff; stroke: #000000\"/>\n     <use xlink:href=\"#m5ebff3f84d\" x=\"236.09865\" y=\"114.880406\" style=\"fill: #0000ff; stroke: #000000\"/>\n     <use xlink:href=\"#m5ebff3f84d\" x=\"236.21025\" y=\"70.528406\" style=\"fill: #0000ff; stroke: #000000\"/>\n     <use xlink:href=\"#m5ebff3f84d\" x=\"236.36928\" y=\"70.528406\" style=\"fill: #0000ff; stroke: #000000\"/>\n     <use xlink:href=\"#m5ebff3f84d\" x=\"236.93007\" y=\"70.528406\" style=\"fill: #0000ff; stroke: #000000\"/>\n     <use xlink:href=\"#m5ebff3f84d\" x=\"237.117\" y=\"70.528406\" style=\"fill: #0000ff; stroke: #000000\"/>\n     <use xlink:href=\"#m5ebff3f84d\" x=\"237.12258\" y=\"114.880406\" style=\"fill: #0000ff; stroke: #000000\"/>\n     <use xlink:href=\"#m5ebff3f84d\" x=\"237.53829\" y=\"114.880406\" style=\"fill: #0000ff; stroke: #000000\"/>\n     <use xlink:href=\"#m5ebff3f84d\" x=\"238.88586\" y=\"114.880406\" style=\"fill: #0000ff; stroke: #000000\"/>\n     <use xlink:href=\"#m5ebff3f84d\" x=\"239.03652\" y=\"114.880406\" style=\"fill: #0000ff; stroke: #000000\"/>\n     <use xlink:href=\"#m5ebff3f84d\" x=\"239.07279\" y=\"114.880406\" style=\"fill: #0000ff; stroke: #000000\"/>\n     <use xlink:href=\"#m5ebff3f84d\" x=\"239.31552\" y=\"114.880406\" style=\"fill: #0000ff; stroke: #000000\"/>\n     <use xlink:href=\"#m5ebff3f84d\" x=\"239.37132\" y=\"70.528406\" style=\"fill: #0000ff; stroke: #000000\"/>\n     <use xlink:href=\"#m5ebff3f84d\" x=\"239.46618\" y=\"159.232406\" style=\"fill: #0000ff; stroke: #000000\"/>\n     <use xlink:href=\"#m5ebff3f84d\" x=\"239.59173\" y=\"203.584406\" style=\"fill: #0000ff; stroke: #000000\"/>\n     <use xlink:href=\"#m5ebff3f84d\" x=\"240.54033\" y=\"114.880406\" style=\"fill: #0000ff; stroke: #000000\"/>\n     <use xlink:href=\"#m5ebff3f84d\" x=\"240.56823\" y=\"114.880406\" style=\"fill: #0000ff; stroke: #000000\"/>\n     <use xlink:href=\"#m5ebff3f84d\" x=\"241.00347\" y=\"114.880406\" style=\"fill: #0000ff; stroke: #000000\"/>\n     <use xlink:href=\"#m5ebff3f84d\" x=\"241.06206\" y=\"114.880406\" style=\"fill: #0000ff; stroke: #000000\"/>\n     <use xlink:href=\"#m5ebff3f84d\" x=\"241.75677\" y=\"114.880406\" style=\"fill: #0000ff; stroke: #000000\"/>\n     <use xlink:href=\"#m5ebff3f84d\" x=\"242.17248\" y=\"114.880406\" style=\"fill: #0000ff; stroke: #000000\"/>\n     <use xlink:href=\"#m5ebff3f84d\" x=\"242.26734\" y=\"114.880406\" style=\"fill: #0000ff; stroke: #000000\"/>\n     <use xlink:href=\"#m5ebff3f84d\" x=\"243.49494\" y=\"70.528406\" style=\"fill: #0000ff; stroke: #000000\"/>\n     <use xlink:href=\"#m5ebff3f84d\" x=\"243.56469\" y=\"70.528406\" style=\"fill: #0000ff; stroke: #000000\"/>\n     <use xlink:href=\"#m5ebff3f84d\" x=\"243.57027\" y=\"114.880406\" style=\"fill: #0000ff; stroke: #000000\"/>\n     <use xlink:href=\"#m5ebff3f84d\" x=\"243.66513\" y=\"70.528406\" style=\"fill: #0000ff; stroke: #000000\"/>\n     <use xlink:href=\"#m5ebff3f84d\" x=\"244.20918\" y=\"70.528406\" style=\"fill: #0000ff; stroke: #000000\"/>\n     <use xlink:href=\"#m5ebff3f84d\" x=\"246.18171\" y=\"114.880406\" style=\"fill: #0000ff; stroke: #000000\"/>\n     <use xlink:href=\"#m5ebff3f84d\" x=\"246.32679\" y=\"70.528406\" style=\"fill: #0000ff; stroke: #000000\"/>\n     <use xlink:href=\"#m5ebff3f84d\" x=\"246.33237\" y=\"114.880406\" style=\"fill: #0000ff; stroke: #000000\"/>\n     <use xlink:href=\"#m5ebff3f84d\" x=\"246.36306\" y=\"70.528406\" style=\"fill: #0000ff; stroke: #000000\"/>\n     <use xlink:href=\"#m5ebff3f84d\" x=\"246.42165\" y=\"70.528406\" style=\"fill: #0000ff; stroke: #000000\"/>\n     <use xlink:href=\"#m5ebff3f84d\" x=\"246.44676\" y=\"114.880406\" style=\"fill: #0000ff; stroke: #000000\"/>\n     <use xlink:href=\"#m5ebff3f84d\" x=\"246.45792\" y=\"70.528406\" style=\"fill: #0000ff; stroke: #000000\"/>\n     <use xlink:href=\"#m5ebff3f84d\" x=\"246.4635\" y=\"114.880406\" style=\"fill: #0000ff; stroke: #000000\"/>\n     <use xlink:href=\"#m5ebff3f84d\" x=\"246.49419\" y=\"114.880406\" style=\"fill: #0000ff; stroke: #000000\"/>\n     <use xlink:href=\"#m5ebff3f84d\" x=\"246.50535\" y=\"70.528406\" style=\"fill: #0000ff; stroke: #000000\"/>\n     <use xlink:href=\"#m5ebff3f84d\" x=\"246.53883\" y=\"114.880406\" style=\"fill: #0000ff; stroke: #000000\"/>\n     <use xlink:href=\"#m5ebff3f84d\" x=\"246.67275\" y=\"70.528406\" style=\"fill: #0000ff; stroke: #000000\"/>\n     <use xlink:href=\"#m5ebff3f84d\" x=\"246.67833\" y=\"114.880406\" style=\"fill: #0000ff; stroke: #000000\"/>\n     <use xlink:href=\"#m5ebff3f84d\" x=\"246.72018\" y=\"70.528406\" style=\"fill: #0000ff; stroke: #000000\"/>\n     <use xlink:href=\"#m5ebff3f84d\" x=\"246.72576\" y=\"114.880406\" style=\"fill: #0000ff; stroke: #000000\"/>\n     <use xlink:href=\"#m5ebff3f84d\" x=\"246.75087\" y=\"70.528406\" style=\"fill: #0000ff; stroke: #000000\"/>\n     <use xlink:href=\"#m5ebff3f84d\" x=\"246.80667\" y=\"70.528406\" style=\"fill: #0000ff; stroke: #000000\"/>\n     <use xlink:href=\"#m5ebff3f84d\" x=\"246.84015\" y=\"114.880406\" style=\"fill: #0000ff; stroke: #000000\"/>\n     <use xlink:href=\"#m5ebff3f84d\" x=\"246.90432\" y=\"70.528406\" style=\"fill: #0000ff; stroke: #000000\"/>\n     <use xlink:href=\"#m5ebff3f84d\" x=\"246.9099\" y=\"114.880406\" style=\"fill: #0000ff; stroke: #000000\"/>\n     <use xlink:href=\"#m5ebff3f84d\" x=\"247.17495\" y=\"70.528406\" style=\"fill: #0000ff; stroke: #000000\"/>\n     <use xlink:href=\"#m5ebff3f84d\" x=\"247.18332\" y=\"114.880406\" style=\"fill: #0000ff; stroke: #000000\"/>\n     <use xlink:href=\"#m5ebff3f84d\" x=\"247.36188\" y=\"70.528406\" style=\"fill: #0000ff; stroke: #000000\"/>\n     <use xlink:href=\"#m5ebff3f84d\" x=\"247.36746\" y=\"114.880406\" style=\"fill: #0000ff; stroke: #000000\"/>\n     <use xlink:href=\"#m5ebff3f84d\" x=\"247.50696\" y=\"114.880406\" style=\"fill: #0000ff; stroke: #000000\"/>\n     <use xlink:href=\"#m5ebff3f84d\" x=\"247.5237\" y=\"70.528406\" style=\"fill: #0000ff; stroke: #000000\"/>\n     <use xlink:href=\"#m5ebff3f84d\" x=\"247.53765\" y=\"70.528406\" style=\"fill: #0000ff; stroke: #000000\"/>\n     <use xlink:href=\"#m5ebff3f84d\" x=\"247.61577\" y=\"70.528406\" style=\"fill: #0000ff; stroke: #000000\"/>\n     <use xlink:href=\"#m5ebff3f84d\" x=\"247.62135\" y=\"114.880406\" style=\"fill: #0000ff; stroke: #000000\"/>\n     <use xlink:href=\"#m5ebff3f84d\" x=\"247.7469\" y=\"114.880406\" style=\"fill: #0000ff; stroke: #000000\"/>\n     <use xlink:href=\"#m5ebff3f84d\" x=\"247.77759\" y=\"70.528406\" style=\"fill: #0000ff; stroke: #000000\"/>\n     <use xlink:href=\"#m5ebff3f84d\" x=\"247.80549\" y=\"114.880406\" style=\"fill: #0000ff; stroke: #000000\"/>\n     <use xlink:href=\"#m5ebff3f84d\" x=\"247.81665\" y=\"70.528406\" style=\"fill: #0000ff; stroke: #000000\"/>\n     <use xlink:href=\"#m5ebff3f84d\" x=\"247.93662\" y=\"114.880406\" style=\"fill: #0000ff; stroke: #000000\"/>\n     <use xlink:href=\"#m5ebff3f84d\" x=\"247.99521\" y=\"114.880406\" style=\"fill: #0000ff; stroke: #000000\"/>\n     <use xlink:href=\"#m5ebff3f84d\" x=\"248.47788\" y=\"114.880406\" style=\"fill: #0000ff; stroke: #000000\"/>\n     <use xlink:href=\"#m5ebff3f84d\" x=\"248.50299\" y=\"70.528406\" style=\"fill: #0000ff; stroke: #000000\"/>\n     <use xlink:href=\"#m5ebff3f84d\" x=\"248.62575\" y=\"114.880406\" style=\"fill: #0000ff; stroke: #000000\"/>\n     <use xlink:href=\"#m5ebff3f84d\" x=\"248.94939\" y=\"114.880406\" style=\"fill: #0000ff; stroke: #000000\"/>\n     <use xlink:href=\"#m5ebff3f84d\" x=\"249.1977\" y=\"70.528406\" style=\"fill: #0000ff; stroke: #000000\"/>\n     <use xlink:href=\"#m5ebff3f84d\" x=\"250.93308\" y=\"114.880406\" style=\"fill: #0000ff; stroke: #000000\"/>\n     <use xlink:href=\"#m5ebff3f84d\" x=\"251.19534\" y=\"114.880406\" style=\"fill: #0000ff; stroke: #000000\"/>\n     <use xlink:href=\"#m5ebff3f84d\" x=\"251.36553\" y=\"114.880406\" style=\"fill: #0000ff; stroke: #000000\"/>\n     <use xlink:href=\"#m5ebff3f84d\" x=\"251.49666\" y=\"114.880406\" style=\"fill: #0000ff; stroke: #000000\"/>\n     <use xlink:href=\"#m5ebff3f84d\" x=\"251.85099\" y=\"114.880406\" style=\"fill: #0000ff; stroke: #000000\"/>\n     <use xlink:href=\"#m5ebff3f84d\" x=\"252.84423\" y=\"114.880406\" style=\"fill: #0000ff; stroke: #000000\"/>\n     <use xlink:href=\"#m5ebff3f84d\" x=\"253.38549\" y=\"114.880406\" style=\"fill: #0000ff; stroke: #000000\"/>\n     <use xlink:href=\"#m5ebff3f84d\" x=\"254.23923\" y=\"114.880406\" style=\"fill: #0000ff; stroke: #000000\"/>\n     <use xlink:href=\"#m5ebff3f84d\" x=\"254.36478\" y=\"114.880406\" style=\"fill: #0000ff; stroke: #000000\"/>\n     <use xlink:href=\"#m5ebff3f84d\" x=\"254.7219\" y=\"70.528406\" style=\"fill: #0000ff; stroke: #000000\"/>\n     <use xlink:href=\"#m5ebff3f84d\" x=\"255.24642\" y=\"114.880406\" style=\"fill: #0000ff; stroke: #000000\"/>\n     <use xlink:href=\"#m5ebff3f84d\" x=\"255.28269\" y=\"114.880406\" style=\"fill: #0000ff; stroke: #000000\"/>\n     <use xlink:href=\"#m5ebff3f84d\" x=\"255.63423\" y=\"114.880406\" style=\"fill: #0000ff; stroke: #000000\"/>\n     <use xlink:href=\"#m5ebff3f84d\" x=\"256.11132\" y=\"70.528406\" style=\"fill: #0000ff; stroke: #000000\"/>\n     <use xlink:href=\"#m5ebff3f84d\" x=\"256.40148\" y=\"203.584406\" style=\"fill: #0000ff; stroke: #000000\"/>\n     <use xlink:href=\"#m5ebff3f84d\" x=\"256.77255\" y=\"114.880406\" style=\"fill: #0000ff; stroke: #000000\"/>\n     <use xlink:href=\"#m5ebff3f84d\" x=\"256.83114\" y=\"114.880406\" style=\"fill: #0000ff; stroke: #000000\"/>\n     <use xlink:href=\"#m5ebff3f84d\" x=\"257.1213\" y=\"114.880406\" style=\"fill: #0000ff; stroke: #000000\"/>\n     <use xlink:href=\"#m5ebff3f84d\" x=\"257.67651\" y=\"114.880406\" style=\"fill: #0000ff; stroke: #000000\"/>\n     <use xlink:href=\"#m5ebff3f84d\" x=\"257.80764\" y=\"114.880406\" style=\"fill: #0000ff; stroke: #000000\"/>\n     <use xlink:href=\"#m5ebff3f84d\" x=\"260.62275\" y=\"70.528406\" style=\"fill: #0000ff; stroke: #000000\"/>\n     <use xlink:href=\"#m5ebff3f84d\" x=\"260.71203\" y=\"114.880406\" style=\"fill: #0000ff; stroke: #000000\"/>\n     <use xlink:href=\"#m5ebff3f84d\" x=\"260.75667\" y=\"114.880406\" style=\"fill: #0000ff; stroke: #000000\"/>\n     <use xlink:href=\"#m5ebff3f84d\" x=\"261.65784\" y=\"70.528406\" style=\"fill: #0000ff; stroke: #000000\"/>\n     <use xlink:href=\"#m5ebff3f84d\" x=\"261.68574\" y=\"114.880406\" style=\"fill: #0000ff; stroke: #000000\"/>\n     <use xlink:href=\"#m5ebff3f84d\" x=\"261.74433\" y=\"114.880406\" style=\"fill: #0000ff; stroke: #000000\"/>\n     <use xlink:href=\"#m5ebff3f84d\" x=\"261.78897\" y=\"70.528406\" style=\"fill: #0000ff; stroke: #000000\"/>\n     <use xlink:href=\"#m5ebff3f84d\" x=\"261.93405\" y=\"70.528406\" style=\"fill: #0000ff; stroke: #000000\"/>\n     <use xlink:href=\"#m5ebff3f84d\" x=\"262.05402\" y=\"70.528406\" style=\"fill: #0000ff; stroke: #000000\"/>\n     <use xlink:href=\"#m5ebff3f84d\" x=\"262.21305\" y=\"70.528406\" style=\"fill: #0000ff; stroke: #000000\"/>\n     <use xlink:href=\"#m5ebff3f84d\" x=\"262.44462\" y=\"70.528406\" style=\"fill: #0000ff; stroke: #000000\"/>\n     <use xlink:href=\"#m5ebff3f84d\" x=\"262.52832\" y=\"70.528406\" style=\"fill: #0000ff; stroke: #000000\"/>\n     <use xlink:href=\"#m5ebff3f84d\" x=\"262.57296\" y=\"70.528406\" style=\"fill: #0000ff; stroke: #000000\"/>\n     <use xlink:href=\"#m5ebff3f84d\" x=\"262.70967\" y=\"70.528406\" style=\"fill: #0000ff; stroke: #000000\"/>\n     <use xlink:href=\"#m5ebff3f84d\" x=\"262.93008\" y=\"114.880406\" style=\"fill: #0000ff; stroke: #000000\"/>\n     <use xlink:href=\"#m5ebff3f84d\" x=\"263.41275\" y=\"114.880406\" style=\"fill: #0000ff; stroke: #000000\"/>\n     <use xlink:href=\"#m5ebff3f84d\" x=\"263.99586\" y=\"114.880406\" style=\"fill: #0000ff; stroke: #000000\"/>\n     <use xlink:href=\"#m5ebff3f84d\" x=\"265.03653\" y=\"114.880406\" style=\"fill: #0000ff; stroke: #000000\"/>\n     <use xlink:href=\"#m5ebff3f84d\" x=\"265.15929\" y=\"114.880406\" style=\"fill: #0000ff; stroke: #000000\"/>\n     <use xlink:href=\"#m5ebff3f84d\" x=\"265.33785\" y=\"114.880406\" style=\"fill: #0000ff; stroke: #000000\"/>\n     <use xlink:href=\"#m5ebff3f84d\" x=\"265.53036\" y=\"114.880406\" style=\"fill: #0000ff; stroke: #000000\"/>\n     <use xlink:href=\"#m5ebff3f84d\" x=\"265.6587\" y=\"114.880406\" style=\"fill: #0000ff; stroke: #000000\"/>\n     <use xlink:href=\"#m5ebff3f84d\" x=\"265.84842\" y=\"114.880406\" style=\"fill: #0000ff; stroke: #000000\"/>\n     <use xlink:href=\"#m5ebff3f84d\" x=\"265.86237\" y=\"114.880406\" style=\"fill: #0000ff; stroke: #000000\"/>\n     <use xlink:href=\"#m5ebff3f84d\" x=\"265.90143\" y=\"114.880406\" style=\"fill: #0000ff; stroke: #000000\"/>\n     <use xlink:href=\"#m5ebff3f84d\" x=\"265.93491\" y=\"114.880406\" style=\"fill: #0000ff; stroke: #000000\"/>\n     <use xlink:href=\"#m5ebff3f84d\" x=\"265.96281\" y=\"114.880406\" style=\"fill: #0000ff; stroke: #000000\"/>\n     <use xlink:href=\"#m5ebff3f84d\" x=\"266.16927\" y=\"114.880406\" style=\"fill: #0000ff; stroke: #000000\"/>\n     <use xlink:href=\"#m5ebff3f84d\" x=\"266.27808\" y=\"114.880406\" style=\"fill: #0000ff; stroke: #000000\"/>\n     <use xlink:href=\"#m5ebff3f84d\" x=\"266.58777\" y=\"114.880406\" style=\"fill: #0000ff; stroke: #000000\"/>\n     <use xlink:href=\"#m5ebff3f84d\" x=\"266.66868\" y=\"114.880406\" style=\"fill: #0000ff; stroke: #000000\"/>\n     <use xlink:href=\"#m5ebff3f84d\" x=\"267.51405\" y=\"114.880406\" style=\"fill: #0000ff; stroke: #000000\"/>\n     <use xlink:href=\"#m5ebff3f84d\" x=\"268.19202\" y=\"114.880406\" style=\"fill: #0000ff; stroke: #000000\"/>\n     <use xlink:href=\"#m5ebff3f84d\" x=\"268.66353\" y=\"114.880406\" style=\"fill: #0000ff; stroke: #000000\"/>\n     <use xlink:href=\"#m5ebff3f84d\" x=\"268.85046\" y=\"114.880406\" style=\"fill: #0000ff; stroke: #000000\"/>\n     <use xlink:href=\"#m5ebff3f84d\" x=\"268.90626\" y=\"114.880406\" style=\"fill: #0000ff; stroke: #000000\"/>\n     <use xlink:href=\"#m5ebff3f84d\" x=\"269.0346\" y=\"114.880406\" style=\"fill: #0000ff; stroke: #000000\"/>\n     <use xlink:href=\"#m5ebff3f84d\" x=\"269.15457\" y=\"114.880406\" style=\"fill: #0000ff; stroke: #000000\"/>\n     <use xlink:href=\"#m5ebff3f84d\" x=\"269.42241\" y=\"114.880406\" style=\"fill: #0000ff; stroke: #000000\"/>\n     <use xlink:href=\"#m5ebff3f84d\" x=\"269.60934\" y=\"114.880406\" style=\"fill: #0000ff; stroke: #000000\"/>\n     <use xlink:href=\"#m5ebff3f84d\" x=\"269.96367\" y=\"114.880406\" style=\"fill: #0000ff; stroke: #000000\"/>\n     <use xlink:href=\"#m5ebff3f84d\" x=\"270.37659\" y=\"70.528406\" style=\"fill: #0000ff; stroke: #000000\"/>\n     <use xlink:href=\"#m5ebff3f84d\" x=\"270.38496\" y=\"114.880406\" style=\"fill: #0000ff; stroke: #000000\"/>\n     <use xlink:href=\"#m5ebff3f84d\" x=\"270.62211\" y=\"114.880406\" style=\"fill: #0000ff; stroke: #000000\"/>\n     <use xlink:href=\"#m5ebff3f84d\" x=\"272.4942\" y=\"114.880406\" style=\"fill: #0000ff; stroke: #000000\"/>\n     <use xlink:href=\"#m5ebff3f84d\" x=\"272.87922\" y=\"70.528406\" style=\"fill: #0000ff; stroke: #000000\"/>\n     <use xlink:href=\"#m5ebff3f84d\" x=\"272.88759\" y=\"114.880406\" style=\"fill: #0000ff; stroke: #000000\"/>\n     <use xlink:href=\"#m5ebff3f84d\" x=\"273.57672\" y=\"70.528406\" style=\"fill: #0000ff; stroke: #000000\"/>\n     <use xlink:href=\"#m5ebff3f84d\" x=\"274.5309\" y=\"70.528406\" style=\"fill: #0000ff; stroke: #000000\"/>\n     <use xlink:href=\"#m5ebff3f84d\" x=\"275.76408\" y=\"70.528406\" style=\"fill: #0000ff; stroke: #000000\"/>\n     <use xlink:href=\"#m5ebff3f84d\" x=\"277.10607\" y=\"70.528406\" style=\"fill: #0000ff; stroke: #000000\"/>\n     <use xlink:href=\"#m5ebff3f84d\" x=\"277.7394\" y=\"114.880406\" style=\"fill: #0000ff; stroke: #000000\"/>\n     <use xlink:href=\"#m5ebff3f84d\" x=\"277.83426\" y=\"114.880406\" style=\"fill: #0000ff; stroke: #000000\"/>\n     <use xlink:href=\"#m5ebff3f84d\" x=\"277.89006\" y=\"114.880406\" style=\"fill: #0000ff; stroke: #000000\"/>\n     <use xlink:href=\"#m5ebff3f84d\" x=\"278.08257\" y=\"203.584406\" style=\"fill: #0000ff; stroke: #000000\"/>\n     <use xlink:href=\"#m5ebff3f84d\" x=\"278.68521\" y=\"114.880406\" style=\"fill: #0000ff; stroke: #000000\"/>\n     <use xlink:href=\"#m5ebff3f84d\" x=\"278.8554\" y=\"114.880406\" style=\"fill: #0000ff; stroke: #000000\"/>\n     <use xlink:href=\"#m5ebff3f84d\" x=\"279.05628\" y=\"114.880406\" style=\"fill: #0000ff; stroke: #000000\"/>\n     <use xlink:href=\"#m5ebff3f84d\" x=\"279.37155\" y=\"114.880406\" style=\"fill: #0000ff; stroke: #000000\"/>\n     <use xlink:href=\"#m5ebff3f84d\" x=\"279.60312\" y=\"70.528406\" style=\"fill: #0000ff; stroke: #000000\"/>\n     <use xlink:href=\"#m5ebff3f84d\" x=\"279.80958\" y=\"114.880406\" style=\"fill: #0000ff; stroke: #000000\"/>\n     <use xlink:href=\"#m5ebff3f84d\" x=\"279.85701\" y=\"70.528406\" style=\"fill: #0000ff; stroke: #000000\"/>\n     <use xlink:href=\"#m5ebff3f84d\" x=\"280.50708\" y=\"114.880406\" style=\"fill: #0000ff; stroke: #000000\"/>\n     <use xlink:href=\"#m5ebff3f84d\" x=\"280.78329\" y=\"114.880406\" style=\"fill: #0000ff; stroke: #000000\"/>\n     <use xlink:href=\"#m5ebff3f84d\" x=\"282.93996\" y=\"114.880406\" style=\"fill: #0000ff; stroke: #000000\"/>\n     <use xlink:href=\"#m5ebff3f84d\" x=\"283.82439\" y=\"114.880406\" style=\"fill: #0000ff; stroke: #000000\"/>\n     <use xlink:href=\"#m5ebff3f84d\" x=\"283.94715\" y=\"114.880406\" style=\"fill: #0000ff; stroke: #000000\"/>\n     <use xlink:href=\"#m5ebff3f84d\" x=\"284.36286\" y=\"114.880406\" style=\"fill: #0000ff; stroke: #000000\"/>\n     <use xlink:href=\"#m5ebff3f84d\" x=\"284.45214\" y=\"114.880406\" style=\"fill: #0000ff; stroke: #000000\"/>\n     <use xlink:href=\"#m5ebff3f84d\" x=\"284.55816\" y=\"114.880406\" style=\"fill: #0000ff; stroke: #000000\"/>\n     <use xlink:href=\"#m5ebff3f84d\" x=\"284.9097\" y=\"70.528406\" style=\"fill: #0000ff; stroke: #000000\"/>\n     <use xlink:href=\"#m5ebff3f84d\" x=\"284.94318\" y=\"70.528406\" style=\"fill: #0000ff; stroke: #000000\"/>\n     <use xlink:href=\"#m5ebff3f84d\" x=\"285.09942\" y=\"70.528406\" style=\"fill: #0000ff; stroke: #000000\"/>\n     <use xlink:href=\"#m5ebff3f84d\" x=\"285.44538\" y=\"70.528406\" style=\"fill: #0000ff; stroke: #000000\"/>\n     <use xlink:href=\"#m5ebff3f84d\" x=\"285.50955\" y=\"70.528406\" style=\"fill: #0000ff; stroke: #000000\"/>\n     <use xlink:href=\"#m5ebff3f84d\" x=\"285.58209\" y=\"70.528406\" style=\"fill: #0000ff; stroke: #000000\"/>\n     <use xlink:href=\"#m5ebff3f84d\" x=\"285.73833\" y=\"70.528406\" style=\"fill: #0000ff; stroke: #000000\"/>\n     <use xlink:href=\"#m5ebff3f84d\" x=\"285.86946\" y=\"70.528406\" style=\"fill: #0000ff; stroke: #000000\"/>\n     <use xlink:href=\"#m5ebff3f84d\" x=\"285.95037\" y=\"70.528406\" style=\"fill: #0000ff; stroke: #000000\"/>\n     <use xlink:href=\"#m5ebff3f84d\" x=\"286.04523\" y=\"114.880406\" style=\"fill: #0000ff; stroke: #000000\"/>\n     <use xlink:href=\"#m5ebff3f84d\" x=\"286.5\" y=\"114.880406\" style=\"fill: #0000ff; stroke: #000000\"/>\n     <use xlink:href=\"#m5ebff3f84d\" x=\"286.60044\" y=\"114.880406\" style=\"fill: #0000ff; stroke: #000000\"/>\n     <use xlink:href=\"#m5ebff3f84d\" x=\"286.91292\" y=\"114.880406\" style=\"fill: #0000ff; stroke: #000000\"/>\n     <use xlink:href=\"#m5ebff3f84d\" x=\"286.98267\" y=\"70.528406\" style=\"fill: #0000ff; stroke: #000000\"/>\n     <use xlink:href=\"#m5ebff3f84d\" x=\"286.99104\" y=\"114.880406\" style=\"fill: #0000ff; stroke: #000000\"/>\n     <use xlink:href=\"#m5ebff3f84d\" x=\"287.10264\" y=\"114.880406\" style=\"fill: #0000ff; stroke: #000000\"/>\n     <use xlink:href=\"#m5ebff3f84d\" x=\"287.16681\" y=\"114.880406\" style=\"fill: #0000ff; stroke: #000000\"/>\n     <use xlink:href=\"#m5ebff3f84d\" x=\"287.37606\" y=\"70.528406\" style=\"fill: #0000ff; stroke: #000000\"/>\n     <use xlink:href=\"#m5ebff3f84d\" x=\"287.46255\" y=\"70.528406\" style=\"fill: #0000ff; stroke: #000000\"/>\n     <use xlink:href=\"#m5ebff3f84d\" x=\"287.47092\" y=\"114.880406\" style=\"fill: #0000ff; stroke: #000000\"/>\n     <use xlink:href=\"#m5ebff3f84d\" x=\"287.7834\" y=\"114.880406\" style=\"fill: #0000ff; stroke: #000000\"/>\n     <use xlink:href=\"#m5ebff3f84d\" x=\"288.26049\" y=\"114.880406\" style=\"fill: #0000ff; stroke: #000000\"/>\n     <use xlink:href=\"#m5ebff3f84d\" x=\"288.91614\" y=\"70.528406\" style=\"fill: #0000ff; stroke: #000000\"/>\n     <use xlink:href=\"#m5ebff3f84d\" x=\"289.05285\" y=\"114.880406\" style=\"fill: #0000ff; stroke: #000000\"/>\n     <use xlink:href=\"#m5ebff3f84d\" x=\"289.34859\" y=\"114.880406\" style=\"fill: #0000ff; stroke: #000000\"/>\n     <use xlink:href=\"#m5ebff3f84d\" x=\"289.46019\" y=\"114.880406\" style=\"fill: #0000ff; stroke: #000000\"/>\n     <use xlink:href=\"#m5ebff3f84d\" x=\"292.89468\" y=\"114.880406\" style=\"fill: #0000ff; stroke: #000000\"/>\n     <use xlink:href=\"#m5ebff3f84d\" x=\"293.89071\" y=\"114.880406\" style=\"fill: #0000ff; stroke: #000000\"/>\n     <use xlink:href=\"#m5ebff3f84d\" x=\"293.91024\" y=\"114.880406\" style=\"fill: #0000ff; stroke: #000000\"/>\n     <use xlink:href=\"#m5ebff3f84d\" x=\"294.03021\" y=\"114.880406\" style=\"fill: #0000ff; stroke: #000000\"/>\n     <use xlink:href=\"#m5ebff3f84d\" x=\"295.56471\" y=\"70.528406\" style=\"fill: #0000ff; stroke: #000000\"/>\n     <use xlink:href=\"#m5ebff3f84d\" x=\"297.04341\" y=\"70.528406\" style=\"fill: #0000ff; stroke: #000000\"/>\n     <use xlink:href=\"#m5ebff3f84d\" x=\"297.21918\" y=\"70.528406\" style=\"fill: #0000ff; stroke: #000000\"/>\n     <use xlink:href=\"#m5ebff3f84d\" x=\"297.57072\" y=\"114.880406\" style=\"fill: #0000ff; stroke: #000000\"/>\n     <use xlink:href=\"#m5ebff3f84d\" x=\"297.59862\" y=\"114.880406\" style=\"fill: #0000ff; stroke: #000000\"/>\n     <use xlink:href=\"#m5ebff3f84d\" x=\"297.75486\" y=\"114.880406\" style=\"fill: #0000ff; stroke: #000000\"/>\n     <use xlink:href=\"#m5ebff3f84d\" x=\"297.89715\" y=\"70.528406\" style=\"fill: #0000ff; stroke: #000000\"/>\n     <use xlink:href=\"#m5ebff3f84d\" x=\"298.40493\" y=\"114.880406\" style=\"fill: #0000ff; stroke: #000000\"/>\n     <use xlink:href=\"#m5ebff3f84d\" x=\"298.4691\" y=\"114.880406\" style=\"fill: #0000ff; stroke: #000000\"/>\n     <use xlink:href=\"#m5ebff3f84d\" x=\"299.00757\" y=\"70.528406\" style=\"fill: #0000ff; stroke: #000000\"/>\n     <use xlink:href=\"#m5ebff3f84d\" x=\"299.01594\" y=\"114.880406\" style=\"fill: #0000ff; stroke: #000000\"/>\n     <use xlink:href=\"#m5ebff3f84d\" x=\"299.93664\" y=\"114.880406\" style=\"fill: #0000ff; stroke: #000000\"/>\n     <use xlink:href=\"#m5ebff3f84d\" x=\"301.10565\" y=\"70.528406\" style=\"fill: #0000ff; stroke: #000000\"/>\n     <use xlink:href=\"#m5ebff3f84d\" x=\"301.4265\" y=\"114.880406\" style=\"fill: #0000ff; stroke: #000000\"/>\n     <use xlink:href=\"#m5ebff3f84d\" x=\"301.44603\" y=\"114.880406\" style=\"fill: #0000ff; stroke: #000000\"/>\n     <use xlink:href=\"#m5ebff3f84d\" x=\"301.85337\" y=\"114.880406\" style=\"fill: #0000ff; stroke: #000000\"/>\n     <use xlink:href=\"#m5ebff3f84d\" x=\"303.81753\" y=\"114.880406\" style=\"fill: #0000ff; stroke: #000000\"/>\n     <use xlink:href=\"#m5ebff3f84d\" x=\"303.94866\" y=\"114.880406\" style=\"fill: #0000ff; stroke: #000000\"/>\n     <use xlink:href=\"#m5ebff3f84d\" x=\"307.05393\" y=\"70.528406\" style=\"fill: #0000ff; stroke: #000000\"/>\n     <use xlink:href=\"#m5ebff3f84d\" x=\"307.0623\" y=\"114.880406\" style=\"fill: #0000ff; stroke: #000000\"/>\n     <use xlink:href=\"#m5ebff3f84d\" x=\"308.30385\" y=\"70.528406\" style=\"fill: #0000ff; stroke: #000000\"/>\n     <use xlink:href=\"#m5ebff3f84d\" x=\"308.9316\" y=\"70.528406\" style=\"fill: #0000ff; stroke: #000000\"/>\n     <use xlink:href=\"#m5ebff3f84d\" x=\"309.43938\" y=\"70.528406\" style=\"fill: #0000ff; stroke: #000000\"/>\n     <use xlink:href=\"#m5ebff3f84d\" x=\"309.44775\" y=\"114.880406\" style=\"fill: #0000ff; stroke: #000000\"/>\n     <use xlink:href=\"#m5ebff3f84d\" x=\"310.05876\" y=\"114.880406\" style=\"fill: #0000ff; stroke: #000000\"/>\n     <use xlink:href=\"#m5ebff3f84d\" x=\"310.19268\" y=\"114.880406\" style=\"fill: #0000ff; stroke: #000000\"/>\n     <use xlink:href=\"#m5ebff3f84d\" x=\"311.35053\" y=\"114.880406\" style=\"fill: #0000ff; stroke: #000000\"/>\n     <use xlink:href=\"#m5ebff3f84d\" x=\"311.4426\" y=\"114.880406\" style=\"fill: #0000ff; stroke: #000000\"/>\n     <use xlink:href=\"#m5ebff3f84d\" x=\"311.53188\" y=\"114.880406\" style=\"fill: #0000ff; stroke: #000000\"/>\n     <use xlink:href=\"#m5ebff3f84d\" x=\"311.65743\" y=\"114.880406\" style=\"fill: #0000ff; stroke: #000000\"/>\n     <use xlink:href=\"#m5ebff3f84d\" x=\"311.85831\" y=\"114.880406\" style=\"fill: #0000ff; stroke: #000000\"/>\n     <use xlink:href=\"#m5ebff3f84d\" x=\"311.93364\" y=\"114.880406\" style=\"fill: #0000ff; stroke: #000000\"/>\n     <use xlink:href=\"#m5ebff3f84d\" x=\"314.27445\" y=\"114.880406\" style=\"fill: #0000ff; stroke: #000000\"/>\n     <use xlink:href=\"#m5ebff3f84d\" x=\"315.04728\" y=\"114.880406\" style=\"fill: #0000ff; stroke: #000000\"/>\n     <use xlink:href=\"#m5ebff3f84d\" x=\"315.33465\" y=\"114.880406\" style=\"fill: #0000ff; stroke: #000000\"/>\n     <use xlink:href=\"#m5ebff3f84d\" x=\"315.4044\" y=\"114.880406\" style=\"fill: #0000ff; stroke: #000000\"/>\n     <use xlink:href=\"#m5ebff3f84d\" x=\"316.16328\" y=\"114.880406\" style=\"fill: #0000ff; stroke: #000000\"/>\n     <use xlink:href=\"#m5ebff3f84d\" x=\"317.33508\" y=\"70.528406\" style=\"fill: #0000ff; stroke: #000000\"/>\n     <use xlink:href=\"#m5ebff3f84d\" x=\"317.34066\" y=\"114.880406\" style=\"fill: #0000ff; stroke: #000000\"/>\n     <use xlink:href=\"#m5ebff3f84d\" x=\"317.85123\" y=\"114.880406\" style=\"fill: #0000ff; stroke: #000000\"/>\n     <use xlink:href=\"#m5ebff3f84d\" x=\"320.04975\" y=\"70.528406\" style=\"fill: #0000ff; stroke: #000000\"/>\n     <use xlink:href=\"#m5ebff3f84d\" x=\"320.17251\" y=\"70.528406\" style=\"fill: #0000ff; stroke: #000000\"/>\n     <use xlink:href=\"#m5ebff3f84d\" x=\"320.65239\" y=\"114.880406\" style=\"fill: #0000ff; stroke: #000000\"/>\n     <use xlink:href=\"#m5ebff3f84d\" x=\"320.96766\" y=\"70.528406\" style=\"fill: #0000ff; stroke: #000000\"/>\n     <use xlink:href=\"#m5ebff3f84d\" x=\"321.14901\" y=\"114.880406\" style=\"fill: #0000ff; stroke: #000000\"/>\n     <use xlink:href=\"#m5ebff3f84d\" x=\"321.35547\" y=\"70.528406\" style=\"fill: #0000ff; stroke: #000000\"/>\n     <use xlink:href=\"#m5ebff3f84d\" x=\"322.80069\" y=\"70.528406\" style=\"fill: #0000ff; stroke: #000000\"/>\n     <use xlink:href=\"#m5ebff3f84d\" x=\"322.86486\" y=\"70.528406\" style=\"fill: #0000ff; stroke: #000000\"/>\n     <use xlink:href=\"#m5ebff3f84d\" x=\"322.90113\" y=\"70.528406\" style=\"fill: #0000ff; stroke: #000000\"/>\n     <use xlink:href=\"#m5ebff3f84d\" x=\"323.07132\" y=\"70.528406\" style=\"fill: #0000ff; stroke: #000000\"/>\n     <use xlink:href=\"#m5ebff3f84d\" x=\"323.14107\" y=\"70.528406\" style=\"fill: #0000ff; stroke: #000000\"/>\n     <use xlink:href=\"#m5ebff3f84d\" x=\"323.2722\" y=\"70.528406\" style=\"fill: #0000ff; stroke: #000000\"/>\n     <use xlink:href=\"#m5ebff3f84d\" x=\"323.37264\" y=\"70.528406\" style=\"fill: #0000ff; stroke: #000000\"/>\n     <use xlink:href=\"#m5ebff3f84d\" x=\"323.45634\" y=\"70.528406\" style=\"fill: #0000ff; stroke: #000000\"/>\n     <use xlink:href=\"#m5ebff3f84d\" x=\"323.57631\" y=\"70.528406\" style=\"fill: #0000ff; stroke: #000000\"/>\n     <use xlink:href=\"#m5ebff3f84d\" x=\"323.64606\" y=\"70.528406\" style=\"fill: #0000ff; stroke: #000000\"/>\n     <use xlink:href=\"#m5ebff3f84d\" x=\"323.74929\" y=\"70.528406\" style=\"fill: #0000ff; stroke: #000000\"/>\n     <use xlink:href=\"#m5ebff3f84d\" x=\"323.77998\" y=\"70.528406\" style=\"fill: #0000ff; stroke: #000000\"/>\n     <use xlink:href=\"#m5ebff3f84d\" x=\"324.29613\" y=\"114.880406\" style=\"fill: #0000ff; stroke: #000000\"/>\n     <use xlink:href=\"#m5ebff3f84d\" x=\"324.3603\" y=\"114.880406\" style=\"fill: #0000ff; stroke: #000000\"/>\n     <use xlink:href=\"#m5ebff3f84d\" x=\"324.46632\" y=\"114.880406\" style=\"fill: #0000ff; stroke: #000000\"/>\n     <use xlink:href=\"#m5ebff3f84d\" x=\"324.49701\" y=\"114.880406\" style=\"fill: #0000ff; stroke: #000000\"/>\n     <use xlink:href=\"#m5ebff3f84d\" x=\"324.53886\" y=\"114.880406\" style=\"fill: #0000ff; stroke: #000000\"/>\n     <use xlink:href=\"#m5ebff3f84d\" x=\"324.62256\" y=\"114.880406\" style=\"fill: #0000ff; stroke: #000000\"/>\n     <use xlink:href=\"#m5ebff3f84d\" x=\"324.6672\" y=\"114.880406\" style=\"fill: #0000ff; stroke: #000000\"/>\n     <use xlink:href=\"#m5ebff3f84d\" x=\"324.72858\" y=\"114.880406\" style=\"fill: #0000ff; stroke: #000000\"/>\n     <use xlink:href=\"#m5ebff3f84d\" x=\"324.88203\" y=\"114.880406\" style=\"fill: #0000ff; stroke: #000000\"/>\n     <use xlink:href=\"#m5ebff3f84d\" x=\"325.08012\" y=\"114.880406\" style=\"fill: #0000ff; stroke: #000000\"/>\n     <use xlink:href=\"#m5ebff3f84d\" x=\"325.1694\" y=\"114.880406\" style=\"fill: #0000ff; stroke: #000000\"/>\n     <use xlink:href=\"#m5ebff3f84d\" x=\"325.34796\" y=\"114.880406\" style=\"fill: #0000ff; stroke: #000000\"/>\n     <use xlink:href=\"#m5ebff3f84d\" x=\"325.42887\" y=\"114.880406\" style=\"fill: #0000ff; stroke: #000000\"/>\n     <use xlink:href=\"#m5ebff3f84d\" x=\"326.23518\" y=\"114.880406\" style=\"fill: #0000ff; stroke: #000000\"/>\n     <use xlink:href=\"#m5ebff3f84d\" x=\"326.45559\" y=\"114.880406\" style=\"fill: #0000ff; stroke: #000000\"/>\n     <use xlink:href=\"#m5ebff3f84d\" x=\"326.49744\" y=\"114.880406\" style=\"fill: #0000ff; stroke: #000000\"/>\n     <use xlink:href=\"#m5ebff3f84d\" x=\"326.94663\" y=\"70.528406\" style=\"fill: #0000ff; stroke: #000000\"/>\n     <use xlink:href=\"#m5ebff3f84d\" x=\"327.03033\" y=\"70.528406\" style=\"fill: #0000ff; stroke: #000000\"/>\n     <use xlink:href=\"#m5ebff3f84d\" x=\"327.08613\" y=\"70.528406\" style=\"fill: #0000ff; stroke: #000000\"/>\n     <use xlink:href=\"#m5ebff3f84d\" x=\"327.15588\" y=\"114.880406\" style=\"fill: #0000ff; stroke: #000000\"/>\n     <use xlink:href=\"#m5ebff3f84d\" x=\"327.20052\" y=\"114.880406\" style=\"fill: #0000ff; stroke: #000000\"/>\n     <use xlink:href=\"#m5ebff3f84d\" x=\"327.28701\" y=\"114.880406\" style=\"fill: #0000ff; stroke: #000000\"/>\n     <use xlink:href=\"#m5ebff3f84d\" x=\"327.39861\" y=\"70.528406\" style=\"fill: #0000ff; stroke: #000000\"/>\n     <use xlink:href=\"#m5ebff3f84d\" x=\"327.42651\" y=\"70.528406\" style=\"fill: #0000ff; stroke: #000000\"/>\n     <use xlink:href=\"#m5ebff3f84d\" x=\"327.55764\" y=\"70.528406\" style=\"fill: #0000ff; stroke: #000000\"/>\n     <use xlink:href=\"#m5ebff3f84d\" x=\"327.59391\" y=\"114.880406\" style=\"fill: #0000ff; stroke: #000000\"/>\n     <use xlink:href=\"#m5ebff3f84d\" x=\"327.76131\" y=\"70.528406\" style=\"fill: #0000ff; stroke: #000000\"/>\n     <use xlink:href=\"#m5ebff3f84d\" x=\"327.85059\" y=\"70.528406\" style=\"fill: #0000ff; stroke: #000000\"/>\n     <use xlink:href=\"#m5ebff3f84d\" x=\"328.00125\" y=\"70.528406\" style=\"fill: #0000ff; stroke: #000000\"/>\n     <use xlink:href=\"#m5ebff3f84d\" x=\"328.53135\" y=\"70.528406\" style=\"fill: #0000ff; stroke: #000000\"/>\n     <use xlink:href=\"#m5ebff3f84d\" x=\"328.96659\" y=\"70.528406\" style=\"fill: #0000ff; stroke: #000000\"/>\n     <use xlink:href=\"#m5ebff3f84d\" x=\"329.25117\" y=\"159.232406\" style=\"fill: #0000ff; stroke: #000000\"/>\n     <use xlink:href=\"#m5ebff3f84d\" x=\"329.745\" y=\"70.528406\" style=\"fill: #0000ff; stroke: #000000\"/>\n     <use xlink:href=\"#m5ebff3f84d\" x=\"329.83428\" y=\"70.528406\" style=\"fill: #0000ff; stroke: #000000\"/>\n     <use xlink:href=\"#m5ebff3f84d\" x=\"329.86776\" y=\"70.528406\" style=\"fill: #0000ff; stroke: #000000\"/>\n     <use xlink:href=\"#m5ebff3f84d\" x=\"329.9124\" y=\"70.528406\" style=\"fill: #0000ff; stroke: #000000\"/>\n     <use xlink:href=\"#m5ebff3f84d\" x=\"330.39507\" y=\"114.880406\" style=\"fill: #0000ff; stroke: #000000\"/>\n     <use xlink:href=\"#m5ebff3f84d\" x=\"330.78009\" y=\"70.528406\" style=\"fill: #0000ff; stroke: #000000\"/>\n     <use xlink:href=\"#m5ebff3f84d\" x=\"330.88611\" y=\"70.528406\" style=\"fill: #0000ff; stroke: #000000\"/>\n     <use xlink:href=\"#m5ebff3f84d\" x=\"330.9168\" y=\"70.528406\" style=\"fill: #0000ff; stroke: #000000\"/>\n     <use xlink:href=\"#m5ebff3f84d\" x=\"331.27671\" y=\"70.528406\" style=\"fill: #0000ff; stroke: #000000\"/>\n     <use xlink:href=\"#m5ebff3f84d\" x=\"331.42737\" y=\"70.528406\" style=\"fill: #0000ff; stroke: #000000\"/>\n     <use xlink:href=\"#m5ebff3f84d\" x=\"331.49154\" y=\"70.528406\" style=\"fill: #0000ff; stroke: #000000\"/>\n     <use xlink:href=\"#m5ebff3f84d\" x=\"331.53339\" y=\"70.528406\" style=\"fill: #0000ff; stroke: #000000\"/>\n     <use xlink:href=\"#m5ebff3f84d\" x=\"331.61988\" y=\"70.528406\" style=\"fill: #0000ff; stroke: #000000\"/>\n     <use xlink:href=\"#m5ebff3f84d\" x=\"331.79007\" y=\"70.528406\" style=\"fill: #0000ff; stroke: #000000\"/>\n     <use xlink:href=\"#m5ebff3f84d\" x=\"331.99095\" y=\"70.528406\" style=\"fill: #0000ff; stroke: #000000\"/>\n     <use xlink:href=\"#m5ebff3f84d\" x=\"332.03559\" y=\"70.528406\" style=\"fill: #0000ff; stroke: #000000\"/>\n     <use xlink:href=\"#m5ebff3f84d\" x=\"332.09976\" y=\"70.528406\" style=\"fill: #0000ff; stroke: #000000\"/>\n     <use xlink:href=\"#m5ebff3f84d\" x=\"332.19183\" y=\"70.528406\" style=\"fill: #0000ff; stroke: #000000\"/>\n     <use xlink:href=\"#m5ebff3f84d\" x=\"333.08742\" y=\"70.528406\" style=\"fill: #0000ff; stroke: #000000\"/>\n     <use xlink:href=\"#m5ebff3f84d\" x=\"334.33734\" y=\"70.528406\" style=\"fill: #0000ff; stroke: #000000\"/>\n     <use xlink:href=\"#m5ebff3f84d\" x=\"336.53865\" y=\"70.528406\" style=\"fill: #0000ff; stroke: #000000\"/>\n     <use xlink:href=\"#m5ebff3f84d\" x=\"337.49004\" y=\"70.528406\" style=\"fill: #0000ff; stroke: #000000\"/>\n     <use xlink:href=\"#m5ebff3f84d\" x=\"337.67697\" y=\"70.528406\" style=\"fill: #0000ff; stroke: #000000\"/>\n     <use xlink:href=\"#m5ebff3f84d\" x=\"337.82484\" y=\"70.528406\" style=\"fill: #0000ff; stroke: #000000\"/>\n     <use xlink:href=\"#m5ebff3f84d\" x=\"337.86111\" y=\"114.880406\" style=\"fill: #0000ff; stroke: #000000\"/>\n     <use xlink:href=\"#m5ebff3f84d\" x=\"337.90575\" y=\"114.880406\" style=\"fill: #0000ff; stroke: #000000\"/>\n     <use xlink:href=\"#m5ebff3f84d\" x=\"338.38842\" y=\"70.528406\" style=\"fill: #0000ff; stroke: #000000\"/>\n     <use xlink:href=\"#m5ebff3f84d\" x=\"338.81529\" y=\"70.528406\" style=\"fill: #0000ff; stroke: #000000\"/>\n     <use xlink:href=\"#m5ebff3f84d\" x=\"338.87667\" y=\"203.584406\" style=\"fill: #0000ff; stroke: #000000\"/>\n     <use xlink:href=\"#m5ebff3f84d\" x=\"339.33702\" y=\"203.584406\" style=\"fill: #0000ff; stroke: #000000\"/>\n     <use xlink:href=\"#m5ebff3f84d\" x=\"340.15728\" y=\"70.528406\" style=\"fill: #0000ff; stroke: #000000\"/>\n     <use xlink:href=\"#m5ebff3f84d\" x=\"340.30236\" y=\"70.528406\" style=\"fill: #0000ff; stroke: #000000\"/>\n     <use xlink:href=\"#m5ebff3f84d\" x=\"340.80735\" y=\"70.528406\" style=\"fill: #0000ff; stroke: #000000\"/>\n     <use xlink:href=\"#m5ebff3f84d\" x=\"341.5746\" y=\"114.880406\" style=\"fill: #0000ff; stroke: #000000\"/>\n     <use xlink:href=\"#m5ebff3f84d\" x=\"341.65272\" y=\"114.880406\" style=\"fill: #0000ff; stroke: #000000\"/>\n     <use xlink:href=\"#m5ebff3f84d\" x=\"341.8257\" y=\"114.880406\" style=\"fill: #0000ff; stroke: #000000\"/>\n     <use xlink:href=\"#m5ebff3f84d\" x=\"342.00147\" y=\"114.880406\" style=\"fill: #0000ff; stroke: #000000\"/>\n     <use xlink:href=\"#m5ebff3f84d\" x=\"342.03216\" y=\"114.880406\" style=\"fill: #0000ff; stroke: #000000\"/>\n     <use xlink:href=\"#m5ebff3f84d\" x=\"343.44111\" y=\"114.880406\" style=\"fill: #0000ff; stroke: #000000\"/>\n     <use xlink:href=\"#m5ebff3f84d\" x=\"345.17091\" y=\"70.528406\" style=\"fill: #0000ff; stroke: #000000\"/>\n     <use xlink:href=\"#m5ebff3f84d\" x=\"345.20439\" y=\"114.880406\" style=\"fill: #0000ff; stroke: #000000\"/>\n     <use xlink:href=\"#m5ebff3f84d\" x=\"345.40806\" y=\"70.528406\" style=\"fill: #0000ff; stroke: #000000\"/>\n     <use xlink:href=\"#m5ebff3f84d\" x=\"345.68706\" y=\"203.584406\" style=\"fill: #0000ff; stroke: #000000\"/>\n     <use xlink:href=\"#m5ebff3f84d\" x=\"345.97443\" y=\"70.528406\" style=\"fill: #0000ff; stroke: #000000\"/>\n     <use xlink:href=\"#m5ebff3f84d\" x=\"346.27854\" y=\"70.528406\" style=\"fill: #0000ff; stroke: #000000\"/>\n     <use xlink:href=\"#m5ebff3f84d\" x=\"346.82817\" y=\"203.584406\" style=\"fill: #0000ff; stroke: #000000\"/>\n     <use xlink:href=\"#m5ebff3f84d\" x=\"347.06253\" y=\"114.880406\" style=\"fill: #0000ff; stroke: #000000\"/>\n     <use xlink:href=\"#m5ebff3f84d\" x=\"347.64285\" y=\"114.880406\" style=\"fill: #0000ff; stroke: #000000\"/>\n     <use xlink:href=\"#m5ebff3f84d\" x=\"347.69586\" y=\"114.880406\" style=\"fill: #0000ff; stroke: #000000\"/>\n     <use xlink:href=\"#m5ebff3f84d\" x=\"347.80188\" y=\"114.880406\" style=\"fill: #0000ff; stroke: #000000\"/>\n     <use xlink:href=\"#m5ebff3f84d\" x=\"347.95533\" y=\"114.880406\" style=\"fill: #0000ff; stroke: #000000\"/>\n     <use xlink:href=\"#m5ebff3f84d\" x=\"347.98602\" y=\"114.880406\" style=\"fill: #0000ff; stroke: #000000\"/>\n     <use xlink:href=\"#m5ebff3f84d\" x=\"348.27618\" y=\"114.880406\" style=\"fill: #0000ff; stroke: #000000\"/>\n     <use xlink:href=\"#m5ebff3f84d\" x=\"348.68631\" y=\"70.528406\" style=\"fill: #0000ff; stroke: #000000\"/>\n     <use xlink:href=\"#m5ebff3f84d\" x=\"349.01553\" y=\"114.880406\" style=\"fill: #0000ff; stroke: #000000\"/>\n     <use xlink:href=\"#m5ebff3f84d\" x=\"349.34196\" y=\"114.880406\" style=\"fill: #0000ff; stroke: #000000\"/>\n     <use xlink:href=\"#m5ebff3f84d\" x=\"349.50099\" y=\"70.528406\" style=\"fill: #0000ff; stroke: #000000\"/>\n     <use xlink:href=\"#m5ebff3f84d\" x=\"349.52331\" y=\"114.880406\" style=\"fill: #0000ff; stroke: #000000\"/>\n     <use xlink:href=\"#m5ebff3f84d\" x=\"349.78278\" y=\"114.880406\" style=\"fill: #0000ff; stroke: #000000\"/>\n     <use xlink:href=\"#m5ebff3f84d\" x=\"349.98924\" y=\"114.880406\" style=\"fill: #0000ff; stroke: #000000\"/>\n     <use xlink:href=\"#m5ebff3f84d\" x=\"350.44401\" y=\"114.880406\" style=\"fill: #0000ff; stroke: #000000\"/>\n     <use xlink:href=\"#m5ebff3f84d\" x=\"350.63931\" y=\"70.528406\" style=\"fill: #0000ff; stroke: #000000\"/>\n     <use xlink:href=\"#m5ebff3f84d\" x=\"350.71743\" y=\"70.528406\" style=\"fill: #0000ff; stroke: #000000\"/>\n     <use xlink:href=\"#m5ebff3f84d\" x=\"351.34518\" y=\"70.528406\" style=\"fill: #0000ff; stroke: #000000\"/>\n     <use xlink:href=\"#m5ebff3f84d\" x=\"351.91713\" y=\"70.528406\" style=\"fill: #0000ff; stroke: #000000\"/>\n     <use xlink:href=\"#m5ebff3f84d\" x=\"352.03431\" y=\"70.528406\" style=\"fill: #0000ff; stroke: #000000\"/>\n     <use xlink:href=\"#m5ebff3f84d\" x=\"352.27146\" y=\"70.528406\" style=\"fill: #0000ff; stroke: #000000\"/>\n     <use xlink:href=\"#m5ebff3f84d\" x=\"352.42212\" y=\"70.528406\" style=\"fill: #0000ff; stroke: #000000\"/>\n     <use xlink:href=\"#m5ebff3f84d\" x=\"352.48908\" y=\"70.528406\" style=\"fill: #0000ff; stroke: #000000\"/>\n     <use xlink:href=\"#m5ebff3f84d\" x=\"352.65648\" y=\"70.528406\" style=\"fill: #0000ff; stroke: #000000\"/>\n     <use xlink:href=\"#m5ebff3f84d\" x=\"352.80435\" y=\"70.528406\" style=\"fill: #0000ff; stroke: #000000\"/>\n     <use xlink:href=\"#m5ebff3f84d\" x=\"352.86573\" y=\"70.528406\" style=\"fill: #0000ff; stroke: #000000\"/>\n     <use xlink:href=\"#m5ebff3f84d\" x=\"353.01639\" y=\"70.528406\" style=\"fill: #0000ff; stroke: #000000\"/>\n     <use xlink:href=\"#m5ebff3f84d\" x=\"353.0415\" y=\"70.528406\" style=\"fill: #0000ff; stroke: #000000\"/>\n     <use xlink:href=\"#m5ebff3f84d\" x=\"353.08893\" y=\"70.528406\" style=\"fill: #0000ff; stroke: #000000\"/>\n     <use xlink:href=\"#m5ebff3f84d\" x=\"353.4042\" y=\"70.528406\" style=\"fill: #0000ff; stroke: #000000\"/>\n     <use xlink:href=\"#m5ebff3f84d\" x=\"353.45163\" y=\"70.528406\" style=\"fill: #0000ff; stroke: #000000\"/>\n     <use xlink:href=\"#m5ebff3f84d\" x=\"353.8785\" y=\"70.528406\" style=\"fill: #0000ff; stroke: #000000\"/>\n     <use xlink:href=\"#m5ebff3f84d\" x=\"353.91477\" y=\"70.528406\" style=\"fill: #0000ff; stroke: #000000\"/>\n     <use xlink:href=\"#m5ebff3f84d\" x=\"353.93151\" y=\"70.528406\" style=\"fill: #0000ff; stroke: #000000\"/>\n     <use xlink:href=\"#m5ebff3f84d\" x=\"354.05985\" y=\"70.528406\" style=\"fill: #0000ff; stroke: #000000\"/>\n     <use xlink:href=\"#m5ebff3f84d\" x=\"354.15192\" y=\"70.528406\" style=\"fill: #0000ff; stroke: #000000\"/>\n     <use xlink:href=\"#m5ebff3f84d\" x=\"354.17424\" y=\"70.528406\" style=\"fill: #0000ff; stroke: #000000\"/>\n     <use xlink:href=\"#m5ebff3f84d\" x=\"354.20493\" y=\"70.528406\" style=\"fill: #0000ff; stroke: #000000\"/>\n     <use xlink:href=\"#m5ebff3f84d\" x=\"354.23004\" y=\"70.528406\" style=\"fill: #0000ff; stroke: #000000\"/>\n     <use xlink:href=\"#m5ebff3f84d\" x=\"354.26073\" y=\"114.880406\" style=\"fill: #0000ff; stroke: #000000\"/>\n     <use xlink:href=\"#m5ebff3f84d\" x=\"354.30816\" y=\"70.528406\" style=\"fill: #0000ff; stroke: #000000\"/>\n     <use xlink:href=\"#m5ebff3f84d\" x=\"354.64575\" y=\"70.528406\" style=\"fill: #0000ff; stroke: #000000\"/>\n     <use xlink:href=\"#m5ebff3f84d\" x=\"354.69597\" y=\"70.528406\" style=\"fill: #0000ff; stroke: #000000\"/>\n     <use xlink:href=\"#m5ebff3f84d\" x=\"354.87732\" y=\"70.528406\" style=\"fill: #0000ff; stroke: #000000\"/>\n     <use xlink:href=\"#m5ebff3f84d\" x=\"355.31535\" y=\"70.528406\" style=\"fill: #0000ff; stroke: #000000\"/>\n     <use xlink:href=\"#m5ebff3f84d\" x=\"356.17188\" y=\"70.528406\" style=\"fill: #0000ff; stroke: #000000\"/>\n     <use xlink:href=\"#m5ebff3f84d\" x=\"358.34808\" y=\"70.528406\" style=\"fill: #0000ff; stroke: #000000\"/>\n     <use xlink:href=\"#m5ebff3f84d\" x=\"358.37598\" y=\"70.528406\" style=\"fill: #0000ff; stroke: #000000\"/>\n     <use xlink:href=\"#m5ebff3f84d\" x=\"358.48758\" y=\"70.528406\" style=\"fill: #0000ff; stroke: #000000\"/>\n     <use xlink:href=\"#m5ebff3f84d\" x=\"358.6494\" y=\"70.528406\" style=\"fill: #0000ff; stroke: #000000\"/>\n     <use xlink:href=\"#m5ebff3f84d\" x=\"358.76379\" y=\"70.528406\" style=\"fill: #0000ff; stroke: #000000\"/>\n     <use xlink:href=\"#m5ebff3f84d\" x=\"359.57289\" y=\"114.880406\" style=\"fill: #0000ff; stroke: #000000\"/>\n     <use xlink:href=\"#m5ebff3f84d\" x=\"359.60916\" y=\"114.880406\" style=\"fill: #0000ff; stroke: #000000\"/>\n     <use xlink:href=\"#m5ebff3f84d\" x=\"359.66496\" y=\"70.528406\" style=\"fill: #0000ff; stroke: #000000\"/>\n     <use xlink:href=\"#m5ebff3f84d\" x=\"359.74866\" y=\"70.528406\" style=\"fill: #0000ff; stroke: #000000\"/>\n     <use xlink:href=\"#m5ebff3f84d\" x=\"360.16158\" y=\"70.528406\" style=\"fill: #0000ff; stroke: #000000\"/>\n     <use xlink:href=\"#m5ebff3f84d\" x=\"360.48801\" y=\"70.528406\" style=\"fill: #0000ff; stroke: #000000\"/>\n     <use xlink:href=\"#m5ebff3f84d\" x=\"360.96789\" y=\"114.880406\" style=\"fill: #0000ff; stroke: #000000\"/>\n     <use xlink:href=\"#m5ebff3f84d\" x=\"361.56216\" y=\"114.880406\" style=\"fill: #0000ff; stroke: #000000\"/>\n     <use xlink:href=\"#m5ebff3f84d\" x=\"361.59564\" y=\"114.880406\" style=\"fill: #0000ff; stroke: #000000\"/>\n     <use xlink:href=\"#m5ebff3f84d\" x=\"364.15407\" y=\"70.528406\" style=\"fill: #0000ff; stroke: #000000\"/>\n     <use xlink:href=\"#m5ebff3f84d\" x=\"364.25451\" y=\"114.880406\" style=\"fill: #0000ff; stroke: #000000\"/>\n     <use xlink:href=\"#m5ebff3f84d\" x=\"364.56978\" y=\"70.528406\" style=\"fill: #0000ff; stroke: #000000\"/>\n     <use xlink:href=\"#m5ebff3f84d\" x=\"364.72881\" y=\"70.528406\" style=\"fill: #0000ff; stroke: #000000\"/>\n     <use xlink:href=\"#m5ebff3f84d\" x=\"364.89621\" y=\"70.528406\" style=\"fill: #0000ff; stroke: #000000\"/>\n     <use xlink:href=\"#m5ebff3f84d\" x=\"365.25333\" y=\"70.528406\" style=\"fill: #0000ff; stroke: #000000\"/>\n     <use xlink:href=\"#m5ebff3f84d\" x=\"365.35377\" y=\"70.528406\" style=\"fill: #0000ff; stroke: #000000\"/>\n     <use xlink:href=\"#m5ebff3f84d\" x=\"365.42073\" y=\"70.528406\" style=\"fill: #0000ff; stroke: #000000\"/>\n     <use xlink:href=\"#m5ebff3f84d\" x=\"365.94804\" y=\"70.528406\" style=\"fill: #0000ff; stroke: #000000\"/>\n     <use xlink:href=\"#m5ebff3f84d\" x=\"366.04011\" y=\"70.528406\" style=\"fill: #0000ff; stroke: #000000\"/>\n     <use xlink:href=\"#m5ebff3f84d\" x=\"366.30516\" y=\"70.528406\" style=\"fill: #0000ff; stroke: #000000\"/>\n     <use xlink:href=\"#m5ebff3f84d\" x=\"366.3777\" y=\"70.528406\" style=\"fill: #0000ff; stroke: #000000\"/>\n     <use xlink:href=\"#m5ebff3f84d\" x=\"366.52278\" y=\"70.528406\" style=\"fill: #0000ff; stroke: #000000\"/>\n     <use xlink:href=\"#m5ebff3f84d\" x=\"366.60369\" y=\"70.528406\" style=\"fill: #0000ff; stroke: #000000\"/>\n     <use xlink:href=\"#m5ebff3f84d\" x=\"367.09752\" y=\"70.528406\" style=\"fill: #0000ff; stroke: #000000\"/>\n     <use xlink:href=\"#m5ebff3f84d\" x=\"367.45464\" y=\"70.528406\" style=\"fill: #0000ff; stroke: #000000\"/>\n     <use xlink:href=\"#m5ebff3f84d\" x=\"367.58856\" y=\"70.528406\" style=\"fill: #0000ff; stroke: #000000\"/>\n     <use xlink:href=\"#m5ebff3f84d\" x=\"367.73085\" y=\"70.528406\" style=\"fill: #0000ff; stroke: #000000\"/>\n     <use xlink:href=\"#m5ebff3f84d\" x=\"367.84524\" y=\"70.528406\" style=\"fill: #0000ff; stroke: #000000\"/>\n     <use xlink:href=\"#m5ebff3f84d\" x=\"367.87035\" y=\"70.528406\" style=\"fill: #0000ff; stroke: #000000\"/>\n     <use xlink:href=\"#m5ebff3f84d\" x=\"367.88988\" y=\"70.528406\" style=\"fill: #0000ff; stroke: #000000\"/>\n     <use xlink:href=\"#m5ebff3f84d\" x=\"368.06286\" y=\"70.528406\" style=\"fill: #0000ff; stroke: #000000\"/>\n     <use xlink:href=\"#m5ebff3f84d\" x=\"368.20515\" y=\"70.528406\" style=\"fill: #0000ff; stroke: #000000\"/>\n     <use xlink:href=\"#m5ebff3f84d\" x=\"368.247\" y=\"70.528406\" style=\"fill: #0000ff; stroke: #000000\"/>\n     <use xlink:href=\"#m5ebff3f84d\" x=\"368.34744\" y=\"70.528406\" style=\"fill: #0000ff; stroke: #000000\"/>\n     <use xlink:href=\"#m5ebff3f84d\" x=\"368.74641\" y=\"70.528406\" style=\"fill: #0000ff; stroke: #000000\"/>\n     <use xlink:href=\"#m5ebff3f84d\" x=\"369.03378\" y=\"70.528406\" style=\"fill: #0000ff; stroke: #000000\"/>\n     <use xlink:href=\"#m5ebff3f84d\" x=\"369.10632\" y=\"70.528406\" style=\"fill: #0000ff; stroke: #000000\"/>\n     <use xlink:href=\"#m5ebff3f84d\" x=\"369.15933\" y=\"70.528406\" style=\"fill: #0000ff; stroke: #000000\"/>\n     <use xlink:href=\"#m5ebff3f84d\" x=\"369.39648\" y=\"70.528406\" style=\"fill: #0000ff; stroke: #000000\"/>\n     <use xlink:href=\"#m5ebff3f84d\" x=\"369.50808\" y=\"70.528406\" style=\"fill: #0000ff; stroke: #000000\"/>\n     <use xlink:href=\"#m5ebff3f84d\" x=\"369.63642\" y=\"70.528406\" style=\"fill: #0000ff; stroke: #000000\"/>\n     <use xlink:href=\"#m5ebff3f84d\" x=\"369.74523\" y=\"70.528406\" style=\"fill: #0000ff; stroke: #000000\"/>\n     <use xlink:href=\"#m5ebff3f84d\" x=\"369.82056\" y=\"70.528406\" style=\"fill: #0000ff; stroke: #000000\"/>\n     <use xlink:href=\"#m5ebff3f84d\" x=\"369.87078\" y=\"70.528406\" style=\"fill: #0000ff; stroke: #000000\"/>\n     <use xlink:href=\"#m5ebff3f84d\" x=\"369.93216\" y=\"70.528406\" style=\"fill: #0000ff; stroke: #000000\"/>\n     <use xlink:href=\"#m5ebff3f84d\" x=\"370.09398\" y=\"70.528406\" style=\"fill: #0000ff; stroke: #000000\"/>\n     <use xlink:href=\"#m5ebff3f84d\" x=\"371.09559\" y=\"203.584406\" style=\"fill: #0000ff; stroke: #000000\"/>\n     <use xlink:href=\"#m5ebff3f84d\" x=\"371.56431\" y=\"70.528406\" style=\"fill: #0000ff; stroke: #000000\"/>\n     <use xlink:href=\"#m5ebff3f84d\" x=\"371.63406\" y=\"70.528406\" style=\"fill: #0000ff; stroke: #000000\"/>\n     <use xlink:href=\"#m5ebff3f84d\" x=\"371.68149\" y=\"70.528406\" style=\"fill: #0000ff; stroke: #000000\"/>\n     <use xlink:href=\"#m5ebff3f84d\" x=\"371.72613\" y=\"70.528406\" style=\"fill: #0000ff; stroke: #000000\"/>\n     <use xlink:href=\"#m5ebff3f84d\" x=\"371.75403\" y=\"70.528406\" style=\"fill: #0000ff; stroke: #000000\"/>\n     <use xlink:href=\"#m5ebff3f84d\" x=\"371.80146\" y=\"70.528406\" style=\"fill: #0000ff; stroke: #000000\"/>\n     <use xlink:href=\"#m5ebff3f84d\" x=\"372.00234\" y=\"70.528406\" style=\"fill: #0000ff; stroke: #000000\"/>\n     <use xlink:href=\"#m5ebff3f84d\" x=\"372.06651\" y=\"70.528406\" style=\"fill: #0000ff; stroke: #000000\"/>\n     <use xlink:href=\"#m5ebff3f84d\" x=\"372.18927\" y=\"70.528406\" style=\"fill: #0000ff; stroke: #000000\"/>\n     <use xlink:href=\"#m5ebff3f84d\" x=\"372.22554\" y=\"70.528406\" style=\"fill: #0000ff; stroke: #000000\"/>\n     <use xlink:href=\"#m5ebff3f84d\" x=\"372.30087\" y=\"70.528406\" style=\"fill: #0000ff; stroke: #000000\"/>\n     <use xlink:href=\"#m5ebff3f84d\" x=\"372.31482\" y=\"70.528406\" style=\"fill: #0000ff; stroke: #000000\"/>\n     <use xlink:href=\"#m5ebff3f84d\" x=\"372.43479\" y=\"70.528406\" style=\"fill: #0000ff; stroke: #000000\"/>\n     <use xlink:href=\"#m5ebff3f84d\" x=\"372.44874\" y=\"70.528406\" style=\"fill: #0000ff; stroke: #000000\"/>\n     <use xlink:href=\"#m5ebff3f84d\" x=\"372.77238\" y=\"70.528406\" style=\"fill: #0000ff; stroke: #000000\"/>\n     <use xlink:href=\"#m5ebff3f84d\" x=\"372.79191\" y=\"70.528406\" style=\"fill: #0000ff; stroke: #000000\"/>\n     <use xlink:href=\"#m5ebff3f84d\" x=\"372.90072\" y=\"70.528406\" style=\"fill: #0000ff; stroke: #000000\"/>\n     <use xlink:href=\"#m5ebff3f84d\" x=\"373.00395\" y=\"114.880406\" style=\"fill: #0000ff; stroke: #000000\"/>\n     <use xlink:href=\"#m5ebff3f84d\" x=\"373.12392\" y=\"70.528406\" style=\"fill: #0000ff; stroke: #000000\"/>\n     <use xlink:href=\"#m5ebff3f84d\" x=\"373.29132\" y=\"70.528406\" style=\"fill: #0000ff; stroke: #000000\"/>\n     <use xlink:href=\"#m5ebff3f84d\" x=\"373.35549\" y=\"70.528406\" style=\"fill: #0000ff; stroke: #000000\"/>\n     <use xlink:href=\"#m5ebff3f84d\" x=\"373.41966\" y=\"70.528406\" style=\"fill: #0000ff; stroke: #000000\"/>\n     <use xlink:href=\"#m5ebff3f84d\" x=\"373.48383\" y=\"70.528406\" style=\"fill: #0000ff; stroke: #000000\"/>\n     <use xlink:href=\"#m5ebff3f84d\" x=\"373.51731\" y=\"70.528406\" style=\"fill: #0000ff; stroke: #000000\"/>\n     <use xlink:href=\"#m5ebff3f84d\" x=\"373.58985\" y=\"70.528406\" style=\"fill: #0000ff; stroke: #000000\"/>\n     <use xlink:href=\"#m5ebff3f84d\" x=\"373.80468\" y=\"70.528406\" style=\"fill: #0000ff; stroke: #000000\"/>\n     <use xlink:href=\"#m5ebff3f84d\" x=\"373.86327\" y=\"70.528406\" style=\"fill: #0000ff; stroke: #000000\"/>\n     <use xlink:href=\"#m5ebff3f84d\" x=\"374.01951\" y=\"70.528406\" style=\"fill: #0000ff; stroke: #000000\"/>\n     <use xlink:href=\"#m5ebff3f84d\" x=\"374.25945\" y=\"70.528406\" style=\"fill: #0000ff; stroke: #000000\"/>\n     <use xlink:href=\"#m5ebff3f84d\" x=\"374.55519\" y=\"70.528406\" style=\"fill: #0000ff; stroke: #000000\"/>\n     <use xlink:href=\"#m5ebff3f84d\" x=\"374.60541\" y=\"70.528406\" style=\"fill: #0000ff; stroke: #000000\"/>\n     <use xlink:href=\"#m5ebff3f84d\" x=\"374.664\" y=\"70.528406\" style=\"fill: #0000ff; stroke: #000000\"/>\n     <use xlink:href=\"#m5ebff3f84d\" x=\"374.69469\" y=\"70.528406\" style=\"fill: #0000ff; stroke: #000000\"/>\n     <use xlink:href=\"#m5ebff3f84d\" x=\"374.75607\" y=\"70.528406\" style=\"fill: #0000ff; stroke: #000000\"/>\n     <use xlink:href=\"#m5ebff3f84d\" x=\"374.78397\" y=\"70.528406\" style=\"fill: #0000ff; stroke: #000000\"/>\n     <use xlink:href=\"#m5ebff3f84d\" x=\"374.99601\" y=\"70.528406\" style=\"fill: #0000ff; stroke: #000000\"/>\n     <use xlink:href=\"#m5ebff3f84d\" x=\"375.07134\" y=\"70.528406\" style=\"fill: #0000ff; stroke: #000000\"/>\n     <use xlink:href=\"#m5ebff3f84d\" x=\"375.80511\" y=\"70.528406\" style=\"fill: #0000ff; stroke: #000000\"/>\n     <use xlink:href=\"#m5ebff3f84d\" x=\"376.09527\" y=\"70.528406\" style=\"fill: #0000ff; stroke: #000000\"/>\n     <use xlink:href=\"#m5ebff3f84d\" x=\"376.74534\" y=\"70.528406\" style=\"fill: #0000ff; stroke: #000000\"/>\n     <use xlink:href=\"#m5ebff3f84d\" x=\"376.80951\" y=\"70.528406\" style=\"fill: #0000ff; stroke: #000000\"/>\n     <use xlink:href=\"#m5ebff3f84d\" x=\"377.24196\" y=\"114.880406\" style=\"fill: #0000ff; stroke: #000000\"/>\n     <use xlink:href=\"#m5ebff3f84d\" x=\"377.32566\" y=\"203.584406\" style=\"fill: #0000ff; stroke: #000000\"/>\n     <use xlink:href=\"#m5ebff3f84d\" x=\"377.52096\" y=\"70.528406\" style=\"fill: #0000ff; stroke: #000000\"/>\n     <use xlink:href=\"#m5ebff3f84d\" x=\"377.59629\" y=\"70.528406\" style=\"fill: #0000ff; stroke: #000000\"/>\n     <use xlink:href=\"#m5ebff3f84d\" x=\"377.73579\" y=\"114.880406\" style=\"fill: #0000ff; stroke: #000000\"/>\n     <use xlink:href=\"#m5ebff3f84d\" x=\"377.78322\" y=\"70.528406\" style=\"fill: #0000ff; stroke: #000000\"/>\n     <use xlink:href=\"#m5ebff3f84d\" x=\"378.22683\" y=\"114.880406\" style=\"fill: #0000ff; stroke: #000000\"/>\n     <use xlink:href=\"#m5ebff3f84d\" x=\"378.27426\" y=\"159.232406\" style=\"fill: #0000ff; stroke: #000000\"/>\n     <use xlink:href=\"#m5ebff3f84d\" x=\"378.46956\" y=\"114.880406\" style=\"fill: #0000ff; stroke: #000000\"/>\n     <use xlink:href=\"#m5ebff3f84d\" x=\"378.50304\" y=\"70.528406\" style=\"fill: #0000ff; stroke: #000000\"/>\n     <use xlink:href=\"#m5ebff3f84d\" x=\"378.5421\" y=\"114.880406\" style=\"fill: #0000ff; stroke: #000000\"/>\n     <use xlink:href=\"#m5ebff3f84d\" x=\"378.59232\" y=\"70.528406\" style=\"fill: #0000ff; stroke: #000000\"/>\n     <use xlink:href=\"#m5ebff3f84d\" x=\"378.74019\" y=\"114.880406\" style=\"fill: #0000ff; stroke: #000000\"/>\n     <use xlink:href=\"#m5ebff3f84d\" x=\"379.24797\" y=\"114.880406\" style=\"fill: #0000ff; stroke: #000000\"/>\n     <use xlink:href=\"#m5ebff3f84d\" x=\"379.35957\" y=\"114.880406\" style=\"fill: #0000ff; stroke: #000000\"/>\n     <use xlink:href=\"#m5ebff3f84d\" x=\"379.44327\" y=\"70.528406\" style=\"fill: #0000ff; stroke: #000000\"/>\n     <use xlink:href=\"#m5ebff3f84d\" x=\"379.44885\" y=\"114.880406\" style=\"fill: #0000ff; stroke: #000000\"/>\n     <use xlink:href=\"#m5ebff3f84d\" x=\"379.47954\" y=\"70.528406\" style=\"fill: #0000ff; stroke: #000000\"/>\n     <use xlink:href=\"#m5ebff3f84d\" x=\"379.60509\" y=\"114.880406\" style=\"fill: #0000ff; stroke: #000000\"/>\n     <use xlink:href=\"#m5ebff3f84d\" x=\"380.08218\" y=\"114.880406\" style=\"fill: #0000ff; stroke: #000000\"/>\n     <use xlink:href=\"#m5ebff3f84d\" x=\"380.47557\" y=\"114.880406\" style=\"fill: #0000ff; stroke: #000000\"/>\n     <use xlink:href=\"#m5ebff3f84d\" x=\"380.88291\" y=\"70.528406\" style=\"fill: #0000ff; stroke: #000000\"/>\n     <use xlink:href=\"#m5ebff3f84d\" x=\"381.08658\" y=\"70.528406\" style=\"fill: #0000ff; stroke: #000000\"/>\n     <use xlink:href=\"#m5ebff3f84d\" x=\"381.11169\" y=\"70.528406\" style=\"fill: #0000ff; stroke: #000000\"/>\n     <use xlink:href=\"#m5ebff3f84d\" x=\"381.18423\" y=\"70.528406\" style=\"fill: #0000ff; stroke: #000000\"/>\n     <use xlink:href=\"#m5ebff3f84d\" x=\"381.21771\" y=\"114.880406\" style=\"fill: #0000ff; stroke: #000000\"/>\n     <use xlink:href=\"#m5ebff3f84d\" x=\"381.24003\" y=\"70.528406\" style=\"fill: #0000ff; stroke: #000000\"/>\n     <use xlink:href=\"#m5ebff3f84d\" x=\"381.24561\" y=\"114.880406\" style=\"fill: #0000ff; stroke: #000000\"/>\n     <use xlink:href=\"#m5ebff3f84d\" x=\"381.53019\" y=\"70.528406\" style=\"fill: #0000ff; stroke: #000000\"/>\n     <use xlink:href=\"#m5ebff3f84d\" x=\"381.68085\" y=\"70.528406\" style=\"fill: #0000ff; stroke: #000000\"/>\n     <use xlink:href=\"#m5ebff3f84d\" x=\"381.79524\" y=\"70.528406\" style=\"fill: #0000ff; stroke: #000000\"/>\n     <use xlink:href=\"#m5ebff3f84d\" x=\"382.22211\" y=\"70.528406\" style=\"fill: #0000ff; stroke: #000000\"/>\n     <use xlink:href=\"#m5ebff3f84d\" x=\"382.22769\" y=\"114.880406\" style=\"fill: #0000ff; stroke: #000000\"/>\n     <use xlink:href=\"#m5ebff3f84d\" x=\"382.26954\" y=\"70.528406\" style=\"fill: #0000ff; stroke: #000000\"/>\n     <use xlink:href=\"#m5ebff3f84d\" x=\"382.29465\" y=\"114.880406\" style=\"fill: #0000ff; stroke: #000000\"/>\n     <use xlink:href=\"#m5ebff3f84d\" x=\"382.37835\" y=\"70.528406\" style=\"fill: #0000ff; stroke: #000000\"/>\n     <use xlink:href=\"#m5ebff3f84d\" x=\"382.38393\" y=\"114.880406\" style=\"fill: #0000ff; stroke: #000000\"/>\n     <use xlink:href=\"#m5ebff3f84d\" x=\"382.42299\" y=\"114.880406\" style=\"fill: #0000ff; stroke: #000000\"/>\n     <use xlink:href=\"#m5ebff3f84d\" x=\"382.53738\" y=\"114.880406\" style=\"fill: #0000ff; stroke: #000000\"/>\n     <use xlink:href=\"#m5ebff3f84d\" x=\"382.58202\" y=\"114.880406\" style=\"fill: #0000ff; stroke: #000000\"/>\n     <use xlink:href=\"#m5ebff3f84d\" x=\"382.92519\" y=\"114.880406\" style=\"fill: #0000ff; stroke: #000000\"/>\n     <use xlink:href=\"#m5ebff3f84d\" x=\"383.18745\" y=\"114.880406\" style=\"fill: #0000ff; stroke: #000000\"/>\n     <use xlink:href=\"#m5ebff3f84d\" x=\"383.313\" y=\"70.528406\" style=\"fill: #0000ff; stroke: #000000\"/>\n     <use xlink:href=\"#m5ebff3f84d\" x=\"383.35485\" y=\"114.880406\" style=\"fill: #0000ff; stroke: #000000\"/>\n     <use xlink:href=\"#m5ebff3f84d\" x=\"383.57805\" y=\"70.528406\" style=\"fill: #0000ff; stroke: #000000\"/>\n     <use xlink:href=\"#m5ebff3f84d\" x=\"383.68128\" y=\"70.528406\" style=\"fill: #0000ff; stroke: #000000\"/>\n     <use xlink:href=\"#m5ebff3f84d\" x=\"383.82915\" y=\"70.528406\" style=\"fill: #0000ff; stroke: #000000\"/>\n     <use xlink:href=\"#m5ebff3f84d\" x=\"383.8431\" y=\"114.880406\" style=\"fill: #0000ff; stroke: #000000\"/>\n     <use xlink:href=\"#m5ebff3f84d\" x=\"384.61314\" y=\"114.880406\" style=\"fill: #0000ff; stroke: #000000\"/>\n     <use xlink:href=\"#m5ebff3f84d\" x=\"384.64104\" y=\"70.528406\" style=\"fill: #0000ff; stroke: #000000\"/>\n     <use xlink:href=\"#m5ebff3f84d\" x=\"384.80565\" y=\"203.584406\" style=\"fill: #0000ff; stroke: #000000\"/>\n     <use xlink:href=\"#m5ebff3f84d\" x=\"385.14324\" y=\"203.584406\" style=\"fill: #0000ff; stroke: #000000\"/>\n     <use xlink:href=\"#m5ebff3f84d\" x=\"385.2939\" y=\"70.528406\" style=\"fill: #0000ff; stroke: #000000\"/>\n     <use xlink:href=\"#m5ebff3f84d\" x=\"385.43898\" y=\"70.528406\" style=\"fill: #0000ff; stroke: #000000\"/>\n     <use xlink:href=\"#m5ebff3f84d\" x=\"385.55616\" y=\"70.528406\" style=\"fill: #0000ff; stroke: #000000\"/>\n     <use xlink:href=\"#m5ebff3f84d\" x=\"385.59243\" y=\"70.528406\" style=\"fill: #0000ff; stroke: #000000\"/>\n     <use xlink:href=\"#m5ebff3f84d\" x=\"385.69566\" y=\"70.528406\" style=\"fill: #0000ff; stroke: #000000\"/>\n     <use xlink:href=\"#m5ebff3f84d\" x=\"385.81842\" y=\"70.528406\" style=\"fill: #0000ff; stroke: #000000\"/>\n     <use xlink:href=\"#m5ebff3f84d\" x=\"385.95513\" y=\"203.584406\" style=\"fill: #0000ff; stroke: #000000\"/>\n     <use xlink:href=\"#m5ebff3f84d\" x=\"386.21181\" y=\"70.528406\" style=\"fill: #0000ff; stroke: #000000\"/>\n     <use xlink:href=\"#m5ebff3f84d\" x=\"386.52708\" y=\"70.528406\" style=\"fill: #0000ff; stroke: #000000\"/>\n     <use xlink:href=\"#m5ebff3f84d\" x=\"386.59683\" y=\"70.528406\" style=\"fill: #0000ff; stroke: #000000\"/>\n     <use xlink:href=\"#m5ebff3f84d\" x=\"386.76981\" y=\"70.528406\" style=\"fill: #0000ff; stroke: #000000\"/>\n     <use xlink:href=\"#m5ebff3f84d\" x=\"386.91768\" y=\"70.528406\" style=\"fill: #0000ff; stroke: #000000\"/>\n     <use xlink:href=\"#m5ebff3f84d\" x=\"387.01812\" y=\"70.528406\" style=\"fill: #0000ff; stroke: #000000\"/>\n     <use xlink:href=\"#m5ebff3f84d\" x=\"387.53985\" y=\"70.528406\" style=\"fill: #0000ff; stroke: #000000\"/>\n     <use xlink:href=\"#m5ebff3f84d\" x=\"388.10901\" y=\"70.528406\" style=\"fill: #0000ff; stroke: #000000\"/>\n     <use xlink:href=\"#m5ebff3f84d\" x=\"388.6698\" y=\"70.528406\" style=\"fill: #0000ff; stroke: #000000\"/>\n     <use xlink:href=\"#m5ebff3f84d\" x=\"388.73118\" y=\"70.528406\" style=\"fill: #0000ff; stroke: #000000\"/>\n     <use xlink:href=\"#m5ebff3f84d\" x=\"388.7535\" y=\"70.528406\" style=\"fill: #0000ff; stroke: #000000\"/>\n     <use xlink:href=\"#m5ebff3f84d\" x=\"388.84278\" y=\"70.528406\" style=\"fill: #0000ff; stroke: #000000\"/>\n     <use xlink:href=\"#m5ebff3f84d\" x=\"389.31987\" y=\"70.528406\" style=\"fill: #0000ff; stroke: #000000\"/>\n     <use xlink:href=\"#m5ebff3f84d\" x=\"389.55981\" y=\"70.528406\" style=\"fill: #0000ff; stroke: #000000\"/>\n     <use xlink:href=\"#m5ebff3f84d\" x=\"389.6742\" y=\"70.528406\" style=\"fill: #0000ff; stroke: #000000\"/>\n     <use xlink:href=\"#m5ebff3f84d\" x=\"389.91693\" y=\"203.584406\" style=\"fill: #0000ff; stroke: #000000\"/>\n     <use xlink:href=\"#m5ebff3f84d\" x=\"390.05085\" y=\"70.528406\" style=\"fill: #0000ff; stroke: #000000\"/>\n     <use xlink:href=\"#m5ebff3f84d\" x=\"390.26568\" y=\"70.528406\" style=\"fill: #0000ff; stroke: #000000\"/>\n     <use xlink:href=\"#m5ebff3f84d\" x=\"390.32706\" y=\"70.528406\" style=\"fill: #0000ff; stroke: #000000\"/>\n     <use xlink:href=\"#m5ebff3f84d\" x=\"390.41634\" y=\"70.528406\" style=\"fill: #0000ff; stroke: #000000\"/>\n     <use xlink:href=\"#m5ebff3f84d\" x=\"390.50562\" y=\"70.528406\" style=\"fill: #0000ff; stroke: #000000\"/>\n     <use xlink:href=\"#m5ebff3f84d\" x=\"390.54468\" y=\"70.528406\" style=\"fill: #0000ff; stroke: #000000\"/>\n     <use xlink:href=\"#m5ebff3f84d\" x=\"390.55584\" y=\"70.528406\" style=\"fill: #0000ff; stroke: #000000\"/>\n     <use xlink:href=\"#m5ebff3f84d\" x=\"390.67023\" y=\"70.528406\" style=\"fill: #0000ff; stroke: #000000\"/>\n     <use xlink:href=\"#m5ebff3f84d\" x=\"390.7065\" y=\"70.528406\" style=\"fill: #0000ff; stroke: #000000\"/>\n     <use xlink:href=\"#m5ebff3f84d\" x=\"390.75672\" y=\"70.528406\" style=\"fill: #0000ff; stroke: #000000\"/>\n     <use xlink:href=\"#m5ebff3f84d\" x=\"390.84321\" y=\"70.528406\" style=\"fill: #0000ff; stroke: #000000\"/>\n     <use xlink:href=\"#m5ebff3f84d\" x=\"390.96597\" y=\"70.528406\" style=\"fill: #0000ff; stroke: #000000\"/>\n     <use xlink:href=\"#m5ebff3f84d\" x=\"391.01619\" y=\"70.528406\" style=\"fill: #0000ff; stroke: #000000\"/>\n     <use xlink:href=\"#m5ebff3f84d\" x=\"391.18359\" y=\"70.528406\" style=\"fill: #0000ff; stroke: #000000\"/>\n     <use xlink:href=\"#m5ebff3f84d\" x=\"391.27008\" y=\"70.528406\" style=\"fill: #0000ff; stroke: #000000\"/>\n     <use xlink:href=\"#m5ebff3f84d\" x=\"391.71927\" y=\"70.528406\" style=\"fill: #0000ff; stroke: #000000\"/>\n     <use xlink:href=\"#m5ebff3f84d\" x=\"391.77786\" y=\"70.528406\" style=\"fill: #0000ff; stroke: #000000\"/>\n     <use xlink:href=\"#m5ebff3f84d\" x=\"392.04849\" y=\"70.528406\" style=\"fill: #0000ff; stroke: #000000\"/>\n     <use xlink:href=\"#m5ebff3f84d\" x=\"392.13498\" y=\"70.528406\" style=\"fill: #0000ff; stroke: #000000\"/>\n     <use xlink:href=\"#m5ebff3f84d\" x=\"392.73762\" y=\"70.528406\" style=\"fill: #0000ff; stroke: #000000\"/>\n     <use xlink:href=\"#m5ebff3f84d\" x=\"392.85759\" y=\"70.528406\" style=\"fill: #0000ff; stroke: #000000\"/>\n     <use xlink:href=\"#m5ebff3f84d\" x=\"393.07242\" y=\"203.584406\" style=\"fill: #0000ff; stroke: #000000\"/>\n     <use xlink:href=\"#m5ebff3f84d\" x=\"393.1059\" y=\"70.528406\" style=\"fill: #0000ff; stroke: #000000\"/>\n     <use xlink:href=\"#m5ebff3f84d\" x=\"393.23703\" y=\"70.528406\" style=\"fill: #0000ff; stroke: #000000\"/>\n     <use xlink:href=\"#m5ebff3f84d\" x=\"393.40443\" y=\"70.528406\" style=\"fill: #0000ff; stroke: #000000\"/>\n     <use xlink:href=\"#m5ebff3f84d\" x=\"393.49929\" y=\"70.528406\" style=\"fill: #0000ff; stroke: #000000\"/>\n     <use xlink:href=\"#m5ebff3f84d\" x=\"393.97359\" y=\"70.528406\" style=\"fill: #0000ff; stroke: #000000\"/>\n     <use xlink:href=\"#m5ebff3f84d\" x=\"394.03497\" y=\"70.528406\" style=\"fill: #0000ff; stroke: #000000\"/>\n     <use xlink:href=\"#m5ebff3f84d\" x=\"394.07961\" y=\"70.528406\" style=\"fill: #0000ff; stroke: #000000\"/>\n     <use xlink:href=\"#m5ebff3f84d\" x=\"394.18842\" y=\"70.528406\" style=\"fill: #0000ff; stroke: #000000\"/>\n     <use xlink:href=\"#m5ebff3f84d\" x=\"394.22469\" y=\"70.528406\" style=\"fill: #0000ff; stroke: #000000\"/>\n     <use xlink:href=\"#m5ebff3f84d\" x=\"394.34745\" y=\"70.528406\" style=\"fill: #0000ff; stroke: #000000\"/>\n     <use xlink:href=\"#m5ebff3f84d\" x=\"394.81617\" y=\"70.528406\" style=\"fill: #0000ff; stroke: #000000\"/>\n     <use xlink:href=\"#m5ebff3f84d\" x=\"395.51088\" y=\"70.528406\" style=\"fill: #0000ff; stroke: #000000\"/>\n     <use xlink:href=\"#m5ebff3f84d\" x=\"395.51646\" y=\"114.880406\" style=\"fill: #0000ff; stroke: #000000\"/>\n     <use xlink:href=\"#m5ebff3f84d\" x=\"395.65875\" y=\"114.880406\" style=\"fill: #0000ff; stroke: #000000\"/>\n     <use xlink:href=\"#m5ebff3f84d\" x=\"395.74245\" y=\"70.528406\" style=\"fill: #0000ff; stroke: #000000\"/>\n     <use xlink:href=\"#m5ebff3f84d\" x=\"395.74803\" y=\"114.880406\" style=\"fill: #0000ff; stroke: #000000\"/>\n     <use xlink:href=\"#m5ebff3f84d\" x=\"395.80383\" y=\"70.528406\" style=\"fill: #0000ff; stroke: #000000\"/>\n     <use xlink:href=\"#m5ebff3f84d\" x=\"395.85684\" y=\"114.880406\" style=\"fill: #0000ff; stroke: #000000\"/>\n     <use xlink:href=\"#m5ebff3f84d\" x=\"395.90148\" y=\"70.528406\" style=\"fill: #0000ff; stroke: #000000\"/>\n     <use xlink:href=\"#m5ebff3f84d\" x=\"395.97681\" y=\"114.880406\" style=\"fill: #0000ff; stroke: #000000\"/>\n     <use xlink:href=\"#m5ebff3f84d\" x=\"396.0912\" y=\"70.528406\" style=\"fill: #0000ff; stroke: #000000\"/>\n     <use xlink:href=\"#m5ebff3f84d\" x=\"396.17769\" y=\"70.528406\" style=\"fill: #0000ff; stroke: #000000\"/>\n     <use xlink:href=\"#m5ebff3f84d\" x=\"396.18327\" y=\"114.880406\" style=\"fill: #0000ff; stroke: #000000\"/>\n     <use xlink:href=\"#m5ebff3f84d\" x=\"396.26139\" y=\"203.584406\" style=\"fill: #0000ff; stroke: #000000\"/>\n     <use xlink:href=\"#m5ebff3f84d\" x=\"396.30882\" y=\"70.528406\" style=\"fill: #0000ff; stroke: #000000\"/>\n     <use xlink:href=\"#m5ebff3f84d\" x=\"396.43995\" y=\"70.528406\" style=\"fill: #0000ff; stroke: #000000\"/>\n     <use xlink:href=\"#m5ebff3f84d\" x=\"396.48738\" y=\"70.528406\" style=\"fill: #0000ff; stroke: #000000\"/>\n     <use xlink:href=\"#m5ebff3f84d\" x=\"396.52644\" y=\"70.528406\" style=\"fill: #0000ff; stroke: #000000\"/>\n     <use xlink:href=\"#m5ebff3f84d\" x=\"396.58503\" y=\"114.880406\" style=\"fill: #0000ff; stroke: #000000\"/>\n     <use xlink:href=\"#m5ebff3f84d\" x=\"397.263\" y=\"203.584406\" style=\"fill: #0000ff; stroke: #000000\"/>\n     <use xlink:href=\"#m5ebff3f84d\" x=\"397.43877\" y=\"70.528406\" style=\"fill: #0000ff; stroke: #000000\"/>\n     <use xlink:href=\"#m5ebff3f84d\" x=\"397.45551\" y=\"70.528406\" style=\"fill: #0000ff; stroke: #000000\"/>\n     <use xlink:href=\"#m5ebff3f84d\" x=\"397.52247\" y=\"70.528406\" style=\"fill: #0000ff; stroke: #000000\"/>\n     <use xlink:href=\"#m5ebff3f84d\" x=\"397.78473\" y=\"203.584406\" style=\"fill: #0000ff; stroke: #000000\"/>\n     <use xlink:href=\"#m5ebff3f84d\" x=\"397.9326\" y=\"203.584406\" style=\"fill: #0000ff; stroke: #000000\"/>\n     <use xlink:href=\"#m5ebff3f84d\" x=\"398.03862\" y=\"203.584406\" style=\"fill: #0000ff; stroke: #000000\"/>\n     <use xlink:href=\"#m5ebff3f84d\" x=\"398.69427\" y=\"203.584406\" style=\"fill: #0000ff; stroke: #000000\"/>\n     <use xlink:href=\"#m5ebff3f84d\" x=\"399.5229\" y=\"114.880406\" style=\"fill: #0000ff; stroke: #000000\"/>\n     <use xlink:href=\"#m5ebff3f84d\" x=\"400.50498\" y=\"203.584406\" style=\"fill: #0000ff; stroke: #000000\"/>\n     <use xlink:href=\"#m5ebff3f84d\" x=\"400.65006\" y=\"203.584406\" style=\"fill: #0000ff; stroke: #000000\"/>\n     <use xlink:href=\"#m5ebff3f84d\" x=\"400.76166\" y=\"203.584406\" style=\"fill: #0000ff; stroke: #000000\"/>\n     <use xlink:href=\"#m5ebff3f84d\" x=\"402.42729\" y=\"114.880406\" style=\"fill: #0000ff; stroke: #000000\"/>\n     <use xlink:href=\"#m5ebff3f84d\" x=\"403.02156\" y=\"70.528406\" style=\"fill: #0000ff; stroke: #000000\"/>\n     <use xlink:href=\"#m5ebff3f84d\" x=\"403.13874\" y=\"70.528406\" style=\"fill: #0000ff; stroke: #000000\"/>\n     <use xlink:href=\"#m5ebff3f84d\" x=\"403.14432\" y=\"114.880406\" style=\"fill: #0000ff; stroke: #000000\"/>\n     <use xlink:href=\"#m5ebff3f84d\" x=\"403.32846\" y=\"70.528406\" style=\"fill: #0000ff; stroke: #000000\"/>\n     <use xlink:href=\"#m5ebff3f84d\" x=\"403.36752\" y=\"70.528406\" style=\"fill: #0000ff; stroke: #000000\"/>\n     <use xlink:href=\"#m5ebff3f84d\" x=\"403.3731\" y=\"114.880406\" style=\"fill: #0000ff; stroke: #000000\"/>\n     <use xlink:href=\"#m5ebff3f84d\" x=\"403.44843\" y=\"70.528406\" style=\"fill: #0000ff; stroke: #000000\"/>\n     <use xlink:href=\"#m5ebff3f84d\" x=\"403.49307\" y=\"70.528406\" style=\"fill: #0000ff; stroke: #000000\"/>\n     <use xlink:href=\"#m5ebff3f84d\" x=\"403.53213\" y=\"70.528406\" style=\"fill: #0000ff; stroke: #000000\"/>\n     <use xlink:href=\"#m5ebff3f84d\" x=\"403.53771\" y=\"114.880406\" style=\"fill: #0000ff; stroke: #000000\"/>\n     <use xlink:href=\"#m5ebff3f84d\" x=\"403.62141\" y=\"70.528406\" style=\"fill: #0000ff; stroke: #000000\"/>\n     <use xlink:href=\"#m5ebff3f84d\" x=\"403.75254\" y=\"70.528406\" style=\"fill: #0000ff; stroke: #000000\"/>\n     <use xlink:href=\"#m5ebff3f84d\" x=\"403.77486\" y=\"114.880406\" style=\"fill: #0000ff; stroke: #000000\"/>\n     <use xlink:href=\"#m5ebff3f84d\" x=\"403.88367\" y=\"114.880406\" style=\"fill: #0000ff; stroke: #000000\"/>\n     <use xlink:href=\"#m5ebff3f84d\" x=\"403.93668\" y=\"70.528406\" style=\"fill: #0000ff; stroke: #000000\"/>\n     <use xlink:href=\"#m5ebff3f84d\" x=\"404.07618\" y=\"70.528406\" style=\"fill: #0000ff; stroke: #000000\"/>\n     <use xlink:href=\"#m5ebff3f84d\" x=\"404.10966\" y=\"114.880406\" style=\"fill: #0000ff; stroke: #000000\"/>\n     <use xlink:href=\"#m5ebff3f84d\" x=\"404.15709\" y=\"114.880406\" style=\"fill: #0000ff; stroke: #000000\"/>\n     <use xlink:href=\"#m5ebff3f84d\" x=\"407.56089\" y=\"203.584406\" style=\"fill: #0000ff; stroke: #000000\"/>\n     <use xlink:href=\"#m5ebff3f84d\" x=\"407.70318\" y=\"203.584406\" style=\"fill: #0000ff; stroke: #000000\"/>\n     <use xlink:href=\"#m5ebff3f84d\" x=\"408.21096\" y=\"70.528406\" style=\"fill: #0000ff; stroke: #000000\"/>\n     <use xlink:href=\"#m5ebff3f84d\" x=\"408.63783\" y=\"70.528406\" style=\"fill: #0000ff; stroke: #000000\"/>\n     <use xlink:href=\"#m5ebff3f84d\" x=\"408.73548\" y=\"70.528406\" style=\"fill: #0000ff; stroke: #000000\"/>\n     <use xlink:href=\"#m5ebff3f84d\" x=\"408.82197\" y=\"70.528406\" style=\"fill: #0000ff; stroke: #000000\"/>\n     <use xlink:href=\"#m5ebff3f84d\" x=\"409.4274\" y=\"70.528406\" style=\"fill: #0000ff; stroke: #000000\"/>\n     <use xlink:href=\"#m5ebff3f84d\" x=\"409.52226\" y=\"203.584406\" style=\"fill: #0000ff; stroke: #000000\"/>\n     <use xlink:href=\"#m5ebff3f84d\" x=\"409.89333\" y=\"114.880406\" style=\"fill: #0000ff; stroke: #000000\"/>\n     <use xlink:href=\"#m5ebff3f84d\" x=\"409.95192\" y=\"203.584406\" style=\"fill: #0000ff; stroke: #000000\"/>\n     <use xlink:href=\"#m5ebff3f84d\" x=\"410.83356\" y=\"70.528406\" style=\"fill: #0000ff; stroke: #000000\"/>\n     <use xlink:href=\"#m5ebff3f84d\" x=\"410.8782\" y=\"70.528406\" style=\"fill: #0000ff; stroke: #000000\"/>\n     <use xlink:href=\"#m5ebff3f84d\" x=\"412.85352\" y=\"70.528406\" style=\"fill: #0000ff; stroke: #000000\"/>\n     <use xlink:href=\"#m5ebff3f84d\" x=\"412.87026\" y=\"70.528406\" style=\"fill: #0000ff; stroke: #000000\"/>\n     <use xlink:href=\"#m5ebff3f84d\" x=\"412.9428\" y=\"70.528406\" style=\"fill: #0000ff; stroke: #000000\"/>\n     <use xlink:href=\"#m5ebff3f84d\" x=\"413.01813\" y=\"70.528406\" style=\"fill: #0000ff; stroke: #000000\"/>\n     <use xlink:href=\"#m5ebff3f84d\" x=\"413.14647\" y=\"70.528406\" style=\"fill: #0000ff; stroke: #000000\"/>\n     <use xlink:href=\"#m5ebff3f84d\" x=\"413.35293\" y=\"203.584406\" style=\"fill: #0000ff; stroke: #000000\"/>\n     <use xlink:href=\"#m5ebff3f84d\" x=\"413.5008\" y=\"70.528406\" style=\"fill: #0000ff; stroke: #000000\"/>\n     <use xlink:href=\"#m5ebff3f84d\" x=\"413.5845\" y=\"70.528406\" style=\"fill: #0000ff; stroke: #000000\"/>\n     <use xlink:href=\"#m5ebff3f84d\" x=\"413.62077\" y=\"70.528406\" style=\"fill: #0000ff; stroke: #000000\"/>\n     <use xlink:href=\"#m5ebff3f84d\" x=\"413.93604\" y=\"70.528406\" style=\"fill: #0000ff; stroke: #000000\"/>\n     <use xlink:href=\"#m5ebff3f84d\" x=\"414.003\" y=\"70.528406\" style=\"fill: #0000ff; stroke: #000000\"/>\n     <use xlink:href=\"#m5ebff3f84d\" x=\"414.05043\" y=\"70.528406\" style=\"fill: #0000ff; stroke: #000000\"/>\n     <use xlink:href=\"#m5ebff3f84d\" x=\"414.09228\" y=\"70.528406\" style=\"fill: #0000ff; stroke: #000000\"/>\n     <use xlink:href=\"#m5ebff3f84d\" x=\"414.44382\" y=\"203.584406\" style=\"fill: #0000ff; stroke: #000000\"/>\n     <use xlink:href=\"#m5ebff3f84d\" x=\"414.83442\" y=\"70.528406\" style=\"fill: #0000ff; stroke: #000000\"/>\n     <use xlink:href=\"#m5ebff3f84d\" x=\"414.99624\" y=\"70.528406\" style=\"fill: #0000ff; stroke: #000000\"/>\n     <use xlink:href=\"#m5ebff3f84d\" x=\"415.05762\" y=\"70.528406\" style=\"fill: #0000ff; stroke: #000000\"/>\n     <use xlink:href=\"#m5ebff3f84d\" x=\"415.06878\" y=\"114.880406\" style=\"fill: #0000ff; stroke: #000000\"/>\n     <use xlink:href=\"#m5ebff3f84d\" x=\"416.79858\" y=\"70.528406\" style=\"fill: #0000ff; stroke: #000000\"/>\n     <use xlink:href=\"#m5ebff3f84d\" x=\"417.08316\" y=\"70.528406\" style=\"fill: #0000ff; stroke: #000000\"/>\n     <use xlink:href=\"#m5ebff3f84d\" x=\"417.11385\" y=\"70.528406\" style=\"fill: #0000ff; stroke: #000000\"/>\n     <use xlink:href=\"#m5ebff3f84d\" x=\"417.44865\" y=\"114.880406\" style=\"fill: #0000ff; stroke: #000000\"/>\n     <use xlink:href=\"#m5ebff3f84d\" x=\"417.49608\" y=\"114.880406\" style=\"fill: #0000ff; stroke: #000000\"/>\n     <use xlink:href=\"#m5ebff3f84d\" x=\"417.52119\" y=\"70.528406\" style=\"fill: #0000ff; stroke: #000000\"/>\n     <use xlink:href=\"#m5ebff3f84d\" x=\"417.53793\" y=\"70.528406\" style=\"fill: #0000ff; stroke: #000000\"/>\n     <use xlink:href=\"#m5ebff3f84d\" x=\"417.57978\" y=\"70.528406\" style=\"fill: #0000ff; stroke: #000000\"/>\n     <use xlink:href=\"#m5ebff3f84d\" x=\"417.64116\" y=\"70.528406\" style=\"fill: #0000ff; stroke: #000000\"/>\n     <use xlink:href=\"#m5ebff3f84d\" x=\"417.88947\" y=\"70.528406\" style=\"fill: #0000ff; stroke: #000000\"/>\n     <use xlink:href=\"#m5ebff3f84d\" x=\"418.2717\" y=\"70.528406\" style=\"fill: #0000ff; stroke: #000000\"/>\n     <use xlink:href=\"#m5ebff3f84d\" x=\"418.75437\" y=\"70.528406\" style=\"fill: #0000ff; stroke: #000000\"/>\n     <use xlink:href=\"#m5ebff3f84d\" x=\"418.91898\" y=\"70.528406\" style=\"fill: #0000ff; stroke: #000000\"/>\n     <use xlink:href=\"#m5ebff3f84d\" x=\"419.2203\" y=\"70.528406\" style=\"fill: #0000ff; stroke: #000000\"/>\n     <use xlink:href=\"#m5ebff3f84d\" x=\"419.27052\" y=\"70.528406\" style=\"fill: #0000ff; stroke: #000000\"/>\n     <use xlink:href=\"#m5ebff3f84d\" x=\"419.29842\" y=\"70.528406\" style=\"fill: #0000ff; stroke: #000000\"/>\n     <use xlink:href=\"#m5ebff3f84d\" x=\"419.52999\" y=\"70.528406\" style=\"fill: #0000ff; stroke: #000000\"/>\n     <use xlink:href=\"#m5ebff3f84d\" x=\"419.61648\" y=\"70.528406\" style=\"fill: #0000ff; stroke: #000000\"/>\n     <use xlink:href=\"#m5ebff3f84d\" x=\"419.67228\" y=\"70.528406\" style=\"fill: #0000ff; stroke: #000000\"/>\n     <use xlink:href=\"#m5ebff3f84d\" x=\"419.80899\" y=\"114.880406\" style=\"fill: #0000ff; stroke: #000000\"/>\n     <use xlink:href=\"#m5ebff3f84d\" x=\"419.93733\" y=\"70.528406\" style=\"fill: #0000ff; stroke: #000000\"/>\n     <use xlink:href=\"#m5ebff3f84d\" x=\"420.03498\" y=\"70.528406\" style=\"fill: #0000ff; stroke: #000000\"/>\n     <use xlink:href=\"#m5ebff3f84d\" x=\"420.18564\" y=\"70.528406\" style=\"fill: #0000ff; stroke: #000000\"/>\n     <use xlink:href=\"#m5ebff3f84d\" x=\"420.19959\" y=\"114.880406\" style=\"fill: #0000ff; stroke: #000000\"/>\n     <use xlink:href=\"#m5ebff3f84d\" x=\"420.24702\" y=\"70.528406\" style=\"fill: #0000ff; stroke: #000000\"/>\n     <use xlink:href=\"#m5ebff3f84d\" x=\"420.31119\" y=\"114.880406\" style=\"fill: #0000ff; stroke: #000000\"/>\n     <use xlink:href=\"#m5ebff3f84d\" x=\"420.48975\" y=\"114.880406\" style=\"fill: #0000ff; stroke: #000000\"/>\n     <use xlink:href=\"#m5ebff3f84d\" x=\"420.62088\" y=\"114.880406\" style=\"fill: #0000ff; stroke: #000000\"/>\n     <use xlink:href=\"#m5ebff3f84d\" x=\"420.68784\" y=\"70.528406\" style=\"fill: #0000ff; stroke: #000000\"/>\n     <use xlink:href=\"#m5ebff3f84d\" x=\"421.0059\" y=\"114.880406\" style=\"fill: #0000ff; stroke: #000000\"/>\n     <use xlink:href=\"#m5ebff3f84d\" x=\"421.22352\" y=\"70.528406\" style=\"fill: #0000ff; stroke: #000000\"/>\n     <use xlink:href=\"#m5ebff3f84d\" x=\"421.45788\" y=\"114.880406\" style=\"fill: #0000ff; stroke: #000000\"/>\n     <use xlink:href=\"#m5ebff3f84d\" x=\"421.53321\" y=\"70.528406\" style=\"fill: #0000ff; stroke: #000000\"/>\n     <use xlink:href=\"#m5ebff3f84d\" x=\"421.57785\" y=\"70.528406\" style=\"fill: #0000ff; stroke: #000000\"/>\n     <use xlink:href=\"#m5ebff3f84d\" x=\"421.77873\" y=\"70.528406\" style=\"fill: #0000ff; stroke: #000000\"/>\n     <use xlink:href=\"#m5ebff3f84d\" x=\"421.85127\" y=\"70.528406\" style=\"fill: #0000ff; stroke: #000000\"/>\n     <use xlink:href=\"#m5ebff3f84d\" x=\"421.90149\" y=\"70.528406\" style=\"fill: #0000ff; stroke: #000000\"/>\n     <use xlink:href=\"#m5ebff3f84d\" x=\"422.14422\" y=\"70.528406\" style=\"fill: #0000ff; stroke: #000000\"/>\n     <use xlink:href=\"#m5ebff3f84d\" x=\"422.21676\" y=\"70.528406\" style=\"fill: #0000ff; stroke: #000000\"/>\n     <use xlink:href=\"#m5ebff3f84d\" x=\"422.47902\" y=\"70.528406\" style=\"fill: #0000ff; stroke: #000000\"/>\n     <use xlink:href=\"#m5ebff3f84d\" x=\"422.52366\" y=\"70.528406\" style=\"fill: #0000ff; stroke: #000000\"/>\n     <use xlink:href=\"#m5ebff3f84d\" x=\"422.91984\" y=\"70.528406\" style=\"fill: #0000ff; stroke: #000000\"/>\n     <use xlink:href=\"#m5ebff3f84d\" x=\"423.14304\" y=\"114.880406\" style=\"fill: #0000ff; stroke: #000000\"/>\n     <use xlink:href=\"#m5ebff3f84d\" x=\"423.16815\" y=\"70.528406\" style=\"fill: #0000ff; stroke: #000000\"/>\n     <use xlink:href=\"#m5ebff3f84d\" x=\"423.25185\" y=\"70.528406\" style=\"fill: #0000ff; stroke: #000000\"/>\n     <use xlink:href=\"#m5ebff3f84d\" x=\"423.31602\" y=\"114.880406\" style=\"fill: #0000ff; stroke: #000000\"/>\n     <use xlink:href=\"#m5ebff3f84d\" x=\"424.47387\" y=\"70.528406\" style=\"fill: #0000ff; stroke: #000000\"/>\n     <use xlink:href=\"#m5ebff3f84d\" x=\"424.52688\" y=\"70.528406\" style=\"fill: #0000ff; stroke: #000000\"/>\n     <use xlink:href=\"#m5ebff3f84d\" x=\"424.79193\" y=\"70.528406\" style=\"fill: #0000ff; stroke: #000000\"/>\n     <use xlink:href=\"#m5ebff3f84d\" x=\"425.39736\" y=\"70.528406\" style=\"fill: #0000ff; stroke: #000000\"/>\n     <use xlink:href=\"#m5ebff3f84d\" x=\"425.67078\" y=\"203.584406\" style=\"fill: #0000ff; stroke: #000000\"/>\n     <use xlink:href=\"#m5ebff3f84d\" x=\"426.09486\" y=\"203.584406\" style=\"fill: #0000ff; stroke: #000000\"/>\n     <use xlink:href=\"#m5ebff3f84d\" x=\"426.57195\" y=\"203.584406\" style=\"fill: #0000ff; stroke: #000000\"/>\n     <use xlink:href=\"#m5ebff3f84d\" x=\"427.09368\" y=\"70.528406\" style=\"fill: #0000ff; stroke: #000000\"/>\n     <use xlink:href=\"#m5ebff3f84d\" x=\"427.20249\" y=\"70.528406\" style=\"fill: #0000ff; stroke: #000000\"/>\n     <use xlink:href=\"#m5ebff3f84d\" x=\"427.3671\" y=\"70.528406\" style=\"fill: #0000ff; stroke: #000000\"/>\n     <use xlink:href=\"#m5ebff3f84d\" x=\"427.37547\" y=\"70.528406\" style=\"fill: #0000ff; stroke: #000000\"/>\n     <use xlink:href=\"#m5ebff3f84d\" x=\"427.79118\" y=\"70.528406\" style=\"fill: #0000ff; stroke: #000000\"/>\n     <use xlink:href=\"#m5ebff3f84d\" x=\"427.8693\" y=\"70.528406\" style=\"fill: #0000ff; stroke: #000000\"/>\n     <use xlink:href=\"#m5ebff3f84d\" x=\"427.91394\" y=\"70.528406\" style=\"fill: #0000ff; stroke: #000000\"/>\n     <use xlink:href=\"#m5ebff3f84d\" x=\"428.00043\" y=\"70.528406\" style=\"fill: #0000ff; stroke: #000000\"/>\n     <use xlink:href=\"#m5ebff3f84d\" x=\"428.23479\" y=\"70.528406\" style=\"fill: #0000ff; stroke: #000000\"/>\n     <use xlink:href=\"#m5ebff3f84d\" x=\"428.65887\" y=\"70.528406\" style=\"fill: #0000ff; stroke: #000000\"/>\n     <use xlink:href=\"#m5ebff3f84d\" x=\"429.26151\" y=\"70.528406\" style=\"fill: #0000ff; stroke: #000000\"/>\n     <use xlink:href=\"#m5ebff3f84d\" x=\"429.56841\" y=\"70.528406\" style=\"fill: #0000ff; stroke: #000000\"/>\n     <use xlink:href=\"#m5ebff3f84d\" x=\"429.84462\" y=\"70.528406\" style=\"fill: #0000ff; stroke: #000000\"/>\n     <use xlink:href=\"#m5ebff3f84d\" x=\"429.97017\" y=\"70.528406\" style=\"fill: #0000ff; stroke: #000000\"/>\n     <use xlink:href=\"#m5ebff3f84d\" x=\"430.14036\" y=\"70.528406\" style=\"fill: #0000ff; stroke: #000000\"/>\n     <use xlink:href=\"#m5ebff3f84d\" x=\"430.22127\" y=\"70.528406\" style=\"fill: #0000ff; stroke: #000000\"/>\n     <use xlink:href=\"#m5ebff3f84d\" x=\"430.39425\" y=\"70.528406\" style=\"fill: #0000ff; stroke: #000000\"/>\n     <use xlink:href=\"#m5ebff3f84d\" x=\"430.80159\" y=\"70.528406\" style=\"fill: #0000ff; stroke: #000000\"/>\n     <use xlink:href=\"#m5ebff3f84d\" x=\"430.94388\" y=\"70.528406\" style=\"fill: #0000ff; stroke: #000000\"/>\n     <use xlink:href=\"#m5ebff3f84d\" x=\"430.95504\" y=\"114.880406\" style=\"fill: #0000ff; stroke: #000000\"/>\n     <use xlink:href=\"#m5ebff3f84d\" x=\"431.50746\" y=\"70.528406\" style=\"fill: #0000ff; stroke: #000000\"/>\n     <use xlink:href=\"#m5ebff3f84d\" x=\"431.88969\" y=\"70.528406\" style=\"fill: #0000ff; stroke: #000000\"/>\n     <use xlink:href=\"#m5ebff3f84d\" x=\"432.04872\" y=\"70.528406\" style=\"fill: #0000ff; stroke: #000000\"/>\n     <use xlink:href=\"#m5ebff3f84d\" x=\"432.1101\" y=\"70.528406\" style=\"fill: #0000ff; stroke: #000000\"/>\n     <use xlink:href=\"#m5ebff3f84d\" x=\"432.12126\" y=\"114.880406\" style=\"fill: #0000ff; stroke: #000000\"/>\n     <use xlink:href=\"#m5ebff3f84d\" x=\"432.20217\" y=\"70.528406\" style=\"fill: #0000ff; stroke: #000000\"/>\n     <use xlink:href=\"#m5ebff3f84d\" x=\"432.58719\" y=\"70.528406\" style=\"fill: #0000ff; stroke: #000000\"/>\n     <use xlink:href=\"#m5ebff3f84d\" x=\"432.72948\" y=\"70.528406\" style=\"fill: #0000ff; stroke: #000000\"/>\n     <use xlink:href=\"#m5ebff3f84d\" x=\"432.7797\" y=\"70.528406\" style=\"fill: #0000ff; stroke: #000000\"/>\n     <use xlink:href=\"#m5ebff3f84d\" x=\"432.90525\" y=\"70.528406\" style=\"fill: #0000ff; stroke: #000000\"/>\n     <use xlink:href=\"#m5ebff3f84d\" x=\"432.9192\" y=\"70.528406\" style=\"fill: #0000ff; stroke: #000000\"/>\n     <use xlink:href=\"#m5ebff3f84d\" x=\"432.96105\" y=\"114.880406\" style=\"fill: #0000ff; stroke: #000000\"/>\n     <use xlink:href=\"#m5ebff3f84d\" x=\"433.01685\" y=\"70.528406\" style=\"fill: #0000ff; stroke: #000000\"/>\n     <use xlink:href=\"#m5ebff3f84d\" x=\"433.21494\" y=\"70.528406\" style=\"fill: #0000ff; stroke: #000000\"/>\n     <use xlink:href=\"#m5ebff3f84d\" x=\"433.32096\" y=\"70.528406\" style=\"fill: #0000ff; stroke: #000000\"/>\n     <use xlink:href=\"#m5ebff3f84d\" x=\"433.44372\" y=\"114.880406\" style=\"fill: #0000ff; stroke: #000000\"/>\n     <use xlink:href=\"#m5ebff3f84d\" x=\"433.56369\" y=\"70.528406\" style=\"fill: #0000ff; stroke: #000000\"/>\n     <use xlink:href=\"#m5ebff3f84d\" x=\"433.7562\" y=\"70.528406\" style=\"fill: #0000ff; stroke: #000000\"/>\n     <use xlink:href=\"#m5ebff3f84d\" x=\"433.85664\" y=\"70.528406\" style=\"fill: #0000ff; stroke: #000000\"/>\n     <use xlink:href=\"#m5ebff3f84d\" x=\"433.98777\" y=\"70.528406\" style=\"fill: #0000ff; stroke: #000000\"/>\n     <use xlink:href=\"#m5ebff3f84d\" x=\"434.07705\" y=\"70.528406\" style=\"fill: #0000ff; stroke: #000000\"/>\n     <use xlink:href=\"#m5ebff3f84d\" x=\"434.13285\" y=\"114.880406\" style=\"fill: #0000ff; stroke: #000000\"/>\n     <use xlink:href=\"#m5ebff3f84d\" x=\"434.16912\" y=\"114.880406\" style=\"fill: #0000ff; stroke: #000000\"/>\n     <use xlink:href=\"#m5ebff3f84d\" x=\"434.28072\" y=\"70.528406\" style=\"fill: #0000ff; stroke: #000000\"/>\n     <use xlink:href=\"#m5ebff3f84d\" x=\"434.37279\" y=\"70.528406\" style=\"fill: #0000ff; stroke: #000000\"/>\n     <use xlink:href=\"#m5ebff3f84d\" x=\"434.88894\" y=\"70.528406\" style=\"fill: #0000ff; stroke: #000000\"/>\n     <use xlink:href=\"#m5ebff3f84d\" x=\"435.19305\" y=\"203.584406\" style=\"fill: #0000ff; stroke: #000000\"/>\n     <use xlink:href=\"#m5ebff3f84d\" x=\"435.60039\" y=\"70.528406\" style=\"fill: #0000ff; stroke: #000000\"/>\n     <use xlink:href=\"#m5ebff3f84d\" x=\"436.02726\" y=\"203.584406\" style=\"fill: #0000ff; stroke: #000000\"/>\n     <use xlink:href=\"#m5ebff3f84d\" x=\"436.35648\" y=\"70.528406\" style=\"fill: #0000ff; stroke: #000000\"/>\n     <use xlink:href=\"#m5ebff3f84d\" x=\"436.38438\" y=\"70.528406\" style=\"fill: #0000ff; stroke: #000000\"/>\n     <use xlink:href=\"#m5ebff3f84d\" x=\"436.98423\" y=\"70.528406\" style=\"fill: #0000ff; stroke: #000000\"/>\n     <use xlink:href=\"#m5ebff3f84d\" x=\"437.1879\" y=\"70.528406\" style=\"fill: #0000ff; stroke: #000000\"/>\n     <use xlink:href=\"#m5ebff3f84d\" x=\"437.33019\" y=\"70.528406\" style=\"fill: #0000ff; stroke: #000000\"/>\n     <use xlink:href=\"#m5ebff3f84d\" x=\"437.58408\" y=\"70.528406\" style=\"fill: #0000ff; stroke: #000000\"/>\n     <use xlink:href=\"#m5ebff3f84d\" x=\"437.60919\" y=\"70.528406\" style=\"fill: #0000ff; stroke: #000000\"/>\n     <use xlink:href=\"#m5ebff3f84d\" x=\"437.65662\" y=\"70.528406\" style=\"fill: #0000ff; stroke: #000000\"/>\n     <use xlink:href=\"#m5ebff3f84d\" x=\"437.69847\" y=\"70.528406\" style=\"fill: #0000ff; stroke: #000000\"/>\n     <use xlink:href=\"#m5ebff3f84d\" x=\"437.76543\" y=\"70.528406\" style=\"fill: #0000ff; stroke: #000000\"/>\n     <use xlink:href=\"#m5ebff3f84d\" x=\"437.83239\" y=\"70.528406\" style=\"fill: #0000ff; stroke: #000000\"/>\n     <use xlink:href=\"#m5ebff3f84d\" x=\"437.86308\" y=\"70.528406\" style=\"fill: #0000ff; stroke: #000000\"/>\n     <use xlink:href=\"#m5ebff3f84d\" x=\"438.00537\" y=\"114.880406\" style=\"fill: #0000ff; stroke: #000000\"/>\n     <use xlink:href=\"#m5ebff3f84d\" x=\"438.0249\" y=\"114.880406\" style=\"fill: #0000ff; stroke: #000000\"/>\n     <use xlink:href=\"#m5ebff3f84d\" x=\"438.65265\" y=\"70.528406\" style=\"fill: #0000ff; stroke: #000000\"/>\n     <use xlink:href=\"#m5ebff3f84d\" x=\"438.75588\" y=\"70.528406\" style=\"fill: #0000ff; stroke: #000000\"/>\n     <use xlink:href=\"#m5ebff3f84d\" x=\"438.86748\" y=\"70.528406\" style=\"fill: #0000ff; stroke: #000000\"/>\n     <use xlink:href=\"#m5ebff3f84d\" x=\"439.13811\" y=\"70.528406\" style=\"fill: #0000ff; stroke: #000000\"/>\n     <use xlink:href=\"#m5ebff3f84d\" x=\"439.66821\" y=\"70.528406\" style=\"fill: #0000ff; stroke: #000000\"/>\n     <use xlink:href=\"#m5ebff3f84d\" x=\"439.71285\" y=\"70.528406\" style=\"fill: #0000ff; stroke: #000000\"/>\n     <use xlink:href=\"#m5ebff3f84d\" x=\"439.76586\" y=\"70.528406\" style=\"fill: #0000ff; stroke: #000000\"/>\n     <use xlink:href=\"#m5ebff3f84d\" x=\"439.82166\" y=\"70.528406\" style=\"fill: #0000ff; stroke: #000000\"/>\n     <use xlink:href=\"#m5ebff3f84d\" x=\"439.99464\" y=\"70.528406\" style=\"fill: #0000ff; stroke: #000000\"/>\n     <use xlink:href=\"#m5ebff3f84d\" x=\"440.13414\" y=\"70.528406\" style=\"fill: #0000ff; stroke: #000000\"/>\n     <use xlink:href=\"#m5ebff3f84d\" x=\"440.18436\" y=\"70.528406\" style=\"fill: #0000ff; stroke: #000000\"/>\n     <use xlink:href=\"#m5ebff3f84d\" x=\"440.3964\" y=\"70.528406\" style=\"fill: #0000ff; stroke: #000000\"/>\n     <use xlink:href=\"#m5ebff3f84d\" x=\"440.55264\" y=\"70.528406\" style=\"fill: #0000ff; stroke: #000000\"/>\n     <use xlink:href=\"#m5ebff3f84d\" x=\"440.58612\" y=\"70.528406\" style=\"fill: #0000ff; stroke: #000000\"/>\n     <use xlink:href=\"#m5ebff3f84d\" x=\"440.71167\" y=\"70.528406\" style=\"fill: #0000ff; stroke: #000000\"/>\n     <use xlink:href=\"#m5ebff3f84d\" x=\"441.35616\" y=\"70.528406\" style=\"fill: #0000ff; stroke: #000000\"/>\n     <use xlink:href=\"#m5ebff3f84d\" x=\"441.44544\" y=\"70.528406\" style=\"fill: #0000ff; stroke: #000000\"/>\n     <use xlink:href=\"#m5ebff3f84d\" x=\"441.46776\" y=\"70.528406\" style=\"fill: #0000ff; stroke: #000000\"/>\n     <use xlink:href=\"#m5ebff3f84d\" x=\"441.64353\" y=\"70.528406\" style=\"fill: #0000ff; stroke: #000000\"/>\n     <use xlink:href=\"#m5ebff3f84d\" x=\"441.7635\" y=\"70.528406\" style=\"fill: #0000ff; stroke: #000000\"/>\n     <use xlink:href=\"#m5ebff3f84d\" x=\"441.94485\" y=\"70.528406\" style=\"fill: #0000ff; stroke: #000000\"/>\n     <use xlink:href=\"#m5ebff3f84d\" x=\"442.18758\" y=\"70.528406\" style=\"fill: #0000ff; stroke: #000000\"/>\n     <use xlink:href=\"#m5ebff3f84d\" x=\"442.22664\" y=\"70.528406\" style=\"fill: #0000ff; stroke: #000000\"/>\n     <use xlink:href=\"#m5ebff3f84d\" x=\"442.40241\" y=\"70.528406\" style=\"fill: #0000ff; stroke: #000000\"/>\n     <use xlink:href=\"#m5ebff3f84d\" x=\"442.43868\" y=\"70.528406\" style=\"fill: #0000ff; stroke: #000000\"/>\n     <use xlink:href=\"#m5ebff3f84d\" x=\"442.75116\" y=\"70.528406\" style=\"fill: #0000ff; stroke: #000000\"/>\n     <use xlink:href=\"#m5ebff3f84d\" x=\"442.83207\" y=\"70.528406\" style=\"fill: #0000ff; stroke: #000000\"/>\n     <use xlink:href=\"#m5ebff3f84d\" x=\"443.02737\" y=\"70.528406\" style=\"fill: #0000ff; stroke: #000000\"/>\n     <use xlink:href=\"#m5ebff3f84d\" x=\"443.06085\" y=\"70.528406\" style=\"fill: #0000ff; stroke: #000000\"/>\n     <use xlink:href=\"#m5ebff3f84d\" x=\"443.76951\" y=\"114.880406\" style=\"fill: #0000ff; stroke: #000000\"/>\n     <use xlink:href=\"#m5ebff3f84d\" x=\"443.88948\" y=\"70.528406\" style=\"fill: #0000ff; stroke: #000000\"/>\n     <use xlink:href=\"#m5ebff3f84d\" x=\"443.98434\" y=\"114.880406\" style=\"fill: #0000ff; stroke: #000000\"/>\n     <use xlink:href=\"#m5ebff3f84d\" x=\"444.12942\" y=\"114.880406\" style=\"fill: #0000ff; stroke: #000000\"/>\n     <use xlink:href=\"#m5ebff3f84d\" x=\"444.24381\" y=\"70.528406\" style=\"fill: #0000ff; stroke: #000000\"/>\n     <use xlink:href=\"#m5ebff3f84d\" x=\"445.11708\" y=\"114.880406\" style=\"fill: #0000ff; stroke: #000000\"/>\n     <use xlink:href=\"#m5ebff3f84d\" x=\"445.1673\" y=\"114.880406\" style=\"fill: #0000ff; stroke: #000000\"/>\n     <use xlink:href=\"#m5ebff3f84d\" x=\"445.50768\" y=\"203.584406\" style=\"fill: #0000ff; stroke: #000000\"/>\n     <use xlink:href=\"#m5ebff3f84d\" x=\"445.5858\" y=\"70.528406\" style=\"fill: #0000ff; stroke: #000000\"/>\n     <use xlink:href=\"#m5ebff3f84d\" x=\"445.6974\" y=\"114.880406\" style=\"fill: #0000ff; stroke: #000000\"/>\n     <use xlink:href=\"#m5ebff3f84d\" x=\"445.76436\" y=\"114.880406\" style=\"fill: #0000ff; stroke: #000000\"/>\n     <use xlink:href=\"#m5ebff3f84d\" x=\"445.89828\" y=\"70.528406\" style=\"fill: #0000ff; stroke: #000000\"/>\n     <use xlink:href=\"#m5ebff3f84d\" x=\"445.91502\" y=\"114.880406\" style=\"fill: #0000ff; stroke: #000000\"/>\n     <use xlink:href=\"#m5ebff3f84d\" x=\"446.78271\" y=\"203.584406\" style=\"fill: #0000ff; stroke: #000000\"/>\n     <use xlink:href=\"#m5ebff3f84d\" x=\"446.90826\" y=\"114.880406\" style=\"fill: #0000ff; stroke: #000000\"/>\n     <use xlink:href=\"#m5ebff3f84d\" x=\"447.02823\" y=\"114.880406\" style=\"fill: #0000ff; stroke: #000000\"/>\n     <use xlink:href=\"#m5ebff3f84d\" x=\"447.10077\" y=\"114.880406\" style=\"fill: #0000ff; stroke: #000000\"/>\n     <use xlink:href=\"#m5ebff3f84d\" x=\"447.50253\" y=\"70.528406\" style=\"fill: #0000ff; stroke: #000000\"/>\n     <use xlink:href=\"#m5ebff3f84d\" x=\"447.54159\" y=\"70.528406\" style=\"fill: #0000ff; stroke: #000000\"/>\n     <use xlink:href=\"#m5ebff3f84d\" x=\"448.28373\" y=\"203.584406\" style=\"fill: #0000ff; stroke: #000000\"/>\n     <use xlink:href=\"#m5ebff3f84d\" x=\"448.4037\" y=\"114.880406\" style=\"fill: #0000ff; stroke: #000000\"/>\n     <use xlink:href=\"#m5ebff3f84d\" x=\"448.78314\" y=\"114.880406\" style=\"fill: #0000ff; stroke: #000000\"/>\n     <use xlink:href=\"#m5ebff3f84d\" x=\"448.86405\" y=\"203.584406\" style=\"fill: #0000ff; stroke: #000000\"/>\n     <use xlink:href=\"#m5ebff3f84d\" x=\"448.87521\" y=\"70.528406\" style=\"fill: #0000ff; stroke: #000000\"/>\n     <use xlink:href=\"#m5ebff3f84d\" x=\"449.04261\" y=\"114.880406\" style=\"fill: #0000ff; stroke: #000000\"/>\n     <use xlink:href=\"#m5ebff3f84d\" x=\"449.44437\" y=\"114.880406\" style=\"fill: #0000ff; stroke: #000000\"/>\n     <use xlink:href=\"#m5ebff3f84d\" x=\"449.70942\" y=\"70.528406\" style=\"fill: #0000ff; stroke: #000000\"/>\n     <use xlink:href=\"#m5ebff3f84d\" x=\"449.78196\" y=\"70.528406\" style=\"fill: #0000ff; stroke: #000000\"/>\n     <use xlink:href=\"#m5ebff3f84d\" x=\"449.86287\" y=\"70.528406\" style=\"fill: #0000ff; stroke: #000000\"/>\n     <use xlink:href=\"#m5ebff3f84d\" x=\"450.33159\" y=\"70.528406\" style=\"fill: #0000ff; stroke: #000000\"/>\n     <use xlink:href=\"#m5ebff3f84d\" x=\"450.4962\" y=\"70.528406\" style=\"fill: #0000ff; stroke: #000000\"/>\n     <use xlink:href=\"#m5ebff3f84d\" x=\"450.70266\" y=\"70.528406\" style=\"fill: #0000ff; stroke: #000000\"/>\n     <use xlink:href=\"#m5ebff3f84d\" x=\"450.7752\" y=\"70.528406\" style=\"fill: #0000ff; stroke: #000000\"/>\n     <use xlink:href=\"#m5ebff3f84d\" x=\"450.89517\" y=\"70.528406\" style=\"fill: #0000ff; stroke: #000000\"/>\n     <use xlink:href=\"#m5ebff3f84d\" x=\"450.9984\" y=\"70.528406\" style=\"fill: #0000ff; stroke: #000000\"/>\n     <use xlink:href=\"#m5ebff3f84d\" x=\"451.11558\" y=\"70.528406\" style=\"fill: #0000ff; stroke: #000000\"/>\n     <use xlink:href=\"#m5ebff3f84d\" x=\"451.31925\" y=\"70.528406\" style=\"fill: #0000ff; stroke: #000000\"/>\n     <use xlink:href=\"#m5ebff3f84d\" x=\"451.35831\" y=\"70.528406\" style=\"fill: #0000ff; stroke: #000000\"/>\n     <use xlink:href=\"#m5ebff3f84d\" x=\"451.7238\" y=\"70.528406\" style=\"fill: #0000ff; stroke: #000000\"/>\n     <use xlink:href=\"#m5ebff3f84d\" x=\"452.43525\" y=\"70.528406\" style=\"fill: #0000ff; stroke: #000000\"/>\n     <use xlink:href=\"#m5ebff3f84d\" x=\"452.58312\" y=\"114.880406\" style=\"fill: #0000ff; stroke: #000000\"/>\n     <use xlink:href=\"#m5ebff3f84d\" x=\"452.68635\" y=\"70.528406\" style=\"fill: #0000ff; stroke: #000000\"/>\n     <use xlink:href=\"#m5ebff3f84d\" x=\"453.18297\" y=\"70.528406\" style=\"fill: #0000ff; stroke: #000000\"/>\n     <use xlink:href=\"#m5ebff3f84d\" x=\"453.36153\" y=\"70.528406\" style=\"fill: #0000ff; stroke: #000000\"/>\n     <use xlink:href=\"#m5ebff3f84d\" x=\"453.56241\" y=\"70.528406\" style=\"fill: #0000ff; stroke: #000000\"/>\n     <use xlink:href=\"#m5ebff3f84d\" x=\"453.65169\" y=\"70.528406\" style=\"fill: #0000ff; stroke: #000000\"/>\n     <use xlink:href=\"#m5ebff3f84d\" x=\"453.76608\" y=\"70.528406\" style=\"fill: #0000ff; stroke: #000000\"/>\n     <use xlink:href=\"#m5ebff3f84d\" x=\"453.88326\" y=\"114.880406\" style=\"fill: #0000ff; stroke: #000000\"/>\n     <use xlink:href=\"#m5ebff3f84d\" x=\"454.22922\" y=\"70.528406\" style=\"fill: #0000ff; stroke: #000000\"/>\n     <use xlink:href=\"#m5ebff3f84d\" x=\"454.35756\" y=\"70.528406\" style=\"fill: #0000ff; stroke: #000000\"/>\n     <use xlink:href=\"#m5ebff3f84d\" x=\"454.63656\" y=\"70.528406\" style=\"fill: #0000ff; stroke: #000000\"/>\n     <use xlink:href=\"#m5ebff3f84d\" x=\"454.72863\" y=\"70.528406\" style=\"fill: #0000ff; stroke: #000000\"/>\n     <use xlink:href=\"#m5ebff3f84d\" x=\"454.79559\" y=\"70.528406\" style=\"fill: #0000ff; stroke: #000000\"/>\n     <use xlink:href=\"#m5ebff3f84d\" x=\"454.81512\" y=\"70.528406\" style=\"fill: #0000ff; stroke: #000000\"/>\n     <use xlink:href=\"#m5ebff3f84d\" x=\"454.9044\" y=\"70.528406\" style=\"fill: #0000ff; stroke: #000000\"/>\n     <use xlink:href=\"#m5ebff3f84d\" x=\"455.04948\" y=\"70.528406\" style=\"fill: #0000ff; stroke: #000000\"/>\n     <use xlink:href=\"#m5ebff3f84d\" x=\"455.2113\" y=\"114.880406\" style=\"fill: #0000ff; stroke: #000000\"/>\n     <use xlink:href=\"#m5ebff3f84d\" x=\"455.28384\" y=\"70.528406\" style=\"fill: #0000ff; stroke: #000000\"/>\n     <use xlink:href=\"#m5ebff3f84d\" x=\"455.28942\" y=\"114.880406\" style=\"fill: #0000ff; stroke: #000000\"/>\n     <use xlink:href=\"#m5ebff3f84d\" x=\"455.36475\" y=\"70.528406\" style=\"fill: #0000ff; stroke: #000000\"/>\n     <use xlink:href=\"#m5ebff3f84d\" x=\"455.41776\" y=\"70.528406\" style=\"fill: #0000ff; stroke: #000000\"/>\n     <use xlink:href=\"#m5ebff3f84d\" x=\"455.54331\" y=\"70.528406\" style=\"fill: #0000ff; stroke: #000000\"/>\n     <use xlink:href=\"#m5ebff3f84d\" x=\"455.6856\" y=\"70.528406\" style=\"fill: #0000ff; stroke: #000000\"/>\n     <use xlink:href=\"#m5ebff3f84d\" x=\"455.77209\" y=\"70.528406\" style=\"fill: #0000ff; stroke: #000000\"/>\n     <use xlink:href=\"#m5ebff3f84d\" x=\"456.08457\" y=\"70.528406\" style=\"fill: #0000ff; stroke: #000000\"/>\n     <use xlink:href=\"#m5ebff3f84d\" x=\"456.22407\" y=\"70.528406\" style=\"fill: #0000ff; stroke: #000000\"/>\n     <use xlink:href=\"#m5ebff3f84d\" x=\"456.26034\" y=\"114.880406\" style=\"fill: #0000ff; stroke: #000000\"/>\n     <use xlink:href=\"#m5ebff3f84d\" x=\"456.39705\" y=\"70.528406\" style=\"fill: #0000ff; stroke: #000000\"/>\n     <use xlink:href=\"#m5ebff3f84d\" x=\"456.40542\" y=\"70.528406\" style=\"fill: #0000ff; stroke: #000000\"/>\n     <use xlink:href=\"#m5ebff3f84d\" x=\"456.52539\" y=\"70.528406\" style=\"fill: #0000ff; stroke: #000000\"/>\n     <use xlink:href=\"#m5ebff3f84d\" x=\"456.75696\" y=\"114.880406\" style=\"fill: #0000ff; stroke: #000000\"/>\n     <use xlink:href=\"#m5ebff3f84d\" x=\"456.87414\" y=\"70.528406\" style=\"fill: #0000ff; stroke: #000000\"/>\n     <use xlink:href=\"#m5ebff3f84d\" x=\"456.92157\" y=\"70.528406\" style=\"fill: #0000ff; stroke: #000000\"/>\n     <use xlink:href=\"#m5ebff3f84d\" x=\"456.99969\" y=\"114.880406\" style=\"fill: #0000ff; stroke: #000000\"/>\n     <use xlink:href=\"#m5ebff3f84d\" x=\"457.29264\" y=\"70.528406\" style=\"fill: #0000ff; stroke: #000000\"/>\n     <use xlink:href=\"#m5ebff3f84d\" x=\"457.39866\" y=\"70.528406\" style=\"fill: #0000ff; stroke: #000000\"/>\n     <use xlink:href=\"#m5ebff3f84d\" x=\"457.51584\" y=\"70.528406\" style=\"fill: #0000ff; stroke: #000000\"/>\n     <use xlink:href=\"#m5ebff3f84d\" x=\"457.57722\" y=\"70.528406\" style=\"fill: #0000ff; stroke: #000000\"/>\n     <use xlink:href=\"#m5ebff3f84d\" x=\"457.63581\" y=\"70.528406\" style=\"fill: #0000ff; stroke: #000000\"/>\n     <use xlink:href=\"#m5ebff3f84d\" x=\"457.67487\" y=\"70.528406\" style=\"fill: #0000ff; stroke: #000000\"/>\n     <use xlink:href=\"#m5ebff3f84d\" x=\"457.7502\" y=\"70.528406\" style=\"fill: #0000ff; stroke: #000000\"/>\n     <use xlink:href=\"#m5ebff3f84d\" x=\"457.87575\" y=\"114.880406\" style=\"fill: #0000ff; stroke: #000000\"/>\n     <use xlink:href=\"#m5ebff3f84d\" x=\"457.93155\" y=\"70.528406\" style=\"fill: #0000ff; stroke: #000000\"/>\n     <use xlink:href=\"#m5ebff3f84d\" x=\"458.31378\" y=\"70.528406\" style=\"fill: #0000ff; stroke: #000000\"/>\n     <use xlink:href=\"#m5ebff3f84d\" x=\"458.40027\" y=\"70.528406\" style=\"fill: #0000ff; stroke: #000000\"/>\n     <use xlink:href=\"#m5ebff3f84d\" x=\"458.45328\" y=\"70.528406\" style=\"fill: #0000ff; stroke: #000000\"/>\n     <use xlink:href=\"#m5ebff3f84d\" x=\"458.49234\" y=\"70.528406\" style=\"fill: #0000ff; stroke: #000000\"/>\n     <use xlink:href=\"#m5ebff3f84d\" x=\"458.81877\" y=\"70.528406\" style=\"fill: #0000ff; stroke: #000000\"/>\n     <use xlink:href=\"#m5ebff3f84d\" x=\"458.88573\" y=\"70.528406\" style=\"fill: #0000ff; stroke: #000000\"/>\n     <use xlink:href=\"#m5ebff3f84d\" x=\"459.0057\" y=\"70.528406\" style=\"fill: #0000ff; stroke: #000000\"/>\n     <use xlink:href=\"#m5ebff3f84d\" x=\"459.09498\" y=\"70.528406\" style=\"fill: #0000ff; stroke: #000000\"/>\n     <use xlink:href=\"#m5ebff3f84d\" x=\"459.54417\" y=\"114.880406\" style=\"fill: #0000ff; stroke: #000000\"/>\n     <use xlink:href=\"#m5ebff3f84d\" x=\"460.01289\" y=\"70.528406\" style=\"fill: #0000ff; stroke: #000000\"/>\n     <use xlink:href=\"#m5ebff3f84d\" x=\"460.09938\" y=\"114.880406\" style=\"fill: #0000ff; stroke: #000000\"/>\n     <use xlink:href=\"#m5ebff3f84d\" x=\"460.16913\" y=\"70.528406\" style=\"fill: #0000ff; stroke: #000000\"/>\n     <use xlink:href=\"#m5ebff3f84d\" x=\"461.12331\" y=\"70.528406\" style=\"fill: #0000ff; stroke: #000000\"/>\n    </g>\n   </g>\n   <g id=\"patch_3\">\n    <path d=\"M 83.5275 247.936406 \nL 83.5275 26.176406 \n\" style=\"fill: none; stroke: #000000; stroke-width: 0.6; stroke-linejoin: miter; stroke-linecap: square\"/>\n   </g>\n   <g id=\"patch_4\">\n    <path d=\"M 83.5275 247.936406 \nL 529.9275 247.936406 \n\" style=\"fill: none; stroke: #000000; stroke-width: 0.6; stroke-linejoin: miter; stroke-linecap: square\"/>\n   </g>\n   <g id=\"text_16\">\n    <!-- Lexical Dispersion Plot -->\n    <g style=\"fill: #323034\" transform=\"translate(83.5275 20.176406)scale(0.19 -0.19)\">\n     <defs>\n      <path id=\"STIXGeneral-Regular-4c\" d=\"M 3827 1114 \nL 3520 0 \nL 77 0 \nL 77 122 \nQ 429 141 531 256 \nQ 634 371 634 736 \nL 634 3494 \nQ 634 3872 541 3981 \nQ 448 4090 77 4115 \nL 77 4237 \nL 1888 4237 \nL 1888 4115 \nQ 1498 4090 1392 3984 \nQ 1286 3878 1286 3507 \nL 1286 538 \nQ 1286 358 1398 304 \nQ 1510 250 1862 250 \nL 2310 250 \nQ 3085 250 3392 640 \nQ 3520 813 3661 1114 \nL 3827 1114 \nz\n\" transform=\"scale(0.015625)\"/>\n      <path id=\"STIXGeneral-Regular-78\" d=\"M 3066 0 \nL 1779 0 \nL 1779 96 \nQ 1939 109 1987 137 \nQ 2035 166 2035 250 \nQ 2035 307 1997 365 \nL 1414 1261 \nL 909 474 \nQ 781 275 781 211 \nQ 781 96 1037 96 \nL 1037 0 \nL 109 0 \nL 109 96 \nQ 269 109 355 169 \nQ 442 230 576 422 \nL 1306 1478 \nL 704 2400 \nQ 557 2624 454 2704 \nQ 352 2784 211 2784 \nL 154 2784 \nL 154 2880 \nL 1478 2880 \nL 1478 2784 \nQ 1203 2778 1203 2643 \nQ 1203 2509 1498 2074 \nQ 1581 1958 1587 1946 \nQ 1619 1990 1779 2227 \nQ 1811 2285 1856 2349 \nQ 1901 2413 1923 2451 \nQ 1946 2490 1971 2528 \nQ 1997 2566 2006 2595 \nQ 2016 2624 2016 2643 \nQ 2016 2765 1760 2784 \nL 1760 2880 \nL 2771 2880 \nL 2771 2784 \nQ 2445 2771 2253 2502 \nL 1722 1734 \nL 2541 480 \nQ 2790 96 3066 96 \nL 3066 0 \nz\n\" transform=\"scale(0.015625)\"/>\n      <path id=\"STIXGeneral-Regular-44\" d=\"M 102 4237 \nL 1830 4237 \nQ 3078 4237 3750 3654 \nQ 4384 3110 4384 2138 \nQ 4384 966 3514 410 \nQ 2880 0 1901 0 \nL 102 0 \nL 102 122 \nQ 474 147 570 252 \nQ 666 358 666 736 \nL 666 3520 \nQ 666 3891 570 3990 \nQ 474 4090 102 4115 \nL 102 4237 \nz\nM 1318 3731 \nL 1318 538 \nQ 1318 365 1379 301 \nQ 1440 237 1626 237 \nQ 2125 237 2432 307 \nQ 2739 378 3021 570 \nQ 3686 1018 3686 2099 \nQ 3686 3027 3078 3558 \nQ 2803 3802 2476 3901 \nQ 2150 4000 1658 4000 \nQ 1472 4000 1395 3942 \nQ 1318 3885 1318 3731 \nz\n\" transform=\"scale(0.015625)\"/>\n      <path id=\"STIXGeneral-Regular-50\" d=\"M 102 4237 \nL 1760 4237 \nQ 2669 4237 3149 3834 \nQ 3469 3565 3469 3072 \nQ 3469 2560 3104 2234 \nQ 2835 1990 2553 1916 \nQ 2272 1843 1734 1843 \nQ 1549 1843 1293 1862 \nL 1293 717 \nQ 1293 352 1398 246 \nQ 1504 141 1894 122 \nL 1894 0 \nL 102 0 \nL 102 122 \nQ 474 147 557 256 \nQ 640 365 640 781 \nL 640 3526 \nQ 640 3885 547 3987 \nQ 454 4090 102 4115 \nL 102 4237 \nz\nM 1293 3770 \nL 1293 2118 \nQ 1510 2099 1683 2099 \nQ 2202 2099 2486 2352 \nQ 2771 2605 2771 3040 \nQ 2771 3558 2476 3779 \nQ 2182 4000 1517 4000 \nQ 1382 4000 1337 3952 \nQ 1293 3904 1293 3770 \nz\n\" transform=\"scale(0.015625)\"/>\n     </defs>\n     <use xlink:href=\"#STIXGeneral-Regular-4c\"/>\n     <use xlink:href=\"#STIXGeneral-Regular-65\" x=\"61.099991\"/>\n     <use xlink:href=\"#STIXGeneral-Regular-78\" x=\"105.499985\"/>\n     <use xlink:href=\"#STIXGeneral-Regular-69\" x=\"155.499969\"/>\n     <use xlink:href=\"#STIXGeneral-Regular-63\" x=\"183.299957\"/>\n     <use xlink:href=\"#STIXGeneral-Regular-61\" x=\"227.699951\"/>\n     <use xlink:href=\"#STIXGeneral-Regular-6c\" x=\"272.099945\"/>\n     <use xlink:href=\"#STIXGeneral-Regular-20\" x=\"299.899933\"/>\n     <use xlink:href=\"#STIXGeneral-Regular-44\" x=\"324.899918\"/>\n     <use xlink:href=\"#STIXGeneral-Regular-69\" x=\"397.099899\"/>\n     <use xlink:href=\"#STIXGeneral-Regular-73\" x=\"424.899887\"/>\n     <use xlink:href=\"#STIXGeneral-Regular-70\" x=\"463.799881\"/>\n     <use xlink:href=\"#STIXGeneral-Regular-65\" x=\"513.799866\"/>\n     <use xlink:href=\"#STIXGeneral-Regular-72\" x=\"558.19986\"/>\n     <use xlink:href=\"#STIXGeneral-Regular-73\" x=\"591.499847\"/>\n     <use xlink:href=\"#STIXGeneral-Regular-69\" x=\"630.399841\"/>\n     <use xlink:href=\"#STIXGeneral-Regular-6f\" x=\"658.199829\"/>\n     <use xlink:href=\"#STIXGeneral-Regular-6e\" x=\"708.199814\"/>\n     <use xlink:href=\"#STIXGeneral-Regular-20\" x=\"758.199799\"/>\n     <use xlink:href=\"#STIXGeneral-Regular-50\" x=\"783.199783\"/>\n     <use xlink:href=\"#STIXGeneral-Regular-6c\" x=\"838.89978\"/>\n     <use xlink:href=\"#STIXGeneral-Regular-6f\" x=\"866.699768\"/>\n     <use xlink:href=\"#STIXGeneral-Regular-74\" x=\"916.699753\"/>\n    </g>\n   </g>\n  </g>\n </g>\n <defs>\n  <clipPath id=\"p3916ddc14b\">\n   <rect x=\"83.5275\" y=\"26.176406\" width=\"446.4\" height=\"221.76\"/>\n  </clipPath>\n </defs>\n</svg>\n",
      "text/plain": [
       "<Figure size 1200x600 with 1 Axes>"
      ]
     },
     "metadata": {},
     "output_type": "display_data"
    }
   ],
   "source": [
    "w_o_n.dispersion_plot([\"price\", \"labour\", \"production\", \"America\"])"
   ]
  },
  {
   "cell_type": "markdown",
   "metadata": {},
   "source": [
    "## Stemming and Lemmatisation\n",
    "\n",
    "You may have wondered, in these examples, what about words that mean the same but have different endings, for example \"work\", \"working\",  \"worked\", and \"works\"? In most of the examples shown, we've only counted one of these words and thereby could *underestimate* their prescence. If what we really want to do is capture all discussion of a topic like 'work',  we should really be counting every variation on the word representing that topic.\n",
    "\n",
    "*Stemming* is a way to do this because it takes the stem of all of these words, in this example \"work\", and then counts the stems. It's true that this is sometimes a bit more nonsensical than using the original word (think \"sci\" for \"science\", \"scientist\", and \"scientific\") but it can give a more accurate take on the occurrence of a term.\n",
    "\n",
    "\n",
    "**nltk** includes more than one stemmer to reduce words to their roots. Let's see what happens when we take the tokenised words and stem them."
   ]
  },
  {
   "cell_type": "code",
   "execution_count": 36,
   "metadata": {},
   "outputs": [
    {
     "data": {
      "text/plain": [
       "['iv',\n",
       " 'stock',\n",
       " 'lent',\n",
       " 'interest',\n",
       " 'chapt',\n",
       " 'v',\n",
       " 'diff',\n",
       " 'employ',\n",
       " 'capit',\n",
       " 'book',\n",
       " 'ii',\n",
       " 'diff',\n",
       " 'progress',\n",
       " 'op',\n",
       " 'diff']"
      ]
     },
     "execution_count": 36,
     "metadata": {},
     "output_type": "execute_result"
    }
   ],
   "source": [
    "from nltk import LancasterStemmer\n",
    "\n",
    "# create an object of class LancasterStemmer\n",
    "lancaster = LancasterStemmer()\n",
    "\n",
    "cleaner_text = raw_text.translate(translator).lower()\n",
    "\n",
    "stem_tokens = [\n",
    "    lancaster.stem(term.lower())\n",
    "    for term in word_tokenize(cleaner_text)\n",
    "    if term.lower() not in stopwords\n",
    "]\n",
    "stem_tokens[120:135]"
   ]
  },
  {
   "cell_type": "markdown",
   "metadata": {},
   "source": [
    "Now we have \"pric\" instead of price, and \"compon\" instead of \"compnonent\", and so on. The stemming has taken away the ends of the words, leaving us with just their stem. Let's see if a word count following this approach will be different."
   ]
  },
  {
   "cell_type": "code",
   "execution_count": 37,
   "metadata": {},
   "outputs": [
    {
     "data": {
      "text/plain": [
       "[('pric', 832),\n",
       " ('gre', 700),\n",
       " ('labo', 686),\n",
       " ('part', 511),\n",
       " ('quant', 442),\n",
       " ('country', 388),\n",
       " ('produc', 356),\n",
       " ('silv', 355),\n",
       " ('diff', 348),\n",
       " ('on', 348)]"
      ]
     },
     "execution_count": 37,
     "metadata": {},
     "output_type": "execute_result"
    }
   ],
   "source": [
    "freq = Counter(stem_tokens)\n",
    "freq.most_common(10)"
   ]
  },
  {
   "cell_type": "markdown",
   "metadata": {},
   "source": [
    "In this case, the words that are most frequent are much the same: but you can imagine this could easily have *not* been the case and, if you're interested in fully capturing a topic, it's a good idea to at least check a stemmed version for comparison."
   ]
  },
  {
   "cell_type": "markdown",
   "metadata": {},
   "source": [
    "*Lemmatisation* is slightly different; it's a bit more intelligent than just chopping off the end of the word because it considers context and converts a word to a base form, called a lemma. Let's perform the same exercise using lemmatisation."
   ]
  },
  {
   "cell_type": "code",
   "execution_count": 38,
   "metadata": {},
   "outputs": [
    {
     "data": {
      "text/plain": [
       "[('price', 832),\n",
       " ('labour', 578),\n",
       " ('part', 475),\n",
       " ('quantity', 442),\n",
       " ('country', 388),\n",
       " ('greater', 386),\n",
       " ('silver', 355),\n",
       " ('one', 347),\n",
       " ('time', 343),\n",
       " ('much', 323)]"
      ]
     },
     "execution_count": 38,
     "metadata": {},
     "output_type": "execute_result"
    }
   ],
   "source": [
    "from nltk import WordNetLemmatizer\n",
    "\n",
    "# create an object of class LancasterStemmer\n",
    "wnet_lemma = WordNetLemmatizer()\n",
    "\n",
    "lemma_tokens = [\n",
    "    wnet_lemma.lemmatize(term.lower())\n",
    "    for term in word_tokenize(cleaner_text)\n",
    "    if term.lower() not in stopwords\n",
    "]\n",
    "freq = Counter(lemma_tokens)\n",
    "freq.most_common(10)"
   ]
  },
  {
   "cell_type": "markdown",
   "metadata": {},
   "source": [
    "The lemmatised words we're dealing with are more *understandable* than in the case of stemming, but note that the top ten most frequent words have changed a little too."
   ]
  },
  {
   "cell_type": "markdown",
   "metadata": {},
   "source": [
    "## Part of Speech Tagging\n",
    "\n",
    "Sentences are made up of verbs, nouns, adjectives, pronouns, and more of the building blocks of language. Sometimes, when you're doing text analysis, it's useful to understand and extract only some so-called parts of speech (or PoS). The NLP tools we've already seen can help us to do that. In the example below, we'll use `pos_tag` to tag the different parts of speech in a sentence of tokenised text. The function returns tuples of '(word, part-of-speech)' that we can print out.\n",
    "\n",
    "```{note}\n",
    "You may need to run `nltk.download('averaged_perceptron_tagger')` to use the `pos_tag` function.\n",
    "```"
   ]
  },
  {
   "cell_type": "code",
   "execution_count": 39,
   "metadata": {},
   "outputs": [
    {
     "name": "stdout",
     "output_type": "stream",
     "text": [
      "The word \"If\" is a IN\n",
      "The word \"we\" is a PRP\n",
      "The word \"are\" is a VBP\n",
      "The word \"going\" is a VBG\n",
      "The word \"to\" is a TO\n",
      "The word \"die\" is a VB\n",
      "The word \"let\" is a VB\n",
      "The word \"us\" is a PRP\n",
      "The word \"die\" is a VB\n",
      "The word \"looking\" is a VBG\n",
      "The word \"like\" is a IN\n",
      "The word \"a\" is a DT\n",
      "The word \"Peruvian\" is a JJ\n",
      "The word \"folk\" is a NN\n",
      "The word \"band\" is a NN\n"
     ]
    }
   ],
   "source": [
    "from nltk import pos_tag\n",
    "\n",
    "example_sent = \"If we are going to die, let us die looking like a Peruvian folk band.\"\n",
    "\n",
    "pos_tagged_words = pos_tag(word_tokenize(example_sent))\n",
    "for word, pos in pos_tagged_words:\n",
    "    if word not in string.punctuation:\n",
    "        print(f'The word \"{word}\" is a {pos}')"
   ]
  },
  {
   "cell_type": "markdown",
   "metadata": {},
   "source": [
    "**nltk** uses contractions to refer to the different parts of speech: IN is a preposition, PRP a personal pronoun, VBP a verb (in non 3rd person singular present), JJ is an adjective, NN a noun, and so on.\n",
    "\n",
    "When might you actually use PoS tagging? You can imagine thinking about how the use of language is different or has changed across people or institutions. You might be interested in how more active language is being employed to help readers engage more with documents and reports issued by official organisations. You might be interested in removing all words that aren't, for example, nouns before doing some further analysis."
   ]
  },
  {
   "cell_type": "markdown",
   "metadata": {},
   "source": [
    "When it comes to PoS tagging, **nltk** is far from the only option. Another very powerful NLP library, [**spacy**](https://spacy.io/) definitely warrants a mention. Like **nltk**, **spacy** requires you to install add-ons called models to perform extra tasks. To install **spacy**, it's `pip install spacy` and to load the most commonly used model it's `python -m spacy download en_core_web_sm`, both to be run on the command line.\n",
    "\n",
    "Let's see the same PoS example but in **spacy**"
   ]
  },
  {
   "cell_type": "code",
   "execution_count": 40,
   "metadata": {},
   "outputs": [
    {
     "data": {
      "text/html": [
       "<div>\n",
       "<style scoped>\n",
       "    .dataframe tbody tr th:only-of-type {\n",
       "        vertical-align: middle;\n",
       "    }\n",
       "\n",
       "    .dataframe tbody tr th {\n",
       "        vertical-align: top;\n",
       "    }\n",
       "\n",
       "    .dataframe thead th {\n",
       "        text-align: right;\n",
       "    }\n",
       "</style>\n",
       "<table border=\"1\" class=\"dataframe\">\n",
       "  <thead>\n",
       "    <tr style=\"text-align: right;\">\n",
       "      <th></th>\n",
       "      <th>text</th>\n",
       "      <th>lemma</th>\n",
       "      <th>pos</th>\n",
       "      <th>tag</th>\n",
       "    </tr>\n",
       "  </thead>\n",
       "  <tbody>\n",
       "    <tr>\n",
       "      <th>0</th>\n",
       "      <td>If</td>\n",
       "      <td>if</td>\n",
       "      <td>SCONJ</td>\n",
       "      <td>IN</td>\n",
       "    </tr>\n",
       "    <tr>\n",
       "      <th>1</th>\n",
       "      <td>we</td>\n",
       "      <td>we</td>\n",
       "      <td>PRON</td>\n",
       "      <td>PRP</td>\n",
       "    </tr>\n",
       "    <tr>\n",
       "      <th>2</th>\n",
       "      <td>are</td>\n",
       "      <td>be</td>\n",
       "      <td>AUX</td>\n",
       "      <td>VBP</td>\n",
       "    </tr>\n",
       "    <tr>\n",
       "      <th>...</th>\n",
       "      <td>...</td>\n",
       "      <td>...</td>\n",
       "      <td>...</td>\n",
       "      <td>...</td>\n",
       "    </tr>\n",
       "    <tr>\n",
       "      <th>14</th>\n",
       "      <td>folk</td>\n",
       "      <td>folk</td>\n",
       "      <td>NOUN</td>\n",
       "      <td>NN</td>\n",
       "    </tr>\n",
       "    <tr>\n",
       "      <th>15</th>\n",
       "      <td>band</td>\n",
       "      <td>band</td>\n",
       "      <td>NOUN</td>\n",
       "      <td>NN</td>\n",
       "    </tr>\n",
       "    <tr>\n",
       "      <th>16</th>\n",
       "      <td>.</td>\n",
       "      <td>.</td>\n",
       "      <td>PUNCT</td>\n",
       "      <td>.</td>\n",
       "    </tr>\n",
       "  </tbody>\n",
       "</table>\n",
       "<p>17 rows × 4 columns</p>\n",
       "</div>"
      ],
      "text/plain": [
       "    text lemma    pos  tag\n",
       "0     If    if  SCONJ   IN\n",
       "1     we    we   PRON  PRP\n",
       "2    are    be    AUX  VBP\n",
       "..   ...   ...    ...  ...\n",
       "14  folk  folk   NOUN   NN\n",
       "15  band  band   NOUN   NN\n",
       "16     .     .  PUNCT    .\n",
       "\n",
       "[17 rows x 4 columns]"
      ]
     },
     "execution_count": 40,
     "metadata": {},
     "output_type": "execute_result"
    }
   ],
   "source": [
    "import spacy\n",
    "\n",
    "nlp = spacy.load(\"en_core_web_sm\")\n",
    "\n",
    "doc = nlp(example_sent)\n",
    "\n",
    "pos_df = pd.DataFrame(\n",
    "    [(token.text, token.lemma_, token.pos_, token.tag_) for token in doc],\n",
    "    columns=[\"text\", \"lemma\", \"pos\", \"tag\"],\n",
    ")\n",
    "pos_df"
   ]
  },
  {
   "cell_type": "markdown",
   "metadata": {},
   "source": [
    "For those brave enough for the pun, **spacy** also has some nifty visualisation tools."
   ]
  },
  {
   "cell_type": "code",
   "execution_count": 41,
   "metadata": {},
   "outputs": [
    {
     "data": {
      "text/html": [
       "<span class=\"tex2jax_ignore\"><svg xmlns=\"http://www.w3.org/2000/svg\" xmlns:xlink=\"http://www.w3.org/1999/xlink\" xml:lang=\"en\" id=\"e3c21a6348de4749a47c17c4d0c6d243-0\" class=\"displacy\" width=\"1800\" height=\"399.5\" direction=\"ltr\" style=\"max-width: none; height: 399.5px; color: #000000; background: #ffffff; font-family: Arial; direction: ltr\">\n",
       "<text class=\"displacy-token\" fill=\"currentColor\" text-anchor=\"middle\" y=\"309.5\">\n",
       "    <tspan class=\"displacy-word\" fill=\"currentColor\" x=\"50\">When</tspan>\n",
       "    <tspan class=\"displacy-tag\" dy=\"2em\" fill=\"currentColor\" x=\"50\">SCONJ</tspan>\n",
       "</text>\n",
       "\n",
       "<text class=\"displacy-token\" fill=\"currentColor\" text-anchor=\"middle\" y=\"309.5\">\n",
       "    <tspan class=\"displacy-word\" fill=\"currentColor\" x=\"225\">you</tspan>\n",
       "    <tspan class=\"displacy-tag\" dy=\"2em\" fill=\"currentColor\" x=\"225\">PRON</tspan>\n",
       "</text>\n",
       "\n",
       "<text class=\"displacy-token\" fill=\"currentColor\" text-anchor=\"middle\" y=\"309.5\">\n",
       "    <tspan class=\"displacy-word\" fill=\"currentColor\" x=\"400\">light</tspan>\n",
       "    <tspan class=\"displacy-tag\" dy=\"2em\" fill=\"currentColor\" x=\"400\">VERB</tspan>\n",
       "</text>\n",
       "\n",
       "<text class=\"displacy-token\" fill=\"currentColor\" text-anchor=\"middle\" y=\"309.5\">\n",
       "    <tspan class=\"displacy-word\" fill=\"currentColor\" x=\"575\">a</tspan>\n",
       "    <tspan class=\"displacy-tag\" dy=\"2em\" fill=\"currentColor\" x=\"575\">DET</tspan>\n",
       "</text>\n",
       "\n",
       "<text class=\"displacy-token\" fill=\"currentColor\" text-anchor=\"middle\" y=\"309.5\">\n",
       "    <tspan class=\"displacy-word\" fill=\"currentColor\" x=\"750\">candle,</tspan>\n",
       "    <tspan class=\"displacy-tag\" dy=\"2em\" fill=\"currentColor\" x=\"750\">NOUN</tspan>\n",
       "</text>\n",
       "\n",
       "<text class=\"displacy-token\" fill=\"currentColor\" text-anchor=\"middle\" y=\"309.5\">\n",
       "    <tspan class=\"displacy-word\" fill=\"currentColor\" x=\"925\">you</tspan>\n",
       "    <tspan class=\"displacy-tag\" dy=\"2em\" fill=\"currentColor\" x=\"925\">PRON</tspan>\n",
       "</text>\n",
       "\n",
       "<text class=\"displacy-token\" fill=\"currentColor\" text-anchor=\"middle\" y=\"309.5\">\n",
       "    <tspan class=\"displacy-word\" fill=\"currentColor\" x=\"1100\">also</tspan>\n",
       "    <tspan class=\"displacy-tag\" dy=\"2em\" fill=\"currentColor\" x=\"1100\">ADV</tspan>\n",
       "</text>\n",
       "\n",
       "<text class=\"displacy-token\" fill=\"currentColor\" text-anchor=\"middle\" y=\"309.5\">\n",
       "    <tspan class=\"displacy-word\" fill=\"currentColor\" x=\"1275\">cast</tspan>\n",
       "    <tspan class=\"displacy-tag\" dy=\"2em\" fill=\"currentColor\" x=\"1275\">VERB</tspan>\n",
       "</text>\n",
       "\n",
       "<text class=\"displacy-token\" fill=\"currentColor\" text-anchor=\"middle\" y=\"309.5\">\n",
       "    <tspan class=\"displacy-word\" fill=\"currentColor\" x=\"1450\">a</tspan>\n",
       "    <tspan class=\"displacy-tag\" dy=\"2em\" fill=\"currentColor\" x=\"1450\">DET</tspan>\n",
       "</text>\n",
       "\n",
       "<text class=\"displacy-token\" fill=\"currentColor\" text-anchor=\"middle\" y=\"309.5\">\n",
       "    <tspan class=\"displacy-word\" fill=\"currentColor\" x=\"1625\">shadow.</tspan>\n",
       "    <tspan class=\"displacy-tag\" dy=\"2em\" fill=\"currentColor\" x=\"1625\">NOUN</tspan>\n",
       "</text>\n",
       "\n",
       "<g class=\"displacy-arrow\">\n",
       "    <path class=\"displacy-arc\" id=\"arrow-e3c21a6348de4749a47c17c4d0c6d243-0-0\" stroke-width=\"2px\" d=\"M70,264.5 C70,89.5 395.0,89.5 395.0,264.5\" fill=\"none\" stroke=\"currentColor\"/>\n",
       "    <text dy=\"1.25em\" style=\"font-size: 0.8em; letter-spacing: 1px\">\n",
       "        <textPath xlink:href=\"#arrow-e3c21a6348de4749a47c17c4d0c6d243-0-0\" class=\"displacy-label\" startOffset=\"50%\" side=\"left\" fill=\"currentColor\" text-anchor=\"middle\">advmod</textPath>\n",
       "    </text>\n",
       "    <path class=\"displacy-arrowhead\" d=\"M70,266.5 L62,254.5 78,254.5\" fill=\"currentColor\"/>\n",
       "</g>\n",
       "\n",
       "<g class=\"displacy-arrow\">\n",
       "    <path class=\"displacy-arc\" id=\"arrow-e3c21a6348de4749a47c17c4d0c6d243-0-1\" stroke-width=\"2px\" d=\"M245,264.5 C245,177.0 390.0,177.0 390.0,264.5\" fill=\"none\" stroke=\"currentColor\"/>\n",
       "    <text dy=\"1.25em\" style=\"font-size: 0.8em; letter-spacing: 1px\">\n",
       "        <textPath xlink:href=\"#arrow-e3c21a6348de4749a47c17c4d0c6d243-0-1\" class=\"displacy-label\" startOffset=\"50%\" side=\"left\" fill=\"currentColor\" text-anchor=\"middle\">nsubj</textPath>\n",
       "    </text>\n",
       "    <path class=\"displacy-arrowhead\" d=\"M245,266.5 L237,254.5 253,254.5\" fill=\"currentColor\"/>\n",
       "</g>\n",
       "\n",
       "<g class=\"displacy-arrow\">\n",
       "    <path class=\"displacy-arc\" id=\"arrow-e3c21a6348de4749a47c17c4d0c6d243-0-2\" stroke-width=\"2px\" d=\"M420,264.5 C420,2.0 1275.0,2.0 1275.0,264.5\" fill=\"none\" stroke=\"currentColor\"/>\n",
       "    <text dy=\"1.25em\" style=\"font-size: 0.8em; letter-spacing: 1px\">\n",
       "        <textPath xlink:href=\"#arrow-e3c21a6348de4749a47c17c4d0c6d243-0-2\" class=\"displacy-label\" startOffset=\"50%\" side=\"left\" fill=\"currentColor\" text-anchor=\"middle\">advcl</textPath>\n",
       "    </text>\n",
       "    <path class=\"displacy-arrowhead\" d=\"M420,266.5 L412,254.5 428,254.5\" fill=\"currentColor\"/>\n",
       "</g>\n",
       "\n",
       "<g class=\"displacy-arrow\">\n",
       "    <path class=\"displacy-arc\" id=\"arrow-e3c21a6348de4749a47c17c4d0c6d243-0-3\" stroke-width=\"2px\" d=\"M595,264.5 C595,177.0 740.0,177.0 740.0,264.5\" fill=\"none\" stroke=\"currentColor\"/>\n",
       "    <text dy=\"1.25em\" style=\"font-size: 0.8em; letter-spacing: 1px\">\n",
       "        <textPath xlink:href=\"#arrow-e3c21a6348de4749a47c17c4d0c6d243-0-3\" class=\"displacy-label\" startOffset=\"50%\" side=\"left\" fill=\"currentColor\" text-anchor=\"middle\">det</textPath>\n",
       "    </text>\n",
       "    <path class=\"displacy-arrowhead\" d=\"M595,266.5 L587,254.5 603,254.5\" fill=\"currentColor\"/>\n",
       "</g>\n",
       "\n",
       "<g class=\"displacy-arrow\">\n",
       "    <path class=\"displacy-arc\" id=\"arrow-e3c21a6348de4749a47c17c4d0c6d243-0-4\" stroke-width=\"2px\" d=\"M420,264.5 C420,89.5 745.0,89.5 745.0,264.5\" fill=\"none\" stroke=\"currentColor\"/>\n",
       "    <text dy=\"1.25em\" style=\"font-size: 0.8em; letter-spacing: 1px\">\n",
       "        <textPath xlink:href=\"#arrow-e3c21a6348de4749a47c17c4d0c6d243-0-4\" class=\"displacy-label\" startOffset=\"50%\" side=\"left\" fill=\"currentColor\" text-anchor=\"middle\">dobj</textPath>\n",
       "    </text>\n",
       "    <path class=\"displacy-arrowhead\" d=\"M745.0,266.5 L753.0,254.5 737.0,254.5\" fill=\"currentColor\"/>\n",
       "</g>\n",
       "\n",
       "<g class=\"displacy-arrow\">\n",
       "    <path class=\"displacy-arc\" id=\"arrow-e3c21a6348de4749a47c17c4d0c6d243-0-5\" stroke-width=\"2px\" d=\"M945,264.5 C945,89.5 1270.0,89.5 1270.0,264.5\" fill=\"none\" stroke=\"currentColor\"/>\n",
       "    <text dy=\"1.25em\" style=\"font-size: 0.8em; letter-spacing: 1px\">\n",
       "        <textPath xlink:href=\"#arrow-e3c21a6348de4749a47c17c4d0c6d243-0-5\" class=\"displacy-label\" startOffset=\"50%\" side=\"left\" fill=\"currentColor\" text-anchor=\"middle\">nsubj</textPath>\n",
       "    </text>\n",
       "    <path class=\"displacy-arrowhead\" d=\"M945,266.5 L937,254.5 953,254.5\" fill=\"currentColor\"/>\n",
       "</g>\n",
       "\n",
       "<g class=\"displacy-arrow\">\n",
       "    <path class=\"displacy-arc\" id=\"arrow-e3c21a6348de4749a47c17c4d0c6d243-0-6\" stroke-width=\"2px\" d=\"M1120,264.5 C1120,177.0 1265.0,177.0 1265.0,264.5\" fill=\"none\" stroke=\"currentColor\"/>\n",
       "    <text dy=\"1.25em\" style=\"font-size: 0.8em; letter-spacing: 1px\">\n",
       "        <textPath xlink:href=\"#arrow-e3c21a6348de4749a47c17c4d0c6d243-0-6\" class=\"displacy-label\" startOffset=\"50%\" side=\"left\" fill=\"currentColor\" text-anchor=\"middle\">advmod</textPath>\n",
       "    </text>\n",
       "    <path class=\"displacy-arrowhead\" d=\"M1120,266.5 L1112,254.5 1128,254.5\" fill=\"currentColor\"/>\n",
       "</g>\n",
       "\n",
       "<g class=\"displacy-arrow\">\n",
       "    <path class=\"displacy-arc\" id=\"arrow-e3c21a6348de4749a47c17c4d0c6d243-0-7\" stroke-width=\"2px\" d=\"M1470,264.5 C1470,177.0 1615.0,177.0 1615.0,264.5\" fill=\"none\" stroke=\"currentColor\"/>\n",
       "    <text dy=\"1.25em\" style=\"font-size: 0.8em; letter-spacing: 1px\">\n",
       "        <textPath xlink:href=\"#arrow-e3c21a6348de4749a47c17c4d0c6d243-0-7\" class=\"displacy-label\" startOffset=\"50%\" side=\"left\" fill=\"currentColor\" text-anchor=\"middle\">det</textPath>\n",
       "    </text>\n",
       "    <path class=\"displacy-arrowhead\" d=\"M1470,266.5 L1462,254.5 1478,254.5\" fill=\"currentColor\"/>\n",
       "</g>\n",
       "\n",
       "<g class=\"displacy-arrow\">\n",
       "    <path class=\"displacy-arc\" id=\"arrow-e3c21a6348de4749a47c17c4d0c6d243-0-8\" stroke-width=\"2px\" d=\"M1295,264.5 C1295,89.5 1620.0,89.5 1620.0,264.5\" fill=\"none\" stroke=\"currentColor\"/>\n",
       "    <text dy=\"1.25em\" style=\"font-size: 0.8em; letter-spacing: 1px\">\n",
       "        <textPath xlink:href=\"#arrow-e3c21a6348de4749a47c17c4d0c6d243-0-8\" class=\"displacy-label\" startOffset=\"50%\" side=\"left\" fill=\"currentColor\" text-anchor=\"middle\">dobj</textPath>\n",
       "    </text>\n",
       "    <path class=\"displacy-arrowhead\" d=\"M1620.0,266.5 L1628.0,254.5 1612.0,254.5\" fill=\"currentColor\"/>\n",
       "</g>\n",
       "</svg></span>"
      ],
      "text/plain": [
       "<IPython.core.display.HTML object>"
      ]
     },
     "metadata": {},
     "output_type": "display_data"
    }
   ],
   "source": [
    "from spacy import displacy\n",
    "\n",
    "doc = nlp(\"When you light a candle, you also cast a shadow.\")\n",
    "\n",
    "displacy.render(doc, style=\"dep\")"
   ]
  },
  {
   "cell_type": "markdown",
   "metadata": {},
   "source": [
    "## Named Entity Recognition\n",
    "\n",
    "This is another NLP tool that helps to pick apart the parts of language, in this case it's a method for extracting all of the entities named in a text, whether they be people, countries, cars, whatever.\n",
    "\n",
    "Let's see an example."
   ]
  },
  {
   "cell_type": "code",
   "execution_count": 42,
   "metadata": {},
   "outputs": [
    {
     "data": {
      "text/html": [
       "<span class=\"tex2jax_ignore\"><div class=\"entities\" style=\"line-height: 2.5; direction: ltr\">\n",
       "<mark class=\"entity\" style=\"background: #7aecec; padding: 0.45em 0.6em; margin: 0 0.25em; line-height: 1; border-radius: 0.35em;\">\n",
       "    TAE Technologies\n",
       "    <span style=\"font-size: 0.8em; font-weight: bold; line-height: 1; border-radius: 0.35em; vertical-align: middle; margin-left: 0.5rem\">ORG</span>\n",
       "</mark>\n",
       ", a \n",
       "<mark class=\"entity\" style=\"background: #feca74; padding: 0.45em 0.6em; margin: 0 0.25em; line-height: 1; border-radius: 0.35em;\">\n",
       "    California\n",
       "    <span style=\"font-size: 0.8em; font-weight: bold; line-height: 1; border-radius: 0.35em; vertical-align: middle; margin-left: 0.5rem\">GPE</span>\n",
       "</mark>\n",
       "-based firm building technology to generate power from nuclear fusion, said on \n",
       "<mark class=\"entity\" style=\"background: #bfe1d9; padding: 0.45em 0.6em; margin: 0 0.25em; line-height: 1; border-radius: 0.35em;\">\n",
       "    Thursday\n",
       "    <span style=\"font-size: 0.8em; font-weight: bold; line-height: 1; border-radius: 0.35em; vertical-align: middle; margin-left: 0.5rem\">DATE</span>\n",
       "</mark>\n",
       " it had raised \n",
       "<mark class=\"entity\" style=\"background: #e4e7d2; padding: 0.45em 0.6em; margin: 0 0.25em; line-height: 1; border-radius: 0.35em;\">\n",
       "    $280 million\n",
       "    <span style=\"font-size: 0.8em; font-weight: bold; line-height: 1; border-radius: 0.35em; vertical-align: middle; margin-left: 0.5rem\">MONEY</span>\n",
       "</mark>\n",
       " from new and existing investors, including \n",
       "<mark class=\"entity\" style=\"background: #7aecec; padding: 0.45em 0.6em; margin: 0 0.25em; line-height: 1; border-radius: 0.35em;\">\n",
       "    Google and New Enterprise Associates\n",
       "    <span style=\"font-size: 0.8em; font-weight: bold; line-height: 1; border-radius: 0.35em; vertical-align: middle; margin-left: 0.5rem\">ORG</span>\n",
       "</mark>\n",
       ".</div></span>"
      ],
      "text/plain": [
       "<IPython.core.display.HTML object>"
      ]
     },
     "metadata": {},
     "output_type": "display_data"
    }
   ],
   "source": [
    "text = \"TAE Technologies, a California-based firm building technology to generate power from nuclear fusion, said on Thursday it had raised $280 million from new and existing investors, including Google and New Enterprise Associates.\"\n",
    "\n",
    "doc = nlp(text)\n",
    "\n",
    "displacy.render(doc, style=\"ent\")"
   ]
  },
  {
   "cell_type": "markdown",
   "metadata": {},
   "source": [
    "Pretty impressive stuff, but a health warning that there are plenty of texts that are not quite as clean as this one! As with the PoS tagger, you can extract the named entities in a tabular format for onward use:"
   ]
  },
  {
   "cell_type": "code",
   "execution_count": 43,
   "metadata": {},
   "outputs": [
    {
     "data": {
      "text/html": [
       "<div>\n",
       "<style scoped>\n",
       "    .dataframe tbody tr th:only-of-type {\n",
       "        vertical-align: middle;\n",
       "    }\n",
       "\n",
       "    .dataframe tbody tr th {\n",
       "        vertical-align: top;\n",
       "    }\n",
       "\n",
       "    .dataframe thead th {\n",
       "        text-align: right;\n",
       "    }\n",
       "</style>\n",
       "<table border=\"1\" class=\"dataframe\">\n",
       "  <thead>\n",
       "    <tr style=\"text-align: right;\">\n",
       "      <th></th>\n",
       "      <th>text</th>\n",
       "      <th>start_pos</th>\n",
       "      <th>end_pos</th>\n",
       "      <th>label</th>\n",
       "    </tr>\n",
       "  </thead>\n",
       "  <tbody>\n",
       "    <tr>\n",
       "      <th>0</th>\n",
       "      <td>TAE Technologies</td>\n",
       "      <td>0</td>\n",
       "      <td>16</td>\n",
       "      <td>ORG</td>\n",
       "    </tr>\n",
       "    <tr>\n",
       "      <th>1</th>\n",
       "      <td>California</td>\n",
       "      <td>20</td>\n",
       "      <td>30</td>\n",
       "      <td>GPE</td>\n",
       "    </tr>\n",
       "    <tr>\n",
       "      <th>2</th>\n",
       "      <td>Thursday</td>\n",
       "      <td>109</td>\n",
       "      <td>117</td>\n",
       "      <td>DATE</td>\n",
       "    </tr>\n",
       "    <tr>\n",
       "      <th>3</th>\n",
       "      <td>$280 million</td>\n",
       "      <td>132</td>\n",
       "      <td>144</td>\n",
       "      <td>MONEY</td>\n",
       "    </tr>\n",
       "    <tr>\n",
       "      <th>4</th>\n",
       "      <td>Google and New Enterprise Associates</td>\n",
       "      <td>188</td>\n",
       "      <td>224</td>\n",
       "      <td>ORG</td>\n",
       "    </tr>\n",
       "  </tbody>\n",
       "</table>\n",
       "</div>"
      ],
      "text/plain": [
       "                                   text  start_pos  end_pos  label\n",
       "0                      TAE Technologies          0       16    ORG\n",
       "1                            California         20       30    GPE\n",
       "2                              Thursday        109      117   DATE\n",
       "3                          $280 million        132      144  MONEY\n",
       "4  Google and New Enterprise Associates        188      224    ORG"
      ]
     },
     "execution_count": 43,
     "metadata": {},
     "output_type": "execute_result"
    }
   ],
   "source": [
    "pd.DataFrame(\n",
    "    [(ent.text, ent.start_char, ent.end_char, ent.label_) for ent in doc.ents],\n",
    "    columns=[\"text\", \"start_pos\", \"end_pos\", \"label\"],\n",
    ")"
   ]
  },
  {
   "cell_type": "markdown",
   "metadata": {},
   "source": [
    "The table below gives the different label meanings in Named Entity Recognition:\n",
    "\n",
    "| Label \t| Meaning             \t|\n",
    "|-------\t|---------------------\t|\n",
    "| geo   \t| Geographical entity \t|\n",
    "| org   \t| Organisation        \t|\n",
    "| per   \t| Person              \t|\n",
    "| gpe   \t| Geopolitical entity \t|\n",
    "| date   \t| Time indicator      \t|\n",
    "| art   \t| Artifact            \t|\n",
    "| eve   \t| Event               \t|\n",
    "| nat   \t| Natural phenomenon  \t|\n",
    "| money   \t| Reference to money amount  \t|"
   ]
  },
  {
   "cell_type": "markdown",
   "metadata": {},
   "source": [
    "## Readability Statistics\n",
    "\n",
    "Like them or loathe them, readability statistics are widely used despite what flaws individual approaches may have. Let's take a look at at a package that can compute a wide range of them, [**textstat**](https://github.com/shivam5992/textstat). We'll see what it can do with English, but it supports other languages too. And we won't use all of its measures, just a few of the most well-known.\n",
    "\n",
    "As ever, you will need to run `pip install textstat` on the command line if you don't already have this package installed."
   ]
  },
  {
   "cell_type": "code",
   "execution_count": 44,
   "metadata": {},
   "outputs": [
    {
     "data": {
      "text/html": [
       "<div>\n",
       "<style scoped>\n",
       "    .dataframe tbody tr th:only-of-type {\n",
       "        vertical-align: middle;\n",
       "    }\n",
       "\n",
       "    .dataframe tbody tr th {\n",
       "        vertical-align: top;\n",
       "    }\n",
       "\n",
       "    .dataframe thead th {\n",
       "        text-align: right;\n",
       "    }\n",
       "</style>\n",
       "<table border=\"1\" class=\"dataframe\">\n",
       "  <thead>\n",
       "    <tr style=\"text-align: right;\">\n",
       "      <th></th>\n",
       "      <th>score</th>\n",
       "    </tr>\n",
       "  </thead>\n",
       "  <tbody>\n",
       "    <tr>\n",
       "      <th>flesch_reading_ease</th>\n",
       "      <td>52.23</td>\n",
       "    </tr>\n",
       "    <tr>\n",
       "      <th>flesch_kincaid_grade</th>\n",
       "      <td>12.80</td>\n",
       "    </tr>\n",
       "    <tr>\n",
       "      <th>automated_readability_index</th>\n",
       "      <td>15.50</td>\n",
       "    </tr>\n",
       "    <tr>\n",
       "      <th>dale_chall_readability_score</th>\n",
       "      <td>7.30</td>\n",
       "    </tr>\n",
       "    <tr>\n",
       "      <th>difficult_words</th>\n",
       "      <td>9.00</td>\n",
       "    </tr>\n",
       "  </tbody>\n",
       "</table>\n",
       "</div>"
      ],
      "text/plain": [
       "                              score\n",
       "flesch_reading_ease           52.23\n",
       "flesch_kincaid_grade          12.80\n",
       "automated_readability_index   15.50\n",
       "dale_chall_readability_score   7.30\n",
       "difficult_words                9.00"
      ]
     },
     "execution_count": 44,
     "metadata": {},
     "output_type": "execute_result"
    }
   ],
   "source": [
    "import textstat\n",
    "\n",
    "test_data = (\n",
    "    \"Playing games has always been thought to be important to \"\n",
    "    \"the development of well-balanced and creative children; \"\n",
    "    \"however, what part, if any, they should play in the lives \"\n",
    "    \"of adults has never been researched that deeply. I believe \"\n",
    "    \"that playing games is every bit as important for adults \"\n",
    "    \"as for children. Not only is taking time out to play games \"\n",
    "    \"with our children and other adults valuable to building \"\n",
    "    \"interpersonal relationships but is also a wonderful way \"\n",
    "    \"to release built up tension.\"\n",
    ")\n",
    "\n",
    "stat_func_names = [\n",
    "    textstat.flesch_reading_ease,\n",
    "    textstat.flesch_kincaid_grade,\n",
    "    textstat.automated_readability_index,\n",
    "    textstat.dale_chall_readability_score,\n",
    "    textstat.difficult_words,\n",
    "]\n",
    "\n",
    "df = pd.DataFrame(\n",
    "    [[fn(test_data) for fn in stat_func_names]],\n",
    "    columns=[fn.__name__ for fn in stat_func_names],\n",
    "    index=[\"score\"],\n",
    ").T\n",
    "df"
   ]
  },
  {
   "cell_type": "markdown",
   "metadata": {},
   "source": [
    "## See Also\n",
    "\n",
    "We've only scratched the surface of NLP here; there are many other libraries and methods out there. A good easy-to-use introductory NLP package that we didn't feature is [**textblob**](https://textblob.readthedocs.io/en/dev/). In terms of methods, we haven't looked at noun phrase extraction or spelling correction-but **textblob** offers both of these."
   ]
  },
  {
   "cell_type": "markdown",
   "metadata": {},
   "source": [
    "## Review\n",
    "\n",
    "This chapter has provided an overview of some common methods in natural language processing. If you've worked through this chapter, you should now be comfortable:\n",
    "\n",
    "- ✅ splitting text into lines or sentences;\n",
    "- ✅ tokenising text;\n",
    "- ✅ removing stopwords from text;\n",
    "- ✅ computing tf-idf matrices and using the vector spaces that they create for simple similarity calculations;\n",
    "- ✅ disentangling the different parts of speech, including any named entities;\n",
    "- ✅ stemming and lemmatising text; and\n",
    "- ✅ computing statistics on the readability of text."
   ]
  }
 ],
 "metadata": {
  "kernelspec": {
   "display_name": "Python 3.8.13 ('codeforecon')",
   "language": "python",
   "name": "python3"
  },
  "language_info": {
   "codemirror_mode": {
    "name": "ipython",
    "version": 3
   },
   "file_extension": ".py",
   "mimetype": "text/x-python",
   "name": "python",
   "nbconvert_exporter": "python",
   "pygments_lexer": "ipython3",
   "version": "3.8.13"
  },
  "vscode": {
   "interpreter": {
    "hash": "c4570b151692b3082981c89d172815ada9960dee4eb0bedb37dc10c95601d3bd"
   }
  }
 },
 "nbformat": 4,
 "nbformat_minor": 4
}
