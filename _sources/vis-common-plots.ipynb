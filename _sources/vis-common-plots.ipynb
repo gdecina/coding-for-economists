{
 "cells": [
  {
   "cell_type": "markdown",
   "metadata": {},
   "source": [
    "(vis-common-plots)=\n",
    "# Common Plots\n",
    "\n",
    "## Introduction\n",
    "\n",
    "In this chapter, we'll look at some of the most common plots that you might want to make--and how to create them using the most popular data visualisations libraries, including [**matplotlib**](https://matplotlib.org/), [**plotnine**](https://plotnine.readthedocs.io/en/stable/), [**seaborn**](https://seaborn.pydata.org/), [**altair**](https://altair-viz.github.io/), and [**plotly**](https://plotly.com/python/). If you need an introduction to these libraries, see the previous chapter.\n",
    " \n",
    "This chapter has benefited from [**viztech**](https://github.com/cstorm125/viztech), a repository that aims to recreate the entire Financial Times Visual Vocabulary using **plotnine**, from the **plotnine** documentation, from the **matplotlib** documentation, from the **seaborn** documentation, from the **altair** documentation, from the **plotly** documentation, and from examples posted around the web on forums and in blog posts. It's also worth noting that I'm more of an expert in **matplotlib** than anything else--I would really welcome contributions in the form of plots with particular libraries that I have not been able to find or implement myself.\n",
    "\n",
    "Bear in mind that for many of the **matplotlib** examples, using the `df.plot.*` syntax can get the plot you want more quickly! To be more comprehensive, the solution for any kind of data is shown in the examples below.\n",
    "\n",
    "Throughout, we'll assume that the data are in a tidy format (one row per observation, one variable per column). Remember that all Altair plots can be made interactive by adding `.interactive()` at the end.\n",
    "\n",
    "First, though, let's import the libraries we'll need."
   ]
  },
  {
   "cell_type": "code",
   "execution_count": 1,
   "metadata": {},
   "outputs": [],
   "source": [
    "import numpy as np\n",
    "import pandas as pd\n",
    "import seaborn as sns\n",
    "import matplotlib.pyplot as plt\n",
    "from plotnine import *\n",
    "import altair as alt\n",
    "import plotly.express as px\n",
    "from vega_datasets import data\n",
    "import os\n",
    "from pathlib import Path\n",
    "import warnings\n",
    "\n",
    "# Set seed for reproducibility\n",
    "np.random.seed(10)\n",
    "# Turn off warnings\n",
    "warnings.filterwarnings('ignore')"
   ]
  },
  {
   "cell_type": "code",
   "execution_count": 2,
   "id": "51a55374",
   "metadata": {
    "tags": [
     "remove-cell"
    ]
   },
   "outputs": [],
   "source": [
    "import matplotlib_inline.backend_inline\n",
    "\n",
    "# Plot settings\n",
    "plt.style.use(\n",
    "    \"https://github.com/aeturrell/coding-for-economists/raw/main/plot_style.txt\"\n",
    ")\n",
    "matplotlib_inline.backend_inline.set_matplotlib_formats(\"svg\")\n",
    "\n",
    "# Set max rows displayed for readability\n",
    "pd.set_option(\"display.max_rows\", 6)"
   ]
  },
  {
   "cell_type": "markdown",
   "metadata": {},
   "source": [
    "## Scatter plot\n",
    "\n",
    "In this example, we will see a simple scatter plot with several categories using the \"cars\" data:"
   ]
  },
  {
   "cell_type": "code",
   "execution_count": null,
   "metadata": {},
   "outputs": [],
   "source": [
    "cars = data.cars()\n",
    "cars.head()"
   ]
  },
  {
   "cell_type": "markdown",
   "metadata": {},
   "source": [
    "### Matplotlib"
   ]
  },
  {
   "cell_type": "code",
   "execution_count": null,
   "metadata": {},
   "outputs": [],
   "source": [
    "fig, ax = plt.subplots()\n",
    "for origin in cars[\"Origin\"].unique():\n",
    "    cars_sub = cars[cars[\"Origin\"] == origin]\n",
    "    ax.scatter(cars_sub[\"Horsepower\"], cars_sub[\"Miles_per_Gallon\"], label=origin)\n",
    "ax.set_ylabel(\"Miles per Gallon\")\n",
    "ax.set_xlabel(\"Horsepower\")\n",
    "ax.legend()\n",
    "plt.show()"
   ]
  },
  {
   "cell_type": "markdown",
   "metadata": {},
   "source": [
    "### Seaborn\n",
    "\n",
    "In this first example, I'll also show how to tweak the labels by using the underlying matplolib `Axes` object, here called `ax`."
   ]
  },
  {
   "cell_type": "code",
   "execution_count": null,
   "metadata": {},
   "outputs": [],
   "source": [
    "fig, ax = plt.subplots()\n",
    "sns.scatterplot(data=cars, x=\"Horsepower\", y=\"Miles_per_Gallon\", hue=\"Origin\", ax=ax)\n",
    "ax.set_ylabel(\"Miles per Gallon\")\n",
    "ax.set_xlabel(\"Horsepower\")\n",
    "plt.show()"
   ]
  },
  {
   "cell_type": "markdown",
   "metadata": {},
   "source": [
    "### Plotnine"
   ]
  },
  {
   "cell_type": "code",
   "execution_count": null,
   "metadata": {},
   "outputs": [],
   "source": [
    "(\n",
    "    ggplot(cars, aes(x=\"Horsepower\", y=\"Miles_per_Gallon\", color=\"Origin\"))\n",
    "    + geom_point()\n",
    "    + ylab(\"Miles per Gallon\")\n",
    ")"
   ]
  },
  {
   "cell_type": "markdown",
   "metadata": {},
   "source": [
    "### Altair\n",
    "\n",
    "For this first example, we'll also show how to make the altair plot interactive with movable axes and more info on mouse-hover."
   ]
  },
  {
   "cell_type": "code",
   "execution_count": null,
   "metadata": {},
   "outputs": [],
   "source": [
    "alt.Chart(cars).mark_circle(size=60).encode(\n",
    "    x=\"Horsepower\",\n",
    "    y=\"Miles_per_Gallon\",\n",
    "    color=\"Origin\",\n",
    "    tooltip=[\"Name\", \"Origin\", \"Horsepower\", \"Miles_per_Gallon\"],\n",
    ").interactive()"
   ]
  },
  {
   "cell_type": "markdown",
   "metadata": {},
   "source": [
    "### Plotly\n",
    "\n",
    "Plotly is another declarative plotting library, at least sometimes (!), but one that is interactive by default."
   ]
  },
  {
   "cell_type": "code",
   "execution_count": null,
   "metadata": {},
   "outputs": [],
   "source": [
    "fig = px.scatter(\n",
    "    cars,\n",
    "    x=\"Horsepower\",\n",
    "    y=\"Miles_per_Gallon\",\n",
    "    color=\"Origin\",\n",
    "    hover_data=[\"Name\", \"Origin\", \"Horsepower\", \"Miles_per_Gallon\"],\n",
    ")\n",
    "fig.show()"
   ]
  },
  {
   "cell_type": "markdown",
   "metadata": {},
   "source": [
    "## Facets\n",
    "\n",
    "This applies to all plots, so in some sense is common! Facets, aka panels or small multiples, are ways of showing the same chart multiple times. Let's see how to achieve them in a few of the most popular plotting libraries.\n",
    "\n",
    "We'll use the \"tips\" dataset for this."
   ]
  },
  {
   "cell_type": "code",
   "execution_count": null,
   "metadata": {},
   "outputs": [],
   "source": [
    "df = sns.load_dataset(\"tips\")\n",
    "df.head()"
   ]
  },
  {
   "cell_type": "markdown",
   "metadata": {},
   "source": [
    "### Matplotlib\n",
    "\n",
    "There are many ways to create facets using Matplotlib, and you can get facets in any shape or sizes you like. \n",
    "\n",
    "The easiest way, though, is to specify the number of rows and columns. This is achieved by specifying `nrows` and `ncols` when calling `plt.subplots`. It returns an array of shape `(nrows, ncols)` of `Axes` objects. For most purposes, you'll want to flatten these to a vector before iterating over them."
   ]
  },
  {
   "cell_type": "code",
   "execution_count": null,
   "metadata": {},
   "outputs": [],
   "source": [
    "fig, axes = plt.subplots(nrows=1, ncols=4, sharex=True, sharey=True)\n",
    "flat_axes = axes.flatten()  # Not needed with 1 row or 1 col, but good to be aware of\n",
    "\n",
    "facet_grp = list(df[\"day\"].unique())\n",
    "# This part just to get some colours from the default color cycle\n",
    "cycle = axes[0]._get_lines.prop_cycler\n",
    "for i, ax in enumerate(flat_axes):\n",
    "    sub_df = df.loc[df[\"day\"] == facet_grp[i]]\n",
    "    ax.scatter(\n",
    "        sub_df[\"tip\"],\n",
    "        sub_df[\"total_bill\"],\n",
    "        s=30,\n",
    "        edgecolor=\"k\",\n",
    "        color=next(cycle)[\"color\"],\n",
    "    )\n",
    "    ax.set_title(facet_grp[i])\n",
    "fig.text(0.5, 0.01, \"Tip\", ha=\"center\")\n",
    "fig.text(0.0, 0.5, \"Total bill\", va=\"center\", rotation=\"vertical\")\n",
    "plt.tight_layout()\n",
    "plt.show()"
   ]
  },
  {
   "cell_type": "markdown",
   "metadata": {},
   "source": [
    "Different facet sizes are possible in numerous ways. In practice, it's often better to have evenly sized facets laid out in a grid--especially each facet is of the same x and y axes. But, just to show it's possible, here's an example that gives more space to the weekend than to weekdays using the tips dataset: "
   ]
  },
  {
   "cell_type": "code",
   "execution_count": null,
   "metadata": {},
   "outputs": [],
   "source": [
    "# This part just to get some colours\n",
    "colormap = plt.cm.Dark2\n",
    "\n",
    "fig = plt.figure(constrained_layout=True)\n",
    "ax_dict = fig.subplot_mosaic([[\"Thur\", \"Fri\", \"Sat\", \"Sat\", \"Sun\", \"Sun\"]])\n",
    "facet_grp = list(ax_dict.keys())\n",
    "colorst = [colormap(i) for i in np.linspace(0, 0.9, len(facet_grp))]\n",
    "for i, grp in enumerate(facet_grp):\n",
    "    sub_df = df.loc[df[\"day\"] == facet_grp[i]]\n",
    "    ax_dict[grp].scatter(\n",
    "        sub_df[\"tip\"],\n",
    "        sub_df[\"total_bill\"],\n",
    "        s=30,\n",
    "        edgecolor=\"k\",\n",
    "        color=colorst[i],\n",
    "    )\n",
    "    ax_dict[grp].set_title(facet_grp[i])\n",
    "    if grp != \"Thurs\":\n",
    "        ax_dict[grp].set_yticklabels([])\n",
    "plt.tight_layout()\n",
    "fig.text(0.5, 0, \"Tip\", ha=\"center\")\n",
    "fig.text(0, 0.5, \"Total bill\", va=\"center\", rotation=\"vertical\")\n",
    "plt.show()"
   ]
  },
  {
   "cell_type": "markdown",
   "metadata": {},
   "source": [
    "As well as using lists, you can also specify the layout using an array or using text, eg"
   ]
  },
  {
   "cell_type": "code",
   "execution_count": null,
   "metadata": {},
   "outputs": [],
   "source": [
    "axd = plt.figure(constrained_layout=True).subplot_mosaic(\n",
    "    \"\"\"\n",
    "    ABD\n",
    "    CCD\n",
    "    CC.\n",
    "    \"\"\"\n",
    ")\n",
    "kw = dict(ha=\"center\", va=\"center\", fontsize=60, color=\"darkgrey\")\n",
    "for k, ax in axd.items():\n",
    "    ax.text(0.5, 0.5, k, transform=ax.transAxes, **kw)"
   ]
  },
  {
   "cell_type": "markdown",
   "metadata": {},
   "source": [
    "### Seaborn\n",
    "\n",
    "Seaborn makes it easy to quickly create facet plots. Note the use of `col_wrap`."
   ]
  },
  {
   "cell_type": "code",
   "execution_count": null,
   "metadata": {},
   "outputs": [],
   "source": [
    "sns.relplot(\n",
    "    data=df,\n",
    "    y=\"total_bill\",\n",
    "    x=\"tip\",\n",
    "    col=\"day\",\n",
    "    hue=\"day\",\n",
    "    col_wrap=2,\n",
    "    kind=\"scatter\",\n",
    "    height=3,\n",
    "    aspect=1.25,\n",
    ");"
   ]
  },
  {
   "cell_type": "markdown",
   "metadata": {},
   "source": [
    "A nice feature of seaborn that is much more fiddly in (base) matplotlib is the ability to specify rows and columns separately: (smoker)"
   ]
  },
  {
   "cell_type": "code",
   "execution_count": null,
   "metadata": {},
   "outputs": [],
   "source": [
    "sns.relplot(\n",
    "    data=df,\n",
    "    y=\"total_bill\",\n",
    "    x=\"tip\",\n",
    "    col=\"day\",\n",
    "    row=\"smoker\",\n",
    "    hue=\"smoker\",\n",
    "    kind=\"scatter\",\n",
    "    height=2.5,\n",
    "    aspect=1,\n",
    ");"
   ]
  },
  {
   "cell_type": "markdown",
   "metadata": {},
   "source": [
    "### Plotnine\n",
    "\n",
    "Plotnine has several ways to wrap facets but perhaps the most delightful is to specify a formula for the variations to be encoded in the facets."
   ]
  },
  {
   "cell_type": "code",
   "execution_count": null,
   "metadata": {},
   "outputs": [],
   "source": [
    "(\n",
    "    ggplot(df, aes(x=\"tip\", y=\"total_bill\", color=\"smoker\"))\n",
    "    + geom_point()\n",
    "    + facet_wrap(\n",
    "        \"~ smoker + day\", nrow=2\n",
    "    )  # use ~ + to add additional faceting variables\n",
    ")"
   ]
  },
  {
   "cell_type": "markdown",
   "metadata": {},
   "source": [
    "### Altair\n",
    "\n"
   ]
  },
  {
   "cell_type": "code",
   "execution_count": null,
   "metadata": {},
   "outputs": [],
   "source": [
    "alt.Chart(df).mark_point().encode(\n",
    "    x=\"tip:Q\",\n",
    "    y=\"total_bill:Q\",\n",
    "    color=\"smoker:N\",\n",
    "    facet=alt.Facet(\"day:N\", columns=2),\n",
    ").properties(\n",
    "    width=200,\n",
    "    height=100,\n",
    ")"
   ]
  },
  {
   "cell_type": "markdown",
   "metadata": {},
   "source": [
    "### Plotly"
   ]
  },
  {
   "cell_type": "code",
   "execution_count": null,
   "metadata": {},
   "outputs": [],
   "source": [
    "fig = px.scatter(\n",
    "    df, x=\"tip\", y=\"total_bill\", color=\"smoker\", facet_row=\"smoker\", facet_col=\"day\"\n",
    ")\n",
    "fig.show()"
   ]
  },
  {
   "cell_type": "markdown",
   "metadata": {},
   "source": [
    "## Connected scatter plot\n",
    "\n",
    "A simple variation on the scatter plot designed to show an ordering, usually of time. We'll trace out a Beveridge curve based on US data."
   ]
  },
  {
   "cell_type": "code",
   "execution_count": null,
   "metadata": {},
   "outputs": [],
   "source": [
    "import pandas_datareader.data as web\n",
    "import datetime\n",
    "\n",
    "start = datetime.datetime(2000, 1, 1)\n",
    "end = datetime.datetime(2021, 1, 1)\n",
    "code_dict = {\n",
    "    \"Vacancies\": \"LMJVTTUVUSA647N\",\n",
    "    \"Unemployment\": \"UNRATE\",\n",
    "    \"LabourForce\": \"CLF16OV\",\n",
    "}\n",
    "list_dfs = [\n",
    "    web.DataReader(value, \"fred\", start, end)\n",
    "    .rename(columns={value: key})\n",
    "    .groupby(pd.Grouper(freq=\"AS\"))\n",
    "    .mean()\n",
    "    for key, value in code_dict.items()\n",
    "]\n",
    "df = pd.concat(list_dfs, axis=1)\n",
    "df = df.assign(Vacancies=100 * df[\"Vacancies\"] / (df[\"LabourForce\"] * 1e3)).dropna()\n",
    "df[\"Year\"] = df.index.year\n",
    "df.head()"
   ]
  },
  {
   "cell_type": "markdown",
   "metadata": {},
   "source": [
    "### Matplotlib\n",
    "\n"
   ]
  },
  {
   "cell_type": "code",
   "execution_count": null,
   "metadata": {},
   "outputs": [],
   "source": [
    "plt.close(\"all\")\n",
    "fig, ax = plt.subplots()\n",
    "quivx = -df[\"Unemployment\"].diff(-1)\n",
    "quivy = -df[\"Vacancies\"].diff(-1)\n",
    "# This connects the points\n",
    "ax.quiver(\n",
    "    df[\"Unemployment\"],\n",
    "    df[\"Vacancies\"],\n",
    "    quivx,\n",
    "    quivy,\n",
    "    scale_units=\"xy\",\n",
    "    angles=\"xy\",\n",
    "    scale=1,\n",
    "    width=0.006,\n",
    "    alpha=0.3,\n",
    ")\n",
    "ax.scatter(\n",
    "    df[\"Unemployment\"],\n",
    "    df[\"Vacancies\"],\n",
    "    marker=\"o\",\n",
    "    s=35,\n",
    "    edgecolor=\"black\",\n",
    "    linewidth=0.2,\n",
    "    alpha=0.9,\n",
    ")\n",
    "for j in [0, -1]:\n",
    "    ax.annotate(\n",
    "        df[\"Year\"].iloc[j],\n",
    "        xy=(df[[\"Unemployment\", \"Vacancies\"]].iloc[j].tolist()),\n",
    "        xycoords=\"data\",\n",
    "        xytext=(-20, -40),\n",
    "        textcoords=\"offset points\",\n",
    "        arrowprops=dict(arrowstyle=\"->\", connectionstyle=\"angle3,angleA=0,angleB=-90\"),\n",
    "    )\n",
    "ax.set_xlabel(\"Unemployment rate, %\")\n",
    "ax.set_ylabel(\"Vacancy rate, %\")\n",
    "plt.tight_layout()\n",
    "plt.show()"
   ]
  },
  {
   "cell_type": "markdown",
   "metadata": {},
   "source": [
    "### Seaborn"
   ]
  },
  {
   "cell_type": "code",
   "execution_count": null,
   "metadata": {},
   "outputs": [],
   "source": [
    "fig, ax = plt.subplots()\n",
    "sns.lineplot(data=df, x=\"Unemployment\", y=\"Vacancies\", sort=False, marker=\"o\", ax=ax)\n",
    "ax.set_ylabel(\"Vacancy rate, %\")\n",
    "ax.set_xlabel(\"Unemployment rate, %\")"
   ]
  },
  {
   "cell_type": "markdown",
   "metadata": {},
   "source": [
    "### Plotnine"
   ]
  },
  {
   "cell_type": "code",
   "execution_count": null,
   "metadata": {},
   "outputs": [],
   "source": [
    "g = (\n",
    "    ggplot(\n",
    "        df.reset_index()[[\"Vacancies\", \"Unemployment\", \"Year\"]],\n",
    "        aes(x=\"Unemployment\", y=\"Vacancies\"),\n",
    "    )\n",
    "    + geom_point(color=\"brown\")\n",
    "    + geom_path()\n",
    "    + geom_label(\n",
    "        aes(x=df.iloc[0, 1], y=df.iloc[0, 0]), label=df.iloc[0, -1], nudge_y=0.01\n",
    "    )\n",
    "    + geom_label(\n",
    "        aes(x=df.iloc[-1, 1], y=df.iloc[-1, 0]), label=df.iloc[-1, -1], nudge_y=0.01\n",
    "    )\n",
    ")\n",
    "g"
   ]
  },
  {
   "cell_type": "markdown",
   "metadata": {},
   "source": [
    "## Bubble plot\n",
    "\n",
    "This is a scatter plot where the size of the point carries an extra dimension of information."
   ]
  },
  {
   "cell_type": "markdown",
   "metadata": {},
   "source": [
    "### Matplotlib\n",
    "\n"
   ]
  },
  {
   "cell_type": "code",
   "execution_count": null,
   "metadata": {},
   "outputs": [],
   "source": [
    "fig, ax = plt.subplots()\n",
    "scat = ax.scatter(\n",
    "    cars[\"Horsepower\"], cars[\"Miles_per_Gallon\"], s=cars[\"Displacement\"], alpha=0.4\n",
    ")\n",
    "ax.set_ylabel(\"Miles per Gallon\")\n",
    "ax.set_xlabel(\"Horsepower\")\n",
    "ax.legend(\n",
    "    *scat.legend_elements(prop=\"sizes\", num=4),\n",
    "    loc=\"upper right\",\n",
    "    title=\"Displacement\",\n",
    "    frameon=False,\n",
    ")\n",
    "plt.show()"
   ]
  },
  {
   "cell_type": "markdown",
   "metadata": {},
   "source": [
    "### Seaborn\n",
    "\n"
   ]
  },
  {
   "cell_type": "code",
   "execution_count": null,
   "metadata": {},
   "outputs": [],
   "source": [
    "sns.scatterplot(data=cars, x=\"Horsepower\", y=\"Miles_per_Gallon\", size=\"Displacement\");"
   ]
  },
  {
   "cell_type": "markdown",
   "metadata": {},
   "source": [
    "### Plotnine"
   ]
  },
  {
   "cell_type": "code",
   "execution_count": null,
   "metadata": {},
   "outputs": [],
   "source": [
    "(\n",
    "    ggplot(cars, aes(x=\"Horsepower\", y=\"Miles_per_Gallon\", size=\"Displacement\"))\n",
    "    + geom_point()\n",
    ")"
   ]
  },
  {
   "cell_type": "markdown",
   "metadata": {},
   "source": [
    "### Altair\n"
   ]
  },
  {
   "cell_type": "code",
   "execution_count": null,
   "metadata": {},
   "outputs": [],
   "source": [
    "alt.Chart(cars).mark_circle().encode(\n",
    "    x=\"Horsepower\", y=\"Miles_per_Gallon\", size=\"Displacement\"\n",
    ")"
   ]
  },
  {
   "cell_type": "markdown",
   "metadata": {},
   "source": [
    "### Plotly"
   ]
  },
  {
   "cell_type": "code",
   "execution_count": null,
   "metadata": {},
   "outputs": [],
   "source": [
    "# Adding a new col is easiest way to get displacement into legend with plotly:\n",
    "cars[\"Displacement_Size\"] = pd.cut(cars[\"Displacement\"], bins=4)\n",
    "fig = px.scatter(\n",
    "    cars,\n",
    "    x=\"Horsepower\",\n",
    "    y=\"Miles_per_Gallon\",\n",
    "    size=\"Displacement\",\n",
    "    color=\"Displacement_Size\",\n",
    ")\n",
    "fig.show()"
   ]
  },
  {
   "cell_type": "markdown",
   "metadata": {},
   "source": [
    "## Line plot\n",
    "\n",
    "First, let's get some data on GDP growth:"
   ]
  },
  {
   "cell_type": "code",
   "execution_count": null,
   "metadata": {},
   "outputs": [],
   "source": [
    "import pandas_datareader.data as web\n",
    "\n",
    "ts_start_date = pd.to_datetime(\"1999-01-01\")\n",
    "\n",
    "df = pd.concat(\n",
    "    [\n",
    "        web.DataReader(\"ticker=RGDP\" + x, \"econdb\", start=ts_start_date)\n",
    "        for x in [\"US\", \"UK\"]\n",
    "    ],\n",
    "    axis=1,\n",
    ")\n",
    "df.columns = [\"US\", \"UK\"]\n",
    "df.index.name = \"Date\"\n",
    "df = 100 * df.pct_change(4)\n",
    "df = pd.melt(\n",
    "    df.reset_index(),\n",
    "    id_vars=[\"Date\"],\n",
    "    value_vars=df.columns,\n",
    "    value_name=\"Real GDP growth, %\",\n",
    "    var_name=\"Country\",\n",
    ")\n",
    "df = df.set_index(\"Date\")\n",
    "df.head()"
   ]
  },
  {
   "cell_type": "markdown",
   "metadata": {},
   "source": [
    "### Matplotlib\n",
    "\n",
    "Note that **Matplotlib** prefers data to be one variable per column, in which case we could have just run\n",
    "\n",
    "```python\n",
    "fig, ax = plt.subplots()\n",
    "df.plot(ax=ax)\n",
    "ax.set_title('Real GDP growth, %', loc='right')\n",
    "ax.yaxis.tick_right()\n",
    "```\n",
    "\n",
    "but we are working with tidy data here, so we'll do the plotting slightly differently."
   ]
  },
  {
   "cell_type": "code",
   "execution_count": null,
   "metadata": {},
   "outputs": [],
   "source": [
    "fig, ax = plt.subplots()\n",
    "for i, country in enumerate(df[\"Country\"].unique()):\n",
    "    df_sub = df[df[\"Country\"] == country]\n",
    "    ax.plot(df_sub.index, df_sub[\"Real GDP growth, %\"], label=country, lw=2)\n",
    "ax.set_title(\"Real GDP growth, %\", loc=\"right\")\n",
    "ax.yaxis.tick_right()\n",
    "ax.spines[\"right\"].set_visible(True)\n",
    "ax.spines[\"left\"].set_visible(False)\n",
    "ax.legend(loc=\"lower left\")\n",
    "plt.show()"
   ]
  },
  {
   "cell_type": "markdown",
   "metadata": {},
   "source": [
    "### Seaborn\n",
    "\n",
    "Note that [only *some* **seaborn** commands currently support the use of named indexes](https://seaborn.pydata.org/tutorial/data_structure.html), so we use `df.reset_index()` to make the 'Date' index into a regular column in the snippet below (although in recent versions of **seaborn**, `lineplot` would actually work fine with `data=df`):"
   ]
  },
  {
   "cell_type": "code",
   "execution_count": null,
   "metadata": {},
   "outputs": [],
   "source": [
    "fig, ax = plt.subplots()\n",
    "y_var = \"Real GDP growth, %\"\n",
    "sns.lineplot(x=\"Date\", y=y_var, hue=\"Country\", data=df.reset_index(), ax=ax)\n",
    "ax.yaxis.tick_right()\n",
    "ax.spines[\"right\"].set_visible(True)\n",
    "ax.spines[\"left\"].set_visible(False)\n",
    "ax.set_ylabel(\"\")\n",
    "ax.set_title(y_var)\n",
    "plt.show()"
   ]
  },
  {
   "cell_type": "markdown",
   "metadata": {},
   "source": [
    "### Plotnine"
   ]
  },
  {
   "cell_type": "code",
   "execution_count": null,
   "metadata": {},
   "outputs": [],
   "source": [
    "(\n",
    "    ggplot(df.reset_index(), aes(x=\"Date\", y=\"Real GDP growth, %\", color=\"Country\"))\n",
    "    + geom_line()\n",
    ")"
   ]
  },
  {
   "cell_type": "markdown",
   "metadata": {},
   "source": [
    "### Altair"
   ]
  },
  {
   "cell_type": "code",
   "execution_count": null,
   "metadata": {},
   "outputs": [],
   "source": [
    "alt.Chart(df.reset_index()).mark_line().encode(\n",
    "    x=\"Date:T\",\n",
    "    y=\"Real GDP growth, %\",\n",
    "    color=\"Country\",\n",
    "    strokeDash=\"Country\",\n",
    ")"
   ]
  },
  {
   "cell_type": "markdown",
   "metadata": {},
   "source": [
    "### Plotly"
   ]
  },
  {
   "cell_type": "code",
   "execution_count": null,
   "metadata": {},
   "outputs": [],
   "source": [
    "fig = px.line(\n",
    "    df.reset_index(),\n",
    "    x=\"Date\",\n",
    "    y=\"Real GDP growth, %\",\n",
    "    color=\"Country\",\n",
    "    line_dash=\"Country\",\n",
    ")\n",
    "fig.show()"
   ]
  },
  {
   "cell_type": "markdown",
   "metadata": {},
   "source": [
    "## Bar chart\n",
    "\n",
    "Let's see a bar chart, using the 'barley' dataset."
   ]
  },
  {
   "cell_type": "code",
   "execution_count": null,
   "metadata": {},
   "outputs": [],
   "source": [
    "barley = data.barley()\n",
    "barley = pd.DataFrame(barley.groupby([\"site\"])[\"yield\"].sum())\n",
    "barley.head()"
   ]
  },
  {
   "cell_type": "markdown",
   "metadata": {},
   "source": [
    "### Matplotlib\n",
    "\n",
    "Just remove the 'h' in `ax.barh` to get a vertical plot."
   ]
  },
  {
   "cell_type": "code",
   "execution_count": null,
   "metadata": {},
   "outputs": [],
   "source": [
    "fig, ax = plt.subplots()\n",
    "ax.barh(barley[\"yield\"].index, barley[\"yield\"], 0.35)\n",
    "ax.set_xlabel(\"Yield\")\n",
    "plt.show()"
   ]
  },
  {
   "cell_type": "markdown",
   "metadata": {},
   "source": [
    "### Seaborn\n",
    "\n",
    "Just switch x and y variables to get a vertical plot."
   ]
  },
  {
   "cell_type": "code",
   "execution_count": null,
   "metadata": {},
   "outputs": [],
   "source": [
    "sns.catplot(\n",
    "    data=barley.reset_index(),\n",
    "    kind=\"bar\",\n",
    "    y=\"site\",\n",
    "    x=\"yield\",\n",
    ")"
   ]
  },
  {
   "cell_type": "markdown",
   "metadata": {},
   "source": [
    "### Plotnine\n",
    "\n",
    "Just omit `coord_flip()` to get a vertical plot."
   ]
  },
  {
   "cell_type": "code",
   "execution_count": null,
   "metadata": {},
   "outputs": [],
   "source": [
    "(ggplot(barley.reset_index(), aes(x=\"site\", y=\"yield\")) + geom_col() + coord_flip())"
   ]
  },
  {
   "cell_type": "markdown",
   "metadata": {},
   "source": [
    "### Altair\n",
    "\n",
    "Just switch x and y to get a vertical plot."
   ]
  },
  {
   "cell_type": "code",
   "execution_count": null,
   "metadata": {},
   "outputs": [],
   "source": [
    "alt.Chart(barley.reset_index()).mark_bar().encode(y=\"site\", x=\"yield\",).properties(\n",
    "    width=alt.Step(40)  # controls width of bar.\n",
    ")"
   ]
  },
  {
   "cell_type": "markdown",
   "metadata": {},
   "source": [
    "### Plotly"
   ]
  },
  {
   "cell_type": "code",
   "execution_count": null,
   "metadata": {},
   "outputs": [],
   "source": [
    "fig = px.bar(barley.reset_index(), y=\"site\", x=\"yield\")\n",
    "fig.show()"
   ]
  },
  {
   "cell_type": "markdown",
   "metadata": {},
   "source": [
    "## Grouped bar chart\n",
    "\n"
   ]
  },
  {
   "cell_type": "code",
   "execution_count": null,
   "metadata": {},
   "outputs": [],
   "source": [
    "barley = data.barley()\n",
    "barley = pd.DataFrame(barley.groupby([\"site\", \"year\"])[\"yield\"].sum()).reset_index()\n",
    "barley.head()"
   ]
  },
  {
   "cell_type": "markdown",
   "metadata": {},
   "source": [
    "### Matplotlib"
   ]
  },
  {
   "cell_type": "code",
   "execution_count": null,
   "metadata": {},
   "outputs": [],
   "source": [
    "labels = barley[\"site\"].unique()\n",
    "y = np.arange(len(labels))  # the label locations\n",
    "width = 0.35  # the width of the bars\n",
    "\n",
    "fig, ax = plt.subplots()\n",
    "ax.barh(y - width / 2, barley.loc[barley[\"year\"] == 1931, \"yield\"], width, label=\"1931\")\n",
    "ax.barh(y + width / 2, barley.loc[barley[\"year\"] == 1932, \"yield\"], width, label=\"1932\")\n",
    "\n",
    "# Add some text for labels, title and custom x-axis tick labels, etc.\n",
    "ax.set_xlabel(\"Yield\")\n",
    "ax.set_yticks(y)\n",
    "ax.set_yticklabels(labels)\n",
    "ax.legend(frameon=False)\n",
    "plt.show()"
   ]
  },
  {
   "cell_type": "markdown",
   "metadata": {},
   "source": [
    "### Seaborn"
   ]
  },
  {
   "cell_type": "code",
   "execution_count": null,
   "metadata": {},
   "outputs": [],
   "source": [
    "sns.catplot(data=barley, kind=\"bar\", y=\"site\", x=\"yield\", hue=\"year\")"
   ]
  },
  {
   "cell_type": "markdown",
   "metadata": {},
   "source": [
    "### Plotnine"
   ]
  },
  {
   "cell_type": "code",
   "execution_count": null,
   "metadata": {},
   "outputs": [],
   "source": [
    "(\n",
    "    ggplot(barley, aes(x=\"site\", y=\"yield\", fill=\"factor(year)\"))\n",
    "    + geom_col(position=\"dodge\")\n",
    "    + coord_flip()\n",
    ")"
   ]
  },
  {
   "cell_type": "markdown",
   "metadata": {},
   "source": [
    "### Altair\n"
   ]
  },
  {
   "cell_type": "code",
   "execution_count": null,
   "metadata": {},
   "outputs": [],
   "source": [
    "alt.Chart(barley.reset_index()).mark_bar().encode(\n",
    "    y=\"year:O\", x=\"yield\", color=\"year:N\", row=\"site:N\"\n",
    ").properties(\n",
    "    width=alt.Step(40)  # controls width of bar.\n",
    ")"
   ]
  },
  {
   "cell_type": "markdown",
   "metadata": {},
   "source": [
    "### Plotly"
   ]
  },
  {
   "cell_type": "code",
   "execution_count": null,
   "metadata": {},
   "outputs": [],
   "source": [
    "px_barley = barley.reset_index()\n",
    "# This prevents plotly from using a continuous scale for year\n",
    "px_barley[\"year\"] = px_barley[\"year\"].astype(\"category\")\n",
    "fig = px.bar(px_barley, y=\"site\", x=\"yield\", barmode=\"group\", color=\"year\")\n",
    "fig.show()"
   ]
  },
  {
   "cell_type": "markdown",
   "metadata": {},
   "source": [
    "## Stacked bar chart\n",
    "\n"
   ]
  },
  {
   "cell_type": "markdown",
   "metadata": {},
   "source": [
    "### Matplotlib "
   ]
  },
  {
   "cell_type": "code",
   "execution_count": null,
   "metadata": {},
   "outputs": [],
   "source": [
    "labels = barley[\"site\"].unique()\n",
    "y = np.arange(len(labels))  # the label locations\n",
    "width = 0.35  # the width (or height) of the bars\n",
    "\n",
    "fig, ax = plt.subplots()\n",
    "ax.barh(y, barley.loc[barley[\"year\"] == 1931, \"yield\"], width, label=\"1931\")\n",
    "ax.barh(\n",
    "    y,\n",
    "    barley.loc[barley[\"year\"] == 1932, \"yield\"],\n",
    "    width,\n",
    "    label=\"1932\",\n",
    "    left=barley.loc[barley[\"year\"] == 1931, \"yield\"],\n",
    ")\n",
    "\n",
    "# Add some text for labels, title and custom x-axis tick labels, etc.\n",
    "ax.set_xlabel(\"Yield\")\n",
    "ax.set_yticks(y)\n",
    "ax.set_yticklabels(labels)\n",
    "ax.legend(frameon=False)\n",
    "plt.show()"
   ]
  },
  {
   "cell_type": "markdown",
   "metadata": {},
   "source": [
    "### Seaborn\n",
    "\n",
    "As far as I know, there's no easy way of doing this, though some [inspiration is available](https://seaborn.pydata.org/examples/part_whole_bars.html)."
   ]
  },
  {
   "cell_type": "markdown",
   "metadata": {},
   "source": [
    "### Plotnine\n",
    "\n"
   ]
  },
  {
   "cell_type": "code",
   "execution_count": null,
   "metadata": {},
   "outputs": [],
   "source": [
    "(\n",
    "    ggplot(barley, aes(x=\"site\", y=\"yield\", fill=\"factor(year)\"))\n",
    "    + geom_col()\n",
    "    + coord_flip()\n",
    ")"
   ]
  },
  {
   "cell_type": "markdown",
   "metadata": {},
   "source": [
    "### Altair"
   ]
  },
  {
   "cell_type": "code",
   "execution_count": null,
   "metadata": {},
   "outputs": [],
   "source": [
    "alt.Chart(barley.reset_index()).mark_bar().encode(\n",
    "    y=\"site\",\n",
    "    x=\"yield\",\n",
    "    color=\"year:N\",\n",
    ").properties(\n",
    "    width=alt.Step(40)  # controls width of bar.\n",
    ")"
   ]
  },
  {
   "cell_type": "markdown",
   "metadata": {},
   "source": [
    "### Plotly"
   ]
  },
  {
   "cell_type": "code",
   "execution_count": null,
   "metadata": {},
   "outputs": [],
   "source": [
    "fig = px.bar(px_barley, y=\"site\", x=\"yield\", barmode=\"relative\", color=\"year\")\n",
    "fig.show()"
   ]
  },
  {
   "cell_type": "markdown",
   "metadata": {},
   "source": [
    "## Kernel density estimate\n",
    "\n",
    "We'll use the diamonds dataset to demonstrate this."
   ]
  },
  {
   "cell_type": "code",
   "execution_count": null,
   "metadata": {},
   "outputs": [],
   "source": [
    "diamonds = sns.load_dataset(\"diamonds\").sample(1000)\n",
    "diamonds.head()"
   ]
  },
  {
   "cell_type": "markdown",
   "metadata": {},
   "source": [
    "### Matplotlib\n",
    "\n",
    "Technically, there is a way to do this but it's pretty inelegant if you want a quick plot. That's because **matplotlib** doesn't do the density estimation itself. [Jake Vanderplas](https://jakevdp.github.io/PythonDataScienceHandbook/05.13-kernel-density-estimation.html) has a nice example but as it relies on a few extra libraries, I won't reproduce it here."
   ]
  },
  {
   "cell_type": "markdown",
   "metadata": {},
   "source": [
    "### Seaborn\n",
    "\n"
   ]
  },
  {
   "cell_type": "code",
   "execution_count": null,
   "metadata": {},
   "outputs": [],
   "source": [
    "sns.displot(diamonds, x=\"carat\", kind=\"kde\", hue=\"cut\", fill=True);"
   ]
  },
  {
   "cell_type": "markdown",
   "metadata": {},
   "source": [
    "### Plotnine\n",
    "\n"
   ]
  },
  {
   "cell_type": "code",
   "execution_count": null,
   "metadata": {},
   "outputs": [],
   "source": [
    "(ggplot(diamonds, aes(x=\"carat\", fill=\"cut\", colour=\"cut\")) + geom_density(alpha=0.5))"
   ]
  },
  {
   "cell_type": "markdown",
   "metadata": {},
   "source": [
    "### Altair"
   ]
  },
  {
   "cell_type": "code",
   "execution_count": null,
   "metadata": {},
   "outputs": [],
   "source": [
    "alt.Chart(diamonds).transform_density(\n",
    "    density=\"carat\", as_=[\"carat\", \"density\"], groupby=[\"cut\"]\n",
    ").mark_area(fillOpacity=0.5).encode(\n",
    "    x=\"carat:Q\",\n",
    "    y=\"density:Q\",\n",
    "    color=\"cut:N\",\n",
    ")"
   ]
  },
  {
   "cell_type": "markdown",
   "metadata": {},
   "source": [
    "### Plotly"
   ]
  },
  {
   "cell_type": "code",
   "execution_count": null,
   "metadata": {},
   "outputs": [],
   "source": [
    "import plotly.figure_factory as ff\n",
    "\n",
    "px_di = diamonds.pivot(columns=\"cut\", values=\"carat\")\n",
    "ff.create_distplot(\n",
    "    [px_di[c].dropna() for c in px_di.columns],\n",
    "    group_labels=px_di.columns,\n",
    "    show_rug=False,\n",
    "    show_hist=False,\n",
    ")"
   ]
  },
  {
   "cell_type": "markdown",
   "metadata": {},
   "source": [
    "## Histogram or probability density function\n",
    "\n",
    "For this, let's go back to the penguins dataset."
   ]
  },
  {
   "cell_type": "code",
   "execution_count": null,
   "metadata": {},
   "outputs": [],
   "source": [
    "penguins = sns.load_dataset(\"penguins\")\n",
    "penguins.head()"
   ]
  },
  {
   "cell_type": "markdown",
   "metadata": {},
   "source": [
    "### Matplotlib\n",
    "\n",
    "The `density=` keyword parameter decides whether to create counts or a probability density function."
   ]
  },
  {
   "cell_type": "code",
   "execution_count": null,
   "metadata": {},
   "outputs": [],
   "source": [
    "fig, ax = plt.subplots()\n",
    "ax.hist(penguins[\"flipper_length_mm\"], bins=30, density=True, edgecolor=\"k\")\n",
    "ax.set_xlabel(\"Flipper length (mm)\")\n",
    "ax.set_ylabel(\"Probability density\")\n",
    "fig.tight_layout()\n",
    "plt.show()"
   ]
  },
  {
   "cell_type": "markdown",
   "metadata": {},
   "source": [
    "### Seaborn"
   ]
  },
  {
   "cell_type": "code",
   "execution_count": null,
   "metadata": {},
   "outputs": [],
   "source": [
    "sns.histplot(data=penguins, x=\"flipper_length_mm\", bins=30, stat=\"density\");"
   ]
  },
  {
   "cell_type": "markdown",
   "metadata": {},
   "source": [
    "### Plotnine\n",
    "\n"
   ]
  },
  {
   "cell_type": "code",
   "execution_count": null,
   "metadata": {},
   "outputs": [],
   "source": [
    "(\n",
    "    ggplot(penguins, aes(x=\"flipper_length_mm\", y=\"stat(density)\"))\n",
    "    + geom_histogram(bins=30)  # specify the binwidth\n",
    ")"
   ]
  },
  {
   "cell_type": "markdown",
   "metadata": {},
   "source": [
    "### Altair\n",
    "\n"
   ]
  },
  {
   "cell_type": "code",
   "execution_count": null,
   "metadata": {},
   "outputs": [],
   "source": [
    "alt.Chart(penguins).mark_bar().encode(\n",
    "    alt.X(\"flipper_length_mm:Q\", bin=True),\n",
    "    y=\"count()\",\n",
    ")"
   ]
  },
  {
   "cell_type": "markdown",
   "metadata": {},
   "source": [
    "### Plotly\n",
    "\n"
   ]
  },
  {
   "cell_type": "code",
   "execution_count": null,
   "metadata": {},
   "outputs": [],
   "source": [
    "fig = px.histogram(penguins, x=\"flipper_length_mm\", nbins=30)\n",
    "fig.show()"
   ]
  },
  {
   "cell_type": "markdown",
   "metadata": {},
   "source": [
    "## Marginal histograms\n",
    "\n"
   ]
  },
  {
   "cell_type": "markdown",
   "metadata": {},
   "source": [
    "### Maplotlib\n",
    "\n",
    "[Jaker Vanderplas's excellent notes](https://jakevdp.github.io/PythonDataScienceHandbook/04.08-multiple-subplots.html) have a great example of this, but now there's an easier way to do it with Matplotlib's new `constrained_layout` options."
   ]
  },
  {
   "cell_type": "code",
   "execution_count": null,
   "metadata": {},
   "outputs": [],
   "source": [
    "fig = plt.figure(constrained_layout=True)\n",
    "# Create a layout with 3 panels in the given ratios\n",
    "axes_dict = fig.subplot_mosaic(\n",
    "    [[\".\", \"histx\"], [\"histy\", \"scat\"]],\n",
    "    gridspec_kw={\"width_ratios\": [1, 7], \"height_ratios\": [2, 7]},\n",
    ")\n",
    "# Glue all the relevant axes together\n",
    "axes_dict[\"histy\"].invert_xaxis()\n",
    "axes_dict[\"histx\"].sharex(axes_dict[\"scat\"])\n",
    "axes_dict[\"histy\"].sharey(axes_dict[\"scat\"])\n",
    "# Plot the data\n",
    "axes_dict[\"scat\"].scatter(penguins[\"bill_length_mm\"], penguins[\"bill_depth_mm\"])\n",
    "axes_dict[\"histx\"].hist(penguins[\"bill_length_mm\"])\n",
    "axes_dict[\"histy\"].hist(penguins[\"bill_depth_mm\"], orientation=\"horizontal\");"
   ]
  },
  {
   "cell_type": "markdown",
   "metadata": {},
   "source": [
    "### Seaborn"
   ]
  },
  {
   "cell_type": "code",
   "execution_count": null,
   "metadata": {},
   "outputs": [],
   "source": [
    "sns.jointplot(data=penguins, x=\"bill_length_mm\", y=\"bill_depth_mm\");"
   ]
  },
  {
   "cell_type": "markdown",
   "metadata": {},
   "source": [
    "### Plotnine\n",
    "\n",
    "I couldn't find an easy way to do this in plotnine but you can make rug plots, which have some similarities in terms of information conveyed."
   ]
  },
  {
   "cell_type": "code",
   "execution_count": null,
   "metadata": {},
   "outputs": [],
   "source": [
    "(\n",
    "    ggplot(penguins, aes(x=\"bill_length_mm\", y=\"bill_depth_mm\"))\n",
    "    + geom_point()\n",
    "    + geom_rug()\n",
    ")"
   ]
  },
  {
   "cell_type": "markdown",
   "metadata": {},
   "source": [
    "### Altair\n",
    "\n",
    "This is a bit fiddly."
   ]
  },
  {
   "cell_type": "code",
   "execution_count": null,
   "metadata": {},
   "outputs": [],
   "source": [
    "base = alt.Chart(penguins)\n",
    "\n",
    "xscale = alt.Scale(domain=(20, 60))\n",
    "yscale = alt.Scale(domain=(10, 30))\n",
    "\n",
    "area_args = {\"opacity\": 0.5, \"interpolate\": \"step\"}\n",
    "\n",
    "points = base.mark_circle().encode(\n",
    "    alt.X(\"bill_length_mm\", scale=xscale), alt.Y(\"bill_depth_mm\", scale=yscale)\n",
    ")\n",
    "\n",
    "top_hist = (\n",
    "    base.mark_area(**area_args)\n",
    "    .encode(\n",
    "        alt.X(\n",
    "            \"bill_length_mm:Q\",\n",
    "            # when using bins, the axis scale is set through\n",
    "            # the bin extent, so we do not specify the scale here\n",
    "            # (which would be ignored anyway)\n",
    "            bin=alt.Bin(maxbins=30, extent=xscale.domain),\n",
    "            stack=None,\n",
    "            title=\"\",\n",
    "        ),\n",
    "        alt.Y(\"count()\", stack=None, title=\"\"),\n",
    "    )\n",
    "    .properties(height=60)\n",
    ")\n",
    "\n",
    "right_hist = (\n",
    "    base.mark_area(**area_args)\n",
    "    .encode(\n",
    "        alt.Y(\n",
    "            \"bill_depth_mm:Q\",\n",
    "            bin=alt.Bin(maxbins=30, extent=yscale.domain),\n",
    "            stack=None,\n",
    "            title=\"\",\n",
    "        ),\n",
    "        alt.X(\"count()\", stack=None, title=\"\"),\n",
    "    )\n",
    "    .properties(width=60)\n",
    ")\n",
    "\n",
    "top_hist & (points | right_hist)"
   ]
  },
  {
   "cell_type": "markdown",
   "metadata": {},
   "source": [
    "### Plotly\n",
    "\n"
   ]
  },
  {
   "cell_type": "code",
   "execution_count": null,
   "metadata": {},
   "outputs": [],
   "source": [
    "fig = px.scatter(\n",
    "    penguins,\n",
    "    x=\"bill_length_mm\",\n",
    "    y=\"bill_depth_mm\",\n",
    "    marginal_x=\"histogram\",\n",
    "    marginal_y=\"histogram\",\n",
    ")\n",
    "fig.show()"
   ]
  },
  {
   "cell_type": "markdown",
   "metadata": {},
   "source": [
    "## Heatmap\n",
    "\n",
    "Heatmaps, or sometimes known as correlation maps, represent data in 3 dimensions by having two axes that forms a grid showing colour that corresponds to (usually) continuous values.\n",
    "\n",
    "We'll use the flights data to show the number of passengers by month-year:"
   ]
  },
  {
   "cell_type": "code",
   "execution_count": null,
   "metadata": {},
   "outputs": [],
   "source": [
    "flights = sns.load_dataset(\"flights\")\n",
    "flights = flights.pivot(\"month\", \"year\", \"passengers\").T\n",
    "flights.head()"
   ]
  },
  {
   "cell_type": "markdown",
   "metadata": {},
   "source": [
    "### Matplotlib\n",
    "\n"
   ]
  },
  {
   "cell_type": "code",
   "execution_count": null,
   "metadata": {},
   "outputs": [],
   "source": [
    "fig, ax = plt.subplots()\n",
    "im = ax.imshow(flights.values, cmap=\"inferno\")\n",
    "cbar = ax.figure.colorbar(im, ax=ax)\n",
    "ax.set_xticks(np.arange(len(flights.columns)))\n",
    "ax.set_yticks(np.arange(len(flights.index)))\n",
    "# Labels\n",
    "ax.set_xticklabels(flights.columns, rotation=90)\n",
    "ax.set_yticklabels(flights.index)\n",
    "plt.show()"
   ]
  },
  {
   "cell_type": "markdown",
   "metadata": {},
   "source": [
    "### Seaborn"
   ]
  },
  {
   "cell_type": "code",
   "execution_count": null,
   "metadata": {},
   "outputs": [],
   "source": [
    "sns.heatmap(flights);"
   ]
  },
  {
   "cell_type": "markdown",
   "metadata": {},
   "source": [
    "### Plotnine\n",
    "\n",
    "Plotnine uses tidy data, rather than the wide data preferred by **matplotlib**, so we need to first get the original format of the flights data back:"
   ]
  },
  {
   "cell_type": "code",
   "execution_count": null,
   "metadata": {},
   "outputs": [],
   "source": [
    "flights = sns.load_dataset(\"flights\")\n",
    "(\n",
    "    ggplot(flights, aes(\"month\", \"factor(year)\", fill=\"passengers\"))\n",
    "    + geom_tile()\n",
    "    + scale_y_reverse()\n",
    ")"
   ]
  },
  {
   "cell_type": "markdown",
   "metadata": {},
   "source": [
    "### Altair"
   ]
  },
  {
   "cell_type": "code",
   "execution_count": null,
   "metadata": {},
   "outputs": [],
   "source": [
    "alt.Chart(flights).mark_rect().encode(\n",
    "    x=alt.X(\"month\", type=\"nominal\", sort=None), y=\"year:O\", color=\"passengers:Q\"\n",
    ")"
   ]
  },
  {
   "cell_type": "markdown",
   "metadata": {},
   "source": [
    "### Plotly\n",
    "\n"
   ]
  },
  {
   "cell_type": "code",
   "execution_count": null,
   "metadata": {},
   "outputs": [],
   "source": [
    "fig = px.imshow(\n",
    "    flights.values,\n",
    "    labels=dict(x=\"Month\", y=\"Year\", color=\"Number\"),\n",
    "    x=flights.columns,\n",
    "    y=flights.index,\n",
    ")\n",
    "fig.show()"
   ]
  },
  {
   "cell_type": "markdown",
   "metadata": {},
   "source": [
    "## Boxplot\n",
    "\n",
    "Let's use the tips dataset:"
   ]
  },
  {
   "cell_type": "code",
   "execution_count": null,
   "metadata": {},
   "outputs": [],
   "source": [
    "tips = sns.load_dataset(\"tips\")\n",
    "tips.head()"
   ]
  },
  {
   "cell_type": "markdown",
   "metadata": {},
   "source": [
    "### Matplotlib\n",
    "\n",
    "There isn't a very direct way to create multiple box plots of different data in matplotlib in the case where the groups are unbalanced, so we create several different boxplot objects.\n"
   ]
  },
  {
   "cell_type": "code",
   "execution_count": null,
   "metadata": {},
   "outputs": [],
   "source": [
    "colormap = plt.cm.Set1\n",
    "colorst = [colormap(i) for i in np.linspace(0, 0.9, len(tips[\"time\"].unique()))]\n",
    "\n",
    "fig, ax = plt.subplots()\n",
    "for i, grp in enumerate(tips[\"time\"].unique()):\n",
    "    bplot = ax.boxplot(\n",
    "        tips.loc[tips[\"time\"] == grp, \"tip\"],\n",
    "        positions=[i],\n",
    "        vert=True,  # vertical box alignment\n",
    "        patch_artist=True,  # fill with color\n",
    "        labels=[grp],\n",
    "    )  # X label\n",
    "    for patch in bplot[\"boxes\"]:\n",
    "        patch.set_facecolor(colorst[i])\n",
    "\n",
    "ax.set_ylabel(\"Tip\")\n",
    "plt.show()"
   ]
  },
  {
   "cell_type": "markdown",
   "metadata": {},
   "source": [
    "### Seaborn\n"
   ]
  },
  {
   "cell_type": "code",
   "execution_count": null,
   "metadata": {},
   "outputs": [],
   "source": [
    "sns.boxplot(data=tips, x=\"time\", y=\"tip\");"
   ]
  },
  {
   "cell_type": "markdown",
   "metadata": {},
   "source": [
    "### Plotnine\n",
    "\n"
   ]
  },
  {
   "cell_type": "code",
   "execution_count": null,
   "metadata": {},
   "outputs": [],
   "source": [
    "(ggplot(tips) + geom_boxplot(aes(y=\"tip\", x=\"time\", fill=\"time\")))"
   ]
  },
  {
   "cell_type": "markdown",
   "metadata": {},
   "source": [
    "### Altair"
   ]
  },
  {
   "cell_type": "code",
   "execution_count": null,
   "metadata": {},
   "outputs": [],
   "source": [
    "alt.Chart(tips).mark_boxplot(size=50).encode(\n",
    "    x=\"time:N\", y=\"tip:Q\", color=\"time:N\"\n",
    ").properties(width=300)"
   ]
  },
  {
   "cell_type": "markdown",
   "metadata": {},
   "source": [
    "### Plotly\n",
    "\n"
   ]
  },
  {
   "cell_type": "code",
   "execution_count": null,
   "metadata": {},
   "outputs": [],
   "source": [
    "fig = px.box(tips, x=\"time\", y=\"tip\", color=\"time\")\n",
    "fig.show()"
   ]
  },
  {
   "cell_type": "markdown",
   "metadata": {},
   "source": [
    "## Violin plot\n",
    "\n",
    "We'll use the same data as before, the tips dataset."
   ]
  },
  {
   "cell_type": "markdown",
   "metadata": {},
   "source": [
    "### Matplotlib"
   ]
  },
  {
   "cell_type": "code",
   "execution_count": null,
   "metadata": {},
   "outputs": [],
   "source": [
    "colormap = plt.cm.Set1\n",
    "colorst = [colormap(i) for i in np.linspace(0, 0.9, len(tips[\"time\"].unique()))]\n",
    "\n",
    "fig, ax = plt.subplots()\n",
    "for i, grp in enumerate(tips[\"time\"].unique()):\n",
    "    vplot = ax.violinplot(\n",
    "        tips.loc[tips[\"time\"] == grp, \"tip\"], positions=[i], vert=True\n",
    "    )\n",
    "labels = list(tips[\"time\"].unique())\n",
    "ax.set_xticks(np.arange(len(labels)))\n",
    "ax.set_xticklabels(labels)\n",
    "ax.set_ylabel(\"Tip\")\n",
    "plt.show()"
   ]
  },
  {
   "cell_type": "markdown",
   "metadata": {},
   "source": [
    "### Seaborn"
   ]
  },
  {
   "cell_type": "code",
   "execution_count": null,
   "metadata": {},
   "outputs": [],
   "source": [
    "sns.violinplot(data=tips, x=\"time\", y=\"tip\");"
   ]
  },
  {
   "cell_type": "markdown",
   "metadata": {},
   "source": [
    "### Plotnine"
   ]
  },
  {
   "cell_type": "code",
   "execution_count": null,
   "metadata": {},
   "outputs": [],
   "source": [
    "(ggplot(tips, aes(x=\"time\", y=\"tip\", fill=\"time\")) + geom_violin())"
   ]
  },
  {
   "cell_type": "markdown",
   "metadata": {},
   "source": [
    "### Altair"
   ]
  },
  {
   "cell_type": "code",
   "execution_count": null,
   "metadata": {},
   "outputs": [],
   "source": [
    "alt.Chart(tips).transform_density(\n",
    "    \"tip\", as_=[\"tip\", \"density\"], groupby=[\"time\"]\n",
    ").mark_area(orient=\"horizontal\").encode(\n",
    "    y=\"tip:Q\",\n",
    "    color=\"time:N\",\n",
    "    x=alt.X(\n",
    "        \"density:Q\",\n",
    "        stack=\"center\",\n",
    "        impute=None,\n",
    "        title=None,\n",
    "        axis=alt.Axis(labels=False, values=[0], grid=False, ticks=True),\n",
    "    ),\n",
    "    column=alt.Column(\n",
    "        \"time:N\",\n",
    "        header=alt.Header(\n",
    "            titleOrient=\"bottom\",\n",
    "            labelOrient=\"bottom\",\n",
    "            labelPadding=0,\n",
    "        ),\n",
    "    ),\n",
    ").properties(\n",
    "    width=100\n",
    ").configure_facet(\n",
    "    spacing=0\n",
    ").configure_view(\n",
    "    stroke=None\n",
    ")"
   ]
  },
  {
   "cell_type": "markdown",
   "metadata": {},
   "source": [
    "### Plotly"
   ]
  },
  {
   "cell_type": "code",
   "execution_count": null,
   "metadata": {},
   "outputs": [],
   "source": [
    "fig = px.violin(\n",
    "    tips,\n",
    "    y=\"tip\",\n",
    "    x=\"time\",\n",
    "    color=\"time\",\n",
    "    box=True,\n",
    "    points=\"all\",\n",
    "    hover_data=tips.columns,\n",
    ")\n",
    "fig.show()"
   ]
  },
  {
   "cell_type": "markdown",
   "metadata": {},
   "source": [
    "## Lollipop"
   ]
  },
  {
   "cell_type": "code",
   "execution_count": null,
   "metadata": {},
   "outputs": [],
   "source": [
    "df = sns.load_dataset(\"planets\").groupby(\"year\")[\"number\"].count()\n",
    "df.head()"
   ]
  },
  {
   "cell_type": "markdown",
   "metadata": {},
   "source": [
    "### Matplotlib\n"
   ]
  },
  {
   "cell_type": "code",
   "execution_count": null,
   "metadata": {},
   "outputs": [],
   "source": [
    "fig, ax = plt.subplots()\n",
    "ax.stem(df.index, df)\n",
    "ax.yaxis.tick_right()\n",
    "ax.spines[\"left\"].set_visible(False)\n",
    "ax.set_ylim(0, 200)\n",
    "ax.set_title(\"Number of exoplanets discovered per year\")\n",
    "plt.show()"
   ]
  },
  {
   "cell_type": "markdown",
   "metadata": {},
   "source": [
    "### Plotnine"
   ]
  },
  {
   "cell_type": "code",
   "execution_count": null,
   "metadata": {},
   "outputs": [],
   "source": [
    "(\n",
    "    ggplot(df.reset_index(), aes(x=\"year\", y=\"number\"))\n",
    "    + geom_point()\n",
    "    + geom_segment(aes(x=\"year\", xend=\"year\", y=0, yend=\"number\"))\n",
    "    + ggtitle(\"Number of exoplanets discovered per year\")\n",
    ")"
   ]
  },
  {
   "cell_type": "markdown",
   "metadata": {},
   "source": [
    "### Plotly"
   ]
  },
  {
   "cell_type": "code",
   "execution_count": null,
   "metadata": {},
   "outputs": [],
   "source": [
    "import plotly.graph_objects as go\n",
    "\n",
    "px_df = df.reset_index()\n",
    "\n",
    "fig1 = go.Figure()\n",
    "# Draw points\n",
    "fig1.add_trace(\n",
    "    go.Scatter(\n",
    "        x=px_df[\"year\"],\n",
    "        y=px_df[\"number\"],\n",
    "        mode=\"markers\",\n",
    "        marker_color=\"darkblue\",\n",
    "        marker_size=10,\n",
    "    )\n",
    ")\n",
    "# Draw lines\n",
    "for index, row in px_df.iterrows():\n",
    "    fig1.add_shape(type=\"line\", x0=row[\"year\"], y0=0, x1=row[\"year\"], y1=row[\"number\"])\n",
    "fig1.show()"
   ]
  },
  {
   "cell_type": "markdown",
   "metadata": {},
   "source": [
    "## Overlapping Area plot\n",
    "\n",
    "For this, let's look at the dominance of the three most used methods for detecting exoplanets."
   ]
  },
  {
   "cell_type": "code",
   "execution_count": null,
   "metadata": {},
   "outputs": [],
   "source": [
    "df = sns.load_dataset(\"planets\")\n",
    "most_pop_methods = (\n",
    "    df.groupby([\"method\"])[\"number\"].sum().sort_values(ascending=False).index[:3].values\n",
    ")\n",
    "df = df[df[\"method\"].isin(most_pop_methods)]\n",
    "df.head()"
   ]
  },
  {
   "cell_type": "markdown",
   "metadata": {},
   "source": [
    "### Matplotlib\n",
    "\n",
    "The easiest way to do this in matplotlib is to adjust the data a bit first and then use the built-in **pandas** plot function. (This is true in other cases too, but in this case it's much more complex otherwise)."
   ]
  },
  {
   "cell_type": "code",
   "execution_count": null,
   "metadata": {},
   "outputs": [],
   "source": [
    "(\n",
    "    df.groupby([\"year\", \"method\"])[\"number\"]\n",
    "    .sum()\n",
    "    .unstack()\n",
    "    .plot.area(alpha=0.6, ylim=(0, None))\n",
    "    .set_title(\"Planets dicovered by top 3 methods\", loc=\"left\")\n",
    ");"
   ]
  },
  {
   "cell_type": "markdown",
   "metadata": {},
   "source": [
    "### Seaborn\n",
    "\n",
    "I couldn't find an option for this."
   ]
  },
  {
   "cell_type": "markdown",
   "metadata": {},
   "source": [
    "### Plotnine\n",
    "\n"
   ]
  },
  {
   "cell_type": "code",
   "execution_count": null,
   "metadata": {},
   "outputs": [],
   "source": [
    "(\n",
    "    ggplot(\n",
    "        df.groupby([\"year\", \"method\"])[\"number\"].sum().reset_index(),\n",
    "        aes(x=\"year\", y=\"number\", fill=\"method\", order=\"method\"),\n",
    "    )\n",
    "    + geom_area(alpha=0.5)\n",
    ")"
   ]
  },
  {
   "cell_type": "markdown",
   "metadata": {},
   "source": [
    "### Altair\n"
   ]
  },
  {
   "cell_type": "code",
   "execution_count": null,
   "metadata": {},
   "outputs": [],
   "source": [
    "alt.Chart(\n",
    "    df.groupby([\"year\", \"method\"])[\"number\"]\n",
    "    .sum()\n",
    "    .reset_index()\n",
    "    .assign(\n",
    "        year=lambda x: pd.to_datetime(x[\"year\"], format=\"%Y\")\n",
    "        + pd.tseries.offsets.YearEnd()\n",
    "    )\n",
    ").mark_area().encode(x=\"year:T\", y=\"number:Q\", color=\"method:N\")"
   ]
  },
  {
   "cell_type": "markdown",
   "metadata": {},
   "source": [
    "## Slope chart\n",
    "\n",
    "A slope chart has two points connected by a line and is good for indicating how relationships between variables have changed over time."
   ]
  },
  {
   "cell_type": "code",
   "execution_count": null,
   "metadata": {},
   "outputs": [],
   "source": [
    "df = pd.read_csv(\n",
    "    \"https://raw.githubusercontent.com/selva86/datasets/master/gdppercap.csv\"\n",
    ")\n",
    "df = pd.melt(\n",
    "    df,\n",
    "    id_vars=[\"continent\"],\n",
    "    value_vars=df.columns[1:],\n",
    "    value_name=\"GDP per capita\",\n",
    "    var_name=\"Year\",\n",
    ").rename(columns={\"continent\": \"Continent\"})\n",
    "df.head()"
   ]
  },
  {
   "cell_type": "markdown",
   "metadata": {},
   "source": [
    "### Matplotlib\n",
    "\n",
    "There isn't an off-the-shelf way to do this in matplotlib but the example below shows that, with matplotlib, where there's a will there's a way! It's where the 'build-what-you-want' comes into its own. Note that the functino that's defined returns an `Axes` object so that you can do further processing and tweaking as you like."
   ]
  },
  {
   "cell_type": "code",
   "execution_count": null,
   "metadata": {},
   "outputs": [],
   "source": [
    "from matplotlib import lines as mlines\n",
    "\n",
    "\n",
    "def slope_plot(data, x, y, group, before_txt=\"Before\", after_txt=\"After\"):\n",
    "    if len(data[x].unique()) != 2:\n",
    "        raise ValueError(\"Slope plot must have two unique periods.\")\n",
    "    wide_data = data[[x, y, group]].pivot(index=group, columns=x, values=y)\n",
    "    x_names = list(wide_data.columns)\n",
    "    klass = [\n",
    "        \"red\" if (y1 - y2) < 0 else \"green\"\n",
    "        for y1, y2 in zip(wide_data[x_names[0]], wide_data[x_names[1]])\n",
    "    ]\n",
    "    fig, ax = plt.subplots()\n",
    "\n",
    "    def newline(p1, p2, color=\"black\"):\n",
    "        ax = plt.gca()\n",
    "        l = mlines.Line2D(\n",
    "            [p1[0], p2[0]],\n",
    "            [p1[1], p2[1]],\n",
    "            color=\"red\" if p1[1] - p2[1] > 0 else \"green\",\n",
    "            marker=\"o\",\n",
    "            markersize=6,\n",
    "        )\n",
    "        ax.add_line(l)\n",
    "        return l\n",
    "\n",
    "    # Vertical Lines\n",
    "    y_min = data[y].min()\n",
    "    y_max = data[y].max()\n",
    "    ax.vlines(\n",
    "        x=1,\n",
    "        ymin=y_min,\n",
    "        ymax=y_max,\n",
    "        color=\"black\",\n",
    "        alpha=0.7,\n",
    "        linewidth=1,\n",
    "        linestyles=\"dotted\",\n",
    "    )\n",
    "    ax.vlines(\n",
    "        x=3,\n",
    "        ymin=y_min,\n",
    "        ymax=y_max,\n",
    "        color=\"black\",\n",
    "        alpha=0.7,\n",
    "        linewidth=1,\n",
    "        linestyles=\"dotted\",\n",
    "    )\n",
    "    # Points\n",
    "    ax.scatter(\n",
    "        y=wide_data[x_names[0]],\n",
    "        x=np.repeat(1, wide_data.shape[0]),\n",
    "        s=15,\n",
    "        color=\"black\",\n",
    "        alpha=0.7,\n",
    "    )\n",
    "    ax.scatter(\n",
    "        y=wide_data[x_names[1]],\n",
    "        x=np.repeat(3, wide_data.shape[0]),\n",
    "        s=15,\n",
    "        color=\"black\",\n",
    "        alpha=0.7,\n",
    "    )\n",
    "    # Line Segmentsand Annotation\n",
    "    for p1, p2, c in zip(wide_data[x_names[0]], wide_data[x_names[1]], wide_data.index):\n",
    "        newline([1, p1], [3, p2])\n",
    "        ax.text(\n",
    "            1 - 0.05,\n",
    "            p1,\n",
    "            c,\n",
    "            horizontalalignment=\"right\",\n",
    "            verticalalignment=\"center\",\n",
    "            fontdict={\"size\": 14},\n",
    "        )\n",
    "        ax.text(\n",
    "            3 + 0.05,\n",
    "            p2,\n",
    "            c,\n",
    "            horizontalalignment=\"left\",\n",
    "            verticalalignment=\"center\",\n",
    "            fontdict={\"size\": 14},\n",
    "        )\n",
    "    # 'Before' and 'After' Annotations\n",
    "    ax.text(\n",
    "        1 - 0.05,\n",
    "        y_max + abs(y_max) * 0.1,\n",
    "        before_txt,\n",
    "        horizontalalignment=\"right\",\n",
    "        verticalalignment=\"center\",\n",
    "        fontdict={\"size\": 16, \"weight\": 700},\n",
    "    )\n",
    "    ax.text(\n",
    "        3 + 0.05,\n",
    "        y_max + abs(y_max) * 0.1,\n",
    "        after_txt,\n",
    "        horizontalalignment=\"left\",\n",
    "        verticalalignment=\"center\",\n",
    "        fontdict={\"size\": 16, \"weight\": 700},\n",
    "    )\n",
    "    # Decoration\n",
    "    ax.set(\n",
    "        xlim=(0, 4), ylabel=y, ylim=(y_min - 0.1 * abs(y_min), y_max + abs(y_max) * 0.1)\n",
    "    )\n",
    "    ax.set_xticks([1, 3])\n",
    "    ax.set_xticklabels(x_names)\n",
    "    # Lighten borders\n",
    "    for ax_pos in [\"top\", \"bottom\", \"right\", \"left\"]:\n",
    "        ax.spines[ax_pos].set_visible(False)\n",
    "    return ax\n",
    "\n",
    "\n",
    "slope_plot(df, x=\"Year\", y=\"GDP per capita\", group=\"Continent\");"
   ]
  },
  {
   "cell_type": "markdown",
   "metadata": {},
   "source": [
    "### Seaborn"
   ]
  },
  {
   "cell_type": "code",
   "execution_count": null,
   "metadata": {},
   "outputs": [],
   "source": [
    "sns.pointplot(x=\"Year\", y=\"GDP per capita\", hue=\"Continent\", data=df)\n",
    "plt.legend(bbox_to_anchor=(1.05, 1), loc=2, borderaxespad=0.0);"
   ]
  },
  {
   "cell_type": "markdown",
   "metadata": {},
   "source": [
    "### Plotnine"
   ]
  },
  {
   "cell_type": "code",
   "execution_count": null,
   "metadata": {},
   "outputs": [],
   "source": [
    "(\n",
    "    ggplot(df, aes(x=\"Year\", y=\"GDP per capita\", group=\"Continent\"))\n",
    "    + geom_line(aes(color=\"Continent\", alpha=1), size=2)\n",
    "    + geom_point(aes(color=\"Continent\", alpha=1), size=4)\n",
    ")"
   ]
  },
  {
   "cell_type": "markdown",
   "metadata": {},
   "source": [
    "### Altair"
   ]
  },
  {
   "cell_type": "code",
   "execution_count": null,
   "metadata": {},
   "outputs": [],
   "source": [
    "alt.Chart(df).mark_line().encode(x=\"Year:O\", y=\"GDP per capita\", color=\"Continent\")"
   ]
  },
  {
   "cell_type": "markdown",
   "metadata": {},
   "source": [
    "### Plotly"
   ]
  },
  {
   "cell_type": "code",
   "execution_count": null,
   "metadata": {},
   "outputs": [],
   "source": [
    "import plotly.graph_objects as go\n",
    "\n",
    "yr_names = [int(x) for x in df[\"Year\"].unique()]\n",
    "px_df = (\n",
    "    df.pivot(index=\"Continent\", columns=\"Year\", values=\"GDP per capita\")\n",
    "    .reset_index()\n",
    "    .rename(columns=dict(zip(df[\"Year\"].unique(), range(len(df[\"Year\"].unique())))))\n",
    ")\n",
    "\n",
    "x_offset = 5\n",
    "\n",
    "fig1 = go.Figure()\n",
    "# Draw lines\n",
    "for index, row in px_df.iterrows():\n",
    "    fig1.add_shape(\n",
    "        type=\"line\",\n",
    "        x0=yr_names[0],\n",
    "        y0=row[0],\n",
    "        x1=yr_names[1],\n",
    "        y1=row[1],\n",
    "        name=row[\"Continent\"],\n",
    "        line=dict(color=px.colors.qualitative.Plotly[index]),\n",
    "    )\n",
    "    fig1.add_trace(\n",
    "        go.Scatter(\n",
    "            x=[yr_names[0]],\n",
    "            y=[row[0]],\n",
    "            text=row[\"Continent\"],\n",
    "            mode=\"text\",\n",
    "            name=None,\n",
    "        )\n",
    "    )\n",
    "\n",
    "\n",
    "fig1.update_xaxes(range=[yr_names[0] - x_offset, yr_names[1] + x_offset])\n",
    "fig1.update_yaxes(\n",
    "    range=[px_df[[0, 1]].min().min() * 0.8, px_df[[0, 1]].max().max() * 1.2]\n",
    ")\n",
    "fig1.update_layout(showlegend=False)\n",
    "fig1.show()"
   ]
  },
  {
   "cell_type": "markdown",
   "metadata": {},
   "source": [
    "## Dumbbell Plot\n",
    "\n",
    "These are excellent for showing a change in time with a large number of categories, as we will do here with continents and mean GDP per capita."
   ]
  },
  {
   "cell_type": "code",
   "execution_count": null,
   "metadata": {},
   "outputs": [],
   "source": [
    "df = pd.read_csv(\n",
    "    \"https://raw.githubusercontent.com/selva86/datasets/master/gdppercap.csv\"\n",
    ")\n",
    "df = pd.melt(\n",
    "    df,\n",
    "    id_vars=[\"continent\"],\n",
    "    value_vars=df.columns[1:],\n",
    "    value_name=\"GDP per capita\",\n",
    "    var_name=\"Year\",\n",
    ").rename(columns={\"continent\": \"Continent\"})\n",
    "df.head()"
   ]
  },
  {
   "cell_type": "markdown",
   "metadata": {},
   "source": [
    "### Matplotlib\n",
    "\n",
    "Again, no off-the-shelf method--but that's no problem when you can build it yourself."
   ]
  },
  {
   "cell_type": "code",
   "execution_count": null,
   "metadata": {},
   "outputs": [],
   "source": [
    "from matplotlib import lines as mlines\n",
    "\n",
    "\n",
    "def dumbbell_plot(data, x, y, change):\n",
    "    if len(data[x].unique()) != 2:\n",
    "        raise ValueError(\"Dumbbell plot must have two unique periods.\")\n",
    "    if type(data[y].iloc[0]) != str:\n",
    "        raise ValueError(\"Dumbbell plot y variable only works with category values.\")\n",
    "    wide_data = data[[x, y, change]].pivot(index=y, columns=x, values=change)\n",
    "    x_names = list(wide_data.columns)\n",
    "    y_names = list(wide_data.index)\n",
    "\n",
    "    def newline(p1, p2, color=\"black\"):\n",
    "        ax = plt.gca()\n",
    "        l = mlines.Line2D([p1[0], p2[0]], [p1[1], p2[1]], color=\"skyblue\", zorder=0)\n",
    "        ax.add_line(l)\n",
    "        return l\n",
    "\n",
    "    fig, ax = plt.subplots()\n",
    "    # Points\n",
    "    ax.scatter(\n",
    "        y=range(len(y_names)),\n",
    "        x=wide_data[x_names[1]],\n",
    "        s=50,\n",
    "        color=\"#0e668b\",\n",
    "        alpha=0.9,\n",
    "        zorder=2,\n",
    "        label=x_names[1],\n",
    "    )\n",
    "    ax.scatter(\n",
    "        y=range(len(y_names)),\n",
    "        x=wide_data[x_names[0]],\n",
    "        s=50,\n",
    "        color=\"#a3c4dc\",\n",
    "        alpha=0.9,\n",
    "        zorder=1,\n",
    "        label=x_names[0],\n",
    "    )\n",
    "    # Line segments\n",
    "    for i, p1, p2 in zip(\n",
    "        range(len(y_names)), wide_data[x_names[0]], wide_data[x_names[1]]\n",
    "    ):\n",
    "        newline([p1, i], [p2, i])\n",
    "    ax.set_yticks(range(len(y_names)))\n",
    "    ax.set_yticklabels(y_names)\n",
    "    # Decoration\n",
    "    # Lighten borders\n",
    "    for ax_pos in [\"top\", \"right\", \"left\"]:\n",
    "        ax.spines[ax_pos].set_visible(False)\n",
    "    ax.set_xlabel(change)\n",
    "    ax.legend(frameon=False, loc=\"lower right\")\n",
    "    plt.show()\n",
    "\n",
    "\n",
    "dumbbell_plot(df, x=\"Year\", y=\"Continent\", change=\"GDP per capita\")"
   ]
  },
  {
   "cell_type": "markdown",
   "metadata": {},
   "source": [
    "### Plotly"
   ]
  },
  {
   "cell_type": "code",
   "execution_count": null,
   "metadata": {},
   "outputs": [],
   "source": [
    "import plotly.graph_objects as go\n",
    "\n",
    "fig1 = go.Figure()\n",
    "\n",
    "yr_names = df[\"Year\"].unique()\n",
    "\n",
    "\n",
    "# Draw lines\n",
    "for i, cont in enumerate(df[\"Continent\"].unique()):\n",
    "    cdf = df[df[\"Continent\"] == cont]\n",
    "    fig1.add_shape(\n",
    "        type=\"line\",\n",
    "        x0=cdf.loc[cdf[\"Year\"] == yr_names[0], \"GDP per capita\"].values[0],\n",
    "        y0=cont,\n",
    "        x1=cdf.loc[cdf[\"Year\"] == yr_names[1], \"GDP per capita\"].values[0],\n",
    "        y1=cont,\n",
    "        line=dict(color=px.colors.qualitative.Plotly[0], width=2),\n",
    "    )\n",
    "# Draw points\n",
    "for i, year in enumerate(yr_names):\n",
    "    yrdf = df[df[\"Year\"] == year]\n",
    "    fig1.add_trace(\n",
    "        go.Scatter(\n",
    "            y=yrdf[\"Continent\"],\n",
    "            x=yrdf[\"GDP per capita\"],\n",
    "            mode=\"markers\",\n",
    "            name=year,\n",
    "            marker_color=px.colors.qualitative.Plotly[i],\n",
    "            marker_size=10,\n",
    "        ),\n",
    "    )\n",
    "\n",
    "fig1.show()"
   ]
  },
  {
   "cell_type": "markdown",
   "metadata": {},
   "source": [
    "## Polar\n",
    "\n",
    "I'm not sure I've ever seen a polar plots in economics, but you never know.\n",
    "\n",
    "Let's generate some polar data first:\n"
   ]
  },
  {
   "cell_type": "code",
   "execution_count": 3,
   "metadata": {},
   "outputs": [
    {
     "data": {
      "text/html": [
       "<div>\n",
       "<style scoped>\n",
       "    .dataframe tbody tr th:only-of-type {\n",
       "        vertical-align: middle;\n",
       "    }\n",
       "\n",
       "    .dataframe tbody tr th {\n",
       "        vertical-align: top;\n",
       "    }\n",
       "\n",
       "    .dataframe thead th {\n",
       "        text-align: right;\n",
       "    }\n",
       "</style>\n",
       "<table border=\"1\" class=\"dataframe\">\n",
       "  <thead>\n",
       "    <tr style=\"text-align: right;\">\n",
       "      <th></th>\n",
       "      <th>r</th>\n",
       "      <th>theta</th>\n",
       "    </tr>\n",
       "  </thead>\n",
       "  <tbody>\n",
       "    <tr>\n",
       "      <th>0</th>\n",
       "      <td>0.00</td>\n",
       "      <td>0.000000</td>\n",
       "    </tr>\n",
       "    <tr>\n",
       "      <th>1</th>\n",
       "      <td>0.01</td>\n",
       "      <td>0.062832</td>\n",
       "    </tr>\n",
       "    <tr>\n",
       "      <th>2</th>\n",
       "      <td>0.02</td>\n",
       "      <td>0.125664</td>\n",
       "    </tr>\n",
       "    <tr>\n",
       "      <th>3</th>\n",
       "      <td>0.03</td>\n",
       "      <td>0.188496</td>\n",
       "    </tr>\n",
       "    <tr>\n",
       "      <th>4</th>\n",
       "      <td>0.04</td>\n",
       "      <td>0.251327</td>\n",
       "    </tr>\n",
       "  </tbody>\n",
       "</table>\n",
       "</div>"
      ],
      "text/plain": [
       "      r     theta\n",
       "0  0.00  0.000000\n",
       "1  0.01  0.062832\n",
       "2  0.02  0.125664\n",
       "3  0.03  0.188496\n",
       "4  0.04  0.251327"
      ]
     },
     "execution_count": 3,
     "metadata": {},
     "output_type": "execute_result"
    }
   ],
   "source": [
    "r = np.arange(0, 2, 0.01)\n",
    "theta = 2 * np.pi * r\n",
    "polar_data = pd.DataFrame({\"r\": r, \"theta\": theta})\n",
    "polar_data.head()"
   ]
  },
  {
   "cell_type": "markdown",
   "metadata": {},
   "source": [
    "### Matplotlib\n"
   ]
  },
  {
   "cell_type": "code",
   "execution_count": 4,
   "metadata": {},
   "outputs": [
    {
     "data": {
      "image/svg+xml": "<?xml version=\"1.0\" encoding=\"utf-8\" standalone=\"no\"?>\n<!DOCTYPE svg PUBLIC \"-//W3C//DTD SVG 1.1//EN\"\n  \"http://www.w3.org/Graphics/SVG/1.1/DTD/svg11.dtd\">\n<svg xmlns:xlink=\"http://www.w3.org/1999/xlink\" width=\"325.312pt\" height=\"319.312pt\" viewBox=\"0 0 325.312 319.312\" xmlns=\"http://www.w3.org/2000/svg\" version=\"1.1\">\n <metadata>\n  <rdf:RDF xmlns:dc=\"http://purl.org/dc/elements/1.1/\" xmlns:cc=\"http://creativecommons.org/ns#\" xmlns:rdf=\"http://www.w3.org/1999/02/22-rdf-syntax-ns#\">\n   <cc:Work>\n    <dc:type rdf:resource=\"http://purl.org/dc/dcmitype/StillImage\"/>\n    <dc:date>2022-09-16T16:20:29.961450</dc:date>\n    <dc:format>image/svg+xml</dc:format>\n    <dc:creator>\n     <cc:Agent>\n      <dc:title>Matplotlib v3.5.3, https://matplotlib.org/</dc:title>\n     </cc:Agent>\n    </dc:creator>\n   </cc:Work>\n  </rdf:RDF>\n </metadata>\n <defs>\n  <style type=\"text/css\">*{stroke-linejoin: round; stroke-linecap: butt}</style>\n </defs>\n <g id=\"figure_1\">\n  <g id=\"patch_1\">\n   <path d=\"M 0 319.312 \nL 325.312 319.312 \nL 325.312 0 \nL 0 0 \nz\n\" style=\"fill: #ffffff\"/>\n  </g>\n  <g id=\"axes_1\">\n   <g id=\"patch_2\">\n    <path d=\"M 298.712 159.656 \nC 298.712 142.183246 295.270248 124.880393 288.583715 108.737673 \nC 281.897182 92.594954 272.095903 77.926303 259.7408 65.5712 \nC 247.385697 53.216097 232.717046 43.414818 216.574327 36.728285 \nC 200.431607 30.041752 183.128754 26.6 165.656 26.6 \nC 148.183246 26.6 130.880393 30.041752 114.737673 36.728285 \nC 98.594954 43.414818 83.926303 53.216097 71.5712 65.5712 \nC 59.216097 77.926303 49.414818 92.594954 42.728285 108.737673 \nC 36.041752 124.880393 32.6 142.183246 32.6 159.656 \nC 32.6 177.128754 36.041752 194.431607 42.728285 210.574327 \nC 49.414818 226.717046 59.216097 241.385697 71.5712 253.7408 \nC 83.926303 266.095903 98.594954 275.897182 114.737673 282.583715 \nC 130.880393 289.270248 148.183246 292.712 165.656 292.712 \nC 183.128754 292.712 200.431607 289.270248 216.574327 282.583715 \nC 232.717046 275.897182 247.385697 266.095903 259.7408 253.7408 \nC 272.095903 241.385697 281.897182 226.717046 288.583715 210.574327 \nC 295.270248 194.431607 298.712 177.128754 298.712 159.656 \nM 165.656 159.656 \nC 165.656 159.656 165.656 159.656 165.656 159.656 \nC 165.656 159.656 165.656 159.656 165.656 159.656 \nC 165.656 159.656 165.656 159.656 165.656 159.656 \nC 165.656 159.656 165.656 159.656 165.656 159.656 \nC 165.656 159.656 165.656 159.656 165.656 159.656 \nC 165.656 159.656 165.656 159.656 165.656 159.656 \nC 165.656 159.656 165.656 159.656 165.656 159.656 \nC 165.656 159.656 165.656 159.656 165.656 159.656 \nC 165.656 159.656 165.656 159.656 165.656 159.656 \nC 165.656 159.656 165.656 159.656 165.656 159.656 \nC 165.656 159.656 165.656 159.656 165.656 159.656 \nC 165.656 159.656 165.656 159.656 165.656 159.656 \nC 165.656 159.656 165.656 159.656 165.656 159.656 \nC 165.656 159.656 165.656 159.656 165.656 159.656 \nC 165.656 159.656 165.656 159.656 165.656 159.656 \nC 165.656 159.656 165.656 159.656 165.656 159.656 \nM 298.712 159.656 \nz\n\" style=\"fill: #ffffff\"/>\n   </g>\n   <g id=\"matplotlib.axis_1\">\n    <g id=\"xtick_1\">\n     <g id=\"line2d_1\">\n      <path d=\"M 165.656 159.656 \nL 298.712 159.656 \n\" clip-path=\"url(#p16cb54b3db)\" style=\"fill: none; stroke: #b1afb5; stroke-width: 0.8; stroke-linecap: square\"/>\n     </g>\n     <g id=\"text_1\">\n      <!-- 0° -->\n      <g style=\"fill: #323034\" transform=\"translate(307.312 162.451625)scale(0.12 -0.12)\">\n       <defs>\n        <path id=\"STIXGeneral-Regular-30\" d=\"M 3046 2112 \nQ 3046 1683 2963 1302 \nQ 2880 922 2717 602 \nQ 2554 282 2266 96 \nQ 1978 -90 1600 -90 \nQ 1210 -90 915 108 \nQ 621 307 461 640 \nQ 301 973 227 1350 \nQ 154 1728 154 2150 \nQ 154 2746 301 3222 \nQ 448 3699 790 4012 \nQ 1133 4326 1626 4326 \nQ 2253 4326 2649 3712 \nQ 3046 3098 3046 2112 \nz\nM 2432 2080 \nQ 2432 3091 2217 3625 \nQ 2003 4160 1587 4160 \nQ 1190 4160 979 3622 \nQ 768 3085 768 2106 \nQ 768 1120 979 598 \nQ 1190 77 1600 77 \nQ 2003 77 2217 598 \nQ 2432 1120 2432 2080 \nz\n\" transform=\"scale(0.015625)\"/>\n        <path id=\"STIXGeneral-Regular-b0\" d=\"M 2195 3411 \nQ 2195 3027 1929 2761 \nQ 1664 2496 1280 2496 \nQ 890 2496 627 2761 \nQ 365 3027 365 3418 \nQ 365 3802 633 4064 \nQ 902 4326 1293 4326 \nQ 1664 4326 1929 4057 \nQ 2195 3789 2195 3411 \nz\nM 1946 3418 \nQ 1946 3699 1744 3904 \nQ 1542 4109 1267 4109 \nQ 1005 4109 809 3901 \nQ 614 3693 614 3411 \nQ 614 3123 809 2918 \nQ 1005 2714 1280 2714 \nQ 1555 2714 1750 2922 \nQ 1946 3130 1946 3418 \nz\n\" transform=\"scale(0.015625)\"/>\n       </defs>\n       <use xlink:href=\"#STIXGeneral-Regular-30\"/>\n       <use xlink:href=\"#STIXGeneral-Regular-b0\" x=\"49.999985\"/>\n      </g>\n     </g>\n    </g>\n    <g id=\"xtick_2\">\n     <g id=\"line2d_2\">\n      <path d=\"M 165.656 159.656 \nL 259.7408 65.5712 \n\" clip-path=\"url(#p16cb54b3db)\" style=\"fill: none; stroke: #b1afb5; stroke-width: 0.8; stroke-linecap: square\"/>\n     </g>\n     <g id=\"text_2\">\n      <!-- 45° -->\n      <g style=\"fill: #323034\" transform=\"translate(261.240295 58.46733)scale(0.12 -0.12)\">\n       <defs>\n        <path id=\"STIXGeneral-Regular-34\" d=\"M 3027 1069 \nL 2368 1069 \nL 2368 0 \nL 1869 0 \nL 1869 1069 \nL 77 1069 \nL 77 1478 \nL 2086 4326 \nL 2368 4326 \nL 2368 1478 \nL 3027 1478 \nL 3027 1069 \nz\nM 1869 1478 \nL 1869 3674 \nL 333 1478 \nL 1869 1478 \nz\n\" transform=\"scale(0.015625)\"/>\n        <path id=\"STIXGeneral-Regular-35\" d=\"M 2803 4358 \nL 2573 3814 \nQ 2534 3731 2400 3731 \nL 1158 3731 \nL 902 3187 \nQ 1606 3053 1920 2896 \nQ 2234 2739 2502 2368 \nQ 2726 2061 2726 1555 \nQ 2726 1094 2576 780 \nQ 2426 467 2099 224 \nQ 1664 -90 1011 -90 \nQ 646 -90 422 19 \nQ 198 128 198 307 \nQ 198 550 486 550 \nQ 717 550 960 352 \nQ 1210 147 1414 147 \nQ 1747 147 2012 480 \nQ 2278 813 2278 1229 \nQ 2278 1843 1850 2189 \nQ 1293 2637 486 2637 \nQ 410 2637 410 2688 \nL 416 2720 \nL 1114 4237 \nL 2438 4237 \nQ 2547 4237 2608 4269 \nQ 2669 4301 2746 4403 \nL 2803 4358 \nz\n\" transform=\"scale(0.015625)\"/>\n       </defs>\n       <use xlink:href=\"#STIXGeneral-Regular-34\"/>\n       <use xlink:href=\"#STIXGeneral-Regular-35\" x=\"49.999985\"/>\n       <use xlink:href=\"#STIXGeneral-Regular-b0\" x=\"99.999969\"/>\n      </g>\n     </g>\n    </g>\n    <g id=\"xtick_3\">\n     <g id=\"line2d_3\">\n      <path d=\"M 165.656 159.656 \nL 165.656 26.6 \n\" clip-path=\"url(#p16cb54b3db)\" style=\"fill: none; stroke: #b1afb5; stroke-width: 0.8; stroke-linecap: square\"/>\n     </g>\n     <g id=\"text_3\">\n      <!-- 90° -->\n      <g style=\"fill: #323034\" transform=\"translate(157.256 15.395625)scale(0.12 -0.12)\">\n       <defs>\n        <path id=\"STIXGeneral-Regular-39\" d=\"M 378 -141 \nL 358 -13 \nQ 1094 115 1603 608 \nQ 2112 1101 2304 1882 \nQ 1933 1517 1344 1517 \nQ 826 1517 509 1875 \nQ 192 2234 192 2816 \nQ 192 3462 573 3894 \nQ 954 4326 1523 4326 \nQ 2131 4326 2528 3840 \nQ 2938 3328 2938 2522 \nQ 2938 1958 2742 1462 \nQ 2547 966 2170 621 \nQ 1773 262 1395 105 \nQ 1018 -51 378 -141 \nz\nM 2317 2272 \nL 2317 2522 \nQ 2317 4147 1472 4147 \nQ 1171 4147 1005 3930 \nQ 909 3802 845 3546 \nQ 781 3290 781 3034 \nQ 781 2464 995 2128 \nQ 1210 1792 1568 1792 \nQ 1824 1792 2070 1917 \nQ 2317 2042 2317 2272 \nz\n\" transform=\"scale(0.015625)\"/>\n       </defs>\n       <use xlink:href=\"#STIXGeneral-Regular-39\"/>\n       <use xlink:href=\"#STIXGeneral-Regular-30\" x=\"49.999985\"/>\n       <use xlink:href=\"#STIXGeneral-Regular-b0\" x=\"99.999969\"/>\n      </g>\n     </g>\n    </g>\n    <g id=\"xtick_4\">\n     <g id=\"line2d_4\">\n      <path d=\"M 165.656 159.656 \nL 71.5712 65.5712 \n\" clip-path=\"url(#p16cb54b3db)\" style=\"fill: none; stroke: #b1afb5; stroke-width: 0.8; stroke-linecap: square\"/>\n     </g>\n     <g id=\"text_4\">\n      <!-- 135° -->\n      <g style=\"fill: #323034\" transform=\"translate(50.271705 58.46733)scale(0.12 -0.12)\">\n       <defs>\n        <path id=\"STIXGeneral-Regular-31\" d=\"M 2522 0 \nL 755 0 \nL 755 96 \nQ 1107 115 1235 227 \nQ 1363 339 1363 608 \nL 1363 3482 \nQ 1363 3795 1171 3795 \nQ 1082 3795 883 3718 \nL 710 3654 \nL 710 3744 \nL 1856 4326 \nL 1914 4307 \nL 1914 486 \nQ 1914 275 2042 185 \nQ 2170 96 2522 96 \nL 2522 0 \nz\n\" transform=\"scale(0.015625)\"/>\n        <path id=\"STIXGeneral-Regular-33\" d=\"M 390 3264 \nL 288 3290 \nQ 435 3770 748 4048 \nQ 1062 4326 1542 4326 \nQ 1990 4326 2265 4083 \nQ 2541 3840 2541 3450 \nQ 2541 2925 1946 2566 \nQ 2298 2413 2477 2227 \nQ 2758 1914 2758 1402 \nQ 2758 890 2464 506 \nQ 2246 211 1840 60 \nQ 1434 -90 979 -90 \nQ 262 -90 262 275 \nQ 262 378 339 442 \nQ 416 506 525 506 \nQ 685 506 915 339 \nQ 1197 141 1466 141 \nQ 1818 141 2058 425 \nQ 2298 710 2298 1120 \nQ 2298 1856 1632 2048 \nQ 1434 2112 979 2112 \nL 979 2202 \nQ 1338 2323 1517 2432 \nQ 2035 2726 2035 3290 \nQ 2035 3610 1852 3776 \nQ 1670 3942 1344 3942 \nQ 768 3942 390 3264 \nz\n\" transform=\"scale(0.015625)\"/>\n       </defs>\n       <use xlink:href=\"#STIXGeneral-Regular-31\"/>\n       <use xlink:href=\"#STIXGeneral-Regular-33\" x=\"49.999985\"/>\n       <use xlink:href=\"#STIXGeneral-Regular-35\" x=\"99.999969\"/>\n       <use xlink:href=\"#STIXGeneral-Regular-b0\" x=\"149.999954\"/>\n      </g>\n     </g>\n    </g>\n    <g id=\"xtick_5\">\n     <g id=\"line2d_5\">\n      <path d=\"M 165.656 159.656 \nL 32.6 159.656 \n\" clip-path=\"url(#p16cb54b3db)\" style=\"fill: none; stroke: #b1afb5; stroke-width: 0.8; stroke-linecap: square\"/>\n     </g>\n     <g id=\"text_5\">\n      <!-- 180° -->\n      <g style=\"fill: #323034\" transform=\"translate(7.2 162.451625)scale(0.12 -0.12)\">\n       <defs>\n        <path id=\"STIXGeneral-Regular-38\" d=\"M 2848 992 \nQ 2848 499 2505 204 \nQ 2163 -90 1587 -90 \nQ 1050 -90 704 204 \nQ 358 499 358 954 \nQ 358 1293 524 1533 \nQ 691 1773 1190 2125 \nQ 710 2522 553 2765 \nQ 397 3008 397 3328 \nQ 397 3782 745 4054 \nQ 1094 4326 1638 4326 \nQ 2106 4326 2410 4060 \nQ 2714 3795 2714 3411 \nQ 2714 3059 2531 2848 \nQ 2349 2637 1856 2374 \nQ 2432 1990 2640 1689 \nQ 2848 1389 2848 992 \nz\nM 2272 3411 \nQ 2272 3744 2086 3945 \nQ 1901 4147 1574 4147 \nQ 1248 4147 1059 3977 \nQ 870 3808 870 3513 \nQ 870 3219 1059 2979 \nQ 1248 2739 1670 2490 \nQ 1997 2682 2134 2896 \nQ 2272 3110 2272 3411 \nz\nM 1734 1741 \nL 1357 1997 \nQ 1075 1766 960 1545 \nQ 845 1325 845 1011 \nQ 845 576 1065 333 \nQ 1286 90 1658 90 \nQ 1971 90 2166 285 \nQ 2362 480 2362 794 \nQ 2362 1082 2214 1299 \nQ 2067 1517 1734 1741 \nz\n\" transform=\"scale(0.015625)\"/>\n       </defs>\n       <use xlink:href=\"#STIXGeneral-Regular-31\"/>\n       <use xlink:href=\"#STIXGeneral-Regular-38\" x=\"49.999985\"/>\n       <use xlink:href=\"#STIXGeneral-Regular-30\" x=\"99.999969\"/>\n       <use xlink:href=\"#STIXGeneral-Regular-b0\" x=\"149.999954\"/>\n      </g>\n     </g>\n    </g>\n    <g id=\"xtick_6\">\n     <g id=\"line2d_6\">\n      <path d=\"M 165.656 159.656 \nL 71.5712 253.7408 \n\" clip-path=\"url(#p16cb54b3db)\" style=\"fill: none; stroke: #b1afb5; stroke-width: 0.8; stroke-linecap: square\"/>\n     </g>\n     <g id=\"text_6\">\n      <!-- 225° -->\n      <g style=\"fill: #323034\" transform=\"translate(50.271705 266.43592)scale(0.12 -0.12)\">\n       <defs>\n        <path id=\"STIXGeneral-Regular-32\" d=\"M 3034 877 \nL 2688 0 \nL 186 0 \nL 186 77 \nL 1325 1286 \nQ 1773 1754 1965 2144 \nQ 2157 2534 2157 2950 \nQ 2157 3379 1920 3616 \nQ 1683 3853 1267 3853 \nQ 922 3853 720 3673 \nQ 518 3494 326 3021 \nL 192 3053 \nQ 301 3648 630 3987 \nQ 960 4326 1523 4326 \nQ 2054 4326 2380 4006 \nQ 2707 3686 2707 3200 \nQ 2707 2477 1888 1613 \nL 832 486 \nL 2330 486 \nQ 2541 486 2665 569 \nQ 2790 653 2944 915 \nL 3034 877 \nz\n\" transform=\"scale(0.015625)\"/>\n       </defs>\n       <use xlink:href=\"#STIXGeneral-Regular-32\"/>\n       <use xlink:href=\"#STIXGeneral-Regular-32\" x=\"49.999985\"/>\n       <use xlink:href=\"#STIXGeneral-Regular-35\" x=\"99.999969\"/>\n       <use xlink:href=\"#STIXGeneral-Regular-b0\" x=\"149.999954\"/>\n      </g>\n     </g>\n    </g>\n    <g id=\"xtick_7\">\n     <g id=\"line2d_7\">\n      <path d=\"M 165.656 159.656 \nL 165.656 292.712 \n\" clip-path=\"url(#p16cb54b3db)\" style=\"fill: none; stroke: #b1afb5; stroke-width: 0.8; stroke-linecap: square\"/>\n     </g>\n     <g id=\"text_7\">\n      <!-- 270° -->\n      <g style=\"fill: #323034\" transform=\"translate(154.256 309.507625)scale(0.12 -0.12)\">\n       <defs>\n        <path id=\"STIXGeneral-Regular-37\" d=\"M 2874 4134 \nL 1517 -51 \nL 1101 -51 \nL 2368 3763 \nL 992 3763 \nQ 717 3763 582 3667 \nQ 448 3571 243 3238 \nL 128 3296 \nL 512 4237 \nL 2874 4237 \nL 2874 4134 \nz\n\" transform=\"scale(0.015625)\"/>\n       </defs>\n       <use xlink:href=\"#STIXGeneral-Regular-32\"/>\n       <use xlink:href=\"#STIXGeneral-Regular-37\" x=\"49.999985\"/>\n       <use xlink:href=\"#STIXGeneral-Regular-30\" x=\"99.999969\"/>\n       <use xlink:href=\"#STIXGeneral-Regular-b0\" x=\"149.999954\"/>\n      </g>\n     </g>\n    </g>\n    <g id=\"xtick_8\">\n     <g id=\"line2d_8\">\n      <path d=\"M 165.656 159.656 \nL 259.7408 253.7408 \n\" clip-path=\"url(#p16cb54b3db)\" style=\"fill: none; stroke: #b1afb5; stroke-width: 0.8; stroke-linecap: square\"/>\n     </g>\n     <g id=\"text_8\">\n      <!-- 315° -->\n      <g style=\"fill: #323034\" transform=\"translate(258.240295 266.43592)scale(0.12 -0.12)\">\n       <use xlink:href=\"#STIXGeneral-Regular-33\"/>\n       <use xlink:href=\"#STIXGeneral-Regular-31\" x=\"49.999985\"/>\n       <use xlink:href=\"#STIXGeneral-Regular-35\" x=\"99.999969\"/>\n       <use xlink:href=\"#STIXGeneral-Regular-b0\" x=\"149.999954\"/>\n      </g>\n     </g>\n    </g>\n   </g>\n   <g id=\"matplotlib.axis_2\">\n    <g id=\"ytick_1\">\n     <g id=\"line2d_9\">\n      <path d=\"M 198.92 159.656 \nC 198.92 155.287812 198.059562 150.962098 196.387929 146.926418 \nC 194.716295 142.890738 192.265976 139.223576 189.1772 136.1348 \nC 186.088424 133.046024 182.421262 130.595705 178.385582 128.924071 \nC 174.349902 127.252438 170.024188 126.392 165.656 126.392 \nC 161.287812 126.392 156.962098 127.252438 152.926418 128.924071 \nC 148.890738 130.595705 145.223576 133.046024 142.1348 136.1348 \nC 139.046024 139.223576 136.595705 142.890738 134.924071 146.926418 \nC 133.252438 150.962098 132.392 155.287812 132.392 159.656 \nC 132.392 164.024188 133.252438 168.349902 134.924071 172.385582 \nC 136.595705 176.421262 139.046024 180.088424 142.1348 183.1772 \nC 145.223576 186.265976 148.890738 188.716295 152.926418 190.387929 \nC 156.962098 192.059562 161.287812 192.92 165.656 192.92 \nC 170.024188 192.92 174.349902 192.059562 178.385582 190.387929 \nC 182.421262 188.716295 186.088424 186.265976 189.1772 183.1772 \nC 192.265976 180.088424 194.716295 176.421262 196.387929 172.385582 \nC 198.059562 168.349902 198.92 164.024188 198.92 159.656 \n\" clip-path=\"url(#p16cb54b3db)\" style=\"fill: none; stroke: #b1afb5; stroke-width: 0.8; stroke-linecap: square\"/>\n     </g>\n     <g id=\"text_9\">\n      <!-- $\\mathdefault{0.5}$ -->\n      <g style=\"fill: #323034\" transform=\"translate(196.387929 169.781207)scale(0.12 -0.12)\">\n       <defs>\n        <path id=\"STIXGeneral-Regular-2e\" d=\"M 1158 275 \nQ 1158 134 1052 32 \nQ 947 -70 800 -70 \nQ 653 -70 550 32 \nQ 448 134 448 281 \nQ 448 429 553 534 \nQ 659 640 806 640 \nQ 947 640 1052 531 \nQ 1158 422 1158 275 \nz\n\" transform=\"scale(0.015625)\"/>\n       </defs>\n       <use xlink:href=\"#STIXGeneral-Regular-30\" transform=\"translate(0 0.203125)\"/>\n       <use xlink:href=\"#STIXGeneral-Regular-2e\" transform=\"translate(49.999985 0.203125)\"/>\n       <use xlink:href=\"#STIXGeneral-Regular-35\" transform=\"translate(74.999969 0.203125)\"/>\n      </g>\n     </g>\n    </g>\n    <g id=\"ytick_2\">\n     <g id=\"line2d_10\">\n      <path d=\"M 232.184 159.656 \nC 232.184 150.919623 230.463124 142.268196 227.119858 134.196837 \nC 223.776591 126.125477 218.875951 118.791151 212.6984 112.6136 \nC 206.520849 106.436049 199.186523 101.535409 191.115163 98.192142 \nC 183.043804 94.848876 174.392377 93.128 165.656 93.128 \nC 156.919623 93.128 148.268196 94.848876 140.196837 98.192142 \nC 132.125477 101.535409 124.791151 106.436049 118.6136 112.6136 \nC 112.436049 118.791151 107.535409 126.125477 104.192142 134.196837 \nC 100.848876 142.268196 99.128 150.919623 99.128 159.656 \nC 99.128 168.392377 100.848876 177.043804 104.192142 185.115163 \nC 107.535409 193.186523 112.436049 200.520849 118.6136 206.6984 \nC 124.791151 212.875951 132.125477 217.776591 140.196837 221.119858 \nC 148.268196 224.463124 156.919623 226.184 165.656 226.184 \nC 174.392377 226.184 183.043804 224.463124 191.115163 221.119858 \nC 199.186523 217.776591 206.520849 212.875951 212.6984 206.6984 \nC 218.875951 200.520849 223.776591 193.186523 227.119858 185.115163 \nC 230.463124 177.043804 232.184 168.392377 232.184 159.656 \n\" clip-path=\"url(#p16cb54b3db)\" style=\"fill: none; stroke: #b1afb5; stroke-width: 0.8; stroke-linecap: square\"/>\n     </g>\n     <g id=\"text_10\">\n      <!-- $\\mathdefault{1.0}$ -->\n      <g style=\"fill: #323034\" transform=\"translate(227.119858 182.510788)scale(0.12 -0.12)\">\n       <use xlink:href=\"#STIXGeneral-Regular-31\" transform=\"translate(0 0.40625)\"/>\n       <use xlink:href=\"#STIXGeneral-Regular-2e\" transform=\"translate(49.999985 0.40625)\"/>\n       <use xlink:href=\"#STIXGeneral-Regular-30\" transform=\"translate(74.999969 0.40625)\"/>\n      </g>\n     </g>\n    </g>\n    <g id=\"ytick_3\">\n     <g id=\"line2d_11\">\n      <path d=\"M 265.448 159.656 \nC 265.448 146.551435 262.866686 133.574295 257.851786 121.467255 \nC 252.836886 109.360215 245.485927 98.358727 236.2196 89.0924 \nC 226.953273 79.826073 215.951785 72.475114 203.844745 67.460214 \nC 191.737705 62.445314 178.760565 59.864 165.656 59.864 \nC 152.551435 59.864 139.574295 62.445314 127.467255 67.460214 \nC 115.360215 72.475114 104.358727 79.826073 95.0924 89.0924 \nC 85.826073 98.358727 78.475114 109.360215 73.460214 121.467255 \nC 68.445314 133.574295 65.864 146.551435 65.864 159.656 \nC 65.864 172.760565 68.445314 185.737705 73.460214 197.844745 \nC 78.475114 209.951785 85.826073 220.953273 95.0924 230.2196 \nC 104.358727 239.485927 115.360215 246.836886 127.467255 251.851786 \nC 139.574295 256.866686 152.551435 259.448 165.656 259.448 \nC 178.760565 259.448 191.737705 256.866686 203.844745 251.851786 \nC 215.951785 246.836886 226.953273 239.485927 236.2196 230.2196 \nC 245.485927 220.953273 252.836886 209.951785 257.851786 197.844745 \nC 262.866686 185.737705 265.448 172.760565 265.448 159.656 \n\" clip-path=\"url(#p16cb54b3db)\" style=\"fill: none; stroke: #b1afb5; stroke-width: 0.8; stroke-linecap: square\"/>\n     </g>\n     <g id=\"text_11\">\n      <!-- $\\mathdefault{1.5}$ -->\n      <g style=\"fill: #323034\" transform=\"translate(257.851786 195.24037)scale(0.12 -0.12)\">\n       <use xlink:href=\"#STIXGeneral-Regular-31\" transform=\"translate(0 0.203125)\"/>\n       <use xlink:href=\"#STIXGeneral-Regular-2e\" transform=\"translate(49.999985 0.203125)\"/>\n       <use xlink:href=\"#STIXGeneral-Regular-35\" transform=\"translate(74.999969 0.203125)\"/>\n      </g>\n     </g>\n    </g>\n    <g id=\"ytick_4\">\n     <g id=\"line2d_12\">\n      <path d=\"M 298.712 159.656 \nC 298.712 142.183246 295.270248 124.880393 288.583715 108.737673 \nC 281.897182 92.594954 272.095903 77.926303 259.7408 65.5712 \nC 247.385697 53.216097 232.717046 43.414818 216.574327 36.728285 \nC 200.431607 30.041752 183.128754 26.6 165.656 26.6 \nC 148.183246 26.6 130.880393 30.041752 114.737673 36.728285 \nC 98.594954 43.414818 83.926303 53.216097 71.5712 65.5712 \nC 59.216097 77.926303 49.414818 92.594954 42.728285 108.737673 \nC 36.041752 124.880393 32.6 142.183246 32.6 159.656 \nC 32.6 177.128754 36.041752 194.431607 42.728285 210.574327 \nC 49.414818 226.717046 59.216097 241.385697 71.5712 253.7408 \nC 83.926303 266.095903 98.594954 275.897182 114.737673 282.583715 \nC 130.880393 289.270248 148.183246 292.712 165.656 292.712 \nC 183.128754 292.712 200.431607 289.270248 216.574327 282.583715 \nC 232.717046 275.897182 247.385697 266.095903 259.7408 253.7408 \nC 272.095903 241.385697 281.897182 226.717046 288.583715 210.574327 \nC 295.270248 194.431607 298.712 177.128754 298.712 159.656 \n\" clip-path=\"url(#p16cb54b3db)\" style=\"fill: none; stroke: #b1afb5; stroke-width: 0.8; stroke-linecap: square\"/>\n     </g>\n     <g id=\"text_12\">\n      <!-- $\\mathdefault{2.0}$ -->\n      <g style=\"fill: #323034\" transform=\"translate(288.583715 207.969952)scale(0.12 -0.12)\">\n       <use xlink:href=\"#STIXGeneral-Regular-32\" transform=\"translate(0 0.40625)\"/>\n       <use xlink:href=\"#STIXGeneral-Regular-2e\" transform=\"translate(49.999985 0.40625)\"/>\n       <use xlink:href=\"#STIXGeneral-Regular-30\" transform=\"translate(74.999969 0.40625)\"/>\n      </g>\n     </g>\n    </g>\n   </g>\n   <g id=\"line2d_13\">\n    <path d=\"M 165.656 159.656 \nL 166.976068 159.489237 \nL 168.233516 158.994206 \nL 169.36737 158.186565 \nL 170.319914 157.091991 \nL 171.038228 155.745582 \nL 171.475619 154.191014 \nL 171.592916 152.479501 \nL 171.359598 150.668568 \nL 170.754724 148.82066 \nL 169.767657 147.001622 \nL 168.398543 145.279087 \nL 166.658559 143.720787 \nL 164.569895 142.392852 \nL 162.165491 141.35811 \nL 159.488515 140.674434 \nL 158.063917 140.480587 \nL 156.591602 140.393173 \nL 155.079464 140.417353 \nL 153.535855 140.557708 \nL 151.969538 140.818201 \nL 150.389644 141.202146 \nL 148.805627 141.712175 \nL 147.227207 142.350211 \nL 145.664325 143.117448 \nL 144.127087 144.014329 \nL 142.625706 145.040531 \nL 141.170449 146.194954 \nL 139.771576 147.475715 \nL 138.439285 148.88014 \nL 137.18365 150.404773 \nL 136.014566 152.045373 \nL 134.941685 153.796931 \nL 133.974365 155.653679 \nL 133.121606 157.609109 \nL 132.392 159.656 \nL 131.793672 161.786437 \nL 131.334228 163.991848 \nL 131.020709 166.263035 \nL 130.859534 168.590214 \nL 130.856462 170.963055 \nL 131.016545 173.370731 \nL 131.34409 175.801959 \nL 131.84262 178.245063 \nL 132.514846 180.688016 \nL 133.36263 183.118506 \nL 134.38697 185.523991 \nL 135.587969 187.891761 \nL 136.964824 190.209 \nL 138.515812 192.462851 \nL 140.238285 194.640484 \nL 142.12866 196.729156 \nL 144.182427 198.716284 \nL 146.394154 200.589507 \nL 148.757493 202.336757 \nL 151.265202 203.946322 \nL 153.909163 205.406909 \nL 156.680405 206.707716 \nL 159.569136 207.838487 \nL 162.564778 208.789574 \nL 165.656 209.552 \nL 168.830769 210.117509 \nL 172.07639 210.478623 \nL 175.379561 210.628693 \nL 178.726424 210.561941 \nL 182.102626 210.27351 \nL 185.493378 209.759498 \nL 188.883521 209.016994 \nL 192.25759 208.044113 \nL 195.599887 206.840017 \nL 198.894551 205.40494 \nL 202.125627 203.740206 \nL 205.277148 201.848238 \nL 208.333206 199.732564 \nL 211.278027 197.397823 \nL 214.096054 194.84976 \nL 216.772018 192.095211 \nL 219.291016 189.1421 \nL 221.638591 185.999408 \nL 223.8008 182.677155 \nL 225.764294 179.186368 \nL 227.516385 175.539047 \nL 229.045118 171.748121 \nL 230.339339 167.827406 \nL 231.388755 163.791554 \nL 232.184 159.656 \nL 232.716689 155.436899 \nL 232.979475 151.151067 \nL 232.966094 146.815913 \nL 232.671417 142.449366 \nL 232.091482 138.069803 \nL 231.22354 133.695974 \nL 230.066078 129.346918 \nL 228.618845 125.041883 \nL 226.882879 120.800241 \nL 224.860511 116.641405 \nL 222.555383 112.584737 \nL 219.972444 108.649464 \nL 217.117951 104.854588 \nL 213.999459 101.218796 \nL 210.625804 97.760375 \nL 207.007083 94.49712 \nL 203.154627 91.446251 \nL 199.080969 88.624326 \nL 194.799802 86.047158 \nL 190.325939 83.729735 \nL 185.675257 81.68614 \nL 180.864647 79.92948 \nL 175.911948 78.47181 \nL 170.835886 77.324064 \nL 165.656 76.496 \nL 160.392567 75.99613 \nL 155.066525 75.831673 \nL 149.699387 76.008504 \nL 144.313155 76.531108 \nL 138.930233 77.402546 \nL 133.573327 78.624417 \nL 128.265357 80.196839 \nL 123.029356 82.118422 \nL 117.88837 84.386259 \nL 112.865361 86.995918 \nL 107.983101 89.941441 \nL 103.264077 93.21535 \nL 98.730382 96.808661 \nL 94.40362 100.710905 \nL 90.304804 104.910152 \nL 86.454258 109.393046 \nL 82.871518 114.144846 \nL 79.575242 119.14947 \nL 76.583115 124.38955 \nL 73.911763 129.84649 \nL 71.576665 135.500532 \nL 69.592079 141.330827 \nL 67.970958 147.315509 \nL 66.724884 153.431782 \nL 65.864 159.656 \nL 65.396949 165.963765 \nL 65.330822 172.330017 \nL 65.671102 178.729139 \nL 66.421633 185.135055 \nL 67.584574 191.521338 \nL 69.160375 197.861321 \nL 71.147755 204.128204 \nL 73.543689 210.295171 \nL 76.343397 216.335501 \nL 79.540348 222.222684 \nL 83.126265 227.930535 \nL 87.091144 233.433311 \nL 91.423274 238.705824 \nL 96.109269 243.723556 \nL 101.134108 248.462766 \nL 106.481175 252.900604 \nL 112.132319 257.015214 \nL 118.067909 260.785841 \nL 124.266902 264.192927 \nL 130.70692 267.218209 \nL 137.364322 269.84481 \nL 144.214301 272.057323 \nL 151.230967 273.841894 \nL 158.38745 275.186297 \nL 165.656 276.08 \nL 173.008097 276.514231 \nL 180.41456 276.48203 \nL 187.845665 275.978299 \nL 195.271265 274.999842 \nL 202.660909 273.545398 \nL 209.983968 271.615668 \nL 217.209765 269.213328 \nL 224.307698 266.343043 \nL 231.247372 263.011465 \nL 237.998728 259.227223 \nL 244.53217 255.000911 \nL 250.818698 250.345062 \nL 256.830031 245.274114 \nL 262.538732 239.804367 \nL 267.918337 233.953937 \nL 272.943466 227.742696 \nL 277.589947 221.192208 \nL 281.834925 214.325652 \nL 285.65697 207.167745 \nL 289.036181 199.744651 \nL 291.954285 192.083888 \nL 294.394724 184.214225 \nL 296.342746 176.165575 \nL 297.785477 167.968882 \nL 297.785477 167.968882 \n\" clip-path=\"url(#p16cb54b3db)\" style=\"fill: none; stroke: #bc80bd; stroke-width: 2; stroke-linecap: square\"/>\n   </g>\n   <g id=\"patch_3\">\n    <path d=\"M 298.712 159.656 \nC 298.712 142.183246 295.270248 124.880393 288.583715 108.737673 \nC 281.897182 92.594954 272.095903 77.926303 259.7408 65.5712 \nC 247.385697 53.216097 232.717046 43.414818 216.574327 36.728285 \nC 200.431607 30.041752 183.128754 26.6 165.656 26.6 \nC 148.183246 26.6 130.880393 30.041752 114.737673 36.728285 \nC 98.594954 43.414818 83.926303 53.216097 71.5712 65.5712 \nC 59.216097 77.926303 49.414818 92.594954 42.728285 108.737673 \nC 36.041752 124.880393 32.6 142.183246 32.6 159.656 \nC 32.6 177.128754 36.041752 194.431607 42.728285 210.574327 \nC 49.414818 226.717046 59.216097 241.385697 71.5712 253.7408 \nC 83.926303 266.095903 98.594954 275.897182 114.737673 282.583715 \nC 130.880393 289.270248 148.183246 292.712 165.656 292.712 \nC 183.128754 292.712 200.431607 289.270248 216.574327 282.583715 \nC 232.717046 275.897182 247.385697 266.095903 259.7408 253.7408 \nC 272.095903 241.385697 281.897182 226.717046 288.583715 210.574327 \nC 295.270248 194.431607 298.712 177.128754 298.712 159.656 \n\" style=\"fill: none; stroke: #000000; stroke-width: 0.6; stroke-linejoin: miter; stroke-linecap: square\"/>\n   </g>\n  </g>\n </g>\n <defs>\n  <clipPath id=\"p16cb54b3db\">\n   <path d=\"M 298.712 159.656 \nC 298.712 142.183246 295.270248 124.880393 288.583715 108.737673 \nC 281.897182 92.594954 272.095903 77.926303 259.7408 65.5712 \nC 247.385697 53.216097 232.717046 43.414818 216.574327 36.728285 \nC 200.431607 30.041752 183.128754 26.6 165.656 26.6 \nC 148.183246 26.6 130.880393 30.041752 114.737673 36.728285 \nC 98.594954 43.414818 83.926303 53.216097 71.5712 65.5712 \nC 59.216097 77.926303 49.414818 92.594954 42.728285 108.737673 \nC 36.041752 124.880393 32.6 142.183246 32.6 159.656 \nC 32.6 177.128754 36.041752 194.431607 42.728285 210.574327 \nC 49.414818 226.717046 59.216097 241.385697 71.5712 253.7408 \nC 83.926303 266.095903 98.594954 275.897182 114.737673 282.583715 \nC 130.880393 289.270248 148.183246 292.712 165.656 292.712 \nC 183.128754 292.712 200.431607 289.270248 216.574327 282.583715 \nC 232.717046 275.897182 247.385697 266.095903 259.7408 253.7408 \nC 272.095903 241.385697 281.897182 226.717046 288.583715 210.574327 \nC 295.270248 194.431607 298.712 177.128754 298.712 159.656 \nM 165.656 159.656 \nC 165.656 159.656 165.656 159.656 165.656 159.656 \nC 165.656 159.656 165.656 159.656 165.656 159.656 \nC 165.656 159.656 165.656 159.656 165.656 159.656 \nC 165.656 159.656 165.656 159.656 165.656 159.656 \nC 165.656 159.656 165.656 159.656 165.656 159.656 \nC 165.656 159.656 165.656 159.656 165.656 159.656 \nC 165.656 159.656 165.656 159.656 165.656 159.656 \nC 165.656 159.656 165.656 159.656 165.656 159.656 \nC 165.656 159.656 165.656 159.656 165.656 159.656 \nC 165.656 159.656 165.656 159.656 165.656 159.656 \nC 165.656 159.656 165.656 159.656 165.656 159.656 \nC 165.656 159.656 165.656 159.656 165.656 159.656 \nC 165.656 159.656 165.656 159.656 165.656 159.656 \nC 165.656 159.656 165.656 159.656 165.656 159.656 \nC 165.656 159.656 165.656 159.656 165.656 159.656 \nC 165.656 159.656 165.656 159.656 165.656 159.656 \nM 298.712 159.656 \nz\n\"/>\n  </clipPath>\n </defs>\n</svg>\n",
      "text/plain": [
       "<Figure size 960x720 with 1 Axes>"
      ]
     },
     "metadata": {},
     "output_type": "display_data"
    }
   ],
   "source": [
    "ax = plt.subplot(111, projection=\"polar\")\n",
    "ax.plot(polar_data[\"theta\"], polar_data[\"r\"])\n",
    "ax.set_rmax(2)\n",
    "ax.set_rticks([0.5, 1, 1.5, 2])  # Fewer radial ticks\n",
    "ax.set_rlabel_position(-22.5)  # Move radial labels away from plotted line\n",
    "ax.grid(True)\n",
    "plt.show()"
   ]
  },
  {
   "cell_type": "markdown",
   "metadata": {},
   "source": [
    "### Plotly"
   ]
  },
  {
   "cell_type": "code",
   "execution_count": null,
   "metadata": {},
   "outputs": [],
   "source": [
    "fig = go.Figure(\n",
    "    data=go.Scatterpolar(\n",
    "        r=polar_data[\"r\"].values,\n",
    "        theta=polar_data[\"theta\"].values * 180 / (np.pi),\n",
    "        mode=\"lines\",\n",
    "    )\n",
    ")\n",
    "\n",
    "fig.update_layout(showlegend=False)\n",
    "fig.show()"
   ]
  },
  {
   "cell_type": "markdown",
   "metadata": {},
   "source": [
    "## Radar (or spider) chart\n",
    "\n",
    "Let's generate some synthetic data for this one. Assumes that result to be shown is the sum of observations."
   ]
  },
  {
   "cell_type": "code",
   "execution_count": null,
   "metadata": {},
   "outputs": [],
   "source": [
    "df = pd.DataFrame(\n",
    "    dict(\n",
    "        zip(\n",
    "            [\"var\" + str(i) for i in range(1, 6)],\n",
    "            [np.random.randint(30, size=(4)) for i in range(1, 6)],\n",
    "        )\n",
    "    )\n",
    ")\n",
    "df.head()"
   ]
  },
  {
   "cell_type": "code",
   "execution_count": null,
   "metadata": {},
   "outputs": [],
   "source": [
    "from math import pi\n",
    "\n",
    "\n",
    "def radar_plot(data, variables):\n",
    "    n_vars = len(variables)\n",
    "    # Plot the first line of the data frame.\n",
    "    # Repeat the first value to close the circular graph:\n",
    "    values = data.loc[data.index[0], variables].values.flatten().tolist()\n",
    "    values += values[:1]\n",
    "    # What will be the angle of each axis in the plot? (we divide / number of variable)\n",
    "    angles = [n / float(n_vars) * 2 * pi for n in range(n_vars)]\n",
    "    angles += angles[:1]\n",
    "    # Initialise the spider plot\n",
    "    ax = plt.subplot(111, polar=True)\n",
    "    # Draw one axe per variable + add labels\n",
    "    plt.xticks(angles[:-1], variables)\n",
    "    # Draw ylabels\n",
    "    ax.set_rlabel_position(0)\n",
    "    # Plot data\n",
    "    ax.plot(angles, values, linewidth=1, linestyle=\"solid\")\n",
    "    # Fill area\n",
    "    ax.fill(angles, values, \"b\", alpha=0.1)\n",
    "    return ax\n",
    "\n",
    "\n",
    "radar_plot(df, df.columns);"
   ]
  },
  {
   "cell_type": "markdown",
   "metadata": {},
   "source": [
    "### Plotly"
   ]
  },
  {
   "cell_type": "code",
   "execution_count": null,
   "metadata": {},
   "outputs": [],
   "source": [
    "df = px.data.wind()\n",
    "print(df.head())\n",
    "fig = px.line_polar(\n",
    "    df,\n",
    "    r=\"frequency\",\n",
    "    theta=\"direction\",\n",
    "    color=\"strength\",\n",
    "    line_close=True,\n",
    "    color_discrete_sequence=px.colors.sequential.Plasma_r,\n",
    "    template=\"plotly_dark\",\n",
    ")\n",
    "fig.show()"
   ]
  },
  {
   "cell_type": "markdown",
   "metadata": {},
   "source": [
    "## Wordcloud\n",
    "\n",
    "These should be used sparingly. Let's grab part of a famous text from Project Gutenberg:"
   ]
  },
  {
   "cell_type": "code",
   "execution_count": null,
   "metadata": {
    "tags": []
   },
   "outputs": [],
   "source": [
    "# To run this example, download smith_won.txt from\n",
    "# https://github.com/aeturrell/coding-for-economists/blob/main/data/smith_won.txt\n",
    "# and put it in a sub-folder called 'data\n",
    "\n",
    "book_text = open(Path(\"data\", \"smith_won.txt\"), \"r\").read()\n",
    "# Print some lines\n",
    "print(\"\\n\".join(book_text.split(os.linesep)[107:117]))"
   ]
  },
  {
   "cell_type": "code",
   "execution_count": null,
   "metadata": {},
   "outputs": [],
   "source": [
    "from wordcloud import WordCloud\n",
    "\n",
    "wordcloud = WordCloud(width=700, height=400).generate(book_text)\n",
    "fig, ax = plt.subplots(facecolor=\"k\")\n",
    "ax.imshow(wordcloud, interpolation=\"bilinear\")\n",
    "plt.axis(\"off\")\n",
    "plt.tight_layout();"
   ]
  },
  {
   "cell_type": "markdown",
   "metadata": {},
   "source": [
    "We can also create a 'mask' for the wordcloud to shape it how we like, here in the shape of a book."
   ]
  },
  {
   "cell_type": "code",
   "execution_count": null,
   "metadata": {},
   "outputs": [],
   "source": [
    "# To run this example, download book_mask.png from\n",
    "# https://github.com/aeturrell/coding-for-economists/raw/main/data/book_mask.png\n",
    "# and put it in a sub-folder called 'data\n",
    "from PIL import Image\n",
    "\n",
    "mask = np.array(Image.open(Path(\"data\", \"book_mask.png\")))\n",
    "wc = WordCloud(width=700, height=400, mask=mask, background_color=\"white\")\n",
    "wordcloud = wc.generate(book_text)\n",
    "fig, ax = plt.subplots(facecolor=\"white\")\n",
    "ax.imshow(wordcloud, interpolation=\"bilinear\")\n",
    "plt.axis(\"off\")\n",
    "plt.tight_layout();"
   ]
  },
  {
   "cell_type": "markdown",
   "metadata": {},
   "source": [
    "## Network diagrams\n",
    "\n",
    "### networkx\n",
    "\n",
    "The most well-established network visualisation package is [**networkx**](https://networkx.org/documentation/stable/index.html), which does a *lot* more than just visualisation. It has many different positioning options for rendering any given network, for instance in circular, spectral, spring, Fruchterman-Reingold, or other styles. In the below example, we use a **pandas** dataframe to specify the edges in two columns but there are various other ways to specify the network too, including ones that do not rely on **pandas**.\n",
    "\n",
    "The underlying plot is rendered with **matplotlib**, meaning that you can customise it further should you need to. You can pass an `Axes` object `ax` to `nx.draw` using `nx.draw(..., ax=ax)`."
   ]
  },
  {
   "cell_type": "code",
   "execution_count": null,
   "metadata": {},
   "outputs": [],
   "source": [
    "import networkx as nx\n",
    "\n",
    "df = pd.DataFrame(\n",
    "    {\n",
    "        \"source\": [\"A\", \"B\", \"C\", \"A\", \"E\", \"F\", \"E\", \"G\", \"G\", \"D\", \"F\"],\n",
    "        \"target\": [\"D\", \"A\", \"E\", \"C\", \"A\", \"F\", \"G\", \"D\", \"B\", \"G\", \"C\"],\n",
    "    }\n",
    ")\n",
    "G = nx.from_pandas_edgelist(df)\n",
    "nx.draw(G, with_labels=True, node_size=500, node_color=\"skyblue\")"
   ]
  },
  {
   "cell_type": "markdown",
   "metadata": {},
   "source": [
    "### Altair\n",
    "\n",
    "Thanks to [Juan Mateos Garcia](https://juan-mateos.github.io/), we have a way of doing this in **altair** too. (I highly recommend you [follow Juan](https://twitter.com/JMateosGarcia) on twitter for all things data science and innovation.)\n",
    "\n",
    "Now bear with me, because the code is going to be quite long as there's a bit of setting up to do. But once we have set up the functions they can be used again for arbitrary networks, ie the code is not specific to the network we're going to look at. Everything was written by Juan, and his original code can be found [here](https://gist.github.com/Juan-Mateos/e1e274652c6247bf2114a463b73bd2d7)."
   ]
  },
  {
   "cell_type": "code",
   "execution_count": null,
   "metadata": {},
   "outputs": [],
   "source": [
    "def node_layer(\n",
    "    node_df,\n",
    "    graph,\n",
    "    node_label_lookup,\n",
    "    node_label,\n",
    "    node_size,\n",
    "    node_color,\n",
    "    show_neighbours,\n",
    "):\n",
    "    \"\"\"Creates node_layer in the plot\"\"\"\n",
    "    node_chart = (\n",
    "        alt.Chart(node_df)\n",
    "        .mark_point(filled=True, stroke=\"black\", strokeWidth=0.5)\n",
    "        .encode(\n",
    "            x=alt.X(\"x\", axis=None), y=alt.Y(\"y\", axis=None), fillOpacity=alt.value(1)\n",
    "        )\n",
    "    )\n",
    "\n",
    "    if node_size in node_df.columns:\n",
    "        node_chart = node_chart.encode(\n",
    "            size=alt.Size(node_size, legend=alt.Legend(orient=\"bottom\"))\n",
    "        )\n",
    "\n",
    "    if node_color in node_df.columns:\n",
    "        node_chart = node_chart.encode(\n",
    "            color=alt.Color(\n",
    "                node_color,\n",
    "                legend=alt.Legend(columns=2),\n",
    "                scale=alt.Scale(scheme=\"Spectral\"),\n",
    "            )\n",
    "        )\n",
    "    if show_neighbours is True:\n",
    "        neighbors = {\n",
    "            node: \", \".join(\n",
    "                [str(node_label_lookup[n]) for n in nx.neighbors(graph, node)]\n",
    "            )\n",
    "            for node in graph.nodes()\n",
    "        }\n",
    "        node_df[\"neighbors\"] = node_df[\"node\"].map(neighbors)\n",
    "\n",
    "        node_chart = node_chart.encode(tooltip=[node_label, \"neighbors\"])\n",
    "    else:\n",
    "        node_chart = node_chart.encode(tooltip=[node_label])\n",
    "\n",
    "    return node_chart\n",
    "\n",
    "\n",
    "def calculate_edge_positions(graph, node_pos_lookup, edge_scale):\n",
    "    \"\"\"Calculates the positions of the edges\"\"\"\n",
    "    if len(nx.get_edge_attributes(graph, \"weight\")) > 0:\n",
    "        weighted = True\n",
    "        edges_df = pd.DataFrame(\n",
    "            [\n",
    "                {\"e1\": e[0], \"e2\": e[1], \"weight\": e[2][\"weight\"]}\n",
    "                for e in list(graph.edges(data=True))\n",
    "            ]\n",
    "        )\n",
    "    else:\n",
    "        weighted = False\n",
    "        edges_df = pd.DataFrame(\n",
    "            [\n",
    "                {\"e1\": e[0], \"e2\": e[1], \"weight\": 1}\n",
    "                for e in list(graph.edges(data=True))\n",
    "            ]\n",
    "        )\n",
    "\n",
    "    edge_pos_cont = []\n",
    "\n",
    "    for _id, r in edges_df.iterrows():\n",
    "        x1, y1 = [node_pos_lookup[r[\"e1\"]][n] for n in [0, 1]]\n",
    "        x2, y2 = [node_pos_lookup[r[\"e2\"]][n] for n in [0, 1]]\n",
    "        w = int(r[\"weight\"]) / edge_scale\n",
    "        edge_pos_cont.append(\n",
    "            pd.Series([x1, y1, x2, y2, w], index=[\"x1\", \"y1\", \"x2\", \"y2\", \"weight\"])\n",
    "        )\n",
    "\n",
    "    edges_pos_df = pd.DataFrame(edge_pos_cont)\n",
    "    return edges_pos_df, weighted\n",
    "\n",
    "\n",
    "def edge_layer(edges_pos_df, weighted, edge_opacity):\n",
    "    \"\"\"Creates edge layer in the plot\"\"\"\n",
    "    edge_chart = (\n",
    "        alt.Chart(edges_pos_df)\n",
    "        .mark_line()\n",
    "        .encode(x=\"x1\", x2=\"x2\", y=\"y1\", y2=\"y2\", strokeOpacity=alt.value(edge_opacity))\n",
    "    )\n",
    "    if weighted is True:\n",
    "        edge_chart = edge_chart.encode(\n",
    "            strokeWidth=alt.StrokeWidth(\"weight\", legend=alt.Legend(orient=\"bottom\"))\n",
    "        )\n",
    "    return edge_chart\n",
    "\n",
    "\n",
    "def plot_altair_network(\n",
    "    node_df,\n",
    "    graph,\n",
    "    node_label=None,\n",
    "    node_size=None,\n",
    "    node_color=None,\n",
    "    show_neighbours=True,\n",
    "    edge_scale=1,\n",
    "    edge_opacity=0.1,\n",
    "):\n",
    "    \"\"\"Plot a network graph with altair\n",
    "    Args:\n",
    "        node_df (df): dataframe where the rows are nodes and the\n",
    "        node_label (str): node label variable in node_df\n",
    "        node_size (str): node size variable in node_df\n",
    "        node_color (str): node color variable (this is a categorical variable)\n",
    "        columns are relevant variables including node position, node_label, node_size,node_color\n",
    "        graph (networkx graph): graph object generated with networkx that we use to extract edges & edgeWidths\n",
    "        show_neighbours (bool): if we want neighbours to be extracted and showed in a tooltip\n",
    "        edge_scale (float): scale for weight value\n",
    "        edge_opacity (float): weight opacity\n",
    "    \"\"\"\n",
    "\n",
    "    # Node chart\n",
    "    node_df_ = node_df.copy()\n",
    "\n",
    "    # Make node name - label lookup\n",
    "    node_label_lookup = node_df_.set_index(\"node\")[\"node_name\"].to_dict()\n",
    "    node_pos_lookup = {r[\"node\"]: (r[\"x\"], r[\"y\"]) for _id, r in node_df_.iterrows()}\n",
    "\n",
    "    # Plot nodes\n",
    "    node_plot = node_layer(\n",
    "        node_df_,\n",
    "        graph,\n",
    "        node_label_lookup,\n",
    "        node_label,\n",
    "        node_size,\n",
    "        node_color,\n",
    "        show_neighbours,\n",
    "    )\n",
    "    # Plot edges (after calculating their positions)\n",
    "    edge_positions, weighted = calculate_edge_positions(\n",
    "        graph, node_pos_lookup, edge_scale\n",
    "    )\n",
    "\n",
    "    edge_plot = edge_layer(edge_positions, weighted, edge_opacity)\n",
    "\n",
    "    # Combine plots\n",
    "\n",
    "    net_plot = (\n",
    "        (node_plot + edge_plot).configure_axis(grid=False).configure_view(strokeWidth=0)\n",
    "    )\n",
    "    return net_plot\n",
    "\n",
    "\n",
    "##########\n",
    "# Example\n",
    "##########\n",
    "\n",
    "# Read network\n",
    "m = nx.les_miserables_graph()\n",
    "\n",
    "# Extract node positions\n",
    "m_pos = nx.kamada_kawai_layout(m)\n",
    "\n",
    "# Create node df (inelegantly)\n",
    "node_df = (\n",
    "    pd.DataFrame(m_pos)\n",
    "    .T.rename(columns={0: \"x\", 1: \"y\"})\n",
    "    .reset_index(drop=False)\n",
    "    .rename(columns={\"index\": \"node\"})\n",
    "    .assign(node_name=lambda x: x[\"node\"])\n",
    ")\n",
    "\n",
    "# Plot\n",
    "plot_altair_network(\n",
    "    node_df,\n",
    "    node_label=\"node_name\",\n",
    "    node_size=None,\n",
    "    node_color=None,\n",
    "    graph=m,\n",
    "    show_neighbours=True,\n",
    ")"
   ]
  },
  {
   "cell_type": "markdown",
   "metadata": {},
   "source": [
    "## Ridge, or 'joy', plots\n",
    "\n",
    "These are famous from the front cover of “Unkown Pleasures” by Joy Division. Although **seaborn** [can be coaxed](https://seaborn.pydata.org/examples/kde_ridgeplot.html) into plotting ridge plots, by far the easiest way is via the [**joypy**](https://github.com/sbebo/joypy) package. These plots sometimes seem to prioritise form over function. In this case, let's look at an example where I think they do add value: showing the global increase in temperature.\n",
    "\n",
    "We'll use a summary of the daily land-surface average temperature anomaly produced by the Berkeley Earth averaging method. Temperatures are in Celsius and reported as anomalies relative to the Jan 1951-Dec 1980 average (the estimated Jan 1951-Dec 1980 land-average temperature is 8.63 +/- 0.06 C)."
   ]
  },
  {
   "cell_type": "code",
   "execution_count": null,
   "metadata": {},
   "outputs": [],
   "source": [
    "# To run this example, download the pickle file from\n",
    "# https://github.com/aeturrell/coding-for-economists/blob/main/data/berkeley_data.pkl\n",
    "# and put it in a sub-folder called 'data'\n",
    "df = pd.read_pickle(Path(\"data/berkeley_data.pkl\"))\n",
    "df.head()"
   ]
  },
  {
   "cell_type": "code",
   "execution_count": null,
   "metadata": {},
   "outputs": [],
   "source": [
    "import joypy\n",
    "from matplotlib import cm\n",
    "\n",
    "final_year = df[\"Year\"].max()\n",
    "first_year = df[\"Year\"].min()\n",
    "\n",
    "labels = [y if y % 10 == 0 else None for y in list(df.Year.unique())]\n",
    "fig, axes = joypy.joyplot(\n",
    "    df,\n",
    "    by=\"Year\",\n",
    "    column=\"Anomaly\",\n",
    "    labels=labels,\n",
    "    range_style=\"own\",\n",
    "    grid=\"y\",\n",
    "    linewidth=1,\n",
    "    legend=False,\n",
    "    title=f\"Global daily temperature anomaly {first_year}-{final_year} \\n(°C above 1951-80 average)\",\n",
    "    colormap=cm.inferno,\n",
    ")"
   ]
  },
  {
   "cell_type": "markdown",
   "metadata": {},
   "source": [
    "## Waterfall chart\n",
    "\n",
    "Waterfall charts are good for showing how different contributions combine to net out at a certain value. There's a package dedicated to them called [**waterfallcharts**](https://github.com/chrispaulca/waterfall). It builds on **matplotlib**. First, let's create some data:"
   ]
  },
  {
   "cell_type": "code",
   "execution_count": null,
   "metadata": {},
   "outputs": [],
   "source": [
    "a = [\"sales\", \"returns\", \"credit fees\", \"rebates\", \"late charges\", \"shipping\"]\n",
    "b = [10, -30, -7.5, -25, 95, -7]"
   ]
  },
  {
   "cell_type": "markdown",
   "metadata": {},
   "source": [
    "Now let's plot this data. Because the defaults of **waterfallcharts** don't play that nicely with the plot style used for this book, we'll temporarily switch back to the **matplotlib** default plot style using a *context* and `with` statement:"
   ]
  },
  {
   "cell_type": "code",
   "execution_count": null,
   "metadata": {},
   "outputs": [],
   "source": [
    "import waterfall_chart\n",
    "\n",
    "with plt.style.context(\"default\"):\n",
    "    plot = waterfall_chart.plot(a, b, sorted_value=True, rotation_value=0)"
   ]
  },
  {
   "cell_type": "markdown",
   "metadata": {},
   "source": [
    "### Plotly\n",
    "\n"
   ]
  },
  {
   "cell_type": "code",
   "execution_count": null,
   "metadata": {},
   "outputs": [],
   "source": [
    "import plotly.graph_objects as go\n",
    "\n",
    "px_b = b + [sum(b)]\n",
    "\n",
    "fig = go.Figure(\n",
    "    go.Waterfall(\n",
    "        name=\"20\",\n",
    "        orientation=\"v\",\n",
    "        measure=[\"relative\"] * len(a) + [\"total\"],\n",
    "        x=a + [\"net\"],\n",
    "        textposition=\"outside\",\n",
    "        text=[str(x) for x in b] + [\"net\"],\n",
    "        y=px_b,\n",
    "        connector={\"line\": {\"color\": \"rgb(63, 63, 63)\"}},\n",
    "    )\n",
    ")\n",
    "\n",
    "fig.show()"
   ]
  },
  {
   "cell_type": "markdown",
   "metadata": {},
   "source": [
    "## Venn\n",
    "\n",
    "Venn diagrams show the overlap between groups. As with some of these other, more unsual chart types, there's a special package that produces these and which builds on **matplotlib**."
   ]
  },
  {
   "cell_type": "code",
   "execution_count": null,
   "metadata": {},
   "outputs": [],
   "source": [
    "from matplotlib_venn import venn2\n",
    "\n",
    "venn2(subsets=(10, 5, 2), set_labels=(\"Group A\", \"Group B\"), alpha=0.5)\n",
    "plt.show()"
   ]
  },
  {
   "cell_type": "markdown",
   "metadata": {},
   "source": [
    "## Priestly Timeline\n",
    "\n",
    "This displays a timeline of start and end events in time, and their overlap."
   ]
  },
  {
   "cell_type": "code",
   "execution_count": null,
   "metadata": {},
   "outputs": [],
   "source": [
    "df = (\n",
    "    pd.read_csv(\n",
    "        \"https://github.com/aeturrell/coding-for-economists/raw/main/data/priestley-timeline.csv\"\n",
    "    )\n",
    "    .melt(id_vars=\"Name\", value_name=\"Date\")\n",
    "    .assign(Date=lambda x: pd.to_datetime(x[\"Date\"]))\n",
    ")\n",
    "df"
   ]
  },
  {
   "cell_type": "markdown",
   "metadata": {},
   "source": [
    "### Plotnine\n",
    "\n",
    "This example is from [**viztech**](https://github.com/cstorm125/viztech). It relies on an extra package for axes scaling and formatting called [**mizani**](https://mizani.readthedocs.io/en/stable/index.html).\n",
    "\n"
   ]
  },
  {
   "cell_type": "code",
   "execution_count": null,
   "metadata": {},
   "outputs": [],
   "source": [
    "from mizani.breaks import date_breaks\n",
    "from mizani.formatters import date_format\n",
    "\n",
    "g = (\n",
    "    ggplot(df, aes(x=\"Name\", y=\"Date\", group=\"Name\"))\n",
    "    + geom_line(size=10, color=\"green\")\n",
    "    + coord_flip()\n",
    "    + geom_text(\n",
    "        aes(x=\"Name\", y=\"Date\", label=\"Name\"),\n",
    "        data=df[df.variable == \"Born\"],\n",
    "        nudge_y=6500,\n",
    "        color=\"white\",\n",
    "    )\n",
    "    + scale_y_date(breaks=date_breaks(\"20 years\"), labels=date_format(\"%Y\"))\n",
    "    + theme(axis_text_y=element_blank())\n",
    ")\n",
    "g"
   ]
  },
  {
   "cell_type": "markdown",
   "metadata": {},
   "source": [
    "## Waffle, isotype, or pictogram charts\n",
    "\n",
    "These are great for showing easily-understandable magnitudes."
   ]
  },
  {
   "cell_type": "markdown",
   "metadata": {},
   "source": [
    "### Matplotlib\n",
    "\n",
    "There is a package called [**pywaffle**](https://github.com/gyli/PyWaffle) that provides a convenient way of doing this. It expects a dictionary of values. Note that the icon can be changed and, because it builds on **matplotlib**, you can tweak to your heart's content."
   ]
  },
  {
   "cell_type": "code",
   "execution_count": null,
   "metadata": {},
   "outputs": [],
   "source": [
    "from pywaffle import Waffle\n",
    "\n",
    "data = {\"Democratic\": 48, \"Republican\": 46, \"Libertarian\": 3}\n",
    "fig = plt.figure(\n",
    "    FigureClass=Waffle,\n",
    "    rows=5,\n",
    "    values=data,\n",
    "    colors=[\"#232066\", \"#983D3D\", \"#DCB732\"],\n",
    "    legend={\"loc\": \"upper left\", \"bbox_to_anchor\": (1, 1)},\n",
    "    icons=\"child\",\n",
    "    font_size=12,\n",
    "    icon_legend=True,\n",
    ")\n",
    "plt.show()"
   ]
  },
  {
   "cell_type": "markdown",
   "metadata": {},
   "source": [
    "### Plotnine\n",
    "\n",
    "As ever, plotnine prefers tidy format data. The **plotnine** example comes from **viztech**. We'll create a mini dataset just to demonstrate its use:"
   ]
  },
  {
   "cell_type": "code",
   "execution_count": null,
   "metadata": {},
   "outputs": [],
   "source": [
    "import itertools\n",
    "\n",
    "df = pd.DataFrame(list(itertools.product(range(10), range(10))), columns=[\"x\", \"y\"])\n",
    "df[\"filled\"] = 0\n",
    "df.iloc[:32, 2] = 1\n",
    "df.head()"
   ]
  },
  {
   "cell_type": "code",
   "execution_count": null,
   "metadata": {},
   "outputs": [],
   "source": [
    "g = (\n",
    "    ggplot(df, aes(x=\"x\", y=\"y\", fill=\"factor(filled)\"))\n",
    "    + geom_tile(alpha=0.5, color=\"black\")\n",
    "    + guides(fill=False)\n",
    "    + scale_fill_manual([\"grey\", \"blue\"])\n",
    "    + theme_void()\n",
    "    + coord_flip()\n",
    "    + geom_text(x=5, y=5, label=f\"{int(100*df.filled.mean())}%\", size=30, color=\"white\")\n",
    "    + theme(axis_text=element_blank())\n",
    "    + xlab(\"\")\n",
    "    + ylab(\"\")\n",
    ")\n",
    "g"
   ]
  },
  {
   "cell_type": "markdown",
   "metadata": {},
   "source": [
    "## Pyramid\n",
    "\n"
   ]
  },
  {
   "cell_type": "code",
   "execution_count": null,
   "metadata": {},
   "outputs": [],
   "source": [
    "df = pd.read_csv(\n",
    "    \"https://raw.githubusercontent.com/selva86/datasets/master/email_campaign_funnel.csv\"\n",
    ")\n",
    "df.head()"
   ]
  },
  {
   "cell_type": "markdown",
   "metadata": {},
   "source": [
    "### Matplotlib/Seaborn"
   ]
  },
  {
   "cell_type": "code",
   "execution_count": null,
   "metadata": {},
   "outputs": [],
   "source": [
    "fig, ax = plt.subplots()\n",
    "group_col = \"Gender\"\n",
    "order_of_bars = df.Stage.unique()[::-1]\n",
    "colors = [\n",
    "    plt.cm.Spectral(i / float(len(df[group_col].unique()) - 1))\n",
    "    for i in range(len(df[group_col].unique()))\n",
    "]\n",
    "\n",
    "for c, group in zip(colors, df[group_col].unique()):\n",
    "    sns.barplot(\n",
    "        x=\"Users\",\n",
    "        y=\"Stage\",\n",
    "        data=df.loc[df[group_col] == group, :],\n",
    "        order=order_of_bars,\n",
    "        color=c,\n",
    "        label=group,\n",
    "        ax=ax,\n",
    "        lw=0,\n",
    "    )\n",
    "\n",
    "divisor = 1e6\n",
    "ax.set_xticklabels([str(abs(x) / divisor) for x in ax.get_xticks()])\n",
    "plt.xlabel(\"Users (millions)\")\n",
    "plt.ylabel(\"Stage of Purchase\")\n",
    "plt.yticks(fontsize=12)\n",
    "plt.title(\"Population Pyramid of the Marketing Funnel\", fontsize=22)\n",
    "plt.legend(frameon=False)\n",
    "plt.show()"
   ]
  },
  {
   "cell_type": "markdown",
   "metadata": {},
   "source": [
    "### Plotnine"
   ]
  },
  {
   "cell_type": "code",
   "execution_count": null,
   "metadata": {},
   "outputs": [],
   "source": [
    "g = (\n",
    "    ggplot(df, aes(x=\"Stage\", y=\"Users\", fill=\"Gender\"))\n",
    "    + geom_col(width=0.8)  # baseplot\n",
    "    + coord_flip()  # type of plot\n",
    "    + theme_minimal()  # flip coordinates\n",
    "    + scale_y_continuous(  # theme\n",
    "        labels=lambda x: [i / 1e6 if i >= 0 else -i / 1e6 for i in x]\n",
    "    )\n",
    "    + ylab(\"Users (millions)\")\n",
    ")\n",
    "g"
   ]
  },
  {
   "cell_type": "markdown",
   "metadata": {},
   "source": [
    "### Plotly"
   ]
  },
  {
   "cell_type": "code",
   "execution_count": null,
   "metadata": {},
   "outputs": [],
   "source": [
    "fig = px.funnel(df, y=\"Stage\", x=\"Users\")\n",
    "fig.show()"
   ]
  },
  {
   "cell_type": "markdown",
   "metadata": {},
   "source": [
    "## Sankey diagram\n",
    "\n",
    "Sankey diagrams show how a flow breaks into pieces."
   ]
  },
  {
   "cell_type": "markdown",
   "metadata": {},
   "source": [
    "### Plotly"
   ]
  },
  {
   "cell_type": "code",
   "execution_count": null,
   "metadata": {},
   "outputs": [],
   "source": [
    "import plotly.graph_objects as go\n",
    "\n",
    "labels = [\"A1\", \"A2\", \"B1\", \"B2\", \"C1\", \"C2\"]\n",
    "\n",
    "fig = go.Figure(\n",
    "    data=[\n",
    "        go.Sankey(\n",
    "            node=dict(\n",
    "                pad=15,\n",
    "                thickness=20,\n",
    "                line=dict(color=\"black\", width=0.5),\n",
    "                label=labels,\n",
    "                color=px.colors.qualitative.Plotly[: len(labels)],\n",
    "            ),\n",
    "            # indices correspond to labels, eg A1, A2, A1, B1, ...\n",
    "            link=dict(\n",
    "                source=[0, 1, 0, 2, 3, 3, 2],\n",
    "                target=[2, 3, 3, 4, 4, 5, 5],\n",
    "                value=[7, 3, 2, 6, 4, 2, 1],\n",
    "            ),\n",
    "        )\n",
    "    ]\n",
    ")\n",
    "\n",
    "fig.update_layout(title_text=\"Basic Sankey Diagram\", font_size=10)\n",
    "fig.show()"
   ]
  },
  {
   "cell_type": "markdown",
   "metadata": {},
   "source": [
    "## Dendrogram or hierarchical clustering\n",
    "\n"
   ]
  },
  {
   "cell_type": "markdown",
   "metadata": {},
   "source": [
    "### Seaborn\n",
    "\n"
   ]
  },
  {
   "cell_type": "code",
   "execution_count": null,
   "metadata": {},
   "outputs": [],
   "source": [
    "# Data\n",
    "df = (\n",
    "    pd.read_csv(\n",
    "        \"https://vincentarelbundock.github.io/Rdatasets/csv/datasets/mtcars.csv\"\n",
    "    )\n",
    "    .rename(columns={\"Unnamed: 0\": \"Model\"})\n",
    "    .set_index(\"Model\")\n",
    ")\n",
    "# Plot\n",
    "sns.clustermap(df, metric=\"correlation\", method=\"single\", standard_scale=1, cmap=\"vlag\");"
   ]
  },
  {
   "cell_type": "markdown",
   "metadata": {},
   "source": [
    "## Treemap\n"
   ]
  },
  {
   "cell_type": "markdown",
   "metadata": {},
   "source": [
    "### Plotly\n"
   ]
  },
  {
   "cell_type": "code",
   "execution_count": null,
   "metadata": {},
   "outputs": [],
   "source": [
    "import plotly.express as px\n",
    "import numpy as np\n",
    "\n",
    "df = px.data.gapminder().query(\"year == 2007\")\n",
    "fig = px.treemap(\n",
    "    df,\n",
    "    path=[px.Constant(\"world\"), \"continent\", \"country\"],\n",
    "    values=\"pop\",\n",
    "    color=\"lifeExp\",\n",
    "    hover_data=[\"iso_alpha\"],\n",
    "    color_continuous_scale=\"RdBu\",\n",
    "    color_continuous_midpoint=np.average(df[\"lifeExp\"], weights=df[\"pop\"]),\n",
    ")\n",
    "fig.update_layout(margin=dict(t=50, l=25, r=25, b=25))\n",
    "fig.show()"
   ]
  }
 ],
 "metadata": {
  "celltoolbar": "Tags",
  "kernelspec": {
   "display_name": "Python 3.8.12 ('codeforecon')",
   "language": "python",
   "name": "python3"
  },
  "language_info": {
   "codemirror_mode": {
    "name": "ipython",
    "version": 3
   },
   "file_extension": ".py",
   "mimetype": "text/x-python",
   "name": "python",
   "nbconvert_exporter": "python",
   "pygments_lexer": "ipython3",
   "version": "3.8.13"
  },
  "vscode": {
   "interpreter": {
    "hash": "c4570b151692b3082981c89d172815ada9960dee4eb0bedb37dc10c95601d3bd"
   }
  }
 },
 "nbformat": 4,
 "nbformat_minor": 4
}
